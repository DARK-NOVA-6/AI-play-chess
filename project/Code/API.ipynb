{
 "cells": [
  {
   "cell_type": "markdown",
   "metadata": {
    "id": "AyRODdF9Iy8y"
   },
   "source": [
    "# Getting the Environment Ready"
   ]
  },
  {
   "cell_type": "markdown",
   "metadata": {
    "id": "YzHM8MiXH9No"
   },
   "source": [
    "## Installation"
   ]
  },
  {
   "cell_type": "code",
   "execution_count": 1,
   "metadata": {
    "colab": {
     "base_uri": "https://localhost:8080/"
    },
    "id": "hbmJ7wSgzjRw",
    "outputId": "49cbcd19-fef0-4c2a-b625-6f3c3d436d14"
   },
   "outputs": [
    {
     "name": "stdout",
     "output_type": "stream",
     "text": [
      "Requirement already satisfied: python-chess in c:\\users\\ahmad_alkattan\\anaconda3\\lib\\site-packages (1.999)\n",
      "Requirement already satisfied: chess<2,>=1 in c:\\users\\ahmad_alkattan\\anaconda3\\lib\\site-packages (from python-chess) (1.9.4)\n",
      "Note: you may need to restart the kernel to use updated packages.\n",
      "Requirement already satisfied: svglib in c:\\users\\ahmad_alkattan\\anaconda3\\lib\\site-packages (1.5.1)\n",
      "Requirement already satisfied: lxml in c:\\users\\ahmad_alkattan\\anaconda3\\lib\\site-packages (from svglib) (4.9.2)\n",
      "Requirement already satisfied: reportlab in c:\\users\\ahmad_alkattan\\anaconda3\\lib\\site-packages (from svglib) (4.0.4)\n",
      "Requirement already satisfied: cssselect2>=0.2.0 in c:\\users\\ahmad_alkattan\\anaconda3\\lib\\site-packages (from svglib) (0.7.0)\n",
      "Requirement already satisfied: tinycss2>=0.6.0 in c:\\users\\ahmad_alkattan\\anaconda3\\lib\\site-packages (from svglib) (1.2.1)\n",
      "Requirement already satisfied: webencodings in c:\\users\\ahmad_alkattan\\anaconda3\\lib\\site-packages (from cssselect2>=0.2.0->svglib) (0.5.1)\n",
      "Requirement already satisfied: pillow>=9.0.0 in c:\\users\\ahmad_alkattan\\anaconda3\\lib\\site-packages (from reportlab->svglib) (9.4.0)\n",
      "Note: you may need to restart the kernel to use updated packages.\n",
      "Requirement already satisfied: cairosvg in c:\\users\\ahmad_alkattan\\anaconda3\\lib\\site-packages (2.7.0)\n",
      "Requirement already satisfied: cssselect2 in c:\\users\\ahmad_alkattan\\anaconda3\\lib\\site-packages (from cairosvg) (0.7.0)\n",
      "Requirement already satisfied: cairocffi in c:\\users\\ahmad_alkattan\\anaconda3\\lib\\site-packages (from cairosvg) (1.6.1)\n",
      "Requirement already satisfied: pillow in c:\\users\\ahmad_alkattan\\anaconda3\\lib\\site-packages (from cairosvg) (9.4.0)\n",
      "Requirement already satisfied: defusedxml in c:\\users\\ahmad_alkattan\\anaconda3\\lib\\site-packages (from cairosvg) (0.7.1)\n",
      "Requirement already satisfied: tinycss2 in c:\\users\\ahmad_alkattan\\anaconda3\\lib\\site-packages (from cairosvg) (1.2.1)\n",
      "Requirement already satisfied: cffi>=1.1.0 in c:\\users\\ahmad_alkattan\\anaconda3\\lib\\site-packages (from cairocffi->cairosvg) (1.15.1)\n",
      "Requirement already satisfied: webencodings in c:\\users\\ahmad_alkattan\\anaconda3\\lib\\site-packages (from cssselect2->cairosvg) (0.5.1)\n",
      "Requirement already satisfied: pycparser in c:\\users\\ahmad_alkattan\\anaconda3\\lib\\site-packages (from cffi>=1.1.0->cairocffi->cairosvg) (2.21)\n",
      "Note: you may need to restart the kernel to use updated packages.\n",
      "Requirement already satisfied: pdf2image in c:\\users\\ahmad_alkattan\\anaconda3\\lib\\site-packages (1.16.3)\n",
      "Requirement already satisfied: pillow in c:\\users\\ahmad_alkattan\\anaconda3\\lib\\site-packages (from pdf2image) (9.4.0)\n",
      "Note: you may need to restart the kernel to use updated packages.\n"
     ]
    }
   ],
   "source": [
    "%pip install python-chess\n",
    "%pip install svglib\n",
    "%pip install cairosvg\n",
    "%pip install pdf2image\n",
    "\n",
    "# !apt-get install poppler-utils"
   ]
  },
  {
   "cell_type": "markdown",
   "metadata": {
    "id": "GMPamLxTIHMf"
   },
   "source": [
    "## importing Packages"
   ]
  },
  {
   "cell_type": "code",
   "execution_count": 1,
   "metadata": {
    "id": "c9GggA3JzEXF"
   },
   "outputs": [],
   "source": [
    "import re\n",
    "import os\n",
    "import chess\n",
    "import pickle\n",
    "import sklearn\n",
    "import imageio\n",
    "import datetime\n",
    "# import cairosvg\n",
    "\n",
    "import numpy as np\n",
    "import pandas as pd\n",
    "import seaborn as sns\n",
    "import chess.pgn as pgn\n",
    "import matplotlib.pyplot as plt\n",
    "\n",
    "from time import sleep\n",
    "from sklearn import metrics\n",
    "from svglib.svglib import svg2rlg\n",
    "from reportlab.graphics import renderPM\n",
    "from pdf2image import convert_from_path\n",
    "from IPython.display import display, HTML, clear_output\n",
    "\n",
    "import tensorflow as tf\n",
    "from tensorflow import keras\n",
    "from tensorflow.keras.models import load_model\n",
    "from tensorflow.keras.models import Sequential\n",
    "from tensorflow.keras.callbacks import EarlyStopping\n",
    "from tensorflow.keras.initializers import RandomNormal\n",
    "from tensorflow.keras.preprocessing.image import ImageDataGenerator\n",
    "from tensorflow.keras.layers import Conv2D, MaxPooling2D, Flatten, Dropout, Dense\n",
    "\n",
    "# from sklearn.model_selection import train_test_split"
   ]
  },
  {
   "cell_type": "markdown",
   "metadata": {
    "id": "3SeXgaiyJAzP"
   },
   "source": [
    "## Define"
   ]
  },
  {
   "cell_type": "code",
   "execution_count": 2,
   "metadata": {
    "id": "mmE3Juwj-Yk2"
   },
   "outputs": [],
   "source": [
    "loading_data = False\n",
    "training_models = False\n",
    "BOARD_SIZE = (8, 8, 6)\n",
    "PIECE_TO_INDEX = {'P': 0, 'R': 1, 'N': 2, 'B': 3, 'Q': 4, 'K': 5}\n",
    "CHESSY_TO_Y = {'a': 0, 'b': 1, 'c': 2, 'd': 3, 'e': 4, 'f': 5, 'g': 6, 'h': 7}\n",
    "INDEX_TO_PIECE = {0: 'P', 1: 'R', 2: 'N', 3: 'B', 4: 'Q', 5: 'K'}\n",
    "Y_TO_CHESSY = {0: 'a', 1: 'b', 2: 'c', 3: 'd', 4: 'e', 5: 'f', 6: 'g', 7: 'h'}\n",
    "ARRAY_PIECE = ['P','R','Q','K','B','N']\n",
    "BOOLEAN_PIECE = {'P': False, 'R': False, 'Q': False,\n",
    "                 'K': False, 'B': False,'N': False}\n",
    "PIECE_TO_WORD = {'P': 'Pawn', 'Q': 'Queen', 'K': 'King',\n",
    "                 'N': 'Knight', 'R': 'Rook', 'B': 'Bishop'}"
   ]
  },
  {
   "cell_type": "code",
   "execution_count": 3,
   "metadata": {
    "colab": {
     "base_uri": "https://localhost:8080/"
    },
    "id": "7NnFAl2F1gKi",
    "outputId": "0ab1fa34-ebbb-45db-9724-cf618b2220ee"
   },
   "outputs": [],
   "source": [
    "# from google.colab import drive\n",
    "# drive.mount('/content/drive')"
   ]
  },
  {
   "cell_type": "markdown",
   "metadata": {
    "id": "95qfeKhT-vMY"
   },
   "source": [
    "# Helper Functions\n"
   ]
  },
  {
   "cell_type": "code",
   "execution_count": 4,
   "metadata": {
    "id": "D3rXADh8-UnI"
   },
   "outputs": [],
   "source": [
    "def initialize_board():\n",
    "    board = np.zeros(BOARD_SIZE)\n",
    "    pattern = ['R', 'N', 'B', 'Q', 'K', 'B', 'N', 'R']\n",
    "\n",
    "    # Putting the black non-pawn pieces\n",
    "    for index, piece in enumerate(pattern):\n",
    "        board[0, index, PIECE_TO_INDEX[piece]] = -1\n",
    "\n",
    "    # Putting the black pawns\n",
    "    board[1, :, PIECE_TO_INDEX['P']] = -1\n",
    "\n",
    "    # Putting the white non-pawn pieces\n",
    "    for index, piece in enumerate(pattern):\n",
    "        board[BOARD_SIZE[0] - 1, index, PIECE_TO_INDEX[piece]] = 1\n",
    "\n",
    "    # Putting the white pawns\n",
    "    board[BOARD_SIZE[0] - 2, :, PIECE_TO_INDEX['P']] = 1\n",
    "\n",
    "    return board"
   ]
  },
  {
   "cell_type": "code",
   "execution_count": 5,
   "metadata": {
    "id": "0WJ-iZ4g_Z1g"
   },
   "outputs": [],
   "source": [
    "def convert_bitboard_to_image(board):\n",
    "    im2d = np.array(list(str(board).replace('\\n', '').replace(' ', ''))).reshape((8, 8))\n",
    "    im = np.zeros(BOARD_SIZE)\n",
    "\n",
    "    for i in range(BOARD_SIZE[0]):\n",
    "        for j in range(BOARD_SIZE[1]):\n",
    "            piece = im2d[i, j]\n",
    "            if piece == '.': continue\n",
    "            if piece.isupper():\n",
    "                im[i, j, PIECE_TO_INDEX[piece.upper()]] = 1\n",
    "            else:\n",
    "                im[i, j, PIECE_TO_INDEX[piece.upper()]] = -1\n",
    "\n",
    "    return im\n",
    "\n",
    "\n",
    "def convert_image_to_bitboard(im):\n",
    "    board = chess.Board()\n",
    "    board.clear()\n",
    "    for i in range(BOARD_SIZE[0]):\n",
    "        for j in range(BOARD_SIZE[1]):\n",
    "            index_piece = np.where(im[(i, j)] != 0)\n",
    "            index_piece = index_piece[0]\n",
    "            new_coords = flatten_coord2d((7 - i, j))\n",
    "            if index_piece.shape != (0,):\n",
    "                piece = INDEX_TO_PIECE[index_piece[0]]\n",
    "                if im[(i, j, index_piece[0])] == -1:\n",
    "                    piece = piece.lower()\n",
    "                board.set_piece_at(new_coords, chess.Piece.from_symbol(piece))\n",
    "\n",
    "    return board"
   ]
  },
  {
   "cell_type": "code",
   "execution_count": 6,
   "metadata": {
    "id": "L6dRj_rq_mkn"
   },
   "outputs": [],
   "source": [
    "def flatten_coord2d(coord2d):\n",
    "    return (8 * coord2d[0]) + coord2d[1]"
   ]
  },
  {
   "cell_type": "code",
   "execution_count": 7,
   "metadata": {
    "id": "ICOpw2t3_eEe"
   },
   "outputs": [],
   "source": [
    "def flip_image(im):\n",
    "    return im[::-1, :, :]\n",
    "\n",
    "\n",
    "def flip_color(im):\n",
    "    indices_white = np.where(im == 1)\n",
    "    indices_black = np.where(im == -1)\n",
    "    im[indices_white] = -1\n",
    "    im[indices_black] = 1\n",
    "    return im\n",
    "\n",
    "\n",
    "def flip_coord2d(coord2d):\n",
    "    return 8 - coord2d[0] - 1, coord2d[1]"
   ]
  },
  {
   "cell_type": "code",
   "execution_count": 8,
   "metadata": {
    "id": "ZPFoJfM5_hpW"
   },
   "outputs": [],
   "source": [
    "def coord2d_to_chess_coord(coord2d):\n",
    "    chess_coord = Y_TO_CHESSY[coord2d[1]] + str(8 - coord2d[0])\n",
    "    return chess_coord\n",
    "\n",
    "\n",
    "def chess_coord_to_coord2d(chess_coord):\n",
    "    return 8 - int(chess_coord[1]), CHESSY_TO_Y[chess_coord[0]]"
   ]
  },
  {
   "cell_type": "code",
   "execution_count": 9,
   "metadata": {
    "id": "pGGp_3Tz_py-"
   },
   "outputs": [],
   "source": [
    "def clip_pieces(prob_dists, ims):\n",
    "    mask = ims > 0\n",
    "    rotated_mask = np.rollaxis(mask, 3, 1)  # Convert to form (num_samples, C, H, W)\n",
    "\n",
    "    or_channels = np.any(rotated_mask, axis=1)\n",
    "    filter = or_channels.reshape(or_channels.shape[0], 64)\n",
    "\n",
    "    prob_dists_filtered = prob_dists * filter\n",
    "    return prob_dists_filtered\n",
    "\n",
    "\n",
    "def clip_move(prob_dist, im, coord, piece_type=None, castle_rights={'Q':False,'K':False}):\n",
    "    board = convert_image_to_bitboard(im)\n",
    "  \n",
    "    if castle_rights['K']:\n",
    "      board.castling_rights |= chess.BB_A1  \n",
    "  \n",
    "    if castle_rights['Q']:\n",
    "      board.castling_rights |= chess.BB_H1  \n",
    "\n",
    "    piece_coord = coord2d_to_chess_coord(coord)\n",
    "    for i in range(BOARD_SIZE[0]):\n",
    "        for j in range(BOARD_SIZE[1]):\n",
    "            to_coord = coord2d_to_chess_coord((i, j))\n",
    "            if piece_coord == to_coord:\n",
    "                prob_dist[i * 8 + j] = 0\n",
    "                continue\n",
    "            uci_move = piece_coord + to_coord\n",
    "\n",
    "            if piece_type == 'P':\n",
    "                if uci_move[3:] == '8':\n",
    "                    uci_move += 'q'\n",
    "\n",
    "            if chess.Move.from_uci(uci_move) not in board.legal_moves:\n",
    "                prob_dist[i * 8 + j] = 0\n",
    "\n",
    "    return prob_dist"
   ]
  },
  {
   "cell_type": "code",
   "execution_count": 10,
   "metadata": {
    "id": "LSDXQ61a-uN5"
   },
   "outputs": [],
   "source": [
    "def load_pgn_games(file_name, num_games, flag):\n",
    "    games = []\n",
    "    pgn_file = open(file_name)\n",
    "    for _ in range(num_games):\n",
    "        game = pgn.read_game(pgn_file)\n",
    "        if game is None:\n",
    "            break\n",
    "        if flag:\n",
    "            games.append(game)\n",
    "    if flag:\n",
    "        pgn_file.close()\n",
    "        return games\n",
    "\n",
    "    # Read the second num_games\n",
    "    for _ in range(num_games):\n",
    "        game = pgn.read_game(pgn_file)\n",
    "        if game is None:\n",
    "            break\n",
    "        games.append(game)\n",
    "\n",
    "    pgn_file.close()\n",
    "    return games"
   ]
  },
  {
   "cell_type": "markdown",
   "metadata": {
    "id": "ZZj9158lA3rg"
   },
   "source": [
    "## Helper functions"
   ]
  },
  {
   "cell_type": "code",
   "execution_count": 12,
   "metadata": {
    "id": "fE4R73ZJASl_"
   },
   "outputs": [],
   "source": [
    "pgn_file_path = \"Chess_data/pgn_files/\"\n",
    "gif_file_path = \"Chess_data/games_gif/\"\n",
    "model_path = \"G:/My Drive/Chess_data/models/\"\n",
    "temp_path = \"output_images/\""
   ]
  },
  {
   "cell_type": "code",
   "execution_count": 13,
   "metadata": {
    "id": "hcl7FJ-F6AQ4"
   },
   "outputs": [],
   "source": [
    "def display_board(board, use_svg):\n",
    "    if use_svg:\n",
    "        return board._repr_svg_()\n",
    "    else:\n",
    "        return \"<pre>\" + str(board) + \"</pre>\""
   ]
  },
  {
   "cell_type": "code",
   "execution_count": 14,
   "metadata": {
    "id": "rfgzynq36ETp"
   },
   "outputs": [],
   "source": [
    "def generate_pgn_file(moves, filename):\n",
    "    game = chess.pgn.Game()\n",
    "    board = chess.Board()\n",
    "    game.setup(board)\n",
    "\n",
    "    for move in moves:\n",
    "        board.push(move)\n",
    "\n",
    "    node = game\n",
    "    for move in board.move_stack:\n",
    "        node = node.add_variation(move)\n",
    "\n",
    "    with open(filename, \"a\"):\n",
    "        os.utime(filename, None)\n",
    "        \n",
    "    with open(filename, \"w\") as pgn_file:\n",
    "        pgn_file.write(str(game))"
   ]
  },
  {
   "cell_type": "code",
   "execution_count": 15,
   "metadata": {
    "id": "nsRPhrNr6H0Y"
   },
   "outputs": [],
   "source": [
    "def save_svg(svg, filepath):\n",
    "    try:\n",
    "        file_handle = open(filepath, 'w')\n",
    "    except IOError as e:\n",
    "        print(str(e))\n",
    "        exit(1)\n",
    "\n",
    "    file_handle.write(svg)\n",
    "    file_handle.close()\n",
    "\n",
    "if not os.path.exists(temp_path):\n",
    "    os.makedirs(temp_path)"
   ]
  },
  {
   "cell_type": "code",
   "execution_count": 16,
   "metadata": {
    "id": "CyT0Z0UY_bq4"
   },
   "outputs": [],
   "source": [
    "def convert_all(PATH):\n",
    "    images = []\n",
    "    for file_name in sorted(os.listdir(PATH)):\n",
    "        if file_name.endswith('.svg'):\n",
    "            file_path = os.path.join(PATH, file_name)\n",
    "            convert_svg_to_pdf(file_path)\n",
    "            pdf_name = file_path[:-3]+\"pdf\"\n",
    "            convert_pdf_to_png(pdf_name)\n",
    "    print(\"Finished converting all files to png\")\n",
    "\n",
    "\n",
    "def convert_svg_to_pdf(input_file):\n",
    "    cairosvg.svg2pdf(url=input_file, write_to=input_file[:-3]+\"pdf\")\n",
    "\n",
    "\n",
    "def convert_pdf_to_png(pdf_path):\n",
    "    images = convert_from_path(pdf_path)\n",
    "    for index, image in enumerate(images):\n",
    "        image.save(pdf_path[:-3]+\"png\")"
   ]
  },
  {
   "cell_type": "markdown",
   "metadata": {},
   "source": [
    "# Run API"
   ]
  },
  {
   "cell_type": "code",
   "execution_count": 17,
   "metadata": {},
   "outputs": [],
   "source": [
    "def load_piece_model(piece_label):\n",
    "    PATH = model_path + \"chess_model_CNN_\" + piece_label + \".h5\"\n",
    "    loaded_model = load_model(PATH, compile=False)\n",
    "    return loaded_model\n",
    "model_path = \"G:/My Drive/Chess_data/models/\""
   ]
  },
  {
   "cell_type": "code",
   "execution_count": 18,
   "metadata": {},
   "outputs": [],
   "source": [
    "base_model1 = load_piece_model('' + \"BASE\" + '2')\n",
    "move_models1 = {}\n",
    "for piece in ARRAY_PIECE:\n",
    "    move_models1[piece] = load_piece_model('' + PIECE_TO_WORD[piece] + '2')\n",
    "\n",
    "model_no_tune = {'base_model':base_model1, 'move_models':move_models1}"
   ]
  },
  {
   "cell_type": "code",
   "execution_count": 19,
   "metadata": {},
   "outputs": [],
   "source": [
    "base_model2 = load_piece_model('after_puzzles_' + \"BASE\" + '2')\n",
    "move_models2 = {}\n",
    "for piece in ARRAY_PIECE:\n",
    "    move_models2[piece] = load_piece_model('after_puzzles_' + PIECE_TO_WORD[piece] + '2')\n",
    "\n",
    "model_with_tune = {'base_model':base_model2, 'move_models':move_models2}"
   ]
  },
  {
   "cell_type": "code",
   "execution_count": 20,
   "metadata": {},
   "outputs": [],
   "source": [
    "base_model3 = load_piece_model('after_puzzles_freeze_' + \"BASE\" + '2')\n",
    "move_models3 = {}\n",
    "for piece in ARRAY_PIECE:\n",
    "    move_models3[piece] = load_piece_model('after_puzzles_freeze_' + PIECE_TO_WORD[piece] + '2')\n",
    "\n",
    "model_with_freeze = {'base_model':base_model3, 'move_models':move_models3}"
   ]
  },
  {
   "cell_type": "code",
   "execution_count": 21,
   "metadata": {},
   "outputs": [],
   "source": [
    "models = {'tune':model_with_tune, 'no_tune':model_no_tune, 'freeze':model_with_freeze}"
   ]
  },
  {
   "cell_type": "code",
   "execution_count": 22,
   "metadata": {},
   "outputs": [],
   "source": [
    "def predict_k_move(board, model_name, k, k_from):\n",
    "    if board.turn:\n",
    "      im = convert_bitboard_to_image(board)\n",
    "    else:\n",
    "      im = flip_image(convert_bitboard_to_image(board))\n",
    "      im = flip_color(im)\n",
    "\n",
    "    img = im.reshape(1, 8, 8, 6)\n",
    "    from_move = models[model_name]['base_model'].predict(img, verbose = 0)\n",
    "    from_move = clip_pieces(from_move, img)\n",
    "    from_move_short = [[i, from_m] for i, from_m in enumerate(from_move[0])]\n",
    "    from_move_short = sorted(from_move_short, key=lambda x: x[1], reverse=True)\n",
    "    from_move_short = from_move_short[:k_from]\n",
    "    \n",
    "    best_moves = []\n",
    "    for index, prob in from_move_short:\n",
    "      if prob > 0:\n",
    "        from_cell_coord = [index // 8, index % 8]\n",
    "        pieceType = INDEX_TO_PIECE[np.argmax(img[:, from_cell_coord[0], from_cell_coord[1]])]\n",
    "        to_move = models[model_name]['move_models'][pieceType].predict(img, verbose = 0)\n",
    "\n",
    "        castling_rights = {'K':board.has_kingside_castling_rights(color=chess.WHITE),\n",
    "                            'Q':board.has_queenside_castling_rights(color=chess.WHITE)}\n",
    "\n",
    "        to_move = clip_move(to_move[0], im, from_cell_coord,\n",
    "                            pieceType, castling_rights)\n",
    "\n",
    "        for index2, prob2 in enumerate(to_move):\n",
    "          if prob2 > 0:\n",
    "            from_move_index = chess.square_mirror(index) if board.turn else index\n",
    "            to_move_index = chess.square_mirror(index2) if board.turn else index2\n",
    "            move_from_to = chess.square_name(from_move_index) + chess.square_name(to_move_index)\n",
    "\n",
    "            if pieceType == 'P':\n",
    "              if board.turn:\n",
    "                if move_from_to[3:] == '8':\n",
    "                  move_from_to += 'q'\n",
    "              else:\n",
    "                if move_from_to[3:] == '1':\n",
    "                  move_from_to += 'q'\n",
    "            best_moves.append([prob * prob2, move_from_to])\n",
    "\n",
    "    sorted_best_moves = sorted(best_moves, key=lambda x: x[0], reverse=True)\n",
    "\n",
    "    best_k_moves_with_prob = sorted_best_moves[:k]\n",
    "\n",
    "    best_k_moves = [element[1] for element in best_k_moves_with_prob]\n",
    "\n",
    "    return best_k_moves"
   ]
  },
  {
   "cell_type": "code",
   "execution_count": 23,
   "metadata": {},
   "outputs": [],
   "source": [
    "MAX_CACHE_SIZE = 1000000\n",
    "EVICTION_BATCH_SIZE = 100\n",
    "cache_called = 0\n",
    "cache_hit = 0\n",
    "k_move_cache = {}\n",
    "cache_usage_queue = []\n",
    "\n",
    "def predict_k_move_cached(board, model_name, k, k_from):\n",
    "    global cache_hit\n",
    "    global cache_called \n",
    "\n",
    "    fen_hash = hash(board.fen())\n",
    "    cache_called += 1\n",
    "    if fen_hash in k_move_cache:\n",
    "        cache_hit += 1\n",
    "        cache_usage_queue.remove(fen_hash)\n",
    "        cache_usage_queue.insert(0, fen_hash)\n",
    "        return k_move_cache[fen_hash]\n",
    "    \n",
    "    k_moves = predict_k_move(board, model_name, k, k_from)\n",
    "    \n",
    "    if len(k_move_cache) >= MAX_CACHE_SIZE:\n",
    "        evicted_hashes = cache_usage_queue[-EVICTION_BATCH_SIZE:]\n",
    "        for evicted_hash in evicted_hashes:\n",
    "            k_move_cache.pop(evicted_hash)\n",
    "            cache_usage_queue.remove(evicted_hash)\n",
    "    \n",
    "    k_move_cache[fen_hash] = k_moves\n",
    "    cache_usage_queue.insert(0, fen_hash)\n",
    "    \n",
    "    return k_moves"
   ]
  },
  {
   "cell_type": "code",
   "execution_count": 24,
   "metadata": {},
   "outputs": [],
   "source": [
    "def stockfish_evaluation(board, time_limit = 2):\n",
    "    with chess.engine.SimpleEngine.popen_uci(\"stockfish-windows-x86-64-avx2.exe\") as engine:\n",
    "        info = engine.analyse(board, chess.engine.Limit(time=time_limit,depth=15),game=object())\n",
    "        evaluation = info[\"score\"].relative\n",
    "        if evaluation.is_mate():\n",
    "            mate_sign = str(info[\"score\"].relative)[1:][:1]\n",
    "            mate = int(str(info[\"score\"].relative)[2:])\n",
    "            return mate, (1 if mate_sign == '+' else -1)\n",
    "        else:\n",
    "            return evaluation.cp, 0"
   ]
  },
  {
   "cell_type": "code",
   "execution_count": 25,
   "metadata": {},
   "outputs": [],
   "source": [
    "def evaluate(board, time_limit):\n",
    "    eval, mate = stockfish_evaluation(board, time_limit)\n",
    "    if not board.turn:\n",
    "        eval = -eval\n",
    "        mate = -mate\n",
    "    if mate == 1:\n",
    "        return float('inf') \n",
    "    if mate == -1:\n",
    "        return float('-inf')\n",
    "    return eval"
   ]
  },
  {
   "cell_type": "code",
   "execution_count": 26,
   "metadata": {},
   "outputs": [],
   "source": [
    "def alpha_beta(board, model_name, depth, alpha, beta, k, k_from, eval_time_limit):\n",
    "    if depth == 0 or board.is_game_over():\n",
    "        return evaluate(board, eval_time_limit)\n",
    "\n",
    "    best_k_move = predict_k_move_cached(board, model_name, k, k_from)\n",
    "    eval_move = []\n",
    "    for move in best_k_move:\n",
    "        board.push(chess.Move.from_uci(move))\n",
    "        eval_move.append((evaluate(board, eval_time_limit) , move))\n",
    "        board.pop()\n",
    "    eval_move = sorted(eval_move , key=lambda x: x[0], reverse=board.turn)\n",
    "\n",
    "    if board.turn:\n",
    "        for _,move in eval_move:\n",
    "            board.push(chess.Move.from_uci(move))\n",
    "            alpha = max(alpha, alpha_beta(board, model_name, depth - 1, alpha, beta, k, k_from, eval_time_limit))\n",
    "            board.pop()\n",
    "            if beta <= alpha:\n",
    "                break  # Beta cut-off\n",
    "        return alpha\n",
    "    else:\n",
    "        for _,move in eval_move:\n",
    "            board.push(chess.Move.from_uci(move))\n",
    "            beta = min(beta, alpha_beta(board, model_name, depth - 1, alpha, beta, k, k_from, eval_time_limit))\n",
    "            board.pop()\n",
    "            if beta <= alpha:\n",
    "                break  # Alpha cut-off\n",
    "        return beta"
   ]
  },
  {
   "cell_type": "code",
   "execution_count": 27,
   "metadata": {},
   "outputs": [],
   "source": [
    "def alpha_beta_limit(board, model_name, depth, alpha, beta, k, idx, time, start):\n",
    "    now = datetime.datetime.now()\n",
    "    if (now - start).total_seconds() > time:\n",
    "        return None\n",
    "    if depth == 0 or board.is_game_over():\n",
    "        return evaluate(board)\n",
    "\n",
    "    best_k_move = predict_k_move_cached(board, model_name, k)[:idx]\n",
    "    eval_move = []\n",
    "    for move in best_k_move:\n",
    "        board.push(chess.Move.from_uci(move))\n",
    "        eval_move.append((evaluate(board) , move))\n",
    "        board.pop()\n",
    "    eval_move = sorted(eval_move , key=lambda x: x[0], reverse=board.turn)\n",
    "\n",
    "    if board.turn:\n",
    "        for _,move in eval_move:\n",
    "            board.push(chess.Move.from_uci(move))\n",
    "            value = alpha_beta_limit(board, model_name, depth - 1, alpha, beta, k, idx, time, start)\n",
    "            if value == None:\n",
    "              return None\n",
    "            alpha = max(alpha, value)\n",
    "            board.pop()\n",
    "            if beta <= alpha:\n",
    "                break  # Beta cut-off\n",
    "        return alpha\n",
    "    else:\n",
    "        for _,move in eval_move:\n",
    "            board.push(chess.Move.from_uci(move))\n",
    "            value = alpha_beta_limit(board, model_name, depth - 1, alpha, beta, k, idx, time, start)\n",
    "            if value == None:\n",
    "              return None\n",
    "            beta = min(beta, value)\n",
    "            board.pop()\n",
    "            if beta <= alpha:\n",
    "                break  # Alpha cut-off\n",
    "        return beta"
   ]
  },
  {
   "cell_type": "code",
   "execution_count": 28,
   "metadata": {},
   "outputs": [],
   "source": [
    "def find_best_move(board, model_name, d, k, k_from, eval_time_limit):\n",
    "    moves = predict_k_move_cached(board, model_name, k, k_from)\n",
    "    eval_move = []\n",
    "    for move in moves:\n",
    "        board.push(chess.Move.from_uci(move))\n",
    "        eval_move.append((evaluate(board, eval_time_limit) , move))\n",
    "        board.pop()\n",
    "    eval_move = sorted(eval_move , key=lambda x: x[0], reverse=board.turn)\n",
    "    print(eval_move)\n",
    "    best_move = None\n",
    "    best_value = float('-inf')\n",
    "    best_value2 = float('inf')\n",
    "\n",
    "    for _, move in eval_move:\n",
    "        board.push(chess.Move.from_uci(move))\n",
    "        value = alpha_beta(board, model_name, d - 1, float('-inf'), float('inf'), k, k_from, eval_time_limit)\n",
    "        print(value, move)\n",
    "        board.pop()\n",
    "        if board.turn:\n",
    "            if value > best_value:\n",
    "                best_value = value\n",
    "                best_move = move\n",
    "        else:\n",
    "            if value < best_value2:\n",
    "                best_value2 = value\n",
    "                best_move = move\n",
    "        if best_move == None:\n",
    "            best_move = move\n",
    "    return best_move"
   ]
  },
  {
   "cell_type": "code",
   "execution_count": 29,
   "metadata": {},
   "outputs": [],
   "source": [
    "def find_best_move_limit(board, model_name, d, k, time):\n",
    "    start = datetime.datetime.now()\n",
    "    \n",
    "    best_move = None\n",
    "    for idx in range(1, k + 1):\n",
    "        best_move2 = None\n",
    "        best_value = float('-inf')\n",
    "        best_value2 = float('inf')\n",
    "        moves = predict_k_move_cached(board, model_name, k)[:idx]\n",
    "        eval_move = []\n",
    "\n",
    "        for move in moves:\n",
    "            board.push(chess.Move.from_uci(move))\n",
    "            eval_move.append((evaluate(board) , move))\n",
    "            board.pop()\n",
    "\n",
    "        eval_move = sorted(eval_move , key=lambda x: x[0], reverse=board.turn)\n",
    "        print(eval_move)\n",
    "        \n",
    "\n",
    "        for _, move in eval_move:\n",
    "            board.push(chess.Move.from_uci(move))\n",
    "            value = alpha_beta_limit(board, model_name, d - 1, float('-inf'), float('inf'),k , idx, time, start)\n",
    "            print(value, move)\n",
    "            if value == None:\n",
    "              break\n",
    "            board.pop()\n",
    "            if board.turn:\n",
    "                if value >= best_value:\n",
    "                    best_value = value\n",
    "                    best_move2 = move\n",
    "            else:\n",
    "                if value <= best_value2:\n",
    "                    best_value2 = value\n",
    "                    best_move2 = move\n",
    "        if not best_move2 == None:\n",
    "            best_move = best_move2\n",
    "    return best_move"
   ]
  },
  {
   "cell_type": "code",
   "execution_count": 30,
   "metadata": {},
   "outputs": [],
   "source": [
    "def count_pieces(board):\n",
    "    piece_counts = {\n",
    "        chess.WHITE: 0,\n",
    "        chess.BLACK: 0\n",
    "    }\n",
    "\n",
    "    for square in chess.SQUARES:\n",
    "        piece = board.piece_at(square)\n",
    "        if piece is not None:\n",
    "            piece_counts[piece.color] += 1\n",
    "\n",
    "    return piece_counts"
   ]
  },
  {
   "cell_type": "code",
   "execution_count": 31,
   "metadata": {},
   "outputs": [],
   "source": [
    "DEPTH = 3\n",
    "K_BEST = 3\n",
    "K_FROM = 6\n",
    "EVAL_TIME_LIMIT = 0.1\n",
    "NOM_D_K = {0:(1,1), 5: (2,2), 10:(3,3)}\n",
    "NOM_ARR = [10, 5, 0]\n",
    "\n",
    "def decide(board, model_name, k_from, eval_time_limit, basic=False):\n",
    "    if basic:\n",
    "        if model_name2 == 'tree':\n",
    "            if board.fullmove_number > 10:\n",
    "                print('hi im thinking')\n",
    "                best_move = find_best_move(board, 'tune', DEPTH, K_BEST, K_FROM, EVAL_TIME_LIMIT)\n",
    "            else:\n",
    "                best_move = predict_k_move_cached(board, 'tune', K_BEST, K_FROM)[0]\n",
    "        else:\n",
    "            best_move = predict_k_move_cached(board, model_name, K_BEST, K_FROM)[0]\n",
    "        return best_move\n",
    "    \n",
    "    if model_name == 'tree':\n",
    "        if count_pieces(board)[board.turn] < 5:\n",
    "            best_move = find_best_move(board, 'tune', 4, 4, k_from, eval_time_limit)\n",
    "        for nom in NOM_ARR:\n",
    "            if(board.fullmove_number >= nom):\n",
    "                best_move = find_best_move(board, 'tune', NOM_D_K[nom][0], NOM_D_K[nom][1], k_from, eval_time_limit)\n",
    "                break\n",
    "    else:\n",
    "        best_move = predict_k_move_cached(board, model_name, K_BEST, k_from)[0]\n",
    "    return best_move"
   ]
  },
  {
   "cell_type": "code",
   "execution_count": 32,
   "metadata": {
    "id": "uvKWZx1kEze1"
   },
   "outputs": [],
   "source": [
    "import flask\n",
    "from flask import Flask, request, jsonify\n",
    "from flask_cors import CORS, cross_origin\n",
    "app=Flask(__name__)\n",
    "cors = CORS(app)\n",
    "app.config['CORS_HEADERS'] = 'Content-Type'\n",
    "\n",
    "\n",
    "@app.route('/predict', methods = ['POST'])\n",
    "@cross_origin()\n",
    "def result():\n",
    "    fen = request.values.get('fen')\n",
    "    print(fen)\n",
    "    model_name = request.values.get('model')\n",
    "    board = chess.Board()\n",
    "    board.set_fen(fen)\n",
    "    start = datetime.datetime.now()\n",
    "    best_move = decide(board, model_name, K_FROM, EVAL_TIME_LIMIT)\n",
    "    end = datetime.datetime.now()\n",
    "    print(best_move)\n",
    "    print((end - start).total_seconds())\n",
    "    print('cache_hit', cache_hit)\n",
    "    print('cache_called', cache_called)\n",
    "    return jsonify(best_move)"
   ]
  },
  {
   "cell_type": "code",
   "execution_count": 33,
   "metadata": {},
   "outputs": [
    {
     "name": "stdout",
     "output_type": "stream",
     "text": [
      " * Serving Flask app '__main__'\n",
      " * Debug mode: off\n"
     ]
    },
    {
     "name": "stderr",
     "output_type": "stream",
     "text": [
      "WARNING: This is a development server. Do not use it in a production deployment. Use a production WSGI server instead.\n",
      " * Running on all addresses (0.0.0.0)\n",
      " * Running on http://127.0.0.1:3200\n",
      " * Running on http://10.2.0.2:3200\n",
      "Press CTRL+C to quit\n"
     ]
    },
    {
     "name": "stdout",
     "output_type": "stream",
     "text": [
      "rnbqkbnr/pppppppp/8/8/4P3/8/PPPP1PPP/RNBQKBNR b KQkq e3 0 1\n"
     ]
    },
    {
     "name": "stderr",
     "output_type": "stream",
     "text": [
      "192.168.97.94 - - [16/Aug/2023 10:58:06] \"POST /predict HTTP/1.1\" 200 -\n"
     ]
    },
    {
     "name": "stdout",
     "output_type": "stream",
     "text": [
      "c7c5\n",
      "1.278058\n",
      "cache_hit 0\n",
      "cache_called 1\n",
      "rnbqkbnr/pp1ppppp/8/2p5/4P3/5N2/PPPP1PPP/RNBQKB1R b KQkq - 1 2\n"
     ]
    },
    {
     "name": "stderr",
     "output_type": "stream",
     "text": [
      "192.168.97.94 - - [16/Aug/2023 10:58:08] \"POST /predict HTTP/1.1\" 200 -\n"
     ]
    },
    {
     "name": "stdout",
     "output_type": "stream",
     "text": [
      "b8c6\n",
      "0.798001\n",
      "cache_hit 0\n",
      "cache_called 2\n",
      "r1bqkbnr/pp1ppppp/2n5/2p5/3PP3/5N2/PPP2PPP/RNBQKB1R b KQkq d3 0 3\n"
     ]
    },
    {
     "name": "stderr",
     "output_type": "stream",
     "text": [
      "192.168.97.94 - - [16/Aug/2023 10:58:10] \"POST /predict HTTP/1.1\" 200 -\n"
     ]
    },
    {
     "name": "stdout",
     "output_type": "stream",
     "text": [
      "c5d4\n",
      "0.793998\n",
      "cache_hit 0\n",
      "cache_called 3\n"
     ]
    },
    {
     "name": "stderr",
     "output_type": "stream",
     "text": [
      "192.168.97.94 - - [16/Aug/2023 10:58:16] \"POST /predict HTTP/1.1\" 200 -\n"
     ]
    },
    {
     "name": "stdout",
     "output_type": "stream",
     "text": [
      "rnbqkbnr/pppppppp/8/8/4P3/8/PPPP1PPP/RNBQKBNR b KQkq e3 0 1\n",
      "c7c5\n",
      "0.0\n",
      "cache_hit 1\n",
      "cache_called 4\n"
     ]
    },
    {
     "name": "stderr",
     "output_type": "stream",
     "text": [
      "192.168.97.94 - - [16/Aug/2023 10:58:17] \"POST /predict HTTP/1.1\" 200 -\n"
     ]
    },
    {
     "name": "stdout",
     "output_type": "stream",
     "text": [
      "rnbqkbnr/pp1ppppp/8/2p5/4P3/5N2/PPPP1PPP/RNBQKB1R b KQkq - 1 2\n",
      "b8c6\n",
      "0.0\n",
      "cache_hit 2\n",
      "cache_called 5\n"
     ]
    },
    {
     "name": "stderr",
     "output_type": "stream",
     "text": [
      "192.168.97.94 - - [16/Aug/2023 10:58:17] \"POST /predict HTTP/1.1\" 200 -\n"
     ]
    },
    {
     "name": "stdout",
     "output_type": "stream",
     "text": [
      "r1bqkbnr/pp1ppppp/2n5/2p5/3PP3/5N2/PPP2PPP/RNBQKB1R b KQkq d3 0 3\n",
      "c5d4\n",
      "0.0\n",
      "cache_hit 3\n",
      "cache_called 6\n",
      "r1bqkbnr/pp1ppppp/2n5/8/3NP3/8/PPP2PPP/RNBQKB1R b KQkq - 0 4\n"
     ]
    },
    {
     "name": "stderr",
     "output_type": "stream",
     "text": [
      "192.168.97.94 - - [16/Aug/2023 10:58:24] \"POST /predict HTTP/1.1\" 200 -\n"
     ]
    },
    {
     "name": "stdout",
     "output_type": "stream",
     "text": [
      "g8f6\n",
      "0.901997\n",
      "cache_hit 3\n",
      "cache_called 7\n",
      "r1bqkb1r/pp1ppppp/2n2n2/8/3NP3/2N5/PPP2PPP/R1BQKB1R b KQkq - 2 5\n"
     ]
    },
    {
     "name": "stderr",
     "output_type": "stream",
     "text": [
      "192.168.97.94 - - [16/Aug/2023 10:58:25] \"POST /predict HTTP/1.1\" 200 -\n"
     ]
    },
    {
     "name": "stdout",
     "output_type": "stream",
     "text": [
      "e7e6\n",
      "0.784789\n",
      "cache_hit 3\n",
      "cache_called 8\n",
      "r1bqkb1r/pp1p1ppp/2n1pn2/1B6/3NP3/2N5/PPP2PPP/R1BQK2R b KQkq - 1 6\n"
     ]
    },
    {
     "name": "stderr",
     "output_type": "stream",
     "text": [
      "192.168.97.94 - - [16/Aug/2023 10:58:28] \"POST /predict HTTP/1.1\" 200 -\n"
     ]
    },
    {
     "name": "stdout",
     "output_type": "stream",
     "text": [
      "d8c7\n",
      "0.905963\n",
      "cache_hit 3\n",
      "cache_called 9\n",
      "r1b1kb1r/ppqp1ppp/2B1pn2/8/3NP3/2N5/PPP2PPP/R1BQK2R b KQkq - 0 7\n"
     ]
    },
    {
     "name": "stderr",
     "output_type": "stream",
     "text": [
      "192.168.97.94 - - [16/Aug/2023 10:58:31] \"POST /predict HTTP/1.1\" 200 -\n"
     ]
    },
    {
     "name": "stdout",
     "output_type": "stream",
     "text": [
      "d7c6\n",
      "0.805084\n",
      "cache_hit 3\n",
      "cache_called 10\n",
      "r1b1kb1r/ppq2ppp/2p1pn2/6B1/3NP3/2N5/PPP2PPP/R2QK2R b KQkq - 1 8\n"
     ]
    },
    {
     "name": "stderr",
     "output_type": "stream",
     "text": [
      "192.168.97.94 - - [16/Aug/2023 10:58:34] \"POST /predict HTTP/1.1\" 200 -\n"
     ]
    },
    {
     "name": "stdout",
     "output_type": "stream",
     "text": [
      "f8b4\n",
      "0.78694\n",
      "cache_hit 3\n",
      "cache_called 11\n",
      "r1b1k2r/ppq2ppp/2p1pn2/6B1/1b1NP3/2N5/PPP2PPP/R2Q1RK1 b kq - 3 9\n"
     ]
    },
    {
     "name": "stderr",
     "output_type": "stream",
     "text": [
      "192.168.97.94 - - [16/Aug/2023 10:58:36] \"POST /predict HTTP/1.1\" 200 -\n"
     ]
    },
    {
     "name": "stdout",
     "output_type": "stream",
     "text": [
      "h7h6\n",
      "0.885203\n",
      "cache_hit 3\n",
      "cache_called 12\n",
      "r1b1k2r/ppq2pp1/2p1pn1p/6B1/1b1NP3/2N5/PPP2PPP/R2QR1K1 b kq - 1 10\n"
     ]
    },
    {
     "name": "stderr",
     "output_type": "stream",
     "text": [
      "192.168.97.94 - - [16/Aug/2023 10:58:39] \"POST /predict HTTP/1.1\" 200 -\n"
     ]
    },
    {
     "name": "stdout",
     "output_type": "stream",
     "text": [
      "h6g5\n",
      "0.814966\n",
      "cache_hit 3\n",
      "cache_called 13\n",
      "r1b1k2r/ppq2pp1/2p1pn2/4P1p1/1b1N4/2N5/PPP2PPP/R2QR1K1 b kq - 0 11\n"
     ]
    },
    {
     "name": "stderr",
     "output_type": "stream",
     "text": [
      "192.168.97.94 - - [16/Aug/2023 10:58:42] \"POST /predict HTTP/1.1\" 200 -\n"
     ]
    },
    {
     "name": "stdout",
     "output_type": "stream",
     "text": [
      "f6d5\n",
      "0.888213\n",
      "cache_hit 3\n",
      "cache_called 14\n",
      "r1b1k2r/ppq2pp1/2p1p3/3NP1p1/1b1N4/8/PPP2PPP/R2QR1K1 b kq - 0 12\n"
     ]
    },
    {
     "name": "stderr",
     "output_type": "stream",
     "text": [
      "192.168.97.94 - - [16/Aug/2023 10:58:45] \"POST /predict HTTP/1.1\" 200 -\n"
     ]
    },
    {
     "name": "stdout",
     "output_type": "stream",
     "text": [
      "c6d5\n",
      "0.79817\n",
      "cache_hit 3\n",
      "cache_called 15\n",
      "r1b1k2r/ppq2pp1/4p3/3pP1p1/1b1N4/8/PPP1RPPP/R2Q2K1 b kq - 1 13\n"
     ]
    },
    {
     "name": "stderr",
     "output_type": "stream",
     "text": [
      "192.168.97.94 - - [16/Aug/2023 10:58:50] \"POST /predict HTTP/1.1\" 200 -\n"
     ]
    },
    {
     "name": "stdout",
     "output_type": "stream",
     "text": [
      "c7e5\n",
      "0.795957\n",
      "cache_hit 3\n",
      "cache_called 16\n",
      "r1b1k2r/pp3pp1/4p3/3pR1p1/1b1N4/8/PPP2PPP/R2Q2K1 b kq - 0 14\n"
     ]
    },
    {
     "name": "stderr",
     "output_type": "stream",
     "text": [
      "192.168.97.94 - - [16/Aug/2023 10:58:53] \"POST /predict HTTP/1.1\" 200 -\n"
     ]
    },
    {
     "name": "stdout",
     "output_type": "stream",
     "text": [
      "c8d7\n",
      "0.951212\n",
      "cache_hit 3\n",
      "cache_called 17\n",
      "r3k2r/pp1b1pp1/4p3/3pR1p1/1b1N4/2P5/PP3PPP/R2Q2K1 b kq - 0 15\n"
     ]
    },
    {
     "name": "stderr",
     "output_type": "stream",
     "text": [
      "192.168.97.94 - - [16/Aug/2023 10:58:57] \"POST /predict HTTP/1.1\" 200 -\n"
     ]
    },
    {
     "name": "stdout",
     "output_type": "stream",
     "text": [
      "b4c5\n",
      "0.797998\n",
      "cache_hit 3\n",
      "cache_called 18\n",
      "r3k2r/pp1b1pp1/4p3/2bpR1p1/8/2P2N2/PP3PPP/R2Q2K1 b kq - 2 16\n"
     ]
    },
    {
     "name": "stderr",
     "output_type": "stream",
     "text": [
      "192.168.97.94 - - [16/Aug/2023 10:59:00] \"POST /predict HTTP/1.1\" 200 -\n"
     ]
    },
    {
     "name": "stdout",
     "output_type": "stream",
     "text": [
      "c5d6\n",
      "0.852993\n",
      "cache_hit 3\n",
      "cache_called 19\n",
      "r3k2r/pp1b1pp1/3bp3/3p2R1/8/2P2N2/PP3PPP/R2Q2K1 b kq - 0 17\n"
     ]
    },
    {
     "name": "stderr",
     "output_type": "stream",
     "text": [
      "192.168.97.94 - - [16/Aug/2023 10:59:04] \"POST /predict HTTP/1.1\" 200 -\n"
     ]
    },
    {
     "name": "stdout",
     "output_type": "stream",
     "text": [
      "a8c8\n",
      "0.796991\n",
      "cache_hit 3\n",
      "cache_called 20\n",
      "2r1k2r/pp1b1pR1/3bp3/3p4/8/2P2N2/PP3PPP/R2Q2K1 b k - 0 18\n"
     ]
    },
    {
     "name": "stderr",
     "output_type": "stream",
     "text": [
      "192.168.97.94 - - [16/Aug/2023 10:59:06] \"POST /predict HTTP/1.1\" 200 -\n"
     ]
    },
    {
     "name": "stdout",
     "output_type": "stream",
     "text": [
      "e8f8\n",
      "0.810963\n",
      "cache_hit 3\n",
      "cache_called 21\n",
      "2r2k1r/pp1b1p2/3bp3/3p4/8/2P2NR1/PP3PPP/R2Q2K1 b - - 2 19\n"
     ]
    },
    {
     "name": "stderr",
     "output_type": "stream",
     "text": [
      "192.168.97.94 - - [16/Aug/2023 10:59:09] \"POST /predict HTTP/1.1\" 200 -\n"
     ]
    },
    {
     "name": "stdout",
     "output_type": "stream",
     "text": [
      "f8e7\n",
      "0.806963\n",
      "cache_hit 3\n",
      "cache_called 22\n",
      "2r4r/pp1bkp2/3bp3/3p4/3Q4/2P2NR1/PP3PPP/R5K1 b - - 4 20\n"
     ]
    },
    {
     "name": "stderr",
     "output_type": "stream",
     "text": [
      "192.168.97.94 - - [16/Aug/2023 10:59:12] \"POST /predict HTTP/1.1\" 200 -\n"
     ]
    },
    {
     "name": "stdout",
     "output_type": "stream",
     "text": [
      "h8g8\n",
      "0.855988\n",
      "cache_hit 3\n",
      "cache_called 23\n",
      "2r3R1/pp1bkp2/3bp3/3p4/3Q4/2P2N2/PP3PPP/R5K1 b - - 0 21\n"
     ]
    },
    {
     "name": "stderr",
     "output_type": "stream",
     "text": [
      "192.168.97.94 - - [16/Aug/2023 10:59:17] \"POST /predict HTTP/1.1\" 200 -\n"
     ]
    },
    {
     "name": "stdout",
     "output_type": "stream",
     "text": [
      "c8g8\n",
      "0.809194\n",
      "cache_hit 3\n",
      "cache_called 24\n",
      "6r1/pp1bkp2/3bp3/3p4/3Q4/2P2N2/PP3PPP/4R1K1 b - - 1 22\n"
     ]
    },
    {
     "name": "stderr",
     "output_type": "stream",
     "text": [
      "192.168.97.94 - - [16/Aug/2023 10:59:23] \"POST /predict HTTP/1.1\" 200 -\n"
     ]
    },
    {
     "name": "stdout",
     "output_type": "stream",
     "text": [
      "g8c8\n",
      "0.79128\n",
      "cache_hit 3\n",
      "cache_called 25\n",
      "2r5/pp1bkp2/3bp3/3p4/7Q/2P2N2/PP3PPP/4R1K1 b - - 3 23\n"
     ]
    },
    {
     "name": "stderr",
     "output_type": "stream",
     "text": [
      "192.168.97.94 - - [16/Aug/2023 10:59:27] \"POST /predict HTTP/1.1\" 200 -\n"
     ]
    },
    {
     "name": "stdout",
     "output_type": "stream",
     "text": [
      "f7f6\n",
      "0.800004\n",
      "cache_hit 3\n",
      "cache_called 26\n",
      "2r5/pp1bk3/3bpp2/3p4/3N3Q/2P5/PP3PPP/4R1K1 b - - 1 24\n"
     ]
    },
    {
     "name": "stderr",
     "output_type": "stream",
     "text": [
      "192.168.97.94 - - [16/Aug/2023 10:59:31] \"POST /predict HTTP/1.1\" 200 -\n"
     ]
    },
    {
     "name": "stdout",
     "output_type": "stream",
     "text": [
      "d6c5\n",
      "0.800294\n",
      "cache_hit 3\n",
      "cache_called 27\n",
      "2r5/pp1bk3/4Np2/2bp4/7Q/2P5/PP3PPP/4R1K1 b - - 0 25\n"
     ]
    },
    {
     "name": "stderr",
     "output_type": "stream",
     "text": [
      "192.168.97.94 - - [16/Aug/2023 10:59:38] \"POST /predict HTTP/1.1\" 200 -\n"
     ]
    },
    {
     "name": "stdout",
     "output_type": "stream",
     "text": [
      "d7e6\n",
      "0.80894\n",
      "cache_hit 3\n",
      "cache_called 28\n",
      "2r5/pp2k2Q/4bp2/2bp4/8/2P5/PP3PPP/4R1K1 b - - 1 26\n"
     ]
    },
    {
     "name": "stderr",
     "output_type": "stream",
     "text": [
      "192.168.97.94 - - [16/Aug/2023 10:59:44] \"POST /predict HTTP/1.1\" 200 -\n"
     ]
    },
    {
     "name": "stdout",
     "output_type": "stream",
     "text": [
      "e7d6\n",
      "0.804763\n",
      "cache_hit 3\n",
      "cache_called 29\n",
      "2r5/pp5Q/3kbp2/2bp4/1P6/2P5/P4PPP/4R1K1 b - b3 0 27\n"
     ]
    },
    {
     "name": "stderr",
     "output_type": "stream",
     "text": [
      "192.168.97.94 - - [16/Aug/2023 10:59:54] \"POST /predict HTTP/1.1\" 200 -\n"
     ]
    },
    {
     "name": "stdout",
     "output_type": "stream",
     "text": [
      "c5b6\n",
      "0.781929\n",
      "cache_hit 3\n",
      "cache_called 30\n",
      "2r5/pp5Q/1b1kbp2/3p4/PP6/2P5/5PPP/4R1K1 b - a3 0 28\n"
     ]
    },
    {
     "name": "stderr",
     "output_type": "stream",
     "text": [
      "192.168.97.94 - - [16/Aug/2023 10:59:57] \"POST /predict HTTP/1.1\" 200 -\n"
     ]
    },
    {
     "name": "stdout",
     "output_type": "stream",
     "text": [
      "a7a5\n",
      "0.815342\n",
      "cache_hit 3\n",
      "cache_called 31\n",
      "2r5/1p5Q/1b1kbp2/pP1p4/P7/2P5/5PPP/4R1K1 b - - 0 29\n"
     ]
    },
    {
     "name": "stderr",
     "output_type": "stream",
     "text": [
      "192.168.97.94 - - [16/Aug/2023 11:00:00] \"POST /predict HTTP/1.1\" 200 -\n"
     ]
    },
    {
     "name": "stdout",
     "output_type": "stream",
     "text": [
      "d6c5\n",
      "0.821969\n",
      "cache_hit 3\n",
      "cache_called 32\n",
      "2r5/1p6/1b2bp2/pPkp4/P7/2PQ4/5PPP/4R1K1 b - - 2 30\n"
     ]
    },
    {
     "name": "stderr",
     "output_type": "stream",
     "text": [
      "192.168.97.94 - - [16/Aug/2023 11:00:05] \"POST /predict HTTP/1.1\" 200 -\n"
     ]
    },
    {
     "name": "stdout",
     "output_type": "stream",
     "text": [
      "e6d7\n",
      "0.779961\n",
      "cache_hit 3\n",
      "cache_called 33\n",
      "2r5/1p1bR3/1b3p2/pPkp4/P7/2PQ4/5PPP/6K1 b - - 4 31\n"
     ]
    },
    {
     "name": "stderr",
     "output_type": "stream",
     "text": [
      "192.168.97.94 - - [16/Aug/2023 11:00:12] \"POST /predict HTTP/1.1\" 200 -\n"
     ]
    },
    {
     "name": "stdout",
     "output_type": "stream",
     "text": [
      "c8h8\n",
      "0.787882\n",
      "cache_hit 3\n",
      "cache_called 34\n",
      "7r/1p1R4/1b3p2/pPkp4/P7/2PQ4/5PPP/6K1 b - - 0 32\n"
     ]
    },
    {
     "name": "stderr",
     "output_type": "stream",
     "text": [
      "192.168.97.94 - - [16/Aug/2023 11:00:14] \"POST /predict HTTP/1.1\" 200 -\n"
     ]
    },
    {
     "name": "stdout",
     "output_type": "stream",
     "text": [
      "h8e8\n",
      "0.762998\n",
      "cache_hit 3\n",
      "cache_called 35\n",
      "4r3/1pR5/1b3p2/pPkp4/P7/2PQ4/5PPP/6K1 b - - 2 33\n"
     ]
    },
    {
     "name": "stderr",
     "output_type": "stream",
     "text": [
      "192.168.97.94 - - [16/Aug/2023 11:00:17] \"POST /predict HTTP/1.1\" 200 -\n"
     ]
    },
    {
     "name": "stdout",
     "output_type": "stream",
     "text": [
      "b6c7\n",
      "0.815997\n",
      "cache_hit 3\n",
      "cache_called 36\n",
      "4r3/1pb5/1P3p2/p1kp4/P7/2PQ4/5PPP/6K1 b - - 0 34\n"
     ]
    },
    {
     "name": "stderr",
     "output_type": "stream",
     "text": [
      "192.168.97.94 - - [16/Aug/2023 11:00:20] \"POST /predict HTTP/1.1\" 200 -\n"
     ]
    },
    {
     "name": "stdout",
     "output_type": "stream",
     "text": [
      "c7b6\n",
      "0.803995\n",
      "cache_hit 3\n",
      "cache_called 37\n",
      "4r3/1p6/1b3p2/pQkp4/P7/2P5/5PPP/6K1 b - - 1 35\n"
     ]
    },
    {
     "name": "stderr",
     "output_type": "stream",
     "text": [
      "192.168.97.94 - - [16/Aug/2023 11:00:23] \"POST /predict HTTP/1.1\" 200 -\n"
     ]
    },
    {
     "name": "stdout",
     "output_type": "stream",
     "text": [
      "c5d6\n",
      "0.79125\n",
      "cache_hit 3\n",
      "cache_called 38\n",
      "4r3/1p6/1b1k1p2/pQ1p4/P1P5/8/5PPP/6K1 b - - 0 36\n"
     ]
    },
    {
     "name": "stderr",
     "output_type": "stream",
     "text": [
      "192.168.97.94 - - [16/Aug/2023 11:00:26] \"POST /predict HTTP/1.1\" 200 -\n"
     ]
    },
    {
     "name": "stdout",
     "output_type": "stream",
     "text": [
      "b6c5\n",
      "0.804994\n",
      "cache_hit 3\n",
      "cache_called 39\n",
      "4r3/1p6/3k1p2/pQbP4/P7/8/5PPP/6K1 b - - 0 37\n"
     ]
    },
    {
     "name": "stderr",
     "output_type": "stream",
     "text": [
      "192.168.97.94 - - [16/Aug/2023 11:00:29] \"POST /predict HTTP/1.1\" 200 -\n"
     ]
    },
    {
     "name": "stdout",
     "output_type": "stream",
     "text": [
      "e8e7\n",
      "0.794822\n",
      "cache_hit 3\n",
      "cache_called 40\n",
      "8/1p2r3/3k1p2/pQbP4/P5P1/8/5P1P/6K1 b - g3 0 38\n"
     ]
    },
    {
     "name": "stderr",
     "output_type": "stream",
     "text": [
      "192.168.97.94 - - [16/Aug/2023 11:00:34] \"POST /predict HTTP/1.1\" 200 -\n"
     ]
    },
    {
     "name": "stdout",
     "output_type": "stream",
     "text": [
      "b7b6\n",
      "0.79374\n",
      "cache_hit 3\n",
      "cache_called 41\n",
      "8/4r3/1pQk1p2/p1bP4/P5P1/8/5P1P/6K1 b - - 1 39\n"
     ]
    },
    {
     "name": "stderr",
     "output_type": "stream",
     "text": [
      "192.168.97.94 - - [16/Aug/2023 11:00:39] \"POST /predict HTTP/1.1\" 200 -\n"
     ]
    },
    {
     "name": "stdout",
     "output_type": "stream",
     "text": [
      "d6e5\n",
      "0.797066\n",
      "cache_hit 3\n",
      "cache_called 42\n",
      "8/4r3/1p3p2/p1QPk3/P5P1/8/5P1P/6K1 b - - 0 40\n"
     ]
    },
    {
     "name": "stderr",
     "output_type": "stream",
     "text": [
      "192.168.97.94 - - [16/Aug/2023 11:00:49] \"POST /predict HTTP/1.1\" 200 -\n"
     ]
    },
    {
     "name": "stdout",
     "output_type": "stream",
     "text": [
      "b6c5\n",
      "0.857956\n",
      "cache_hit 3\n",
      "cache_called 43\n",
      "8/4r3/5p2/p1pPk3/P5P1/8/5PKP/8 b - - 1 41\n"
     ]
    },
    {
     "name": "stderr",
     "output_type": "stream",
     "text": [
      "192.168.97.94 - - [16/Aug/2023 11:00:51] \"POST /predict HTTP/1.1\" 200 -\n"
     ]
    },
    {
     "name": "stdout",
     "output_type": "stream",
     "text": [
      "e5d5\n",
      "0.685993\n",
      "cache_hit 3\n",
      "cache_called 44\n",
      "8/4r3/5p2/p1pk4/P5P1/5K2/5P1P/8 b - - 1 42\n"
     ]
    },
    {
     "name": "stderr",
     "output_type": "stream",
     "text": [
      "192.168.97.94 - - [16/Aug/2023 11:00:53] \"POST /predict HTTP/1.1\" 200 -\n"
     ]
    },
    {
     "name": "stdout",
     "output_type": "stream",
     "text": [
      "e7e1\n",
      "0.683997\n",
      "cache_hit 3\n",
      "cache_called 45\n",
      "8/8/5p2/p1pk4/P4KP1/8/5P1P/4r3 b - - 3 43\n"
     ]
    },
    {
     "name": "stderr",
     "output_type": "stream",
     "text": [
      "192.168.97.94 - - [16/Aug/2023 11:00:55] \"POST /predict HTTP/1.1\" 200 -\n"
     ]
    },
    {
     "name": "stdout",
     "output_type": "stream",
     "text": [
      "e1f1\n",
      "0.680961\n",
      "cache_hit 3\n",
      "cache_called 46\n",
      "8/8/5p2/p1pk1K2/P5P1/8/5P1P/5r2 b - - 5 44\n"
     ]
    },
    {
     "name": "stderr",
     "output_type": "stream",
     "text": [
      "192.168.97.94 - - [16/Aug/2023 11:00:56] \"POST /predict HTTP/1.1\" 200 -\n"
     ]
    },
    {
     "name": "stdout",
     "output_type": "stream",
     "text": [
      "f1f2\n",
      "0.681715\n",
      "cache_hit 3\n",
      "cache_called 47\n",
      "8/8/5pK1/p1pk4/P5P1/8/5r1P/8 b - - 1 45\n"
     ]
    },
    {
     "name": "stderr",
     "output_type": "stream",
     "text": [
      "192.168.97.94 - - [16/Aug/2023 11:00:59] \"POST /predict HTTP/1.1\" 200 -\n"
     ]
    },
    {
     "name": "stdout",
     "output_type": "stream",
     "text": [
      "f2h2\n",
      "0.68491\n",
      "cache_hit 3\n",
      "cache_called 48\n",
      "8/8/5K2/p1pk4/P5P1/8/7r/8 b - - 0 46\n"
     ]
    },
    {
     "name": "stderr",
     "output_type": "stream",
     "text": [
      "192.168.97.94 - - [16/Aug/2023 11:01:00] \"POST /predict HTTP/1.1\" 200 -\n"
     ]
    },
    {
     "name": "stdout",
     "output_type": "stream",
     "text": [
      "h2f2\n",
      "0.566948\n",
      "cache_hit 3\n",
      "cache_called 49\n",
      "8/4K3/8/p1pk4/P5P1/8/5r2/8 b - - 2 47\n"
     ]
    },
    {
     "name": "stderr",
     "output_type": "stream",
     "text": [
      "192.168.97.94 - - [16/Aug/2023 11:01:02] \"POST /predict HTTP/1.1\" 200 -\n"
     ]
    },
    {
     "name": "stdout",
     "output_type": "stream",
     "text": [
      "c5c4\n",
      "0.562001\n",
      "cache_hit 3\n",
      "cache_called 50\n",
      "8/3K4/8/p2k4/P1p3P1/8/5r2/8 b - - 1 48\n"
     ]
    },
    {
     "name": "stderr",
     "output_type": "stream",
     "text": [
      "192.168.97.94 - - [16/Aug/2023 11:01:04] \"POST /predict HTTP/1.1\" 200 -\n"
     ]
    },
    {
     "name": "stdout",
     "output_type": "stream",
     "text": [
      "f2f7\n",
      "0.565009\n",
      "cache_hit 3\n",
      "cache_called 51\n",
      "3K4/5r2/8/p2k4/P1p3P1/8/8/8 b - - 3 49\n"
     ]
    },
    {
     "name": "stderr",
     "output_type": "stream",
     "text": [
      "192.168.97.94 - - [16/Aug/2023 11:01:07] \"POST /predict HTTP/1.1\" 200 -\n"
     ]
    },
    {
     "name": "stdout",
     "output_type": "stream",
     "text": [
      "d5d4\n",
      "0.556306\n",
      "cache_hit 3\n",
      "cache_called 52\n",
      "2K5/5r2/8/p7/P1pk2P1/8/8/8 b - - 5 50\n"
     ]
    },
    {
     "name": "stderr",
     "output_type": "stream",
     "text": [
      "192.168.97.94 - - [16/Aug/2023 11:01:10] \"POST /predict HTTP/1.1\" 200 -\n"
     ]
    },
    {
     "name": "stdout",
     "output_type": "stream",
     "text": [
      "c4c3\n",
      "0.555998\n",
      "cache_hit 3\n",
      "cache_called 53\n",
      "rnbqkbnr/pppppppp/8/8/3P4/8/PPP1PPPP/RNBQKBNR b KQkq d3 0 1\n"
     ]
    },
    {
     "name": "stderr",
     "output_type": "stream",
     "text": [
      "192.168.97.94 - - [16/Aug/2023 11:04:35] \"POST /predict HTTP/1.1\" 200 -\n"
     ]
    },
    {
     "name": "stdout",
     "output_type": "stream",
     "text": [
      "g8f6\n",
      "0.816923\n",
      "cache_hit 3\n",
      "cache_called 54\n",
      "rnbqkb1r/pppppppp/5n2/8/3P1B2/8/PPP1PPPP/RN1QKBNR b KQkq - 2 2\n"
     ]
    },
    {
     "name": "stderr",
     "output_type": "stream",
     "text": [
      "192.168.97.94 - - [16/Aug/2023 11:04:37] \"POST /predict HTTP/1.1\" 200 -\n"
     ]
    },
    {
     "name": "stdout",
     "output_type": "stream",
     "text": [
      "d7d5\n",
      "0.805961\n",
      "cache_hit 3\n",
      "cache_called 55\n",
      "rnbqkb1r/ppp1pppp/5n2/3p4/3P1B2/4P3/PPP2PPP/RN1QKBNR b KQkq - 0 3\n"
     ]
    },
    {
     "name": "stderr",
     "output_type": "stream",
     "text": [
      "192.168.97.94 - - [16/Aug/2023 11:04:38] \"POST /predict HTTP/1.1\" 200 -\n"
     ]
    },
    {
     "name": "stdout",
     "output_type": "stream",
     "text": [
      "c7c5\n",
      "0.818999\n",
      "cache_hit 3\n",
      "cache_called 56\n",
      "rnbqkb1r/pp2pppp/5n2/2pp4/3P1B2/2P1P3/PP3PPP/RN1QKBNR b KQkq - 0 4\n"
     ]
    },
    {
     "name": "stderr",
     "output_type": "stream",
     "text": [
      "192.168.97.94 - - [16/Aug/2023 11:04:41] \"POST /predict HTTP/1.1\" 200 -\n"
     ]
    },
    {
     "name": "stdout",
     "output_type": "stream",
     "text": [
      "b8c6\n",
      "0.809587\n",
      "cache_hit 3\n",
      "cache_called 57\n",
      "r1bqkb1r/pp2pppp/2n2n2/2pp4/3P1B2/2P1PN2/PP3PPP/RN1QKB1R b KQkq - 2 5\n"
     ]
    },
    {
     "name": "stderr",
     "output_type": "stream",
     "text": [
      "192.168.97.94 - - [16/Aug/2023 11:04:42] \"POST /predict HTTP/1.1\" 200 -\n"
     ]
    },
    {
     "name": "stdout",
     "output_type": "stream",
     "text": [
      "c8g4\n",
      "0.789962\n",
      "cache_hit 3\n",
      "cache_called 58\n",
      "r2qkb1r/pp2pppp/2n2n2/2pp4/3P1Bb1/2PBPN2/PP3PPP/RN1QK2R b KQkq - 4 6\n"
     ]
    },
    {
     "name": "stderr",
     "output_type": "stream",
     "text": [
      "192.168.97.94 - - [16/Aug/2023 11:04:44] \"POST /predict HTTP/1.1\" 200 -\n"
     ]
    },
    {
     "name": "stdout",
     "output_type": "stream",
     "text": [
      "e7e6\n",
      "0.803\n",
      "cache_hit 3\n",
      "cache_called 59\n",
      "r2qkb1r/pp3ppp/2n1pn2/2pp4/3P1Bb1/2PBPN1P/PP3PP1/RN1QK2R b KQkq - 0 7\n"
     ]
    },
    {
     "name": "stderr",
     "output_type": "stream",
     "text": [
      "192.168.97.94 - - [16/Aug/2023 11:04:47] \"POST /predict HTTP/1.1\" 200 -\n"
     ]
    },
    {
     "name": "stdout",
     "output_type": "stream",
     "text": [
      "g4h5\n",
      "0.772998\n",
      "cache_hit 3\n",
      "cache_called 60\n",
      "r2qkb1r/pp3ppp/2n1pn2/2pp3b/3P1BP1/2PBPN1P/PP3P2/RN1QK2R b KQkq g3 0 8\n"
     ]
    },
    {
     "name": "stderr",
     "output_type": "stream",
     "text": [
      "192.168.97.94 - - [16/Aug/2023 11:04:49] \"POST /predict HTTP/1.1\" 200 -\n"
     ]
    },
    {
     "name": "stdout",
     "output_type": "stream",
     "text": [
      "h5g6\n",
      "0.831593\n",
      "cache_hit 3\n",
      "cache_called 61\n",
      "r2qkb1r/pp3ppp/2n1pnB1/2pp4/3P1BP1/2P1PN1P/PP3P2/RN1QK2R b KQkq - 0 9\n"
     ]
    },
    {
     "name": "stderr",
     "output_type": "stream",
     "text": [
      "192.168.97.94 - - [16/Aug/2023 11:04:53] \"POST /predict HTTP/1.1\" 200 -\n"
     ]
    },
    {
     "name": "stdout",
     "output_type": "stream",
     "text": [
      "h7g6\n",
      "0.814967\n",
      "cache_hit 3\n",
      "cache_called 62\n",
      "r2qkb1r/pp3pp1/2n1pnp1/2pp4/3P1BP1/2P1PN1P/PP1N1P2/R2QK2R b KQkq - 1 10\n"
     ]
    },
    {
     "name": "stderr",
     "output_type": "stream",
     "text": [
      "192.168.97.94 - - [16/Aug/2023 11:04:57] \"POST /predict HTTP/1.1\" 200 -\n"
     ]
    },
    {
     "name": "stdout",
     "output_type": "stream",
     "text": [
      "f8e7\n",
      "0.794955\n",
      "cache_hit 3\n",
      "cache_called 63\n",
      "r2qk2r/pp2bpp1/2n1pnp1/2pp4/3P1BP1/2P1PN1P/PP1NQP2/R3K2R b KQkq - 3 11\n"
     ]
    },
    {
     "name": "stderr",
     "output_type": "stream",
     "text": [
      "192.168.97.94 - - [16/Aug/2023 11:05:02] \"POST /predict HTTP/1.1\" 200 -\n"
     ]
    },
    {
     "name": "stdout",
     "output_type": "stream",
     "text": [
      "e8g8\n",
      "0.773991\n",
      "cache_hit 3\n",
      "cache_called 64\n",
      "r2q1rk1/pp2bpp1/2n1pnp1/2pp4/3P1BP1/2P1PN1P/PP1NQP2/2KR3R b - - 5 12\n"
     ]
    },
    {
     "name": "stderr",
     "output_type": "stream",
     "text": [
      "192.168.97.94 - - [16/Aug/2023 11:05:04] \"POST /predict HTTP/1.1\" 200 -\n"
     ]
    },
    {
     "name": "stdout",
     "output_type": "stream",
     "text": [
      "a8c8\n",
      "0.839998\n",
      "cache_hit 3\n",
      "cache_called 65\n",
      "2rq1rk1/pp2bpp1/2n1pnp1/2pp4/3P1BPP/2P1PN2/PP1NQP2/2KR3R b - - 0 13\n"
     ]
    },
    {
     "name": "stderr",
     "output_type": "stream",
     "text": [
      "192.168.97.94 - - [16/Aug/2023 11:05:06] \"POST /predict HTTP/1.1\" 200 -\n"
     ]
    },
    {
     "name": "stdout",
     "output_type": "stream",
     "text": [
      "f6e4\n",
      "0.823937\n",
      "cache_hit 3\n",
      "cache_called 66\n",
      "2rq1rk1/pp2bpp1/2n1p1p1/2pp4/3PNBPP/2P1PN2/PP2QP2/2KR3R b - - 0 14\n"
     ]
    },
    {
     "name": "stderr",
     "output_type": "stream",
     "text": [
      "192.168.97.94 - - [16/Aug/2023 11:05:08] \"POST /predict HTTP/1.1\" 200 -\n"
     ]
    },
    {
     "name": "stdout",
     "output_type": "stream",
     "text": [
      "d5e4\n",
      "0.806938\n",
      "cache_hit 3\n",
      "cache_called 67\n",
      "2rq1rk1/pp2bpp1/2n1p1p1/2p5/3PpBPP/2P1P3/PP2QP1N/2KR3R b - - 1 15\n"
     ]
    },
    {
     "name": "stderr",
     "output_type": "stream",
     "text": [
      "192.168.97.94 - - [16/Aug/2023 11:05:11] \"POST /predict HTTP/1.1\" 200 -\n"
     ]
    },
    {
     "name": "stdout",
     "output_type": "stream",
     "text": [
      "c5d4\n",
      "0.815998\n",
      "cache_hit 3\n",
      "cache_called 68\n",
      "2rq1rk1/pp2bpp1/2n1p1p1/8/3PpBPP/2P5/PP2QP1N/2KR3R b - - 0 16\n"
     ]
    },
    {
     "name": "stderr",
     "output_type": "stream",
     "text": [
      "192.168.97.94 - - [16/Aug/2023 11:05:14] \"POST /predict HTTP/1.1\" 200 -\n"
     ]
    },
    {
     "name": "stdout",
     "output_type": "stream",
     "text": [
      "e7h4\n",
      "0.819744\n",
      "cache_hit 3\n",
      "cache_called 69\n",
      "2rq1rk1/pp3pp1/2n1p1p1/8/3PpBPb/2P2N2/PP2QP2/2KR3R b - - 1 17\n"
     ]
    },
    {
     "name": "stderr",
     "output_type": "stream",
     "text": [
      "192.168.97.94 - - [16/Aug/2023 11:05:17] \"POST /predict HTTP/1.1\" 200 -\n"
     ]
    },
    {
     "name": "stdout",
     "output_type": "stream",
     "text": [
      "e4f3\n",
      "0.804241\n",
      "cache_hit 3\n",
      "cache_called 70\n",
      "2rq1rk1/pp3pp1/2n1p1p1/8/3P1BPb/2P2Q2/PP3P2/2KR3R b - - 0 18\n"
     ]
    },
    {
     "name": "stderr",
     "output_type": "stream",
     "text": [
      "192.168.97.94 - - [16/Aug/2023 11:05:19] \"POST /predict HTTP/1.1\" 200 -\n"
     ]
    },
    {
     "name": "stdout",
     "output_type": "stream",
     "text": [
      "d8a5\n",
      "0.815\n",
      "cache_hit 3\n",
      "cache_called 71\n",
      "2r2rk1/pp3pp1/2n1p1p1/q7/3P1BPR/2P2Q2/PP3P2/2KR4 b - - 0 19\n"
     ]
    },
    {
     "name": "stderr",
     "output_type": "stream",
     "text": [
      "192.168.97.94 - - [16/Aug/2023 11:05:21] \"POST /predict HTTP/1.1\" 200 -\n"
     ]
    },
    {
     "name": "stdout",
     "output_type": "stream",
     "text": [
      "a5a2\n",
      "0.833956\n",
      "cache_hit 3\n",
      "cache_called 72\n",
      "2r2rk1/pp3pp1/2n1p1p1/8/3P1BP1/2P2Q2/qP3P2/2KR3R b - - 1 20\n"
     ]
    },
    {
     "name": "stderr",
     "output_type": "stream",
     "text": [
      "192.168.97.94 - - [16/Aug/2023 11:05:27] \"POST /predict HTTP/1.1\" 200 -\n"
     ]
    },
    {
     "name": "stdout",
     "output_type": "stream",
     "text": [
      "a2a1\n",
      "0.816989\n",
      "cache_hit 3\n",
      "cache_called 73\n",
      "2r2rk1/pp3pp1/2n1p1p1/8/3P1BP1/2P2Q2/1P1K1P2/q2R3R b - - 3 21\n"
     ]
    },
    {
     "name": "stderr",
     "output_type": "stream",
     "text": [
      "192.168.97.94 - - [16/Aug/2023 11:05:30] \"POST /predict HTTP/1.1\" 200 -\n"
     ]
    },
    {
     "name": "stdout",
     "output_type": "stream",
     "text": [
      "a1b2\n",
      "0.978725\n",
      "cache_hit 3\n",
      "cache_called 74\n",
      "2r2rk1/pp3pp1/2n1p1p1/8/3P1BP1/2P2Q2/1q3P2/3RK2R b - - 1 22\n"
     ]
    },
    {
     "name": "stderr",
     "output_type": "stream",
     "text": [
      "192.168.97.94 - - [16/Aug/2023 11:05:32] \"POST /predict HTTP/1.1\" 200 -\n"
     ]
    },
    {
     "name": "stdout",
     "output_type": "stream",
     "text": [
      "f8d8\n",
      "0.79623\n",
      "cache_hit 3\n",
      "cache_called 75\n",
      "2rr2k1/pp3pp1/2n1p1p1/8/3P1BP1/2P4Q/1q3P2/3RK2R b - - 3 23\n"
     ]
    },
    {
     "name": "stderr",
     "output_type": "stream",
     "text": [
      "192.168.97.94 - - [16/Aug/2023 11:05:35] \"POST /predict HTTP/1.1\" 200 -\n"
     ]
    },
    {
     "name": "stdout",
     "output_type": "stream",
     "text": [
      "b2c3\n",
      "0.760001\n",
      "cache_hit 3\n",
      "cache_called 76\n",
      "2rr2k1/pp3pp1/2n1p1p1/8/3P2P1/2q4Q/3B1P2/3RK2R b - - 1 24\n"
     ]
    },
    {
     "name": "stderr",
     "output_type": "stream",
     "text": [
      "192.168.97.94 - - [16/Aug/2023 11:05:39] \"POST /predict HTTP/1.1\" 200 -\n"
     ]
    },
    {
     "name": "stdout",
     "output_type": "stream",
     "text": [
      "c3d4\n",
      "0.81552\n",
      "cache_hit 3\n",
      "cache_called 77\n",
      "rnbqkbnr/pppppppp/8/8/8/8/PPPPPPPP/RNBQKBNR w KQkq - 0 1\n"
     ]
    },
    {
     "name": "stderr",
     "output_type": "stream",
     "text": [
      "192.168.97.94 - - [16/Aug/2023 11:06:27] \"POST /predict HTTP/1.1\" 200 -\n"
     ]
    },
    {
     "name": "stdout",
     "output_type": "stream",
     "text": [
      "e2e4\n",
      "0.792958\n",
      "cache_hit 3\n",
      "cache_called 78\n",
      "rnbqkbnr/pppp1ppp/8/4p3/4P3/8/PPPP1PPP/RNBQKBNR w KQkq e6 0 2\n"
     ]
    },
    {
     "name": "stderr",
     "output_type": "stream",
     "text": [
      "192.168.97.94 - - [16/Aug/2023 11:06:30] \"POST /predict HTTP/1.1\" 200 -\n"
     ]
    },
    {
     "name": "stdout",
     "output_type": "stream",
     "text": [
      "g1f3\n",
      "0.801457\n",
      "cache_hit 3\n",
      "cache_called 79\n",
      "r1bqkbnr/pppp1ppp/2n5/4p3/4P3/5N2/PPPP1PPP/RNBQKB1R w KQkq - 2 3\n"
     ]
    },
    {
     "name": "stderr",
     "output_type": "stream",
     "text": [
      "192.168.97.94 - - [16/Aug/2023 11:06:33] \"POST /predict HTTP/1.1\" 200 -\n"
     ]
    },
    {
     "name": "stdout",
     "output_type": "stream",
     "text": [
      "f1b5\n",
      "0.815951\n",
      "cache_hit 3\n",
      "cache_called 80\n",
      "r1bqk1nr/pppp1ppp/2n5/1Bb1p3/4P3/5N2/PPPP1PPP/RNBQK2R w KQkq - 4 4\n"
     ]
    },
    {
     "name": "stderr",
     "output_type": "stream",
     "text": [
      "192.168.97.94 - - [16/Aug/2023 11:06:35] \"POST /predict HTTP/1.1\" 200 -\n"
     ]
    },
    {
     "name": "stdout",
     "output_type": "stream",
     "text": [
      "e1g1\n",
      "0.813079\n",
      "cache_hit 3\n",
      "cache_called 81\n",
      "r1bqk2r/pppp1ppp/2n2n2/1Bb1p3/4P3/5N2/PPPP1PPP/RNBQ1RK1 w kq - 6 5\n"
     ]
    },
    {
     "name": "stderr",
     "output_type": "stream",
     "text": [
      "192.168.97.94 - - [16/Aug/2023 11:06:37] \"POST /predict HTTP/1.1\" 200 -\n"
     ]
    },
    {
     "name": "stdout",
     "output_type": "stream",
     "text": [
      "d2d3\n",
      "0.790293\n",
      "cache_hit 3\n",
      "cache_called 82\n",
      "r1bqk2r/1ppp1ppp/p1n2n2/1Bb1p3/4P3/3P1N2/PPP2PPP/RNBQ1RK1 w kq - 0 6\n"
     ]
    },
    {
     "name": "stderr",
     "output_type": "stream",
     "text": [
      "192.168.97.94 - - [16/Aug/2023 11:06:39] \"POST /predict HTTP/1.1\" 200 -\n"
     ]
    },
    {
     "name": "stdout",
     "output_type": "stream",
     "text": [
      "b5a4\n",
      "0.813997\n",
      "cache_hit 3\n",
      "cache_called 83\n",
      "r1bqk2r/2pp1ppp/p1n2n2/1pb1p3/B3P3/3P1N2/PPP2PPP/RNBQ1RK1 w kq b6 0 7\n"
     ]
    },
    {
     "name": "stderr",
     "output_type": "stream",
     "text": [
      "192.168.97.94 - - [16/Aug/2023 11:06:41] \"POST /predict HTTP/1.1\" 200 -\n"
     ]
    },
    {
     "name": "stdout",
     "output_type": "stream",
     "text": [
      "a4b3\n",
      "0.805966\n",
      "cache_hit 3\n",
      "cache_called 84\n",
      "r2qk2r/1bpp1ppp/p1n2n2/1pb1p3/4P3/1B1P1N2/PPP2PPP/RNBQ1RK1 w kq - 2 8\n"
     ]
    },
    {
     "name": "stderr",
     "output_type": "stream",
     "text": [
      "192.168.97.94 - - [16/Aug/2023 11:06:42] \"POST /predict HTTP/1.1\" 200 -\n"
     ]
    },
    {
     "name": "stdout",
     "output_type": "stream",
     "text": [
      "b1d2\n",
      "0.810999\n",
      "cache_hit 3\n",
      "cache_called 85\n",
      "r2qk2r/1bp2ppp/p1n2n2/1pbpp3/4P3/1B1P1N2/PPPN1PPP/R1BQ1RK1 w kq d6 0 9\n"
     ]
    },
    {
     "name": "stderr",
     "output_type": "stream",
     "text": [
      "192.168.97.94 - - [16/Aug/2023 11:06:47] \"POST /predict HTTP/1.1\" 200 -\n"
     ]
    },
    {
     "name": "stdout",
     "output_type": "stream",
     "text": [
      "f1e1\n",
      "0.814999\n",
      "cache_hit 3\n",
      "cache_called 86\n",
      "r2qk2r/1bp2ppp/p1n2n2/1pb1p3/4p3/1B1P1N2/PPPN1PPP/R1BQR1K1 w kq - 0 10\n"
     ]
    },
    {
     "name": "stderr",
     "output_type": "stream",
     "text": [
      "192.168.97.94 - - [16/Aug/2023 11:06:49] \"POST /predict HTTP/1.1\" 200 -\n"
     ]
    },
    {
     "name": "stdout",
     "output_type": "stream",
     "text": [
      "d3e4\n",
      "0.801545\n",
      "cache_hit 3\n",
      "cache_called 87\n",
      "r2q1rk1/1bp2ppp/p1n2n2/1pb1p3/4P3/1B3N2/PPPN1PPP/R1BQR1K1 w - - 1 11\n"
     ]
    },
    {
     "name": "stderr",
     "output_type": "stream",
     "text": [
      "192.168.97.94 - - [16/Aug/2023 11:06:53] \"POST /predict HTTP/1.1\" 200 -\n"
     ]
    },
    {
     "name": "stdout",
     "output_type": "stream",
     "text": [
      "d2f1\n",
      "0.790616\n",
      "cache_hit 3\n",
      "cache_called 88\n",
      "r4rk1/1bp2ppp/p1n2n2/1pb1p3/4P3/1B3N2/PPP2PPP/R1BqRNK1 w - - 0 12\n"
     ]
    },
    {
     "name": "stderr",
     "output_type": "stream",
     "text": [
      "192.168.97.94 - - [16/Aug/2023 11:06:55] \"POST /predict HTTP/1.1\" 200 -\n"
     ]
    },
    {
     "name": "stdout",
     "output_type": "stream",
     "text": [
      "f1g3\n",
      "0.828995\n",
      "cache_hit 3\n",
      "cache_called 89\n",
      "r4rk1/1bp2ppp/p1n2n2/1pb1p3/4P3/1B3NN1/PPP2PPP/R1B1q1K1 w - - 0 13\n"
     ]
    },
    {
     "name": "stderr",
     "output_type": "stream",
     "text": [
      "192.168.97.94 - - [16/Aug/2023 11:07:00] \"POST /predict HTTP/1.1\" 200 -\n"
     ]
    },
    {
     "name": "stdout",
     "output_type": "stream",
     "text": [
      "f3e1\n",
      "0.805936\n",
      "cache_hit 3\n",
      "cache_called 90\n",
      "3r1rk1/1bp2ppp/p1n2n2/1pb1p3/4P3/1B4N1/PPP2PPP/R1B1N1K1 w - - 1 14\n"
     ]
    },
    {
     "name": "stderr",
     "output_type": "stream",
     "text": [
      "192.168.97.94 - - [16/Aug/2023 11:07:08] \"POST /predict HTTP/1.1\" 200 -\n"
     ]
    },
    {
     "name": "stdout",
     "output_type": "stream",
     "text": [
      "c1e3\n",
      "0.800969\n",
      "cache_hit 3\n",
      "cache_called 91\n",
      "3r1rk1/1bp2ppp/p1n2n2/1p2p3/4P3/1B2b1N1/PPP2PPP/R3N1K1 w - - 0 15\n"
     ]
    },
    {
     "name": "stderr",
     "output_type": "stream",
     "text": [
      "192.168.97.94 - - [16/Aug/2023 11:07:12] \"POST /predict HTTP/1.1\" 200 -\n"
     ]
    },
    {
     "name": "stdout",
     "output_type": "stream",
     "text": [
      "f2e3\n",
      "0.811967\n",
      "cache_hit 3\n",
      "cache_called 92\n",
      "3r1rk1/1bp2ppp/p4n2/1p2p3/1n2P3/1B2P1N1/PPP3PP/R3N1K1 w - - 1 16\n"
     ]
    },
    {
     "name": "stderr",
     "output_type": "stream",
     "text": [
      "192.168.97.94 - - [16/Aug/2023 11:07:16] \"POST /predict HTTP/1.1\" 200 -\n"
     ]
    },
    {
     "name": "stdout",
     "output_type": "stream",
     "text": [
      "a1d1\n",
      "0.789767\n",
      "cache_hit 3\n",
      "cache_called 93\n",
      "5rk1/1bp2ppp/p4n2/1p2p3/1n2P3/1B2P1N1/PPP3PP/3rN1K1 w - - 0 17\n"
     ]
    },
    {
     "name": "stderr",
     "output_type": "stream",
     "text": [
      "192.168.97.94 - - [16/Aug/2023 11:07:20] \"POST /predict HTTP/1.1\" 200 -\n"
     ]
    },
    {
     "name": "stdout",
     "output_type": "stream",
     "text": [
      "g1f2\n",
      "0.810042\n",
      "cache_hit 3\n",
      "cache_called 94\n",
      "5rk1/2p2ppp/p4n2/1p2p3/1n2b3/1B2P1N1/PPP2KPP/3rN3 w - - 0 18\n"
     ]
    },
    {
     "name": "stderr",
     "output_type": "stream",
     "text": [
      "192.168.97.94 - - [16/Aug/2023 11:07:27] \"POST /predict HTTP/1.1\" 200 -\n"
     ]
    },
    {
     "name": "stdout",
     "output_type": "stream",
     "text": [
      "g3e4\n",
      "0.805001\n",
      "cache_hit 3\n",
      "cache_called 95\n",
      "5rk1/2p2ppp/p7/1p2p3/1n2n3/1B2P3/PPP2KPP/3rN3 w - - 0 19\n"
     ]
    },
    {
     "name": "stderr",
     "output_type": "stream",
     "text": [
      "192.168.97.94 - - [16/Aug/2023 11:07:28] \"POST /predict HTTP/1.1\" 200 -\n"
     ]
    },
    {
     "name": "stdout",
     "output_type": "stream",
     "text": [
      "f2e2\n",
      "0.822997\n",
      "cache_hit 3\n",
      "cache_called 96\n",
      "5rk1/2p2ppp/p7/1p2p3/1n2n3/1B2P3/PPP1K1PP/r3N3 w - - 2 20\n"
     ]
    },
    {
     "name": "stderr",
     "output_type": "stream",
     "text": [
      "192.168.97.94 - - [16/Aug/2023 11:07:32] \"POST /predict HTTP/1.1\" 200 -\n"
     ]
    },
    {
     "name": "stdout",
     "output_type": "stream",
     "text": [
      "e1f3\n",
      "0.809998\n",
      "cache_hit 3\n",
      "cache_called 97\n",
      "5rk1/2p2ppp/p7/1p2p3/4n3/1B2PN2/nPP1K1PP/r7 w - - 0 21\n"
     ]
    },
    {
     "name": "stderr",
     "output_type": "stream",
     "text": [
      "192.168.97.94 - - [16/Aug/2023 11:07:37] \"POST /predict HTTP/1.1\" 200 -\n"
     ]
    },
    {
     "name": "stdout",
     "output_type": "stream",
     "text": [
      "b3a2\n",
      "0.797955\n",
      "cache_hit 3\n",
      "cache_called 98\n",
      "5rk1/2p2ppp/p7/1p2p3/4n3/4PN2/rPP1K1PP/8 w - - 0 22\n"
     ]
    },
    {
     "name": "stderr",
     "output_type": "stream",
     "text": [
      "192.168.97.94 - - [16/Aug/2023 11:07:40] \"POST /predict HTTP/1.1\" 200 -\n"
     ]
    },
    {
     "name": "stdout",
     "output_type": "stream",
     "text": [
      "f3e5\n",
      "0.809974\n",
      "cache_hit 3\n",
      "cache_called 99\n",
      "5rk1/2p2ppp/p7/1p2N3/4n3/4P3/1rP1K1PP/8 w - - 0 23\n"
     ]
    },
    {
     "name": "stderr",
     "output_type": "stream",
     "text": [
      "192.168.97.94 - - [16/Aug/2023 11:07:42] \"POST /predict HTTP/1.1\" 200 -\n"
     ]
    },
    {
     "name": "stdout",
     "output_type": "stream",
     "text": [
      "e5c6\n",
      "0.790939\n",
      "cache_hit 3\n",
      "cache_called 100\n",
      "5rk1/2p2ppp/p1N5/1p6/4n3/4P3/2r1K1PP/8 w - - 0 24\n"
     ]
    },
    {
     "name": "stderr",
     "output_type": "stream",
     "text": [
      "192.168.97.94 - - [16/Aug/2023 11:07:43] \"POST /predict HTTP/1.1\" 200 -\n"
     ]
    },
    {
     "name": "stdout",
     "output_type": "stream",
     "text": [
      "e2f3\n",
      "0.642\n",
      "cache_hit 3\n",
      "cache_called 101\n",
      "5rk1/2p2ppp/p1N5/1p4n1/8/4PK2/2r3PP/8 w - - 2 25\n"
     ]
    },
    {
     "name": "stderr",
     "output_type": "stream",
     "text": [
      "192.168.97.94 - - [16/Aug/2023 11:07:45] \"POST /predict HTTP/1.1\" 200 -\n"
     ]
    },
    {
     "name": "stdout",
     "output_type": "stream",
     "text": [
      "f3f4\n",
      "0.684934\n",
      "cache_hit 3\n",
      "cache_called 102\n",
      "5rk1/2p3pp/p1N2p2/1p4n1/5K2/4P3/2r3PP/8 w - - 0 26\n"
     ]
    },
    {
     "name": "stderr",
     "output_type": "stream",
     "text": [
      "192.168.97.94 - - [16/Aug/2023 11:07:48] \"POST /predict HTTP/1.1\" 200 -\n"
     ]
    },
    {
     "name": "stdout",
     "output_type": "stream",
     "text": [
      "c6e7\n",
      "0.873947\n",
      "cache_hit 3\n",
      "cache_called 103\n",
      "5r1k/2p1N1pp/p4p2/1p4n1/5K2/4P3/2r3PP/8 w - - 2 27\n"
     ]
    },
    {
     "name": "stderr",
     "output_type": "stream",
     "text": [
      "192.168.97.94 - - [16/Aug/2023 11:07:51] \"POST /predict HTTP/1.1\" 200 -\n"
     ]
    },
    {
     "name": "stdout",
     "output_type": "stream",
     "text": [
      "f4f5\n",
      "0.683837\n",
      "cache_hit 3\n",
      "cache_called 104\n",
      "7k/2p1Nrpp/p4p2/1p3Kn1/8/4P3/2r3PP/8 w - - 4 28\n"
     ]
    },
    {
     "name": "stderr",
     "output_type": "stream",
     "text": [
      "192.168.97.94 - - [16/Aug/2023 11:07:54] \"POST /predict HTTP/1.1\" 200 -\n"
     ]
    },
    {
     "name": "stdout",
     "output_type": "stream",
     "text": [
      "e7d5\n",
      "0.673954\n",
      "cache_hit 3\n",
      "cache_called 105\n",
      "7k/2pr2pp/p4p2/1p1N1Kn1/8/4P3/2r3PP/8 w - - 6 29\n"
     ]
    },
    {
     "name": "stderr",
     "output_type": "stream",
     "text": [
      "192.168.97.94 - - [16/Aug/2023 11:07:57] \"POST /predict HTTP/1.1\" 200 -\n"
     ]
    },
    {
     "name": "stdout",
     "output_type": "stream",
     "text": [
      "d5f6\n",
      "0.684857\n",
      "cache_hit 3\n",
      "cache_called 106\n",
      "7k/2p3pp/p4N2/1p1r1Kn1/8/4P3/2r3PP/8 w - - 1 30\n"
     ]
    },
    {
     "name": "stderr",
     "output_type": "stream",
     "text": [
      "192.168.97.94 - - [16/Aug/2023 11:07:59] \"POST /predict HTTP/1.1\" 200 -\n"
     ]
    },
    {
     "name": "stdout",
     "output_type": "stream",
     "text": [
      "f6d5\n",
      "0.667773\n",
      "cache_hit 3\n",
      "cache_called 107\n",
      "7k/2p3pp/p7/1prN1Kn1/8/4P3/6PP/8 w - - 1 31\n"
     ]
    },
    {
     "name": "stderr",
     "output_type": "stream",
     "text": [
      "192.168.97.94 - - [16/Aug/2023 11:08:02] \"POST /predict HTTP/1.1\" 200 -\n"
     ]
    },
    {
     "name": "stdout",
     "output_type": "stream",
     "text": [
      "f5g5\n",
      "0.672999\n",
      "cache_hit 3\n",
      "cache_called 108\n",
      "7k/2p3pp/p7/1p1r2K1/8/4P3/6PP/8 w - - 0 32\n"
     ]
    },
    {
     "name": "stderr",
     "output_type": "stream",
     "text": [
      "192.168.97.94 - - [16/Aug/2023 11:08:04] \"POST /predict HTTP/1.1\" 200 -\n"
     ]
    },
    {
     "name": "stdout",
     "output_type": "stream",
     "text": [
      "g5f4\n",
      "0.573998\n",
      "cache_hit 3\n",
      "cache_called 109\n",
      "7k/2p3pp/p7/1p6/5K2/4P3/3r2PP/8 w - - 2 33\n"
     ]
    },
    {
     "name": "stderr",
     "output_type": "stream",
     "text": [
      "192.168.97.94 - - [16/Aug/2023 11:08:05] \"POST /predict HTTP/1.1\" 200 -\n"
     ]
    },
    {
     "name": "stdout",
     "output_type": "stream",
     "text": [
      "f4f3\n",
      "0.587996\n",
      "cache_hit 3\n",
      "cache_called 110\n",
      "6k1/2p3pp/p7/1p6/8/4PK2/3r2PP/8 w - - 4 34\n"
     ]
    },
    {
     "name": "stderr",
     "output_type": "stream",
     "text": [
      "192.168.97.94 - - [16/Aug/2023 11:08:08] \"POST /predict HTTP/1.1\" 200 -\n"
     ]
    },
    {
     "name": "stdout",
     "output_type": "stream",
     "text": [
      "f3f4\n",
      "0.563885\n",
      "cache_hit 3\n",
      "cache_called 111\n",
      "8/2p2kpp/p7/1p6/5K2/4P3/3r2PP/8 w - - 6 35\n"
     ]
    },
    {
     "name": "stderr",
     "output_type": "stream",
     "text": [
      "192.168.97.94 - - [16/Aug/2023 11:08:10] \"POST /predict HTTP/1.1\" 200 -\n"
     ]
    },
    {
     "name": "stdout",
     "output_type": "stream",
     "text": [
      "f4e5\n",
      "0.556\n",
      "cache_hit 3\n",
      "cache_called 112\n",
      "8/2p3pp/p5k1/1p2K3/8/4P3/3r2PP/8 w - - 8 36\n"
     ]
    },
    {
     "name": "stderr",
     "output_type": "stream",
     "text": [
      "192.168.97.94 - - [16/Aug/2023 11:08:12] \"POST /predict HTTP/1.1\" 200 -\n"
     ]
    },
    {
     "name": "stdout",
     "output_type": "stream",
     "text": [
      "e5e6\n",
      "0.570796\n",
      "cache_hit 3\n",
      "cache_called 113\n",
      "8/2p3pp/p3K1k1/1p6/8/4P3/6rP/8 w - - 0 37\n"
     ]
    },
    {
     "name": "stderr",
     "output_type": "stream",
     "text": [
      "192.168.97.94 - - [16/Aug/2023 11:08:13] \"POST /predict HTTP/1.1\" 200 -\n"
     ]
    },
    {
     "name": "stdout",
     "output_type": "stream",
     "text": [
      "h2h4\n",
      "0.433002\n",
      "cache_hit 3\n",
      "cache_called 114\n",
      "8/2p3pp/p3K1k1/1p6/7P/4P3/4r3/8 w - - 1 38\n"
     ]
    },
    {
     "name": "stderr",
     "output_type": "stream",
     "text": [
      "192.168.97.94 - - [16/Aug/2023 11:08:17] \"POST /predict HTTP/1.1\" 200 -\n"
     ]
    },
    {
     "name": "stdout",
     "output_type": "stream",
     "text": [
      "e6d7\n",
      "0.442542\n",
      "cache_hit 3\n",
      "cache_called 115\n",
      "8/2pK2pp/p5k1/1p6/7P/4r3/8/8 w - - 0 39\n"
     ]
    },
    {
     "name": "stderr",
     "output_type": "stream",
     "text": [
      "192.168.97.94 - - [16/Aug/2023 11:08:18] \"POST /predict HTTP/1.1\" 200 -\n"
     ]
    },
    {
     "name": "stdout",
     "output_type": "stream",
     "text": [
      "d7c7\n",
      "0.299\n",
      "cache_hit 3\n",
      "cache_called 116\n",
      "8/2K3pp/p5k1/1p6/7P/7r/8/8 w - - 1 40\n"
     ]
    },
    {
     "name": "stderr",
     "output_type": "stream",
     "text": [
      "192.168.97.94 - - [16/Aug/2023 11:08:19] \"POST /predict HTTP/1.1\" 200 -\n"
     ]
    },
    {
     "name": "stdout",
     "output_type": "stream",
     "text": [
      "c7c6\n",
      "0.308945\n",
      "cache_hit 3\n",
      "cache_called 117\n"
     ]
    },
    {
     "name": "stderr",
     "output_type": "stream",
     "text": [
      "192.168.97.94 - - [16/Aug/2023 11:08:20] \"POST /predict HTTP/1.1\" 200 -\n"
     ]
    },
    {
     "name": "stdout",
     "output_type": "stream",
     "text": [
      "8/6pp/p1K3k1/1p6/7r/8/8/8 w - - 0 41\n",
      "c6c5\n",
      "0.180342\n",
      "cache_hit 3\n",
      "cache_called 118\n"
     ]
    },
    {
     "name": "stderr",
     "output_type": "stream",
     "text": [
      "192.168.97.94 - - [16/Aug/2023 11:08:22] \"POST /predict HTTP/1.1\" 200 -\n"
     ]
    },
    {
     "name": "stdout",
     "output_type": "stream",
     "text": [
      "8/6pp/p5k1/1pK5/4r3/8/8/8 w - - 2 42\n",
      "c5b6\n",
      "0.17597\n",
      "cache_hit 3\n",
      "cache_called 119\n"
     ]
    },
    {
     "name": "stderr",
     "output_type": "stream",
     "text": [
      "192.168.97.94 - - [16/Aug/2023 11:08:24] \"POST /predict HTTP/1.1\" 200 -\n"
     ]
    },
    {
     "name": "stdout",
     "output_type": "stream",
     "text": [
      "8/6p1/pK4k1/1p5p/4r3/8/8/8 w - h6 0 43\n",
      "b6a6\n",
      "0.181585\n",
      "cache_hit 3\n",
      "cache_called 120\n"
     ]
    },
    {
     "name": "stderr",
     "output_type": "stream",
     "text": [
      "192.168.97.94 - - [16/Aug/2023 11:08:25] \"POST /predict HTTP/1.1\" 200 -\n"
     ]
    },
    {
     "name": "stdout",
     "output_type": "stream",
     "text": [
      "8/6p1/K5k1/1p6/4r2p/8/8/8 w - - 0 44\n",
      "a6b5\n",
      "0.18193\n",
      "cache_hit 3\n",
      "cache_called 121\n"
     ]
    },
    {
     "name": "stderr",
     "output_type": "stream",
     "text": [
      "192.168.97.94 - - [16/Aug/2023 11:08:26] \"POST /predict HTTP/1.1\" 200 -\n"
     ]
    },
    {
     "name": "stdout",
     "output_type": "stream",
     "text": [
      "8/6p1/6k1/1K6/4r3/7p/8/8 w - - 0 45\n",
      "b5c6\n",
      "0.175531\n",
      "cache_hit 3\n",
      "cache_called 122\n"
     ]
    },
    {
     "name": "stderr",
     "output_type": "stream",
     "text": [
      "192.168.97.94 - - [16/Aug/2023 11:08:28] \"POST /predict HTTP/1.1\" 200 -\n"
     ]
    },
    {
     "name": "stdout",
     "output_type": "stream",
     "text": [
      "8/6p1/2K3k1/8/4r3/8/7p/8 w - - 0 46\n",
      "c6d5\n",
      "0.181001\n",
      "cache_hit 3\n",
      "cache_called 123\n"
     ]
    },
    {
     "name": "stderr",
     "output_type": "stream",
     "text": [
      "192.168.97.94 - - [16/Aug/2023 11:08:28] \"POST /predict HTTP/1.1\" 200 -\n"
     ]
    },
    {
     "name": "stdout",
     "output_type": "stream",
     "text": [
      "8/6p1/6k1/3K4/4r3/8/8/7q w - - 0 47\n",
      "d5c5\n",
      "0.180999\n",
      "cache_hit 3\n",
      "cache_called 124\n"
     ]
    },
    {
     "name": "stderr",
     "output_type": "stream",
     "text": [
      "192.168.97.94 - - [16/Aug/2023 11:08:31] \"POST /predict HTTP/1.1\" 200 -\n"
     ]
    },
    {
     "name": "stdout",
     "output_type": "stream",
     "text": [
      "8/6p1/4r1k1/2K5/8/8/8/7q w - - 2 48\n",
      "c5d4\n",
      "0.178946\n",
      "cache_hit 3\n",
      "cache_called 125\n"
     ]
    },
    {
     "name": "stderr",
     "output_type": "stream",
     "text": [
      "192.168.97.94 - - [16/Aug/2023 11:08:33] \"POST /predict HTTP/1.1\" 200 -\n"
     ]
    },
    {
     "name": "stdout",
     "output_type": "stream",
     "text": [
      "8/6p1/4r1k1/8/3K4/8/8/3q4 w - - 4 49\n",
      "d4c5\n",
      "0.180995\n",
      "cache_hit 3\n",
      "cache_called 126\n"
     ]
    },
    {
     "name": "stderr",
     "output_type": "stream",
     "text": [
      "192.168.97.94 - - [16/Aug/2023 11:08:36] \"POST /predict HTTP/1.1\" 200 -\n"
     ]
    },
    {
     "name": "stdout",
     "output_type": "stream",
     "text": [
      "8/6p1/3r2k1/2K5/8/8/8/3q4 w - - 6 50\n",
      "c5b4\n",
      "0.178999\n",
      "cache_hit 3\n",
      "cache_called 127\n"
     ]
    },
    {
     "name": "stderr",
     "output_type": "stream",
     "text": [
      "192.168.97.94 - - [16/Aug/2023 11:08:41] \"POST /predict HTTP/1.1\" 200 -\n"
     ]
    },
    {
     "name": "stdout",
     "output_type": "stream",
     "text": [
      "8/6p1/2r3k1/8/1K6/8/8/3q4 w - - 8 51\n",
      "b4b5\n",
      "0.176999\n",
      "cache_hit 3\n",
      "cache_called 128\n"
     ]
    },
    {
     "name": "stderr",
     "output_type": "stream",
     "text": [
      "192.168.97.94 - - [16/Aug/2023 11:08:42] \"POST /predict HTTP/1.1\" 200 -\n"
     ]
    },
    {
     "name": "stdout",
     "output_type": "stream",
     "text": [
      "2r5/6p1/6k1/1K6/8/8/8/3q4 w - - 10 52\n",
      "b5a5\n",
      "0.178127\n",
      "cache_hit 3\n",
      "cache_called 129\n"
     ]
    },
    {
     "name": "stderr",
     "output_type": "stream",
     "text": [
      "192.168.97.94 - - [16/Aug/2023 11:08:46] \"POST /predict HTTP/1.1\" 200 -\n"
     ]
    },
    {
     "name": "stdout",
     "output_type": "stream",
     "text": [
      "2r5/6p1/6k1/K7/8/8/3q4/8 w - - 12 53\n",
      "a5b6\n",
      "0.188959\n",
      "cache_hit 3\n",
      "cache_called 130\n"
     ]
    },
    {
     "name": "stderr",
     "output_type": "stream",
     "text": [
      "192.168.97.94 - - [16/Aug/2023 11:08:48] \"POST /predict HTTP/1.1\" 200 -\n"
     ]
    },
    {
     "name": "stdout",
     "output_type": "stream",
     "text": [
      "2r5/6p1/1K4k1/8/8/8/1q6/8 w - - 14 54\n",
      "b6a7\n",
      "0.177619\n",
      "cache_hit 3\n",
      "cache_called 131\n"
     ]
    },
    {
     "name": "stderr",
     "output_type": "stream",
     "text": [
      "192.168.97.94 - - [16/Aug/2023 11:08:53] \"POST /predict HTTP/1.1\" 200 -\n"
     ]
    },
    {
     "name": "stdout",
     "output_type": "stream",
     "text": [
      "2r5/Kq4p1/6k1/8/8/8/8/8 w - - 16 55\n",
      "a7b7\n",
      "0.178986\n",
      "cache_hit 3\n",
      "cache_called 132\n"
     ]
    },
    {
     "name": "stderr",
     "output_type": "stream",
     "text": [
      "192.168.97.94 - - [16/Aug/2023 11:08:57] \"POST /predict HTTP/1.1\" 200 -\n"
     ]
    },
    {
     "name": "stdout",
     "output_type": "stream",
     "text": [
      "8/1K4p1/6k1/8/8/8/8/2r5 w - - 1 56\n",
      "b7a8\n",
      "0.18391\n",
      "cache_hit 3\n",
      "cache_called 133\n"
     ]
    },
    {
     "name": "stderr",
     "output_type": "stream",
     "text": [
      "192.168.97.94 - - [16/Aug/2023 11:08:58] \"POST /predict HTTP/1.1\" 200 -\n"
     ]
    },
    {
     "name": "stdout",
     "output_type": "stream",
     "text": [
      "K7/6p1/5k2/8/8/8/8/2r5 w - - 3 57\n",
      "a8b8\n",
      "0.179\n",
      "cache_hit 3\n",
      "cache_called 134\n"
     ]
    },
    {
     "name": "stderr",
     "output_type": "stream",
     "text": [
      "192.168.97.94 - - [16/Aug/2023 11:08:59] \"POST /predict HTTP/1.1\" 200 -\n"
     ]
    },
    {
     "name": "stdout",
     "output_type": "stream",
     "text": [
      "1K6/8/5kp1/8/8/8/8/2r5 w - - 0 58\n",
      "b8a8\n",
      "0.177503\n",
      "cache_hit 3\n",
      "cache_called 135\n"
     ]
    },
    {
     "name": "stderr",
     "output_type": "stream",
     "text": [
      "192.168.97.94 - - [16/Aug/2023 11:09:00] \"POST /predict HTTP/1.1\" 200 -\n"
     ]
    },
    {
     "name": "stdout",
     "output_type": "stream",
     "text": [
      "K7/8/5k2/6p1/8/8/8/2r5 w - - 0 59\n",
      "a8b8\n",
      "0.194992\n",
      "cache_hit 3\n",
      "cache_called 136\n"
     ]
    },
    {
     "name": "stderr",
     "output_type": "stream",
     "text": [
      "192.168.97.94 - - [16/Aug/2023 11:09:01] \"POST /predict HTTP/1.1\" 200 -\n"
     ]
    },
    {
     "name": "stdout",
     "output_type": "stream",
     "text": [
      "1K6/8/5k2/8/6p1/8/8/2r5 w - - 0 60\n",
      "b8b7\n",
      "0.175983\n",
      "cache_hit 3\n",
      "cache_called 137\n"
     ]
    },
    {
     "name": "stderr",
     "output_type": "stream",
     "text": [
      "192.168.97.94 - - [16/Aug/2023 11:09:02] \"POST /predict HTTP/1.1\" 200 -\n"
     ]
    },
    {
     "name": "stdout",
     "output_type": "stream",
     "text": [
      "8/1K6/5k2/8/8/6p1/8/2r5 w - - 0 61\n",
      "b7b6\n",
      "0.184996\n",
      "cache_hit 3\n",
      "cache_called 138\n"
     ]
    },
    {
     "name": "stderr",
     "output_type": "stream",
     "text": [
      "192.168.97.94 - - [16/Aug/2023 11:09:03] \"POST /predict HTTP/1.1\" 200 -\n"
     ]
    },
    {
     "name": "stdout",
     "output_type": "stream",
     "text": [
      "8/8/1K3k2/8/8/8/6p1/2r5 w - - 0 62\n",
      "b6b5\n",
      "0.18\n",
      "cache_hit 3\n",
      "cache_called 139\n"
     ]
    },
    {
     "name": "stderr",
     "output_type": "stream",
     "text": [
      "192.168.97.94 - - [16/Aug/2023 11:09:03] \"POST /predict HTTP/1.1\" 200 -\n"
     ]
    },
    {
     "name": "stdout",
     "output_type": "stream",
     "text": [
      "8/8/5k2/1K6/8/8/8/2r3q1 w - - 0 63\n",
      "b5a6\n",
      "0.190998\n",
      "cache_hit 3\n",
      "cache_called 140\n"
     ]
    },
    {
     "name": "stderr",
     "output_type": "stream",
     "text": [
      "192.168.97.94 - - [16/Aug/2023 11:09:07] \"POST /predict HTTP/1.1\" 200 -\n"
     ]
    },
    {
     "name": "stdout",
     "output_type": "stream",
     "text": [
      "8/8/K4k2/8/3q4/8/8/2r5 w - - 2 64\n",
      "a6b7\n",
      "0.181936\n",
      "cache_hit 3\n",
      "cache_called 141\n"
     ]
    },
    {
     "name": "stderr",
     "output_type": "stream",
     "text": [
      "192.168.97.94 - - [16/Aug/2023 11:09:10] \"POST /predict HTTP/1.1\" 200 -\n"
     ]
    },
    {
     "name": "stdout",
     "output_type": "stream",
     "text": [
      "8/1K6/5k2/8/1q6/8/8/2r5 w - - 4 65\n",
      "b7a8\n",
      "0.181731\n",
      "cache_hit 3\n",
      "cache_called 142\n"
     ]
    },
    {
     "name": "stderr",
     "output_type": "stream",
     "text": [
      "192.168.97.94 - - [16/Aug/2023 11:14:15] \"POST /predict HTTP/1.1\" 200 -\n"
     ]
    },
    {
     "name": "stdout",
     "output_type": "stream",
     "text": [
      "rnbqkbnr/pppppppp/8/8/8/8/PPPPPPPP/RNBQKBNR w KQkq - 0 1\n",
      "e2e4\n",
      "0.0\n",
      "cache_hit 4\n",
      "cache_called 143\n"
     ]
    },
    {
     "name": "stderr",
     "output_type": "stream",
     "text": [
      "192.168.97.94 - - [16/Aug/2023 11:14:19] \"POST /predict HTTP/1.1\" 200 -\n"
     ]
    },
    {
     "name": "stdout",
     "output_type": "stream",
     "text": [
      "rnbqkbnr/pppppppp/8/8/8/8/PPPPPPPP/RNBQKBNR w KQkq - 0 1\n",
      "e2e4\n",
      "0.0\n",
      "cache_hit 5\n",
      "cache_called 144\n"
     ]
    },
    {
     "name": "stderr",
     "output_type": "stream",
     "text": [
      "192.168.97.94 - - [16/Aug/2023 11:14:22] \"POST /predict HTTP/1.1\" 200 -\n"
     ]
    },
    {
     "name": "stdout",
     "output_type": "stream",
     "text": [
      "rnbqkbnr/pppp1ppp/8/4p3/4P3/8/PPPP1PPP/RNBQKBNR w KQkq e6 0 2\n",
      "g1f3\n",
      "0.0\n",
      "cache_hit 6\n",
      "cache_called 145\n"
     ]
    },
    {
     "name": "stderr",
     "output_type": "stream",
     "text": [
      "192.168.97.94 - - [16/Aug/2023 11:14:25] \"POST /predict HTTP/1.1\" 200 -\n"
     ]
    },
    {
     "name": "stdout",
     "output_type": "stream",
     "text": [
      "r1bqkbnr/pppp1ppp/2n5/4p3/4P3/5N2/PPPP1PPP/RNBQKB1R w KQkq - 2 3\n",
      "f1b5\n",
      "0.0\n",
      "cache_hit 7\n",
      "cache_called 146\n",
      "r1bqkbnr/1ppp1ppp/p1n5/1B2p3/4P3/5N2/PPPP1PPP/RNBQK2R w KQkq - 0 4\n",
      "WARNING:tensorflow:5 out of the last 731 calls to <function Model.make_predict_function.<locals>.predict_function at 0x000001EE47229870> triggered tf.function retracing. Tracing is expensive and the excessive number of tracings could be due to (1) creating @tf.function repeatedly in a loop, (2) passing tensors with different shapes, (3) passing Python objects instead of tensors. For (1), please define your @tf.function outside of the loop. For (2), @tf.function has reduce_retracing=True option that can avoid unnecessary retracing. For (3), please refer to https://www.tensorflow.org/guide/function#controlling_retracing and https://www.tensorflow.org/api_docs/python/tf/function for  more details.\n",
      "WARNING:tensorflow:6 out of the last 732 calls to <function Model.make_predict_function.<locals>.predict_function at 0x000001EE42A35120> triggered tf.function retracing. Tracing is expensive and the excessive number of tracings could be due to (1) creating @tf.function repeatedly in a loop, (2) passing tensors with different shapes, (3) passing Python objects instead of tensors. For (1), please define your @tf.function outside of the loop. For (2), @tf.function has reduce_retracing=True option that can avoid unnecessary retracing. For (3), please refer to https://www.tensorflow.org/guide/function#controlling_retracing and https://www.tensorflow.org/api_docs/python/tf/function for  more details.\n"
     ]
    },
    {
     "name": "stderr",
     "output_type": "stream",
     "text": [
      "192.168.97.94 - - [16/Aug/2023 11:14:28] \"POST /predict HTTP/1.1\" 200 -\n"
     ]
    },
    {
     "name": "stdout",
     "output_type": "stream",
     "text": [
      "b5a4\n",
      "1.335998\n",
      "cache_hit 7\n",
      "cache_called 147\n",
      "r1bqkbnr/2pp1ppp/p1n5/1p2p3/B3P3/5N2/PPPP1PPP/RNBQK2R w KQkq b6 0 5\n"
     ]
    },
    {
     "name": "stderr",
     "output_type": "stream",
     "text": [
      "192.168.97.94 - - [16/Aug/2023 11:14:30] \"POST /predict HTTP/1.1\" 200 -\n"
     ]
    },
    {
     "name": "stdout",
     "output_type": "stream",
     "text": [
      "a4b3\n",
      "0.782002\n",
      "cache_hit 7\n",
      "cache_called 148\n",
      "r1bqkb1r/2pp1ppp/p1n2n2/1p2p3/4P3/1B3N2/PPPP1PPP/RNBQK2R w KQkq - 2 6\n"
     ]
    },
    {
     "name": "stderr",
     "output_type": "stream",
     "text": [
      "192.168.97.94 - - [16/Aug/2023 11:14:32] \"POST /predict HTTP/1.1\" 200 -\n"
     ]
    },
    {
     "name": "stdout",
     "output_type": "stream",
     "text": [
      "e1g1\n",
      "0.777783\n",
      "cache_hit 7\n",
      "cache_called 149\n",
      "r1bqkb1r/2pp1ppp/p1n5/1p2p3/4n3/1B3N2/PPPP1PPP/RNBQ1RK1 w kq - 0 7\n"
     ]
    },
    {
     "name": "stderr",
     "output_type": "stream",
     "text": [
      "192.168.97.94 - - [16/Aug/2023 11:14:37] \"POST /predict HTTP/1.1\" 200 -\n"
     ]
    },
    {
     "name": "stdout",
     "output_type": "stream",
     "text": [
      "d2d4\n",
      "0.896997\n",
      "cache_hit 7\n",
      "cache_called 150\n",
      "r1bqkb1r/2pp1ppp/p1n5/1p6/3pn3/1B3N2/PPP2PPP/RNBQ1RK1 w kq - 0 8\n"
     ]
    },
    {
     "name": "stderr",
     "output_type": "stream",
     "text": [
      "192.168.97.94 - - [16/Aug/2023 11:14:40] \"POST /predict HTTP/1.1\" 200 -\n"
     ]
    },
    {
     "name": "stdout",
     "output_type": "stream",
     "text": [
      "b1d2\n",
      "0.797975\n",
      "cache_hit 7\n",
      "cache_called 151\n",
      "r1bqk2r/2pp1ppp/p1n5/1p6/1b1pn3/1B3N2/PPPN1PPP/R1BQ1RK1 w kq - 2 9\n"
     ]
    },
    {
     "name": "stderr",
     "output_type": "stream",
     "text": [
      "192.168.97.94 - - [16/Aug/2023 11:14:46] \"POST /predict HTTP/1.1\" 200 -\n"
     ]
    },
    {
     "name": "stdout",
     "output_type": "stream",
     "text": [
      "d2e4\n",
      "0.801998\n",
      "cache_hit 7\n",
      "cache_called 152\n",
      "r1bq1rk1/2pp1ppp/p1n5/1p6/1b1pN3/1B3N2/PPP2PPP/R1BQ1RK1 w - - 1 10\n"
     ]
    },
    {
     "name": "stderr",
     "output_type": "stream",
     "text": [
      "192.168.97.94 - - [16/Aug/2023 11:14:50] \"POST /predict HTTP/1.1\" 200 -\n"
     ]
    },
    {
     "name": "stdout",
     "output_type": "stream",
     "text": [
      "e4g3\n",
      "0.973943\n",
      "cache_hit 7\n",
      "cache_called 153\n",
      "r1b2rk1/2pp1ppp/p1n2q2/1p6/1b1p4/1B3NN1/PPP2PPP/R1BQ1RK1 w - - 3 11\n"
     ]
    },
    {
     "name": "stderr",
     "output_type": "stream",
     "text": [
      "192.168.97.94 - - [16/Aug/2023 11:14:53] \"POST /predict HTTP/1.1\" 200 -\n"
     ]
    },
    {
     "name": "stdout",
     "output_type": "stream",
     "text": [
      "c1d2\n",
      "0.800918\n",
      "cache_hit 7\n",
      "cache_called 154\n",
      "r1b2rk1/2p2ppp/p1n2q2/1p1p4/1b1p4/1B3NN1/PPPB1PPP/R2Q1RK1 w - d6 0 12\n"
     ]
    },
    {
     "name": "stderr",
     "output_type": "stream",
     "text": [
      "192.168.97.94 - - [16/Aug/2023 11:14:55] \"POST /predict HTTP/1.1\" 200 -\n"
     ]
    },
    {
     "name": "stdout",
     "output_type": "stream",
     "text": [
      "d2g5\n",
      "0.761999\n",
      "cache_hit 7\n",
      "cache_called 155\n",
      "r1b2rk1/2p2ppp/p1n1q3/1p1p2B1/1b1p4/1B3NN1/PPP2PPP/R2Q1RK1 w - - 2 13\n"
     ]
    },
    {
     "name": "stderr",
     "output_type": "stream",
     "text": [
      "192.168.97.94 - - [16/Aug/2023 11:15:02] \"POST /predict HTTP/1.1\" 200 -\n"
     ]
    },
    {
     "name": "stdout",
     "output_type": "stream",
     "text": [
      "a2a3\n",
      "0.800564\n",
      "cache_hit 7\n",
      "cache_called 156\n",
      "r1b2rk1/2p2ppp/p1n1q3/1pbp2B1/3p4/PB3NN1/1PP2PPP/R2Q1RK1 w - - 1 14\n"
     ]
    },
    {
     "name": "stderr",
     "output_type": "stream",
     "text": [
      "192.168.97.94 - - [16/Aug/2023 11:15:05] \"POST /predict HTTP/1.1\" 200 -\n"
     ]
    },
    {
     "name": "stdout",
     "output_type": "stream",
     "text": [
      "f1e1\n",
      "0.807999\n",
      "cache_hit 7\n",
      "cache_called 157\n",
      "r1b2rk1/2p2ppp/p1nq4/1pbp2B1/3p4/PB3NN1/1PP2PPP/R2QR1K1 w - - 3 15\n"
     ]
    },
    {
     "name": "stderr",
     "output_type": "stream",
     "text": [
      "192.168.97.94 - - [16/Aug/2023 11:15:07] \"POST /predict HTTP/1.1\" 200 -\n"
     ]
    },
    {
     "name": "stdout",
     "output_type": "stream",
     "text": [
      "g3f5\n",
      "0.808714\n",
      "cache_hit 7\n",
      "cache_called 158\n",
      "r1b2rk1/2pq1ppp/p1n5/1pbp1NB1/3p4/PB3N2/1PP2PPP/R2QR1K1 w - - 5 16\n"
     ]
    },
    {
     "name": "stderr",
     "output_type": "stream",
     "text": [
      "192.168.97.94 - - [16/Aug/2023 11:15:12] \"POST /predict HTTP/1.1\" 200 -\n"
     ]
    },
    {
     "name": "stdout",
     "output_type": "stream",
     "text": [
      "f5h6\n",
      "0.780249\n",
      "cache_hit 7\n",
      "cache_called 159\n",
      "r1b2rk1/2pq1p1p/p1n4p/1pbp2B1/3p4/PB3N2/1PP2PPP/R2QR1K1 w - - 0 17\n"
     ]
    },
    {
     "name": "stderr",
     "output_type": "stream",
     "text": [
      "192.168.97.94 - - [16/Aug/2023 11:15:16] \"POST /predict HTTP/1.1\" 200 -\n"
     ]
    },
    {
     "name": "stdout",
     "output_type": "stream",
     "text": [
      "g5f4\n",
      "0.805681\n",
      "cache_hit 7\n",
      "cache_called 160\n",
      "r1b2r1k/2pq1p1p/p1n4p/1pbp4/3p1B2/PB3N2/1PP2PPP/R2QR1K1 w - - 2 18\n"
     ]
    },
    {
     "name": "stderr",
     "output_type": "stream",
     "text": [
      "192.168.97.94 - - [16/Aug/2023 11:15:18] \"POST /predict HTTP/1.1\" 200 -\n"
     ]
    },
    {
     "name": "stdout",
     "output_type": "stream",
     "text": [
      "f3e5\n",
      "0.779995\n",
      "cache_hit 7\n",
      "cache_called 161\n",
      "r1bq1r1k/2p2p1p/p1n4p/1pbpN3/3p1B2/PB6/1PP2PPP/R2QR1K1 w - - 4 19\n"
     ]
    },
    {
     "name": "stderr",
     "output_type": "stream",
     "text": [
      "192.168.97.94 - - [16/Aug/2023 11:15:23] \"POST /predict HTTP/1.1\" 200 -\n"
     ]
    },
    {
     "name": "stdout",
     "output_type": "stream",
     "text": [
      "e5c6\n",
      "0.805932\n",
      "cache_hit 7\n",
      "cache_called 162\n",
      "r1b2r1k/2pq1p1p/p1N4p/1pbp4/3p1B2/PB6/1PP2PPP/R2QR1K1 w - - 1 20\n"
     ]
    },
    {
     "name": "stderr",
     "output_type": "stream",
     "text": [
      "192.168.97.94 - - [16/Aug/2023 11:15:29] \"POST /predict HTTP/1.1\" 200 -\n"
     ]
    },
    {
     "name": "stdout",
     "output_type": "stream",
     "text": [
      "c6d4\n",
      "0.814001\n",
      "cache_hit 7\n",
      "cache_called 163\n",
      "r1b2r1k/2pq1p1p/p6p/1p1p4/3b1B2/PB6/1PP2PPP/R2QR1K1 w - - 0 21\n"
     ]
    },
    {
     "name": "stderr",
     "output_type": "stream",
     "text": [
      "192.168.97.94 - - [16/Aug/2023 11:15:32] \"POST /predict HTTP/1.1\" 200 -\n"
     ]
    },
    {
     "name": "stdout",
     "output_type": "stream",
     "text": [
      "d1d4\n",
      "0.805736\n",
      "cache_hit 7\n",
      "cache_called 164\n",
      "r1b2rk1/2pq1p1p/p6p/1p1p4/3Q1B2/PB6/1PP2PPP/R3R1K1 w - - 1 22\n"
     ]
    },
    {
     "name": "stderr",
     "output_type": "stream",
     "text": [
      "192.168.97.94 - - [16/Aug/2023 11:15:36] \"POST /predict HTTP/1.1\" 200 -\n"
     ]
    },
    {
     "name": "stdout",
     "output_type": "stream",
     "text": [
      "f4h6\n",
      "0.81068\n",
      "cache_hit 7\n",
      "cache_called 165\n",
      "r1b2rk1/2p2p1p/p2q3B/1p1p4/3Q4/PB6/1PP2PPP/R3R1K1 w - - 1 23\n"
     ]
    },
    {
     "name": "stderr",
     "output_type": "stream",
     "text": [
      "192.168.97.94 - - [16/Aug/2023 11:15:42] \"POST /predict HTTP/1.1\" 200 -\n"
     ]
    },
    {
     "name": "stdout",
     "output_type": "stream",
     "text": [
      "d4g4\n",
      "0.796001\n",
      "cache_hit 7\n",
      "cache_called 166\n",
      "r1b2r1k/2p2p1p/p2q3B/1p1p4/6Q1/PB6/1PP2PPP/R3R1K1 w - - 3 24\n"
     ]
    },
    {
     "name": "stderr",
     "output_type": "stream",
     "text": [
      "192.168.97.94 - - [16/Aug/2023 11:15:45] \"POST /predict HTTP/1.1\" 200 -\n"
     ]
    },
    {
     "name": "stdout",
     "output_type": "stream",
     "text": [
      "g4g7\n",
      "0.778192\n",
      "cache_hit 7\n",
      "cache_called 167\n"
     ]
    },
    {
     "name": "stderr",
     "output_type": "stream",
     "text": [
      "192.168.97.94 - - [16/Aug/2023 11:16:28] \"POST /predict HTTP/1.1\" 200 -\n"
     ]
    },
    {
     "name": "stdout",
     "output_type": "stream",
     "text": [
      "rnbqkbnr/pppppppp/8/8/8/8/PPPPPPPP/RNBQKBNR w KQkq - 0 1\n",
      "e2e4\n",
      "0.0\n",
      "cache_hit 8\n",
      "cache_called 168\n",
      "rnbqkbnr/ppp1pppp/8/3p4/4P3/8/PPPP1PPP/RNBQKBNR w KQkq d6 0 2\n"
     ]
    },
    {
     "name": "stderr",
     "output_type": "stream",
     "text": [
      "192.168.97.94 - - [16/Aug/2023 11:16:30] \"POST /predict HTTP/1.1\" 200 -\n"
     ]
    },
    {
     "name": "stdout",
     "output_type": "stream",
     "text": [
      "e4d5\n",
      "0.826\n",
      "cache_hit 8\n",
      "cache_called 169\n",
      "rnb1kbnr/ppp1pppp/8/3q4/8/8/PPPP1PPP/RNBQKBNR w KQkq - 0 3\n"
     ]
    },
    {
     "name": "stderr",
     "output_type": "stream",
     "text": [
      "192.168.97.94 - - [16/Aug/2023 11:16:32] \"POST /predict HTTP/1.1\" 200 -\n"
     ]
    },
    {
     "name": "stdout",
     "output_type": "stream",
     "text": [
      "b1c3\n",
      "0.794465\n",
      "cache_hit 8\n",
      "cache_called 170\n",
      "rnb1kbnr/ppp1pppp/8/q7/8/2N5/PPPP1PPP/R1BQKBNR w KQkq - 2 4\n"
     ]
    },
    {
     "name": "stderr",
     "output_type": "stream",
     "text": [
      "192.168.97.94 - - [16/Aug/2023 11:16:35] \"POST /predict HTTP/1.1\" 200 -\n"
     ]
    },
    {
     "name": "stdout",
     "output_type": "stream",
     "text": [
      "d2d4\n",
      "0.77\n",
      "cache_hit 8\n",
      "cache_called 171\n",
      "rnb1kb1r/ppp1pppp/5n2/q7/3P4/2N5/PPP2PPP/R1BQKBNR w KQkq - 1 5\n"
     ]
    },
    {
     "name": "stderr",
     "output_type": "stream",
     "text": [
      "192.168.97.94 - - [16/Aug/2023 11:16:39] \"POST /predict HTTP/1.1\" 200 -\n"
     ]
    },
    {
     "name": "stdout",
     "output_type": "stream",
     "text": [
      "g1f3\n",
      "0.794126\n",
      "cache_hit 8\n",
      "cache_called 172\n",
      "rn2kb1r/ppp1pppp/5n2/q4b2/3P4/2N2N2/PPP2PPP/R1BQKB1R w KQkq - 3 6\n"
     ]
    },
    {
     "name": "stderr",
     "output_type": "stream",
     "text": [
      "192.168.97.94 - - [16/Aug/2023 11:16:42] \"POST /predict HTTP/1.1\" 200 -\n"
     ]
    },
    {
     "name": "stdout",
     "output_type": "stream",
     "text": [
      "f1c4\n",
      "0.803851\n",
      "cache_hit 8\n",
      "cache_called 173\n",
      "rn2kb1r/ppp2ppp/4pn2/q4b2/2BP4/2N2N2/PPP2PPP/R1BQK2R w KQkq - 0 7\n"
     ]
    },
    {
     "name": "stderr",
     "output_type": "stream",
     "text": [
      "192.168.97.94 - - [16/Aug/2023 11:16:47] \"POST /predict HTTP/1.1\" 200 -\n"
     ]
    },
    {
     "name": "stdout",
     "output_type": "stream",
     "text": [
      "e1g1\n",
      "0.784984\n",
      "cache_hit 8\n",
      "cache_called 174\n",
      "rn2k2r/ppp2ppp/3bpn2/q4b2/2BP4/2N2N2/PPP2PPP/R1BQ1RK1 w kq - 2 8\n"
     ]
    },
    {
     "name": "stderr",
     "output_type": "stream",
     "text": [
      "192.168.97.94 - - [16/Aug/2023 11:16:52] \"POST /predict HTTP/1.1\" 200 -\n"
     ]
    },
    {
     "name": "stdout",
     "output_type": "stream",
     "text": [
      "c1d2\n",
      "0.779999\n",
      "cache_hit 8\n",
      "cache_called 175\n",
      "rn2k2r/pp3ppp/2pbpn2/q4b2/2BP4/2N2N2/PPPB1PPP/R2Q1RK1 w kq - 0 9\n"
     ]
    },
    {
     "name": "stderr",
     "output_type": "stream",
     "text": [
      "192.168.97.94 - - [16/Aug/2023 11:16:55] \"POST /predict HTTP/1.1\" 200 -\n"
     ]
    },
    {
     "name": "stdout",
     "output_type": "stream",
     "text": [
      "f3e5\n",
      "0.82497\n",
      "cache_hit 8\n",
      "cache_called 176\n",
      "rn2k2r/pp3ppp/2p1pn2/q3bb2/2BP4/2N5/PPPB1PPP/R2Q1RK1 w kq - 0 10\n"
     ]
    },
    {
     "name": "stderr",
     "output_type": "stream",
     "text": [
      "192.168.97.94 - - [16/Aug/2023 11:16:58] \"POST /predict HTTP/1.1\" 200 -\n"
     ]
    },
    {
     "name": "stdout",
     "output_type": "stream",
     "text": [
      "d4e5\n",
      "0.781007\n",
      "cache_hit 8\n",
      "cache_called 177\n",
      "rn2k2r/pp3ppp/2p1p3/q3Pb2/2B3n1/2N5/PPPB1PPP/R2Q1RK1 w kq - 1 11\n"
     ]
    },
    {
     "name": "stderr",
     "output_type": "stream",
     "text": [
      "192.168.97.94 - - [16/Aug/2023 11:17:03] \"POST /predict HTTP/1.1\" 200 -\n"
     ]
    },
    {
     "name": "stdout",
     "output_type": "stream",
     "text": [
      "c4d3\n",
      "0.798999\n",
      "cache_hit 8\n",
      "cache_called 178\n",
      "rn2k2r/pp3ppp/2p1p3/q3nb2/8/2NB4/PPPB1PPP/R2Q1RK1 w kq - 0 12\n"
     ]
    },
    {
     "name": "stderr",
     "output_type": "stream",
     "text": [
      "192.168.97.94 - - [16/Aug/2023 11:17:06] \"POST /predict HTTP/1.1\" 200 -\n"
     ]
    },
    {
     "name": "stdout",
     "output_type": "stream",
     "text": [
      "f1e1\n",
      "0.792992\n",
      "cache_hit 8\n",
      "cache_called 179\n",
      "rn2k2r/pp3ppp/2p1p3/q4b2/8/2Nn4/PPPB1PPP/R2QR1K1 w kq - 0 13\n"
     ]
    },
    {
     "name": "stderr",
     "output_type": "stream",
     "text": [
      "192.168.97.94 - - [16/Aug/2023 11:17:09] \"POST /predict HTTP/1.1\" 200 -\n"
     ]
    },
    {
     "name": "stdout",
     "output_type": "stream",
     "text": [
      "d1f3\n",
      "0.982002\n",
      "cache_hit 8\n",
      "cache_called 180\n",
      "rn2k2r/pp3ppp/2p1p3/q4b2/8/2N2Q2/PPPB1PPP/R3n1K1 w kq - 0 14\n"
     ]
    },
    {
     "name": "stderr",
     "output_type": "stream",
     "text": [
      "192.168.97.94 - - [16/Aug/2023 11:17:15] \"POST /predict HTTP/1.1\" 200 -\n"
     ]
    },
    {
     "name": "stdout",
     "output_type": "stream",
     "text": [
      "d2e1\n",
      "0.789578\n",
      "cache_hit 8\n",
      "cache_called 181\n",
      "rn3rk1/pp3ppp/2p1p3/q4b2/8/2N2Q2/PPP2PPP/R3B1K1 w - - 1 15\n"
     ]
    },
    {
     "name": "stderr",
     "output_type": "stream",
     "text": [
      "192.168.97.94 - - [16/Aug/2023 11:17:19] \"POST /predict HTTP/1.1\" 200 -\n"
     ]
    },
    {
     "name": "stdout",
     "output_type": "stream",
     "text": [
      "a1d1\n",
      "0.806\n",
      "cache_hit 8\n",
      "cache_called 182\n",
      "rn3rk1/pp3ppp/1qp1p3/5b2/8/2N2Q2/PPP2PPP/3RB1K1 w - - 3 16\n"
     ]
    },
    {
     "name": "stderr",
     "output_type": "stream",
     "text": [
      "192.168.97.94 - - [16/Aug/2023 11:17:25] \"POST /predict HTTP/1.1\" 200 -\n"
     ]
    },
    {
     "name": "stdout",
     "output_type": "stream",
     "text": [
      "f3g3\n",
      "0.787968\n",
      "cache_hit 8\n",
      "cache_called 183\n",
      "r4rk1/pp1n1ppp/1qp1p3/5b2/8/2N3Q1/PPP2PPP/3RB1K1 w - - 5 17\n"
     ]
    },
    {
     "name": "stderr",
     "output_type": "stream",
     "text": [
      "192.168.97.94 - - [16/Aug/2023 11:17:28] \"POST /predict HTTP/1.1\" 200 -\n"
     ]
    },
    {
     "name": "stdout",
     "output_type": "stream",
     "text": [
      "c3e2\n",
      "0.79899\n",
      "cache_hit 8\n",
      "cache_called 184\n",
      "r4rk1/pp3ppp/1qp1p3/4nb2/8/6Q1/PPP1NPPP/3RB1K1 w - - 7 18\n"
     ]
    },
    {
     "name": "stderr",
     "output_type": "stream",
     "text": [
      "192.168.97.94 - - [16/Aug/2023 11:17:31] \"POST /predict HTTP/1.1\" 200 -\n"
     ]
    },
    {
     "name": "stdout",
     "output_type": "stream",
     "text": [
      "d1d8\n",
      "0.802854\n",
      "cache_hit 8\n",
      "cache_called 185\n",
      "r2r2k1/pp3ppp/1qp1p3/4nb2/8/6Q1/PPP1NPPP/4B1K1 w - - 0 19\n"
     ]
    },
    {
     "name": "stderr",
     "output_type": "stream",
     "text": [
      "192.168.97.94 - - [16/Aug/2023 11:17:33] \"POST /predict HTTP/1.1\" 200 -\n"
     ]
    },
    {
     "name": "stdout",
     "output_type": "stream",
     "text": [
      "g1f1\n",
      "0.785456\n",
      "cache_hit 8\n",
      "cache_called 186\n",
      "r5k1/pp3ppp/1qp1p3/4nb2/8/6Q1/PPP1NPPP/3rBK2 w - - 2 20\n"
     ]
    },
    {
     "name": "stderr",
     "output_type": "stream",
     "text": [
      "192.168.97.94 - - [16/Aug/2023 11:17:39] \"POST /predict HTTP/1.1\" 200 -\n"
     ]
    },
    {
     "name": "stdout",
     "output_type": "stream",
     "text": [
      "e2c3\n",
      "0.793941\n",
      "cache_hit 8\n",
      "cache_called 187\n",
      "r5k1/pp3ppp/1qp1p3/4nb2/8/2N3Q1/PPP2PPP/r3BK2 w - - 4 21\n"
     ]
    },
    {
     "name": "stderr",
     "output_type": "stream",
     "text": [
      "192.168.97.94 - - [16/Aug/2023 11:17:43] \"POST /predict HTTP/1.1\" 200 -\n"
     ]
    },
    {
     "name": "stdout",
     "output_type": "stream",
     "text": [
      "f1e2\n",
      "0.799\n",
      "cache_hit 8\n",
      "cache_called 188\n",
      "r5k1/pp3ppp/2p1p3/4nb2/8/2N3Q1/PqP1KPPP/r3B3 w - - 0 22\n"
     ]
    },
    {
     "name": "stderr",
     "output_type": "stream",
     "text": [
      "192.168.97.94 - - [16/Aug/2023 11:17:46] \"POST /predict HTTP/1.1\" 200 -\n"
     ]
    },
    {
     "name": "stdout",
     "output_type": "stream",
     "text": [
      "e2d2\n",
      "0.823997\n",
      "cache_hit 8\n",
      "cache_called 189\n",
      "r5k1/pp3ppp/2p1p3/4nb2/8/2N3Q1/P1qK1PPP/r3B3 w - - 0 23\n"
     ]
    },
    {
     "name": "stderr",
     "output_type": "stream",
     "text": [
      "192.168.97.94 - - [16/Aug/2023 11:17:53] \"POST /predict HTTP/1.1\" 200 -\n"
     ]
    },
    {
     "name": "stdout",
     "output_type": "stream",
     "text": [
      "d2e3\n",
      "0.775988\n",
      "cache_hit 8\n",
      "cache_called 190\n",
      "r5k1/pp3ppp/2p1p3/4nb2/8/2NqK1Q1/P4PPP/r3B3 w - - 2 24\n"
     ]
    },
    {
     "name": "stderr",
     "output_type": "stream",
     "text": [
      "192.168.97.94 - - [16/Aug/2023 11:17:58] \"POST /predict HTTP/1.1\" 200 -\n"
     ]
    },
    {
     "name": "stdout",
     "output_type": "stream",
     "text": [
      "e3f4\n",
      "0.79298\n",
      "cache_hit 8\n",
      "cache_called 191\n",
      "r5k1/pp3ppp/2p1p1n1/5b2/5K2/2Nq2Q1/P4PPP/r3B3 w - - 4 25\n"
     ]
    },
    {
     "name": "stderr",
     "output_type": "stream",
     "text": [
      "192.168.97.94 - - [16/Aug/2023 11:18:00] \"POST /predict HTTP/1.1\" 200 -\n"
     ]
    },
    {
     "name": "stdout",
     "output_type": "stream",
     "text": [
      "f4g5\n",
      "0.809178\n",
      "cache_hit 8\n",
      "cache_called 192\n",
      "r5k1/pp3ppp/2p1p1n1/5bK1/8/2N3q1/P4PPP/r3B3 w - - 0 26\n"
     ]
    },
    {
     "name": "stderr",
     "output_type": "stream",
     "text": [
      "192.168.97.94 - - [16/Aug/2023 11:18:03] \"POST /predict HTTP/1.1\" 200 -\n"
     ]
    },
    {
     "name": "stdout",
     "output_type": "stream",
     "text": [
      "h2g3\n",
      "0.818172\n",
      "cache_hit 8\n",
      "cache_called 193\n",
      "r5k1/pp3ppp/2p1p1n1/5bK1/8/2N3P1/P4PP1/4r3 w - - 0 27\n"
     ]
    },
    {
     "name": "stderr",
     "output_type": "stream",
     "text": [
      "192.168.97.94 - - [16/Aug/2023 11:18:05] \"POST /predict HTTP/1.1\" 200 -\n"
     ]
    },
    {
     "name": "stdout",
     "output_type": "stream",
     "text": [
      "g5h5\n",
      "0.810886\n",
      "cache_hit 8\n",
      "cache_called 194\n",
      "r5k1/pp3ppp/2p1p1n1/5b1K/8/2N3P1/P4PP1/6r1 w - - 2 28\n"
     ]
    },
    {
     "name": "stderr",
     "output_type": "stream",
     "text": [
      "192.168.97.94 - - [16/Aug/2023 11:18:07] \"POST /predict HTTP/1.1\" 200 -\n"
     ]
    },
    {
     "name": "stdout",
     "output_type": "stream",
     "text": [
      "h5g5\n",
      "0.796972\n",
      "cache_hit 8\n",
      "cache_called 195\n",
      "r5k1/pp3ppp/2p1p1n1/5bK1/8/2N3P1/P4Pr1/8 w - - 0 29\n"
     ]
    },
    {
     "name": "stderr",
     "output_type": "stream",
     "text": [
      "192.168.97.94 - - [16/Aug/2023 11:18:08] \"POST /predict HTTP/1.1\" 200 -\n"
     ]
    },
    {
     "name": "stdout",
     "output_type": "stream",
     "text": [
      "g5h5\n",
      "0.71099\n",
      "cache_hit 8\n",
      "cache_called 196\n",
      "r5k1/pp3ppp/2p1p1n1/5b1K/8/2N3P1/P4r2/8 w - - 0 30\n"
     ]
    },
    {
     "name": "stderr",
     "output_type": "stream",
     "text": [
      "192.168.97.94 - - [16/Aug/2023 11:18:11] \"POST /predict HTTP/1.1\" 200 -\n"
     ]
    },
    {
     "name": "stdout",
     "output_type": "stream",
     "text": [
      "g3g4\n",
      "0.538107\n",
      "cache_hit 8\n",
      "cache_called 197\n",
      "r5k1/pp3ppp/2p1p1n1/7K/6b1/2N5/P4r2/8 w - - 0 31\n"
     ]
    },
    {
     "name": "stderr",
     "output_type": "stream",
     "text": [
      "192.168.97.94 - - [16/Aug/2023 11:18:13] \"POST /predict HTTP/1.1\" 200 -\n"
     ]
    },
    {
     "name": "stdout",
     "output_type": "stream",
     "text": [
      "h5g4\n",
      "0.41788\n",
      "cache_hit 8\n",
      "cache_called 198\n",
      "r5k1/pp3ppp/2p1p1n1/8/6K1/2N5/P5r1/8 w - - 1 32\n"
     ]
    },
    {
     "name": "stderr",
     "output_type": "stream",
     "text": [
      "192.168.97.94 - - [16/Aug/2023 11:18:14] \"POST /predict HTTP/1.1\" 200 -\n"
     ]
    },
    {
     "name": "stdout",
     "output_type": "stream",
     "text": [
      "g4h3\n",
      "0.436996\n",
      "cache_hit 8\n",
      "cache_called 199\n",
      "r5k1/pp3ppp/2p1p3/8/5n2/2N4K/P5r1/8 w - - 3 33\n"
     ]
    },
    {
     "name": "stderr",
     "output_type": "stream",
     "text": [
      "192.168.97.94 - - [16/Aug/2023 11:18:17] \"POST /predict HTTP/1.1\" 200 -\n"
     ]
    },
    {
     "name": "stdout",
     "output_type": "stream",
     "text": [
      "h3h4\n",
      "0.427857\n",
      "cache_hit 8\n",
      "cache_called 200\n",
      "r5k1/pp4pp/2p1pp2/8/5n1K/2N5/P5r1/8 w - - 0 34\n"
     ]
    },
    {
     "name": "stderr",
     "output_type": "stream",
     "text": [
      "192.168.97.94 - - [16/Aug/2023 11:18:21] \"POST /predict HTTP/1.1\" 200 -\n"
     ]
    },
    {
     "name": "stdout",
     "output_type": "stream",
     "text": [
      "c3d1\n",
      "0.424225\n",
      "cache_hit 8\n",
      "cache_called 201\n"
     ]
    },
    {
     "name": "stderr",
     "output_type": "stream",
     "text": [
      "192.168.97.94 - - [16/Aug/2023 11:25:16] \"POST /predict HTTP/1.1\" 200 -\n"
     ]
    },
    {
     "name": "stdout",
     "output_type": "stream",
     "text": [
      "rnbqkbnr/pppppppp/8/8/8/8/PPPPPPPP/RNBQKBNR w KQkq - 0 1\n",
      "e2e4\n",
      "0.0\n",
      "cache_hit 9\n",
      "cache_called 202\n"
     ]
    },
    {
     "name": "stderr",
     "output_type": "stream",
     "text": [
      "192.168.97.94 - - [16/Aug/2023 11:25:17] \"POST /predict HTTP/1.1\" 200 -\n"
     ]
    },
    {
     "name": "stdout",
     "output_type": "stream",
     "text": [
      "rnbqkbnr/ppp1pppp/8/3p4/4P3/8/PPPP1PPP/RNBQKBNR w KQkq d6 0 2\n",
      "e4d5\n",
      "0.0\n",
      "cache_hit 10\n",
      "cache_called 203\n"
     ]
    },
    {
     "name": "stderr",
     "output_type": "stream",
     "text": [
      "192.168.97.94 - - [16/Aug/2023 11:25:18] \"POST /predict HTTP/1.1\" 200 -\n"
     ]
    },
    {
     "name": "stdout",
     "output_type": "stream",
     "text": [
      "rnb1kbnr/ppp1pppp/8/3q4/8/8/PPPP1PPP/RNBQKBNR w KQkq - 0 3\n",
      "b1c3\n",
      "0.0\n",
      "cache_hit 11\n",
      "cache_called 204\n"
     ]
    },
    {
     "name": "stderr",
     "output_type": "stream",
     "text": [
      "192.168.97.94 - - [16/Aug/2023 11:25:19] \"POST /predict HTTP/1.1\" 200 -\n"
     ]
    },
    {
     "name": "stdout",
     "output_type": "stream",
     "text": [
      "rnb1kbnr/ppp1pppp/8/q7/8/2N5/PPPP1PPP/R1BQKBNR w KQkq - 2 4\n",
      "d2d4\n",
      "0.0\n",
      "cache_hit 12\n",
      "cache_called 205\n"
     ]
    },
    {
     "name": "stderr",
     "output_type": "stream",
     "text": [
      "192.168.97.94 - - [16/Aug/2023 11:25:21] \"POST /predict HTTP/1.1\" 200 -\n"
     ]
    },
    {
     "name": "stdout",
     "output_type": "stream",
     "text": [
      "rnb1kb1r/ppp1pppp/5n2/q7/3P4/2N5/PPP2PPP/R1BQKBNR w KQkq - 1 5\n",
      "g1f3\n",
      "0.0\n",
      "cache_hit 13\n",
      "cache_called 206\n",
      "r1b1kb1r/ppp1pppp/2n2n2/q7/3P4/2N2N2/PPP2PPP/R1BQKB1R w KQkq - 3 6\n"
     ]
    },
    {
     "name": "stderr",
     "output_type": "stream",
     "text": [
      "192.168.97.94 - - [16/Aug/2023 11:25:23] \"POST /predict HTTP/1.1\" 200 -\n"
     ]
    },
    {
     "name": "stdout",
     "output_type": "stream",
     "text": [
      "f1e2\n",
      "1.13599\n",
      "cache_hit 13\n",
      "cache_called 207\n",
      "r3kb1r/ppp1pppp/2n2n2/q4b2/3P4/2N2N2/PPP1BPPP/R1BQK2R w KQkq - 5 7\n"
     ]
    },
    {
     "name": "stderr",
     "output_type": "stream",
     "text": [
      "192.168.97.94 - - [16/Aug/2023 11:25:26] \"POST /predict HTTP/1.1\" 200 -\n"
     ]
    },
    {
     "name": "stdout",
     "output_type": "stream",
     "text": [
      "e1g1\n",
      "1.010001\n",
      "cache_hit 13\n",
      "cache_called 208\n",
      "r3kb1r/ppp2ppp/2n1pn2/q4b2/3P4/2N2N2/PPP1BPPP/R1BQ1RK1 w kq - 0 8\n"
     ]
    },
    {
     "name": "stderr",
     "output_type": "stream",
     "text": [
      "192.168.97.94 - - [16/Aug/2023 11:25:28] \"POST /predict HTTP/1.1\" 200 -\n"
     ]
    },
    {
     "name": "stdout",
     "output_type": "stream",
     "text": [
      "c1e3\n",
      "0.902983\n",
      "cache_hit 13\n",
      "cache_called 209\n",
      "r3k2r/ppp2ppp/2n1pn2/q4b2/1b1P4/2N1BN2/PPP1BPPP/R2Q1RK1 w kq - 2 9\n"
     ]
    },
    {
     "name": "stderr",
     "output_type": "stream",
     "text": [
      "192.168.97.94 - - [16/Aug/2023 11:25:31] \"POST /predict HTTP/1.1\" 200 -\n"
     ]
    },
    {
     "name": "stdout",
     "output_type": "stream",
     "text": [
      "a2a3\n",
      "0.774975\n",
      "cache_hit 13\n",
      "cache_called 210\n",
      "r3k2r/ppp2ppp/2n1pn2/q4b2/3P4/P1b1BN2/1PP1BPPP/R2Q1RK1 w kq - 0 10\n"
     ]
    },
    {
     "name": "stderr",
     "output_type": "stream",
     "text": [
      "192.168.97.94 - - [16/Aug/2023 11:25:35] \"POST /predict HTTP/1.1\" 200 -\n"
     ]
    },
    {
     "name": "stdout",
     "output_type": "stream",
     "text": [
      "b2c3\n",
      "0.8\n",
      "cache_hit 13\n",
      "cache_called 211\n",
      "r3k2r/ppp2ppp/2n1pn2/5b2/3P4/P1q1BN2/2P1BPPP/R2Q1RK1 w kq - 0 11\n"
     ]
    },
    {
     "name": "stderr",
     "output_type": "stream",
     "text": [
      "192.168.97.94 - - [16/Aug/2023 11:25:37] \"POST /predict HTTP/1.1\" 200 -\n"
     ]
    },
    {
     "name": "stdout",
     "output_type": "stream",
     "text": [
      "f3h4\n",
      "0.771352\n",
      "cache_hit 13\n",
      "cache_called 212\n",
      "r3k2r/ppp2ppp/2n1pn2/8/3P3N/P1q1B3/2b1BPPP/R2Q1RK1 w kq - 0 12\n"
     ]
    },
    {
     "name": "stderr",
     "output_type": "stream",
     "text": [
      "192.168.97.94 - - [16/Aug/2023 11:25:46] \"POST /predict HTTP/1.1\" 200 -\n"
     ]
    },
    {
     "name": "stdout",
     "output_type": "stream",
     "text": [
      "e2f3\n",
      "0.998002\n",
      "cache_hit 13\n",
      "cache_called 213\n",
      "r3k2r/ppp2ppp/2n1pn2/8/3P3N/P1q1BB2/5PPP/R2b1RK1 w kq - 0 13\n"
     ]
    },
    {
     "name": "stderr",
     "output_type": "stream",
     "text": [
      "192.168.97.94 - - [16/Aug/2023 11:25:48] \"POST /predict HTTP/1.1\" 200 -\n"
     ]
    },
    {
     "name": "stdout",
     "output_type": "stream",
     "text": [
      "f1d1\n",
      "0.794963\n",
      "cache_hit 13\n",
      "cache_called 214\n",
      "2kr3r/ppp2ppp/2n1pn2/8/3P3N/P1q1BB2/5PPP/R2R2K1 w - - 1 14\n"
     ]
    },
    {
     "name": "stderr",
     "output_type": "stream",
     "text": [
      "192.168.97.94 - - [16/Aug/2023 11:25:55] \"POST /predict HTTP/1.1\" 200 -\n"
     ]
    },
    {
     "name": "stdout",
     "output_type": "stream",
     "text": [
      "a1c1\n",
      "0.731997\n",
      "cache_hit 13\n",
      "cache_called 215\n",
      "2kr3r/ppp2ppp/2n1pn2/8/3P3N/q3BB2/5PPP/2RR2K1 w - - 0 15\n"
     ]
    },
    {
     "name": "stderr",
     "output_type": "stream",
     "text": [
      "192.168.97.94 - - [16/Aug/2023 11:25:58] \"POST /predict HTTP/1.1\" 200 -\n"
     ]
    },
    {
     "name": "stdout",
     "output_type": "stream",
     "text": [
      "e3g5\n",
      "0.777995\n",
      "cache_hit 13\n",
      "cache_called 216\n",
      "2k4r/ppp2ppp/2n1pn2/6B1/3r3N/q4B2/5PPP/2RR2K1 w - - 0 16\n"
     ]
    },
    {
     "name": "stderr",
     "output_type": "stream",
     "text": [
      "192.168.97.94 - - [16/Aug/2023 11:26:04] \"POST /predict HTTP/1.1\" 200 -\n"
     ]
    },
    {
     "name": "stdout",
     "output_type": "stream",
     "text": [
      "g5f6\n",
      "0.770984\n",
      "cache_hit 13\n",
      "cache_called 217\n",
      "2k4r/ppp2p1p/2n1pp2/8/3r3N/q4B2/5PPP/2RR2K1 w - - 0 17\n"
     ]
    },
    {
     "name": "stderr",
     "output_type": "stream",
     "text": [
      "192.168.97.94 - - [16/Aug/2023 11:26:07] \"POST /predict HTTP/1.1\" 200 -\n"
     ]
    },
    {
     "name": "stdout",
     "output_type": "stream",
     "text": [
      "f3c6\n",
      "0.739999\n",
      "cache_hit 13\n",
      "cache_called 218\n",
      "2k4r/p1p2p1p/2p1pp2/8/3r3N/q7/5PPP/2RR2K1 w - - 0 18\n"
     ]
    },
    {
     "name": "stderr",
     "output_type": "stream",
     "text": [
      "192.168.97.94 - - [16/Aug/2023 11:26:09] \"POST /predict HTTP/1.1\" 200 -\n"
     ]
    },
    {
     "name": "stdout",
     "output_type": "stream",
     "text": [
      "d1d4\n",
      "0.789981\n",
      "cache_hit 13\n",
      "cache_called 219\n",
      "2k4r/p1p2p1p/2p1pp2/8/3R3N/8/5PPP/2q3K1 w - - 0 19\n"
     ]
    },
    {
     "name": "stderr",
     "output_type": "stream",
     "text": [
      "192.168.97.94 - - [16/Aug/2023 11:26:12] \"POST /predict HTTP/1.1\" 200 -\n"
     ]
    },
    {
     "name": "stdout",
     "output_type": "stream",
     "text": [
      "d4d1\n",
      "0.792\n",
      "cache_hit 13\n",
      "cache_called 220\n",
      "rnbqkbnr/pppppppp/8/8/4P3/8/PPPP1PPP/RNBQKBNR b KQkq e3 0 1\n",
      "[(31, 'e7e6'), (35, 'e7e5'), (36, 'c7c5')]\n",
      "31 e7e6\n",
      "35 e7e5\n"
     ]
    },
    {
     "name": "stderr",
     "output_type": "stream",
     "text": [
      "192.168.97.94 - - [16/Aug/2023 17:44:05] \"POST /predict HTTP/1.1\" 200 -\n"
     ]
    },
    {
     "name": "stdout",
     "output_type": "stream",
     "text": [
      "36 c7c5\n",
      "e7e6\n",
      "2.217966\n",
      "cache_hit 14\n",
      "cache_called 221\n",
      "rnbqkbnr/pppp1ppp/4p3/8/3PP3/8/PPP2PPP/RNBQKBNR b KQkq d3 0 2\n",
      "[(36, 'd7d5')]\n"
     ]
    },
    {
     "name": "stderr",
     "output_type": "stream",
     "text": [
      "192.168.97.94 - - [16/Aug/2023 17:44:10] \"POST /predict HTTP/1.1\" 200 -\n"
     ]
    },
    {
     "name": "stdout",
     "output_type": "stream",
     "text": [
      "36 d7d5\n",
      "d7d5\n",
      "2.467011\n",
      "cache_hit 14\n",
      "cache_called 222\n",
      "rnbqkbnr/ppp2ppp/4p3/3pP3/3P4/8/PPP2PPP/RNBQKBNR b KQkq - 0 3\n",
      "[(35, 'c7c5')]\n"
     ]
    },
    {
     "name": "stderr",
     "output_type": "stream",
     "text": [
      "192.168.97.94 - - [16/Aug/2023 17:44:16] \"POST /predict HTTP/1.1\" 200 -\n"
     ]
    },
    {
     "name": "stdout",
     "output_type": "stream",
     "text": [
      "35 c7c5\n",
      "c7c5\n",
      "1.528999\n",
      "cache_hit 14\n",
      "cache_called 223\n",
      "rnbqkbnr/pp3ppp/4p3/2ppP3/3P4/5N2/PPP2PPP/RNBQKB1R b KQkq - 1 4\n",
      "[(27, 'b8c6')]\n"
     ]
    },
    {
     "name": "stderr",
     "output_type": "stream",
     "text": [
      "192.168.97.94 - - [16/Aug/2023 17:44:19] \"POST /predict HTTP/1.1\" 200 -\n"
     ]
    },
    {
     "name": "stdout",
     "output_type": "stream",
     "text": [
      "31 b8c6\n",
      "b8c6\n",
      "1.541037\n",
      "cache_hit 14\n",
      "cache_called 224\n",
      "r1bqkbnr/pp3ppp/2n1p3/1BppP3/3P4/5N2/PPP2PPP/RNBQK2R b KQkq - 3 5\n",
      "[(-39, 'c5d4'), (-32, 'd8a5')]\n",
      "-30 c5d4\n"
     ]
    },
    {
     "name": "stderr",
     "output_type": "stream",
     "text": [
      "192.168.97.94 - - [16/Aug/2023 17:44:27] \"POST /predict HTTP/1.1\" 200 -\n"
     ]
    },
    {
     "name": "stdout",
     "output_type": "stream",
     "text": [
      "-33 d8a5\n",
      "d8a5\n",
      "5.331032\n",
      "cache_hit 14\n",
      "cache_called 227\n",
      "r1b1kbnr/pp3ppp/2n1p3/qBppP3/3P4/2P2N2/PP3PPP/RNBQK2R b KQkq - 0 6\n",
      "[(-394, 'a5b5'), (-6, 'c5d4')]\n",
      "-437 a5b5\n"
     ]
    },
    {
     "name": "stderr",
     "output_type": "stream",
     "text": [
      "192.168.97.94 - - [16/Aug/2023 17:44:38] \"POST /predict HTTP/1.1\" 200 -\n"
     ]
    },
    {
     "name": "stdout",
     "output_type": "stream",
     "text": [
      "-18 c5d4\n",
      "a5b5\n",
      "5.13203\n",
      "cache_hit 14\n",
      "cache_called 230\n",
      "rnbqkbnr/pppppppp/8/8/4P3/8/PPPP1PPP/RNBQKBNR b KQkq e3 0 1\n",
      "[(31, 'e7e6'), (35, 'e7e5'), (36, 'c7c5')]\n",
      "34 e7e6\n",
      "35 e7e5\n"
     ]
    },
    {
     "name": "stderr",
     "output_type": "stream",
     "text": [
      "192.168.97.94 - - [16/Aug/2023 17:44:41] \"POST /predict HTTP/1.1\" 200 -\n"
     ]
    },
    {
     "name": "stdout",
     "output_type": "stream",
     "text": [
      "36 c7c5\n",
      "e7e6\n",
      "1.624029\n",
      "cache_hit 15\n",
      "cache_called 231\n",
      "rnbqkbnr/pppp1ppp/4p3/8/3PP3/8/PPP2PPP/RNBQKBNR b KQkq d3 0 2\n",
      "[(36, 'd7d5')]\n"
     ]
    },
    {
     "name": "stderr",
     "output_type": "stream",
     "text": [
      "192.168.97.94 - - [16/Aug/2023 17:44:43] \"POST /predict HTTP/1.1\" 200 -\n"
     ]
    },
    {
     "name": "stdout",
     "output_type": "stream",
     "text": [
      "36 d7d5\n",
      "d7d5\n",
      "0.545967\n",
      "cache_hit 16\n",
      "cache_called 232\n",
      "rnbqkbnr/ppp2ppp/4p3/3p4/3PP3/5N2/PPP2PPP/RNBQKB1R b KQkq - 1 3\n",
      "[(-72, 'd5e4')]\n"
     ]
    },
    {
     "name": "stderr",
     "output_type": "stream",
     "text": [
      "192.168.97.94 - - [16/Aug/2023 17:44:45] \"POST /predict HTTP/1.1\" 200 -\n"
     ]
    },
    {
     "name": "stdout",
     "output_type": "stream",
     "text": [
      "-72 d5e4\n",
      "d5e4\n",
      "1.484964\n",
      "cache_hit 16\n",
      "cache_called 233\n",
      "rnbqkbnr/pppppppp/8/8/4P3/8/PPPP1PPP/RNBQKBNR b KQkq e3 0 1\n",
      "[(31, 'e7e6'), (35, 'e7e5'), (38, 'c7c5')]\n",
      "31 e7e6\n",
      "35 e7e5\n"
     ]
    },
    {
     "name": "stderr",
     "output_type": "stream",
     "text": [
      "192.168.97.94 - - [16/Aug/2023 17:44:50] \"POST /predict HTTP/1.1\" 200 -\n"
     ]
    },
    {
     "name": "stdout",
     "output_type": "stream",
     "text": [
      "36 c7c5\n",
      "e7e6\n",
      "1.61598\n",
      "cache_hit 17\n",
      "cache_called 234\n",
      "rnbqkbnr/pppp1ppp/4p3/8/3PP3/8/PPP2PPP/RNBQKBNR b KQkq d3 0 2\n",
      "[(36, 'd7d5')]\n"
     ]
    },
    {
     "name": "stderr",
     "output_type": "stream",
     "text": [
      "192.168.97.94 - - [16/Aug/2023 17:44:52] \"POST /predict HTTP/1.1\" 200 -\n"
     ]
    },
    {
     "name": "stdout",
     "output_type": "stream",
     "text": [
      "39 d7d5\n",
      "d7d5\n",
      "0.549037\n",
      "cache_hit 18\n",
      "cache_called 235\n",
      "rnbqkbnr/ppp2ppp/4p3/3pP3/3P4/8/PPP2PPP/RNBQKBNR b KQkq - 0 3\n",
      "[(35, 'c7c5')]\n"
     ]
    },
    {
     "name": "stderr",
     "output_type": "stream",
     "text": [
      "192.168.97.94 - - [16/Aug/2023 17:44:54] \"POST /predict HTTP/1.1\" 200 -\n"
     ]
    },
    {
     "name": "stdout",
     "output_type": "stream",
     "text": [
      "35 c7c5\n",
      "c7c5\n",
      "0.538001\n",
      "cache_hit 19\n",
      "cache_called 236\n",
      "rnbqkbnr/pp3ppp/4p3/2ppP3/3P4/5N2/PPP2PPP/RNBQKB1R b KQkq - 1 4\n",
      "[(31, 'b8c6')]\n"
     ]
    },
    {
     "name": "stderr",
     "output_type": "stream",
     "text": [
      "192.168.97.94 - - [16/Aug/2023 17:44:55] \"POST /predict HTTP/1.1\" 200 -\n"
     ]
    },
    {
     "name": "stdout",
     "output_type": "stream",
     "text": [
      "31 b8c6\n",
      "b8c6\n",
      "0.541033\n",
      "cache_hit 20\n",
      "cache_called 237\n",
      "r1bqkbnr/pp3ppp/2n1p3/1BppP3/3P4/5N2/PPP2PPP/RNBQK2R b KQkq - 3 5\n",
      "[(-39, 'c5d4'), (-23, 'd8a5')]\n",
      "-30 c5d4\n"
     ]
    },
    {
     "name": "stderr",
     "output_type": "stream",
     "text": [
      "192.168.97.94 - - [16/Aug/2023 17:45:00] \"POST /predict HTTP/1.1\" 200 -\n"
     ]
    },
    {
     "name": "stdout",
     "output_type": "stream",
     "text": [
      "-33 d8a5\n",
      "d8a5\n",
      "2.430032\n",
      "cache_hit 23\n",
      "cache_called 240\n",
      "r1b1kbnr/pp3ppp/2n1p3/qBppP3/3P4/2N2N2/PPP2PPP/R1BQK2R b KQkq - 5 6\n",
      "[(-13, 'c8d7'), (65, 'a5d8')]\n",
      "11 c8d7\n"
     ]
    },
    {
     "name": "stderr",
     "output_type": "stream",
     "text": [
      "192.168.97.94 - - [16/Aug/2023 17:45:06] \"POST /predict HTTP/1.1\" 200 -\n"
     ]
    },
    {
     "name": "stdout",
     "output_type": "stream",
     "text": [
      "64 a5d8\n",
      "c8d7\n",
      "5.331032\n",
      "cache_hit 23\n",
      "cache_called 243\n",
      "r3kbnr/pp1b1ppp/2B1p3/q1ppP3/3P4/2N2N2/PPP2PPP/R1BQK2R b KQkq - 0 7\n",
      "[(-2, 'b7c6'), (35, 'd7c6')]\n",
      "-34 b7c6\n"
     ]
    },
    {
     "name": "stderr",
     "output_type": "stream",
     "text": [
      "192.168.97.94 - - [16/Aug/2023 17:45:14] \"POST /predict HTTP/1.1\" 200 -\n"
     ]
    },
    {
     "name": "stdout",
     "output_type": "stream",
     "text": [
      "40 d7c6\n",
      "b7c6\n",
      "5.328272\n",
      "cache_hit 23\n",
      "cache_called 246\n",
      "r3kbnr/p2b1ppp/2p1p3/q1ppP3/3P4/2N1BN2/PPP2PPP/R2QK2R b KQkq - 1 8\n",
      "[(-137, 'c5d4'), (102, 'a5b4')]\n",
      "-142 c5d4\n"
     ]
    },
    {
     "name": "stderr",
     "output_type": "stream",
     "text": [
      "192.168.97.94 - - [16/Aug/2023 17:45:20] \"POST /predict HTTP/1.1\" 200 -\n"
     ]
    },
    {
     "name": "stdout",
     "output_type": "stream",
     "text": [
      "-92 a5b4\n",
      "c5d4\n",
      "4.918999\n",
      "cache_hit 23\n",
      "cache_called 249\n",
      "r3kbnr/p2b1ppp/2p1p3/q2pP3/3N4/2N1B3/PPP2PPP/R2QK2R b KQkq - 0 9\n",
      "[(-128, 'c6c5'), (-126, 'a5b4')]\n",
      "-118 c6c5\n"
     ]
    },
    {
     "name": "stderr",
     "output_type": "stream",
     "text": [
      "192.168.97.94 - - [16/Aug/2023 17:45:32] \"POST /predict HTTP/1.1\" 200 -\n"
     ]
    },
    {
     "name": "stdout",
     "output_type": "stream",
     "text": [
      "-189 a5b4\n",
      "a5b4\n",
      "5.86503\n",
      "cache_hit 23\n",
      "cache_called 252\n",
      "r3kbnr/p2b1ppp/2p1p3/3pP3/1q1N4/2N1B3/PPP2PPP/R2Q1RK1 b kq - 2 10\n",
      "[(-48, 'g8e7'), (-20, 'b4b2'), (22, 'b4c4')]\n",
      "-6 g8e7\n",
      "-13 b4b2\n"
     ]
    },
    {
     "name": "stderr",
     "output_type": "stream",
     "text": [
      "192.168.97.94 - - [16/Aug/2023 17:46:02] \"POST /predict HTTP/1.1\" 200 -\n"
     ]
    },
    {
     "name": "stdout",
     "output_type": "stream",
     "text": [
      "110 b4c4\n",
      "b4b2\n",
      "25.419449\n",
      "cache_hit 23\n",
      "cache_called 265\n",
      "r3kbnr/p2b1ppp/2p1p3/3pP3/3N4/2NQB3/PqP2PPP/R4RK1 b kq - 1 11\n",
      "[(104, 'b2a3'), (193, 'b2b4'), (512, 'b2a1')]\n",
      "-11 b2a3\n",
      "-16 b2b4\n"
     ]
    },
    {
     "name": "stderr",
     "output_type": "stream",
     "text": [
      "192.168.97.94 - - [16/Aug/2023 17:47:41] \"POST /predict HTTP/1.1\" 200 -\n"
     ]
    },
    {
     "name": "stdout",
     "output_type": "stream",
     "text": [
      "567 b2a1\n",
      "b2b4\n",
      "23.788007\n",
      "cache_hit 23\n",
      "cache_called 278\n",
      "r3kbnr/p2b1ppp/2p1p3/3pP3/1q1N4/2NQ4/P1PB1PPP/R4RK1 b kq - 3 12\n",
      "[(56, 'b4c5'), (137, 'b4a3'), (579, 'b4d4')]\n",
      "243 b4c5\n",
      "51 b4a3\n"
     ]
    },
    {
     "name": "stderr",
     "output_type": "stream",
     "text": [
      "192.168.97.94 - - [16/Aug/2023 17:48:17] \"POST /predict HTTP/1.1\" 200 -\n"
     ]
    },
    {
     "name": "stdout",
     "output_type": "stream",
     "text": [
      "545 b4d4\n",
      "b4a3\n",
      "24.16229\n",
      "cache_hit 23\n",
      "cache_called 291\n",
      "r3kbnr/p2b1ppp/2p1p3/3pP3/3N4/q1NQ4/P1PB1PPP/RR4K1 b kq - 5 13\n",
      "[(192, 'f8e7'), (380, 'c6c5'), (1155, 'a8b8')]\n",
      "194 f8e7\n",
      "725 c6c5\n"
     ]
    },
    {
     "name": "stderr",
     "output_type": "stream",
     "text": [
      "192.168.97.94 - - [16/Aug/2023 17:50:30] \"POST /predict HTTP/1.1\" 200 -\n"
     ]
    },
    {
     "name": "stdout",
     "output_type": "stream",
     "text": [
      "1221 a8b8\n",
      "f8e7\n",
      "23.350806\n",
      "cache_hit 23\n",
      "cache_called 304\n",
      "r3k1nr/p2bbppp/2p1p3/3pP3/3N4/qRNQ4/P1PB1PPP/R5K1 b kq - 7 14\n",
      "[(194, 'a3c5'), (688, 'c6c5'), (775, 'a3c1')]\n",
      "98 a3c5\n",
      "657 c6c5\n"
     ]
    },
    {
     "name": "stderr",
     "output_type": "stream",
     "text": [
      "192.168.97.94 - - [16/Aug/2023 17:55:29] \"POST /predict HTTP/1.1\" 200 -\n"
     ]
    },
    {
     "name": "stdout",
     "output_type": "stream",
     "text": [
      "762 a3c1\n",
      "a3c5\n",
      "22.944267\n",
      "cache_hit 24\n",
      "cache_called 317\n",
      "r3k1nr/p2bbppp/2p1p3/2qpP3/N2N4/1R1Q4/P1PB1PPP/R5K1 b kq - 9 15\n",
      "[(71, 'c5c4'), (633, 'c5d4'), (721, 'c5a3')]\n",
      "55 c5c4\n",
      "676 c5d4\n"
     ]
    },
    {
     "name": "stderr",
     "output_type": "stream",
     "text": [
      "192.168.97.94 - - [16/Aug/2023 17:56:48] \"POST /predict HTTP/1.1\" 200 -\n"
     ]
    },
    {
     "name": "stdout",
     "output_type": "stream",
     "text": [
      "765 c5a3\n",
      "c5c4\n",
      "22.308223\n",
      "cache_hit 25\n",
      "cache_called 330\n",
      "r3k1nr/p2bbppp/2p1p3/3pP3/N1QN4/1R6/P1PB1PPP/R5K1 b kq - 0 16\n",
      "[(55, 'd5c4'), (835, 'e7f6'), (1490, 'a8b8')]\n",
      "90 d5c4\n",
      "971 e7f6\n"
     ]
    },
    {
     "name": "stderr",
     "output_type": "stream",
     "text": [
      "192.168.97.94 - - [16/Aug/2023 17:57:26] \"POST /predict HTTP/1.1\" 200 -\n"
     ]
    },
    {
     "name": "stdout",
     "output_type": "stream",
     "text": [
      "766 a8b8\n",
      "d5c4\n",
      "22.327773\n",
      "cache_hit 26\n",
      "cache_called 343\n",
      "r3k1nr/pR1bbppp/2p1p3/4P3/N1pN4/8/P1PB1PPP/R5K1 b kq - 1 17\n",
      "[(-164, 'c6c5'), (107, 'e7d8'), (943, 'a8b8')]\n",
      "-250 c6c5\n",
      "407 e7d8\n"
     ]
    },
    {
     "name": "stderr",
     "output_type": "stream",
     "text": [
      "192.168.97.94 - - [16/Aug/2023 17:57:52] \"POST /predict HTTP/1.1\" 200 -\n"
     ]
    },
    {
     "name": "stdout",
     "output_type": "stream",
     "text": [
      "943 a8b8\n",
      "c6c5\n",
      "22.877966\n",
      "cache_hit 26\n",
      "cache_called 356\n",
      "r3k1nr/pR1bbppp/4p3/2p1P3/N1p5/8/P1PBNPPP/R5K1 b kq - 1 18\n",
      "[(-284, 'd7c6'), (35, 'f7f6'), (692, 'a8b8')]\n",
      "-307 d7c6\n",
      "-3 f7f6\n"
     ]
    },
    {
     "name": "stderr",
     "output_type": "stream",
     "text": [
      "192.168.97.94 - - [16/Aug/2023 17:58:30] \"POST /predict HTTP/1.1\" 200 -\n"
     ]
    },
    {
     "name": "stdout",
     "output_type": "stream",
     "text": [
      "685 a8b8\n",
      "d7c6\n",
      "23.673626\n",
      "cache_hit 26\n",
      "cache_called 369\n",
      "r3k1nr/p1R1bppp/2b1p3/2p1P3/N1p5/8/P1PBNPPP/R5K1 b kq - 3 19\n",
      "[(-334, 'c6a4'), (56, 'c6e4'), (128, 'c6d5')]\n",
      "-417 c6a4\n",
      "67 c6e4\n"
     ]
    },
    {
     "name": "stderr",
     "output_type": "stream",
     "text": [
      "192.168.97.94 - - [16/Aug/2023 17:59:05] \"POST /predict HTTP/1.1\" 200 -\n"
     ]
    },
    {
     "name": "stdout",
     "output_type": "stream",
     "text": [
      "83 c6d5\n",
      "c6a4\n",
      "24.206548\n",
      "cache_hit 26\n",
      "cache_called 382\n",
      "r3k1nr/p1R1bppp/4p3/2p1P3/b1p5/2P5/P2BNPPP/R5K1 b kq - 0 20\n",
      "[(-497, 'e7d8'), (-461, 'e7h4'), (-398, 'f7f6')]\n",
      "-736 e7d8\n",
      "-73 e7h4\n"
     ]
    },
    {
     "name": "stderr",
     "output_type": "stream",
     "text": [
      "192.168.97.94 - - [16/Aug/2023 17:59:39] \"POST /predict HTTP/1.1\" 200 -\n"
     ]
    },
    {
     "name": "stdout",
     "output_type": "stream",
     "text": [
      "-383 f7f6\n",
      "e7d8\n",
      "24.085714\n",
      "cache_hit 26\n",
      "cache_called 395\n",
      "r2bk1nr/p4ppp/4p3/2R1P3/b1p5/2P5/P2BNPPP/R5K1 b kq - 0 21\n",
      "[(-490, 'g8e7'), (81, 'd8a5'), (340, 'a8c8')]\n",
      "-487 g8e7\n",
      "79 d8a5\n"
     ]
    },
    {
     "name": "stderr",
     "output_type": "stream",
     "text": [
      "192.168.97.94 - - [16/Aug/2023 18:00:06] \"POST /predict HTTP/1.1\" 200 -\n"
     ]
    },
    {
     "name": "stdout",
     "output_type": "stream",
     "text": [
      "331 a8c8\n",
      "g8e7\n",
      "23.674709\n",
      "cache_hit 26\n",
      "cache_called 408\n",
      "r2bk2r/p3nppp/4p3/4P3/b1R5/2P5/P2BNPPP/R5K1 b kq - 0 22\n",
      "[(-523, 'a4b5'), (-468, 'a4c6'), (33, 'e7d5')]\n",
      "-429 a4b5\n",
      "-424 a4c6\n"
     ]
    },
    {
     "name": "stderr",
     "output_type": "stream",
     "text": [
      "192.168.97.94 - - [16/Aug/2023 18:00:34] \"POST /predict HTTP/1.1\" 200 -\n"
     ]
    },
    {
     "name": "stdout",
     "output_type": "stream",
     "text": [
      "65 e7d5\n",
      "a4b5\n",
      "23.867996\n",
      "cache_hit 27\n",
      "cache_called 421\n",
      "r2bk2r/p3nppp/4p3/1b2P3/4R3/2P5/P2BNPPP/R5K1 b kq - 2 23\n",
      "[(-494, 'b5c6'), (-485, 'a8c8'), (-476, 'd8a5')]\n",
      "-474 b5c6\n",
      "-453 a8c8\n"
     ]
    },
    {
     "name": "stderr",
     "output_type": "stream",
     "text": [
      "192.168.97.94 - - [16/Aug/2023 18:01:02] \"POST /predict HTTP/1.1\" 200 -\n"
     ]
    },
    {
     "name": "stdout",
     "output_type": "stream",
     "text": [
      "-493 d8a5\n",
      "d8a5\n",
      "25.151032\n",
      "cache_hit 27\n",
      "cache_called 434\n",
      "r3k2r/p3nppp/4p3/bb2P3/3NR3/2P5/P2B1PPP/R5K1 b kq - 4 24\n",
      "[(-456, 'b5d7'), (64, 'a8c8'), (120, 'b5f1')]\n",
      "-401 b5d7\n",
      "163 a8c8\n"
     ]
    },
    {
     "name": "stderr",
     "output_type": "stream",
     "text": [
      "192.168.97.94 - - [16/Aug/2023 18:01:53] \"POST /predict HTTP/1.1\" 200 -\n"
     ]
    },
    {
     "name": "stdout",
     "output_type": "stream",
     "text": [
      "74 b5f1\n",
      "b5d7\n",
      "24.164999\n",
      "cache_hit 27\n",
      "cache_called 447\n",
      "r3k2r/p2bnppp/4p3/b3P3/3NR3/2P5/P2B1PPP/1R4K1 b kq - 6 25\n",
      "[(-401, 'a8c8'), (-400, 'e7c6'), (454, 'a8b8')]\n",
      "-403 a8c8\n",
      "-334 e7c6\n"
     ]
    },
    {
     "name": "stderr",
     "output_type": "stream",
     "text": [
      "192.168.97.94 - - [16/Aug/2023 18:02:25] \"POST /predict HTTP/1.1\" 200 -\n"
     ]
    },
    {
     "name": "stdout",
     "output_type": "stream",
     "text": [
      "462 a8b8\n",
      "a8c8\n",
      "24.617357\n",
      "cache_hit 28\n",
      "cache_called 460\n",
      "2r1k2r/p2bnppp/4p3/b3P3/3NR3/2P5/P2B1PPP/2R3K1 b k - 8 26\n",
      "[(-432, 'a5b6'), (-401, 'c8c4'), (-30, 'a5c3')]\n",
      "-458 a5b6\n",
      "-407 c8c4\n"
     ]
    },
    {
     "name": "stderr",
     "output_type": "stream",
     "text": [
      "192.168.97.94 - - [16/Aug/2023 18:03:19] \"POST /predict HTTP/1.1\" 200 -\n"
     ]
    },
    {
     "name": "stdout",
     "output_type": "stream",
     "text": [
      "-26 a5c3\n",
      "a5b6\n",
      "24.130113\n",
      "cache_hit 28\n",
      "cache_called 473\n",
      "2r1k2r/p2bnppp/1b2p3/4P3/4R3/1NP5/P2B1PPP/2R3K1 b k - 10 27\n",
      "[(-506, 'd7c6'), (-418, 'c8c6'), (335, 'c8c4')]\n",
      "-458 d7c6\n",
      "-442 c8c6\n"
     ]
    },
    {
     "name": "stderr",
     "output_type": "stream",
     "text": [
      "192.168.97.94 - - [16/Aug/2023 18:03:55] \"POST /predict HTTP/1.1\" 200 -\n"
     ]
    },
    {
     "name": "stdout",
     "output_type": "stream",
     "text": [
      "370 c8c4\n",
      "d7c6\n",
      "23.323997\n",
      "cache_hit 28\n",
      "cache_called 486\n",
      "2r1k2r/p3nppp/1bb1p3/4P3/2R5/1NP5/P2B1PPP/2R3K1 b k - 12 28\n",
      "[(-422, 'c8d8'), (-416, 'e7d5'), (-357, 'c6b5')]\n",
      "-384 c8d8\n",
      "-413 e7d5\n"
     ]
    },
    {
     "name": "stderr",
     "output_type": "stream",
     "text": [
      "192.168.97.94 - - [16/Aug/2023 18:04:25] \"POST /predict HTTP/1.1\" 200 -\n"
     ]
    },
    {
     "name": "stdout",
     "output_type": "stream",
     "text": [
      "1 c6b5\n",
      "e7d5\n",
      "24.247529\n",
      "cache_hit 28\n",
      "cache_called 499\n",
      "2r1k2r/p4ppp/1bb1p3/3nP3/2RN4/2P5/P2B1PPP/2R3K1 b k - 14 29\n",
      "[(-413, 'd5e7'), (-364, 'c6d7'), (609, 'c6b5')]\n",
      "-437 d5e7\n",
      "-296 c6d7\n"
     ]
    },
    {
     "name": "stderr",
     "output_type": "stream",
     "text": [
      "192.168.97.94 - - [16/Aug/2023 18:04:57] \"POST /predict HTTP/1.1\" 200 -\n"
     ]
    },
    {
     "name": "stdout",
     "output_type": "stream",
     "text": [
      "644 c6b5\n",
      "d5e7\n",
      "22.901995\n",
      "cache_hit 29\n",
      "cache_called 512\n",
      "2r1k2r/p3nppp/1bN1p3/4P3/2R5/2P5/P2B1PPP/2R3K1 b k - 0 30\n",
      "[(-437, 'c8c6'), (-414, 'c8c7'), (491, 'c8d8')]\n",
      "-432 c8c6\n",
      "-391 c8c7\n"
     ]
    },
    {
     "name": "stderr",
     "output_type": "stream",
     "text": [
      "192.168.97.94 - - [16/Aug/2023 18:05:26] \"POST /predict HTTP/1.1\" 200 -\n"
     ]
    },
    {
     "name": "stdout",
     "output_type": "stream",
     "text": [
      "619 c8d8\n",
      "c8c6\n",
      "22.75469\n",
      "cache_hit 30\n",
      "cache_called 525\n",
      "4k2r/p3nppp/1bR1p3/4P3/8/2P5/P2B1PPP/2R3K1 b k - 0 31\n",
      "[(-482, 'e7c6'), (440, 'e8d7'), (525, 'b6d8')]\n",
      "-451 e7c6\n",
      "446 e8d7\n"
     ]
    },
    {
     "name": "stderr",
     "output_type": "stream",
     "text": [
      "192.168.97.94 - - [16/Aug/2023 18:05:53] \"POST /predict HTTP/1.1\" 200 -\n"
     ]
    },
    {
     "name": "stdout",
     "output_type": "stream",
     "text": [
      "478 b6d8\n",
      "e7c6\n",
      "22.324326\n",
      "cache_hit 31\n",
      "cache_called 538\n",
      "4k2r/p4ppp/1bn1p3/4P3/8/2P1B3/P4PPP/2R3K1 b k - 1 32\n",
      "[(-580, 'b6e3'), (-526, 'c6e5'), (56, 'b6d4')]\n",
      "-551 b6e3\n",
      "-481 c6e5\n"
     ]
    },
    {
     "name": "stderr",
     "output_type": "stream",
     "text": [
      "192.168.97.94 - - [16/Aug/2023 18:06:24] \"POST /predict HTTP/1.1\" 200 -\n"
     ]
    },
    {
     "name": "stdout",
     "output_type": "stream",
     "text": [
      "582 b6d4\n",
      "b6e3\n",
      "23.253071\n",
      "cache_hit 32\n",
      "cache_called 551\n",
      "4k2r/p4ppp/2n1p3/4P3/8/2P1P3/P5PP/2R3K1 b k - 0 33\n",
      "[(-551, 'e8e7'), (-543, 'e8d7'), (-511, 'c6e5')]\n",
      "-547 e8e7\n",
      "-550 e8d7\n"
     ]
    },
    {
     "name": "stderr",
     "output_type": "stream",
     "text": [
      "192.168.97.94 - - [16/Aug/2023 18:06:50] \"POST /predict HTTP/1.1\" 200 -\n"
     ]
    },
    {
     "name": "stdout",
     "output_type": "stream",
     "text": [
      "-522 c6e5\n",
      "e8d7\n",
      "22.504968\n",
      "cache_hit 33\n",
      "cache_called 564\n",
      "7r/p2k1ppp/2n1p3/4P3/8/2P1P3/P4KPP/2R5 b - - 2 34\n",
      "[(-550, 'c6e5'), (-542, 'd7e7'), (-432, 'd7e8')]\n",
      "-548 c6e5\n",
      "-550 d7e7\n"
     ]
    },
    {
     "name": "stderr",
     "output_type": "stream",
     "text": [
      "192.168.97.94 - - [16/Aug/2023 18:07:21] \"POST /predict HTTP/1.1\" 200 -\n"
     ]
    },
    {
     "name": "stdout",
     "output_type": "stream",
     "text": [
      "-510 d7e8\n",
      "d7e7\n",
      "23.697347\n",
      "cache_hit 34\n",
      "cache_called 577\n",
      "7r/p3kppp/2n1p3/4P3/8/2P1P3/P3K1PP/2R5 b - - 4 35\n",
      "[(-561, 'h8b8'), (-546, 'e7d7'), (-538, 'c6e5')]\n",
      "-562 h8b8\n",
      "-543 e7d7\n"
     ]
    },
    {
     "name": "stderr",
     "output_type": "stream",
     "text": [
      "192.168.97.94 - - [16/Aug/2023 18:07:58] \"POST /predict HTTP/1.1\" 200 -\n"
     ]
    },
    {
     "name": "stdout",
     "output_type": "stream",
     "text": [
      "-512 c6e5\n",
      "h8b8\n",
      "25.745027\n",
      "cache_hit 35\n",
      "cache_called 590\n",
      "1r6/p3kppp/2n1p3/4P3/8/2P1P3/P1R1K1PP/8 b - - 6 36\n",
      "[(-566, 'c6e5'), (-550, 'b8b1'), (526, 'b8b2')]\n",
      "-551 c6e5\n",
      "-565 b8b1\n"
     ]
    },
    {
     "name": "stderr",
     "output_type": "stream",
     "text": [
      "192.168.97.94 - - [16/Aug/2023 18:08:29] \"POST /predict HTTP/1.1\" 200 -\n"
     ]
    },
    {
     "name": "stdout",
     "output_type": "stream",
     "text": [
      "505 b8b2\n",
      "b8b1\n",
      "24.813582\n",
      "cache_hit 35\n",
      "cache_called 603\n",
      "8/p3kppp/2n1p3/4P3/8/2PKP3/P1R3PP/1r6 b - - 8 37\n",
      "[(-562, 'c6e5'), (-559, 'b1d1'), (-493, 'f7f6')]\n",
      "405 c6e5\n",
      "-552 b1d1\n"
     ]
    },
    {
     "name": "stderr",
     "output_type": "stream",
     "text": [
      "192.168.97.94 - - [16/Aug/2023 18:08:59] \"POST /predict HTTP/1.1\" 200 -\n"
     ]
    },
    {
     "name": "stdout",
     "output_type": "stream",
     "text": [
      "-508 f7f6\n",
      "b1d1\n",
      "25.086954\n",
      "cache_hit 35\n",
      "cache_called 616\n",
      "8/p3kppp/2n1p3/4P3/8/2PKP3/P2R2PP/3r4 b - - 10 38\n",
      "[(-551, 'd1d2'), (-549, 'c6e5'), (428, 'e7d7')]\n",
      "-557 d1d2\n",
      "-551 c6e5\n"
     ]
    },
    {
     "name": "stderr",
     "output_type": "stream",
     "text": [
      "192.168.97.94 - - [16/Aug/2023 18:09:30] \"POST /predict HTTP/1.1\" 200 -\n"
     ]
    },
    {
     "name": "stdout",
     "output_type": "stream",
     "text": [
      "426 e7d7\n",
      "d1d2\n",
      "24.85717\n",
      "cache_hit 35\n",
      "cache_called 629\n",
      "8/p3kppp/2n1p3/4P3/8/2P1P3/P2K2PP/8 b - - 0 39\n",
      "[(-557, 'c6e5'), (-557, 'e7d7'), (-552, 'e7f8')]\n",
      "-553 c6e5\n",
      "-551 e7d7\n"
     ]
    },
    {
     "name": "stderr",
     "output_type": "stream",
     "text": [
      "192.168.97.94 - - [16/Aug/2023 18:09:58] \"POST /predict HTTP/1.1\" 200 -\n"
     ]
    },
    {
     "name": "stdout",
     "output_type": "stream",
     "text": [
      "-550 e7f8\n",
      "c6e5\n",
      "25.601002\n",
      "cache_hit 36\n",
      "cache_called 642\n",
      "8/p3kppp/4p3/4n3/4P3/2P5/P2K2PP/8 b - - 0 40\n",
      "[(-559, 'e7f6'), (-557, 'e5c4'), (-554, 'e5d7')]\n",
      "-528 e7f6\n",
      "-535 e5c4\n"
     ]
    },
    {
     "name": "stderr",
     "output_type": "stream",
     "text": [
      "192.168.97.94 - - [16/Aug/2023 18:10:33] \"POST /predict HTTP/1.1\" 200 -\n"
     ]
    },
    {
     "name": "stdout",
     "output_type": "stream",
     "text": [
      "-559 e5d7\n",
      "e5d7\n",
      "25.512471\n",
      "cache_hit 37\n",
      "cache_called 655\n",
      "8/p2nkppp/4p3/8/4P3/2PK4/P5PP/8 b - - 2 41\n",
      "[(-545, 'f7f6'), (-543, 'd7e5'), (-542, 'd7c5')]\n",
      "-532 f7f6\n",
      "-550 d7e5\n"
     ]
    },
    {
     "name": "stderr",
     "output_type": "stream",
     "text": [
      "192.168.97.94 - - [16/Aug/2023 18:20:14] \"POST /predict HTTP/1.1\" 200 -\n"
     ]
    },
    {
     "name": "stdout",
     "output_type": "stream",
     "text": [
      "-553 d7c5\n",
      "d7c5\n",
      "26.380029\n",
      "cache_hit 37\n",
      "cache_called 668\n",
      "8/p3kppp/4p3/2n5/3KP3/2P5/P5PP/8 b - - 4 42\n",
      "[(-550, 'c5d7'), (2, 'e6e5'), (68, 'c5b3')]\n",
      "-516 c5d7\n",
      "14 e6e5\n"
     ]
    },
    {
     "name": "stderr",
     "output_type": "stream",
     "text": [
      "192.168.97.94 - - [16/Aug/2023 18:26:28] \"POST /predict HTTP/1.1\" 200 -\n"
     ]
    },
    {
     "name": "stdout",
     "output_type": "stream",
     "text": [
      "-523 c5b3\n",
      "c5b3\n",
      "25.57603\n",
      "cache_hit 37\n",
      "cache_called 681\n",
      "8/p3kppp/4p3/8/3KP3/1PP5/6PP/8 b - - 0 43\n",
      "[(60, 'e7d6'), (183, 'e7f6'), (408, 'e6e5')]\n",
      "41 e7d6\n",
      "71 e7f6\n"
     ]
    },
    {
     "name": "stderr",
     "output_type": "stream",
     "text": [
      "192.168.97.94 - - [16/Aug/2023 18:27:03] \"POST /predict HTTP/1.1\" 200 -\n"
     ]
    },
    {
     "name": "stdout",
     "output_type": "stream",
     "text": [
      "420 e6e5\n",
      "e7d6\n",
      "27.429912\n",
      "cache_hit 37\n",
      "cache_called 694\n",
      "8/p4ppp/3kp3/4P3/3K4/1PP5/6PP/8 b - - 0 44\n",
      "[(29, 'd6c6'), (57, 'd6d7'), (71, 'd6e7')]\n",
      "48 d6c6\n",
      "70 d6d7\n"
     ]
    },
    {
     "name": "stderr",
     "output_type": "stream",
     "text": [
      "192.168.97.94 - - [16/Aug/2023 18:34:55] \"POST /predict HTTP/1.1\" 200 -\n"
     ]
    },
    {
     "name": "stdout",
     "output_type": "stream",
     "text": [
      "58 d6e7\n",
      "d6c6\n",
      "25.752625\n",
      "cache_hit 38\n",
      "cache_called 707\n",
      "8/p4ppp/2k1p3/4P3/1P1K4/2P5/6PP/8 b - - 0 45\n",
      "[(-7, 'c6b5'), (67, 'c6b7'), (314, 'a7a5')]\n",
      "-210 c6b5\n",
      "68 c6b7\n"
     ]
    },
    {
     "name": "stderr",
     "output_type": "stream",
     "text": [
      "192.168.97.94 - - [16/Aug/2023 18:39:11] \"POST /predict HTTP/1.1\" 200 -\n"
     ]
    },
    {
     "name": "stdout",
     "output_type": "stream",
     "text": [
      "365 a7a5\n",
      "c6b5\n",
      "24.152027\n",
      "cache_hit 39\n",
      "cache_called 720\n",
      "8/p4ppp/4p3/1k2P3/1P1K3P/2P5/6P1/8 b - h3 0 46\n",
      "[(4, 'b5a4'), (62, 'b5c6'), (107, 'b5a6')]\n",
      "388 b5a4\n",
      "106 b5c6\n"
     ]
    },
    {
     "name": "stderr",
     "output_type": "stream",
     "text": [
      "192.168.97.94 - - [16/Aug/2023 18:39:53] \"POST /predict HTTP/1.1\" 200 -\n"
     ]
    },
    {
     "name": "stdout",
     "output_type": "stream",
     "text": [
      "42 b5a6\n",
      "b5a6\n",
      "25.070511\n",
      "cache_hit 39\n",
      "cache_called 733\n",
      "8/p4ppp/k3p3/4P3/1PPK3P/8/6P1/8 b - - 0 47\n",
      "[(193, 'a6b6'), (287, 'a6b7'), (468, 'h7h5')]\n",
      "212 a6b6\n",
      "283 a6b7\n"
     ]
    },
    {
     "name": "stderr",
     "output_type": "stream",
     "text": [
      "192.168.97.94 - - [16/Aug/2023 18:40:24] \"POST /predict HTTP/1.1\" 200 -\n"
     ]
    },
    {
     "name": "stdout",
     "output_type": "stream",
     "text": [
      "453 h7h5\n",
      "a6b6\n",
      "26.293245\n",
      "cache_hit 39\n",
      "cache_called 746\n",
      "8/p4ppp/1k2p3/1P2P3/2PK3P/8/6P1/8 b - - 0 48\n",
      "[(114, 'b6c7'), (187, 'a7a5'), (283, 'b6b7')]\n",
      "342 b6c7\n",
      "251 a7a5\n"
     ]
    },
    {
     "name": "stderr",
     "output_type": "stream",
     "text": [
      "192.168.97.94 - - [16/Aug/2023 18:42:40] \"POST /predict HTTP/1.1\" 200 -\n"
     ]
    },
    {
     "name": "stdout",
     "output_type": "stream",
     "text": [
      "222 b6b7\n",
      "b6b7\n",
      "30.929989\n",
      "cache_hit 39\n",
      "cache_called 759\n",
      "8/pk3ppp/4p3/1PK1P3/2P4P/8/6P1/8 b - - 2 49\n",
      "[(222, 'b7c7'), (414, 'b7c8'), (525, 'a7a6')]\n",
      "259 b7c7\n",
      "498 b7c8\n"
     ]
    },
    {
     "name": "stderr",
     "output_type": "stream",
     "text": [
      "192.168.97.94 - - [16/Aug/2023 18:43:13] \"POST /predict HTTP/1.1\" 200 -\n"
     ]
    },
    {
     "name": "stdout",
     "output_type": "stream",
     "text": [
      "487 a7a6\n",
      "b7c7\n",
      "28.409135\n",
      "cache_hit 40\n",
      "cache_called 772\n",
      "8/p1k2ppp/4p3/1PK1P3/2P3PP/8/8/8 b - g3 0 50\n",
      "[(408, 'c7d7'), (453, 'c7b7'), (473, 'c7c8')]\n",
      "346 c7d7\n",
      "520 c7b7\n"
     ]
    },
    {
     "name": "stderr",
     "output_type": "stream",
     "text": [
      "192.168.97.94 - - [16/Aug/2023 18:44:00] \"POST /predict HTTP/1.1\" 200 -\n"
     ]
    },
    {
     "name": "stdout",
     "output_type": "stream",
     "text": [
      "541 c7c8\n",
      "c7d7\n",
      "28.876724\n",
      "cache_hit 40\n",
      "cache_called 785\n",
      "8/p2k1ppp/1P2p3/2K1P3/2P3PP/8/8/8 b - - 0 51\n",
      "[(346, 'a7b6'), (566, 'd7c8'), (646, 'd7e7')]\n",
      "432 a7b6\n",
      "536 d7c8\n"
     ]
    },
    {
     "name": "stderr",
     "output_type": "stream",
     "text": [
      "192.168.97.94 - - [16/Aug/2023 18:46:13] \"POST /predict HTTP/1.1\" 200 -\n"
     ]
    },
    {
     "name": "stdout",
     "output_type": "stream",
     "text": [
      "395 d7e7\n",
      "d7e7\n",
      "26.200002\n",
      "cache_hit 41\n",
      "cache_called 798\n",
      "8/pP2kppp/4p3/2K1P3/2P3PP/8/8/8 b - - 0 52\n",
      "[(588, 'f7f6'), (627, 'e7d7'), (inf, 'e7d8')]\n",
      "1356 f7f6\n",
      "inf e7d7\n"
     ]
    },
    {
     "name": "stderr",
     "output_type": "stream",
     "text": [
      "192.168.97.94 - - [16/Aug/2023 18:46:33] \"POST /predict HTTP/1.1\" 200 -\n"
     ]
    },
    {
     "name": "stdout",
     "output_type": "stream",
     "text": [
      "inf e7d8\n",
      "f7f6\n",
      "17.681998\n",
      "cache_hit 41\n",
      "cache_called 807\n",
      "1Q6/p3k1pp/4pp2/2K1P3/2P3PP/8/8/8 b - - 0 53\n",
      "[(1356, 'e7f7'), (3713, 'f6e5'), (3773, 'f6f5')]\n",
      "3857 e7f7\n",
      "3646 f6e5\n"
     ]
    },
    {
     "name": "stderr",
     "output_type": "stream",
     "text": [
      "192.168.97.94 - - [16/Aug/2023 18:47:07] \"POST /predict HTTP/1.1\" 200 -\n"
     ]
    },
    {
     "name": "stdout",
     "output_type": "stream",
     "text": [
      "inf f6f5\n",
      "f6e5\n",
      "19.198003\n",
      "cache_hit 42\n",
      "cache_called 818\n",
      "8/Q3k1pp/4p3/2K1p3/2P3PP/8/8/8 b - - 0 54\n",
      "[(3724, 'e7f6'), (inf, 'e7d8'), (inf, 'e7e8')]\n",
      "3653 e7f6\n",
      "inf e7d8\n"
     ]
    },
    {
     "name": "stderr",
     "output_type": "stream",
     "text": [
      "192.168.97.94 - - [16/Aug/2023 18:47:26] \"POST /predict HTTP/1.1\" 200 -\n"
     ]
    },
    {
     "name": "stdout",
     "output_type": "stream",
     "text": [
      "inf e7e8\n",
      "e7f6\n",
      "15.38898\n",
      "cache_hit 42\n",
      "cache_called 827\n",
      "1Q6/6pp/4pk2/2K1p3/2P3PP/8/8/8 b - - 2 55\n",
      "[(3659, 'f6f7'), (3718, 'f6e7'), (inf, 'g7g5')]\n",
      "3778 f6f7\n",
      "3771 f6e7\n"
     ]
    },
    {
     "name": "stderr",
     "output_type": "stream",
     "text": [
      "192.168.97.94 - - [16/Aug/2023 18:47:55] \"POST /predict HTTP/1.1\" 200 -\n"
     ]
    },
    {
     "name": "stdout",
     "output_type": "stream",
     "text": [
      "3771 g7g5\n",
      "f6e7\n",
      "23.130344\n",
      "cache_hit 42\n",
      "cache_called 840\n",
      "8/4k1pp/4p3/2K1Q3/2P3PP/8/8/8 b - - 0 56\n",
      "[(4430, 'e7d8'), (4433, 'e7f7'), (4433, 'e7f8'), (4436, 'e7d7')]\n",
      "4430 e7d8\n",
      "inf e7f7\n",
      "inf e7f8\n",
      "4435 e7d7\n",
      "[(4430, 'e7d8'), (4433, 'e7f7'), (4433, 'e7f8'), (4436, 'e7d7')]\n",
      "inf e7d8\n",
      "inf e7f7\n",
      "inf e7f8\n"
     ]
    },
    {
     "name": "stderr",
     "output_type": "stream",
     "text": [
      "192.168.97.94 - - [16/Aug/2023 18:49:24] \"POST /predict HTTP/1.1\" 200 -\n"
     ]
    },
    {
     "name": "stdout",
     "output_type": "stream",
     "text": [
      "3792 e7d7\n",
      "e7d7\n",
      "82.349089\n",
      "cache_hit 57\n",
      "cache_called 890\n",
      "8/3k2pp/3Qp3/2K5/2P3PP/8/8/8 b - - 2 57\n",
      "[(3766, 'd7e8'), (inf, 'd7c8')]\n",
      "3778 d7e8\n",
      "inf d7c8\n",
      "[(3766, 'd7e8'), (inf, 'd7c8')]\n",
      "3789 d7e8\n"
     ]
    },
    {
     "name": "stderr",
     "output_type": "stream",
     "text": [
      "192.168.97.94 - - [16/Aug/2023 18:50:08] \"POST /predict HTTP/1.1\" 200 -\n"
     ]
    },
    {
     "name": "stdout",
     "output_type": "stream",
     "text": [
      "inf d7c8\n",
      "d7e8\n",
      "41.047433\n",
      "cache_hit 68\n",
      "cache_called 918\n",
      "4k3/6pp/4Q3/2K5/2P3PP/8/8/8 b - - 0 58\n",
      "[(3789, 'e8f8'), (inf, 'e8d8')]\n",
      "3790 e8f8\n",
      "inf e8d8\n",
      "[(3789, 'e8f8'), (inf, 'e8d8')]\n",
      "3764 e8f8\n"
     ]
    },
    {
     "name": "stderr",
     "output_type": "stream",
     "text": [
      "192.168.97.94 - - [16/Aug/2023 18:50:59] \"POST /predict HTTP/1.1\" 200 -\n"
     ]
    },
    {
     "name": "stdout",
     "output_type": "stream",
     "text": [
      "inf e8d8\n",
      "e8f8\n",
      "47.652904\n",
      "cache_hit 79\n",
      "cache_called 948\n",
      "5k2/6pp/3KQ3/8/2P3PP/8/8/8 b - - 2 59\n",
      "[(inf, 'g7g5'), (inf, 'g7g6'), (inf, 'h7h5'), (inf, 'h7h6')]\n",
      "inf g7g5\n",
      "inf g7g6\n",
      "inf h7h5\n",
      "inf h7h6\n",
      "[(inf, 'g7g5'), (inf, 'g7g6'), (inf, 'h7h5'), (inf, 'h7h6')]\n",
      "inf g7g5\n",
      "inf g7g6\n",
      "inf h7h5\n"
     ]
    },
    {
     "name": "stderr",
     "output_type": "stream",
     "text": [
      "192.168.97.94 - - [16/Aug/2023 18:51:31] \"POST /predict HTTP/1.1\" 200 -\n"
     ]
    },
    {
     "name": "stdout",
     "output_type": "stream",
     "text": [
      "inf h7h6\n",
      "g7g5\n",
      "29.411002\n",
      "cache_hit 88\n",
      "cache_called 973\n",
      "5k2/4Q2p/3K4/6p1/2P3PP/8/8/8 b - - 1 60\n",
      "[(inf, 'f8g8')]\n",
      "inf f8g8\n",
      "[(inf, 'f8g8')]\n"
     ]
    },
    {
     "name": "stderr",
     "output_type": "stream",
     "text": [
      "192.168.97.94 - - [16/Aug/2023 18:51:44] \"POST /predict HTTP/1.1\" 200 -\n"
     ]
    },
    {
     "name": "stdout",
     "output_type": "stream",
     "text": [
      "inf f8g8\n",
      "f8g8\n",
      "8.335683\n",
      "cache_hit 91\n",
      "cache_called 981\n",
      "6k1/4Q2p/4K3/6p1/2P3PP/8/8/8 b - - 3 61\n",
      "[(inf, 'g5h4'), (inf, 'g8h8'), (inf, 'h7h5'), (inf, 'h7h6')]\n",
      "inf g5h4\n",
      "inf g8h8\n",
      "inf h7h5\n",
      "inf h7h6\n",
      "[(inf, 'g5h4'), (inf, 'g8h8'), (inf, 'h7h5'), (inf, 'h7h6')]\n",
      "inf g5h4\n",
      "inf g8h8\n",
      "inf h7h5\n"
     ]
    },
    {
     "name": "stderr",
     "output_type": "stream",
     "text": [
      "192.168.97.94 - - [16/Aug/2023 18:52:21] \"POST /predict HTTP/1.1\" 200 -\n"
     ]
    },
    {
     "name": "stdout",
     "output_type": "stream",
     "text": [
      "inf h7h6\n",
      "g5h4\n",
      "33.066025\n",
      "cache_hit 100\n",
      "cache_called 1007\n",
      "6k1/4Q2p/5K2/8/2P3Pp/8/8/8 b - - 1 62\n",
      "[(inf, 'h4h3'), (inf, 'h7h5'), (inf, 'g8h8'), (inf, 'h7h6')]\n",
      "inf h4h3\n",
      "inf h7h5\n",
      "inf g8h8\n",
      "inf h7h6\n",
      "[(inf, 'h4h3'), (inf, 'h7h5'), (inf, 'g8h8'), (inf, 'h7h6')]\n",
      "inf h4h3\n",
      "inf h7h5\n",
      "inf g8h8\n"
     ]
    },
    {
     "name": "stderr",
     "output_type": "stream",
     "text": [
      "192.168.97.94 - - [16/Aug/2023 18:52:54] \"POST /predict HTTP/1.1\" 200 -\n"
     ]
    },
    {
     "name": "stdout",
     "output_type": "stream",
     "text": [
      "inf h7h6\n",
      "h4h3\n",
      "27.080092\n",
      "cache_hit 108\n",
      "cache_called 1029\n",
      "rnbqkbnr/pppppppp/8/8/8/8/PPPPPPPP/RNBQKBNR w KQkq - 0 1\n",
      "[(33, 'e2e4'), (30, 'd2d4'), (28, 'g1f3')]\n",
      "33 e2e4\n",
      "30 d2d4\n"
     ]
    },
    {
     "name": "stderr",
     "output_type": "stream",
     "text": [
      "192.168.97.94 - - [16/Aug/2023 18:56:31] \"POST /predict HTTP/1.1\" 200 -\n"
     ]
    },
    {
     "name": "stdout",
     "output_type": "stream",
     "text": [
      "28 g1f3\n",
      "e2e4\n",
      "1.662959\n",
      "cache_hit 109\n",
      "cache_called 1030\n",
      "rnbqkbnr/ppp1pppp/8/3p4/4P3/8/PPPP1PPP/RNBQKBNR w KQkq d6 0 2\n",
      "[(72, 'e4d5'), (-14, 'e4e5'), (-32, 'b1c3')]\n",
      "72 e4d5\n",
      "-14 e4e5\n"
     ]
    },
    {
     "name": "stderr",
     "output_type": "stream",
     "text": [
      "192.168.97.94 - - [16/Aug/2023 18:56:35] \"POST /predict HTTP/1.1\" 200 -\n"
     ]
    },
    {
     "name": "stdout",
     "output_type": "stream",
     "text": [
      "-32 b1c3\n",
      "e4d5\n",
      "1.680001\n",
      "cache_hit 110\n",
      "cache_called 1031\n",
      "rnb1kbnr/ppp1pppp/8/3q4/8/8/PPPP1PPP/RNBQKBNR w KQkq - 0 3\n",
      "[(72, 'b1c3'), (37, 'd2d4'), (-23, 'd1e2')]\n",
      "69 b1c3\n",
      "37 d2d4\n"
     ]
    },
    {
     "name": "stderr",
     "output_type": "stream",
     "text": [
      "192.168.97.94 - - [16/Aug/2023 18:58:19] \"POST /predict HTTP/1.1\" 200 -\n"
     ]
    },
    {
     "name": "stdout",
     "output_type": "stream",
     "text": [
      "-23 d1e2\n",
      "b1c3\n",
      "1.731999\n",
      "cache_hit 111\n",
      "cache_called 1032\n",
      "rnb1kbnr/ppp1pppp/8/q7/8/2N5/PPPP1PPP/R1BQKBNR w KQkq - 2 4\n",
      "[(86, 'g1f3'), (63, 'd2d4'), (42, 'f1c4')]\n",
      "86 g1f3\n",
      "63 d2d4\n"
     ]
    },
    {
     "name": "stderr",
     "output_type": "stream",
     "text": [
      "192.168.97.94 - - [16/Aug/2023 18:58:22] \"POST /predict HTTP/1.1\" 200 -\n"
     ]
    },
    {
     "name": "stdout",
     "output_type": "stream",
     "text": [
      "46 f1c4\n",
      "g1f3\n",
      "1.718995\n",
      "cache_hit 112\n",
      "cache_called 1033\n",
      "rn2kbnr/ppp1pppp/8/q4b2/8/2N2N2/PPPP1PPP/R1BQKB1R w KQkq - 4 5\n",
      "[(86, 'd2d4'), (48, 'd2d3')]\n",
      "71 d2d4\n"
     ]
    },
    {
     "name": "stderr",
     "output_type": "stream",
     "text": [
      "192.168.97.94 - - [16/Aug/2023 18:58:29] \"POST /predict HTTP/1.1\" 200 -\n"
     ]
    },
    {
     "name": "stdout",
     "output_type": "stream",
     "text": [
      "41 d2d3\n",
      "d2d4\n",
      "5.832002\n",
      "cache_hit 112\n",
      "cache_called 1036\n",
      "rn2kb1r/ppp1pppp/5n2/q4b2/3P4/2N2N2/PPP2PPP/R1BQKB1R w KQkq - 1 6\n",
      "[(55, 'f1c4'), (24, 'f1d3')]\n",
      "46 f1c4\n"
     ]
    },
    {
     "name": "stderr",
     "output_type": "stream",
     "text": [
      "192.168.97.94 - - [16/Aug/2023 18:58:36] \"POST /predict HTTP/1.1\" 200 -\n"
     ]
    },
    {
     "name": "stdout",
     "output_type": "stream",
     "text": [
      "32 f1d3\n",
      "f1c4\n",
      "5.648\n",
      "cache_hit 112\n",
      "cache_called 1039\n",
      "rn2kb1r/ppp2ppp/4pn2/q4b2/2BP4/2N2N2/PPP2PPP/R1BQK2R w KQkq - 0 7\n",
      "[(55, 'c1d2'), (31, 'e1g1'), (-15, 'f3e5')]\n",
      "63 c1d2\n",
      "50 e1g1\n"
     ]
    },
    {
     "name": "stderr",
     "output_type": "stream",
     "text": [
      "192.168.97.94 - - [16/Aug/2023 18:58:45] \"POST /predict HTTP/1.1\" 200 -\n"
     ]
    },
    {
     "name": "stdout",
     "output_type": "stream",
     "text": [
      "15 f3e5\n",
      "c1d2\n",
      "7.875673\n",
      "cache_hit 113\n",
      "cache_called 1043\n",
      "rn2kb1r/pp3ppp/2p1pn2/q4b2/2BP4/2N2N2/PPPB1PPP/R2QK2R w KQkq - 0 8\n",
      "[(36, 'f3e5'), (28, 'e1g1')]\n",
      "34 f3e5\n"
     ]
    },
    {
     "name": "stderr",
     "output_type": "stream",
     "text": [
      "192.168.97.94 - - [16/Aug/2023 18:58:53] \"POST /predict HTTP/1.1\" 200 -\n"
     ]
    },
    {
     "name": "stdout",
     "output_type": "stream",
     "text": [
      "22 e1g1\n",
      "f3e5\n",
      "5.924998\n",
      "cache_hit 113\n",
      "cache_called 1046\n",
      "r3kb1r/pp1n1ppp/2p1pn2/q3Nb2/2BP4/2N5/PPPB1PPP/R2QK2R w KQkq - 2 9\n",
      "[(28, 'e5d7'), (-161, 'e1g1')]\n",
      "46 e5d7\n"
     ]
    },
    {
     "name": "stderr",
     "output_type": "stream",
     "text": [
      "192.168.97.94 - - [16/Aug/2023 18:59:11] \"POST /predict HTTP/1.1\" 200 -\n"
     ]
    },
    {
     "name": "stdout",
     "output_type": "stream",
     "text": [
      "-166 e1g1\n",
      "e5d7\n",
      "5.52503\n",
      "cache_hit 113\n",
      "cache_called 1049\n",
      "r4b1r/pp1k1ppp/2p1pn2/q4b2/2BP4/2N5/PPPB1PPP/R2QK2R w KQ - 0 10\n",
      "[(9, 'c3e4'), (0, 'e1g1'), (-19, 'c4b3')]\n",
      "-560 c3e4\n",
      "20 e1g1\n"
     ]
    },
    {
     "name": "stderr",
     "output_type": "stream",
     "text": [
      "192.168.97.94 - - [16/Aug/2023 18:59:42] \"POST /predict HTTP/1.1\" 200 -\n"
     ]
    },
    {
     "name": "stdout",
     "output_type": "stream",
     "text": [
      "25 c4b3\n",
      "c4b3\n",
      "29.559031\n",
      "cache_hit 113\n",
      "cache_called 1062\n",
      "r6r/pp1k1ppp/2p1pn2/q4b2/1b1P4/1BN5/PPPB1PPP/R2QK2R w KQ - 2 11\n",
      "[(53, 'e1g1'), (43, 'a2a3'), (-474, 'c3e4')]\n",
      "53 e1g1\n",
      "43 a2a3\n"
     ]
    },
    {
     "name": "stderr",
     "output_type": "stream",
     "text": [
      "192.168.97.94 - - [16/Aug/2023 19:00:20] \"POST /predict HTTP/1.1\" 200 -\n"
     ]
    },
    {
     "name": "stdout",
     "output_type": "stream",
     "text": [
      "-476 c3e4\n",
      "e1g1\n",
      "25.786008\n",
      "cache_hit 114\n",
      "cache_called 1075\n",
      "r6r/pp1k1pp1/2p1pn2/q4b1p/1b1P4/1BN5/PPPB1PPP/R2Q1RK1 w - h6 0 12\n",
      "[(53, 'a2a3'), (-8, 'f2f3'), (-446, 'c3e4')]\n",
      "-50 a2a3\n",
      "55 f2f3\n"
     ]
    },
    {
     "name": "stderr",
     "output_type": "stream",
     "text": [
      "192.168.97.94 - - [16/Aug/2023 19:00:58] \"POST /predict HTTP/1.1\" 200 -\n"
     ]
    },
    {
     "name": "stdout",
     "output_type": "stream",
     "text": [
      "-406 c3e4\n",
      "f2f3\n",
      "30.125119\n",
      "cache_hit 114\n",
      "cache_called 1088\n",
      "3r3r/pp1k1pp1/2p1pn2/q4b1p/1b1P4/1BN2P2/PPPB2PP/R2Q1RK1 w - - 1 13\n",
      "[(25, 'a2a3'), (-11, 'f1e1'), (-64, 'c3e4')]\n",
      "55 a2a3\n",
      "74 f1e1\n"
     ]
    },
    {
     "name": "stderr",
     "output_type": "stream",
     "text": [
      "192.168.97.94 - - [16/Aug/2023 19:01:33] \"POST /predict HTTP/1.1\" 200 -\n"
     ]
    },
    {
     "name": "stdout",
     "output_type": "stream",
     "text": [
      "25 c3e4\n",
      "f1e1\n",
      "28.298783\n",
      "cache_hit 114\n",
      "cache_called 1101\n",
      "2kr3r/pp3pp1/2p1pn2/q4b1p/1b1P4/1BN2P2/PPPB2PP/R2QR1K1 w - - 3 14\n",
      "[(11, 'a2a3'), (-121, 'e1e5'), (-215, 'a2a4')]\n",
      "74 a2a3\n",
      "439 e1e5\n"
     ]
    },
    {
     "name": "stderr",
     "output_type": "stream",
     "text": [
      "192.168.97.94 - - [16/Aug/2023 19:09:53] \"POST /predict HTTP/1.1\" 200 -\n"
     ]
    },
    {
     "name": "stdout",
     "output_type": "stream",
     "text": [
      "-598 a2a4\n",
      "e1e5\n",
      "27.856477\n",
      "cache_hit 114\n",
      "cache_called 1114\n",
      "2kr3r/ppq2pp1/2p1pn2/4Rb1p/1b1P4/1BN2P2/PPPB2PP/R2Q2K1 w - - 5 15\n",
      "[(-230, 'a2a3'), (-275, 'd1c1'), (-442, 'c3e4')]\n",
      "-351 a2a3\n",
      "-89 d1c1\n"
     ]
    },
    {
     "name": "stderr",
     "output_type": "stream",
     "text": [
      "192.168.97.94 - - [16/Aug/2023 19:13:11] \"POST /predict HTTP/1.1\" 200 -\n"
     ]
    },
    {
     "name": "stdout",
     "output_type": "stream",
     "text": [
      "-346 c3e4\n",
      "d1c1\n",
      "27.688797\n",
      "cache_hit 114\n",
      "cache_called 1127\n",
      "2kr3r/ppq2p2/2p1pn2/4Rbpp/1b1P4/1BN2P2/PPPB2PP/R1Q3K1 w - g6 0 16\n",
      "[(121, 'd2g5'), (11, 'e5f5'), (-260, 'c3e4')]\n",
      "103 d2g5\n",
      "19 e5f5\n"
     ]
    },
    {
     "name": "stderr",
     "output_type": "stream",
     "text": [
      "192.168.97.94 - - [16/Aug/2023 19:14:33] \"POST /predict HTTP/1.1\" 200 -\n"
     ]
    },
    {
     "name": "stdout",
     "output_type": "stream",
     "text": [
      "-230 c3e4\n",
      "d2g5\n",
      "25.586029\n",
      "cache_hit 114\n",
      "cache_called 1140\n",
      "2kr3r/pp2qp2/2p1pn2/4RbBp/1b1P4/1BN2P2/PPP3PP/R1Q3K1 w - - 1 17\n",
      "[(131, 'a2a3'), (66, 'e5e1'), (-86, 'g5f6')]\n",
      "31 a2a3\n",
      "32 e5e1\n"
     ]
    },
    {
     "name": "stderr",
     "output_type": "stream",
     "text": [
      "192.168.97.94 - - [16/Aug/2023 19:16:37] \"POST /predict HTTP/1.1\" 200 -\n"
     ]
    },
    {
     "name": "stdout",
     "output_type": "stream",
     "text": [
      "-152 g5f6\n",
      "e5e1\n",
      "27.767038\n",
      "cache_hit 114\n",
      "cache_called 1153\n",
      "2kr2r1/pp2qp2/2p1pn2/5bBp/1b1P4/1BN2P2/PPP3PP/R1Q1R1K1 w - - 3 18\n",
      "[(32, 'a2a3'), (-70, 'g5d2'), (-219, 'g5f6')]\n",
      "33 a2a3\n",
      "-108 g5d2\n"
     ]
    },
    {
     "name": "stderr",
     "output_type": "stream",
     "text": [
      "192.168.97.94 - - [16/Aug/2023 19:20:38] \"POST /predict HTTP/1.1\" 200 -\n"
     ]
    },
    {
     "name": "stdout",
     "output_type": "stream",
     "text": [
      "-296 g5f6\n",
      "a2a3\n",
      "26.946\n",
      "cache_hit 115\n",
      "cache_called 1166\n",
      "2kr2r1/pp2qp2/2p1pn2/5bBp/3P4/PBb2P2/1PP3PP/R1Q1R1K1 w - - 0 19\n",
      "[(120, 'b2c3'), (-277, 'g5f6'), (-752, 'e1e5')]\n",
      "-465 b2c3\n",
      "-559 g5f6\n"
     ]
    },
    {
     "name": "stderr",
     "output_type": "stream",
     "text": [
      "192.168.97.94 - - [16/Aug/2023 19:58:18] \"POST /predict HTTP/1.1\" 200 -\n"
     ]
    },
    {
     "name": "stdout",
     "output_type": "stream",
     "text": [
      "-745 e1e5\n",
      "b2c3\n",
      "25.534566\n",
      "cache_hit 116\n",
      "cache_called 1179\n",
      "2kr4/pp2qp2/2p1pn2/5brp/3P4/PBP2P2/2P3PP/R1Q1R1K1 w - - 0 20\n",
      "[(-465, 'g1h1'), (-469, 'e1e5'), (-507, 'g1f2')]\n",
      "-518 g1h1\n",
      "-584 e1e5\n"
     ]
    },
    {
     "name": "stderr",
     "output_type": "stream",
     "text": [
      "192.168.97.94 - - [16/Aug/2023 19:59:00] \"POST /predict HTTP/1.1\" 200 -\n"
     ]
    },
    {
     "name": "stdout",
     "output_type": "stream",
     "text": [
      "-484 g1f2\n",
      "g1f2\n",
      "26.091999\n",
      "cache_hit 117\n",
      "cache_called 1192\n",
      "2k3r1/pp2qp2/2p1pn2/5brp/3P4/PBP2P2/2P2KPP/R1Q1R3 w - - 2 21\n",
      "[(-628, 'c1g5'), (-1135, 'e1e5'), (-1226, 'c1d2')]\n",
      "-615 c1g5\n",
      "-934 e1e5\n"
     ]
    },
    {
     "name": "stderr",
     "output_type": "stream",
     "text": [
      "192.168.97.94 - - [16/Aug/2023 20:00:03] \"POST /predict HTTP/1.1\" 200 -\n"
     ]
    },
    {
     "name": "stdout",
     "output_type": "stream",
     "text": [
      "-2283 c1d2\n",
      "c1g5\n",
      "25.117775\n",
      "cache_hit 117\n",
      "cache_called 1205\n",
      "2k5/pp2qp2/2p1pn2/5brp/3P4/PBP2P2/2P2KPP/R3R3 w - - 0 22\n",
      "[(-615, 'e1e5'), (-657, 'f2f1'), (-668, 'e1e3')]\n",
      "-717 e1e5\n",
      "-619 f2f1\n"
     ]
    },
    {
     "name": "stderr",
     "output_type": "stream",
     "text": [
      "192.168.97.94 - - [16/Aug/2023 20:00:33] \"POST /predict HTTP/1.1\" 200 -\n"
     ]
    },
    {
     "name": "stdout",
     "output_type": "stream",
     "text": [
      "-724 e1e3\n",
      "f2f1\n",
      "26.718001\n",
      "cache_hit 118\n",
      "cache_called 1218\n",
      "2k5/pp2qp2/2p1p3/3n1brp/3P4/PBP2P2/2P3PP/R3RK2 w - - 2 23\n",
      "[(-638, 'e1e5'), (-664, 'a1a2'), (-693, 'e1e4')]\n",
      "-879 e1e5\n",
      "-688 a1a2\n"
     ]
    },
    {
     "name": "stderr",
     "output_type": "stream",
     "text": [
      "192.168.97.94 - - [16/Aug/2023 20:13:36] \"POST /predict HTTP/1.1\" 200 -\n"
     ]
    },
    {
     "name": "stdout",
     "output_type": "stream",
     "text": [
      "-715 e1e4\n",
      "a1a2\n",
      "27.64915\n",
      "cache_hit 118\n",
      "cache_called 1231\n",
      "2k5/pp3p2/2p1pq2/3n1brp/3P4/PBP2P2/R1P3PP/4RK2 w - - 4 24\n",
      "[(-679, 'e1e5'), (-939, 'f1g1'), (-inf, 'e1a1')]\n",
      "-inf e1e5\n",
      "-inf f1g1\n"
     ]
    },
    {
     "name": "stderr",
     "output_type": "stream",
     "text": [
      "192.168.97.94 - - [16/Aug/2023 20:25:57] \"POST /predict HTTP/1.1\" 200 -\n"
     ]
    },
    {
     "name": "stdout",
     "output_type": "stream",
     "text": [
      "-inf e1a1\n",
      "e1e5\n",
      "15.764001\n",
      "cache_hit 118\n",
      "cache_called 1239\n",
      "2k5/pp3p2/2p1p1q1/3nRbrp/3P4/PBP2P2/R1P3PP/5K2 w - - 6 25\n",
      "[(-inf, 'c3c4'), (-inf, 'f1f2'), (-inf, 'f1e2')]\n",
      "-inf c3c4\n",
      "-inf f1f2\n"
     ]
    },
    {
     "name": "stderr",
     "output_type": "stream",
     "text": [
      "192.168.97.94 - - [16/Aug/2023 20:27:17] \"POST /predict HTTP/1.1\" 200 -\n"
     ]
    },
    {
     "name": "stdout",
     "output_type": "stream",
     "text": [
      "-inf f1e2\n",
      "c3c4\n",
      "12.052029\n",
      "cache_hit 119\n",
      "cache_called 1246\n",
      "2k5/pp3p2/2p1p1q1/4Rbrp/2PP4/PB2nP2/R1P3PP/5K2 w - - 1 26\n",
      "[(-inf, 'f1e2'), (-inf, 'f1f2'), (-inf, 'f1g1')]\n",
      "-inf f1e2\n",
      "-inf f1f2\n"
     ]
    },
    {
     "name": "stderr",
     "output_type": "stream",
     "text": [
      "192.168.97.94 - - [16/Aug/2023 20:33:51] \"POST /predict HTTP/1.1\" 200 -\n"
     ]
    },
    {
     "name": "stdout",
     "output_type": "stream",
     "text": [
      "-inf f1g1\n",
      "f1e2\n",
      "11.16303\n",
      "cache_hit 119\n",
      "cache_called 1253\n",
      "2k5/pp3p2/2p1p1q1/4Rbrp/2PP4/PB3P2/R1P1K1nP/8 w - - 0 27\n",
      "[(-697, 'e2d2'), (-768, 'e5a5'), (-875, 'e2f2')]\n",
      "-733 e2d2\n",
      "-807 e5a5\n"
     ]
    },
    {
     "name": "stderr",
     "output_type": "stream",
     "text": [
      "192.168.97.94 - - [16/Aug/2023 21:04:53] \"POST /predict HTTP/1.1\" 200 -\n"
     ]
    },
    {
     "name": "stdout",
     "output_type": "stream",
     "text": [
      "-inf e2f2\n",
      "e2d2\n",
      "22.616956\n",
      "cache_hit 119\n",
      "cache_called 1264\n",
      "2k5/pp3p2/2p1p1q1/4Rbrp/2PP1n2/PB3P2/R1PK3P/8 w - - 2 28\n",
      "[(-701, 'd2c3'), (-764, 'e5e1'), (-770, 'e5a5')]\n",
      "-688 d2c3\n",
      "-806 e5e1\n"
     ]
    },
    {
     "name": "stderr",
     "output_type": "stream",
     "text": [
      "192.168.97.94 - - [16/Aug/2023 21:05:25] \"POST /predict HTTP/1.1\" 200 -\n"
     ]
    },
    {
     "name": "stdout",
     "output_type": "stream",
     "text": [
      "-811 e5a5\n",
      "d2c3\n",
      "24.735606\n",
      "cache_hit 120\n",
      "cache_called 1277\n",
      "2k5/pp3p2/2p1p1q1/4Rbrp/2PP4/PBK2P2/R1P1n2P/8 w - - 4 29\n",
      "[(-625, 'e5e2'), (-707, 'c3b4'), (-765, 'c3b2')]\n",
      "-607 e5e2\n",
      "-821 c3b4\n"
     ]
    },
    {
     "name": "stderr",
     "output_type": "stream",
     "text": [
      "192.168.97.94 - - [16/Aug/2023 21:05:57] \"POST /predict HTTP/1.1\" 200 -\n"
     ]
    },
    {
     "name": "stdout",
     "output_type": "stream",
     "text": [
      "-839 c3b2\n",
      "e5e2\n",
      "25.632995\n",
      "cache_hit 121\n",
      "cache_called 1290\n",
      "2k5/1p3p2/2p1p1q1/p4brp/2PP4/PBK2P2/R1P1R2P/8 w - a6 0 30\n",
      "[(-589, 'e2e5'), (-605, 'c4c5'), (-857, 'e2g2')]\n",
      "-648 e2e5\n",
      "-609 c4c5\n"
     ]
    },
    {
     "name": "stderr",
     "output_type": "stream",
     "text": [
      "192.168.97.94 - - [16/Aug/2023 21:06:24] \"POST /predict HTTP/1.1\" 200 -\n"
     ]
    },
    {
     "name": "stdout",
     "output_type": "stream",
     "text": [
      "-inf e2g2\n",
      "c4c5\n",
      "21.24776\n",
      "cache_hit 122\n",
      "cache_called 1301\n",
      "2k5/1p3pq1/2p1p3/p1P2brp/3P4/PBK2P2/R1P1R2P/8 w - - 1 31\n",
      "[(-589, 'b3c4'), (-638, 'c3c4'), (-657, 'b3e6')]\n",
      "-634 b3c4\n",
      "-637 c3c4\n"
     ]
    },
    {
     "name": "stderr",
     "output_type": "stream",
     "text": [
      "192.168.97.94 - - [16/Aug/2023 21:06:59] \"POST /predict HTTP/1.1\" 200 -\n"
     ]
    },
    {
     "name": "stdout",
     "output_type": "stream",
     "text": [
      "-653 b3e6\n",
      "b3c4\n",
      "26.371\n",
      "cache_hit 122\n",
      "cache_called 1314\n",
      "8/1pk2pq1/2p1p3/p1P2brp/2BP4/P1K2P2/R1P1R2P/8 w - - 3 32\n",
      "[(-633, 'h2h4'), (-647, 'c4d3'), (-733, 'c3b3')]\n",
      "-642 h2h4\n",
      "-649 c4d3\n"
     ]
    },
    {
     "name": "stderr",
     "output_type": "stream",
     "text": [
      "192.168.97.94 - - [16/Aug/2023 21:07:26] \"POST /predict HTTP/1.1\" 200 -\n"
     ]
    },
    {
     "name": "stdout",
     "output_type": "stream",
     "text": [
      "-inf c3b3\n",
      "h2h4\n",
      "21.620581\n",
      "cache_hit 122\n",
      "cache_called 1325\n",
      "8/1pk2pq1/2p1p3/p1P2b1p/2BP3P/P1K2Pr1/R1P1R3/8 w - - 1 33\n",
      "[(-642, 'c4d3'), (-830, 'c3b3'), (-inf, 'c3b2')]\n",
      "-683 c4d3\n",
      "-inf c3b3\n"
     ]
    },
    {
     "name": "stderr",
     "output_type": "stream",
     "text": [
      "192.168.97.94 - - [16/Aug/2023 21:07:50] \"POST /predict HTTP/1.1\" 200 -\n"
     ]
    },
    {
     "name": "stdout",
     "output_type": "stream",
     "text": [
      "-692 c3b2\n",
      "c4d3\n",
      "20.37197\n",
      "cache_hit 123\n",
      "cache_called 1336\n",
      "8/1pk2pq1/2p1p3/p1P4p/3P3P/P1Kb1Pr1/R1P1R3/8 w - - 0 34\n",
      "[(-570, 'c2d3'), (-720, 'c3d3'), (-inf, 'c3b2')]\n",
      "-645 c2d3\n",
      "-inf c3d3\n"
     ]
    },
    {
     "name": "stderr",
     "output_type": "stream",
     "text": [
      "192.168.97.94 - - [16/Aug/2023 21:08:21] \"POST /predict HTTP/1.1\" 200 -\n"
     ]
    },
    {
     "name": "stdout",
     "output_type": "stream",
     "text": [
      "-inf c3b2\n",
      "c2d3\n",
      "16.856461\n",
      "cache_hit 124\n",
      "cache_called 1345\n",
      "8/1pk2p2/2p1p1q1/p1P4p/3P3P/P1KP1Pr1/R3R3/8 w - - 1 35\n",
      "[(-615, 'a2b2'), (-649, 'c3c4'), (-684, 'e2b2')]\n",
      "-775 a2b2\n",
      "-644 c3c4\n"
     ]
    },
    {
     "name": "stderr",
     "output_type": "stream",
     "text": [
      "192.168.97.94 - - [16/Aug/2023 21:08:51] \"POST /predict HTTP/1.1\" 200 -\n"
     ]
    },
    {
     "name": "stdout",
     "output_type": "stream",
     "text": [
      "-783 e2b2\n",
      "c3c4\n",
      "26.616002\n",
      "cache_hit 124\n",
      "cache_called 1358\n",
      "8/1pk2p2/2p1p1q1/p1P4p/2KP3P/P2P1r2/R3R3/8 w - - 0 36\n",
      "[(-inf, 'e2b2'), (-inf, 'e2f2'), (-inf, 'a2b2')]\n",
      "-inf e2b2\n",
      "-inf e2f2\n"
     ]
    },
    {
     "name": "stderr",
     "output_type": "stream",
     "text": [
      "192.168.97.94 - - [16/Aug/2023 21:09:18] \"POST /predict HTTP/1.1\" 200 -\n"
     ]
    },
    {
     "name": "stdout",
     "output_type": "stream",
     "text": [
      "-676 a2b2\n",
      "a2b2\n",
      "21.931721\n",
      "cache_hit 124\n",
      "cache_called 1369\n"
     ]
    },
    {
     "name": "stderr",
     "output_type": "stream",
     "text": [
      "192.168.96.194 - - [17/Aug/2023 00:20:18] \"POST /predict HTTP/1.1\" 200 -\n"
     ]
    },
    {
     "name": "stdout",
     "output_type": "stream",
     "text": [
      "rnbqkbnr/pppppppp/8/8/4P3/8/PPPP1PPP/RNBQKBNR b KQkq e3 0 1\n",
      "c7c5\n",
      "0.000995\n",
      "cache_hit 125\n",
      "cache_called 1370\n"
     ]
    },
    {
     "name": "stderr",
     "output_type": "stream",
     "text": [
      "192.168.96.194 - - [17/Aug/2023 00:20:20] \"POST /predict HTTP/1.1\" 200 -\n"
     ]
    },
    {
     "name": "stdout",
     "output_type": "stream",
     "text": [
      "rnbqkbnr/pp1ppppp/8/2p5/4P3/5N2/PPPP1PPP/RNBQKB1R b KQkq - 1 2\n",
      "b8c6\n",
      "0.0\n",
      "cache_hit 126\n",
      "cache_called 1371\n",
      "r1bqkbnr/pp1ppppp/2n5/2p5/4P3/2P2N2/PP1P1PPP/RNBQKB1R b KQkq - 0 3\n"
     ]
    },
    {
     "name": "stderr",
     "output_type": "stream",
     "text": [
      "192.168.96.194 - - [17/Aug/2023 00:20:22] \"POST /predict HTTP/1.1\" 200 -\n"
     ]
    },
    {
     "name": "stdout",
     "output_type": "stream",
     "text": [
      "g8f6\n",
      "0.890995\n",
      "cache_hit 126\n",
      "cache_called 1372\n",
      "r1bqkb1r/pp1ppppp/2n2n2/2p5/4P3/2PB1N2/PP1P1PPP/RNBQK2R b KQkq - 2 4\n"
     ]
    },
    {
     "name": "stderr",
     "output_type": "stream",
     "text": [
      "192.168.96.194 - - [17/Aug/2023 00:20:26] \"POST /predict HTTP/1.1\" 200 -\n"
     ]
    },
    {
     "name": "stdout",
     "output_type": "stream",
     "text": [
      "d7d5\n",
      "1.081003\n",
      "cache_hit 126\n",
      "cache_called 1373\n",
      "r1bqkb1r/pp2pppp/2n2n2/2pP4/8/2PB1N2/PP1P1PPP/RNBQK2R b KQkq - 0 5\n"
     ]
    },
    {
     "name": "stderr",
     "output_type": "stream",
     "text": [
      "192.168.96.194 - - [17/Aug/2023 00:20:32] \"POST /predict HTTP/1.1\" 200 -\n"
     ]
    },
    {
     "name": "stdout",
     "output_type": "stream",
     "text": [
      "f6d5\n",
      "0.841998\n",
      "cache_hit 126\n",
      "cache_called 1374\n",
      "r1bqkb1r/pp2pppp/2n5/2pn4/8/2P2N2/PPBP1PPP/RNBQK2R b KQkq - 1 6\n"
     ]
    },
    {
     "name": "stderr",
     "output_type": "stream",
     "text": [
      "192.168.96.194 - - [17/Aug/2023 00:20:35] \"POST /predict HTTP/1.1\" 200 -\n"
     ]
    },
    {
     "name": "stdout",
     "output_type": "stream",
     "text": [
      "e7e5\n",
      "0.905055\n",
      "cache_hit 126\n",
      "cache_called 1375\n",
      "r1bqkb1r/pp3ppp/2n5/2pnp3/8/2P2N2/PPBP1PPP/RNBQ1RK1 b kq - 1 7\n"
     ]
    },
    {
     "name": "stderr",
     "output_type": "stream",
     "text": [
      "192.168.96.194 - - [17/Aug/2023 00:20:40] \"POST /predict HTTP/1.1\" 200 -\n"
     ]
    },
    {
     "name": "stdout",
     "output_type": "stream",
     "text": [
      "f8e7\n",
      "0.845999\n",
      "cache_hit 126\n",
      "cache_called 1376\n",
      "r1bqk2r/pp2bppp/2n5/2pnp3/8/2P2N2/PPBP1PPP/RNBQR1K1 b kq - 3 8\n"
     ]
    },
    {
     "name": "stderr",
     "output_type": "stream",
     "text": [
      "192.168.96.194 - - [17/Aug/2023 00:20:49] \"POST /predict HTTP/1.1\" 200 -\n"
     ]
    },
    {
     "name": "stdout",
     "output_type": "stream",
     "text": [
      "c8e6\n",
      "1.088998\n",
      "cache_hit 126\n",
      "cache_called 1377\n",
      "r2qk2r/pp2bppp/2n1b3/2pnN3/8/2P5/PPBP1PPP/RNBQR1K1 b kq - 0 9\n"
     ]
    },
    {
     "name": "stderr",
     "output_type": "stream",
     "text": [
      "192.168.96.194 - - [17/Aug/2023 00:20:53] \"POST /predict HTTP/1.1\" 200 -\n"
     ]
    },
    {
     "name": "stdout",
     "output_type": "stream",
     "text": [
      "c6e5\n",
      "0.832998\n",
      "cache_hit 126\n",
      "cache_called 1378\n",
      "r2qk2r/pp2bppp/4b3/2pnR3/8/2P5/PPBP1PPP/RNBQ2K1 b kq - 0 10\n"
     ]
    },
    {
     "name": "stderr",
     "output_type": "stream",
     "text": [
      "192.168.96.194 - - [17/Aug/2023 00:20:57] \"POST /predict HTTP/1.1\" 200 -\n"
     ]
    },
    {
     "name": "stdout",
     "output_type": "stream",
     "text": [
      "d5b6\n",
      "0.884248\n",
      "cache_hit 126\n",
      "cache_called 1379\n",
      "r2qk2r/pp2bppp/1n2b3/2p1R3/8/2PP4/PPB2PPP/RNBQ2K1 b kq - 0 11\n"
     ]
    },
    {
     "name": "stderr",
     "output_type": "stream",
     "text": [
      "192.168.96.194 - - [17/Aug/2023 00:21:06] \"POST /predict HTTP/1.1\" 200 -\n"
     ]
    },
    {
     "name": "stdout",
     "output_type": "stream",
     "text": [
      "d8c7\n",
      "0.821001\n",
      "cache_hit 126\n",
      "cache_called 1380\n",
      "r3k2r/ppq1bppp/1n2b3/2p5/8/2PP4/PPB2PPP/RNBQR1K1 b kq - 2 12\n"
     ]
    },
    {
     "name": "stderr",
     "output_type": "stream",
     "text": [
      "192.168.96.194 - - [17/Aug/2023 00:21:13] \"POST /predict HTTP/1.1\" 200 -\n"
     ]
    },
    {
     "name": "stdout",
     "output_type": "stream",
     "text": [
      "b6d5\n",
      "1.077001\n",
      "cache_hit 126\n",
      "cache_called 1381\n",
      "r3k2r/ppq1bppp/4b3/2pn4/8/2PPB3/PPB2PPP/RN1QR1K1 b kq - 4 13\n"
     ]
    },
    {
     "name": "stderr",
     "output_type": "stream",
     "text": [
      "192.168.96.194 - - [17/Aug/2023 00:21:23] \"POST /predict HTTP/1.1\" 200 -\n"
     ]
    },
    {
     "name": "stdout",
     "output_type": "stream",
     "text": [
      "d5e3\n",
      "0.882\n",
      "cache_hit 126\n",
      "cache_called 1382\n",
      "r3k2r/ppq1bppp/4b3/2p5/8/2PPR3/PPB2PPP/RN1Q2K1 b kq - 0 14\n"
     ]
    },
    {
     "name": "stderr",
     "output_type": "stream",
     "text": [
      "192.168.96.194 - - [17/Aug/2023 00:21:26] \"POST /predict HTTP/1.1\" 200 -\n"
     ]
    },
    {
     "name": "stdout",
     "output_type": "stream",
     "text": [
      "e6b3\n",
      "0.8\n",
      "cache_hit 126\n",
      "cache_called 1383\n",
      "r3k2r/ppq1bppp/8/2p5/8/1BPPR3/PP3PPP/RN1Q2K1 b kq - 0 15\n"
     ]
    },
    {
     "name": "stderr",
     "output_type": "stream",
     "text": [
      "192.168.96.194 - - [17/Aug/2023 00:21:37] \"POST /predict HTTP/1.1\" 200 -\n"
     ]
    },
    {
     "name": "stdout",
     "output_type": "stream",
     "text": [
      "c5c4\n",
      "0.942001\n",
      "cache_hit 126\n",
      "cache_called 1384\n",
      "r3k2r/ppq1bppp/8/8/2B5/2PPR3/PP3PPP/RN1Q2K1 b kq - 0 16\n"
     ]
    },
    {
     "name": "stderr",
     "output_type": "stream",
     "text": [
      "192.168.96.194 - - [17/Aug/2023 00:21:40] \"POST /predict HTTP/1.1\" 200 -\n"
     ]
    },
    {
     "name": "stdout",
     "output_type": "stream",
     "text": [
      "c7c4\n",
      "0.829002\n",
      "cache_hit 126\n",
      "cache_called 1385\n",
      "r3k2r/pp2bppp/8/8/2P5/2P1R3/PP3PPP/RN1Q2K1 b kq - 0 17\n"
     ]
    },
    {
     "name": "stderr",
     "output_type": "stream",
     "text": [
      "192.168.96.194 - - [17/Aug/2023 00:21:43] \"POST /predict HTTP/1.1\" 200 -\n"
     ]
    },
    {
     "name": "stdout",
     "output_type": "stream",
     "text": [
      "e8f8\n",
      "0.865993\n",
      "cache_hit 126\n",
      "cache_called 1386\n",
      "r4k1r/pp2bppp/8/8/2P5/2P1R3/PP2QPPP/RN4K1 b - - 2 18\n"
     ]
    },
    {
     "name": "stderr",
     "output_type": "stream",
     "text": [
      "192.168.96.194 - - [17/Aug/2023 00:21:49] \"POST /predict HTTP/1.1\" 200 -\n"
     ]
    },
    {
     "name": "stdout",
     "output_type": "stream",
     "text": [
      "e7c5\n",
      "0.854998\n",
      "cache_hit 126\n",
      "cache_called 1387\n",
      "r4k1r/pp3ppp/8/2b5/2P1R3/2P5/PP2QPPP/RN4K1 b - - 4 19\n"
     ]
    },
    {
     "name": "stderr",
     "output_type": "stream",
     "text": [
      "192.168.96.194 - - [17/Aug/2023 00:21:54] \"POST /predict HTTP/1.1\" 200 -\n"
     ]
    },
    {
     "name": "stdout",
     "output_type": "stream",
     "text": [
      "f8g8\n",
      "1.407001\n",
      "cache_hit 126\n",
      "cache_called 1388\n",
      "r3R1kr/pp3ppp/8/2b5/2P5/2P5/PP2QPPP/RN4K1 b - - 6 20\n"
     ]
    },
    {
     "name": "stderr",
     "output_type": "stream",
     "text": [
      "192.168.96.194 - - [17/Aug/2023 00:22:00] \"POST /predict HTTP/1.1\" 200 -\n"
     ]
    },
    {
     "name": "stdout",
     "output_type": "stream",
     "text": [
      "a8e8\n",
      "0.748001\n",
      "cache_hit 126\n",
      "cache_called 1389\n",
      "4Q1kr/pp3ppp/8/2b5/2P5/2P5/PP3PPP/RN4K1 b - - 0 21\n"
     ]
    },
    {
     "name": "stderr",
     "output_type": "stream",
     "text": [
      "192.168.96.194 - - [17/Aug/2023 00:22:01] \"POST /predict HTTP/1.1\" 200 -\n"
     ]
    },
    {
     "name": "stdout",
     "output_type": "stream",
     "text": [
      "c5f8\n",
      "0.843\n",
      "cache_hit 126\n",
      "cache_called 1390\n",
      "4Qbkr/pp3ppp/8/8/2P5/2P5/PP1N1PPP/R5K1 b - - 2 22\n"
     ]
    },
    {
     "name": "stderr",
     "output_type": "stream",
     "text": [
      "192.168.96.194 - - [17/Aug/2023 00:22:04] \"POST /predict HTTP/1.1\" 200 -\n"
     ]
    },
    {
     "name": "stdout",
     "output_type": "stream",
     "text": [
      "g7g6\n",
      "0.875997\n",
      "cache_hit 126\n",
      "cache_called 1391\n",
      "4Qbkr/pp3p1p/6p1/8/2P5/2P5/PP1N1PPP/3R2K1 b - - 1 23\n"
     ]
    },
    {
     "name": "stderr",
     "output_type": "stream",
     "text": [
      "192.168.96.194 - - [17/Aug/2023 00:22:09] \"POST /predict HTTP/1.1\" 200 -\n"
     ]
    },
    {
     "name": "stdout",
     "output_type": "stream",
     "text": [
      "g8g7\n",
      "0.848996\n",
      "cache_hit 126\n",
      "cache_called 1392\n",
      "4Qb1r/pp3pkp/6p1/8/2P1N3/2P5/PP3PPP/3R2K1 b - - 3 24\n"
     ]
    },
    {
     "name": "stderr",
     "output_type": "stream",
     "text": [
      "192.168.96.194 - - [17/Aug/2023 00:22:13] \"POST /predict HTTP/1.1\" 200 -\n"
     ]
    },
    {
     "name": "stdout",
     "output_type": "stream",
     "text": [
      "g7g8\n",
      "0.851003\n",
      "cache_hit 126\n",
      "cache_called 1393\n",
      "3RQbkr/pp3p1p/6p1/8/2P1N3/2P5/PP3PPP/6K1 b - - 5 25\n"
     ]
    },
    {
     "name": "stderr",
     "output_type": "stream",
     "text": [
      "192.168.96.194 - - [17/Aug/2023 00:22:17] \"POST /predict HTTP/1.1\" 200 -\n"
     ]
    },
    {
     "name": "stdout",
     "output_type": "stream",
     "text": [
      "g8g7\n",
      "0.912999\n",
      "cache_hit 126\n",
      "cache_called 1394\n",
      "3RQb1r/pp3pkp/6p1/8/2P1N3/2P4P/PP3PP1/6K1 b - - 0 26\n"
     ]
    },
    {
     "name": "stderr",
     "output_type": "stream",
     "text": [
      "192.168.96.194 - - [17/Aug/2023 00:22:21] \"POST /predict HTTP/1.1\" 200 -\n"
     ]
    },
    {
     "name": "stdout",
     "output_type": "stream",
     "text": [
      "f8e7\n",
      "0.996001\n",
      "cache_hit 126\n",
      "cache_called 1395\n",
      "3R3r/pp2Qpkp/6p1/8/2P1N3/2P4P/PP3PP1/6K1 b - - 0 27\n"
     ]
    },
    {
     "name": "stderr",
     "output_type": "stream",
     "text": [
      "192.168.96.194 - - [17/Aug/2023 00:22:24] \"POST /predict HTTP/1.1\" 200 -\n"
     ]
    },
    {
     "name": "stdout",
     "output_type": "stream",
     "text": [
      "h8d8\n",
      "0.815968\n",
      "cache_hit 126\n",
      "cache_called 1396\n",
      "3Q4/pp3pkp/6p1/8/2P1N3/2P4P/PP3PP1/6K1 b - - 0 28\n"
     ]
    },
    {
     "name": "stderr",
     "output_type": "stream",
     "text": [
      "192.168.96.194 - - [17/Aug/2023 00:22:26] \"POST /predict HTTP/1.1\" 200 -\n"
     ]
    },
    {
     "name": "stdout",
     "output_type": "stream",
     "text": [
      "g7h6\n",
      "0.857972\n",
      "cache_hit 126\n",
      "cache_called 1397\n",
      "5Q2/pp3p1p/6pk/8/2P1N3/2P4P/PP3PP1/6K1 b - - 2 29\n"
     ]
    },
    {
     "name": "stderr",
     "output_type": "stream",
     "text": [
      "192.168.96.194 - - [17/Aug/2023 00:22:30] \"POST /predict HTTP/1.1\" 200 -\n"
     ]
    },
    {
     "name": "stdout",
     "output_type": "stream",
     "text": [
      "h6h5\n",
      "0.901892\n",
      "cache_hit 126\n",
      "cache_called 1398\n",
      "5Q2/pp3p1p/6p1/7k/2P1N1P1/2P4P/PP3P2/6K1 b - g3 0 30\n"
     ]
    },
    {
     "name": "stderr",
     "output_type": "stream",
     "text": [
      "192.168.96.194 - - [17/Aug/2023 00:22:34] \"POST /predict HTTP/1.1\" 200 -\n"
     ]
    },
    {
     "name": "stdout",
     "output_type": "stream",
     "text": [
      "h5h4\n",
      "0.841969\n",
      "cache_hit 126\n",
      "cache_called 1399\n",
      "rnbqkbnr/pppppppp/8/8/4P3/8/PPPP1PPP/RNBQKBNR b KQkq e3 0 1\n",
      "[(38, 'c7c5'), (38, 'e7e5'), (42, 'e7e6')]\n",
      "38 c7c5\n",
      "38 e7e5\n"
     ]
    },
    {
     "name": "stderr",
     "output_type": "stream",
     "text": [
      "192.168.96.194 - - [17/Aug/2023 00:23:02] \"POST /predict HTTP/1.1\" 200 -\n"
     ]
    },
    {
     "name": "stdout",
     "output_type": "stream",
     "text": [
      "34 e7e6\n",
      "e7e6\n",
      "1.860999\n",
      "cache_hit 127\n",
      "cache_called 1400\n",
      "rnbqkbnr/pppp1ppp/4p3/8/3PP3/8/PPP2PPP/RNBQKBNR b KQkq d3 0 2\n",
      "[(36, 'd7d5')]\n"
     ]
    },
    {
     "name": "stderr",
     "output_type": "stream",
     "text": [
      "192.168.96.194 - - [17/Aug/2023 00:23:07] \"POST /predict HTTP/1.1\" 200 -\n"
     ]
    },
    {
     "name": "stdout",
     "output_type": "stream",
     "text": [
      "36 d7d5\n",
      "d7d5\n",
      "0.559032\n",
      "cache_hit 128\n",
      "cache_called 1401\n",
      "rnbqkbnr/ppp2ppp/4p3/3P4/3P4/8/PPP2PPP/RNBQKBNR b KQkq - 0 3\n",
      "[(28, 'e6d5')]\n"
     ]
    },
    {
     "name": "stderr",
     "output_type": "stream",
     "text": [
      "192.168.96.194 - - [17/Aug/2023 00:23:09] \"POST /predict HTTP/1.1\" 200 -\n"
     ]
    },
    {
     "name": "stdout",
     "output_type": "stream",
     "text": [
      "32 e6d5\n",
      "e6d5\n",
      "1.474043\n",
      "cache_hit 128\n",
      "cache_called 1402\n",
      "rnbqkbnr/ppp2ppp/8/3p4/3P4/5N2/PPP2PPP/RNBQKB1R b KQkq - 1 4\n",
      "[(33, 'f8d6')]\n"
     ]
    },
    {
     "name": "stderr",
     "output_type": "stream",
     "text": [
      "192.168.96.194 - - [17/Aug/2023 00:23:14] \"POST /predict HTTP/1.1\" 200 -\n"
     ]
    },
    {
     "name": "stdout",
     "output_type": "stream",
     "text": [
      "37 f8d6\n",
      "f8d6\n",
      "1.51449\n",
      "cache_hit 128\n",
      "cache_called 1403\n",
      "rnbqk1nr/ppp2ppp/3b4/3p4/3P4/2P2N2/PP3PPP/RNBQKB1R b KQkq - 0 5\n",
      "[(5, 'g8f6'), (21, 'g8e7')]\n",
      "8 g8f6\n"
     ]
    },
    {
     "name": "stderr",
     "output_type": "stream",
     "text": [
      "192.168.96.194 - - [17/Aug/2023 00:23:49] \"POST /predict HTTP/1.1\" 200 -\n"
     ]
    },
    {
     "name": "stdout",
     "output_type": "stream",
     "text": [
      "16 g8e7\n",
      "g8f6\n",
      "5.636157\n",
      "cache_hit 128\n",
      "cache_called 1406\n",
      "rnbqk2r/ppp2ppp/3b1n2/3p2B1/3P4/2P2N2/PP3PPP/RN1QKB1R b KQkq - 2 6\n",
      "[(0, 'e8g8'), (4, 'h7h6')]\n",
      "-28 e8g8\n"
     ]
    },
    {
     "name": "stderr",
     "output_type": "stream",
     "text": [
      "192.168.96.194 - - [17/Aug/2023 00:24:01] \"POST /predict HTTP/1.1\" 200 -\n"
     ]
    },
    {
     "name": "stdout",
     "output_type": "stream",
     "text": [
      "-21 h7h6\n",
      "e8g8\n",
      "5.435453\n",
      "cache_hit 128\n",
      "cache_called 1409\n",
      "rnbq1rk1/ppp2ppp/3b1n2/3p2B1/3P4/2P2N2/PP2BPPP/RN1QK2R b KQ - 4 7\n",
      "[(-16, 'h7h6'), (28, 'c7c5')]\n",
      "-18 h7h6\n"
     ]
    },
    {
     "name": "stderr",
     "output_type": "stream",
     "text": [
      "192.168.96.194 - - [17/Aug/2023 00:24:08] \"POST /predict HTTP/1.1\" 200 -\n"
     ]
    },
    {
     "name": "stdout",
     "output_type": "stream",
     "text": [
      "21 c7c5\n",
      "h7h6\n",
      "5.009002\n",
      "cache_hit 128\n",
      "cache_called 1412\n",
      "rnbq1rk1/ppp2pp1/3b1n1p/3p4/3P4/2P1BN2/PP2BPPP/RN1QK2R b KQ - 1 8\n",
      "[(-29, 'c8g4'), (108, 'c7c5')]\n",
      "-34 c8g4\n"
     ]
    },
    {
     "name": "stderr",
     "output_type": "stream",
     "text": [
      "192.168.96.194 - - [17/Aug/2023 00:24:21] \"POST /predict HTTP/1.1\" 200 -\n"
     ]
    },
    {
     "name": "stdout",
     "output_type": "stream",
     "text": [
      "114 c7c5\n",
      "c8g4\n",
      "5.723006\n",
      "cache_hit 128\n",
      "cache_called 1415\n",
      "rn1q1rk1/ppp2pp1/3b1n1p/3p4/3P2b1/2P1BN2/PP2BPPP/RN1Q1RK1 b - - 3 9\n",
      "[(-40, 'c7c6'), (-35, 'f8e8')]\n",
      "-32 c7c6\n"
     ]
    },
    {
     "name": "stderr",
     "output_type": "stream",
     "text": [
      "192.168.96.194 - - [17/Aug/2023 00:24:31] \"POST /predict HTTP/1.1\" 200 -\n"
     ]
    },
    {
     "name": "stdout",
     "output_type": "stream",
     "text": [
      "-40 f8e8\n",
      "f8e8\n",
      "5.387599\n",
      "cache_hit 128\n",
      "cache_called 1418\n",
      "rn1qr1k1/ppp2pp1/3b1n1p/3p4/3P2b1/2P1BN2/PP1NBPPP/R2Q1RK1 b - - 5 10\n",
      "[(-42, 'b8d7'), (-30, 'c7c6'), (-15, 'b8c6')]\n",
      "-36 b8d7\n",
      "-43 c7c6\n"
     ]
    },
    {
     "name": "stderr",
     "output_type": "stream",
     "text": [
      "192.168.96.194 - - [17/Aug/2023 00:25:03] \"POST /predict HTTP/1.1\" 200 -\n"
     ]
    },
    {
     "name": "stdout",
     "output_type": "stream",
     "text": [
      "-22 b8c6\n",
      "c7c6\n",
      "28.401098\n",
      "cache_hit 128\n",
      "cache_called 1431\n",
      "rn1qr1k1/pp3pp1/2pb1n1p/3p4/3P2b1/2PBBN2/PP1N1PPP/R2Q1RK1 b - - 1 11\n",
      "[(-19, 'b8d7'), (33, 'f6d7'), (35, 'd8e7')]\n",
      "-21 b8d7\n",
      "63 f6d7\n"
     ]
    },
    {
     "name": "stderr",
     "output_type": "stream",
     "text": [
      "192.168.96.194 - - [17/Aug/2023 00:25:41] \"POST /predict HTTP/1.1\" 200 -\n"
     ]
    },
    {
     "name": "stdout",
     "output_type": "stream",
     "text": [
      "38 d8e7\n",
      "b8d7\n",
      "26.919329\n",
      "cache_hit 128\n",
      "cache_called 1444\n",
      "r2qr1k1/pp1n1pp1/2pb1n1p/3p4/3P2b1/2PBBN1P/PP1N1PP1/R2Q1RK1 b - - 0 12\n",
      "[(-21, 'g4h5'), (207, 'd8c7'), (536, 'g4f5')]\n",
      "32 g4h5\n",
      "271 d8c7\n"
     ]
    },
    {
     "name": "stderr",
     "output_type": "stream",
     "text": [
      "192.168.96.194 - - [17/Aug/2023 00:26:10] \"POST /predict HTTP/1.1\" 200 -\n"
     ]
    },
    {
     "name": "stdout",
     "output_type": "stream",
     "text": [
      "545 g4f5\n",
      "g4h5\n",
      "24.984001\n",
      "cache_hit 129\n",
      "cache_called 1457\n",
      "r2qr1k1/pp1n1pp1/2pb1n1p/3p3b/3P4/2PBBN1P/PPQN1PP1/R4RK1 b - - 2 13\n",
      "[(32, 'd8c7'), (48, 'd8e7'), (139, 'h5g6')]\n",
      "-6 d8c7\n",
      "198 d8e7\n"
     ]
    },
    {
     "name": "stderr",
     "output_type": "stream",
     "text": [
      "192.168.96.194 - - [17/Aug/2023 00:26:41] \"POST /predict HTTP/1.1\" 200 -\n"
     ]
    },
    {
     "name": "stdout",
     "output_type": "stream",
     "text": [
      "166 h5g6\n",
      "d8c7\n",
      "25.525583\n",
      "cache_hit 130\n",
      "cache_called 1470\n",
      "r3r1k1/ppqn1pp1/2pb1n1p/3p3b/3P4/2PBBN1P/PPQN1PP1/R3R1K1 b - - 4 14\n",
      "[(-23, 'd7f8'), (132, 'h5g6'), (226, 'e8e3')]\n",
      "-45 d7f8\n",
      "128 h5g6\n"
     ]
    },
    {
     "name": "stderr",
     "output_type": "stream",
     "text": [
      "192.168.96.194 - - [17/Aug/2023 00:27:19] \"POST /predict HTTP/1.1\" 200 -\n"
     ]
    },
    {
     "name": "stdout",
     "output_type": "stream",
     "text": [
      "241 e8e3\n",
      "d7f8\n",
      "24.921738\n",
      "cache_hit 131\n",
      "cache_called 1483\n",
      "r3rnk1/ppq2pp1/2pb1n1p/3p3b/3P3N/2PBB2P/PPQN1PP1/R3R1K1 b - - 6 15\n",
      "[(101, 'c7e7'), (106, 'f8e6'), (187, 'e8e3')]\n",
      "62 c7e7\n",
      "65 f8e6\n"
     ]
    },
    {
     "name": "stderr",
     "output_type": "stream",
     "text": [
      "192.168.96.194 - - [17/Aug/2023 00:28:39] \"POST /predict HTTP/1.1\" 200 -\n"
     ]
    },
    {
     "name": "stdout",
     "output_type": "stream",
     "text": [
      "270 e8e3\n",
      "c7e7\n",
      "26.581781\n",
      "cache_hit 131\n",
      "cache_called 1496\n",
      "r3rnk1/pp2qpp1/2pb1n1p/3p1N1b/3P4/2PBB2P/PPQN1PP1/R3R1K1 b - - 8 16\n",
      "[(35, 'e7d7'), (62, 'e7c7'), (235, 'e7e6')]\n",
      "53 e7d7\n",
      "334 e7c7\n"
     ]
    },
    {
     "name": "stderr",
     "output_type": "stream",
     "text": [
      "192.168.96.194 - - [17/Aug/2023 00:29:14] \"POST /predict HTTP/1.1\" 200 -\n"
     ]
    },
    {
     "name": "stdout",
     "output_type": "stream",
     "text": [
      "53 e7e6\n",
      "e7d7\n",
      "24.535002\n",
      "cache_hit 132\n",
      "cache_called 1509\n",
      "r3rnk1/pp1q1pp1/2pN1n1p/3p3b/3P4/2PBB2P/PPQN1PP1/R3R1K1 b - - 0 17\n",
      "[(53, 'd7d6'), (311, 'e8e3'), (522, 'e8e6')]\n",
      "0 d7d6\n",
      "321 e8e3\n"
     ]
    },
    {
     "name": "stderr",
     "output_type": "stream",
     "text": [
      "192.168.96.194 - - [17/Aug/2023 00:29:55] \"POST /predict HTTP/1.1\" 200 -\n"
     ]
    },
    {
     "name": "stdout",
     "output_type": "stream",
     "text": [
      "595 e8e6\n",
      "d7d6\n",
      "25.330112\n",
      "cache_hit 133\n",
      "cache_called 1522\n",
      "r3rnk1/pp3pp1/2pq1n1p/3p3b/3P4/2PBB2P/PPQ2PP1/R3RNK1 b - - 1 18\n",
      "[(-9, 'h5g6'), (82, 'f8e6'), (87, 'f8d7')]\n",
      "-5 h5g6\n",
      "45 f8e6\n"
     ]
    },
    {
     "name": "stderr",
     "output_type": "stream",
     "text": [
      "192.168.96.194 - - [17/Aug/2023 00:30:25] \"POST /predict HTTP/1.1\" 200 -\n"
     ]
    },
    {
     "name": "stdout",
     "output_type": "stream",
     "text": [
      "166 f8d7\n",
      "h5g6\n",
      "26.146291\n",
      "cache_hit 133\n",
      "cache_called 1535\n",
      "r3rnk1/pp3pp1/2pq1nBp/3p4/3P4/2P1B2P/PPQ2PP1/R3RNK1 b - - 0 19\n",
      "[(-12, 'f8g6'), (18, 'f7g6'), (587, 'f8e6')]\n",
      "-13 f8g6\n",
      "10 f7g6\n"
     ]
    },
    {
     "name": "stderr",
     "output_type": "stream",
     "text": [
      "192.168.96.194 - - [17/Aug/2023 00:31:03] \"POST /predict HTTP/1.1\" 200 -\n"
     ]
    },
    {
     "name": "stdout",
     "output_type": "stream",
     "text": [
      "585 f8e6\n",
      "f8g6\n",
      "26.623515\n",
      "cache_hit 133\n",
      "cache_called 1548\n",
      "r3r1k1/pp3pp1/2pq1nnp/3p4/3P4/2P1B1NP/PPQ2PP1/R3R1K1 b - - 1 20\n",
      "[(0, 'd6c7'), (4, 'd6e6'), (316, 'e8e3')]\n",
      "-487 d6c7\n",
      "2 d6e6\n"
     ]
    },
    {
     "name": "stderr",
     "output_type": "stream",
     "text": [
      "192.168.96.194 - - [17/Aug/2023 00:31:38] \"POST /predict HTTP/1.1\" 200 -\n"
     ]
    },
    {
     "name": "stdout",
     "output_type": "stream",
     "text": [
      "308 e8e3\n",
      "d6c7\n",
      "26.214381\n",
      "cache_hit 133\n",
      "cache_called 1561\n",
      "r3r1k1/ppq2pp1/2p2nnp/3p4/3P4/2P1B1NP/PP1Q1PP1/R3R1K1 b - - 3 21\n",
      "[(-2, 'c7b6'), (-1, 'e8d8'), (3, 'c7d7')]\n",
      "-23 c7b6\n",
      "-40 e8d8\n"
     ]
    },
    {
     "name": "stderr",
     "output_type": "stream",
     "text": [
      "192.168.96.194 - - [17/Aug/2023 00:32:43] \"POST /predict HTTP/1.1\" 200 -\n"
     ]
    },
    {
     "name": "stdout",
     "output_type": "stream",
     "text": [
      "-1 c7d7\n",
      "e8d8\n",
      "26.653663\n",
      "cache_hit 133\n",
      "cache_called 1574\n",
      "r2r2k1/ppq2pp1/2p2nnp/3p1N2/3P4/2P1B2P/PP1Q1PP1/R3R1K1 b - - 5 22\n",
      "[(-40, 'c7d7'), (184, 'd8e8'), (316, 'c7b6')]\n",
      "-232 c7d7\n",
      "-4 d8e8\n"
     ]
    },
    {
     "name": "stderr",
     "output_type": "stream",
     "text": [
      "192.168.96.194 - - [17/Aug/2023 00:34:12] \"POST /predict HTTP/1.1\" 200 -\n"
     ]
    },
    {
     "name": "stdout",
     "output_type": "stream",
     "text": [
      "165 c7b6\n",
      "c7d7\n",
      "24.695677\n",
      "cache_hit 134\n",
      "cache_called 1587\n",
      "r2r2k1/pp1q1pp1/2p2nnp/3p1N2/3P2P1/2P1B2P/PP1Q1P2/R3R1K1 b - g3 0 23\n",
      "[(276, 'd7c7'), (285, 'd7e6'), (434, 'd7f5')]\n",
      "76 d7c7\n",
      "-84 d7e6\n"
     ]
    },
    {
     "name": "stderr",
     "output_type": "stream",
     "text": [
      "192.168.96.194 - - [17/Aug/2023 00:35:47] \"POST /predict HTTP/1.1\" 200 -\n"
     ]
    },
    {
     "name": "stdout",
     "output_type": "stream",
     "text": [
      "514 d7f5\n",
      "d7e6\n",
      "24.698581\n",
      "cache_hit 134\n",
      "cache_called 1600\n",
      "r2r2k1/pp3pp1/2p1qnnB/3p1N2/3P2P1/2P4P/PP1Q1P2/R3R1K1 b - - 0 24\n",
      "[(546, 'e6d7'), (634, 'e6e4'), (703, 'g7h6')]\n",
      "456 e6d7\n",
      "616 e6e4\n"
     ]
    },
    {
     "name": "stderr",
     "output_type": "stream",
     "text": [
      "192.168.96.194 - - [17/Aug/2023 00:36:18] \"POST /predict HTTP/1.1\" 200 -\n"
     ]
    },
    {
     "name": "stdout",
     "output_type": "stream",
     "text": [
      "inf g7h6\n",
      "e6d7\n",
      "22.411422\n",
      "cache_hit 134\n",
      "cache_called 1612\n",
      "r2r2k1/pp1q1pB1/2p2nn1/3p1N2/3P2P1/2P4P/PP1Q1P2/R3R1K1 b - - 0 25\n",
      "[(733, 'd7c7'), (773, 'f6e4'), (inf, 'g8h7')]\n",
      "687 d7c7\n",
      "747 f6e4\n"
     ]
    },
    {
     "name": "stderr",
     "output_type": "stream",
     "text": [
      "192.168.96.194 - - [17/Aug/2023 00:36:42] \"POST /predict HTTP/1.1\" 200 -\n"
     ]
    },
    {
     "name": "stdout",
     "output_type": "stream",
     "text": [
      "inf g8h7\n",
      "d7c7\n",
      "19.482925\n",
      "cache_hit 134\n",
      "cache_called 1623\n",
      "r2r2k1/ppq2p2/2p2Bn1/3p1N2/3P2P1/2P4P/PP1Q1P2/R3R1K1 b - - 0 26\n",
      "[(687, 'c7f4'), (inf, 'd8e8'), (inf, 'c7h2')]\n",
      "700 c7f4\n",
      "inf d8e8\n"
     ]
    },
    {
     "name": "stderr",
     "output_type": "stream",
     "text": [
      "192.168.96.194 - - [17/Aug/2023 00:37:02] \"POST /predict HTTP/1.1\" 200 -\n"
     ]
    },
    {
     "name": "stdout",
     "output_type": "stream",
     "text": [
      "inf c7h2\n",
      "c7f4\n",
      "15.233766\n",
      "cache_hit 135\n",
      "cache_called 1632\n",
      "r2r2k1/pp3p2/2p2Bn1/3p1N2/3P1QP1/2P4P/PP3P2/R3R1K1 b - - 0 27\n",
      "[(700, 'g6f4'), (inf, 'd8e8'), (inf, 'a7a5')]\n",
      "700 g6f4\n",
      "inf d8e8\n"
     ]
    },
    {
     "name": "stderr",
     "output_type": "stream",
     "text": [
      "192.168.96.194 - - [17/Aug/2023 00:37:46] \"POST /predict HTTP/1.1\" 200 -\n"
     ]
    },
    {
     "name": "stdout",
     "output_type": "stream",
     "text": [
      "inf a7a5\n",
      "g6f4\n",
      "15.459215\n",
      "cache_hit 136\n",
      "cache_called 1641\n",
      "r2B2k1/pp3p2/2p5/3p1N2/3P1nP1/2P4P/PP3P2/R3R1K1 b - - 0 28\n",
      "[(700, 'a8d8'), (911, 'g8f8'), (925, 'f4h3')]\n",
      "633 a8d8\n",
      "910 g8f8\n"
     ]
    },
    {
     "name": "stderr",
     "output_type": "stream",
     "text": [
      "192.168.96.194 - - [17/Aug/2023 00:38:13] \"POST /predict HTTP/1.1\" 200 -\n"
     ]
    },
    {
     "name": "stdout",
     "output_type": "stream",
     "text": [
      "1244 f4h3\n",
      "a8d8\n",
      "24.055728\n",
      "cache_hit 137\n",
      "cache_called 1654\n",
      "3r2k1/pp3p2/2p5/3p1N2/3P1nP1/2P4P/PP3P1K/R3R3 b - - 1 29\n",
      "[(664, 'g8f8'), (667, 'g8h7'), (1235, 'd8e8')]\n",
      "635 g8f8\n",
      "671 g8h7\n"
     ]
    },
    {
     "name": "stderr",
     "output_type": "stream",
     "text": [
      "192.168.96.194 - - [17/Aug/2023 00:38:49] \"POST /predict HTTP/1.1\" 200 -\n"
     ]
    },
    {
     "name": "stdout",
     "output_type": "stream",
     "text": [
      "1183 d8e8\n",
      "g8f8\n",
      "23.983203\n",
      "cache_hit 137\n",
      "cache_called 1667\n",
      "3r1k2/pp3p2/2p5/3p1N2/3P1nP1/2P3KP/PP3P2/R3R3 b - - 3 30\n",
      "[(635, 'f4d3'), (664, 'f4e6'), (902, 'f4h3')]\n",
      "920 f4d3\n",
      "662 f4e6\n"
     ]
    },
    {
     "name": "stderr",
     "output_type": "stream",
     "text": [
      "192.168.96.194 - - [17/Aug/2023 00:39:24] \"POST /predict HTTP/1.1\" 200 -\n"
     ]
    },
    {
     "name": "stdout",
     "output_type": "stream",
     "text": [
      "993 f4h3\n",
      "f4e6\n",
      "23.711946\n",
      "cache_hit 138\n",
      "cache_called 1680\n",
      "3r1k2/pp3p2/2p1n3/3p1N2/3P2PP/2P3K1/PP3P2/R3R3 b - - 0 31\n",
      "[(676, 'f8e8'), (685, 'd8e8'), (1047, 'e6g5')]\n",
      "607 f8e8\n",
      "993 d8e8\n"
     ]
    },
    {
     "name": "stderr",
     "output_type": "stream",
     "text": [
      "192.168.96.194 - - [17/Aug/2023 00:40:01] \"POST /predict HTTP/1.1\" 200 -\n"
     ]
    },
    {
     "name": "stdout",
     "output_type": "stream",
     "text": [
      "1220 e6g5\n",
      "f8e8\n",
      "25.34721\n",
      "cache_hit 138\n",
      "cache_called 1693\n",
      "3rk3/pp3pN1/2p1n3/3p4/3P2PP/2P3K1/PP3P2/R3R3 b - - 2 32\n",
      "[(650, 'e8e7'), (704, 'e8d7'), (771, 'e8f8')]\n",
      "654 e8e7\n",
      "680 e8d7\n"
     ]
    },
    {
     "name": "stderr",
     "output_type": "stream",
     "text": [
      "192.168.96.194 - - [17/Aug/2023 00:40:30] \"POST /predict HTTP/1.1\" 200 -\n"
     ]
    },
    {
     "name": "stdout",
     "output_type": "stream",
     "text": [
      "704 e8f8\n",
      "e8e7\n",
      "25.183355\n",
      "cache_hit 138\n",
      "cache_called 1706\n",
      "3r4/pp2kp2/2p1N3/3p4/3P2PP/2P3K1/PP3P2/R3R3 b - - 0 33\n",
      "[(1024, 'd8d6'), (1381, 'e7d7'), (1527, 'd8e8')]\n",
      "1011 d8d6\n",
      "1398 e7d7\n"
     ]
    },
    {
     "name": "stderr",
     "output_type": "stream",
     "text": [
      "192.168.96.194 - - [17/Aug/2023 00:40:58] \"POST /predict HTTP/1.1\" 200 -\n"
     ]
    },
    {
     "name": "stdout",
     "output_type": "stream",
     "text": [
      "1093 d8e8\n",
      "d8d6\n",
      "25.384005\n",
      "cache_hit 138\n",
      "cache_called 1719\n",
      "8/pp2kp2/2pr4/3p2N1/3P2PP/2P3K1/PP3P2/R3R3 b - - 2 34\n",
      "[(975, 'e7f8'), (1021, 'e7f6'), (1185, 'e7d7')]\n",
      "961 e7f8\n",
      "1107 e7f6\n"
     ]
    },
    {
     "name": "stderr",
     "output_type": "stream",
     "text": [
      "192.168.96.194 - - [17/Aug/2023 00:41:46] \"POST /predict HTTP/1.1\" 200 -\n"
     ]
    },
    {
     "name": "stdout",
     "output_type": "stream",
     "text": [
      "1015 e7d7\n",
      "e7f8\n",
      "25.972978\n",
      "cache_hit 139\n",
      "cache_called 1732\n",
      "5k2/pp3p2/2pr4/3p2N1/3P2PP/2P1R1K1/PP3P2/R7 b - - 4 35\n",
      "[(1119, 'f8g7'), (1130, 'f8g8'), (1342, 'd6f6')]\n",
      "1101 f8g7\n",
      "1130 f8g8\n"
     ]
    },
    {
     "name": "stderr",
     "output_type": "stream",
     "text": [
      "192.168.96.194 - - [17/Aug/2023 00:42:20] \"POST /predict HTTP/1.1\" 200 -\n"
     ]
    },
    {
     "name": "stdout",
     "output_type": "stream",
     "text": [
      "1274 d6f6\n",
      "f8g7\n",
      "24.453686\n",
      "cache_hit 139\n",
      "cache_called 1745\n",
      "8/pp3pk1/2pr4/3p2N1/3P2PP/2P1R1K1/PP3P2/4R3 b - - 6 36\n",
      "[(1115, 'd6f6'), (1312, 'd6d8'), (1646, 'd6e6')]\n",
      "4024 d6f6\n",
      "1431 d6d8\n"
     ]
    },
    {
     "name": "stderr",
     "output_type": "stream",
     "text": [
      "192.168.96.194 - - [17/Aug/2023 00:42:54] \"POST /predict HTTP/1.1\" 200 -\n"
     ]
    },
    {
     "name": "stdout",
     "output_type": "stream",
     "text": [
      "1773 d6e6\n",
      "d6d8\n",
      "25.87058\n",
      "cache_hit 139\n",
      "cache_called 1758\n",
      "3r4/pp2Rpk1/2p5/3p2N1/3P2PP/2P3K1/PP3P2/4R3 b - - 8 37\n",
      "[(inf, 'g7f6'), (inf, 'g7g6'), (inf, 'g7f8')]\n",
      "inf g7f6\n",
      "inf g7g6\n"
     ]
    },
    {
     "name": "stderr",
     "output_type": "stream",
     "text": [
      "192.168.96.194 - - [17/Aug/2023 00:43:09] \"POST /predict HTTP/1.1\" 200 -\n"
     ]
    },
    {
     "name": "stdout",
     "output_type": "stream",
     "text": [
      "inf g7f8\n",
      "g7f6\n",
      "10.872336\n",
      "cache_hit 139\n",
      "cache_called 1765\n",
      "3r4/pp3R2/2p2k2/3p2N1/3P2PP/2P3K1/PP3P2/4R3 b - - 0 38\n",
      "[(inf, 'f6g6')]\n"
     ]
    },
    {
     "name": "stderr",
     "output_type": "stream",
     "text": [
      "192.168.96.194 - - [17/Aug/2023 00:43:16] \"POST /predict HTTP/1.1\" 200 -\n"
     ]
    },
    {
     "name": "stdout",
     "output_type": "stream",
     "text": [
      "inf f6g6\n",
      "f6g6\n",
      "1.838104\n",
      "cache_hit 140\n",
      "cache_called 1767\n",
      "rnbqkbnr/pppppppp/8/8/8/3P4/PPP1PPPP/RNBQKBNR b KQkq - 0 1\n"
     ]
    },
    {
     "name": "stderr",
     "output_type": "stream",
     "text": [
      "192.168.97.201 - - [17/Aug/2023 08:35:52] \"POST /predict HTTP/1.1\" 200 -\n"
     ]
    },
    {
     "name": "stdout",
     "output_type": "stream",
     "text": [
      "d7d5\n",
      "0.855956\n",
      "cache_hit 140\n",
      "cache_called 1768\n",
      "rnbqkbnr/ppp1pppp/8/3p4/4P3/3P4/PPP2PPP/RNBQKBNR b KQkq e3 0 2\n"
     ]
    },
    {
     "name": "stderr",
     "output_type": "stream",
     "text": [
      "192.168.97.201 - - [17/Aug/2023 08:36:00] \"POST /predict HTTP/1.1\" 200 -\n"
     ]
    },
    {
     "name": "stdout",
     "output_type": "stream",
     "text": [
      "d5e4\n",
      "0.847553\n",
      "cache_hit 140\n",
      "cache_called 1769\n",
      "rnbqkbnr/ppp1pppp/8/8/4P3/8/PPP2PPP/RNBQKBNR b KQkq - 0 3\n"
     ]
    },
    {
     "name": "stderr",
     "output_type": "stream",
     "text": [
      "192.168.97.201 - - [17/Aug/2023 08:36:07] \"POST /predict HTTP/1.1\" 200 -\n"
     ]
    },
    {
     "name": "stdout",
     "output_type": "stream",
     "text": [
      "d8d1\n",
      "0.849925\n",
      "cache_hit 140\n",
      "cache_called 1770\n",
      "rnb1kbnr/ppp1pppp/8/8/4P3/8/PPP2PPP/RNBK1BNR b kq - 0 4\n"
     ]
    },
    {
     "name": "stderr",
     "output_type": "stream",
     "text": [
      "192.168.97.201 - - [17/Aug/2023 08:36:11] \"POST /predict HTTP/1.1\" 200 -\n"
     ]
    },
    {
     "name": "stdout",
     "output_type": "stream",
     "text": [
      "b8c6\n",
      "0.871057\n",
      "cache_hit 140\n",
      "cache_called 1771\n",
      "r1b1kbnr/ppp1pppp/2n5/8/4P3/2N5/PPP2PPP/R1BK1BNR b kq - 2 5\n"
     ]
    },
    {
     "name": "stderr",
     "output_type": "stream",
     "text": [
      "192.168.97.201 - - [17/Aug/2023 08:36:18] \"POST /predict HTTP/1.1\" 200 -\n"
     ]
    },
    {
     "name": "stdout",
     "output_type": "stream",
     "text": [
      "g8f6\n",
      "0.864001\n",
      "cache_hit 140\n",
      "cache_called 1772\n",
      "r1b1kb1r/ppp1pppp/2n2n2/8/4P3/2N1B3/PPP2PPP/R2K1BNR b kq - 4 6\n"
     ]
    },
    {
     "name": "stderr",
     "output_type": "stream",
     "text": [
      "192.168.97.201 - - [17/Aug/2023 08:36:28] \"POST /predict HTTP/1.1\" 200 -\n"
     ]
    },
    {
     "name": "stdout",
     "output_type": "stream",
     "text": [
      "c8g4\n",
      "0.824967\n",
      "cache_hit 140\n",
      "cache_called 1773\n",
      "r3kb1r/ppp1pppp/2n2n2/8/4P1b1/2N1BP2/PPP3PP/R2K1BNR b kq - 0 7\n"
     ]
    },
    {
     "name": "stderr",
     "output_type": "stream",
     "text": [
      "192.168.97.201 - - [17/Aug/2023 08:36:49] \"POST /predict HTTP/1.1\" 200 -\n"
     ]
    },
    {
     "name": "stdout",
     "output_type": "stream",
     "text": [
      "g4h5\n",
      "0.844995\n",
      "cache_hit 140\n",
      "cache_called 1774\n",
      "r3kb1r/ppp1pppp/2n2n2/7b/4P3/2N1BP2/PPPK2PP/R4BNR b kq - 2 8\n"
     ]
    },
    {
     "name": "stderr",
     "output_type": "stream",
     "text": [
      "192.168.97.201 - - [17/Aug/2023 08:37:05] \"POST /predict HTTP/1.1\" 200 -\n"
     ]
    },
    {
     "name": "stdout",
     "output_type": "stream",
     "text": [
      "e7e5\n",
      "0.813995\n",
      "cache_hit 140\n",
      "cache_called 1775\n",
      "r3kb1r/ppp2ppp/2n2n2/4p2b/4P3/2N1BP2/PPP3PP/R2K1BNR b kq - 1 9\n"
     ]
    },
    {
     "name": "stderr",
     "output_type": "stream",
     "text": [
      "192.168.97.201 - - [17/Aug/2023 08:37:14] \"POST /predict HTTP/1.1\" 200 -\n"
     ]
    },
    {
     "name": "stdout",
     "output_type": "stream",
     "text": [
      "f8c5\n",
      "0.835977\n",
      "cache_hit 140\n",
      "cache_called 1776\n",
      "rnbqkbnr/pppppppp/8/8/4P3/8/PPPP1PPP/RNBQKBNR b KQkq e3 0 1\n",
      "[(31, 'e7e6'), (35, 'e7e5'), (36, 'c7c5')]\n",
      "31 e7e6\n",
      "35 e7e5\n"
     ]
    },
    {
     "name": "stderr",
     "output_type": "stream",
     "text": [
      "192.168.15.72 - - [17/Aug/2023 13:30:37] \"POST /predict HTTP/1.1\" 200 -\n"
     ]
    },
    {
     "name": "stdout",
     "output_type": "stream",
     "text": [
      "36 c7c5\n",
      "e7e6\n",
      "2.108001\n",
      "cache_hit 141\n",
      "cache_called 1777\n",
      "rnbqkbnr/pppp1ppp/4p3/8/4P3/5N2/PPPP1PPP/RNBQKB1R b KQkq - 1 2\n",
      "[(26, 'd7d5')]\n"
     ]
    },
    {
     "name": "stderr",
     "output_type": "stream",
     "text": [
      "192.168.15.72 - - [17/Aug/2023 13:30:48] \"POST /predict HTTP/1.1\" 200 -\n"
     ]
    },
    {
     "name": "stdout",
     "output_type": "stream",
     "text": [
      "34 d7d5\n",
      "d7d5\n",
      "1.981001\n",
      "cache_hit 141\n",
      "cache_called 1778\n",
      "rnbqkbnr/ppp2ppp/4p3/3p4/4P3/2N2N2/PPPP1PPP/R1BQKB1R b KQkq - 1 3\n",
      "[(57, 'd5e4')]\n"
     ]
    },
    {
     "name": "stderr",
     "output_type": "stream",
     "text": [
      "192.168.15.72 - - [17/Aug/2023 13:30:52] \"POST /predict HTTP/1.1\" 200 -\n"
     ]
    },
    {
     "name": "stdout",
     "output_type": "stream",
     "text": [
      "57 d5e4\n",
      "d5e4\n",
      "1.531032\n",
      "cache_hit 141\n",
      "cache_called 1779\n",
      "rnbqkbnr/ppp2ppp/4p3/8/4N3/5N2/PPPP1PPP/R1BQKB1R b KQkq - 0 4\n",
      "[(109, 'b8c6')]\n"
     ]
    },
    {
     "name": "stderr",
     "output_type": "stream",
     "text": [
      "192.168.15.72 - - [17/Aug/2023 13:30:56] \"POST /predict HTTP/1.1\" 200 -\n"
     ]
    },
    {
     "name": "stdout",
     "output_type": "stream",
     "text": [
      "109 b8c6\n",
      "b8c6\n",
      "1.500368\n",
      "cache_hit 141\n",
      "cache_called 1780\n",
      "r1bqkbnr/ppp2ppp/2n1p3/8/4N3/3P1N2/PPP2PPP/R1BQKB1R b KQkq - 0 5\n",
      "[(78, 'f8e7'), (87, 'g8e7')]\n",
      "0 f8e7\n"
     ]
    },
    {
     "name": "stderr",
     "output_type": "stream",
     "text": [
      "192.168.15.72 - - [17/Aug/2023 13:31:03] \"POST /predict HTTP/1.1\" 200 -\n"
     ]
    },
    {
     "name": "stdout",
     "output_type": "stream",
     "text": [
      "42 g8e7\n",
      "f8e7\n",
      "5.53006\n",
      "cache_hit 141\n",
      "cache_called 1783\n",
      "rnbqkbnr/pppppppp/8/8/3P4/8/PPP1PPPP/RNBQKBNR b KQkq d3 0 1\n",
      "[(30, 'g8f6'), (33, 'd7d5'), (52, 'd7d6')]\n",
      "30 g8f6\n",
      "33 d7d5\n"
     ]
    },
    {
     "name": "stderr",
     "output_type": "stream",
     "text": [
      "192.168.102.23 - - [18/Aug/2023 22:01:13] \"POST /predict HTTP/1.1\" 200 -\n"
     ]
    },
    {
     "name": "stdout",
     "output_type": "stream",
     "text": [
      "52 d7d6\n",
      "g8f6\n",
      "1.98076\n",
      "cache_hit 142\n",
      "cache_called 1784\n",
      "rnbqkb1r/pppppppp/5n2/8/2PP4/8/PP2PPPP/RNBQKBNR b KQkq c3 0 2\n",
      "[(26, 'e7e6')]\n"
     ]
    },
    {
     "name": "stderr",
     "output_type": "stream",
     "text": [
      "192.168.102.23 - - [18/Aug/2023 22:01:18] \"POST /predict HTTP/1.1\" 200 -\n"
     ]
    },
    {
     "name": "stdout",
     "output_type": "stream",
     "text": [
      "27 e7e6\n",
      "e7e6\n",
      "1.766019\n",
      "cache_hit 142\n",
      "cache_called 1785\n",
      "rnbqkb1r/pppp1ppp/4pn2/8/2PP4/2N5/PP2PPPP/R1BQKBNR b KQkq - 1 3\n",
      "[(22, 'f8b4')]\n"
     ]
    },
    {
     "name": "stderr",
     "output_type": "stream",
     "text": [
      "192.168.102.23 - - [18/Aug/2023 22:01:22] \"POST /predict HTTP/1.1\" 200 -\n"
     ]
    },
    {
     "name": "stdout",
     "output_type": "stream",
     "text": [
      "22 f8b4\n",
      "f8b4\n",
      "1.558711\n",
      "cache_hit 142\n",
      "cache_called 1786\n",
      "rnbqk2r/pppp1ppp/4pn2/8/1bPP4/2N5/PPQ1PPPP/R1B1KBNR b KQkq - 3 4\n",
      "[(66, 'e8g8')]\n"
     ]
    },
    {
     "name": "stderr",
     "output_type": "stream",
     "text": [
      "192.168.102.23 - - [18/Aug/2023 22:01:25] \"POST /predict HTTP/1.1\" 200 -\n"
     ]
    },
    {
     "name": "stdout",
     "output_type": "stream",
     "text": [
      "66 e8g8\n",
      "e8g8\n",
      "1.566582\n",
      "cache_hit 142\n",
      "cache_called 1787\n",
      "rnbq1rk1/pppp1ppp/4pn2/8/1bPP4/P1N5/1PQ1PPPP/R1B1KBNR b KQ - 0 5\n",
      "[(22, 'b4c3'), (121, 'b4e7')]\n",
      "18 b4c3\n"
     ]
    },
    {
     "name": "stderr",
     "output_type": "stream",
     "text": [
      "192.168.102.23 - - [18/Aug/2023 22:01:34] \"POST /predict HTTP/1.1\" 200 -\n"
     ]
    },
    {
     "name": "stdout",
     "output_type": "stream",
     "text": [
      "117 b4e7\n",
      "b4c3\n",
      "6.651245\n",
      "cache_hit 142\n",
      "cache_called 1790\n",
      "rnbq1rk1/pppp1ppp/4pn2/8/2PP4/P1Q5/1P2PPPP/R1B1KBNR b KQ - 0 6\n",
      "[(14, 'b7b6'), (24, 'd7d5')]\n",
      "19 b7b6\n"
     ]
    },
    {
     "name": "stderr",
     "output_type": "stream",
     "text": [
      "192.168.102.23 - - [18/Aug/2023 22:01:42] \"POST /predict HTTP/1.1\" 200 -\n"
     ]
    },
    {
     "name": "stdout",
     "output_type": "stream",
     "text": [
      "18 d7d5\n",
      "d7d5\n",
      "5.358407\n",
      "cache_hit 142\n",
      "cache_called 1793\n",
      "rnbq1rk1/ppp2ppp/4pn2/3P4/3P4/P1Q5/1P2PPPP/R1B1KBNR b KQ - 0 7\n",
      "[(0, 'e6d5'), (65, 'f6d5')]\n",
      "2 e6d5\n"
     ]
    },
    {
     "name": "stderr",
     "output_type": "stream",
     "text": [
      "192.168.102.23 - - [18/Aug/2023 22:01:50] \"POST /predict HTTP/1.1\" 200 -\n"
     ]
    },
    {
     "name": "stdout",
     "output_type": "stream",
     "text": [
      "-591 f6d5\n",
      "f6d5\n",
      "5.299384\n",
      "cache_hit 142\n",
      "cache_called 1796\n",
      "rnbq1rk1/ppp2ppp/4p3/3n4/3P4/P7/1PQ1PPPP/R1B1KBNR b KQ - 1 8\n",
      "[(69, 'b8c6'), (109, 'c7c5')]\n",
      "51 b8c6\n"
     ]
    },
    {
     "name": "stderr",
     "output_type": "stream",
     "text": [
      "192.168.102.23 - - [18/Aug/2023 22:02:01] \"POST /predict HTTP/1.1\" 200 -\n"
     ]
    },
    {
     "name": "stdout",
     "output_type": "stream",
     "text": [
      "99 c7c5\n",
      "b8c6\n",
      "5.57978\n",
      "cache_hit 142\n",
      "cache_called 1799\n",
      "r1bq1rk1/ppp2ppp/2n1p3/3n4/3P4/P4N2/1PQ1PPPP/R1B1KB1R b KQ - 3 9\n",
      "[(112, 'd8f6'), (120, 'd8e7')]\n",
      "121 d8f6\n"
     ]
    },
    {
     "name": "stderr",
     "output_type": "stream",
     "text": [
      "192.168.102.23 - - [18/Aug/2023 22:02:11] \"POST /predict HTTP/1.1\" 200 -\n"
     ]
    },
    {
     "name": "stdout",
     "output_type": "stream",
     "text": [
      "114 d8e7\n",
      "d8e7\n",
      "5.298162\n",
      "cache_hit 142\n",
      "cache_called 1802\n",
      "r1b2rk1/ppp1qppp/2n1p3/3n4/3PP3/P4N2/1PQ2PPP/R1B1KB1R b KQ e3 0 10\n",
      "[(115, 'd5f6'), (127, 'd5b6'), (472, 'd5b4')]\n",
      "120 d5f6\n",
      "205 d5b6\n"
     ]
    },
    {
     "name": "stderr",
     "output_type": "stream",
     "text": [
      "192.168.102.23 - - [18/Aug/2023 22:02:43] \"POST /predict HTTP/1.1\" 200 -\n"
     ]
    },
    {
     "name": "stdout",
     "output_type": "stream",
     "text": [
      "469 d5b4\n",
      "d5f6\n",
      "25.440782\n",
      "cache_hit 142\n",
      "cache_called 1815\n",
      "r1b2rk1/ppp1qppp/2n1pn2/8/3PP3/P4N2/1PQ1BPPP/R1B1K2R b KQ - 2 11\n",
      "[(95, 'e6e5'), (114, 'f8d8'), (502, 'f6e4')]\n",
      "94 e6e5\n",
      "146 f8d8\n"
     ]
    },
    {
     "name": "stderr",
     "output_type": "stream",
     "text": [
      "192.168.102.23 - - [18/Aug/2023 22:03:13] \"POST /predict HTTP/1.1\" 200 -\n"
     ]
    },
    {
     "name": "stdout",
     "output_type": "stream",
     "text": [
      "499 f6e4\n",
      "e6e5\n",
      "25.525314\n",
      "cache_hit 142\n",
      "cache_called 1828\n",
      "r1b2rk1/ppp1qppp/2n2n2/3Pp3/4P3/P4N2/1PQ1BPPP/R1B1K2R b KQ - 0 12\n",
      "[(94, 'c6d4'), (463, 'f8d8'), (488, 'e7d6')]\n",
      "60 c6d4\n",
      "529 f8d8\n"
     ]
    },
    {
     "name": "stderr",
     "output_type": "stream",
     "text": [
      "192.168.102.23 - - [18/Aug/2023 22:03:43] \"POST /predict HTTP/1.1\" 200 -\n"
     ]
    },
    {
     "name": "stdout",
     "output_type": "stream",
     "text": [
      "505 e7d6\n",
      "c6d4\n",
      "22.726651\n",
      "cache_hit 143\n",
      "cache_called 1841\n",
      "r1b2rk1/ppp1qppp/5n2/3Pp3/3NP3/P7/1PQ1BPPP/R1B1K2R b KQ - 0 13\n",
      "[(60, 'e5d4'), (533, 'f8d8'), (539, 'c8d7')]\n",
      "31 e5d4\n",
      "588 f8d8\n"
     ]
    },
    {
     "name": "stderr",
     "output_type": "stream",
     "text": [
      "192.168.102.23 - - [18/Aug/2023 22:04:11] \"POST /predict HTTP/1.1\" 200 -\n"
     ]
    },
    {
     "name": "stdout",
     "output_type": "stream",
     "text": [
      "516 c8d7\n",
      "e5d4\n",
      "23.812353\n",
      "cache_hit 144\n",
      "cache_called 1854\n",
      "r1b2rk1/ppp1qppp/5n2/3P4/3pP3/P7/1PQ1BPPP/R1B2RK1 b - - 1 14\n",
      "[(31, 'f6e4'), (131, 'c8d7'), (244, 'c8g4')]\n",
      "-64 f6e4\n",
      "92 c8d7\n"
     ]
    },
    {
     "name": "stderr",
     "output_type": "stream",
     "text": [
      "192.168.102.23 - - [18/Aug/2023 22:04:39] \"POST /predict HTTP/1.1\" 200 -\n"
     ]
    },
    {
     "name": "stdout",
     "output_type": "stream",
     "text": [
      "125 c8g4\n",
      "f6e4\n",
      "24.443856\n",
      "cache_hit 145\n",
      "cache_called 1867\n",
      "r1b2rk1/ppp1qppp/8/3P4/3pn3/P2B4/1PQ2PPP/R1B2RK1 b - - 1 15\n",
      "[(50, 'e4f6'), (121, 'e4c5'), (472, 'f8d8')]\n",
      "43 e4f6\n",
      "108 e4c5\n"
     ]
    },
    {
     "name": "stderr",
     "output_type": "stream",
     "text": [
      "192.168.102.23 - - [18/Aug/2023 22:05:08] \"POST /predict HTTP/1.1\" 200 -\n"
     ]
    },
    {
     "name": "stdout",
     "output_type": "stream",
     "text": [
      "724 f8d8\n",
      "e4f6\n",
      "23.874866\n",
      "cache_hit 145\n",
      "cache_called 1880\n",
      "r1b2rk1/ppp1qppp/5n2/3P2B1/3p4/P2B4/1PQ2PPP/R4RK1 b - - 3 16\n",
      "[(43, 'e7d6'), (76, 'e7e5'), (611, 'f6d5')]\n",
      "76 e7d6\n",
      "-513 e7e5\n"
     ]
    },
    {
     "name": "stderr",
     "output_type": "stream",
     "text": [
      "192.168.102.23 - - [18/Aug/2023 22:05:37] \"POST /predict HTTP/1.1\" 200 -\n"
     ]
    },
    {
     "name": "stdout",
     "output_type": "stream",
     "text": [
      "596 f6d5\n",
      "e7e5\n",
      "24.160433\n",
      "cache_hit 146\n",
      "cache_called 1893\n",
      "r1b2rk1/ppp2ppp/5n2/3Pq1B1/3p1P2/P2B4/1PQ3PP/R4RK1 b - f3 0 17\n",
      "[(22, 'e5d5'), (241, 'e5e3'), (624, 'e5g5')]\n",
      "29 e5d5\n",
      "512 e5e3\n"
     ]
    },
    {
     "name": "stderr",
     "output_type": "stream",
     "text": [
      "192.168.102.23 - - [18/Aug/2023 22:06:10] \"POST /predict HTTP/1.1\" 200 -\n"
     ]
    },
    {
     "name": "stdout",
     "output_type": "stream",
     "text": [
      "656 e5g5\n",
      "e5d5\n",
      "23.908563\n",
      "cache_hit 146\n",
      "cache_called 1906\n",
      "r1b2rk1/ppp2ppp/5B2/3q4/3p1P2/P2B4/1PQ3PP/R4RK1 b - - 0 18\n",
      "[(12, 'g7f6'), (1030, 'd5c5'), (inf, 'd5g2')]\n",
      "425 g7f6\n",
      "1011 d5c5\n"
     ]
    },
    {
     "name": "stderr",
     "output_type": "stream",
     "text": [
      "192.168.102.23 - - [18/Aug/2023 22:06:40] \"POST /predict HTTP/1.1\" 200 -\n"
     ]
    },
    {
     "name": "stdout",
     "output_type": "stream",
     "text": [
      "inf d5g2\n",
      "g7f6\n",
      "20.091099\n",
      "cache_hit 146\n",
      "cache_called 1917\n",
      "r1b2rk1/ppp2p1B/5p2/3q4/3p1P2/P7/1PQ3PP/R4RK1 b - - 0 19\n",
      "[(8, 'g8g7'), (62, 'g8h8')]\n",
      "97 g8g7\n"
     ]
    },
    {
     "name": "stderr",
     "output_type": "stream",
     "text": [
      "192.168.102.23 - - [18/Aug/2023 22:07:01] \"POST /predict HTTP/1.1\" 200 -\n"
     ]
    },
    {
     "name": "stdout",
     "output_type": "stream",
     "text": [
      "204 g8h8\n",
      "g8g7\n",
      "16.592403\n",
      "cache_hit 147\n",
      "cache_called 1926\n",
      "r1b2r2/ppp2pk1/5p2/3q4/3pBP2/P7/1PQ3PP/R4RK1 b - - 2 20\n",
      "[(22, 'd4d3'), (604, 'd5e4'), (688, 'd5c5')]\n",
      "197 d4d3\n",
      "628 d5e4\n"
     ]
    },
    {
     "name": "stderr",
     "output_type": "stream",
     "text": [
      "192.168.102.23 - - [18/Aug/2023 22:07:28] \"POST /predict HTTP/1.1\" 200 -\n"
     ]
    },
    {
     "name": "stdout",
     "output_type": "stream",
     "text": [
      "720 d5c5\n",
      "d4d3\n",
      "24.963994\n",
      "cache_hit 147\n",
      "cache_called 1939\n",
      "r1b2r2/ppp2pk1/5p2/3q4/Q3BP2/P2p4/1P4PP/R4RK1 b - - 1 21\n",
      "[(-219, 'd5c5'), (596, 'd5e4'), (710, 'd5d4')]\n",
      "121 d5c5\n",
      "557 d5e4\n"
     ]
    },
    {
     "name": "stderr",
     "output_type": "stream",
     "text": [
      "192.168.102.23 - - [18/Aug/2023 22:08:24] \"POST /predict HTTP/1.1\" 200 -\n"
     ]
    },
    {
     "name": "stdout",
     "output_type": "stream",
     "text": [
      "762 d5d4\n",
      "d5c5\n",
      "24.372915\n",
      "cache_hit 147\n",
      "cache_called 1952\n",
      "r1b2r2/ppp2pk1/5p2/2q5/Q3BP2/P2p4/1P4PP/R4R1K b - - 3 22\n",
      "[(121, 'c5h5'), (726, 'c5d4'), (747, 'c5g5')]\n",
      "104 c5h5\n",
      "390 c5d4\n"
     ]
    },
    {
     "name": "stderr",
     "output_type": "stream",
     "text": [
      "192.168.102.23 - - [18/Aug/2023 22:08:56] \"POST /predict HTTP/1.1\" 200 -\n"
     ]
    },
    {
     "name": "stdout",
     "output_type": "stream",
     "text": [
      "1147 c5g5\n",
      "c5h5\n",
      "24.403193\n",
      "cache_hit 148\n",
      "cache_called 1965\n",
      "r1b2r2/ppp2pk1/5p2/7q/Q3BP2/P2p1R2/1P4PP/R6K b - - 5 23\n",
      "[(176, 'd3d2'), (509, 'c8d7'), (689, 'h5h2')]\n",
      "198 d3d2\n",
      "829 c8d7\n"
     ]
    },
    {
     "name": "stderr",
     "output_type": "stream",
     "text": [
      "192.168.102.23 - - [18/Aug/2023 22:09:29] \"POST /predict HTTP/1.1\" 200 -\n"
     ]
    },
    {
     "name": "stdout",
     "output_type": "stream",
     "text": [
      "679 h5h2\n",
      "d3d2\n",
      "19.845988\n",
      "cache_hit 148\n",
      "cache_called 1976\n",
      "r1b2r2/ppp2pk1/5p2/7q/Q3BP2/P5R1/1P1p2PP/R6K b - - 1 24\n",
      "[(198, 'g7h8'), (282, 'g7h6'), (367, 'h5g4')]\n",
      "71 g7h8\n",
      "418 g7h6\n"
     ]
    },
    {
     "name": "stderr",
     "output_type": "stream",
     "text": [
      "192.168.102.23 - - [18/Aug/2023 22:10:00] \"POST /predict HTTP/1.1\" 200 -\n"
     ]
    },
    {
     "name": "stdout",
     "output_type": "stream",
     "text": [
      "387 h5g4\n",
      "g7h8\n",
      "23.558903\n",
      "cache_hit 149\n",
      "cache_called 1989\n",
      "r1b2r1k/ppp2p2/5p2/7q/3QBP2/P5R1/1P1p2PP/R6K b - - 3 25\n",
      "[(183, 'h5h4'), (inf, 'h5h2'), (inf, 'h5d1')]\n",
      "inf h5h4\n",
      "inf h5h2\n"
     ]
    },
    {
     "name": "stderr",
     "output_type": "stream",
     "text": [
      "192.168.102.23 - - [18/Aug/2023 22:10:18] \"POST /predict HTTP/1.1\" 200 -\n"
     ]
    },
    {
     "name": "stdout",
     "output_type": "stream",
     "text": [
      "inf h5d1\n",
      "h5h4\n",
      "15.389553\n",
      "cache_hit 149\n",
      "cache_called 1998\n",
      "r1b2r1k/ppp2p2/5p2/8/3QBP1q/P6R/1P1p2PP/R6K b - - 5 26\n",
      "[(inf, 'h4h3'), (inf, 'h4h6'), (inf, 'h4h5')]\n",
      "inf h4h3\n",
      "inf h4h6\n"
     ]
    },
    {
     "name": "stderr",
     "output_type": "stream",
     "text": [
      "192.168.102.23 - - [18/Aug/2023 22:10:48] \"POST /predict HTTP/1.1\" 200 -\n"
     ]
    },
    {
     "name": "stdout",
     "output_type": "stream",
     "text": [
      "inf h4h5\n",
      "h4h3\n",
      "10.144043\n",
      "cache_hit 150\n",
      "cache_called 2005\n",
      "r1b2r1k/ppp2p2/5p2/8/3QBP2/P6P/1P1p3P/R6K b - - 0 27\n",
      "[(inf, 'h8g8'), (inf, 'f8d8'), (inf, 'h8g7')]\n",
      "inf h8g8\n",
      "inf f8d8\n"
     ]
    },
    {
     "name": "stderr",
     "output_type": "stream",
     "text": [
      "192.168.102.23 - - [18/Aug/2023 22:11:15] \"POST /predict HTTP/1.1\" 200 -\n"
     ]
    },
    {
     "name": "stdout",
     "output_type": "stream",
     "text": [
      "625 h8g7\n",
      "h8g7\n",
      "14.143949\n",
      "cache_hit 151\n",
      "cache_called 2014\n",
      "r1b2r2/ppp2pk1/5p2/8/3QBP2/P6P/1P1p3P/6RK b - - 2 28\n",
      "[(inf, 'g7h6'), (inf, 'g7h8'), (inf, 'c8g4')]\n",
      "inf g7h6\n",
      "inf g7h8\n"
     ]
    },
    {
     "name": "stderr",
     "output_type": "stream",
     "text": [
      "192.168.102.23 - - [18/Aug/2023 22:11:29] \"POST /predict HTTP/1.1\" 200 -\n"
     ]
    },
    {
     "name": "stdout",
     "output_type": "stream",
     "text": [
      "inf c8g4\n",
      "g7h6\n",
      "9.014619\n",
      "cache_hit 151\n",
      "cache_called 2020\n",
      "r1b2r2/ppp2p2/5Q1k/8/4BP2/P6P/1P1p3P/6RK b - - 0 29\n",
      "[(inf, 'h6h5')]\n"
     ]
    },
    {
     "name": "stderr",
     "output_type": "stream",
     "text": [
      "192.168.102.23 - - [18/Aug/2023 22:11:37] \"POST /predict HTTP/1.1\" 200 -\n"
     ]
    },
    {
     "name": "stdout",
     "output_type": "stream",
     "text": [
      "inf h6h5\n",
      "h6h5\n",
      "2.940691\n",
      "cache_hit 152\n",
      "cache_called 2023\n",
      "rnbqkbnr/pppppppp/8/8/4P3/8/PPPP1PPP/RNBQKBNR b KQkq e3 0 1\n",
      "[(31, 'e7e6'), (35, 'e7e5'), (42, 'c7c5')]\n",
      "34 e7e6\n",
      "35 e7e5\n"
     ]
    },
    {
     "name": "stderr",
     "output_type": "stream",
     "text": [
      "192.168.98.117 - - [20/Aug/2023 16:15:47] \"POST /predict HTTP/1.1\" 200 -\n"
     ]
    },
    {
     "name": "stdout",
     "output_type": "stream",
     "text": [
      "36 c7c5\n",
      "e7e6\n",
      "2.152034\n",
      "cache_hit 153\n",
      "cache_called 2024\n",
      "rnbqkbnr/pppp1ppp/4p3/8/4P3/2N5/PPPP1PPP/R1BQKBNR b KQkq - 1 2\n",
      "[(48, 'd7d5')]\n"
     ]
    },
    {
     "name": "stderr",
     "output_type": "stream",
     "text": [
      "192.168.98.117 - - [20/Aug/2023 16:15:53] \"POST /predict HTTP/1.1\" 200 -\n"
     ]
    },
    {
     "name": "stdout",
     "output_type": "stream",
     "text": [
      "48 d7d5\n",
      "d7d5\n",
      "1.923033\n",
      "cache_hit 153\n",
      "cache_called 2025\n",
      "rnbqkbnr/ppp2ppp/4p3/3P4/8/2N5/PPPP1PPP/R1BQKBNR b KQkq - 0 3\n",
      "[(10, 'e6d5')]\n"
     ]
    },
    {
     "name": "stderr",
     "output_type": "stream",
     "text": [
      "192.168.98.117 - - [20/Aug/2023 16:15:57] \"POST /predict HTTP/1.1\" 200 -\n"
     ]
    },
    {
     "name": "stdout",
     "output_type": "stream",
     "text": [
      "10 e6d5\n",
      "e6d5\n",
      "1.597\n",
      "cache_hit 153\n",
      "cache_called 2026\n",
      "rnbqkbnr/ppp2ppp/8/3p4/8/2N2N2/PPPP1PPP/R1BQKB1R b KQkq - 1 4\n",
      "[(13, 'g8f6')]\n"
     ]
    },
    {
     "name": "stderr",
     "output_type": "stream",
     "text": [
      "192.168.98.117 - - [20/Aug/2023 16:16:00] \"POST /predict HTTP/1.1\" 200 -\n"
     ]
    },
    {
     "name": "stdout",
     "output_type": "stream",
     "text": [
      "13 g8f6\n",
      "g8f6\n",
      "1.600002\n",
      "cache_hit 153\n",
      "cache_called 2027\n",
      "rnbqkb1r/ppp2ppp/5n2/3p4/3P4/2N2N2/PPP2PPP/R1BQKB1R b KQkq d3 0 5\n",
      "[(-5, 'f8d6'), (3, 'f8b4')]\n",
      "1 f8d6\n"
     ]
    },
    {
     "name": "stderr",
     "output_type": "stream",
     "text": [
      "192.168.98.117 - - [20/Aug/2023 16:16:07] \"POST /predict HTTP/1.1\" 200 -\n"
     ]
    },
    {
     "name": "stdout",
     "output_type": "stream",
     "text": [
      "24 f8b4\n",
      "f8d6\n",
      "6.554998\n",
      "cache_hit 153\n",
      "cache_called 2030\n",
      "rnbqk2r/ppp2ppp/3b1n2/3p2B1/3P4/2N2N2/PPP2PPP/R2QKB1R b KQkq - 2 6\n",
      "[(-25, 'c7c6'), (113, 'e8g8')]\n",
      "-10 c7c6\n"
     ]
    },
    {
     "name": "stderr",
     "output_type": "stream",
     "text": [
      "192.168.98.117 - - [20/Aug/2023 16:16:16] \"POST /predict HTTP/1.1\" 200 -\n"
     ]
    },
    {
     "name": "stdout",
     "output_type": "stream",
     "text": [
      "-12 e8g8\n",
      "e8g8\n",
      "5.814456\n",
      "cache_hit 153\n",
      "cache_called 2033\n",
      "rnbq1rk1/ppp2ppp/3b1B2/3p4/3P4/2N2N2/PPP2PPP/R2QKB1R b KQ - 0 7\n",
      "[(56, 'd8f6'), (125, 'g7f6')]\n",
      "52 d8f6\n"
     ]
    },
    {
     "name": "stderr",
     "output_type": "stream",
     "text": [
      "192.168.98.117 - - [20/Aug/2023 16:16:23] \"POST /predict HTTP/1.1\" 200 -\n"
     ]
    },
    {
     "name": "stdout",
     "output_type": "stream",
     "text": [
      "83 g7f6\n",
      "d8f6\n",
      "5.444979\n",
      "cache_hit 153\n",
      "cache_called 2036\n",
      "rnb2rk1/ppp2ppp/3b1q2/3p4/3P4/2NQ1N2/PPP2PPP/R3KB1R b KQ - 1 8\n",
      "[(-98, 'c8f5'), (20, 'c8g4')]\n",
      "-153 c8f5\n"
     ]
    },
    {
     "name": "stderr",
     "output_type": "stream",
     "text": [
      "192.168.98.117 - - [20/Aug/2023 16:16:46] \"POST /predict HTTP/1.1\" 200 -\n"
     ]
    },
    {
     "name": "stdout",
     "output_type": "stream",
     "text": [
      "-158 c8g4\n",
      "c8g4\n",
      "5.320997\n",
      "cache_hit 153\n",
      "cache_called 2039\n",
      "rn3rk1/ppp2ppp/3b1q2/3p4/3P2b1/2NQ1N1P/PPP2PP1/R3KB1R b KQ - 0 9\n",
      "[(-139, 'g4f3'), (30, 'g4h5')]\n",
      "-141 g4f3\n"
     ]
    },
    {
     "name": "stderr",
     "output_type": "stream",
     "text": [
      "192.168.98.117 - - [20/Aug/2023 16:16:55] \"POST /predict HTTP/1.1\" 200 -\n"
     ]
    },
    {
     "name": "stdout",
     "output_type": "stream",
     "text": [
      "-109 g4h5\n",
      "g4f3\n",
      "6.640038\n",
      "cache_hit 153\n",
      "cache_called 2042\n",
      "rn3rk1/ppp2ppp/3b1q2/3p4/3P4/2NQ1P1P/PPP2P2/R3KB1R b KQ - 0 10\n",
      "[(-247, 'f8e8'), (-153, 'b8c6'), (42, 'f6g6')]\n",
      "-270 f8e8\n",
      "-23 b8c6\n"
     ]
    },
    {
     "name": "stderr",
     "output_type": "stream",
     "text": [
      "192.168.98.117 - - [20/Aug/2023 16:17:24] \"POST /predict HTTP/1.1\" 200 -\n"
     ]
    },
    {
     "name": "stdout",
     "output_type": "stream",
     "text": [
      "39 f6g6\n",
      "f8e8\n",
      "26.610069\n",
      "cache_hit 153\n",
      "cache_called 2055\n",
      "rn2r1k1/ppp2ppp/3b1q2/3p4/3P4/2NQ1P1P/PPP1BP2/R3K2R b KQ - 2 11\n",
      "[(-270, 'c7c6'), (-54, 'f6f4'), (30, 'f6g6')]\n",
      "-266 c7c6\n",
      "-4 f6f4\n"
     ]
    },
    {
     "name": "stderr",
     "output_type": "stream",
     "text": [
      "192.168.98.117 - - [20/Aug/2023 16:17:56] \"POST /predict HTTP/1.1\" 200 -\n"
     ]
    },
    {
     "name": "stdout",
     "output_type": "stream",
     "text": [
      "31 f6g6\n",
      "c7c6\n",
      "25.70118\n",
      "cache_hit 154\n",
      "cache_called 2068\n",
      "rn2r1k1/pp3ppp/2pb1q2/3p4/3P4/2NQ1P1P/PPP1BP2/2KR3R b - - 1 12\n",
      "[(-266, 'b8d7'), (-176, 'f6f4'), (-135, 'f6g6')]\n",
      "-203 b8d7\n",
      "-167 f6f4\n"
     ]
    },
    {
     "name": "stderr",
     "output_type": "stream",
     "text": [
      "192.168.98.117 - - [20/Aug/2023 16:18:29] \"POST /predict HTTP/1.1\" 200 -\n"
     ]
    },
    {
     "name": "stdout",
     "output_type": "stream",
     "text": [
      "-160 f6g6\n",
      "b8d7\n",
      "26.454909\n",
      "cache_hit 155\n",
      "cache_called 2081\n",
      "r3r1k1/pp1n1ppp/2pb1q2/3p4/3P4/2NQ1P1P/PPP1BP2/2K3RR b - - 3 13\n",
      "[(-248, 'g7g6'), (-218, 'f6h6'), (432, 'f6g6')]\n",
      "-234 g7g6\n",
      "462 f6h6\n"
     ]
    },
    {
     "name": "stderr",
     "output_type": "stream",
     "text": [
      "192.168.98.117 - - [20/Aug/2023 16:19:42] \"POST /predict HTTP/1.1\" 200 -\n"
     ]
    },
    {
     "name": "stdout",
     "output_type": "stream",
     "text": [
      "429 f6g6\n",
      "g7g6\n",
      "26.146686\n",
      "cache_hit 155\n",
      "cache_called 2094\n",
      "r3r1k1/pp1n1p1p/2pb1qp1/3p4/3P3P/2NQ1P2/PPP1BP2/2K3RR b - - 0 14\n",
      "[(-257, 'h7h5'), (-153, 'f6f4'), (-125, 'a8d8')]\n",
      "-255 h7h5\n",
      "13 f6f4\n"
     ]
    },
    {
     "name": "stderr",
     "output_type": "stream",
     "text": [
      "192.168.98.117 - - [20/Aug/2023 16:20:21] \"POST /predict HTTP/1.1\" 200 -\n"
     ]
    },
    {
     "name": "stdout",
     "output_type": "stream",
     "text": [
      "-74 a8d8\n",
      "h7h5\n",
      "26.30388\n",
      "cache_hit 155\n",
      "cache_called 2107\n",
      "r3r1k1/pp1n1p2/2pb1qp1/3p3p/3P1P1P/2NQ4/PPP1BP2/2K3RR b - - 0 15\n",
      "[(-261, 'f6f4'), (-259, 'd6f4'), (-40, 'g8f8')]\n",
      "-48 f6f4\n",
      "-296 d6f4\n"
     ]
    },
    {
     "name": "stderr",
     "output_type": "stream",
     "text": [
      "192.168.98.117 - - [20/Aug/2023 16:20:56] \"POST /predict HTTP/1.1\" 200 -\n"
     ]
    },
    {
     "name": "stdout",
     "output_type": "stream",
     "text": [
      "-277 g8f8\n",
      "d6f4\n",
      "27.31887\n",
      "cache_hit 155\n",
      "cache_called 2120\n",
      "r3r1k1/pp1n1p2/2p2qp1/3p3p/3P1b1P/2NQ4/PPP1BP2/1K4RR b - - 1 16\n",
      "[(-296, 'g8f8'), (-276, 'g8h8'), (47, 'f4b8')]\n",
      "595 g8f8\n",
      "614 g8h8\n"
     ]
    },
    {
     "name": "stderr",
     "output_type": "stream",
     "text": [
      "192.168.98.117 - - [20/Aug/2023 16:21:24] \"POST /predict HTTP/1.1\" 200 -\n"
     ]
    },
    {
     "name": "stdout",
     "output_type": "stream",
     "text": [
      "26 f4b8\n",
      "f4b8\n",
      "26.655616\n",
      "cache_hit 156\n",
      "cache_called 2133\n",
      "rb2r1k1/pp1n1p2/2p2qp1/3p3p/3P3P/2NQ4/PPP2P2/1K1B2RR b - - 3 17\n",
      "[(1, 'd7b6'), (36, 'b8f4'), (589, 'f6d4')]\n",
      "-21 d7b6\n",
      "897 b8f4\n"
     ]
    },
    {
     "name": "stderr",
     "output_type": "stream",
     "text": [
      "192.168.98.117 - - [20/Aug/2023 16:22:17] \"POST /predict HTTP/1.1\" 200 -\n"
     ]
    },
    {
     "name": "stdout",
     "output_type": "stream",
     "text": [
      "612 f6d4\n",
      "d7b6\n",
      "27.074008\n",
      "cache_hit 156\n",
      "cache_called 2146\n",
      "rb2r1k1/pp3p2/1np2qp1/3p3p/3P3P/3Q4/PPP1NP2/1K1B2RR b - - 5 18\n",
      "[(-201, 'b6c4'), (-192, 'b8d6'), (-189, 'a7a5')]\n",
      "-243 b6c4\n",
      "-138 b8d6\n"
     ]
    },
    {
     "name": "stderr",
     "output_type": "stream",
     "text": [
      "192.168.98.117 - - [20/Aug/2023 16:22:49] \"POST /predict HTTP/1.1\" 200 -\n"
     ]
    },
    {
     "name": "stdout",
     "output_type": "stream",
     "text": [
      "-59 a7a5\n",
      "b6c4\n",
      "27.454922\n",
      "cache_hit 156\n",
      "cache_called 2159\n",
      "rb2r1k1/pp3p2/2p2qp1/3p3p/2nP3P/3Q2N1/PPP2P2/1K1B2RR b - - 7 19\n",
      "[(46, 'b8d6'), (391, 'e8e1'), (449, 'f6d4')]\n",
      "-57 b8d6\n",
      "405 e8e1\n"
     ]
    },
    {
     "name": "stderr",
     "output_type": "stream",
     "text": [
      "192.168.98.117 - - [20/Aug/2023 16:23:33] \"POST /predict HTTP/1.1\" 200 -\n"
     ]
    },
    {
     "name": "stdout",
     "output_type": "stream",
     "text": [
      "736 f6d4\n",
      "b8d6\n",
      "26.88224\n",
      "cache_hit 156\n",
      "cache_called 2172\n",
      "r3r1k1/pp3p2/2pb1qp1/3p3N/2nP3P/3Q4/PPP2P2/1K1B2RR b - - 0 20\n",
      "[(580, 'f6d4'), (774, 'f6h4'), (861, 'f6f5')]\n",
      "596 f6d4\n",
      "784 f6h4\n"
     ]
    },
    {
     "name": "stderr",
     "output_type": "stream",
     "text": [
      "192.168.98.117 - - [20/Aug/2023 16:24:05] \"POST /predict HTTP/1.1\" 200 -\n"
     ]
    },
    {
     "name": "stdout",
     "output_type": "stream",
     "text": [
      "1103 f6f5\n",
      "f6d4\n",
      "26.637282\n",
      "cache_hit 156\n",
      "cache_called 2185\n",
      "r3r1k1/pp3p2/2pb2p1/3p3N/2nQ3P/8/PPP2P2/1K1B2RR b - - 0 21\n",
      "[(573, 'd6e5'), (inf, 'd6c5'), (inf, 'e8e1')]\n",
      "648 d6e5\n",
      "971 d6c5\n"
     ]
    },
    {
     "name": "stderr",
     "output_type": "stream",
     "text": [
      "192.168.98.117 - - [20/Aug/2023 16:24:30] \"POST /predict HTTP/1.1\" 200 -\n"
     ]
    },
    {
     "name": "stdout",
     "output_type": "stream",
     "text": [
      "inf e8e1\n",
      "d6e5\n",
      "21.586965\n",
      "cache_hit 157\n",
      "cache_called 2196\n",
      "r3r1k1/pp3p2/2p3p1/3pb2N/2n3QP/8/PPP2P2/1K1B2RR b - - 2 22\n",
      "[(667, 'c4d2'), (697, 'g8f8'), (721, 'a8d8')]\n",
      "879 c4d2\n",
      "614 g8f8\n"
     ]
    },
    {
     "name": "stderr",
     "output_type": "stream",
     "text": [
      "192.168.98.117 - - [20/Aug/2023 16:25:18] \"POST /predict HTTP/1.1\" 200 -\n"
     ]
    },
    {
     "name": "stdout",
     "output_type": "stream",
     "text": [
      "820 a8d8\n",
      "g8f8\n",
      "24.084628\n",
      "cache_hit 158\n",
      "cache_called 2208\n",
      "r3rk2/pp3p2/2p3p1/3pb3/2n2NQP/8/PPP2P2/1K1B2RR b - - 4 23\n",
      "[(720, 'f8e7'), (761, 'e5f4'), (929, 'c4a3')]\n",
      "870 f8e7\n",
      "874 e5f4\n"
     ]
    },
    {
     "name": "stderr",
     "output_type": "stream",
     "text": [
      "192.168.98.117 - - [20/Aug/2023 16:25:54] \"POST /predict HTTP/1.1\" 200 -\n"
     ]
    },
    {
     "name": "stdout",
     "output_type": "stream",
     "text": [
      "948 c4a3\n",
      "f8e7\n",
      "26.566164\n",
      "cache_hit 158\n",
      "cache_called 2221\n",
      "r3r3/pp2kp2/2p3p1/3pb3/2n3QP/3N4/PPP2P2/1K1B2RR b - - 6 24\n",
      "[(902, 'c4d2'), (902, 'e5f6'), (957, 'c4a3')]\n",
      "957 c4d2\n",
      "920 e5f6\n"
     ]
    },
    {
     "name": "stderr",
     "output_type": "stream",
     "text": [
      "192.168.98.117 - - [20/Aug/2023 16:26:26] \"POST /predict HTTP/1.1\" 200 -\n"
     ]
    },
    {
     "name": "stdout",
     "output_type": "stream",
     "text": [
      "1011 c4a3\n",
      "e5f6\n",
      "25.402271\n",
      "cache_hit 158\n",
      "cache_called 2233\n",
      "r3r3/pp2kp2/2p2bp1/3p4/2n3QP/3N4/PPP2P2/1K1BR2R b - - 8 25\n",
      "[(749, 'e7f8'), (831, 'e7d6'), (857, 'e7d8')]\n",
      "742 e7f8\n",
      "826 e7d6\n"
     ]
    },
    {
     "name": "stderr",
     "output_type": "stream",
     "text": [
      "192.168.98.117 - - [20/Aug/2023 16:27:01] \"POST /predict HTTP/1.1\" 200 -\n"
     ]
    },
    {
     "name": "stdout",
     "output_type": "stream",
     "text": [
      "803 e7d8\n",
      "e7f8\n",
      "23.67971\n",
      "cache_hit 159\n",
      "cache_called 2246\n",
      "r3Rk2/pp3p2/2p2bp1/3p4/2n3QP/3N4/PPP2P2/1K1B3R b - - 0 26\n",
      "[(742, 'a8e8'), (803, 'f8e8'), (1289, 'f8g7')]\n",
      "779 a8e8\n",
      "860 f8e8\n"
     ]
    },
    {
     "name": "stderr",
     "output_type": "stream",
     "text": [
      "192.168.98.117 - - [20/Aug/2023 16:27:31] \"POST /predict HTTP/1.1\" 200 -\n"
     ]
    },
    {
     "name": "stdout",
     "output_type": "stream",
     "text": [
      "1015 f8g7\n",
      "a8e8\n",
      "26.732757\n",
      "cache_hit 159\n",
      "cache_called 2259\n",
      "4rk2/pp3p2/2p2bp1/3p4/2n3QP/3N4/PPP2P2/1K1BR3 b - - 1 27\n",
      "[(524, 'e8e1'), (798, 'f6g7'), (934, 'f8g7')]\n",
      "583 e8e1\n",
      "794 f6g7\n"
     ]
    },
    {
     "name": "stderr",
     "output_type": "stream",
     "text": [
      "192.168.98.117 - - [20/Aug/2023 16:28:00] \"POST /predict HTTP/1.1\" 200 -\n"
     ]
    },
    {
     "name": "stdout",
     "output_type": "stream",
     "text": [
      "943 f8g7\n",
      "e8e1\n",
      "23.901979\n",
      "cache_hit 160\n",
      "cache_called 2272\n",
      "5k2/pp3p2/2p2bp1/3p4/2n3QP/8/PPP2P2/1K1BN3 b - - 0 28\n",
      "[(583, 'c4d2'), (620, 'f6e5'), (707, 'f6g7')]\n",
      "701 c4d2\n",
      "624 f6e5\n"
     ]
    },
    {
     "name": "stderr",
     "output_type": "stream",
     "text": [
      "192.168.98.117 - - [20/Aug/2023 16:28:23] \"POST /predict HTTP/1.1\" 200 -\n"
     ]
    },
    {
     "name": "stdout",
     "output_type": "stream",
     "text": [
      "708 f6g7\n",
      "f6e5\n",
      "22.18797\n",
      "cache_hit 161\n",
      "cache_called 2284\n",
      "2Q2k2/pp3p2/2p3p1/3pb3/2n4P/8/PPP2P2/1K1BN3 b - - 2 29\n",
      "[(600, 'f8g7'), (691, 'f8e7')]\n",
      "628 f8g7\n"
     ]
    },
    {
     "name": "stderr",
     "output_type": "stream",
     "text": [
      "192.168.98.117 - - [20/Aug/2023 16:28:53] \"POST /predict HTTP/1.1\" 200 -\n"
     ]
    },
    {
     "name": "stdout",
     "output_type": "stream",
     "text": [
      "-159 f8e7\n",
      "f8e7\n",
      "16.300573\n",
      "cache_hit 162\n",
      "cache_called 2293\n",
      "2Q5/pp2kp2/2p3p1/3pb3/2n3BP/8/PPP2P2/1K2N3 b - - 4 30\n",
      "[(639, 'c4d2'), (642, 'e7f6'), (792, 'c4a3')]\n",
      "756 c4d2\n",
      "630 e7f6\n"
     ]
    },
    {
     "name": "stderr",
     "output_type": "stream",
     "text": [
      "192.168.98.117 - - [20/Aug/2023 16:29:22] \"POST /predict HTTP/1.1\" 200 -\n"
     ]
    },
    {
     "name": "stdout",
     "output_type": "stream",
     "text": [
      "797 c4a3\n",
      "e7f6\n",
      "23.068993\n",
      "cache_hit 162\n",
      "cache_called 2305\n",
      "2Q5/pp3p2/2p2kp1/3pb3/2n3BP/3N4/PPP2P2/1K6 b - - 6 31\n",
      "[(642, 'c4d2'), (701, 'f6e7'), (771, 'c4a3')]\n",
      "651 c4d2\n",
      "675 f6e7\n"
     ]
    },
    {
     "name": "stderr",
     "output_type": "stream",
     "text": [
      "192.168.98.117 - - [20/Aug/2023 16:29:50] \"POST /predict HTTP/1.1\" 200 -\n"
     ]
    },
    {
     "name": "stdout",
     "output_type": "stream",
     "text": [
      "798 c4a3\n",
      "c4d2\n",
      "23.041835\n",
      "cache_hit 162\n",
      "cache_called 2317\n",
      "2Q5/pp3p2/2p2kp1/3pb3/6BP/3N4/PPPn1P2/2K5 b - - 8 32\n",
      "[(648, 'd2c4'), (776, 'f6g7'), (802, 'f6e7')]\n",
      "654 d2c4\n",
      "798 f6g7\n"
     ]
    },
    {
     "name": "stderr",
     "output_type": "stream",
     "text": [
      "192.168.98.117 - - [20/Aug/2023 16:30:16] \"POST /predict HTTP/1.1\" 200 -\n"
     ]
    },
    {
     "name": "stdout",
     "output_type": "stream",
     "text": [
      "866 f6e7\n",
      "d2c4\n",
      "22.246561\n",
      "cache_hit 163\n",
      "cache_called 2330\n",
      "2Q5/pp3p2/2p2kp1/3pN3/2n3BP/8/PPP2P2/2K5 b - - 0 33\n",
      "[(624, 'f6e5'), (683, 'c4e5'), (inf, 'f6e7')]\n",
      "625 f6e5\n",
      "657 c4e5\n"
     ]
    },
    {
     "name": "stderr",
     "output_type": "stream",
     "text": [
      "192.168.98.117 - - [20/Aug/2023 16:30:40] \"POST /predict HTTP/1.1\" 200 -\n"
     ]
    },
    {
     "name": "stdout",
     "output_type": "stream",
     "text": [
      "825 f6e7\n",
      "f6e5\n",
      "22.4414\n",
      "cache_hit 164\n",
      "cache_called 2343\n",
      "8/pQ3p2/2p3p1/3pk3/2n3BP/8/PPP2P2/2K5 b - - 0 34\n",
      "[(625, 'e5f4'), (692, 'e5d4'), (inf, 'c4d6')]\n",
      "707 e5f4\n",
      "inf e5d4\n"
     ]
    },
    {
     "name": "stderr",
     "output_type": "stream",
     "text": [
      "192.168.98.117 - - [20/Aug/2023 16:31:12] \"POST /predict HTTP/1.1\" 200 -\n"
     ]
    },
    {
     "name": "stdout",
     "output_type": "stream",
     "text": [
      "inf c4d6\n",
      "e5f4\n",
      "21.065398\n",
      "cache_hit 165\n",
      "cache_called 2354\n",
      "8/pQ3p2/2p3p1/3p4/2n2kBP/5P2/PPP5/2K5 b - - 0 35\n",
      "[(630, 'f4g3'), (689, 'f4e5'), (inf, 'c4e3')]\n",
      "656 f4g3\n",
      "665 f4e5\n"
     ]
    },
    {
     "name": "stderr",
     "output_type": "stream",
     "text": [
      "192.168.98.117 - - [20/Aug/2023 16:31:59] \"POST /predict HTTP/1.1\" 200 -\n"
     ]
    },
    {
     "name": "stdout",
     "output_type": "stream",
     "text": [
      "720 c4e3\n",
      "f4g3\n",
      "25.240201\n",
      "cache_hit 165\n",
      "cache_called 2367\n",
      "8/p4Q2/2p3p1/3p4/2n3BP/5Pk1/PPP5/2K5 b - - 0 36\n",
      "[(656, 'g3h4'), (679, 'a7a5'), (720, 'c4e3')]\n",
      "inf g3h4\n",
      "1285 a7a5\n"
     ]
    },
    {
     "name": "stderr",
     "output_type": "stream",
     "text": [
      "192.168.98.117 - - [20/Aug/2023 16:32:25] \"POST /predict HTTP/1.1\" 200 -\n"
     ]
    },
    {
     "name": "stdout",
     "output_type": "stream",
     "text": [
      "683 c4e3\n",
      "c4e3\n",
      "21.492299\n",
      "cache_hit 165\n",
      "cache_called 2378\n",
      "8/p7/2p3Q1/3p4/6BP/4nPk1/PPP5/2K5 b - - 0 37\n",
      "[(1053, 'e3c4'), (1297, 'e3g2'), (1636, 'e3g4')]\n",
      "1586 e3c4\n",
      "1485 e3g2\n"
     ]
    },
    {
     "name": "stderr",
     "output_type": "stream",
     "text": [
      "192.168.98.117 - - [20/Aug/2023 16:32:59] \"POST /predict HTTP/1.1\" 200 -\n"
     ]
    },
    {
     "name": "stdout",
     "output_type": "stream",
     "text": [
      "3826 e3g4\n",
      "e3g2\n",
      "23.771562\n",
      "cache_hit 165\n",
      "cache_called 2391\n",
      "8/p7/2pQ4/3p4/6BP/5Pk1/PPP3n1/2K5 b - - 2 38\n",
      "[(690, 'g3h4'), (1478, 'g3f2'), (1746, 'g2f4')]\n",
      "inf g3h4\n",
      "1116 g3f2\n"
     ]
    },
    {
     "name": "stderr",
     "output_type": "stream",
     "text": [
      "192.168.98.117 - - [20/Aug/2023 16:33:27] \"POST /predict HTTP/1.1\" 200 -\n"
     ]
    },
    {
     "name": "stdout",
     "output_type": "stream",
     "text": [
      "3843 g2f4\n",
      "g3f2\n",
      "21.524358\n",
      "cache_hit 165\n",
      "cache_called 2402\n",
      "8/p7/2Q5/3p4/6BP/5P2/PPP2kn1/2K5 b - - 0 39\n",
      "[(708, 'g2f4'), (1075, 'f2g3'), (3837, 'g2e3')]\n",
      "739 g2f4\n",
      "1669 f2g3\n",
      "1221 g2e3\n",
      "[(708, 'g2f4'), (1075, 'f2g3'), (3837, 'g2e3')]\n",
      "1262 g2f4\n",
      "1522 f2g3\n"
     ]
    },
    {
     "name": "stderr",
     "output_type": "stream",
     "text": [
      "192.168.98.117 - - [20/Aug/2023 16:35:37] \"POST /predict HTTP/1.1\" 200 -\n"
     ]
    },
    {
     "name": "stdout",
     "output_type": "stream",
     "text": [
      "1130 g2e3\n",
      "g2e3\n",
      "125.090945\n",
      "cache_hit 183\n",
      "cache_called 2463\n",
      "8/p7/8/2Qp4/6BP/4nP2/PPP2k2/2K5 b - - 2 40\n",
      "[(4053, 'f2g3'), (4058, 'd5d4'), (4065, 'f2g1'), (4111, 'f2f1')]\n",
      "4056 f2g3\n",
      "4013 d5d4\n",
      "4775 f2g1\n",
      "4056 f2f1\n",
      "[(4053, 'f2g3'), (4058, 'd5d4'), (4065, 'f2g1'), (4111, 'f2f1')]\n",
      "4085 f2g3\n",
      "4118 d5d4\n",
      "4085 f2g1\n"
     ]
    },
    {
     "name": "stderr",
     "output_type": "stream",
     "text": [
      "192.168.98.117 - - [20/Aug/2023 16:37:59] \"POST /predict HTTP/1.1\" 200 -\n"
     ]
    },
    {
     "name": "stdout",
     "output_type": "stream",
     "text": [
      "4085 f2f1\n",
      "f2g3\n",
      "133.838899\n",
      "cache_hit 207\n",
      "cache_called 2538\n",
      "8/p7/8/3p4/6BP/4QPk1/PPP5/2K5 b - - 0 41\n",
      "[(4085, 'g3g2'), (4089, 'g3h2'), (4650, 'd5d4'), (4712, 'g3h4')]\n",
      "4438 g3g2\n",
      "inf g3h2\n",
      "4422 d5d4\n",
      "inf g3h4\n",
      "[(4085, 'g3g2'), (4089, 'g3h2'), (4650, 'd5d4'), (4712, 'g3h4')]\n",
      "inf g3g2\n",
      "inf g3h2\n",
      "inf d5d4\n"
     ]
    },
    {
     "name": "stderr",
     "output_type": "stream",
     "text": [
      "192.168.98.117 - - [20/Aug/2023 16:39:19] \"POST /predict HTTP/1.1\" 200 -\n"
     ]
    },
    {
     "name": "stdout",
     "output_type": "stream",
     "text": [
      "inf g3h4\n",
      "g3g2\n",
      "74.273913\n",
      "cache_hit 223\n",
      "cache_called 2585\n",
      "8/p7/8/3p3P/6B1/4QP2/PPP3k1/2K5 b - - 0 42\n",
      "[(inf, 'g2g3'), (inf, 'g2h2'), (inf, 'd5d4'), (inf, 'g2h1')]\n",
      "inf g2g3\n",
      "inf g2h2\n",
      "inf d5d4\n",
      "inf g2h1\n",
      "[(inf, 'g2g3'), (inf, 'g2h2'), (inf, 'd5d4'), (inf, 'g2h1')]\n",
      "inf g2g3\n",
      "inf g2h2\n",
      "inf d5d4\n"
     ]
    },
    {
     "name": "stderr",
     "output_type": "stream",
     "text": [
      "192.168.98.117 - - [20/Aug/2023 16:40:24] \"POST /predict HTTP/1.1\" 200 -\n"
     ]
    },
    {
     "name": "stdout",
     "output_type": "stream",
     "text": [
      "inf g2h1\n",
      "g2g3\n",
      "52.430367\n",
      "cache_hit 235\n",
      "cache_called 2619\n",
      "8/p7/7P/3p4/6B1/4QPk1/PPP5/2K5 b - - 0 43\n",
      "[(inf, 'g3h4'), (inf, 'g3h2'), (inf, 'g3g2'), (inf, 'd5d4')]\n",
      "inf g3h4\n",
      "inf g3h2\n",
      "inf g3g2\n",
      "inf d5d4\n",
      "[(inf, 'g3h4'), (inf, 'g3h2'), (inf, 'g3g2'), (inf, 'd5d4')]\n",
      "inf g3h4\n",
      "inf g3h2\n",
      "inf g3g2\n"
     ]
    },
    {
     "name": "stderr",
     "output_type": "stream",
     "text": [
      "192.168.98.117 - - [20/Aug/2023 16:41:16] \"POST /predict HTTP/1.1\" 200 -\n"
     ]
    },
    {
     "name": "stdout",
     "output_type": "stream",
     "text": [
      "inf d5d4\n",
      "g3h4\n",
      "36.693383\n",
      "cache_hit 250\n",
      "cache_called 2648\n",
      "8/p6P/8/3p4/6Bk/4QP2/PPP5/2K5 b - - 0 44\n",
      "[(inf, 'h4g3'), (inf, 'd5d4'), (inf, 'a7a5'), (inf, 'a7a6')]\n",
      "inf h4g3\n",
      "inf d5d4\n",
      "inf a7a5\n",
      "inf a7a6\n",
      "[(inf, 'h4g3'), (inf, 'd5d4'), (inf, 'a7a5'), (inf, 'a7a6')]\n",
      "inf h4g3\n",
      "inf d5d4\n",
      "inf a7a5\n"
     ]
    },
    {
     "name": "stderr",
     "output_type": "stream",
     "text": [
      "192.168.98.117 - - [20/Aug/2023 16:42:03] \"POST /predict HTTP/1.1\" 200 -\n"
     ]
    },
    {
     "name": "stdout",
     "output_type": "stream",
     "text": [
      "inf a7a6\n",
      "h4g3\n",
      "26.774654\n",
      "cache_hit 259\n",
      "cache_called 2671\n",
      "8/p6P/8/3p4/6B1/5Pk1/PPP5/2K3Q1 b - - 2 45\n",
      "[(inf, 'g3h4'), (inf, 'g3f4')]\n",
      "inf g3h4\n",
      "inf g3f4\n",
      "[(inf, 'g3h4'), (inf, 'g3f4')]\n",
      "inf g3h4\n"
     ]
    },
    {
     "name": "stderr",
     "output_type": "stream",
     "text": [
      "192.168.98.117 - - [20/Aug/2023 16:42:21] \"POST /predict HTTP/1.1\" 200 -\n"
     ]
    },
    {
     "name": "stdout",
     "output_type": "stream",
     "text": [
      "inf g3f4\n",
      "g3h4\n",
      "12.868208\n",
      "cache_hit 267\n",
      "cache_called 2684\n",
      "7Q/p7/8/3p4/6Bk/5P2/PPP5/2K3Q1 b - - 0 46\n",
      "[(inf, 'h4g5')]\n",
      "inf h4g5\n",
      "[(inf, 'h4g5')]\n"
     ]
    },
    {
     "name": "stderr",
     "output_type": "stream",
     "text": [
      "192.168.98.117 - - [20/Aug/2023 16:42:28] \"POST /predict HTTP/1.1\" 200 -\n"
     ]
    },
    {
     "name": "stdout",
     "output_type": "stream",
     "text": [
      "inf h4g5\n",
      "h4g5\n",
      "6.179019\n",
      "cache_hit 270\n",
      "cache_called 2691\n",
      "8/p7/8/3p2kQ/6B1/5P2/PPP5/2K3Q1 b - - 2 47\n",
      "[(inf, 'g5f4'), (inf, 'g5f6')]\n",
      "inf g5f4\n",
      "inf g5f6\n",
      "[(inf, 'g5f4'), (inf, 'g5f6')]\n",
      "inf g5f4\n"
     ]
    },
    {
     "name": "stderr",
     "output_type": "stream",
     "text": [
      "192.168.98.117 - - [20/Aug/2023 16:42:50] \"POST /predict HTTP/1.1\" 200 -\n"
     ]
    },
    {
     "name": "stdout",
     "output_type": "stream",
     "text": [
      "inf g5f6\n",
      "g5f4\n",
      "18.043457\n",
      "cache_hit 275\n",
      "cache_called 2705\n",
      "8/p7/8/3p3Q/3Q1kB1/5P2/PPP5/2K5 b - - 4 48\n",
      "[(inf, 'f4g3')]\n",
      "inf f4g3\n",
      "[(inf, 'f4g3')]\n"
     ]
    },
    {
     "name": "stderr",
     "output_type": "stream",
     "text": [
      "192.168.98.117 - - [20/Aug/2023 16:42:56] \"POST /predict HTTP/1.1\" 200 -\n"
     ]
    },
    {
     "name": "stdout",
     "output_type": "stream",
     "text": [
      "inf f4g3\n",
      "f4g3\n",
      "4.934967\n",
      "cache_hit 280\n",
      "cache_called 2712\n",
      "rnbqkbnr/pppppppp/8/8/4P3/8/PPPP1PPP/RNBQKBNR b KQkq e3 0 1\n",
      "[(31, 'e7e6'), (35, 'e7e5'), (36, 'c7c5')]\n",
      "31 e7e6\n",
      "35 e7e5\n"
     ]
    },
    {
     "name": "stderr",
     "output_type": "stream",
     "text": [
      "192.168.102.43 - - [22/Aug/2023 14:01:31] \"POST /predict HTTP/1.1\" 200 -\n"
     ]
    },
    {
     "name": "stdout",
     "output_type": "stream",
     "text": [
      "36 c7c5\n",
      "e7e6\n",
      "2.16377\n",
      "cache_hit 281\n",
      "cache_called 2713\n",
      "rnbqkbnr/pppp1ppp/4p3/4P3/8/8/PPPP1PPP/RNBQKBNR b KQkq - 0 2\n",
      "[(39, 'd7d5')]\n"
     ]
    },
    {
     "name": "stderr",
     "output_type": "stream",
     "text": [
      "192.168.102.43 - - [22/Aug/2023 14:01:48] \"POST /predict HTTP/1.1\" 200 -\n"
     ]
    },
    {
     "name": "stdout",
     "output_type": "stream",
     "text": [
      "34 d7d5\n",
      "d7d5\n",
      "1.937037\n",
      "cache_hit 281\n",
      "cache_called 2714\n",
      "rnbqkbnr/ppp2ppp/4p3/3pP3/3P4/8/PPP2PPP/RNBQKBNR b KQkq d3 0 3\n",
      "[(35, 'c7c5')]\n"
     ]
    },
    {
     "name": "stderr",
     "output_type": "stream",
     "text": [
      "192.168.102.43 - - [22/Aug/2023 14:01:51] \"POST /predict HTTP/1.1\" 200 -\n"
     ]
    },
    {
     "name": "stdout",
     "output_type": "stream",
     "text": [
      "35 c7c5\n",
      "c7c5\n",
      "0.617977\n",
      "cache_hit 282\n",
      "cache_called 2715\n",
      "rnbqkbnr/pp3ppp/4p3/2ppP3/3P4/5N2/PPP2PPP/RNBQKB1R b KQkq - 1 4\n",
      "[(38, 'b8c6')]\n"
     ]
    },
    {
     "name": "stderr",
     "output_type": "stream",
     "text": [
      "192.168.102.43 - - [22/Aug/2023 14:02:17] \"POST /predict HTTP/1.1\" 200 -\n"
     ]
    },
    {
     "name": "stdout",
     "output_type": "stream",
     "text": [
      "38 b8c6\n",
      "b8c6\n",
      "0.642996\n",
      "cache_hit 283\n",
      "cache_called 2716\n",
      "r1bqkbnr/pp3ppp/2n1p3/2ppP1B1/3P4/5N2/PPP2PPP/RN1QKB1R b KQkq - 3 5\n",
      "[(-96, 'd8b6'), (605, 'c5d4')]\n",
      "-189 d8b6\n"
     ]
    },
    {
     "name": "stderr",
     "output_type": "stream",
     "text": [
      "192.168.102.43 - - [22/Aug/2023 14:03:04] \"POST /predict HTTP/1.1\" 200 -\n"
     ]
    },
    {
     "name": "stdout",
     "output_type": "stream",
     "text": [
      "596 c5d4\n",
      "d8b6\n",
      "6.374959\n",
      "cache_hit 283\n",
      "cache_called 2719\n",
      "r1b1kbnr/pp3ppp/1qn1p3/2ppP1B1/3P4/1P3N2/P1P2PPP/RN1QKB1R b KQkq - 0 6\n",
      "[(-182, 'c5d4'), (83, 'c6e7')]\n",
      "-174 c5d4\n"
     ]
    },
    {
     "name": "stderr",
     "output_type": "stream",
     "text": [
      "192.168.102.43 - - [22/Aug/2023 14:03:24] \"POST /predict HTTP/1.1\" 200 -\n"
     ]
    },
    {
     "name": "stdout",
     "output_type": "stream",
     "text": [
      "-8 c6e7\n",
      "c5d4\n",
      "6.123996\n",
      "cache_hit 283\n",
      "cache_called 2722\n",
      "r1b1kbnr/pp3ppp/1qn1p3/3pP1B1/P2p4/1P3N2/2P2PPP/RN1QKB1R b KQkq a3 0 7\n",
      "[(-64, 'c6e7'), (-56, 'c6b4')]\n",
      "-73 c6e7\n"
     ]
    },
    {
     "name": "stderr",
     "output_type": "stream",
     "text": [
      "192.168.102.43 - - [22/Aug/2023 14:04:49] \"POST /predict HTTP/1.1\" 200 -\n"
     ]
    },
    {
     "name": "stdout",
     "output_type": "stream",
     "text": [
      "-101 c6b4\n",
      "c6b4\n",
      "6.060966\n",
      "cache_hit 283\n",
      "cache_called 2725\n",
      "r1b1kbnr/pp3ppp/1q2p3/3pP1B1/Pn1p4/NP3N2/2P2PPP/R2QKB1R b KQkq - 2 8\n",
      "[(-78, 'b4c6'), (87, 'd4d3')]\n",
      "-440 b4c6\n"
     ]
    },
    {
     "name": "stderr",
     "output_type": "stream",
     "text": [
      "192.168.102.43 - - [22/Aug/2023 14:05:55] \"POST /predict HTTP/1.1\" 200 -\n"
     ]
    },
    {
     "name": "stdout",
     "output_type": "stream",
     "text": [
      "53 d4d3\n",
      "b4c6\n",
      "6.920001\n",
      "cache_hit 283\n",
      "cache_called 2728\n",
      "r1b1kbnr/pp3ppp/1qn1p3/3pP1B1/P1Pp4/NP3N2/5PPP/R2QKB1R b KQkq c3 0 9\n",
      "[(-83, 'f8b4'), (-56, 'd4d3')]\n",
      "-290 f8b4\n"
     ]
    },
    {
     "name": "stderr",
     "output_type": "stream",
     "text": [
      "192.168.102.43 - - [22/Aug/2023 14:06:12] \"POST /predict HTTP/1.1\" 200 -\n"
     ]
    },
    {
     "name": "stdout",
     "output_type": "stream",
     "text": [
      "-108 d4d3\n",
      "f8b4\n",
      "5.405029\n",
      "cache_hit 283\n",
      "cache_called 2731\n",
      "r1b1k1nr/pp3ppp/1qn1p3/3pP1B1/PbPp4/NP6/3N1PPP/R2QKB1R b KQkq - 2 10\n",
      "[(-298, 'g8e7'), (-154, 'd4d3'), (-64, 'b4d2')]\n",
      "-193 g8e7\n",
      "98 d4d3\n"
     ]
    },
    {
     "name": "stderr",
     "output_type": "stream",
     "text": [
      "192.168.102.43 - - [22/Aug/2023 14:06:48] \"POST /predict HTTP/1.1\" 200 -\n"
     ]
    },
    {
     "name": "stdout",
     "output_type": "stream",
     "text": [
      "43 b4d2\n",
      "g8e7\n",
      "27.077292\n",
      "cache_hit 283\n",
      "cache_called 2744\n",
      "r1b1k2r/pp2Bppp/1qn1p3/3pP3/PbPp4/NP6/3N1PPP/R2QKB1R b KQkq - 0 11\n",
      "[(-194, 'c6e7'), (262, 'd4d3'), (413, 'b4a3')]\n",
      "-140 c6e7\n",
      "239 d4d3\n"
     ]
    },
    {
     "name": "stderr",
     "output_type": "stream",
     "text": [
      "192.168.102.43 - - [22/Aug/2023 14:07:18] \"POST /predict HTTP/1.1\" 200 -\n"
     ]
    },
    {
     "name": "stdout",
     "output_type": "stream",
     "text": [
      "471 b4a3\n",
      "c6e7\n",
      "26.055087\n",
      "cache_hit 284\n",
      "cache_called 2757\n",
      "r1b1k2r/pp2nppp/1q2p3/3pP3/PbPp4/NP6/3N1PPP/R1Q1KB1R b KQkq - 1 12\n",
      "[(-316, 'c8d7'), (-300, 'e8g8'), (-74, 'b4a3')]\n",
      "-388 c8d7\n",
      "-385 e8g8\n"
     ]
    },
    {
     "name": "stderr",
     "output_type": "stream",
     "text": [
      "192.168.102.43 - - [22/Aug/2023 14:08:52] \"POST /predict HTTP/1.1\" 200 -\n"
     ]
    },
    {
     "name": "stdout",
     "output_type": "stream",
     "text": [
      "-81 b4a3\n",
      "c8d7\n",
      "27.309811\n",
      "cache_hit 284\n",
      "cache_called 2770\n",
      "r3k2r/pp1bnppp/1q2p3/1N1pP3/PbPp4/1P6/3N1PPP/R1Q1KB1R b KQkq - 3 13\n",
      "[(-357, 'e8g8'), (-242, 'd4d3'), (-233, 'a8c8')]\n",
      "-439 e8g8\n",
      "-266 d4d3\n"
     ]
    },
    {
     "name": "stderr",
     "output_type": "stream",
     "text": [
      "192.168.102.43 - - [22/Aug/2023 14:09:53] \"POST /predict HTTP/1.1\" 200 -\n"
     ]
    },
    {
     "name": "stdout",
     "output_type": "stream",
     "text": [
      "-35 a8c8\n",
      "e8g8\n",
      "28.017254\n",
      "cache_hit 284\n",
      "cache_called 2783\n",
      "r4rk1/pp1bnppp/1q2p3/1N1pP3/PbPp4/1P1B4/3N1PPP/R1Q1K2R b KQ - 5 14\n",
      "[(-240, 'd7b5'), (-169, 'a7a5'), (-157, 'f8c8')]\n",
      "-150 d7b5\n",
      "-132 a7a5\n"
     ]
    },
    {
     "name": "stderr",
     "output_type": "stream",
     "text": [
      "192.168.102.43 - - [22/Aug/2023 14:11:21] \"POST /predict HTTP/1.1\" 200 -\n"
     ]
    },
    {
     "name": "stdout",
     "output_type": "stream",
     "text": [
      "-126 f8c8\n",
      "d7b5\n",
      "27.798629\n",
      "cache_hit 284\n",
      "cache_called 2796\n",
      "r4rk1/pp2nppp/1q2p3/1P1pP3/1bPp4/1P1B4/3N1PPP/R1Q1K2R b KQ - 0 15\n",
      "[(-150, 'f8c8'), (-132, 'f8d8'), (-76, 'e7f5')]\n",
      "-422 f8c8\n",
      "-114 f8d8\n"
     ]
    },
    {
     "name": "stderr",
     "output_type": "stream",
     "text": [
      "192.168.102.43 - - [22/Aug/2023 14:12:09] \"POST /predict HTTP/1.1\" 200 -\n"
     ]
    },
    {
     "name": "stdout",
     "output_type": "stream",
     "text": [
      "-43 e7f5\n",
      "f8c8\n",
      "26.753943\n",
      "cache_hit 285\n",
      "cache_called 2809\n",
      "r1r3k1/pp2nppp/1q2p3/1P1pP3/1bPp4/1P1B4/3N1PPP/R1Q2RK1 b - - 2 16\n",
      "[(-99, 'b6c5'), (-82, 'c8c5'), (-71, 'b4d2')]\n",
      "-119 b6c5\n",
      "-59 c8c5\n"
     ]
    },
    {
     "name": "stderr",
     "output_type": "stream",
     "text": [
      "192.168.102.43 - - [22/Aug/2023 14:12:59] \"POST /predict HTTP/1.1\" 200 -\n"
     ]
    },
    {
     "name": "stdout",
     "output_type": "stream",
     "text": [
      "-50 b4d2\n",
      "b6c5\n",
      "27.427618\n",
      "cache_hit 285\n",
      "cache_called 2822\n",
      "r1r3k1/pp2nppp/4p3/1PqpP3/1bPp4/1P1B1N2/5PPP/R1Q2RK1 b - - 4 17\n",
      "[(-98, 'd5c4'), (-20, 'c5b6'), (-14, 'c5c7')]\n",
      "-47 d5c4\n",
      "-229 c5b6\n"
     ]
    },
    {
     "name": "stderr",
     "output_type": "stream",
     "text": [
      "192.168.102.43 - - [22/Aug/2023 14:16:07] \"POST /predict HTTP/1.1\" 200 -\n"
     ]
    },
    {
     "name": "stdout",
     "output_type": "stream",
     "text": [
      "-61 c5c7\n",
      "c5b6\n",
      "27.717887\n",
      "cache_hit 285\n",
      "cache_called 2835\n",
      "r1r3k1/pp2nppp/1q2p3/1P1pP3/1bPp1Q2/1P1B1N2/5PPP/R4RK1 b - - 6 18\n",
      "[(-8, 'e7g6'), (118, 'd5c4'), (362, 'b6c5')]\n",
      "-52 e7g6\n",
      "167 d5c4\n"
     ]
    },
    {
     "name": "stderr",
     "output_type": "stream",
     "text": [
      "192.168.102.43 - - [22/Aug/2023 14:17:13] \"POST /predict HTTP/1.1\" 200 -\n"
     ]
    },
    {
     "name": "stdout",
     "output_type": "stream",
     "text": [
      "164 b6c5\n",
      "e7g6\n",
      "27.548368\n",
      "cache_hit 285\n",
      "cache_called 2848\n",
      "r1r3k1/pp3ppp/1q2p1B1/1P1pP3/1bPp1Q2/1P3N2/5PPP/R4RK1 b - - 0 19\n",
      "[(-4, 'f7g6'), (170, 'h7g6'), (561, 'b4c3')]\n",
      "-7 f7g6\n",
      "19 h7g6\n"
     ]
    },
    {
     "name": "stderr",
     "output_type": "stream",
     "text": [
      "192.168.102.43 - - [22/Aug/2023 14:18:14] \"POST /predict HTTP/1.1\" 200 -\n"
     ]
    },
    {
     "name": "stdout",
     "output_type": "stream",
     "text": [
      "509 b4c3\n",
      "f7g6\n",
      "26.6621\n",
      "cache_hit 285\n",
      "cache_called 2861\n",
      "r1r3k1/pp4pp/1q2p1p1/1P1pP3/1bPN1Q2/1P6/5PPP/R4RK1 b - - 0 20\n",
      "[(-175, 'd5c4'), (-150, 'b4c3'), (7, 'c8f8')]\n",
      "-59 d5c4\n",
      "-363 b4c3\n"
     ]
    },
    {
     "name": "stderr",
     "output_type": "stream",
     "text": [
      "192.168.102.43 - - [22/Aug/2023 14:18:52] \"POST /predict HTTP/1.1\" 200 -\n"
     ]
    },
    {
     "name": "stdout",
     "output_type": "stream",
     "text": [
      "-61 c8f8\n",
      "b4c3\n",
      "25.607674\n",
      "cache_hit 286\n",
      "cache_called 2874\n",
      "r1r3k1/pp4pp/1q2p1p1/1P1pP3/2PN1Q2/1Pb5/5PPP/3R1RK1 b - - 2 21\n",
      "[(-137, 'd5c4'), (16, 'c3d4'), (25, 'c8f8')]\n",
      "-201 d5c4\n",
      "22 c3d4\n"
     ]
    },
    {
     "name": "stderr",
     "output_type": "stream",
     "text": [
      "192.168.102.43 - - [22/Aug/2023 14:19:28] \"POST /predict HTTP/1.1\" 200 -\n"
     ]
    },
    {
     "name": "stdout",
     "output_type": "stream",
     "text": [
      "-364 c8f8\n",
      "c8f8\n",
      "26.339105\n",
      "cache_hit 286\n",
      "cache_called 2887\n",
      "r4rk1/pp4pp/1q2p1p1/1P1pP3/2PN2Q1/1Pb5/5PPP/3R1RK1 b - - 4 22\n",
      "[(148, 'f8c8'), (241, 'd5c4'), (511, 'b6d4')]\n",
      "384 f8c8\n",
      "482 d5c4\n"
     ]
    },
    {
     "name": "stderr",
     "output_type": "stream",
     "text": [
      "192.168.102.43 - - [22/Aug/2023 14:20:37] \"POST /predict HTTP/1.1\" 200 -\n"
     ]
    },
    {
     "name": "stdout",
     "output_type": "stream",
     "text": [
      "501 b6d4\n",
      "f8c8\n",
      "26.228999\n",
      "cache_hit 286\n",
      "cache_called 2900\n",
      "r1r3k1/pp4pp/1q2N1p1/1P1pP3/2P3Q1/1Pb5/5PPP/3R1RK1 b - - 0 23\n",
      "[(273, 'c8e8'), (593, 'c8c4'), (613, 'b6e6')]\n",
      "537 c8e8\n",
      "596 c8c4\n"
     ]
    },
    {
     "name": "stderr",
     "output_type": "stream",
     "text": [
      "192.168.102.43 - - [22/Aug/2023 14:21:20] \"POST /predict HTTP/1.1\" 200 -\n"
     ]
    },
    {
     "name": "stdout",
     "output_type": "stream",
     "text": [
      "624 b6e6\n",
      "c8e8\n",
      "24.567034\n",
      "cache_hit 287\n",
      "cache_called 2913\n",
      "r3r1k1/pp4pp/1q2N1p1/1P1RP3/2P3Q1/1Pb5/5PPP/5RK1 b - - 0 24\n",
      "[(-145, 'b6e6'), (499, 'c3d2'), (765, 'b6f2')]\n",
      "-146 b6e6\n",
      "446 c3d2\n"
     ]
    },
    {
     "name": "stderr",
     "output_type": "stream",
     "text": [
      "192.168.102.43 - - [22/Aug/2023 14:23:31] \"POST /predict HTTP/1.1\" 200 -\n"
     ]
    },
    {
     "name": "stdout",
     "output_type": "stream",
     "text": [
      "800 b6f2\n",
      "b6e6\n",
      "25.499517\n",
      "cache_hit 288\n",
      "cache_called 2926\n",
      "r3r1k1/pp4pp/4Q1p1/1P1RP3/2P5/1Pb5/5PPP/5RK1 b - - 0 25\n",
      "[(-146, 'e8e6'), (601, 'g8h8'), (678, 'g8f8')]\n",
      "-189 e8e6\n",
      "667 g8h8\n"
     ]
    },
    {
     "name": "stderr",
     "output_type": "stream",
     "text": [
      "192.168.102.43 - - [22/Aug/2023 14:25:26] \"POST /predict HTTP/1.1\" 200 -\n"
     ]
    },
    {
     "name": "stdout",
     "output_type": "stream",
     "text": [
      "665 g8f8\n",
      "e8e6\n",
      "25.439638\n",
      "cache_hit 289\n",
      "cache_called 2939\n",
      "r5k1/pp4pp/4r1p1/1P1RP3/2P2P2/1Pb5/6PP/5RK1 b - f3 0 26\n",
      "[(-128, 'g8f7'), (-118, 'e6e8'), (595, 'a8d8')]\n",
      "-86 g8f7\n",
      "-95 e6e8\n"
     ]
    },
    {
     "name": "stderr",
     "output_type": "stream",
     "text": [
      "192.168.102.43 - - [22/Aug/2023 14:25:56] \"POST /predict HTTP/1.1\" 200 -\n"
     ]
    },
    {
     "name": "stdout",
     "output_type": "stream",
     "text": [
      "619 a8d8\n",
      "e6e8\n",
      "27.04177\n",
      "cache_hit 289\n",
      "cache_called 2952\n",
      "rnbqkbnr/pppppppp/8/8/4P3/8/PPPP1PPP/RNBQKBNR b KQkq e3 0 1\n",
      "[(31, 'e7e6'), (35, 'e7e5'), (36, 'c7c5')]\n",
      "31 e7e6\n",
      "35 e7e5\n"
     ]
    },
    {
     "name": "stderr",
     "output_type": "stream",
     "text": [
      "192.168.98.46 - - [22/Aug/2023 14:26:33] \"POST /predict HTTP/1.1\" 200 -\n"
     ]
    },
    {
     "name": "stdout",
     "output_type": "stream",
     "text": [
      "36 c7c5\n",
      "e7e6\n",
      "1.66802\n",
      "cache_hit 290\n",
      "cache_called 2953\n",
      "rnbqkbnr/pppp1ppp/4p3/8/4P3/2N5/PPPP1PPP/R1BQKBNR b KQkq - 1 2\n",
      "[(48, 'd7d5')]\n"
     ]
    },
    {
     "name": "stderr",
     "output_type": "stream",
     "text": [
      "192.168.98.46 - - [22/Aug/2023 14:26:37] \"POST /predict HTTP/1.1\" 200 -\n"
     ]
    },
    {
     "name": "stdout",
     "output_type": "stream",
     "text": [
      "48 d7d5\n",
      "d7d5\n",
      "0.559002\n",
      "cache_hit 291\n",
      "cache_called 2954\n",
      "rnbqkbnr/ppp2ppp/4p3/3p4/3PP3/2N5/PPP2PPP/R1BQKBNR b KQkq d3 0 3\n",
      "[(82, 'f8b4')]\n"
     ]
    },
    {
     "name": "stderr",
     "output_type": "stream",
     "text": [
      "192.168.98.46 - - [22/Aug/2023 14:26:42] \"POST /predict HTTP/1.1\" 200 -\n"
     ]
    },
    {
     "name": "stdout",
     "output_type": "stream",
     "text": [
      "79 f8b4\n",
      "f8b4\n",
      "1.605002\n",
      "cache_hit 291\n",
      "cache_called 2955\n",
      "rnbqk1nr/ppp2ppp/4p3/3P4/1b1P4/2N5/PPP2PPP/R1BQKBNR b KQkq - 0 4\n",
      "[(21, 'e6d5')]\n"
     ]
    },
    {
     "name": "stderr",
     "output_type": "stream",
     "text": [
      "192.168.98.46 - - [22/Aug/2023 14:26:45] \"POST /predict HTTP/1.1\" 200 -\n"
     ]
    },
    {
     "name": "stdout",
     "output_type": "stream",
     "text": [
      "21 e6d5\n",
      "e6d5\n",
      "1.641999\n",
      "cache_hit 291\n",
      "cache_called 2956\n",
      "rnbqk1nr/ppp2ppp/8/1B1p4/1b1P4/2N5/PPP2PPP/R1BQK1NR b KQkq - 1 5\n",
      "[(-12, 'c7c6'), (24, 'c8d7')]\n",
      "-8 c7c6\n",
      "r3r1k1/pp4pp/6p1/1P1RP3/2P2PP1/1Pb5/7P/5RK1 b - g3 0 27\n"
     ]
    },
    {
     "name": "stderr",
     "output_type": "stream",
     "text": [
      "192.168.98.46 - - [22/Aug/2023 14:26:59] \"POST /predict HTTP/1.1\" 200 -\n"
     ]
    },
    {
     "name": "stdout",
     "output_type": "stream",
     "text": [
      "-17 c8d7\n",
      "c8d7\n",
      "5.973001\n",
      "cache_hit 291\n",
      "cache_called 2960\n",
      "[(-140, 'e8d8'), (-117, 'e8f8'), (-100, 'e8c8')]\n",
      "rn1qk1nr/pppB1ppp/8/3p4/1b1P4/2N5/PPP2PPP/R1BQK1NR b KQkq - 0 6\n",
      "[(-20, 'b8d7'), (-19, 'd8d7')]\n",
      "-32 b8d7\n"
     ]
    },
    {
     "name": "stderr",
     "output_type": "stream",
     "text": [
      "192.168.98.46 - - [22/Aug/2023 14:27:09] \"POST /predict HTTP/1.1\" 200 -\n"
     ]
    },
    {
     "name": "stdout",
     "output_type": "stream",
     "text": [
      "-6 d8d7\n",
      "b8d7\n",
      "7.244998\n",
      "cache_hit 291\n",
      "cache_called 2967\n",
      "-148 e8d8\n",
      "r2qk1nr/pppn1ppp/8/3p4/1b1P4/2N5/PPPB1PPP/R2QK1NR b KQkq - 1 7\n",
      "[(-21, 'g8f6'), (4, 'b4c3')]\n",
      "-30 g8f6\n"
     ]
    },
    {
     "name": "stderr",
     "output_type": "stream",
     "text": [
      "192.168.98.46 - - [22/Aug/2023 14:27:18] \"POST /predict HTTP/1.1\" 200 -\n"
     ]
    },
    {
     "name": "stdout",
     "output_type": "stream",
     "text": [
      "2 b4c3\n",
      "g8f6\n",
      "6.566036\n",
      "cache_hit 291\n",
      "cache_called 2974\n",
      "-97 e8f8\n",
      "r2qk2r/pppn1ppp/5n2/3p4/1b1P4/2N2N2/PPPB1PPP/R2QK2R b KQkq - 3 8\n",
      "[(-17, 'e8g8'), (-14, 'b4c3')]\n",
      "-13 e8g8\n"
     ]
    },
    {
     "name": "stderr",
     "output_type": "stream",
     "text": [
      "192.168.98.46 - - [22/Aug/2023 14:27:27] \"POST /predict HTTP/1.1\" 200 -\n"
     ]
    },
    {
     "name": "stdout",
     "output_type": "stream",
     "text": [
      "-14 b4c3\n",
      "b4c3\n",
      "6.277001\n",
      "cache_hit 291\n",
      "cache_called 2980\n"
     ]
    },
    {
     "name": "stderr",
     "output_type": "stream",
     "text": [
      "192.168.102.43 - - [22/Aug/2023 14:27:30] \"POST /predict HTTP/1.1\" 200 -\n"
     ]
    },
    {
     "name": "stdout",
     "output_type": "stream",
     "text": [
      "0 e8c8\n",
      "e8d8\n",
      "31.860159\n",
      "cache_hit 291\n",
      "cache_called 2981\n",
      "r2qk2r/pppn1ppp/5n2/3p4/3P4/2B2N2/PPP2PPP/R2QK2R b KQkq - 0 9\n",
      "[(-31, 'd8e7'), (-2, 'e8g8')]\n",
      "-13 d8e7\n"
     ]
    },
    {
     "name": "stderr",
     "output_type": "stream",
     "text": [
      "192.168.98.46 - - [22/Aug/2023 14:27:37] \"POST /predict HTTP/1.1\" 200 -\n"
     ]
    },
    {
     "name": "stdout",
     "output_type": "stream",
     "text": [
      "-12 e8g8\n",
      "d8e7\n",
      "5.982033\n",
      "cache_hit 291\n",
      "cache_called 2984\n",
      "r3k2r/pppnqppp/5n2/3pN3/3P4/2B5/PPP2PPP/R2QK2R b KQkq - 2 10\n",
      "[(-9, 'e8g8'), (-2, 'd7e5'), (57, 'c7c5')]\n",
      "12 e8g8\n",
      "-7 d7e5\n"
     ]
    },
    {
     "name": "stderr",
     "output_type": "stream",
     "text": [
      "192.168.98.46 - - [22/Aug/2023 14:28:14] \"POST /predict HTTP/1.1\" 200 -\n"
     ]
    },
    {
     "name": "stdout",
     "output_type": "stream",
     "text": [
      "93 c7c5\n",
      "d7e5\n",
      "28.013943\n",
      "cache_hit 291\n",
      "cache_called 2997\n",
      "r2r2k1/pp4pp/6p1/1P1RP3/2P2PPP/1Pb5/8/5RK1 b - h3 0 28\n",
      "[(-122, 'd8f8'), (-60, 'd8d5'), (-59, 'd8c8')]\n",
      "r3k2r/ppp1qppp/5n2/3pP3/8/2B5/PPP2PPP/R2QK2R b KQkq - 0 11\n",
      "[(2, 'e8c8'), (21, 'f6e4'), (35, 'e8g8')]\n",
      "-87 d8f8\n",
      "4 e8c8\n",
      "-73 d8d5\n",
      "31 f6e4\n"
     ]
    },
    {
     "name": "stderr",
     "output_type": "stream",
     "text": [
      "192.168.102.43 - - [22/Aug/2023 14:28:48] \"POST /predict HTTP/1.1\" 200 -\n"
     ]
    },
    {
     "name": "stdout",
     "output_type": "stream",
     "text": [
      "-28 d8c8\n",
      "d8f8\n",
      "33.160997\n",
      "cache_hit 292\n",
      "cache_called 3021\n"
     ]
    },
    {
     "name": "stderr",
     "output_type": "stream",
     "text": [
      "192.168.98.46 - - [22/Aug/2023 14:28:52] \"POST /predict HTTP/1.1\" 200 -\n"
     ]
    },
    {
     "name": "stdout",
     "output_type": "stream",
     "text": [
      "14 e8g8\n",
      "e8c8\n",
      "30.7311\n",
      "cache_hit 292\n",
      "cache_called 3023\n",
      "2kr3r/ppp1qppp/5n2/3pP3/8/2B5/PPP2PPP/R2Q1RK1 b - - 2 12\n",
      "[(3, 'f6e4'), (492, 'f6g4'), (509, 'c8b8')]\n",
      "r4rk1/pp4pp/6p1/1P1RP3/2P2PPP/1Pb5/6K1/5R2 b - - 2 29\n",
      "[(-56, 'f8f7'), (-28, 'f8d8'), (514, 'f8f4')]\n",
      "-9 f6e4\n",
      "-50 f8f7\n",
      "520 f6g4\n",
      "-24 f8d8\n"
     ]
    },
    {
     "name": "stderr",
     "output_type": "stream",
     "text": [
      "192.168.98.46 - - [22/Aug/2023 14:29:30] \"POST /predict HTTP/1.1\" 200 -\n"
     ]
    },
    {
     "name": "stdout",
     "output_type": "stream",
     "text": [
      "544 c8b8\n",
      "f6e4\n",
      "30.634969\n",
      "cache_hit 294\n",
      "cache_called 3047\n"
     ]
    },
    {
     "name": "stderr",
     "output_type": "stream",
     "text": [
      "192.168.102.43 - - [22/Aug/2023 14:29:35] \"POST /predict HTTP/1.1\" 200 -\n"
     ]
    },
    {
     "name": "stdout",
     "output_type": "stream",
     "text": [
      "546 f8f4\n",
      "f8f7\n",
      "30.087029\n",
      "cache_hit 294\n",
      "cache_called 3049\n",
      "2kr3r/ppp1qppp/8/3pP3/4n1Q1/2B5/PPP2PPP/R4RK1 b - - 4 13\n",
      "[(-16, 'e7e6'), (-8, 'c8b8'), (-6, 'e7d7')]\n",
      "r5k1/pp3rpp/4P1p1/1P1R4/2P2PPP/1Pb5/6K1/5R2 b - - 0 30\n",
      "[(-55, 'f7f8'), (600, 'c3d4'), (610, 'c3d2')]\n",
      "-24 e7e6\n",
      "567 f7f8\n",
      "9 c8b8\n",
      "610 c3d4\n"
     ]
    },
    {
     "name": "stderr",
     "output_type": "stream",
     "text": [
      "192.168.98.46 - - [22/Aug/2023 14:30:44] \"POST /predict HTTP/1.1\" 200 -\n"
     ]
    },
    {
     "name": "stdout",
     "output_type": "stream",
     "text": [
      "-35 e7d7\n",
      "e7d7\n",
      "31.615157\n",
      "cache_hit 296\n",
      "cache_called 3073\n"
     ]
    },
    {
     "name": "stderr",
     "output_type": "stream",
     "text": [
      "192.168.102.43 - - [22/Aug/2023 14:30:48] \"POST /predict HTTP/1.1\" 200 -\n"
     ]
    },
    {
     "name": "stdout",
     "output_type": "stream",
     "text": [
      "610 c3d2\n",
      "f7f8\n",
      "28.289035\n",
      "cache_hit 296\n",
      "cache_called 3075\n",
      "2kr3r/pppq1pQp/8/3pP3/4n3/2B5/PPP2PPP/R4RK1 b - - 0 14\n",
      "[(-410, 'h8g8'), (21, 'e4c3'), (32, 'c8b8')]\n",
      "0 h8g8\n",
      "39 e4c3\n"
     ]
    },
    {
     "name": "stderr",
     "output_type": "stream",
     "text": [
      "192.168.98.46 - - [22/Aug/2023 14:31:18] \"POST /predict HTTP/1.1\" 200 -\n"
     ]
    },
    {
     "name": "stdout",
     "output_type": "stream",
     "text": [
      "-35 c8b8\n",
      "c8b8\n",
      "27.035929\n",
      "cache_hit 296\n",
      "cache_called 3088\n",
      "r4rk1/pp4pp/4P1p1/1PPR4/5PPP/1Pb5/6K1/5R2 b - - 0 31\n",
      "[(-45, 'f8e8'), (5, 'f8d8'), (542, 'f8f4')]\n",
      "58 f8e8\n",
      "-6 f8d8\n"
     ]
    },
    {
     "name": "stderr",
     "output_type": "stream",
     "text": [
      "192.168.102.43 - - [22/Aug/2023 14:31:50] \"POST /predict HTTP/1.1\" 200 -\n"
     ]
    },
    {
     "name": "stdout",
     "output_type": "stream",
     "text": [
      "569 f8f4\n",
      "f8d8\n",
      "26.865915\n",
      "cache_hit 296\n",
      "cache_called 3101\n",
      "r2r2k1/pp4pp/3RP1p1/1PP5/5PPP/1Pb5/6K1/5R2 b - - 2 32\n",
      "[(-29, 'd8f8'), (-11, 'd8c8'), (52, 'd8d6')]\n",
      "1k1r3r/pppq1pQp/8/3pP3/4n3/2B5/PPP2PPP/3R1RK1 b - - 2 15\n",
      "-67 d8f8\n",
      "[(0, 'h8g8'), (124, 'h8f8'), (133, 'e4c3')]\n",
      "508 d8c8\n",
      "0 h8g8\n"
     ]
    },
    {
     "name": "stderr",
     "output_type": "stream",
     "text": [
      "192.168.102.43 - - [22/Aug/2023 14:32:32] \"POST /predict HTTP/1.1\" 200 -\n"
     ]
    },
    {
     "name": "stdout",
     "output_type": "stream",
     "text": [
      "221 d8d6\n",
      "d8f8\n",
      "30.326003\n",
      "cache_hit 296\n",
      "cache_called 3123\n",
      "42 h8f8\n"
     ]
    },
    {
     "name": "stderr",
     "output_type": "stream",
     "text": [
      "192.168.98.46 - - [22/Aug/2023 14:32:42] \"POST /predict HTTP/1.1\" 200 -\n"
     ]
    },
    {
     "name": "stdout",
     "output_type": "stream",
     "text": [
      "151 e4c3\n",
      "h8g8\n",
      "29.776033\n",
      "cache_hit 296\n",
      "cache_called 3127\n",
      "1k1r2r1/pppq1p1Q/8/3pP3/4n3/2B5/PPP2PPP/3R1RK1 b - - 0 16\n",
      "[(0, 'e4c3'), (533, 'd5d4'), (551, 'd8e8')]\n",
      "0 e4c3\n",
      "452 d5d4\n"
     ]
    },
    {
     "name": "stderr",
     "output_type": "stream",
     "text": [
      "192.168.98.46 - - [22/Aug/2023 14:33:19] \"POST /predict HTTP/1.1\" 200 -\n"
     ]
    },
    {
     "name": "stdout",
     "output_type": "stream",
     "text": [
      "-501 d8e8\n",
      "d8e8\n",
      "25.361452\n",
      "cache_hit 297\n",
      "cache_called 3140\n",
      "1k2r1r1/pppq1p2/8/3pP3/4Q3/2B5/PPP2PPP/3R1RK1 b - - 0 17\n",
      "[(596, 'd5e4'), (617, 'g8g4'), (821, 'e8e5')]\n",
      "r4rk1/pp4pp/3RP1p1/1PP5/5PPP/1Pb3K1/8/5R2 b - - 4 33\n",
      "[(-178, 'a8c8'), (-60, 'f8c8'), (486, 'f8f4')]\n",
      "657 d5e4\n",
      "296 a8c8\n",
      "628 g8g4\n",
      "327 f8c8\n"
     ]
    },
    {
     "name": "stderr",
     "output_type": "stream",
     "text": [
      "192.168.98.46 - - [22/Aug/2023 14:34:03] \"POST /predict HTTP/1.1\" 200 -\n"
     ]
    },
    {
     "name": "stdout",
     "output_type": "stream",
     "text": [
      "947 e8e5\n",
      "g8g4\n",
      "30.152655\n",
      "cache_hit 297\n",
      "cache_called 3164\n"
     ]
    },
    {
     "name": "stderr",
     "output_type": "stream",
     "text": [
      "192.168.102.43 - - [22/Aug/2023 14:34:09] \"POST /predict HTTP/1.1\" 200 -\n"
     ]
    },
    {
     "name": "stdout",
     "output_type": "stream",
     "text": [
      "575 f8f4\n",
      "a8c8\n",
      "29.900685\n",
      "cache_hit 297\n",
      "cache_called 3166\n",
      "1k2r3/pppq1p2/8/3RP3/4Q1r1/2B5/PPP2PPP/5RK1 b - - 0 18\n",
      "[(636, 'g4e4'), (667, 'd7d5'), (984, 'd7f5')]\n",
      "665 g4e4\n",
      "756 d7d5\n"
     ]
    },
    {
     "name": "stderr",
     "output_type": "stream",
     "text": [
      "192.168.98.46 - - [22/Aug/2023 14:34:42] \"POST /predict HTTP/1.1\" 200 -\n"
     ]
    },
    {
     "name": "stdout",
     "output_type": "stream",
     "text": [
      "1074 d7f5\n",
      "g4e4\n",
      "25.995916\n",
      "cache_hit 297\n",
      "cache_called 3179\n",
      "1k2r3/pppR1p2/8/4P3/4r3/2B5/PPP2PPP/5RK1 b - - 0 19\n",
      "[(665, 'e4e2'), (697, 'e4c4'), (1103, 'e4e1')]\n",
      "631 e4e2\n",
      "2r2rk1/pp2P1pp/3R2p1/1PP5/5PPP/1Pb3K1/8/5R2 b - - 0 34\n",
      "[(-325, 'f8e8'), (641, 'f8f7'), (1107, 'f8d8')]\n",
      "636 e4c4\n",
      "32 f8e8\n"
     ]
    },
    {
     "name": "stderr",
     "output_type": "stream",
     "text": [
      "192.168.98.46 - - [22/Aug/2023 14:35:08] \"POST /predict HTTP/1.1\" 200 -\n"
     ]
    },
    {
     "name": "stdout",
     "output_type": "stream",
     "text": [
      "inf e4e1\n",
      "e4e2\n",
      "23.216481\n",
      "cache_hit 298\n",
      "cache_called 3196\n",
      "636 f8f7\n"
     ]
    },
    {
     "name": "stderr",
     "output_type": "stream",
     "text": [
      "192.168.102.43 - - [22/Aug/2023 14:35:20] \"POST /predict HTTP/1.1\" 200 -\n"
     ]
    },
    {
     "name": "stdout",
     "output_type": "stream",
     "text": [
      "inf f8d8\n",
      "f8e8\n",
      "25.734483\n",
      "cache_hit 298\n",
      "cache_called 3202\n",
      "1k2r3/ppp2R2/8/4P3/8/2B5/PPP1rPPP/5RK1 b - - 0 20\n",
      "[(714, 'e2c2'), (1084, 'e8e5'), (inf, 'e8f8')]\n",
      "984 e2c2\n",
      "1445 e8e5\n"
     ]
    },
    {
     "name": "stderr",
     "output_type": "stream",
     "text": [
      "192.168.98.46 - - [22/Aug/2023 14:35:44] \"POST /predict HTTP/1.1\" 200 -\n"
     ]
    },
    {
     "name": "stdout",
     "output_type": "stream",
     "text": [
      "inf e8f8\n",
      "e2c2\n",
      "19.077022\n",
      "cache_hit 298\n",
      "cache_called 3212\n",
      "1k2r3/ppp2R2/8/4P3/8/2B5/PPr2PPP/4R1K1 b - - 1 21\n",
      "[(779, 'e8g8'), (inf, 'e8e7'), (inf, 'e8f8')]\n",
      "570 e8g8\n",
      "492 e8e7\n"
     ]
    },
    {
     "name": "stderr",
     "output_type": "stream",
     "text": [
      "192.168.98.46 - - [22/Aug/2023 14:36:12] \"POST /predict HTTP/1.1\" 200 -\n"
     ]
    },
    {
     "name": "stdout",
     "output_type": "stream",
     "text": [
      "979 e8f8\n",
      "e8e7\n",
      "25.294015\n",
      "cache_hit 298\n",
      "cache_called 3225\n",
      "1k3R2/ppp1r3/8/4P3/8/2B5/PPr2PPP/4R1K1 b - - 3 22\n",
      "[(inf, 'e7e8')]\n"
     ]
    },
    {
     "name": "stderr",
     "output_type": "stream",
     "text": [
      "192.168.98.46 - - [22/Aug/2023 14:36:24] \"POST /predict HTTP/1.1\" 200 -\n"
     ]
    },
    {
     "name": "stdout",
     "output_type": "stream",
     "text": [
      "inf e7e8\n",
      "e7e8\n",
      "3.318\n",
      "cache_hit 298\n",
      "cache_called 3227\n",
      "rnbqkbnr/pppppppp/8/8/4P3/8/PPPP1PPP/RNBQKBNR b KQkq e3 0 1\n",
      "[(31, 'e7e6'), (35, 'e7e5'), (36, 'c7c5')]\n",
      "31 e7e6\n",
      "35 e7e5\n"
     ]
    },
    {
     "name": "stderr",
     "output_type": "stream",
     "text": [
      "192.168.98.46 - - [22/Aug/2023 14:37:03] \"POST /predict HTTP/1.1\" 200 -\n"
     ]
    },
    {
     "name": "stdout",
     "output_type": "stream",
     "text": [
      "36 c7c5\n",
      "e7e6\n",
      "1.709038\n",
      "cache_hit 299\n",
      "cache_called 3228\n",
      "rnbqkbnr/pppp1ppp/4p3/8/3PP3/8/PPP2PPP/RNBQKBNR b KQkq d3 0 2\n",
      "[(47, 'd7d5')]\n"
     ]
    },
    {
     "name": "stderr",
     "output_type": "stream",
     "text": [
      "192.168.98.46 - - [22/Aug/2023 14:37:05] \"POST /predict HTTP/1.1\" 200 -\n"
     ]
    },
    {
     "name": "stdout",
     "output_type": "stream",
     "text": [
      "56 d7d5\n",
      "d7d5\n",
      "0.603999\n",
      "cache_hit 300\n",
      "cache_called 3229\n",
      "rnbqkbnr/ppp2ppp/4p3/3pP3/3P4/8/PPP2PPP/RNBQKBNR b KQkq - 0 3\n",
      "[(35, 'c7c5')]\n"
     ]
    },
    {
     "name": "stderr",
     "output_type": "stream",
     "text": [
      "192.168.98.46 - - [22/Aug/2023 14:37:13] \"POST /predict HTTP/1.1\" 200 -\n"
     ]
    },
    {
     "name": "stdout",
     "output_type": "stream",
     "text": [
      "35 c7c5\n",
      "c7c5\n",
      "0.573\n",
      "cache_hit 301\n",
      "cache_called 3230\n",
      "rnbqkbnr/pp3ppp/4p3/2ppP3/3P4/2P5/PP3PPP/RNBQKBNR b KQkq - 0 4\n",
      "[(19, 'b8c6')]\n"
     ]
    },
    {
     "name": "stderr",
     "output_type": "stream",
     "text": [
      "192.168.98.46 - - [22/Aug/2023 14:37:16] \"POST /predict HTTP/1.1\" 200 -\n"
     ]
    },
    {
     "name": "stdout",
     "output_type": "stream",
     "text": [
      "19 b8c6\n",
      "b8c6\n",
      "1.554198\n",
      "cache_hit 301\n",
      "cache_called 3231\n",
      "2r1r1k1/pp1RP1pp/6p1/1PP5/5PPP/1Pb3K1/8/5R2 b - - 2 35\n",
      "[(-362, 'c8c5'), (7, 'g8h8'), (251, 'c3e1')]\n",
      "r1bqkbnr/pp3ppp/2n1p3/2ppP3/3P4/2P2N2/PP3PPP/RNBQKB1R b KQkq - 2 5\n",
      "[(36, 'd8b6'), (66, 'd8c7')]\n",
      "28 d8b6\n",
      "-373 c8c5\n"
     ]
    },
    {
     "name": "stderr",
     "output_type": "stream",
     "text": [
      "192.168.98.46 - - [22/Aug/2023 14:37:39] \"POST /predict HTTP/1.1\" 200 -\n"
     ]
    },
    {
     "name": "stdout",
     "output_type": "stream",
     "text": [
      "59 d8c7\n",
      "d8b6\n",
      "6.871002\n",
      "cache_hit 301\n",
      "cache_called 3241\n",
      "364 g8h8\n",
      "r1b1kbnr/pp3ppp/1qn1p3/2ppP3/3P4/2P1BN2/PP3PPP/RN1QKB1R b KQkq - 4 6\n"
     ]
    },
    {
     "name": "stderr",
     "output_type": "stream",
     "text": [
      "192.168.102.43 - - [22/Aug/2023 14:37:52] \"POST /predict HTTP/1.1\" 200 -\n"
     ]
    },
    {
     "name": "stdout",
     "output_type": "stream",
     "text": [
      "250 c3e1\n",
      "c8c5\n",
      "26.773383\n",
      "cache_hit 301\n",
      "cache_called 3247\n",
      "[(22, 'c8d7'), (33, 'g8e7')]\n",
      "-28 c8d7\n"
     ]
    },
    {
     "name": "stderr",
     "output_type": "stream",
     "text": [
      "192.168.98.46 - - [22/Aug/2023 14:37:56] \"POST /predict HTTP/1.1\" 200 -\n"
     ]
    },
    {
     "name": "stdout",
     "output_type": "stream",
     "text": [
      "-50 g8e7\n",
      "g8e7\n",
      "6.523028\n",
      "cache_hit 301\n",
      "cache_called 3249\n",
      "3Rr1k1/pp2P1pp/6p1/1Pr5/5PPP/1Pb3K1/8/5R2 b - - 1 36\n",
      "[(-411, 'g8f7'), (512, 'c5b5'), (733, 'e8d8')]\n",
      "r1b1kb1r/pp2nppp/1qn1p3/2ppP3/3P4/1PP1BN2/P4PPP/RN1QKB1R b KQkq - 0 7\n",
      "[(-95, 'e7f5'), (1, 'c8d7')]\n",
      "-345 g8f7\n",
      "-106 e7f5\n"
     ]
    },
    {
     "name": "stderr",
     "output_type": "stream",
     "text": [
      "192.168.98.46 - - [22/Aug/2023 14:38:17] \"POST /predict HTTP/1.1\" 200 -\n"
     ]
    },
    {
     "name": "stdout",
     "output_type": "stream",
     "text": [
      "-112 c8d7\n",
      "c8d7\n",
      "7.474999\n",
      "cache_hit 302\n",
      "cache_called 3260\n",
      "r3kb1r/pp1bnppp/1qn1p3/2PpP3/8/1PP1BN2/P4PPP/RN1QKB1R b KQkq - 0 8\n",
      "510 c5b5\n",
      "[(68, 'b6d8'), (89, 'b6a5')]\n",
      "52 b6d8\n"
     ]
    },
    {
     "name": "stderr",
     "output_type": "stream",
     "text": [
      "192.168.98.46 - - [22/Aug/2023 14:38:27] \"POST /predict HTTP/1.1\" 200 -\n"
     ]
    },
    {
     "name": "stdout",
     "output_type": "stream",
     "text": [
      "55 b6a5\n",
      "b6d8\n",
      "6.597003\n",
      "cache_hit 302\n",
      "cache_called 3267\n"
     ]
    },
    {
     "name": "stderr",
     "output_type": "stream",
     "text": [
      "192.168.102.43 - - [22/Aug/2023 14:38:29] \"POST /predict HTTP/1.1\" 200 -\n"
     ]
    },
    {
     "name": "stdout",
     "output_type": "stream",
     "text": [
      "710 e8d8\n",
      "g8f7\n",
      "25.700321\n",
      "cache_hit 302\n",
      "cache_called 3268\n",
      "r2qkb1r/pp1bnppp/2n1p3/2PpP3/2P5/1P2BN2/P4PPP/RN1QKB1R b KQkq - 0 9\n",
      "[(-43, 'e7f5'), (8, 'd5d4')]\n",
      "-146 e7f5\n"
     ]
    },
    {
     "name": "stderr",
     "output_type": "stream",
     "text": [
      "192.168.98.46 - - [22/Aug/2023 14:38:45] \"POST /predict HTTP/1.1\" 200 -\n"
     ]
    },
    {
     "name": "stdout",
     "output_type": "stream",
     "text": [
      "-1 d5d4\n",
      "e7f5\n",
      "6.156032\n",
      "cache_hit 302\n",
      "cache_called 3271\n",
      "r2qkb1r/pp1b1ppp/2n1p3/2PpPn2/2PB4/1P3N2/P4PPP/RN1QKB1R b KQkq - 2 10\n",
      "[(-442, 'f5d4'), (-158, 'd5c4'), (-84, 'f8e7')]\n",
      "-113 f5d4\n",
      "-154 d5c4\n"
     ]
    },
    {
     "name": "stderr",
     "output_type": "stream",
     "text": [
      "192.168.98.46 - - [22/Aug/2023 14:39:35] \"POST /predict HTTP/1.1\" 200 -\n"
     ]
    },
    {
     "name": "stdout",
     "output_type": "stream",
     "text": [
      "-86 f8e7\n",
      "d5c4\n",
      "27.199269\n",
      "cache_hit 302\n",
      "cache_called 3284\n",
      "r2qkb1r/pp1b1ppp/2n1p3/2P1Pn2/2PB4/5N2/P4PPP/RN1QKB1R b KQkq - 0 11\n",
      "[(-506, 'c6d4'), (-28, 'f8e7'), (-14, 'd8a5')]\n",
      "-538 c6d4\n",
      "-55 f8e7\n"
     ]
    },
    {
     "name": "stderr",
     "output_type": "stream",
     "text": [
      "192.168.98.46 - - [22/Aug/2023 14:40:07] \"POST /predict HTTP/1.1\" 200 -\n"
     ]
    },
    {
     "name": "stdout",
     "output_type": "stream",
     "text": [
      "-1 d8a5\n",
      "c6d4\n",
      "25.486799\n",
      "cache_hit 303\n",
      "cache_called 3297\n",
      "r2qkb1r/pp1b1ppp/4p3/2P1Pn2/2PN4/8/P4PPP/RN1QKB1R b KQkq - 0 12\n",
      "[(-538, 'd8a5'), (-269, 'f5d4'), (-126, 'a8c8')]\n",
      "-430 d8a5\n",
      "-266 f5d4\n"
     ]
    },
    {
     "name": "stderr",
     "output_type": "stream",
     "text": [
      "192.168.98.46 - - [22/Aug/2023 14:40:36] \"POST /predict HTTP/1.1\" 200 -\n"
     ]
    },
    {
     "name": "stdout",
     "output_type": "stream",
     "text": [
      "-139 a8c8\n",
      "d8a5\n",
      "26.842569\n",
      "cache_hit 304\n",
      "cache_called 3310\n",
      "3Rr3/pp2Pkpp/6p1/1Pr5/5PPP/1Pb3K1/8/3R4 b - - 3 37\n",
      "[(-345, 'f7e7'), (-24, 'c3d4'), (679, 'e8d8')]\n",
      "-475 f7e7\n",
      "r3kb1r/pp1b1ppp/4p3/q1P1Pn2/2PN4/8/P2Q1PPP/RN2KB1R b KQkq - 2 13\n",
      "[(-415, 'a5c5'), (378, 'f5d4'), (403, 'f8c5')]\n",
      "10 c3d4\n"
     ]
    },
    {
     "name": "stderr",
     "output_type": "stream",
     "text": [
      "192.168.102.43 - - [22/Aug/2023 14:41:31] \"POST /predict HTTP/1.1\" 200 -\n"
     ]
    },
    {
     "name": "stdout",
     "output_type": "stream",
     "text": [
      "inf e8d8\n",
      "f7e7\n",
      "23.026997\n",
      "cache_hit 306\n",
      "cache_called 3326\n",
      "-451 a5c5\n",
      "-592 f5d4\n",
      "4r3/pp1Rk1pp/6p1/1Pr5/5PPP/1Pb3K1/8/3R4 b - - 1 38\n"
     ]
    },
    {
     "name": "stderr",
     "output_type": "stream",
     "text": [
      "192.168.98.46 - - [22/Aug/2023 14:41:50] \"POST /predict HTTP/1.1\" 200 -\n"
     ]
    },
    {
     "name": "stdout",
     "output_type": "stream",
     "text": [
      "-189 f8c5\n",
      "f5d4\n",
      "27.623973\n",
      "cache_hit 306\n",
      "cache_called 3335\n",
      "[(-424, 'e7f8'), (-44, 'e7f6'), (inf, 'e7e6')]\n",
      "-398 e7f8\n",
      "r3kb1r/pp1b1ppp/4p3/Q1P1P3/2Pn4/8/P4PPP/RN2KB1R b KQkq - 0 14\n",
      "[(429, 'b7b6'), (453, 'd4c2'), (548, 'f8c5')]\n",
      "-285 e7f6\n",
      "506 b7b6\n"
     ]
    },
    {
     "name": "stderr",
     "output_type": "stream",
     "text": [
      "192.168.102.43 - - [22/Aug/2023 14:42:17] \"POST /predict HTTP/1.1\" 200 -\n"
     ]
    },
    {
     "name": "stdout",
     "output_type": "stream",
     "text": [
      "-431 e7e6\n",
      "e7e6\n",
      "28.489614\n",
      "cache_hit 306\n",
      "cache_called 3353\n",
      "444 d4c2\n"
     ]
    },
    {
     "name": "stderr",
     "output_type": "stream",
     "text": [
      "192.168.98.46 - - [22/Aug/2023 14:42:33] \"POST /predict HTTP/1.1\" 200 -\n"
     ]
    },
    {
     "name": "stdout",
     "output_type": "stream",
     "text": [
      "551 f8c5\n",
      "d4c2\n",
      "28.37303\n",
      "cache_hit 306\n",
      "cache_called 3360\n",
      "r3kb1r/pp1b1ppp/4p3/Q1P1P3/2P5/8/P1nK1PPP/RN3B1R b kq - 2 15\n",
      "[(413, 'b7b6'), (431, 'c2a1'), (554, 'f8c5')]\n",
      "484 b7b6\n",
      "363 c2a1\n"
     ]
    },
    {
     "name": "stderr",
     "output_type": "stream",
     "text": [
      "192.168.98.46 - - [22/Aug/2023 14:43:03] \"POST /predict HTTP/1.1\" 200 -\n"
     ]
    },
    {
     "name": "stdout",
     "output_type": "stream",
     "text": [
      "559 f8c5\n",
      "c2a1\n",
      "25.786526\n",
      "cache_hit 307\n",
      "cache_called 3373\n",
      "r3kb1r/pp1b1ppp/4p3/Q1P1P3/2P5/2N5/P2K1PPP/n4B1R b kq - 1 16\n",
      "[(533, 'a1b3'), (598, 'b7b6'), (733, 'd7b5')]\n",
      "-696 a1b3\n",
      "571 b7b6\n"
     ]
    },
    {
     "name": "stderr",
     "output_type": "stream",
     "text": [
      "192.168.98.46 - - [22/Aug/2023 14:43:56] \"POST /predict HTTP/1.1\" 200 -\n"
     ]
    },
    {
     "name": "stdout",
     "output_type": "stream",
     "text": [
      "729 d7b5\n",
      "a1b3\n",
      "25.433825\n",
      "cache_hit 307\n",
      "cache_called 3386\n",
      "r3kb1r/pp1b1ppp/4p3/Q1P1P3/2P5/1nN5/P1K2PPP/5B1R b kq - 3 17\n",
      "[(-696, 'b3a5'), (103, 'b3c5'), (161, 'b3d4')]\n",
      "-678 b3a5\n",
      "-421 b3c5\n"
     ]
    },
    {
     "name": "stderr",
     "output_type": "stream",
     "text": [
      "192.168.98.46 - - [22/Aug/2023 14:45:01] \"POST /predict HTTP/1.1\" 200 -\n"
     ]
    },
    {
     "name": "stdout",
     "output_type": "stream",
     "text": [
      "185 b3d4\n",
      "b3a5\n",
      "26.446079\n",
      "cache_hit 308\n",
      "cache_called 3399\n",
      "r3kb1r/pp1b1ppp/4p3/n1P1P3/2P5/2N5/P1K1BPPP/7R b kq - 1 18\n",
      "[(-734, 'f8c5'), (-693, 'd7c6'), (-639, 'a5c4')]\n",
      "-734 f8c5\n",
      "-685 d7c6\n"
     ]
    },
    {
     "name": "stderr",
     "output_type": "stream",
     "text": [
      "192.168.98.46 - - [22/Aug/2023 14:45:49] \"POST /predict HTTP/1.1\" 200 -\n"
     ]
    },
    {
     "name": "stdout",
     "output_type": "stream",
     "text": [
      "-634 a5c4\n",
      "f8c5\n",
      "26.935072\n",
      "cache_hit 308\n",
      "cache_called 3412\n",
      "r3k2r/pp1b1ppp/4p3/n1b1P3/2P1N3/8/P1K1BPPP/7R b kq - 1 19\n",
      "[(-734, 'c5e7'), (-733, 'c5b6'), (-601, 'e8e7')]\n",
      "-759 c5e7\n",
      "-738 c5b6\n"
     ]
    },
    {
     "name": "stderr",
     "output_type": "stream",
     "text": [
      "192.168.98.46 - - [22/Aug/2023 14:46:50] \"POST /predict HTTP/1.1\" 200 -\n"
     ]
    },
    {
     "name": "stdout",
     "output_type": "stream",
     "text": [
      "-589 e8e7\n",
      "c5e7\n",
      "26.399033\n",
      "cache_hit 309\n",
      "cache_called 3425\n",
      "r3k2r/pp1bbppp/4p3/n3P3/2P1NP2/8/P1K1B1PP/7R b kq f3 0 20\n",
      "[(-779, 'a8c8'), (-731, 'a8d8'), (-667, 'a5c6')]\n",
      "-808 a8c8\n",
      "-756 a8d8\n"
     ]
    },
    {
     "name": "stderr",
     "output_type": "stream",
     "text": [
      "192.168.98.46 - - [22/Aug/2023 14:47:44] \"POST /predict HTTP/1.1\" 200 -\n"
     ]
    },
    {
     "name": "stdout",
     "output_type": "stream",
     "text": [
      "-675 a5c6\n",
      "a8c8\n",
      "25.607095\n",
      "cache_hit 309\n",
      "cache_called 3438\n",
      "2r1k2r/pp1bbppp/4p3/n3P3/2P2P2/8/P1KNB1PP/7R b k - 2 21\n",
      "[(-807, 'd7a4'), (-752, 'a5c4'), (-607, 'a5b3')]\n",
      "-753 d7a4\n",
      "-661 a5c4\n"
     ]
    },
    {
     "name": "stderr",
     "output_type": "stream",
     "text": [
      "192.168.98.46 - - [22/Aug/2023 14:48:46] \"POST /predict HTTP/1.1\" 200 -\n"
     ]
    },
    {
     "name": "stdout",
     "output_type": "stream",
     "text": [
      "-577 a5b3\n",
      "d7a4\n",
      "26.033301\n",
      "cache_hit 309\n",
      "cache_called 3451\n",
      "2r1k2r/pp2bppp/4p3/n3P3/b1P2P2/2K5/P2NB1PP/7R b k - 4 22\n",
      "[(-753, 'c8d8'), (-749, 'a5c4'), (-598, 'a5b3')]\n",
      "-734 c8d8\n",
      "-642 a5c4\n"
     ]
    },
    {
     "name": "stderr",
     "output_type": "stream",
     "text": [
      "192.168.98.46 - - [22/Aug/2023 14:49:19] \"POST /predict HTTP/1.1\" 200 -\n"
     ]
    },
    {
     "name": "stdout",
     "output_type": "stream",
     "text": [
      "-604 a5b3\n",
      "c8d8\n",
      "25.871126\n",
      "cache_hit 310\n",
      "cache_called 3464\n",
      "3rk2r/pp2bppp/4p3/n3P3/b1P2PP1/2K5/P2NB2P/7R b k g3 0 23\n",
      "[(-806, 'a5c6'), (-739, 'e7h4'), (-632, 'a5b3')]\n",
      "-815 a5c6\n",
      "-733 e7h4\n"
     ]
    },
    {
     "name": "stderr",
     "output_type": "stream",
     "text": [
      "192.168.98.46 - - [22/Aug/2023 14:50:27] \"POST /predict HTTP/1.1\" 200 -\n"
     ]
    },
    {
     "name": "stdout",
     "output_type": "stream",
     "text": [
      "-595 a5b3\n",
      "a5c6\n",
      "26.577928\n",
      "cache_hit 310\n",
      "cache_called 3477\n",
      "3rk2r/pp2bppp/2n1p3/4P3/b1P2PP1/2K5/P2NB2P/1R6 b k - 2 24\n",
      "[(-771, 'd8d4'), (-762, 'c6d4'), (-699, 'd8d2')]\n",
      "-1156 d8d4\n",
      "-639 c6d4\n"
     ]
    },
    {
     "name": "stderr",
     "output_type": "stream",
     "text": [
      "192.168.98.46 - - [22/Aug/2023 14:51:01] \"POST /predict HTTP/1.1\" 200 -\n"
     ]
    },
    {
     "name": "stdout",
     "output_type": "stream",
     "text": [
      "-659 d8d2\n",
      "d8d4\n",
      "25.818593\n",
      "cache_hit 310\n",
      "cache_called 3490\n",
      "4k2r/pR2bppp/2n1p3/4P3/b1Pr1PP1/2K5/P2NB2P/8 b k - 0 25\n",
      "[(-720, 'd4d8'), (-674, 'e8f8'), (-563, 'e8d8')]\n",
      "-693 d4d8\n",
      "-540 e8f8\n"
     ]
    },
    {
     "name": "stderr",
     "output_type": "stream",
     "text": [
      "192.168.98.46 - - [22/Aug/2023 14:51:39] \"POST /predict HTTP/1.1\" 200 -\n"
     ]
    },
    {
     "name": "stdout",
     "output_type": "stream",
     "text": [
      "-647 e8d8\n",
      "d4d8\n",
      "26.785904\n",
      "cache_hit 310\n",
      "cache_called 3503\n",
      "3rk2r/pR2bppp/2n1p3/4P3/b1P2PP1/2K2B2/P2N3P/8 b k - 2 26\n",
      "[(-551, 'd8d4'), (-405, 'd8b8'), (-208, 'd8d3')]\n",
      "-567 d8d4\n",
      "-393 d8b8\n"
     ]
    },
    {
     "name": "stderr",
     "output_type": "stream",
     "text": [
      "192.168.98.46 - - [22/Aug/2023 14:52:20] \"POST /predict HTTP/1.1\" 200 -\n"
     ]
    },
    {
     "name": "stdout",
     "output_type": "stream",
     "text": [
      "-157 d8d3\n",
      "d8d4\n",
      "28.824021\n",
      "cache_hit 310\n",
      "cache_called 3515\n",
      "4k2r/pR2bppp/2B1p3/4P3/b1Pr1PP1/2K5/P2N3P/8 b k - 0 27\n",
      "[(-567, 'a4c6'), (242, 'e8f8'), (442, 'e8d8')]\n",
      "-570 a4c6\n",
      "211 e8f8\n"
     ]
    },
    {
     "name": "stderr",
     "output_type": "stream",
     "text": [
      "192.168.98.46 - - [22/Aug/2023 14:52:50] \"POST /predict HTTP/1.1\" 200 -\n"
     ]
    },
    {
     "name": "stdout",
     "output_type": "stream",
     "text": [
      "446 e8d8\n",
      "a4c6\n",
      "24.92552\n",
      "cache_hit 311\n",
      "cache_called 3528\n",
      "1R2k2r/p3bppp/2b1p3/4P3/2Pr1PP1/2K5/P2N3P/8 b k - 1 28\n",
      "[(-697, 'd4d8'), (-472, 'e8d7'), (-424, 'e7d8')]\n",
      "-703 d4d8\n",
      "-556 e8d7\n"
     ]
    },
    {
     "name": "stderr",
     "output_type": "stream",
     "text": [
      "192.168.98.46 - - [22/Aug/2023 14:53:22] \"POST /predict HTTP/1.1\" 200 -\n"
     ]
    },
    {
     "name": "stdout",
     "output_type": "stream",
     "text": [
      "-409 e7d8\n",
      "d4d8\n",
      "26.21535\n",
      "cache_hit 311\n",
      "cache_called 3541\n",
      "3Rk2r/p3bppp/2b1p3/4P3/2P2PP1/2K5/P2N3P/8 b k - 0 29\n",
      "[(-703, 'e8d8'), (-687, 'e7d8')]\n",
      "-715 e8d8\n"
     ]
    },
    {
     "name": "stderr",
     "output_type": "stream",
     "text": [
      "192.168.98.46 - - [22/Aug/2023 14:53:50] \"POST /predict HTTP/1.1\" 200 -\n"
     ]
    },
    {
     "name": "stdout",
     "output_type": "stream",
     "text": [
      "-699 e7d8\n",
      "e8d8\n",
      "17.575001\n",
      "cache_hit 312\n",
      "cache_called 3550\n",
      "3k3r/p3bppp/2b1p3/4PP2/2P3P1/2K5/P2N3P/8 b - - 0 30\n",
      "[(-725, 'd8c7'), (-725, 'd8e8'), (-544, 'e7b4')]\n",
      "-775 d8c7\n",
      "rnbqkbnr/pppppppp/8/8/3P4/8/PPP1PPPP/RNBQKBNR b KQkq d3 0 1\n",
      "[(28, 'g8f6'), (33, 'd7d5'), (65, 'd7d6')]\n",
      "22 g8f6\n",
      "33 d7d5\n"
     ]
    },
    {
     "name": "stderr",
     "output_type": "stream",
     "text": [
      "192.168.102.43 - - [22/Aug/2023 14:54:07] \"POST /predict HTTP/1.1\" 200 -\n"
     ]
    },
    {
     "name": "stdout",
     "output_type": "stream",
     "text": [
      "64 d7d6\n",
      "g8f6\n",
      "2.115002\n",
      "cache_hit 313\n",
      "cache_called 3558\n",
      "rnbqkb1r/pppppppp/5n2/8/3P4/5N2/PPP1PPPP/RNBQKB1R b KQkq - 2 2\n",
      "[(26, 'e7e6')]\n"
     ]
    },
    {
     "name": "stderr",
     "output_type": "stream",
     "text": [
      "192.168.102.43 - - [22/Aug/2023 14:54:11] \"POST /predict HTTP/1.1\" 200 -\n"
     ]
    },
    {
     "name": "stdout",
     "output_type": "stream",
     "text": [
      "26 e7e6\n",
      "e7e6\n",
      "2.156999\n",
      "cache_hit 313\n",
      "cache_called 3561\n",
      "-707 d8e8\n",
      "rnbqkb1r/pppp1ppp/4pn2/8/3P4/5NP1/PPP1PP1P/RNBQKB1R b KQkq - 0 3\n",
      "[(42, 'd7d5')]\n"
     ]
    },
    {
     "name": "stderr",
     "output_type": "stream",
     "text": [
      "192.168.102.43 - - [22/Aug/2023 14:54:15] \"POST /predict HTTP/1.1\" 200 -\n"
     ]
    },
    {
     "name": "stdout",
     "output_type": "stream",
     "text": [
      "42 d7d5\n",
      "d7d5\n",
      "1.764999\n",
      "cache_hit 313\n",
      "cache_called 3564\n",
      "rnbqkb1r/ppp2ppp/4pn2/3p4/3P4/5NP1/PPP1PPBP/RNBQK2R b KQkq - 1 4\n",
      "[(56, 'f8d6')]\n"
     ]
    },
    {
     "name": "stderr",
     "output_type": "stream",
     "text": [
      "192.168.102.43 - - [22/Aug/2023 14:54:18] \"POST /predict HTTP/1.1\" 200 -\n"
     ]
    },
    {
     "name": "stdout",
     "output_type": "stream",
     "text": [
      "59 f8d6\n",
      "f8d6\n",
      "1.808002\n",
      "cache_hit 313\n",
      "cache_called 3566\n"
     ]
    },
    {
     "name": "stderr",
     "output_type": "stream",
     "text": [
      "192.168.98.46 - - [22/Aug/2023 14:54:21] \"POST /predict HTTP/1.1\" 200 -\n"
     ]
    },
    {
     "name": "stdout",
     "output_type": "stream",
     "text": [
      "-548 e7b4\n",
      "d8c7\n",
      "27.682194\n",
      "cache_hit 313\n",
      "cache_called 3567\n",
      "rnbqk2r/ppp2ppp/3bpn2/3p4/3P4/5NP1/PPP1PPBP/RNBQ1RK1 b kq - 3 5\n",
      "[(46, 'c7c6'), (46, 'b8c6')]\n",
      "47 c7c6\n"
     ]
    },
    {
     "name": "stderr",
     "output_type": "stream",
     "text": [
      "192.168.102.43 - - [22/Aug/2023 14:54:27] \"POST /predict HTTP/1.1\" 200 -\n"
     ]
    },
    {
     "name": "stdout",
     "output_type": "stream",
     "text": [
      "54 b8c6\n",
      "c7c6\n",
      "5.490029\n",
      "cache_hit 313\n",
      "cache_called 3570\n",
      "rnbqk2r/pp3ppp/2pbpn2/3p4/2PP4/5NP1/PP2PPBP/RNBQ1RK1 b kq c3 0 6\n",
      "[(52, 'b8d7'), (96, 'd5c4')]\n",
      "48 b8d7\n"
     ]
    },
    {
     "name": "stderr",
     "output_type": "stream",
     "text": [
      "192.168.102.43 - - [22/Aug/2023 14:54:36] \"POST /predict HTTP/1.1\" 200 -\n"
     ]
    },
    {
     "name": "stdout",
     "output_type": "stream",
     "text": [
      "43 d5c4\n",
      "d5c4\n",
      "6.414031\n",
      "cache_hit 313\n",
      "cache_called 3573\n",
      "rnbqk2r/pp3ppp/2pbpn2/8/2pP4/2N2NP1/PP2PPBP/R1BQ1RK1 b kq - 1 7\n",
      "[(15, 'b8d7'), (80, 'b7b5')]\n",
      "26 b8d7\n"
     ]
    },
    {
     "name": "stderr",
     "output_type": "stream",
     "text": [
      "192.168.102.43 - - [22/Aug/2023 14:54:45] \"POST /predict HTTP/1.1\" 200 -\n"
     ]
    },
    {
     "name": "stdout",
     "output_type": "stream",
     "text": [
      "49 b7b5\n",
      "b8d7\n",
      "5.371761\n",
      "cache_hit 313\n",
      "cache_called 3576\n",
      "7r/p1k1bppp/2b1P3/4P3/2P3P1/2K5/P2N3P/8 b - - 0 31\n",
      "[(-731, 'f7e6'), (-575, 'e7d8'), (-536, 'e7b4')]\n",
      "-811 f7e6\n",
      "-583 e7d8\n"
     ]
    },
    {
     "name": "stderr",
     "output_type": "stream",
     "text": [
      "192.168.98.46 - - [22/Aug/2023 14:55:18] \"POST /predict HTTP/1.1\" 200 -\n"
     ]
    },
    {
     "name": "stdout",
     "output_type": "stream",
     "text": [
      "-532 e7b4\n",
      "f7e6\n",
      "26.632163\n",
      "cache_hit 313\n",
      "cache_called 3589\n",
      "7r/p1k1b1pp/2b1p3/4P3/2P3P1/1NK5/P6P/8 b - - 1 32\n",
      "[(-766, 'h8f8'), (-756, 'c7b6'), (-547, 'e7b4')]\n",
      "r1bqk2r/pp1n1ppp/2pbpn2/6B1/2pP4/2N2NP1/PP2PPBP/R2Q1RK1 b kq - 3 8\n",
      "[(32, 'h7h6'), (43, 'd8c7')]\n",
      "-789 h8f8\n",
      "19 h7h6\n"
     ]
    },
    {
     "name": "stderr",
     "output_type": "stream",
     "text": [
      "192.168.102.43 - - [22/Aug/2023 14:55:35] \"POST /predict HTTP/1.1\" 200 -\n"
     ]
    },
    {
     "name": "stdout",
     "output_type": "stream",
     "text": [
      "35 d8c7\n",
      "h7h6\n",
      "6.571805\n",
      "cache_hit 313\n",
      "cache_called 3599\n",
      "r1bqk2r/pp1n1pp1/2pbpB1p/8/2pP4/2N2NP1/PP2PPBP/R2Q1RK1 b kq - 0 9\n",
      "[(19, 'd8f6'), (39, 'd7f6')]\n",
      "-622 c7b6\n",
      "19 d8f6\n"
     ]
    },
    {
     "name": "stderr",
     "output_type": "stream",
     "text": [
      "192.168.102.43 - - [22/Aug/2023 14:55:45] \"POST /predict HTTP/1.1\" 200 -\n"
     ]
    },
    {
     "name": "stdout",
     "output_type": "stream",
     "text": [
      "-19 d7f6\n",
      "d7f6\n",
      "7.501\n",
      "cache_hit 313\n",
      "cache_called 3606\n"
     ]
    },
    {
     "name": "stderr",
     "output_type": "stream",
     "text": [
      "192.168.98.46 - - [22/Aug/2023 14:55:50] \"POST /predict HTTP/1.1\" 200 -\n"
     ]
    },
    {
     "name": "stdout",
     "output_type": "stream",
     "text": [
      "-546 e7b4\n",
      "h8f8\n",
      "29.141248\n",
      "cache_hit 313\n",
      "cache_called 3608\n",
      "5r2/p1k1b1pp/2b1p3/4P3/2PN2P1/2K5/P6P/8 b - - 3 33\n",
      "[(-789, 'c6d7'), (-614, 'f8b8'), (-598, 'f8d8')]\n",
      "r1bqk2r/pp3pp1/2pbpn1p/8/Q1pP4/2N2NP1/PP2PPBP/R4RK1 b kq - 1 10\n",
      "[(-68, 'b7b5'), (40, 'c8d7'), (49, 'd8b6')]\n",
      "-748 c6d7\n",
      "-64 b7b5\n",
      "-633 f8b8\n",
      "47 c8d7\n"
     ]
    },
    {
     "name": "stderr",
     "output_type": "stream",
     "text": [
      "192.168.98.46 - - [22/Aug/2023 14:56:26] \"POST /predict HTTP/1.1\" 200 -\n"
     ]
    },
    {
     "name": "stdout",
     "output_type": "stream",
     "text": [
      "-602 f8d8\n",
      "c6d7\n",
      "29.9366\n",
      "cache_hit 314\n",
      "cache_called 3631\n",
      "5r2/p1kbb1pp/4p3/4P1P1/2PN4/2K5/P6P/8 b - - 0 34\n",
      "[(-770, 'f8b8'), (-761, 'f8a8'), (-731, 'f8d8')]\n"
     ]
    },
    {
     "name": "stderr",
     "output_type": "stream",
     "text": [
      "192.168.102.43 - - [22/Aug/2023 14:56:37] \"POST /predict HTTP/1.1\" 200 -\n"
     ]
    },
    {
     "name": "stdout",
     "output_type": "stream",
     "text": [
      "18 d8b6\n",
      "b7b5\n",
      "32.745996\n",
      "cache_hit 314\n",
      "cache_called 3636\n",
      "-633 f8b8\n",
      "-600 f8a8\n",
      "r1bqk2r/p4pp1/2pbpn1p/1p6/2pP4/2N2NP1/PPQ1PPBP/R4RK1 b kq - 1 11\n",
      "[(-64, 'c8b7'), (-38, 'c8d7'), (-34, 'a7a6')]\n"
     ]
    },
    {
     "name": "stderr",
     "output_type": "stream",
     "text": [
      "192.168.98.46 - - [22/Aug/2023 14:57:04] \"POST /predict HTTP/1.1\" 200 -\n"
     ]
    },
    {
     "name": "stdout",
     "output_type": "stream",
     "text": [
      "-758 f8d8\n",
      "f8d8\n",
      "29.307254\n",
      "cache_hit 315\n",
      "cache_called 3650\n",
      "-55 c8b7\n",
      "3r4/p1kbb1pp/4p3/4P1P1/2PN3P/2K5/P7/8 b - h3 0 35\n",
      "[(-782, 'd8f8'), (-758, 'c7b6'), (-711, 'c7b7')]\n",
      "-50 c8d7\n",
      "-581 d8f8\n"
     ]
    },
    {
     "name": "stderr",
     "output_type": "stream",
     "text": [
      "192.168.102.43 - - [22/Aug/2023 14:57:28] \"POST /predict HTTP/1.1\" 200 -\n"
     ]
    },
    {
     "name": "stdout",
     "output_type": "stream",
     "text": [
      "-71 a7a6\n",
      "a7a6\n",
      "30.33174\n",
      "cache_hit 315\n",
      "cache_called 3668\n",
      "-811 c7b6\n"
     ]
    },
    {
     "name": "stderr",
     "output_type": "stream",
     "text": [
      "192.168.98.46 - - [22/Aug/2023 14:57:40] \"POST /predict HTTP/1.1\" 200 -\n"
     ]
    },
    {
     "name": "stdout",
     "output_type": "stream",
     "text": [
      "-716 c7b7\n",
      "c7b6\n",
      "29.997\n",
      "cache_hit 315\n",
      "cache_called 3673\n",
      "r1bqk2r/5pp1/p1pbpn1p/1p2N3/2pP4/2N3P1/PPQ1PPBP/R4RK1 b kq - 1 12\n",
      "[(41, 'd6e5'), (247, 'a8b8'), (429, 'd8c7')]\n",
      "3r4/p2bb1pp/1k2p3/4P1PP/2PN4/2K5/P7/8 b - - 0 36\n",
      "[(-792, 'd8f8'), (-742, 'b6c5'), (-578, 'd7c6')]\n",
      "28 d6e5\n",
      "-779 d8f8\n",
      "257 a8b8\n",
      "-743 b6c5\n"
     ]
    },
    {
     "name": "stderr",
     "output_type": "stream",
     "text": [
      "192.168.102.43 - - [22/Aug/2023 14:58:19] \"POST /predict HTTP/1.1\" 200 -\n"
     ]
    },
    {
     "name": "stdout",
     "output_type": "stream",
     "text": [
      "-42 d8c7\n",
      "d8c7\n",
      "30.187902\n",
      "cache_hit 315\n",
      "cache_called 3697\n"
     ]
    },
    {
     "name": "stderr",
     "output_type": "stream",
     "text": [
      "192.168.98.46 - - [22/Aug/2023 14:58:23] \"POST /predict HTTP/1.1\" 200 -\n"
     ]
    },
    {
     "name": "stdout",
     "output_type": "stream",
     "text": [
      "-428 d7c6\n",
      "d8f8\n",
      "30.073933\n",
      "cache_hit 315\n",
      "cache_called 3699\n",
      "r1b1k2r/2q2pp1/p1Nbpn1p/1p6/2pP4/2N3P1/PPQ1PPBP/R4RK1 b kq - 0 13\n",
      "[(-213, 'c8b7'), (3, 'c8d7'), (726, 'c7c6')]\n",
      "-107 c8b7\n",
      "20 c8d7\n",
      "5r2/p2bb1pp/1k2p1P1/4P2P/2PN4/2K5/P7/8 b - - 0 37\n",
      "[(-807, 'h7h6'), (-701, 'h7g6'), (-648, 'f8b8')]\n"
     ]
    },
    {
     "name": "stderr",
     "output_type": "stream",
     "text": [
      "192.168.102.43 - - [22/Aug/2023 14:58:55] \"POST /predict HTTP/1.1\" 200 -\n"
     ]
    },
    {
     "name": "stdout",
     "output_type": "stream",
     "text": [
      "738 c7c6\n",
      "c8b7\n",
      "26.923841\n",
      "cache_hit 315\n",
      "cache_called 3715\n",
      "-825 h7h6\n",
      "-726 h7g6\n"
     ]
    },
    {
     "name": "stderr",
     "output_type": "stream",
     "text": [
      "192.168.98.46 - - [22/Aug/2023 14:59:19] \"POST /predict HTTP/1.1\" 200 -\n"
     ]
    },
    {
     "name": "stdout",
     "output_type": "stream",
     "text": [
      "-638 f8b8\n",
      "h7h6\n",
      "28.148235\n",
      "cache_hit 315\n",
      "cache_called 3725\n",
      "r3k2r/1bq2pp1/p1Nbpn1p/1p1P4/2p5/2N3P1/PPQ1PPBP/R4RK1 b kq - 0 14\n",
      "[(-184, 'f6d5'), (-58, 'c7b6'), (11, 'b7c6')]\n",
      "5r2/p2bb1p1/1k2p1Pp/4P2P/2P5/1NK5/P7/8 b - - 1 38\n",
      "[(-852, 'f8f3'), (-785, 'f8b8'), (-764, 'd7c6')]\n",
      "-186 f6d5\n",
      "-829 f8f3\n",
      "50 c7b6\n",
      "-792 f8b8\n"
     ]
    },
    {
     "name": "stderr",
     "output_type": "stream",
     "text": [
      "192.168.102.43 - - [22/Aug/2023 14:59:59] \"POST /predict HTTP/1.1\" 200 -\n"
     ]
    },
    {
     "name": "stdout",
     "output_type": "stream",
     "text": [
      "53 b7c6\n",
      "f6d5\n",
      "30.535999\n",
      "cache_hit 316\n",
      "cache_called 3748\n"
     ]
    },
    {
     "name": "stderr",
     "output_type": "stream",
     "text": [
      "192.168.98.46 - - [22/Aug/2023 15:00:07] \"POST /predict HTTP/1.1\" 200 -\n"
     ]
    },
    {
     "name": "stdout",
     "output_type": "stream",
     "text": [
      "-607 d7c6\n",
      "f8f3\n",
      "29.949641\n",
      "cache_hit 316\n",
      "cache_called 3751\n",
      "r3k2r/1bq2pp1/p2bp2p/1p1n4/2pN4/2N3P1/PPQ1PPBP/R4RK1 b kq - 1 15\n",
      "[(-241, 'd5c3'), (-148, 'a8c8'), (-38, 'b5b4')]\n",
      "8/p2bb1p1/1k2p1Pp/4P2P/2PK4/1N3r2/P7/8 b - - 3 39\n",
      "[(-857, 'f3f4'), (-598, 'f3b3'), (-436, 'f3d3')]\n",
      "-239 d5c3\n",
      "-870 f3f4\n",
      "-154 a8c8\n",
      "-632 f3b3\n"
     ]
    },
    {
     "name": "stderr",
     "output_type": "stream",
     "text": [
      "192.168.102.43 - - [22/Aug/2023 15:01:07] \"POST /predict HTTP/1.1\" 200 -\n"
     ]
    },
    {
     "name": "stdout",
     "output_type": "stream",
     "text": [
      "-24 b5b4\n",
      "d5c3\n",
      "30.094419\n",
      "cache_hit 318\n",
      "cache_called 3775\n"
     ]
    },
    {
     "name": "stderr",
     "output_type": "stream",
     "text": [
      "192.168.98.46 - - [22/Aug/2023 15:01:10] \"POST /predict HTTP/1.1\" 200 -\n"
     ]
    },
    {
     "name": "stdout",
     "output_type": "stream",
     "text": [
      "-451 f3d3\n",
      "f3f4\n",
      "27.502452\n",
      "cache_hit 318\n",
      "cache_called 3776\n",
      "8/p2bb1p1/1k2p1Pp/4P2P/2P2r2/1N2K3/P7/8 b - - 5 40\n",
      "[(-910, 'f4h4'), (-509, 'f4f3'), (-489, 'f4e4')]\n",
      "-907 f4h4\n",
      "r3k2r/1Bq2pp1/p2bp2p/1p6/2pN4/2n3P1/PPQ1PP1P/R4RK1 b kq - 0 16\n",
      "-482 f4f3\n",
      "[(-233, 'c7b7'), (-92, 'c3e2'), (512, 'c3d5')]\n"
     ]
    },
    {
     "name": "stderr",
     "output_type": "stream",
     "text": [
      "192.168.98.46 - - [22/Aug/2023 15:01:45] \"POST /predict HTTP/1.1\" 200 -\n"
     ]
    },
    {
     "name": "stdout",
     "output_type": "stream",
     "text": [
      "-464 f4e4\n",
      "f4h4\n",
      "27.570091\n",
      "cache_hit 319\n",
      "cache_called 3794\n",
      "-158 c7b7\n",
      "-104 c3e2\n",
      "8/p2bb1p1/1k2p1Pp/4P2P/2PN3r/4K3/P7/8 b - - 7 41\n",
      "[(-1207, 'e7c5'), (-632, 'h4d4'), (-487, 'h4e4')]\n"
     ]
    },
    {
     "name": "stderr",
     "output_type": "stream",
     "text": [
      "192.168.102.43 - - [22/Aug/2023 15:02:04] \"POST /predict HTTP/1.1\" 200 -\n"
     ]
    },
    {
     "name": "stdout",
     "output_type": "stream",
     "text": [
      "273 c3d5\n",
      "c7b7\n",
      "29.853889\n",
      "cache_hit 320\n",
      "cache_called 3806\n",
      "-1244 e7c5\n",
      "r3k2r/1q3pp1/p2bp2p/1p6/2pN4/2Q3P1/PP2PP1P/R4RK1 b kq - 0 17\n",
      "[(-210, 'a8c8'), (-207, 'b7e4'), (-197, 'b7d5')]\n",
      "-637 h4d4\n",
      "-211 a8c8\n"
     ]
    },
    {
     "name": "stderr",
     "output_type": "stream",
     "text": [
      "192.168.98.46 - - [22/Aug/2023 15:02:25] \"POST /predict HTTP/1.1\" 200 -\n"
     ]
    },
    {
     "name": "stdout",
     "output_type": "stream",
     "text": [
      "-399 h4e4\n",
      "e7c5\n",
      "29.736453\n",
      "cache_hit 321\n",
      "cache_called 3822\n",
      "-165 b7e4\n"
     ]
    },
    {
     "name": "stderr",
     "output_type": "stream",
     "text": [
      "192.168.102.43 - - [22/Aug/2023 15:02:39] \"POST /predict HTTP/1.1\" 200 -\n"
     ]
    },
    {
     "name": "stdout",
     "output_type": "stream",
     "text": [
      "17 b7d5\n",
      "a8c8\n",
      "28.569152\n",
      "cache_hit 321\n",
      "cache_called 3828\n",
      "8/p2b2p1/1k2p1Pp/2b1P2P/2PN3r/P3K3/8/8 b - - 0 42\n",
      "[(-1288, 'h4d4'), (-1282, 'c5d4'), (-550, 'h4e4')]\n",
      "2r1k2r/1q3pp1/p2bp2p/1p6/2pN1P2/2Q3P1/PP2P2P/R4RK1 b k f3 0 18\n",
      "[(-380, 'b7e4'), (-354, 'd6c5'), (-308, 'b7d5')]\n",
      "-1315 h4d4\n",
      "-218 b7e4\n",
      "-1346 c5d4\n",
      "-232 d6c5\n"
     ]
    },
    {
     "name": "stderr",
     "output_type": "stream",
     "text": [
      "192.168.98.46 - - [22/Aug/2023 15:03:11] \"POST /predict HTTP/1.1\" 200 -\n"
     ]
    },
    {
     "name": "stdout",
     "output_type": "stream",
     "text": [
      "-568 h4e4\n",
      "c5d4\n",
      "30.506095\n",
      "cache_hit 321\n",
      "cache_called 3851\n"
     ]
    },
    {
     "name": "stderr",
     "output_type": "stream",
     "text": [
      "192.168.102.43 - - [22/Aug/2023 15:03:18] \"POST /predict HTTP/1.1\" 200 -\n"
     ]
    },
    {
     "name": "stdout",
     "output_type": "stream",
     "text": [
      "-270 b7d5\n",
      "b7d5\n",
      "32.078957\n",
      "cache_hit 321\n",
      "cache_called 3854\n",
      "8/p2b2p1/1k2p1Pp/4P2P/2Pb3r/P7/4K3/8 b - - 1 43\n",
      "[(-3939, 'b6c5'), (-1299, 'd7c6'), (-1293, 'd7a4')]\n",
      "-3933 b6c5\n",
      "2r1k2r/5pp1/p2bp2p/1p1q4/2pN1P2/2Q3P1/PP2P2P/3R1RK1 b k - 2 19\n",
      "[(-299, 'd6c5'), (-163, 'd5e4'), (412, 'd5d4')]\n",
      "-1310 d7c6\n",
      "-253 d6c5\n"
     ]
    },
    {
     "name": "stderr",
     "output_type": "stream",
     "text": [
      "192.168.98.46 - - [22/Aug/2023 15:03:45] \"POST /predict HTTP/1.1\" 200 -\n"
     ]
    },
    {
     "name": "stdout",
     "output_type": "stream",
     "text": [
      "-1338 d7a4\n",
      "b6c5\n",
      "25.621498\n",
      "cache_hit 322\n",
      "cache_called 3873\n",
      "7 d5e4\n"
     ]
    },
    {
     "name": "stderr",
     "output_type": "stream",
     "text": [
      "192.168.102.43 - - [22/Aug/2023 15:04:01] \"POST /predict HTTP/1.1\" 200 -\n"
     ]
    },
    {
     "name": "stdout",
     "output_type": "stream",
     "text": [
      "439 d5d4\n",
      "d6c5\n",
      "28.84203\n",
      "cache_hit 322\n",
      "cache_called 3880\n",
      "8/p2b2p1/4p1Pp/2k1P2P/P1Pb3r/8/4K3/8 b - - 0 44\n",
      "[(-3948, 'a7a5'), (-3898, 'd7a4'), (-3889, 'c5c4')]\n",
      "-3944 a7a5\n",
      "-3936 d7a4\n"
     ]
    },
    {
     "name": "stderr",
     "output_type": "stream",
     "text": [
      "192.168.98.46 - - [22/Aug/2023 15:04:30] \"POST /predict HTTP/1.1\" 200 -\n"
     ]
    },
    {
     "name": "stdout",
     "output_type": "stream",
     "text": [
      "-3944 c5c4\n",
      "a7a5\n",
      "24.186003\n",
      "cache_hit 322\n",
      "cache_called 3893\n",
      "8/3b2p1/4p1Pp/p1k1P2P/P1Pb3r/8/8/5K2 b - - 1 45\n",
      "[(-3948, 'c5c4'), (-3702, 'c5b4'), (-1661, 'h4f4')]\n",
      "-3944 c5c4\n",
      "-3934 c5b4\n",
      "2r1k2r/5pp1/p3p2p/1pbq4/2pN1P2/2Q1P1P1/PP5P/3R1RK1 b k - 0 20\n",
      "[(-281, 'd5e4'), (-190, 'c5d4'), (103, 'd5d7')]\n"
     ]
    },
    {
     "name": "stderr",
     "output_type": "stream",
     "text": [
      "192.168.98.46 - - [22/Aug/2023 15:05:26] \"POST /predict HTTP/1.1\" 200 -\n"
     ]
    },
    {
     "name": "stdout",
     "output_type": "stream",
     "text": [
      "-3939 h4f4\n",
      "c5c4\n",
      "24.672099\n",
      "cache_hit 324\n",
      "cache_called 3910\n",
      "-151 d5e4\n",
      "8/3b2p1/4p1Pp/p3P2P/P1kb3r/8/8/4K3 b - - 1 46\n",
      "[(-3944, 'c4b4'), (-3939, 'd7a4'), (-3933, 'h4e4')]\n",
      "431 c5d4\n",
      "-3935 c4b4\n",
      "-4625 d7a4\n"
     ]
    },
    {
     "name": "stderr",
     "output_type": "stream",
     "text": [
      "192.168.102.43 - - [22/Aug/2023 15:05:48] \"POST /predict HTTP/1.1\" 200 -\n"
     ]
    },
    {
     "name": "stdout",
     "output_type": "stream",
     "text": [
      "314 d5d7\n",
      "d5e4\n",
      "30.699001\n",
      "cache_hit 325\n",
      "cache_called 3929\n"
     ]
    },
    {
     "name": "stderr",
     "output_type": "stream",
     "text": [
      "192.168.98.46 - - [22/Aug/2023 15:05:56] \"POST /predict HTTP/1.1\" 200 -\n"
     ]
    },
    {
     "name": "stdout",
     "output_type": "stream",
     "text": [
      "-4593 h4e4\n",
      "d7a4\n",
      "25.622995\n",
      "cache_hit 325\n",
      "cache_called 3932\n",
      "8/6p1/4p1Pp/p3P2P/b1kb3r/8/8/5K2 b - - 1 47\n",
      "[(-inf, 'h4f4'), (-4547, 'd4e5'), (-3964, 'a4b3')]\n",
      "-4596 h4f4\n",
      "2r1k2r/5pp1/p3p2p/1pb5/2pNqP2/2Q1P1P1/PP5P/3RR1K1 b k - 2 21\n",
      "-4599 d4e5\n",
      "[(-176, 'c8d8'), (-131, 'e4g6'), (-97, 'c5d4')]\n"
     ]
    },
    {
     "name": "stderr",
     "output_type": "stream",
     "text": [
      "192.168.98.46 - - [22/Aug/2023 15:06:23] \"POST /predict HTTP/1.1\" 200 -\n"
     ]
    },
    {
     "name": "stdout",
     "output_type": "stream",
     "text": [
      "-4612 a4b3\n",
      "a4b3\n",
      "23.772805\n",
      "cache_hit 326\n",
      "cache_called 3949\n",
      "-465 c8d8\n",
      "8/6p1/4p1Pp/p3P2P/2kb3r/1b6/8/4K3 b - - 3 48\n",
      "[(-4612, 'a5a4'), (-4596, 'h4e4'), (-3958, 'c4b4')]\n",
      "-122 e4g6\n",
      "-inf a5a4\n",
      "-4619 h4e4\n"
     ]
    },
    {
     "name": "stderr",
     "output_type": "stream",
     "text": [
      "192.168.102.43 - - [22/Aug/2023 15:06:45] \"POST /predict HTTP/1.1\" 200 -\n"
     ]
    },
    {
     "name": "stdout",
     "output_type": "stream",
     "text": [
      "428 c5d4\n",
      "c8d8\n",
      "32.104\n",
      "cache_hit 327\n",
      "cache_called 3968\n"
     ]
    },
    {
     "name": "stderr",
     "output_type": "stream",
     "text": [
      "192.168.98.46 - - [22/Aug/2023 15:06:50] \"POST /predict HTTP/1.1\" 200 -\n"
     ]
    },
    {
     "name": "stdout",
     "output_type": "stream",
     "text": [
      "-4573 c4b4\n",
      "a5a4\n",
      "22.166892\n",
      "cache_hit 327\n",
      "cache_called 3970\n",
      "8/6p1/4p1Pp/4P2P/p1kb3r/1b6/3K4/8 b - - 1 49\n",
      "[(-inf, 'a4a3'), (-inf, 'd4e5'), (-inf, 'd4c3')]\n",
      "-inf a4a3\n",
      "-inf d4e5\n"
     ]
    },
    {
     "name": "stderr",
     "output_type": "stream",
     "text": [
      "192.168.98.46 - - [22/Aug/2023 15:07:29] \"POST /predict HTTP/1.1\" 200 -\n"
     ]
    },
    {
     "name": "stdout",
     "output_type": "stream",
     "text": [
      "-inf d4c3\n",
      "a4a3\n",
      "20.507877\n",
      "cache_hit 328\n",
      "cache_called 3983\n",
      "8/6p1/4p1Pp/4P2P/2kb3r/pb6/8/2K5 b - - 1 50\n",
      "[(-inf, 'a3a2'), (-inf, 'c4b4'), (-4620, 'd4b2')]\n",
      "-inf a3a2\n",
      "-inf c4b4\n"
     ]
    },
    {
     "name": "stderr",
     "output_type": "stream",
     "text": [
      "192.168.98.46 - - [22/Aug/2023 15:07:43] \"POST /predict HTTP/1.1\" 200 -\n"
     ]
    },
    {
     "name": "stdout",
     "output_type": "stream",
     "text": [
      "-inf d4b2\n",
      "a3a2\n",
      "11.649945\n",
      "cache_hit 329\n",
      "cache_called 3992\n",
      "8/6p1/4p1Pp/4P2P/2kb3r/1b6/p2K4/8 b - - 1 51\n",
      "[(-inf, 'a2a1q'), (-inf, 'd4e5'), (-inf, 'c4d5')]\n",
      "-inf a2a1q\n",
      "-inf d4e5\n"
     ]
    },
    {
     "name": "stderr",
     "output_type": "stream",
     "text": [
      "192.168.98.46 - - [22/Aug/2023 15:08:01] \"POST /predict HTTP/1.1\" 200 -\n"
     ]
    },
    {
     "name": "stdout",
     "output_type": "stream",
     "text": [
      "-inf c4d5\n",
      "a2a1q\n",
      "16.493593\n",
      "cache_hit 330\n",
      "cache_called 4003\n",
      "8/6p1/4p1Pp/4P2P/2kb3r/1b6/4K3/q7 b - - 1 52\n",
      "[(-inf, 'c4b4'), (-inf, 'a1a2'), (-inf, 'a1a6')]\n",
      "-inf c4b4\n",
      "-inf a1a2\n"
     ]
    },
    {
     "name": "stderr",
     "output_type": "stream",
     "text": [
      "192.168.98.46 - - [22/Aug/2023 15:08:25] \"POST /predict HTTP/1.1\" 200 -\n"
     ]
    },
    {
     "name": "stdout",
     "output_type": "stream",
     "text": [
      "-inf a1a6\n",
      "c4b4\n",
      "20.424304\n",
      "cache_hit 331\n",
      "cache_called 4016\n",
      "8/6p1/4p1Pp/4P2P/1k1b3r/1b1K4/8/q7 b - - 3 53\n",
      "[(-inf, 'a1c3'), (-inf, 'd4e5'), (-inf, 'b3c4')]\n",
      "-inf a1c3\n",
      "-inf d4e5\n"
     ]
    },
    {
     "name": "stderr",
     "output_type": "stream",
     "text": [
      "192.168.98.46 - - [22/Aug/2023 15:08:44] \"POST /predict HTTP/1.1\" 200 -\n"
     ]
    },
    {
     "name": "stdout",
     "output_type": "stream",
     "text": [
      "-inf b3c4\n",
      "a1c3\n",
      "14.423\n",
      "cache_hit 332\n",
      "cache_called 4026\n",
      "8/6p1/4p1Pp/4P2P/1k1b3r/1bq5/4K3/8 b - - 5 54\n",
      "[(-inf, 'b4c4'), (-inf, 'h4e4'), (-inf, 'c3e3')]\n",
      "-inf b4c4\n",
      "-inf h4e4\n"
     ]
    },
    {
     "name": "stderr",
     "output_type": "stream",
     "text": [
      "192.168.98.46 - - [22/Aug/2023 15:08:54] \"POST /predict HTTP/1.1\" 200 -\n"
     ]
    },
    {
     "name": "stdout",
     "output_type": "stream",
     "text": [
      "-inf c3e3\n",
      "b4c4\n",
      "8.097033\n",
      "cache_hit 333\n",
      "cache_called 4033\n",
      "8/6p1/4p1Pp/4P2P/2kb3r/1bq5/8/5K2 b - - 7 55\n",
      "[(-inf, 'h4f4'), (-inf, 'c3f3'), (-inf, 'c3c1')]\n",
      "-inf h4f4\n",
      "-inf c3f3\n"
     ]
    },
    {
     "name": "stderr",
     "output_type": "stream",
     "text": [
      "192.168.98.46 - - [22/Aug/2023 15:09:09] \"POST /predict HTTP/1.1\" 200 -\n"
     ]
    },
    {
     "name": "stdout",
     "output_type": "stream",
     "text": [
      "-inf c3c1\n",
      "h4f4\n",
      "12.9197\n",
      "cache_hit 334\n",
      "cache_called 4042\n",
      "8/6p1/4p1Pp/4P2P/2kb1r2/1bq5/6K1/8 b - - 9 56\n",
      "[(-inf, 'f4f8'), (-inf, 'd4e5'), (-inf, 'f4f7')]\n",
      "-inf f4f8\n",
      "-inf d4e5\n"
     ]
    },
    {
     "name": "stderr",
     "output_type": "stream",
     "text": [
      "192.168.98.46 - - [22/Aug/2023 15:09:31] \"POST /predict HTTP/1.1\" 200 -\n"
     ]
    },
    {
     "name": "stdout",
     "output_type": "stream",
     "text": [
      "-3520 f4f7\n",
      "f4f8\n",
      "19.168996\n",
      "cache_hit 335\n",
      "cache_called 4054\n",
      "5r2/6p1/4p1Pp/4P2P/2kb4/1bq5/8/7K b - - 11 57\n",
      "[(-inf, 'f8c8'), (-inf, 'f8b8'), (-inf, 'c4b4')]\n",
      "-inf f8c8\n",
      "-inf f8b8\n",
      "3rk2r/5pp1/p3p2p/1pb5/1PpNqP2/2Q1P1P1/P6P/3RR1K1 b k b3 0 22\n"
     ]
    },
    {
     "name": "stderr",
     "output_type": "stream",
     "text": [
      "192.168.98.46 - - [22/Aug/2023 15:09:50] \"POST /predict HTTP/1.1\" 200 -\n"
     ]
    },
    {
     "name": "stdout",
     "output_type": "stream",
     "text": [
      "-inf c4b4\n",
      "f8c8\n",
      "14.663993\n",
      "cache_hit 336\n",
      "cache_called 4065\n",
      "[(-196, 'c5d4'), (437, 'd8d4'), (651, 'e4c6')]\n",
      "2r5/6p1/4p1Pp/4P2P/2kb4/1bq5/6K1/8 b - - 13 58\n",
      "[(-inf, 'c4b4'), (-inf, 'c8f8'), (-inf, 'c4d5')]\n",
      "390 c5d4\n",
      "-inf c4b4\n",
      "-inf c8f8\n",
      "-234 d8d4\n"
     ]
    },
    {
     "name": "stderr",
     "output_type": "stream",
     "text": [
      "192.168.98.46 - - [22/Aug/2023 15:10:17] \"POST /predict HTTP/1.1\" 200 -\n"
     ]
    },
    {
     "name": "stdout",
     "output_type": "stream",
     "text": [
      "-inf c4d5\n",
      "c4b4\n",
      "21.661054\n",
      "cache_hit 337\n",
      "cache_called 4089\n"
     ]
    },
    {
     "name": "stderr",
     "output_type": "stream",
     "text": [
      "192.168.102.43 - - [22/Aug/2023 15:10:18] \"POST /predict HTTP/1.1\" 200 -\n"
     ]
    },
    {
     "name": "stdout",
     "output_type": "stream",
     "text": [
      "638 e4c6\n",
      "d8d4\n",
      "30.773216\n",
      "cache_hit 337\n",
      "cache_called 4089\n",
      "2r5/6p1/4p1Pp/4P2P/1k1b4/1bq5/8/5K2 b - - 15 59\n",
      "[(-inf, 'c8f8'), (-inf, 'c8b8'), (-inf, 'c8c4')]\n",
      "-inf c8f8\n",
      "4k2r/5pp1/p3p2p/1pb5/1PpPqP2/2Q3P1/P6P/3RR1K1 b k - 0 23\n",
      "[(461, 'c5d4'), (497, 'e4e1'), (517, 'e4d4')]\n",
      "-inf c8b8\n"
     ]
    },
    {
     "name": "stderr",
     "output_type": "stream",
     "text": [
      "192.168.98.46 - - [22/Aug/2023 15:10:37] \"POST /predict HTTP/1.1\" 200 -\n"
     ]
    },
    {
     "name": "stdout",
     "output_type": "stream",
     "text": [
      "-inf c8c4\n",
      "c8f8\n",
      "15.763704\n",
      "cache_hit 338\n",
      "cache_called 4103\n",
      "498 c5d4\n",
      "5r2/6p1/4p1Pp/4P2P/1k1b4/1bq5/6K1/8 b - - 17 60\n",
      "[(-inf, 'f8c8'), (-inf, 'f8b8'), (-inf, 'd4e5')]\n",
      "-inf f8c8\n",
      "500 e4e1\n",
      "-inf f8b8\n"
     ]
    },
    {
     "name": "stderr",
     "output_type": "stream",
     "text": [
      "192.168.102.43 - - [22/Aug/2023 15:11:01] \"POST /predict HTTP/1.1\" 200 -\n"
     ]
    },
    {
     "name": "stdout",
     "output_type": "stream",
     "text": [
      "504 e4d4\n",
      "c5d4\n",
      "32.359997\n",
      "cache_hit 339\n",
      "cache_called 4124\n"
     ]
    },
    {
     "name": "stderr",
     "output_type": "stream",
     "text": [
      "192.168.98.46 - - [22/Aug/2023 15:11:02] \"POST /predict HTTP/1.1\" 200 -\n"
     ]
    },
    {
     "name": "stdout",
     "output_type": "stream",
     "text": [
      "-inf d4e5\n",
      "f8c8\n",
      "20.656997\n",
      "cache_hit 339\n",
      "cache_called 4124\n",
      "2r5/6p1/4p1Pp/4P2P/1k1b4/1bq5/8/5K2 b - - 19 61\n",
      "[(-inf, 'c8f8'), (-inf, 'c8b8'), (-inf, 'c8c4')]\n",
      "-inf c8f8\n",
      "-inf c8b8\n"
     ]
    },
    {
     "name": "stderr",
     "output_type": "stream",
     "text": [
      "192.168.98.46 - - [22/Aug/2023 15:11:18] \"POST /predict HTTP/1.1\" 200 -\n"
     ]
    },
    {
     "name": "stdout",
     "output_type": "stream",
     "text": [
      "-inf c8c4\n",
      "c8f8\n",
      "13.462666\n",
      "cache_hit 340\n",
      "cache_called 4134\n",
      "4k2r/5pp1/p3p2p/1p6/1PpRqP2/2Q3P1/P6P/4R1K1 b k - 0 24\n",
      "[(504, 'e4d4'), (537, 'e4e1'), (710, 'e4g2')]\n",
      "5r2/6p1/4p1Pp/4P2P/1k1b4/1bq5/6K1/8 b - - 21 62\n",
      "[(-inf, 'f8c8'), (-inf, 'f8b8'), (-inf, 'd4e5')]\n",
      "-inf f8c8\n",
      "643 e4d4\n",
      "-inf f8b8\n",
      "537 e4e1\n"
     ]
    },
    {
     "name": "stderr",
     "output_type": "stream",
     "text": [
      "192.168.102.43 - - [22/Aug/2023 15:11:43] \"POST /predict HTTP/1.1\" 200 -\n"
     ]
    },
    {
     "name": "stdout",
     "output_type": "stream",
     "text": [
      "779 e4g2\n",
      "e4e1\n",
      "22.724003\n",
      "cache_hit 342\n",
      "cache_called 4156\n"
     ]
    },
    {
     "name": "stderr",
     "output_type": "stream",
     "text": [
      "192.168.98.46 - - [22/Aug/2023 15:11:43] \"POST /predict HTTP/1.1\" 200 -\n"
     ]
    },
    {
     "name": "stdout",
     "output_type": "stream",
     "text": [
      "-inf d4e5\n",
      "f8c8\n",
      "21.621001\n",
      "cache_hit 342\n",
      "cache_called 4156\n",
      "4k2r/5pp1/p3p2p/1p6/1PpR1P2/6P1/P6P/4Q1K1 b k - 0 25\n",
      "[(537, 'c4c3'), (562, 'e8e7'), (666, 'e8f8')]\n",
      "633 c4c3\n",
      "503 e8e7\n"
     ]
    },
    {
     "name": "stderr",
     "output_type": "stream",
     "text": [
      "192.168.102.43 - - [22/Aug/2023 15:12:12] \"POST /predict HTTP/1.1\" 200 -\n"
     ]
    },
    {
     "name": "stdout",
     "output_type": "stream",
     "text": [
      "670 e8f8\n",
      "e8e7\n",
      "24.776956\n",
      "cache_hit 343\n",
      "cache_called 4169\n",
      "7r/4kpp1/p3p2p/1p2Q3/1PpR1P2/6P1/P6P/6K1 b - - 2 26\n",
      "[(688, 'h8d8'), (inf, 'f7f6'), (inf, 'e7f8')]\n",
      "529 h8d8\n",
      "inf f7f6\n"
     ]
    },
    {
     "name": "stderr",
     "output_type": "stream",
     "text": [
      "192.168.102.43 - - [22/Aug/2023 15:12:34] \"POST /predict HTTP/1.1\" 200 -\n"
     ]
    },
    {
     "name": "stdout",
     "output_type": "stream",
     "text": [
      "inf e7f8\n",
      "h8d8\n",
      "17.900523\n",
      "cache_hit 343\n",
      "cache_called 4179\n",
      "3R4/4kpp1/p3p2p/1p2Q3/1Pp2P2/6P1/P6P/6K1 b - - 0 27\n",
      "[(529, 'e7d8'), (inf, 'f7f6'), (inf, 'g7g5')]\n",
      "542 e7d8\n",
      "inf f7f6\n"
     ]
    },
    {
     "name": "stderr",
     "output_type": "stream",
     "text": [
      "192.168.102.43 - - [22/Aug/2023 15:12:56] \"POST /predict HTTP/1.1\" 200 -\n"
     ]
    },
    {
     "name": "stdout",
     "output_type": "stream",
     "text": [
      "inf g7g5\n",
      "e7d8\n",
      "14.949038\n",
      "cache_hit 344\n",
      "cache_called 4188\n",
      "3k4/5pp1/p2Qp2p/1p6/1Pp2P2/6P1/P6P/6K1 b - - 1 28\n",
      "[(542, 'd8c8'), (546, 'd8e8')]\n",
      "525 d8c8\n"
     ]
    },
    {
     "name": "stderr",
     "output_type": "stream",
     "text": [
      "192.168.102.43 - - [22/Aug/2023 15:13:14] \"POST /predict HTTP/1.1\" 200 -\n"
     ]
    },
    {
     "name": "stdout",
     "output_type": "stream",
     "text": [
      "548 d8e8\n",
      "d8c8\n",
      "15.236691\n",
      "cache_hit 345\n",
      "cache_called 4197\n",
      "2k5/5pp1/Q3p2p/1p6/1Pp2P2/6P1/P6P/6K1 b - - 0 29\n",
      "[(553, 'c8d8'), (577, 'c8b8'), (979, 'c8d7')]\n",
      "552 c8d8\n",
      "552 c8b8\n"
     ]
    },
    {
     "name": "stderr",
     "output_type": "stream",
     "text": [
      "192.168.102.43 - - [22/Aug/2023 15:13:41] \"POST /predict HTTP/1.1\" 200 -\n"
     ]
    },
    {
     "name": "stdout",
     "output_type": "stream",
     "text": [
      "656 c8d7\n",
      "c8d8\n",
      "25.428457\n",
      "cache_hit 345\n",
      "cache_called 4210\n",
      "3k4/5pp1/4p2p/1Q6/1Pp2P2/6P1/P6P/6K1 b - - 0 30\n",
      "[(583, 'c4c3'), (591, 'd8c8'), (656, 'd8e7')]\n",
      "970 c4c3\n",
      "596 d8c8\n"
     ]
    },
    {
     "name": "stderr",
     "output_type": "stream",
     "text": [
      "192.168.102.43 - - [22/Aug/2023 15:14:23] \"POST /predict HTTP/1.1\" 200 -\n"
     ]
    },
    {
     "name": "stdout",
     "output_type": "stream",
     "text": [
      "1183 d8e7\n",
      "d8c8\n",
      "26.33139\n",
      "cache_hit 345\n",
      "cache_called 4223\n",
      "2k5/5pp1/4p2p/1Q6/PPp2P2/6P1/7P/6K1 b - a3 0 31\n",
      "[(634, 'c4c3'), (1103, 'c8d8'), (1185, 'c8c7')]\n",
      "1289 c4c3\n",
      "1353 c8d8\n"
     ]
    },
    {
     "name": "stderr",
     "output_type": "stream",
     "text": [
      "192.168.102.43 - - [22/Aug/2023 15:15:15] \"POST /predict HTTP/1.1\" 200 -\n"
     ]
    },
    {
     "name": "stdout",
     "output_type": "stream",
     "text": [
      "1340 c8c7\n",
      "c4c3\n",
      "25.523956\n",
      "cache_hit 345\n",
      "cache_called 4236\n",
      "2k5/5pp1/4p2p/8/PPQ2P2/2p3P1/7P/6K1 b - - 1 32\n",
      "[(1002, 'c8d7'), (1162, 'c8d8'), (4560, 'c8b7')]\n",
      "1387 c8d7\n",
      "1180 c8d8\n"
     ]
    },
    {
     "name": "stderr",
     "output_type": "stream",
     "text": [
      "192.168.102.43 - - [22/Aug/2023 15:15:43] \"POST /predict HTTP/1.1\" 200 -\n"
     ]
    },
    {
     "name": "stdout",
     "output_type": "stream",
     "text": [
      "1396 c8b7\n",
      "c8d8\n",
      "25.499967\n",
      "cache_hit 346\n",
      "cache_called 4249\n",
      "3k4/5pp1/4p2p/8/PP3P2/2Q3P1/7P/6K1 b - - 0 33\n",
      "[(1180, 'd8d7'), (1328, 'd8e8'), (1472, 'd8e7')]\n",
      "1203 d8d7\n",
      "1371 d8e8\n"
     ]
    },
    {
     "name": "stderr",
     "output_type": "stream",
     "text": [
      "192.168.102.43 - - [22/Aug/2023 15:16:08] \"POST /predict HTTP/1.1\" 200 -\n"
     ]
    },
    {
     "name": "stdout",
     "output_type": "stream",
     "text": [
      "1376 d8e7\n",
      "d8d7\n",
      "23.201998\n",
      "cache_hit 347\n",
      "cache_called 4262\n",
      "8/3k1pp1/4p2p/P7/1P3P2/2Q3P1/7P/6K1 b - - 0 34\n",
      "[(4534, 'd7e7'), (inf, 'd7d6'), (inf, 'd7e8')]\n",
      "4486 d7e7\n",
      "inf d7d6\n"
     ]
    },
    {
     "name": "stderr",
     "output_type": "stream",
     "text": [
      "192.168.102.43 - - [22/Aug/2023 15:16:33] \"POST /predict HTTP/1.1\" 200 -\n"
     ]
    },
    {
     "name": "stdout",
     "output_type": "stream",
     "text": [
      "1600 d7e8\n",
      "d7e8\n",
      "19.900038\n",
      "cache_hit 347\n",
      "cache_called 4273\n",
      "4k3/5pp1/P3p2p/8/1P3P2/2Q3P1/7P/6K1 b - - 0 35\n",
      "[(inf, 'e8f8'), (inf, 'e8e7'), (inf, 'e8d7')]\n",
      "inf e8f8\n",
      "inf e8e7\n"
     ]
    },
    {
     "name": "stderr",
     "output_type": "stream",
     "text": [
      "192.168.102.43 - - [22/Aug/2023 15:16:47] \"POST /predict HTTP/1.1\" 200 -\n"
     ]
    },
    {
     "name": "stdout",
     "output_type": "stream",
     "text": [
      "inf e8d7\n",
      "e8f8\n",
      "12.88003\n",
      "cache_hit 347\n",
      "cache_called 4280\n",
      "5k2/P4pp1/4p2p/8/1P3P2/2Q3P1/7P/6K1 b - - 0 36\n",
      "[(inf, 'f8e7'), (inf, 'f8g8'), (inf, 'f8e8')]\n",
      "inf f8e7\n",
      "inf f8g8\n"
     ]
    },
    {
     "name": "stderr",
     "output_type": "stream",
     "text": [
      "192.168.102.43 - - [22/Aug/2023 15:17:01] \"POST /predict HTTP/1.1\" 200 -\n"
     ]
    },
    {
     "name": "stdout",
     "output_type": "stream",
     "text": [
      "inf f8e8\n",
      "f8e7\n",
      "10.784816\n",
      "cache_hit 347\n",
      "cache_called 4287\n",
      "Q7/4kpp1/4p2p/8/1P3P2/2Q3P1/7P/6K1 b - - 0 37\n",
      "[(inf, 'e7d6'), (inf, 'e7d7'), (inf, 'f7f5')]\n",
      "inf e7d6\n",
      "inf e7d7\n"
     ]
    },
    {
     "name": "stderr",
     "output_type": "stream",
     "text": [
      "192.168.102.43 - - [22/Aug/2023 15:17:15] \"POST /predict HTTP/1.1\" 200 -\n"
     ]
    },
    {
     "name": "stdout",
     "output_type": "stream",
     "text": [
      "inf f7f5\n",
      "e7d6\n",
      "11.954861\n",
      "cache_hit 347\n",
      "cache_called 4294\n",
      "Q7/5pp1/3kp2p/1P6/5P2/2Q3P1/7P/6K1 b - - 0 38\n",
      "[(inf, 'd6d7'), (inf, 'd6e7'), (inf, 'e6e5')]\n",
      "inf d6d7\n",
      "inf d6e7\n"
     ]
    },
    {
     "name": "stderr",
     "output_type": "stream",
     "text": [
      "192.168.102.43 - - [22/Aug/2023 15:17:35] \"POST /predict HTTP/1.1\" 200 -\n"
     ]
    },
    {
     "name": "stdout",
     "output_type": "stream",
     "text": [
      "inf e6e5\n",
      "d6d7\n",
      "11.0976\n",
      "cache_hit 347\n",
      "cache_called 4301\n",
      "Q7/3k1pp1/1P2p2p/8/5P2/2Q3P1/7P/6K1 b - - 0 39\n",
      "[(inf, 'd7e7'), (inf, 'd7d6'), (inf, 'e6e5')]\n",
      "inf d7e7\n",
      "inf d7d6\n"
     ]
    },
    {
     "name": "stderr",
     "output_type": "stream",
     "text": [
      "192.168.102.43 - - [22/Aug/2023 15:17:49] \"POST /predict HTTP/1.1\" 200 -\n"
     ]
    },
    {
     "name": "stdout",
     "output_type": "stream",
     "text": [
      "inf e6e5\n",
      "d7e7\n",
      "10.789123\n",
      "cache_hit 347\n",
      "cache_called 4308\n",
      "Q7/1P2kpp1/4p2p/8/5P2/2Q3P1/7P/6K1 b - - 0 40\n",
      "[(inf, 'e7d6'), (inf, 'e7d7'), (inf, 'f7f6')]\n",
      "inf e7d6\n",
      "inf e7d7\n"
     ]
    },
    {
     "name": "stderr",
     "output_type": "stream",
     "text": [
      "192.168.102.43 - - [22/Aug/2023 15:18:01] \"POST /predict HTTP/1.1\" 200 -\n"
     ]
    },
    {
     "name": "stdout",
     "output_type": "stream",
     "text": [
      "inf f7f6\n",
      "e7d6\n",
      "11.157223\n",
      "cache_hit 347\n",
      "cache_called 4315\n",
      "QQ6/5pp1/3kp2p/8/5P2/2Q3P1/7P/6K1 b - - 0 41\n",
      "[(inf, 'd6d7'), (inf, 'd6e7')]\n",
      "inf d6d7\n"
     ]
    },
    {
     "name": "stderr",
     "output_type": "stream",
     "text": [
      "192.168.102.43 - - [22/Aug/2023 15:18:11] \"POST /predict HTTP/1.1\" 200 -\n"
     ]
    },
    {
     "name": "stdout",
     "output_type": "stream",
     "text": [
      "inf d6e7\n",
      "d6d7\n",
      "7.720889\n",
      "cache_hit 347\n",
      "cache_called 4320\n",
      "rnbqkbnr/pppppppp/8/8/8/8/PPPPPPPP/RNBQKBNR w KQkq - 0 1\n",
      "[(33, 'e2e4'), (30, 'd2d4'), (28, 'g1f3')]\n",
      "33 e2e4\n",
      "30 d2d4\n"
     ]
    },
    {
     "name": "stderr",
     "output_type": "stream",
     "text": [
      "192.168.102.43 - - [22/Aug/2023 15:18:59] \"POST /predict HTTP/1.1\" 200 -\n"
     ]
    },
    {
     "name": "stdout",
     "output_type": "stream",
     "text": [
      "28 g1f3\n",
      "e2e4\n",
      "1.54039\n",
      "cache_hit 348\n",
      "cache_called 4321\n",
      "rnbqkbnr/pp1ppppp/2p5/8/4P3/8/PPPP1PPP/RNBQKBNR w KQkq - 0 2\n",
      "[(21, 'd2d4')]\n"
     ]
    },
    {
     "name": "stderr",
     "output_type": "stream",
     "text": [
      "192.168.102.43 - - [22/Aug/2023 15:19:02] \"POST /predict HTTP/1.1\" 200 -\n"
     ]
    },
    {
     "name": "stdout",
     "output_type": "stream",
     "text": [
      "21 d2d4\n",
      "d2d4\n",
      "1.428975\n",
      "cache_hit 348\n",
      "cache_called 4322\n",
      "rnbqkbnr/pp2pppp/2p5/3p4/3PP3/8/PPP2PPP/RNBQKBNR w KQkq d6 0 3\n",
      "[(17, 'e4d5')]\n"
     ]
    },
    {
     "name": "stderr",
     "output_type": "stream",
     "text": [
      "192.168.102.43 - - [22/Aug/2023 15:19:05] \"POST /predict HTTP/1.1\" 200 -\n"
     ]
    },
    {
     "name": "stdout",
     "output_type": "stream",
     "text": [
      "17 e4d5\n",
      "e4d5\n",
      "1.66703\n",
      "cache_hit 348\n",
      "cache_called 4323\n",
      "rnbqkbnr/pp2pppp/8/3p4/3P4/8/PPP2PPP/RNBQKBNR w KQkq - 0 4\n",
      "[(25, 'c2c4')]\n"
     ]
    },
    {
     "name": "stderr",
     "output_type": "stream",
     "text": [
      "192.168.102.43 - - [22/Aug/2023 15:19:08] \"POST /predict HTTP/1.1\" 200 -\n"
     ]
    },
    {
     "name": "stdout",
     "output_type": "stream",
     "text": [
      "25 c2c4\n",
      "c2c4\n",
      "1.446031\n",
      "cache_hit 348\n",
      "cache_called 4324\n",
      "rnbqkb1r/pp2pppp/5n2/3p4/2PP4/8/PP3PPP/RNBQKBNR w KQkq - 1 5\n",
      "[(18, 'b1c3'), (17, 'c4d5')]\n",
      "25 b1c3\n"
     ]
    },
    {
     "name": "stderr",
     "output_type": "stream",
     "text": [
      "192.168.102.43 - - [22/Aug/2023 15:19:19] \"POST /predict HTTP/1.1\" 200 -\n"
     ]
    },
    {
     "name": "stdout",
     "output_type": "stream",
     "text": [
      "20 c4d5\n",
      "b1c3\n",
      "5.506976\n",
      "cache_hit 348\n",
      "cache_called 4327\n",
      "rnbqkb1r/pp2pp1p/5np1/3p4/2PP4/2N5/PP3PPP/R1BQKBNR w KQkq - 0 6\n",
      "[(25, 'c4d5'), (0, 'g1f3')]\n",
      "30 c4d5\n"
     ]
    },
    {
     "name": "stderr",
     "output_type": "stream",
     "text": [
      "192.168.102.43 - - [22/Aug/2023 15:19:28] \"POST /predict HTTP/1.1\" 200 -\n"
     ]
    },
    {
     "name": "stdout",
     "output_type": "stream",
     "text": [
      "1 g1f3\n",
      "c4d5\n",
      "5.562981\n",
      "cache_hit 348\n",
      "cache_called 4330\n",
      "rnbqkb1r/pp2pp1p/6p1/3n4/3P4/2N5/PP3PPP/R1BQKBNR w KQkq - 0 7\n",
      "[(35, 'f1c4'), (2, 'g1f3')]\n",
      "59 f1c4\n"
     ]
    },
    {
     "name": "stderr",
     "output_type": "stream",
     "text": [
      "192.168.102.43 - - [22/Aug/2023 15:19:36] \"POST /predict HTTP/1.1\" 200 -\n"
     ]
    },
    {
     "name": "stdout",
     "output_type": "stream",
     "text": [
      "19 g1f3\n",
      "f1c4\n",
      "5.363018\n",
      "cache_hit 348\n",
      "cache_called 4333\n",
      "rnbqkb1r/pp2pp1p/6p1/8/2BP4/2n5/PP3PPP/R1BQK1NR w KQkq - 0 8\n",
      "[(30, 'd1f3'), (7, 'b2c3')]\n",
      "416 d1f3\n"
     ]
    },
    {
     "name": "stderr",
     "output_type": "stream",
     "text": [
      "192.168.102.43 - - [22/Aug/2023 15:19:46] \"POST /predict HTTP/1.1\" 200 -\n"
     ]
    },
    {
     "name": "stdout",
     "output_type": "stream",
     "text": [
      "8 b2c3\n",
      "d1f3\n",
      "5.25168\n",
      "cache_hit 348\n",
      "cache_called 4336\n",
      "rnbqkb1r/pp2p2p/6p1/5p2/2BP4/2n2Q2/PP3PPP/R1B1K1NR w KQkq f6 0 9\n",
      "[(183, 'b2c3'), (-422, 'c4f7')]\n",
      "183 b2c3\n"
     ]
    },
    {
     "name": "stderr",
     "output_type": "stream",
     "text": [
      "192.168.102.43 - - [22/Aug/2023 15:20:16] \"POST /predict HTTP/1.1\" 200 -\n"
     ]
    },
    {
     "name": "stdout",
     "output_type": "stream",
     "text": [
      "-414 c4f7\n",
      "b2c3\n",
      "5.285862\n",
      "cache_hit 348\n",
      "cache_called 4339\n",
      "rnb1kb1r/pp2p2p/6p1/q4p2/2BP4/2P2Q2/P4PPP/R1B1K1NR w KQkq - 1 10\n",
      "[(289, 'g1h3'), (246, 'g1e2'), (207, 'c1d2')]\n",
      "-516 g1h3\n",
      "265 g1e2\n"
     ]
    },
    {
     "name": "stderr",
     "output_type": "stream",
     "text": [
      "192.168.102.43 - - [22/Aug/2023 15:20:56] \"POST /predict HTTP/1.1\" 200 -\n"
     ]
    },
    {
     "name": "stdout",
     "output_type": "stream",
     "text": [
      "-376 c1d2\n",
      "g1e2\n",
      "26.368983\n",
      "cache_hit 348\n",
      "cache_called 4352\n",
      "r1b1kb1r/pp2p2p/2n3p1/q4p2/2BP4/2P2Q2/P3NPPP/R1B1K2R w KQkq - 3 11\n",
      "[(275, 'e1g1'), (199, 'c1d2'), (35, 'f3d5')]\n",
      "289 e1g1\n",
      "185 c1d2\n"
     ]
    },
    {
     "name": "stderr",
     "output_type": "stream",
     "text": [
      "192.168.102.43 - - [22/Aug/2023 15:21:23] \"POST /predict HTTP/1.1\" 200 -\n"
     ]
    },
    {
     "name": "stdout",
     "output_type": "stream",
     "text": [
      "35 f3d5\n",
      "e1g1\n",
      "24.508961\n",
      "cache_hit 349\n",
      "cache_called 4365\n",
      "r1b1kb1r/pp5p/2n1p1p1/q4p2/2BP4/2P2Q2/P3NPPP/R1B2RK1 w kq - 0 12\n",
      "[(372, 'e2f4'), (248, 'c1d2'), (-259, 'c1a3')]\n",
      "-10 e2f4\n",
      "273 c1d2\n"
     ]
    },
    {
     "name": "stderr",
     "output_type": "stream",
     "text": [
      "192.168.102.43 - - [22/Aug/2023 15:22:07] \"POST /predict HTTP/1.1\" 200 -\n"
     ]
    },
    {
     "name": "stdout",
     "output_type": "stream",
     "text": [
      "-276 c1a3\n",
      "c1d2\n",
      "26.360235\n",
      "cache_hit 349\n",
      "cache_called 4378\n",
      "r1b1k2r/pp4bp/2n1p1p1/q4p2/2BP4/2P2Q2/P2BNPPP/R4RK1 w kq - 2 13\n",
      "[(325, 'e2f4'), (222, 'a1b1'), (98, 'c4d3')]\n",
      "547 e2f4\n",
      "274 a1b1\n"
     ]
    },
    {
     "name": "stderr",
     "output_type": "stream",
     "text": [
      "192.168.102.43 - - [22/Aug/2023 15:22:49] \"POST /predict HTTP/1.1\" 200 -\n"
     ]
    },
    {
     "name": "stdout",
     "output_type": "stream",
     "text": [
      "116 c4d3\n",
      "e2f4\n",
      "25.220945\n",
      "cache_hit 350\n",
      "cache_called 4391\n",
      "r1b2rk1/pp4bp/2n1p1p1/q4p2/2BP1N2/2P2Q2/P2B1PPP/R4RK1 w - - 4 14\n",
      "[(330, 'f4e6'), (242, 'c4e6'), (42, 'c4d3')]\n",
      "321 f4e6\n",
      "259 c4e6\n"
     ]
    },
    {
     "name": "stderr",
     "output_type": "stream",
     "text": [
      "192.168.102.43 - - [22/Aug/2023 15:23:22] \"POST /predict HTTP/1.1\" 200 -\n"
     ]
    },
    {
     "name": "stdout",
     "output_type": "stream",
     "text": [
      "-28 c4d3\n",
      "f4e6\n",
      "25.170972\n",
      "cache_hit 350\n",
      "cache_called 4404\n",
      "r4rk1/pp4bp/2n1b1p1/q4p2/2BP4/2P2Q2/P2B1PPP/R4RK1 w - - 0 15\n",
      "[(321, 'c4e6'), (-339, 'c4d3'), (-505, 'd4d5')]\n",
      "131 c4e6\n",
      "-410 c4d3\n"
     ]
    },
    {
     "name": "stderr",
     "output_type": "stream",
     "text": [
      "192.168.102.43 - - [22/Aug/2023 15:23:53] \"POST /predict HTTP/1.1\" 200 -\n"
     ]
    },
    {
     "name": "stdout",
     "output_type": "stream",
     "text": [
      "-471 d4d5\n",
      "c4e6\n",
      "21.583789\n",
      "cache_hit 351\n",
      "cache_called 4416\n",
      "r4r1k/pp4bp/2n1B1p1/q4p2/3P4/2P2Q2/P2B1PPP/R4RK1 w - - 1 16\n",
      "[(131, 'a1b1'), (52, 'e6c4'), (-318, 'd2h6')]\n",
      "110 a1b1\n",
      "153 e6c4\n"
     ]
    },
    {
     "name": "stderr",
     "output_type": "stream",
     "text": [
      "192.168.102.43 - - [22/Aug/2023 15:24:42] \"POST /predict HTTP/1.1\" 200 -\n"
     ]
    },
    {
     "name": "stdout",
     "output_type": "stream",
     "text": [
      "260 d2h6\n",
      "d2h6\n",
      "24.025416\n",
      "cache_hit 352\n",
      "cache_called 4429\n",
      "r4r1k/pp5p/2n1B1pb/q4p2/3P4/2P2Q2/P4PPP/R4RK1 w - - 0 17\n",
      "[(-307, 'a1b1'), (-360, 'f1b1'), (-607, 'e6f5')]\n",
      "-380 a1b1\n",
      "-382 f1b1\n"
     ]
    },
    {
     "name": "stderr",
     "output_type": "stream",
     "text": [
      "192.168.102.43 - - [22/Aug/2023 15:25:19] \"POST /predict HTTP/1.1\" 200 -\n"
     ]
    },
    {
     "name": "stdout",
     "output_type": "stream",
     "text": [
      "-734 e6f5\n",
      "a1b1\n",
      "23.930373\n",
      "cache_hit 352\n",
      "cache_called 4442\n",
      "r4r1k/p6p/1pn1B1pb/q4p2/3P4/2P2Q2/P4PPP/1R3RK1 w - - 0 18\n",
      "[(-353, 'e6c4'), (-401, 'e6d7'), (-578, 'e6f5')]\n",
      "-22 e6c4\n",
      "1 e6d7\n"
     ]
    },
    {
     "name": "stderr",
     "output_type": "stream",
     "text": [
      "192.168.102.43 - - [22/Aug/2023 15:26:29] \"POST /predict HTTP/1.1\" 200 -\n"
     ]
    },
    {
     "name": "stdout",
     "output_type": "stream",
     "text": [
      "-396 e6f5\n",
      "e6d7\n",
      "24.833367\n",
      "cache_hit 352\n",
      "cache_called 4455\n",
      "r2n1r1k/p2B3p/1p4pb/q4p2/3P4/2P2Q2/P4PPP/1R3RK1 w - - 2 19\n",
      "[(-291, 'b1e1'), (-366, 'b1d1'), (-902, 'f3d5')]\n",
      "32 b1e1\n",
      "62 b1d1\n"
     ]
    },
    {
     "name": "stderr",
     "output_type": "stream",
     "text": [
      "192.168.102.43 - - [22/Aug/2023 15:27:44] \"POST /predict HTTP/1.1\" 200 -\n"
     ]
    },
    {
     "name": "stdout",
     "output_type": "stream",
     "text": [
      "-943 f3d5\n",
      "b1d1\n",
      "23.944756\n",
      "cache_hit 352\n",
      "cache_called 4468\n",
      "r4r1k/p2B1n1p/1p4pb/q4p2/3P4/2P2Q2/P4PPP/3R1RK1 w - - 4 20\n",
      "[(-385, 'f1e1'), (-446, 'f3g3'), (-929, 'f3d5')]\n",
      "-581 f1e1\n",
      "-645 f3g3\n"
     ]
    },
    {
     "name": "stderr",
     "output_type": "stream",
     "text": [
      "192.168.102.43 - - [22/Aug/2023 15:28:28] \"POST /predict HTTP/1.1\" 200 -\n"
     ]
    },
    {
     "name": "stdout",
     "output_type": "stream",
     "text": [
      "-947 f3d5\n",
      "f1e1\n",
      "23.597836\n",
      "cache_hit 352\n",
      "cache_called 4481\n",
      "r4r1k/p2B3p/1p4pb/q4pn1/3P4/2P2Q2/P4PPP/3RR1K1 w - - 6 21\n",
      "[(-393, 'f3g3'), (-398, 'f3e3'), (-902, 'f3d5')]\n",
      "-403 f3g3\n",
      "-383 f3e3\n"
     ]
    },
    {
     "name": "stderr",
     "output_type": "stream",
     "text": [
      "192.168.102.43 - - [22/Aug/2023 15:29:01] \"POST /predict HTTP/1.1\" 200 -\n"
     ]
    },
    {
     "name": "stdout",
     "output_type": "stream",
     "text": [
      "-907 f3d5\n",
      "f3e3\n",
      "22.881011\n",
      "cache_hit 353\n",
      "cache_called 4494\n",
      "r4r1k/p2B3p/1p4pb/q5n1/3P1p2/2P1Q3/P4PPP/3RR1K1 w - - 0 22\n",
      "[(-231, 'e3e7'), (-288, 'e3e5'), (-319, 'e3d3')]\n",
      "-337 e3e7\n",
      "-325 e3e5\n"
     ]
    },
    {
     "name": "stderr",
     "output_type": "stream",
     "text": [
      "192.168.102.43 - - [22/Aug/2023 15:32:12] \"POST /predict HTTP/1.1\" 200 -\n"
     ]
    },
    {
     "name": "stdout",
     "output_type": "stream",
     "text": [
      "-397 e3d3\n",
      "e3e5\n",
      "23.443962\n",
      "cache_hit 354\n",
      "cache_called 4507\n",
      "r4r1k/p2B3p/1p4pb/4q1n1/3P1p2/2P5/P4PPP/3RR1K1 w - - 0 23\n",
      "[(-20, 'd4e5'), (-314, 'e1e5'), (-884, 'd7g4')]\n",
      "-380 d4e5\n",
      "-460 e1e5\n"
     ]
    },
    {
     "name": "stderr",
     "output_type": "stream",
     "text": [
      "192.168.102.43 - - [22/Aug/2023 15:32:51] \"POST /predict HTTP/1.1\" 200 -\n"
     ]
    },
    {
     "name": "stdout",
     "output_type": "stream",
     "text": [
      "-907 d7g4\n",
      "d4e5\n",
      "23.912115\n",
      "cache_hit 355\n",
      "cache_called 4520\n",
      "r4r1k/p2B3p/1p4pb/4P1n1/8/2P2p2/P4PPP/3RR1K1 w - - 0 24\n",
      "[(-235, 'd7g4'), (-387, 'd7b5'), (-512, 'd7h3')]\n",
      "-202 d7g4\n",
      "-349 d7b5\n"
     ]
    },
    {
     "name": "stderr",
     "output_type": "stream",
     "text": [
      "192.168.102.43 - - [22/Aug/2023 15:33:17] \"POST /predict HTTP/1.1\" 200 -\n"
     ]
    },
    {
     "name": "stdout",
     "output_type": "stream",
     "text": [
      "-525 d7h3\n",
      "d7g4\n",
      "22.975185\n",
      "cache_hit 356\n",
      "cache_called 4533\n",
      "r4r1k/p6p/1p4pb/4P1n1/6B1/2P5/P4PpP/3RR1K1 w - - 0 25\n",
      "[(-202, 'g1g2'), (-376, 'd1d7'), (-686, 'd1d8')]\n",
      "-17 g1g2\n",
      "-412 d1d7\n"
     ]
    },
    {
     "name": "stderr",
     "output_type": "stream",
     "text": [
      "192.168.102.43 - - [22/Aug/2023 15:33:45] \"POST /predict HTTP/1.1\" 200 -\n"
     ]
    },
    {
     "name": "stdout",
     "output_type": "stream",
     "text": [
      "-665 d1d8\n",
      "g1g2\n",
      "23.337635\n",
      "cache_hit 357\n",
      "cache_called 4546\n",
      "r6k/p6p/1p4pb/4P1n1/5rB1/2P5/P4PKP/3RR3 w - - 1 26\n",
      "[(-214, 'f2f3'), (-377, 'g2g3'), (-385, 'g4d7')]\n",
      "-407 f2f3\n",
      "-535 g2g3\n"
     ]
    },
    {
     "name": "stderr",
     "output_type": "stream",
     "text": [
      "192.168.102.43 - - [22/Aug/2023 15:34:15] \"POST /predict HTTP/1.1\" 200 -\n"
     ]
    },
    {
     "name": "stdout",
     "output_type": "stream",
     "text": [
      "-345 g4d7\n",
      "g4d7\n",
      "23.873254\n",
      "cache_hit 357\n",
      "cache_called 4559\n",
      "3r3k/p2B3p/1p4pb/4P1n1/5r2/2P5/P4PKP/3RR3 w - - 3 27\n",
      "[(-131, 'e5e6'), (-415, 'd7h3'), (-442, 'g2g3')]\n",
      "-60 e5e6\n",
      "-395 d7h3\n"
     ]
    },
    {
     "name": "stderr",
     "output_type": "stream",
     "text": [
      "192.168.102.43 - - [22/Aug/2023 15:35:05] \"POST /predict HTTP/1.1\" 200 -\n"
     ]
    },
    {
     "name": "stdout",
     "output_type": "stream",
     "text": [
      "-442 g2g3\n",
      "e5e6\n",
      "24.602304\n",
      "cache_hit 357\n",
      "cache_called 4572\n",
      "3r3k/p2B3p/1p2n1pb/8/5r2/2P5/P4PKP/3RR3 w - - 0 28\n",
      "[(-7, 'd7e6'), (-550, 'f2f3'), (-561, 'g2g3')]\n",
      "-13 d7e6\n",
      "-86 f2f3\n"
     ]
    },
    {
     "name": "stderr",
     "output_type": "stream",
     "text": [
      "192.168.102.43 - - [22/Aug/2023 15:35:39] \"POST /predict HTTP/1.1\" 200 -\n"
     ]
    },
    {
     "name": "stdout",
     "output_type": "stream",
     "text": [
      "-59 g2g3\n",
      "d7e6\n",
      "24.82654\n",
      "cache_hit 357\n",
      "cache_called 4585\n",
      "7k/p6p/1p2B1pb/8/5r2/2P5/P4PKP/3rR3 w - - 0 29\n",
      "[(-4, 'e1d1'), (-789, 'e6g8'), (-821, 'e6g4')]\n",
      "-3 e1d1\n",
      "-812 e6g8\n"
     ]
    },
    {
     "name": "stderr",
     "output_type": "stream",
     "text": [
      "192.168.102.43 - - [22/Aug/2023 15:36:13] \"POST /predict HTTP/1.1\" 200 -\n"
     ]
    },
    {
     "name": "stdout",
     "output_type": "stream",
     "text": [
      "-875 e6g4\n",
      "e1d1\n",
      "23.308986\n",
      "cache_hit 358\n",
      "cache_called 4598\n",
      "7k/p6p/1p2B1pb/8/r7/2P5/P4PKP/3R4 w - - 1 30\n",
      "[(0, 'd1d8'), (0, 'd1d7'), (-10, 'd1d4')]\n",
      "-2 d1d8\n",
      "0 d1d7\n"
     ]
    },
    {
     "name": "stderr",
     "output_type": "stream",
     "text": [
      "192.168.102.43 - - [22/Aug/2023 15:36:38] \"POST /predict HTTP/1.1\" 200 -\n"
     ]
    },
    {
     "name": "stdout",
     "output_type": "stream",
     "text": [
      "-6 d1d4\n",
      "d1d7\n",
      "22.142309\n",
      "cache_hit 358\n",
      "cache_called 4610\n",
      "7k/p2R3p/1p2B1pb/8/8/2P5/r4PKP/8 w - - 0 31\n",
      "[(-16, 'e6c4'), (-38, 'e6d5'), (-515, 'e6g8')]\n",
      "-37 e6c4\n",
      "-48 e6d5\n"
     ]
    },
    {
     "name": "stderr",
     "output_type": "stream",
     "text": [
      "192.168.102.43 - - [22/Aug/2023 15:37:16] \"POST /predict HTTP/1.1\" 200 -\n"
     ]
    },
    {
     "name": "stdout",
     "output_type": "stream",
     "text": [
      "-512 e6g8\n",
      "e6c4\n",
      "23.988621\n",
      "cache_hit 358\n",
      "cache_called 4623\n",
      "7k/p2R3p/1p4pb/8/2B5/r1P5/5PKP/8 w - - 2 32\n",
      "[(-29, 'c4d5'), (-248, 'g2g3'), (-574, 'd7h7')]\n",
      "-121 c4d5\n",
      "-267 g2g3\n"
     ]
    },
    {
     "name": "stderr",
     "output_type": "stream",
     "text": [
      "192.168.102.43 - - [22/Aug/2023 15:38:15] \"POST /predict HTTP/1.1\" 200 -\n"
     ]
    },
    {
     "name": "stdout",
     "output_type": "stream",
     "text": [
      "-586 d7h7\n",
      "c4d5\n",
      "20.575441\n",
      "cache_hit 358\n",
      "cache_called 4634\n",
      "7k/p2R3p/1p4pb/3B4/8/2r5/5PKP/8 w - - 0 33\n",
      "[(-121, 'd5e4'), (-157, 'd5f3'), (-464, 'd5g8')]\n",
      "-112 d5e4\n",
      "-233 d5f3\n"
     ]
    },
    {
     "name": "stderr",
     "output_type": "stream",
     "text": [
      "192.168.102.43 - - [22/Aug/2023 15:38:46] \"POST /predict HTTP/1.1\" 200 -\n"
     ]
    },
    {
     "name": "stdout",
     "output_type": "stream",
     "text": [
      "-570 d5g8\n",
      "d5e4\n",
      "21.431062\n",
      "cache_hit 359\n",
      "cache_called 4647\n",
      "7k/p2R3p/6pb/1p6/4B3/2r5/5PKP/8 w - - 0 34\n",
      "[(-227, 'e4d5'), (-597, 'd7h7'), (-617, 'd7c7')]\n",
      "-250 e4d5\n",
      "-602 d7h7\n"
     ]
    },
    {
     "name": "stderr",
     "output_type": "stream",
     "text": [
      "192.168.102.43 - - [22/Aug/2023 15:39:32] \"POST /predict HTTP/1.1\" 200 -\n"
     ]
    },
    {
     "name": "stdout",
     "output_type": "stream",
     "text": [
      "-238 d7c7\n",
      "d7c7\n",
      "20.732522\n",
      "cache_hit 359\n",
      "cache_called 4659\n",
      "7k/p1r4p/6pb/1p6/4B3/8/5PKP/8 w - - 0 35\n",
      "[(-633, 'g2f3'), (-640, 'g2g3'), (-641, 'e4d5'), (-961, 'e4g6')]\n",
      "-680 g2f3\n",
      "-647 g2g3\n",
      "-638 e4d5\n",
      "-997 e4g6\n",
      "[(-633, 'g2f3'), (-640, 'g2g3'), (-641, 'e4d5'), (-961, 'e4g6')]\n",
      "-645 g2f3\n",
      "-637 g2g3\n",
      "-639 e4d5\n"
     ]
    },
    {
     "name": "stderr",
     "output_type": "stream",
     "text": [
      "192.168.102.43 - - [22/Aug/2023 15:42:03] \"POST /predict HTTP/1.1\" 200 -\n"
     ]
    },
    {
     "name": "stdout",
     "output_type": "stream",
     "text": [
      "-1075 e4g6\n",
      "g2g3\n",
      "137.314762\n",
      "cache_hit 382\n",
      "cache_called 4734\n",
      "7k/p6p/6pb/1p6/4B3/2r3K1/5P1P/8 w - - 2 36\n",
      "[(-627, 'g3g2'), (-634, 'f2f3'), (-642, 'e4f3'), (-688, 'g3h4')]\n",
      "-639 g3g2\n",
      "-651 f2f3\n",
      "-678 e4f3\n",
      "-656 g3h4\n",
      "[(-627, 'g3g2'), (-634, 'f2f3'), (-642, 'e4f3'), (-688, 'g3h4')]\n",
      "-641 g3g2\n",
      "-651 f2f3\n",
      "-642 e4f3\n"
     ]
    },
    {
     "name": "stderr",
     "output_type": "stream",
     "text": [
      "192.168.102.43 - - [22/Aug/2023 15:44:46] \"POST /predict HTTP/1.1\" 200 -\n"
     ]
    },
    {
     "name": "stdout",
     "output_type": "stream",
     "text": [
      "-657 g3h4\n",
      "g3g2\n",
      "150.849706\n",
      "cache_hit 406\n",
      "cache_called 4818\n",
      "7k/p6p/6pb/8/1p2B3/2r5/5PKP/8 w - - 0 37\n",
      "[(-629, 'e4d5'), (-646, 'f2f3'), (-685, 'e4f3'), (-1071, 'e4g6')]\n",
      "-692 e4d5\n",
      "-705 f2f3\n",
      "-768 e4f3\n",
      "-1371 e4g6\n",
      "[(-629, 'e4d5'), (-646, 'f2f3'), (-685, 'e4f3'), (-1071, 'e4g6')]\n",
      "-665 e4d5\n",
      "-717 f2f3\n",
      "-756 e4f3\n"
     ]
    },
    {
     "name": "stderr",
     "output_type": "stream",
     "text": [
      "192.168.102.43 - - [22/Aug/2023 15:46:56] \"POST /predict HTTP/1.1\" 200 -\n"
     ]
    },
    {
     "name": "stdout",
     "output_type": "stream",
     "text": [
      "-1220 e4g6\n",
      "e4d5\n",
      "122.302156\n",
      "cache_hit 428\n",
      "cache_called 4889\n",
      "7k/p6p/6pb/3B4/8/1pr5/5PKP/8 w - - 0 38\n",
      "[(-665, 'd5e4'), (-775, 'd5f3'), (-940, 'd5b3'), (-1408, 'd5g8')]\n",
      "-801 d5e4\n",
      "rnbqkbnr/pppppppp/8/8/8/8/PPPPPPPP/RNBQKBNR w KQkq - 0 1\n",
      "[(33, 'e2e4'), (28, 'g1f3'), (26, 'd2d4')]\n",
      "33 e2e4\n",
      "28 g1f3\n"
     ]
    },
    {
     "name": "stderr",
     "output_type": "stream",
     "text": [
      "192.168.102.43 - - [22/Aug/2023 15:48:51] \"POST /predict HTTP/1.1\" 200 -\n"
     ]
    },
    {
     "name": "stdout",
     "output_type": "stream",
     "text": [
      "30 d2d4\n",
      "e2e4\n",
      "1.875973\n",
      "cache_hit 432\n",
      "cache_called 4920\n"
     ]
    },
    {
     "name": "stderr",
     "output_type": "stream",
     "text": [
      "192.168.102.43 - - [22/Aug/2023 15:48:55] \"POST /predict HTTP/1.1\" 200 -\n"
     ]
    },
    {
     "name": "stdout",
     "output_type": "stream",
     "text": [
      "rnbqkbnr/pppppppp/8/8/8/8/PPPPPPPP/RNBQKBNR w KQkq - 0 1\n",
      "e2e4\n",
      "0.001001\n",
      "cache_hit 433\n",
      "cache_called 4924\n"
     ]
    },
    {
     "name": "stderr",
     "output_type": "stream",
     "text": [
      "192.168.102.43 - - [22/Aug/2023 15:48:57] \"POST /predict HTTP/1.1\" 200 -\n"
     ]
    },
    {
     "name": "stdout",
     "output_type": "stream",
     "text": [
      "rnbqkbnr/pp1ppppp/2p5/8/4P3/8/PPPP1PPP/RNBQKBNR w KQkq - 0 2\n",
      "d2d4\n",
      "0.0\n",
      "cache_hit 435\n",
      "cache_called 4926\n",
      "-852 d5f3\n"
     ]
    },
    {
     "name": "stderr",
     "output_type": "stream",
     "text": [
      "192.168.102.43 - - [22/Aug/2023 15:48:58] \"POST /predict HTTP/1.1\" 200 -\n"
     ]
    },
    {
     "name": "stdout",
     "output_type": "stream",
     "text": [
      "rnbqkbnr/pp2pppp/2p5/3p4/3PP3/8/PPP2PPP/RNBQKBNR w KQkq d6 0 3\n",
      "e4d5\n",
      "0.0\n",
      "cache_hit 437\n",
      "cache_called 4928\n"
     ]
    },
    {
     "name": "stderr",
     "output_type": "stream",
     "text": [
      "192.168.102.43 - - [22/Aug/2023 15:48:59] \"POST /predict HTTP/1.1\" 200 -\n"
     ]
    },
    {
     "name": "stdout",
     "output_type": "stream",
     "text": [
      "rnbqkbnr/pp2pppp/8/3p4/3P4/8/PPP2PPP/RNBQKBNR w KQkq - 0 4\n",
      "c2c4\n",
      "0.0\n",
      "cache_hit 438\n",
      "cache_called 4930\n"
     ]
    },
    {
     "name": "stderr",
     "output_type": "stream",
     "text": [
      "192.168.102.43 - - [22/Aug/2023 15:49:15] \"POST /predict HTTP/1.1\" 200 -\n"
     ]
    },
    {
     "name": "stdout",
     "output_type": "stream",
     "text": [
      "rnbqkb1r/pp2pppp/5n2/3p4/2PP4/8/PP3PPP/RNBQKBNR w KQkq - 1 5\n",
      "b1c3\n",
      "0.0\n",
      "cache_hit 439\n",
      "cache_called 4938\n",
      "-985 d5b3\n",
      "rn1qkb1r/pp2pppp/5n2/3p4/2PP2b1/2N5/PP3PPP/R1BQKBNR w KQkq - 3 6\n"
     ]
    },
    {
     "name": "stderr",
     "output_type": "stream",
     "text": [
      "192.168.102.43 - - [22/Aug/2023 15:49:25] \"POST /predict HTTP/1.1\" 200 -\n"
     ]
    },
    {
     "name": "stdout",
     "output_type": "stream",
     "text": [
      "d1b3\n",
      "1.138998\n",
      "cache_hit 440\n",
      "cache_called 4945\n",
      "rn1qkb1r/pp3ppp/4pn2/3p4/2PP2b1/1QN5/PP3PPP/R1B1KBNR w KQkq - 0 7\n"
     ]
    },
    {
     "name": "stderr",
     "output_type": "stream",
     "text": [
      "192.168.102.43 - - [22/Aug/2023 15:49:30] \"POST /predict HTTP/1.1\" 200 -\n"
     ]
    },
    {
     "name": "stdout",
     "output_type": "stream",
     "text": [
      "g1f3\n",
      "0.891\n",
      "cache_hit 440\n",
      "cache_called 4947\n",
      "rn1qkb1r/pp3p1p/4pnp1/3p4/2PP2b1/1QN2N2/PP3PPP/R1B1KB1R w KQkq - 0 8\n",
      "-1595 d5g8\n"
     ]
    },
    {
     "name": "stderr",
     "output_type": "stream",
     "text": [
      "192.168.102.43 - - [22/Aug/2023 15:49:43] \"POST /predict HTTP/1.1\" 200 -\n"
     ]
    },
    {
     "name": "stdout",
     "output_type": "stream",
     "text": [
      "f3e5\n",
      "0.873998\n",
      "cache_hit 444\n",
      "cache_called 4957\n",
      "[(-665, 'd5e4'), (-775, 'd5f3'), (-940, 'd5b3'), (-1408, 'd5g8')]\n",
      "-770 d5e4\n",
      "-815 d5f3\n",
      "-966 d5b3\n"
     ]
    },
    {
     "name": "stderr",
     "output_type": "stream",
     "text": [
      "192.168.102.43 - - [22/Aug/2023 15:50:05] \"POST /predict HTTP/1.1\" 200 -\n"
     ]
    },
    {
     "name": "stdout",
     "output_type": "stream",
     "text": [
      "-3994 d5g8\n",
      "d5e4\n",
      "132.141282\n",
      "cache_hit 464\n",
      "cache_called 4977\n",
      "rn1qkb1r/pp3p1p/4pnp1/3pNb2/2PP4/1QN5/PP3PPP/R1B1KB1R w KQkq - 2 9\n"
     ]
    },
    {
     "name": "stderr",
     "output_type": "stream",
     "text": [
      "192.168.102.43 - - [22/Aug/2023 15:50:17] \"POST /predict HTTP/1.1\" 200 -\n"
     ]
    },
    {
     "name": "stdout",
     "output_type": "stream",
     "text": [
      "c4d5\n",
      "0.903997\n",
      "cache_hit 464\n",
      "cache_called 4978\n",
      "rn1qkb1r/pp3p1p/5np1/3pNb2/3P4/1QN5/PP3PPP/R1B1KB1R w KQkq - 0 10\n"
     ]
    },
    {
     "name": "stderr",
     "output_type": "stream",
     "text": [
      "192.168.102.43 - - [22/Aug/2023 15:50:25] \"POST /predict HTTP/1.1\" 200 -\n"
     ]
    },
    {
     "name": "stdout",
     "output_type": "stream",
     "text": [
      "b3b7\n",
      "0.870998\n",
      "cache_hit 464\n",
      "cache_called 4979\n",
      "r2qkb1r/pQ1n1p1p/5np1/3pNb2/3P4/2N5/PP3PPP/R1B1KB1R w KQkq - 1 11\n"
     ]
    },
    {
     "name": "stderr",
     "output_type": "stream",
     "text": [
      "192.168.102.43 - - [22/Aug/2023 15:50:50] \"POST /predict HTTP/1.1\" 200 -\n"
     ]
    },
    {
     "name": "stdout",
     "output_type": "stream",
     "text": [
      "f1b5\n",
      "0.884999\n",
      "cache_hit 464\n",
      "cache_called 4980\n",
      "1r1qkb1r/pQ1n1p1p/5np1/1B1pNb2/3P4/2N5/PP3PPP/R1B1K2R w KQk - 3 12\n"
     ]
    },
    {
     "name": "stderr",
     "output_type": "stream",
     "text": [
      "192.168.102.43 - - [22/Aug/2023 15:51:36] \"POST /predict HTTP/1.1\" 200 -\n"
     ]
    },
    {
     "name": "stdout",
     "output_type": "stream",
     "text": [
      "e5d7\n",
      "0.871436\n",
      "cache_hit 464\n",
      "cache_called 4981\n",
      "1r1qkb1r/pQ1n1p1p/6p1/1B1p1b2/3P4/2N5/PP3PPP/R1B1K2R w KQk - 0 13\n"
     ]
    },
    {
     "name": "stderr",
     "output_type": "stream",
     "text": [
      "192.168.102.43 - - [22/Aug/2023 15:51:43] \"POST /predict HTTP/1.1\" 200 -\n"
     ]
    },
    {
     "name": "stdout",
     "output_type": "stream",
     "text": [
      "b7a7\n",
      "0.831996\n",
      "cache_hit 464\n",
      "cache_called 4982\n",
      "1r1qk2r/Q2n1pbp/6p1/1B1p1b2/3P4/2N5/PP3PPP/R1B1K2R w KQk - 1 14\n"
     ]
    },
    {
     "name": "stderr",
     "output_type": "stream",
     "text": [
      "192.168.102.43 - - [22/Aug/2023 15:52:05] \"POST /predict HTTP/1.1\" 200 -\n"
     ]
    },
    {
     "name": "stdout",
     "output_type": "stream",
     "text": [
      "b5d7\n",
      "0.902999\n",
      "cache_hit 464\n",
      "cache_called 4983\n",
      "1r1qk2r/Q2b1pbp/6p1/3p4/3P4/2N5/PP3PPP/R1B1K2R w KQk - 0 15\n"
     ]
    },
    {
     "name": "stderr",
     "output_type": "stream",
     "text": [
      "192.168.102.43 - - [22/Aug/2023 15:52:11] \"POST /predict HTTP/1.1\" 200 -\n"
     ]
    },
    {
     "name": "stdout",
     "output_type": "stream",
     "text": [
      "a7b8\n",
      "0.884939\n",
      "cache_hit 464\n",
      "cache_called 4984\n",
      "1q2k2r/3b1pbp/6p1/3p4/3P4/2N5/PP3PPP/R1B1K2R w KQk - 0 16\n"
     ]
    },
    {
     "name": "stderr",
     "output_type": "stream",
     "text": [
      "192.168.102.43 - - [22/Aug/2023 15:52:15] \"POST /predict HTTP/1.1\" 200 -\n"
     ]
    },
    {
     "name": "stdout",
     "output_type": "stream",
     "text": [
      "e1g1\n",
      "0.888939\n",
      "cache_hit 464\n",
      "cache_called 4985\n",
      "1q2k2r/3b1p1p/6p1/3p4/3b4/2N5/PP3PPP/R1B2RK1 w k - 0 17\n"
     ]
    },
    {
     "name": "stderr",
     "output_type": "stream",
     "text": [
      "192.168.102.43 - - [22/Aug/2023 15:52:22] \"POST /predict HTTP/1.1\" 200 -\n"
     ]
    },
    {
     "name": "stdout",
     "output_type": "stream",
     "text": [
      "c1e3\n",
      "0.892032\n",
      "cache_hit 464\n",
      "cache_called 4986\n",
      "1q2k2r/3b1p1p/6p1/3p4/8/2N1b3/PP3PPP/R4RK1 w k - 0 18\n"
     ]
    },
    {
     "name": "stderr",
     "output_type": "stream",
     "text": [
      "192.168.102.43 - - [22/Aug/2023 15:52:26] \"POST /predict HTTP/1.1\" 200 -\n"
     ]
    },
    {
     "name": "stdout",
     "output_type": "stream",
     "text": [
      "f2e3\n",
      "0.880968\n",
      "cache_hit 464\n",
      "cache_called 4987\n",
      "4k2r/3b1p1p/6p1/3p4/8/2N1P3/Pq4PP/R4RK1 w k - 0 19\n"
     ]
    },
    {
     "name": "stderr",
     "output_type": "stream",
     "text": [
      "192.168.102.43 - - [22/Aug/2023 15:52:28] \"POST /predict HTTP/1.1\" 200 -\n"
     ]
    },
    {
     "name": "stdout",
     "output_type": "stream",
     "text": [
      "f1b1\n",
      "0.88798\n",
      "cache_hit 464\n",
      "cache_called 4988\n",
      "4k2r/3b1p1p/6p1/3p4/8/2q1P3/P5PP/RR4K1 w k - 0 20\n"
     ]
    },
    {
     "name": "stderr",
     "output_type": "stream",
     "text": [
      "192.168.102.43 - - [22/Aug/2023 15:52:41] \"POST /predict HTTP/1.1\" 200 -\n"
     ]
    },
    {
     "name": "stdout",
     "output_type": "stream",
     "text": [
      "b1b8\n",
      "0.885066\n",
      "cache_hit 464\n",
      "cache_called 4989\n",
      "1R5r/3bkp1p/6p1/3p4/8/2q1P3/P5PP/R5K1 w - - 2 21\n"
     ]
    },
    {
     "name": "stderr",
     "output_type": "stream",
     "text": [
      "192.168.102.43 - - [22/Aug/2023 15:52:43] \"POST /predict HTTP/1.1\" 200 -\n"
     ]
    },
    {
     "name": "stdout",
     "output_type": "stream",
     "text": [
      "b8a8\n",
      "1.133343\n",
      "cache_hit 464\n",
      "cache_called 4990\n",
      "r7/3bkp1p/6p1/3p4/8/2q1P3/P5PP/R5K1 w - - 0 22\n"
     ]
    },
    {
     "name": "stderr",
     "output_type": "stream",
     "text": [
      "192.168.102.43 - - [22/Aug/2023 15:52:48] \"POST /predict HTTP/1.1\" 200 -\n"
     ]
    },
    {
     "name": "stdout",
     "output_type": "stream",
     "text": [
      "a1c1\n",
      "0.889896\n",
      "cache_hit 464\n",
      "cache_called 4991\n",
      "r7/3bkp1p/6p1/3p4/8/4P3/P5PP/2q3K1 w - - 0 23\n"
     ]
    },
    {
     "name": "stderr",
     "output_type": "stream",
     "text": [
      "192.168.102.43 - - [22/Aug/2023 15:52:51] \"POST /predict HTTP/1.1\" 200 -\n"
     ]
    },
    {
     "name": "stdout",
     "output_type": "stream",
     "text": [
      "g1f2\n",
      "0.744956\n",
      "cache_hit 464\n",
      "cache_called 4992\n",
      "r7/3bkp1p/6p1/3p4/8/4P3/P2q1KPP/8 w - - 2 24\n"
     ]
    },
    {
     "name": "stderr",
     "output_type": "stream",
     "text": [
      "192.168.102.43 - - [22/Aug/2023 15:52:54] \"POST /predict HTTP/1.1\" 200 -\n"
     ]
    },
    {
     "name": "stdout",
     "output_type": "stream",
     "text": [
      "f2f3\n",
      "0.76594\n",
      "cache_hit 464\n",
      "cache_called 4993\n",
      "r7/3bkp1p/6p1/3p4/8/4PK2/q5PP/8 w - - 0 25\n"
     ]
    },
    {
     "name": "stderr",
     "output_type": "stream",
     "text": [
      "192.168.102.43 - - [22/Aug/2023 15:52:56] \"POST /predict HTTP/1.1\" 200 -\n"
     ]
    },
    {
     "name": "stdout",
     "output_type": "stream",
     "text": [
      "f3f4\n",
      "0.61098\n",
      "cache_hit 464\n",
      "cache_called 4994\n",
      "r7/3bkp1p/6p1/3p4/5K2/4P3/5qPP/8 w - - 2 26\n"
     ]
    },
    {
     "name": "stderr",
     "output_type": "stream",
     "text": [
      "192.168.102.43 - - [22/Aug/2023 15:53:00] \"POST /predict HTTP/1.1\" 200 -\n"
     ]
    },
    {
     "name": "stdout",
     "output_type": "stream",
     "text": [
      "f4e5\n",
      "0.598963\n",
      "cache_hit 464\n",
      "cache_called 4995\n",
      "r7/3bkp1p/6p1/3pK3/8/4q3/6PP/8 w - - 0 27\n"
     ]
    },
    {
     "name": "stderr",
     "output_type": "stream",
     "text": [
      "192.168.102.43 - - [22/Aug/2023 15:53:01] \"POST /predict HTTP/1.1\" 200 -\n"
     ]
    },
    {
     "name": "stdout",
     "output_type": "stream",
     "text": [
      "e5d5\n",
      "0.453001\n",
      "cache_hit 464\n",
      "cache_called 4996\n",
      "r7/3bkp1p/6p1/3K4/8/3q4/6PP/8 w - - 1 28\n"
     ]
    },
    {
     "name": "stderr",
     "output_type": "stream",
     "text": [
      "192.168.102.43 - - [22/Aug/2023 15:53:07] \"POST /predict HTTP/1.1\" 200 -\n"
     ]
    },
    {
     "name": "stdout",
     "output_type": "stream",
     "text": [
      "d5e5\n",
      "0.484998\n",
      "cache_hit 464\n",
      "cache_called 4997\n",
      "8/r2bkp1p/6p1/4K3/8/3q4/6PP/8 w - - 3 29\n"
     ]
    },
    {
     "name": "stderr",
     "output_type": "stream",
     "text": [
      "192.168.102.43 - - [22/Aug/2023 15:53:14] \"POST /predict HTTP/1.1\" 200 -\n"
     ]
    },
    {
     "name": "stdout",
     "output_type": "stream",
     "text": [
      "e5f4\n",
      "0.475999\n",
      "cache_hit 464\n",
      "cache_called 4998\n",
      "8/3bkp1p/6p1/8/r4K2/3q4/6PP/8 w - - 5 30\n"
     ]
    },
    {
     "name": "stderr",
     "output_type": "stream",
     "text": [
      "192.168.102.43 - - [22/Aug/2023 15:53:17] \"POST /predict HTTP/1.1\" 200 -\n"
     ]
    },
    {
     "name": "stdout",
     "output_type": "stream",
     "text": [
      "f4g5\n",
      "0.451063\n",
      "cache_hit 464\n",
      "cache_called 4999\n",
      "8/3bkp1p/6p1/5qK1/r7/8/6PP/8 w - - 7 31\n"
     ]
    },
    {
     "name": "stderr",
     "output_type": "stream",
     "text": [
      "192.168.102.43 - - [22/Aug/2023 15:53:20] \"POST /predict HTTP/1.1\" 200 -\n"
     ]
    },
    {
     "name": "stdout",
     "output_type": "stream",
     "text": [
      "g5h6\n",
      "0.481969\n",
      "cache_hit 464\n",
      "cache_called 5000\n",
      "8/3bkp1p/6pK/5q2/7r/8/6PP/8 w - - 9 32\n"
     ]
    },
    {
     "name": "stderr",
     "output_type": "stream",
     "text": [
      "192.168.102.43 - - [22/Aug/2023 15:53:30] \"POST /predict HTTP/1.1\" 200 -\n"
     ]
    },
    {
     "name": "stdout",
     "output_type": "stream",
     "text": [
      "h6g7\n",
      "0.484001\n",
      "cache_hit 464\n",
      "cache_called 5001\n",
      "8/3bkpKp/5qp1/8/7r/8/6PP/8 w - - 11 33\n"
     ]
    },
    {
     "name": "stderr",
     "output_type": "stream",
     "text": [
      "192.168.102.43 - - [22/Aug/2023 15:53:56] \"POST /predict HTTP/1.1\" 200 -\n"
     ]
    },
    {
     "name": "stdout",
     "output_type": "stream",
     "text": [
      "g7g8\n",
      "0.492968\n",
      "cache_hit 464\n",
      "cache_called 5002\n",
      "6K1/3bkp1p/5qp1/8/r7/8/6PP/8 w - - 13 34\n"
     ]
    },
    {
     "name": "stderr",
     "output_type": "stream",
     "text": [
      "192.168.102.43 - - [22/Aug/2023 15:54:11] \"POST /predict HTTP/1.1\" 200 -\n"
     ]
    },
    {
     "name": "stdout",
     "output_type": "stream",
     "text": [
      "g8h7\n",
      "0.479931\n",
      "cache_hit 464\n",
      "cache_called 5003\n",
      "8/3bkp1K/5q2/6p1/r7/8/6PP/8 w - - 0 35\n"
     ]
    },
    {
     "name": "stderr",
     "output_type": "stream",
     "text": [
      "192.168.102.43 - - [22/Aug/2023 15:54:16] \"POST /predict HTTP/1.1\" 200 -\n"
     ]
    },
    {
     "name": "stdout",
     "output_type": "stream",
     "text": [
      "h7g8\n",
      "0.474968\n",
      "cache_hit 464\n",
      "cache_called 5004\n",
      "6K1/3bkp2/6q1/6p1/r7/8/6PP/8 w - - 2 36\n"
     ]
    },
    {
     "name": "stderr",
     "output_type": "stream",
     "text": [
      "192.168.102.43 - - [22/Aug/2023 15:54:21] \"POST /predict HTTP/1.1\" 200 -\n"
     ]
    },
    {
     "name": "stdout",
     "output_type": "stream",
     "text": [
      "g8h8\n",
      "0.476969\n",
      "cache_hit 464\n",
      "cache_called 5005\n"
     ]
    },
    {
     "name": "stderr",
     "output_type": "stream",
     "text": [
      "192.168.170.77 - - [23/Aug/2023 15:10:04] \"POST /predict HTTP/1.1\" 200 -\n"
     ]
    },
    {
     "name": "stdout",
     "output_type": "stream",
     "text": [
      "rnbqkbnr/pppppppp/8/8/3P4/8/PPP1PPPP/RNBQKBNR b KQkq d3 0 1\n",
      "g8f6\n",
      "0.036805\n",
      "cache_hit 465\n",
      "cache_called 5006\n",
      "rnbqkb1r/pppppppp/5n2/8/3P4/5P2/PPP1P1PP/RNBQKBNR b KQkq - 0 2\n"
     ]
    },
    {
     "name": "stderr",
     "output_type": "stream",
     "text": [
      "192.168.170.77 - - [23/Aug/2023 15:10:13] \"POST /predict HTTP/1.1\" 200 -\n"
     ]
    },
    {
     "name": "stdout",
     "output_type": "stream",
     "text": [
      "d7d5\n",
      "1.83171\n",
      "cache_hit 465\n",
      "cache_called 5007\n",
      "rnbqkb1r/ppp1pppp/5n2/3p4/3P4/2N2P2/PPP1P1PP/R1BQKBNR b KQkq - 1 3\n"
     ]
    },
    {
     "name": "stderr",
     "output_type": "stream",
     "text": [
      "192.168.170.77 - - [23/Aug/2023 15:10:20] \"POST /predict HTTP/1.1\" 200 -\n"
     ]
    },
    {
     "name": "stdout",
     "output_type": "stream",
     "text": [
      "c7c5\n",
      "1.096998\n",
      "cache_hit 465\n",
      "cache_called 5008\n",
      "rnbqkb1r/pp2pppp/5n2/2pp4/3P4/2N1PP2/PPP3PP/R1BQKBNR b KQkq - 0 4\n"
     ]
    },
    {
     "name": "stderr",
     "output_type": "stream",
     "text": [
      "192.168.170.77 - - [23/Aug/2023 15:10:26] \"POST /predict HTTP/1.1\" 200 -\n"
     ]
    },
    {
     "name": "stdout",
     "output_type": "stream",
     "text": [
      "b8c6\n",
      "1.041443\n",
      "cache_hit 465\n",
      "cache_called 5009\n",
      "r1bqkb1r/pp2pppp/2n2n2/2Pp4/8/2N1PP2/PPP3PP/R1BQKBNR b KQkq - 0 5\n"
     ]
    },
    {
     "name": "stderr",
     "output_type": "stream",
     "text": [
      "192.168.170.77 - - [23/Aug/2023 15:10:32] \"POST /predict HTTP/1.1\" 200 -\n"
     ]
    },
    {
     "name": "stdout",
     "output_type": "stream",
     "text": [
      "e7e6\n",
      "1.036334\n",
      "cache_hit 465\n",
      "cache_called 5010\n",
      "r1bqkb1r/pp3ppp/2n1pn2/1BPp4/8/2N1PP2/PPP3PP/R1BQK1NR b KQkq - 1 6\n"
     ]
    },
    {
     "name": "stderr",
     "output_type": "stream",
     "text": [
      "192.168.170.77 - - [23/Aug/2023 15:10:47] \"POST /predict HTTP/1.1\" 200 -\n"
     ]
    },
    {
     "name": "stdout",
     "output_type": "stream",
     "text": [
      "f8c5\n",
      "1.001999\n",
      "cache_hit 465\n",
      "cache_called 5011\n",
      "r1bqk2r/pp3ppp/2n1pn2/1Bbp4/8/2N1PP2/PPPQ2PP/R1B1K1NR b KQkq - 1 7\n"
     ]
    },
    {
     "name": "stderr",
     "output_type": "stream",
     "text": [
      "192.168.170.77 - - [23/Aug/2023 15:10:59] \"POST /predict HTTP/1.1\" 200 -\n"
     ]
    },
    {
     "name": "stdout",
     "output_type": "stream",
     "text": [
      "e8g8\n",
      "0.959436\n",
      "cache_hit 465\n",
      "cache_called 5012\n",
      "r1bq1rk1/pp3ppp/2B1pn2/2bp4/8/2N1PP2/PPPQ2PP/R1B1K1NR b KQ - 0 8\n"
     ]
    },
    {
     "name": "stderr",
     "output_type": "stream",
     "text": [
      "192.168.170.77 - - [23/Aug/2023 15:11:06] \"POST /predict HTTP/1.1\" 200 -\n"
     ]
    },
    {
     "name": "stdout",
     "output_type": "stream",
     "text": [
      "b7c6\n",
      "0.935999\n",
      "cache_hit 465\n",
      "cache_called 5013\n",
      "r1bq1rk1/p4ppp/2p1pn2/2bp4/4P3/2N2P2/PPPQ2PP/R1B1K1NR b KQ - 0 9\n"
     ]
    },
    {
     "name": "stderr",
     "output_type": "stream",
     "text": [
      "192.168.170.77 - - [23/Aug/2023 15:11:13] \"POST /predict HTTP/1.1\" 200 -\n"
     ]
    },
    {
     "name": "stdout",
     "output_type": "stream",
     "text": [
      "d5e4\n",
      "0.937183\n",
      "cache_hit 465\n",
      "cache_called 5014\n",
      "r1bq1rk1/p4ppp/2p1pn2/2b5/4P3/2N5/PPPQ2PP/R1B1K1NR b KQ - 0 10\n"
     ]
    },
    {
     "name": "stderr",
     "output_type": "stream",
     "text": [
      "192.168.170.77 - - [23/Aug/2023 15:11:21] \"POST /predict HTTP/1.1\" 200 -\n"
     ]
    },
    {
     "name": "stdout",
     "output_type": "stream",
     "text": [
      "c5b4\n",
      "0.964817\n",
      "cache_hit 465\n",
      "cache_called 5015\n",
      "r1bQ1rk1/p4ppp/2p1pn2/8/1b2P3/2N5/PPP3PP/R1B1K1NR b KQ - 0 11\n"
     ]
    },
    {
     "name": "stderr",
     "output_type": "stream",
     "text": [
      "192.168.170.77 - - [23/Aug/2023 15:11:25] \"POST /predict HTTP/1.1\" 200 -\n"
     ]
    },
    {
     "name": "stdout",
     "output_type": "stream",
     "text": [
      "f8d8\n",
      "0.911123\n",
      "cache_hit 465\n",
      "cache_called 5016\n",
      "r1br2k1/p4ppp/2p1pn2/4P3/1b6/2N5/PPP3PP/R1B1K1NR b KQ - 0 12\n"
     ]
    },
    {
     "name": "stderr",
     "output_type": "stream",
     "text": [
      "192.168.170.77 - - [23/Aug/2023 15:11:31] \"POST /predict HTTP/1.1\" 200 -\n"
     ]
    },
    {
     "name": "stdout",
     "output_type": "stream",
     "text": [
      "f6d5\n",
      "0.92594\n",
      "cache_hit 465\n",
      "cache_called 5017\n",
      "r1br2k1/p4ppp/2p1p3/3nP3/1b6/P1N5/1PP3PP/R1B1K1NR b KQ - 0 13\n"
     ]
    },
    {
     "name": "stderr",
     "output_type": "stream",
     "text": [
      "192.168.170.77 - - [23/Aug/2023 15:11:36] \"POST /predict HTTP/1.1\" 200 -\n"
     ]
    },
    {
     "name": "stdout",
     "output_type": "stream",
     "text": [
      "b4c3\n",
      "0.903986\n",
      "cache_hit 465\n",
      "cache_called 5018\n",
      "r1br2k1/p4ppp/2p1p3/3nP3/8/P1P5/2P3PP/R1B1K1NR b KQ - 0 14\n"
     ]
    },
    {
     "name": "stderr",
     "output_type": "stream",
     "text": [
      "192.168.170.77 - - [23/Aug/2023 15:11:42] \"POST /predict HTTP/1.1\" 200 -\n"
     ]
    },
    {
     "name": "stdout",
     "output_type": "stream",
     "text": [
      "c8a6\n",
      "0.937969\n",
      "cache_hit 465\n",
      "cache_called 5019\n",
      "r2r2k1/p4ppp/b1p1p3/3nP3/8/P1P2N2/2P3PP/R1B1K2R b KQ - 2 15\n"
     ]
    },
    {
     "name": "stderr",
     "output_type": "stream",
     "text": [
      "192.168.170.77 - - [23/Aug/2023 15:11:54] \"POST /predict HTTP/1.1\" 200 -\n"
     ]
    },
    {
     "name": "stdout",
     "output_type": "stream",
     "text": [
      "a8c8\n",
      "0.964961\n",
      "cache_hit 465\n",
      "cache_called 5020\n",
      "2rr2k1/p4ppp/b1p1p3/3nP1B1/8/P1P2N2/2P3PP/R3K2R b KQ - 4 16\n"
     ]
    },
    {
     "name": "stderr",
     "output_type": "stream",
     "text": [
      "192.168.170.77 - - [23/Aug/2023 15:12:01] \"POST /predict HTTP/1.1\" 200 -\n"
     ]
    },
    {
     "name": "stdout",
     "output_type": "stream",
     "text": [
      "d8d7\n",
      "0.915724\n",
      "cache_hit 465\n",
      "cache_called 5021\n",
      "2r3k1/p2r1ppp/b1p1p3/3nP1B1/3N4/P1P5/2P3PP/R3K2R b KQ - 6 17\n"
     ]
    },
    {
     "name": "stderr",
     "output_type": "stream",
     "text": [
      "192.168.170.77 - - [23/Aug/2023 15:12:08] \"POST /predict HTTP/1.1\" 200 -\n"
     ]
    },
    {
     "name": "stdout",
     "output_type": "stream",
     "text": [
      "c6c5\n",
      "0.926897\n",
      "cache_hit 465\n",
      "cache_called 5022\n",
      "2r3k1/p2r1ppp/b3N3/2pnP1B1/8/P1P5/2P3PP/R3K2R b KQ - 0 18\n"
     ]
    },
    {
     "name": "stderr",
     "output_type": "stream",
     "text": [
      "192.168.170.77 - - [23/Aug/2023 15:12:26] \"POST /predict HTTP/1.1\" 200 -\n"
     ]
    },
    {
     "name": "stdout",
     "output_type": "stream",
     "text": [
      "f7e6\n",
      "0.913\n",
      "cache_hit 465\n",
      "cache_called 5023\n",
      "2r3k1/p2r2pp/b3p3/2pnP1B1/8/P1P5/2P3PP/R3KR2 b Q - 1 19\n"
     ]
    },
    {
     "name": "stderr",
     "output_type": "stream",
     "text": [
      "192.168.170.77 - - [23/Aug/2023 15:12:35] \"POST /predict HTTP/1.1\" 200 -\n"
     ]
    },
    {
     "name": "stdout",
     "output_type": "stream",
     "text": [
      "c5c4\n",
      "0.933917\n",
      "cache_hit 465\n",
      "cache_called 5024\n",
      "2r3k1/p2r2pp/b3p3/3nP1B1/2p4P/P1P5/2P3P1/R3KR2 b Q h3 0 20\n"
     ]
    },
    {
     "name": "stderr",
     "output_type": "stream",
     "text": [
      "192.168.170.77 - - [23/Aug/2023 15:13:37] \"POST /predict HTTP/1.1\" 200 -\n"
     ]
    },
    {
     "name": "stdout",
     "output_type": "stream",
     "text": [
      "h7h6\n",
      "0.899515\n",
      "cache_hit 465\n",
      "cache_called 5025\n",
      "2r3k1/p2r2p1/b3p2p/3nP3/2p4P/P1P5/2PB2P1/R3KR2 b Q - 1 21\n"
     ]
    },
    {
     "name": "stderr",
     "output_type": "stream",
     "text": [
      "192.168.170.77 - - [23/Aug/2023 15:13:50] \"POST /predict HTTP/1.1\" 200 -\n"
     ]
    },
    {
     "name": "stdout",
     "output_type": "stream",
     "text": [
      "d7f7\n",
      "0.908546\n",
      "cache_hit 465\n",
      "cache_called 5026\n",
      "2r3k1/p4rp1/b3p2p/3nP2P/2p5/P1P5/2PB2P1/R3KR2 b Q - 0 22\n"
     ]
    },
    {
     "name": "stderr",
     "output_type": "stream",
     "text": [
      "192.168.170.77 - - [23/Aug/2023 15:13:54] \"POST /predict HTTP/1.1\" 200 -\n"
     ]
    },
    {
     "name": "stdout",
     "output_type": "stream",
     "text": [
      "f7f1\n",
      "1.756234\n",
      "cache_hit 465\n",
      "cache_called 5027\n",
      "2r3k1/p5p1/b3p2p/3nP2P/2p5/P1P5/2PB2P1/R4K2 b - - 0 23\n"
     ]
    },
    {
     "name": "stderr",
     "output_type": "stream",
     "text": [
      "192.168.170.77 - - [23/Aug/2023 15:13:58] \"POST /predict HTTP/1.1\" 200 -\n"
     ]
    },
    {
     "name": "stdout",
     "output_type": "stream",
     "text": [
      "c8f8\n",
      "0.92151\n",
      "cache_hit 465\n",
      "cache_called 5028\n",
      "5rk1/p5p1/b3p2p/3nP2P/2p5/P1P5/2PBK1P1/R7 b - - 2 24\n"
     ]
    },
    {
     "name": "stderr",
     "output_type": "stream",
     "text": [
      "192.168.170.77 - - [23/Aug/2023 15:14:03] \"POST /predict HTTP/1.1\" 200 -\n"
     ]
    },
    {
     "name": "stdout",
     "output_type": "stream",
     "text": [
      "f8b8\n",
      "0.912999\n",
      "cache_hit 465\n",
      "cache_called 5029\n",
      "1r4k1/p5p1/b3p2p/3nP2P/2p5/P1P5/2PBK1P1/7R b - - 4 25\n"
     ]
    },
    {
     "name": "stderr",
     "output_type": "stream",
     "text": [
      "192.168.170.77 - - [23/Aug/2023 15:14:14] \"POST /predict HTTP/1.1\" 200 -\n"
     ]
    },
    {
     "name": "stdout",
     "output_type": "stream",
     "text": [
      "b8f8\n",
      "0.920995\n",
      "cache_hit 465\n",
      "cache_called 5030\n",
      "5rk1/p5p1/b3p2p/3nP2P/P1p5/2P5/2PBK1P1/7R b - - 0 26\n"
     ]
    },
    {
     "name": "stderr",
     "output_type": "stream",
     "text": [
      "192.168.170.77 - - [23/Aug/2023 15:14:22] \"POST /predict HTTP/1.1\" 200 -\n"
     ]
    },
    {
     "name": "stdout",
     "output_type": "stream",
     "text": [
      "f8b8\n",
      "0.924841\n",
      "cache_hit 465\n",
      "cache_called 5031\n",
      "1r4k1/p5p1/b3p2p/3nP2P/P1p3P1/2P5/2PBK3/7R b - g3 0 27\n"
     ]
    },
    {
     "name": "stderr",
     "output_type": "stream",
     "text": [
      "192.168.170.77 - - [23/Aug/2023 15:14:27] \"POST /predict HTTP/1.1\" 200 -\n"
     ]
    },
    {
     "name": "stdout",
     "output_type": "stream",
     "text": [
      "b8f8\n",
      "0.912815\n",
      "cache_hit 465\n",
      "cache_called 5032\n",
      "5rk1/p5p1/b3p2p/3nP1PP/P1p5/2P5/2PBK3/7R b - - 0 28\n"
     ]
    },
    {
     "name": "stderr",
     "output_type": "stream",
     "text": [
      "192.168.170.77 - - [23/Aug/2023 15:14:34] \"POST /predict HTTP/1.1\" 200 -\n"
     ]
    },
    {
     "name": "stdout",
     "output_type": "stream",
     "text": [
      "f8b8\n",
      "0.885218\n",
      "cache_hit 465\n",
      "cache_called 5033\n",
      "1r4k1/p5p1/b3p2P/3nP2P/P1p5/2P5/2PBK3/7R b - - 0 29\n"
     ]
    },
    {
     "name": "stderr",
     "output_type": "stream",
     "text": [
      "192.168.170.77 - - [23/Aug/2023 15:14:37] \"POST /predict HTTP/1.1\" 200 -\n"
     ]
    },
    {
     "name": "stdout",
     "output_type": "stream",
     "text": [
      "g7h6\n",
      "0.902606\n",
      "cache_hit 465\n",
      "cache_called 5034\n",
      "1r4k1/p7/b3p2B/3nP2P/P1p5/2P5/2P1K3/7R b - - 0 30\n"
     ]
    },
    {
     "name": "stderr",
     "output_type": "stream",
     "text": [
      "192.168.170.77 - - [23/Aug/2023 15:14:40] \"POST /predict HTTP/1.1\" 200 -\n"
     ]
    },
    {
     "name": "stdout",
     "output_type": "stream",
     "text": [
      "g8h7\n",
      "0.919319\n",
      "cache_hit 465\n",
      "cache_called 5035\n",
      "1r6/p6k/b3p3/3nP1BP/P1p5/2P5/2P1K3/7R b - - 2 31\n"
     ]
    },
    {
     "name": "stderr",
     "output_type": "stream",
     "text": [
      "192.168.170.77 - - [23/Aug/2023 15:14:45] \"POST /predict HTTP/1.1\" 200 -\n"
     ]
    },
    {
     "name": "stdout",
     "output_type": "stream",
     "text": [
      "b8f8\n",
      "0.898015\n",
      "cache_hit 465\n",
      "cache_called 5036\n",
      "5r2/p6k/b3p3/3nP1BP/P1p5/2P5/2P1K3/6R1 b - - 4 32\n"
     ]
    },
    {
     "name": "stderr",
     "output_type": "stream",
     "text": [
      "192.168.170.77 - - [23/Aug/2023 15:15:03] \"POST /predict HTTP/1.1\" 200 -\n"
     ]
    },
    {
     "name": "stdout",
     "output_type": "stream",
     "text": [
      "f8b8\n",
      "0.935136\n",
      "cache_hit 465\n",
      "cache_called 5037\n",
      "1r6/p6k/b3pB2/3nP2P/P1p5/2P5/2P1K3/6R1 b - - 6 33\n"
     ]
    },
    {
     "name": "stderr",
     "output_type": "stream",
     "text": [
      "192.168.170.77 - - [23/Aug/2023 15:15:09] \"POST /predict HTTP/1.1\" 200 -\n"
     ]
    },
    {
     "name": "stdout",
     "output_type": "stream",
     "text": [
      "b8g8\n",
      "0.924051\n",
      "cache_hit 465\n",
      "cache_called 5038\n",
      "6R1/p6k/b3pB2/3nP2P/P1p5/2P5/2P1K3/8 b - - 0 34\n"
     ]
    },
    {
     "name": "stderr",
     "output_type": "stream",
     "text": [
      "192.168.170.77 - - [23/Aug/2023 15:15:15] \"POST /predict HTTP/1.1\" 200 -\n"
     ]
    },
    {
     "name": "stdout",
     "output_type": "stream",
     "text": [
      "h7g8\n",
      "0.938111\n",
      "cache_hit 465\n",
      "cache_called 5039\n",
      "6k1/p7/b3pB1P/3nP3/P1p5/2P5/2P1K3/8 b - - 0 35\n"
     ]
    },
    {
     "name": "stderr",
     "output_type": "stream",
     "text": [
      "192.168.170.77 - - [23/Aug/2023 15:15:19] \"POST /predict HTTP/1.1\" 200 -\n"
     ]
    },
    {
     "name": "stdout",
     "output_type": "stream",
     "text": [
      "g8h7\n",
      "0.90491\n",
      "cache_hit 465\n",
      "cache_called 5040\n",
      "8/p6k/b3p2P/3nP1B1/P1p5/2P5/2P1K3/8 b - - 2 36\n"
     ]
    },
    {
     "name": "stderr",
     "output_type": "stream",
     "text": [
      "192.168.170.77 - - [23/Aug/2023 15:15:24] \"POST /predict HTTP/1.1\" 200 -\n"
     ]
    },
    {
     "name": "stdout",
     "output_type": "stream",
     "text": [
      "a6b7\n",
      "0.902001\n",
      "cache_hit 465\n",
      "cache_called 5041\n",
      "8/pb5k/4p2P/P2nP1B1/2p5/2P5/2P1K3/8 b - - 0 37\n"
     ]
    },
    {
     "name": "stderr",
     "output_type": "stream",
     "text": [
      "192.168.170.77 - - [23/Aug/2023 15:15:29] \"POST /predict HTTP/1.1\" 200 -\n"
     ]
    },
    {
     "name": "stdout",
     "output_type": "stream",
     "text": [
      "d5c3\n",
      "0.92502\n",
      "cache_hit 465\n",
      "cache_called 5042\n",
      "8/pb5k/4p2P/P3P1B1/2p5/2n5/2PK4/8 b - - 1 38\n"
     ]
    },
    {
     "name": "stderr",
     "output_type": "stream",
     "text": [
      "192.168.170.77 - - [23/Aug/2023 15:15:33] \"POST /predict HTTP/1.1\" 200 -\n"
     ]
    },
    {
     "name": "stdout",
     "output_type": "stream",
     "text": [
      "c3e4\n",
      "0.930998\n",
      "cache_hit 465\n",
      "cache_called 5043\n",
      "8/pb5k/4p2P/P3P1B1/2p1n3/4K3/2P5/8 b - - 3 39\n"
     ]
    },
    {
     "name": "stderr",
     "output_type": "stream",
     "text": [
      "192.168.170.77 - - [23/Aug/2023 15:15:36] \"POST /predict HTTP/1.1\" 200 -\n"
     ]
    },
    {
     "name": "stdout",
     "output_type": "stream",
     "text": [
      "e4g5\n",
      "0.891093\n",
      "cache_hit 465\n",
      "cache_called 5044\n",
      "8/pb5k/4p2P/P3P1n1/2pK4/8/2P5/8 b - - 1 40\n"
     ]
    },
    {
     "name": "stderr",
     "output_type": "stream",
     "text": [
      "192.168.170.77 - - [23/Aug/2023 15:15:41] \"POST /predict HTTP/1.1\" 200 -\n"
     ]
    },
    {
     "name": "stdout",
     "output_type": "stream",
     "text": [
      "b7f3\n",
      "0.894142\n",
      "cache_hit 465\n",
      "cache_called 5045\n",
      "8/p6k/4p2P/P3P1n1/2K5/5b2/2P5/8 b - - 0 41\n"
     ]
    },
    {
     "name": "stderr",
     "output_type": "stream",
     "text": [
      "192.168.170.77 - - [23/Aug/2023 15:15:46] \"POST /predict HTTP/1.1\" 200 -\n"
     ]
    },
    {
     "name": "stdout",
     "output_type": "stream",
     "text": [
      "f3e2\n",
      "0.783991\n",
      "cache_hit 465\n",
      "cache_called 5046\n",
      "8/p6k/4p2P/P1K1P1n1/8/8/2P1b3/8 b - - 2 42\n"
     ]
    },
    {
     "name": "stderr",
     "output_type": "stream",
     "text": [
      "192.168.170.77 - - [23/Aug/2023 15:15:51] \"POST /predict HTTP/1.1\" 200 -\n"
     ]
    },
    {
     "name": "stdout",
     "output_type": "stream",
     "text": [
      "e2g4\n",
      "0.751485\n",
      "cache_hit 465\n",
      "cache_called 5047\n",
      "8/p6k/2K1p2P/P3P1n1/6b1/8/2P5/8 b - - 4 43\n"
     ]
    },
    {
     "name": "stderr",
     "output_type": "stream",
     "text": [
      "192.168.170.77 - - [23/Aug/2023 15:15:57] \"POST /predict HTTP/1.1\" 200 -\n"
     ]
    },
    {
     "name": "stdout",
     "output_type": "stream",
     "text": [
      "g5f7\n",
      "0.788\n",
      "cache_hit 465\n",
      "cache_called 5048\n",
      "8/pK3n1k/4p2P/P3P3/6b1/8/2P5/8 b - - 6 44\n"
     ]
    },
    {
     "name": "stderr",
     "output_type": "stream",
     "text": [
      "192.168.170.77 - - [23/Aug/2023 15:16:02] \"POST /predict HTTP/1.1\" 200 -\n"
     ]
    },
    {
     "name": "stdout",
     "output_type": "stream",
     "text": [
      "g4f5\n",
      "0.755999\n",
      "cache_hit 465\n",
      "cache_called 5049\n",
      "8/K4n1k/4p2P/P3Pb2/8/8/2P5/8 b - - 0 45\n"
     ]
    },
    {
     "name": "stderr",
     "output_type": "stream",
     "text": [
      "192.168.170.77 - - [23/Aug/2023 15:16:07] \"POST /predict HTTP/1.1\" 200 -\n"
     ]
    },
    {
     "name": "stdout",
     "output_type": "stream",
     "text": [
      "f7e5\n",
      "0.632996\n",
      "cache_hit 465\n",
      "cache_called 5050\n",
      "8/7k/1K2p2P/P3nb2/8/8/2P5/8 b - - 1 46\n"
     ]
    },
    {
     "name": "stderr",
     "output_type": "stream",
     "text": [
      "192.168.170.77 - - [23/Aug/2023 15:16:10] \"POST /predict HTTP/1.1\" 200 -\n"
     ]
    },
    {
     "name": "stdout",
     "output_type": "stream",
     "text": [
      "e5c4\n",
      "0.659998\n",
      "cache_hit 465\n",
      "cache_called 5051\n",
      "8/7k/4p2P/PK3b2/2n5/8/2P5/8 b - - 3 47\n"
     ]
    },
    {
     "name": "stderr",
     "output_type": "stream",
     "text": [
      "192.168.170.77 - - [23/Aug/2023 15:16:14] \"POST /predict HTTP/1.1\" 200 -\n"
     ]
    },
    {
     "name": "stdout",
     "output_type": "stream",
     "text": [
      "c4d6\n",
      "0.641637\n",
      "cache_hit 465\n",
      "cache_called 5052\n",
      "8/7k/1K1np2P/P4b2/8/8/2P5/8 b - - 5 48\n"
     ]
    },
    {
     "name": "stderr",
     "output_type": "stream",
     "text": [
      "192.168.170.77 - - [23/Aug/2023 15:16:18] \"POST /predict HTTP/1.1\" 200 -\n"
     ]
    },
    {
     "name": "stdout",
     "output_type": "stream",
     "text": [
      "d6c4\n",
      "0.645218\n",
      "cache_hit 465\n",
      "cache_called 5053\n",
      "8/7k/4p2P/PK3b2/2n5/8/2P5/8 b - - 7 49\n"
     ]
    },
    {
     "name": "stderr",
     "output_type": "stream",
     "text": [
      "192.168.170.77 - - [23/Aug/2023 15:16:23] \"POST /predict HTTP/1.1\" 200 -\n"
     ]
    },
    {
     "name": "stdout",
     "output_type": "stream",
     "text": [
      "c4d6\n",
      "0.627407\n",
      "cache_hit 465\n",
      "cache_called 5054\n",
      "8/7k/3np2P/P4b2/1K6/8/2P5/8 b - - 9 50\n"
     ]
    },
    {
     "name": "stderr",
     "output_type": "stream",
     "text": [
      "192.168.170.77 - - [23/Aug/2023 15:16:27] \"POST /predict HTTP/1.1\" 200 -\n"
     ]
    },
    {
     "name": "stdout",
     "output_type": "stream",
     "text": [
      "d6e4\n",
      "0.608998\n",
      "cache_hit 465\n",
      "cache_called 5055\n",
      "8/7k/P3p2P/5b2/1K2n3/8/2P5/8 b - - 0 51\n"
     ]
    },
    {
     "name": "stderr",
     "output_type": "stream",
     "text": [
      "192.168.170.77 - - [23/Aug/2023 15:16:31] \"POST /predict HTTP/1.1\" 200 -\n"
     ]
    },
    {
     "name": "stdout",
     "output_type": "stream",
     "text": [
      "e4f6\n",
      "0.636116\n",
      "cache_hit 465\n",
      "cache_called 5056\n",
      "8/P6k/4pn1P/5b2/1K6/8/2P5/8 b - - 0 52\n"
     ]
    },
    {
     "name": "stderr",
     "output_type": "stream",
     "text": [
      "192.168.170.77 - - [23/Aug/2023 15:16:42] \"POST /predict HTTP/1.1\" 200 -\n"
     ]
    },
    {
     "name": "stdout",
     "output_type": "stream",
     "text": [
      "f6e4\n",
      "0.627997\n",
      "cache_hit 465\n",
      "cache_called 5057\n",
      "Q7/7k/4p2P/5b2/1K2n3/8/2P5/8 b - - 0 53\n"
     ]
    },
    {
     "name": "stderr",
     "output_type": "stream",
     "text": [
      "192.168.170.77 - - [23/Aug/2023 15:16:47] \"POST /predict HTTP/1.1\" 200 -\n"
     ]
    },
    {
     "name": "stdout",
     "output_type": "stream",
     "text": [
      "e4f6\n",
      "0.626079\n",
      "cache_hit 465\n",
      "cache_called 5058\n",
      "8/Q6k/4pn1P/5b2/1K6/8/2P5/8 b - - 2 54\n"
     ]
    },
    {
     "name": "stderr",
     "output_type": "stream",
     "text": [
      "192.168.170.77 - - [23/Aug/2023 15:16:55] \"POST /predict HTTP/1.1\" 200 -\n"
     ]
    },
    {
     "name": "stdout",
     "output_type": "stream",
     "text": [
      "h7h6\n",
      "0.629965\n",
      "cache_hit 465\n",
      "cache_called 5059\n",
      "8/8/4pn1k/5b2/1K1Q4/8/2P5/8 b - - 1 55\n"
     ]
    },
    {
     "name": "stderr",
     "output_type": "stream",
     "text": [
      "192.168.170.77 - - [23/Aug/2023 15:17:05] \"POST /predict HTTP/1.1\" 200 -\n"
     ]
    },
    {
     "name": "stdout",
     "output_type": "stream",
     "text": [
      "h6g6\n",
      "0.629999\n",
      "cache_hit 465\n",
      "cache_called 5060\n",
      "8/8/4pnk1/5b2/1K1Q4/2P5/8/8 b - - 0 56\n"
     ]
    },
    {
     "name": "stderr",
     "output_type": "stream",
     "text": [
      "192.168.170.77 - - [23/Aug/2023 15:17:09] \"POST /predict HTTP/1.1\" 200 -\n"
     ]
    },
    {
     "name": "stdout",
     "output_type": "stream",
     "text": [
      "f6e4\n",
      "0.821998\n",
      "cache_hit 465\n",
      "cache_called 5061\n",
      "8/8/4p1k1/5b2/1KPQn3/8/8/8 b - - 0 57\n"
     ]
    },
    {
     "name": "stderr",
     "output_type": "stream",
     "text": [
      "192.168.170.77 - - [23/Aug/2023 15:17:13] \"POST /predict HTTP/1.1\" 200 -\n"
     ]
    },
    {
     "name": "stdout",
     "output_type": "stream",
     "text": [
      "e4f6\n",
      "0.639933\n",
      "cache_hit 465\n",
      "cache_called 5062\n",
      "8/8/4pnk1/2P2b2/1K1Q4/8/8/8 b - - 0 58\n"
     ]
    },
    {
     "name": "stderr",
     "output_type": "stream",
     "text": [
      "192.168.170.77 - - [23/Aug/2023 15:17:16] \"POST /predict HTTP/1.1\" 200 -\n"
     ]
    },
    {
     "name": "stdout",
     "output_type": "stream",
     "text": [
      "e6e5\n",
      "0.631833\n",
      "cache_hit 465\n",
      "cache_called 5063\n",
      "8/8/5nk1/2P1Qb2/1K6/8/8/8 b - - 0 59\n"
     ]
    },
    {
     "name": "stderr",
     "output_type": "stream",
     "text": [
      "192.168.170.77 - - [23/Aug/2023 15:17:23] \"POST /predict HTTP/1.1\" 200 -\n"
     ]
    },
    {
     "name": "stdout",
     "output_type": "stream",
     "text": [
      "f6g4\n",
      "0.501302\n",
      "cache_hit 465\n",
      "cache_called 5064\n",
      "8/8/2P3k1/4Qb2/1K4n1/8/8/8 b - - 0 60\n"
     ]
    },
    {
     "name": "stderr",
     "output_type": "stream",
     "text": [
      "192.168.170.77 - - [23/Aug/2023 15:17:26] \"POST /predict HTTP/1.1\" 200 -\n"
     ]
    },
    {
     "name": "stdout",
     "output_type": "stream",
     "text": [
      "g4e5\n",
      "0.504107\n",
      "cache_hit 465\n",
      "cache_called 5065\n",
      "8/2P5/6k1/4nb2/1K6/8/8/8 b - - 0 61\n"
     ]
    },
    {
     "name": "stderr",
     "output_type": "stream",
     "text": [
      "192.168.170.77 - - [23/Aug/2023 15:17:31] \"POST /predict HTTP/1.1\" 200 -\n"
     ]
    },
    {
     "name": "stdout",
     "output_type": "stream",
     "text": [
      "e5c6\n",
      "0.500998\n",
      "cache_hit 465\n",
      "cache_called 5066\n",
      "8/2P5/2n3k1/5b2/2K5/8/8/8 b - - 2 62\n"
     ]
    },
    {
     "name": "stderr",
     "output_type": "stream",
     "text": [
      "192.168.170.77 - - [23/Aug/2023 15:17:36] \"POST /predict HTTP/1.1\" 200 -\n"
     ]
    },
    {
     "name": "stdout",
     "output_type": "stream",
     "text": [
      "c6e5\n",
      "0.489945\n",
      "cache_hit 465\n",
      "cache_called 5067\n",
      "8/2P5/6k1/2K1nb2/8/8/8/8 b - - 4 63\n"
     ]
    },
    {
     "name": "stderr",
     "output_type": "stream",
     "text": [
      "192.168.170.77 - - [23/Aug/2023 15:17:41] \"POST /predict HTTP/1.1\" 200 -\n"
     ]
    },
    {
     "name": "stdout",
     "output_type": "stream",
     "text": [
      "f5e6\n",
      "0.491106\n",
      "cache_hit 465\n",
      "cache_called 5068\n",
      "8/2P5/3Kb1k1/4n3/8/8/8/8 b - - 6 64\n"
     ]
    },
    {
     "name": "stderr",
     "output_type": "stream",
     "text": [
      "192.168.170.77 - - [23/Aug/2023 15:17:48] \"POST /predict HTTP/1.1\" 200 -\n"
     ]
    },
    {
     "name": "stdout",
     "output_type": "stream",
     "text": [
      "e6c8\n",
      "0.493544\n",
      "cache_hit 465\n",
      "cache_called 5069\n",
      "2b5/2P5/6k1/4K3/8/8/8/8 b - - 0 65\n"
     ]
    },
    {
     "name": "stderr",
     "output_type": "stream",
     "text": [
      "192.168.170.77 - - [23/Aug/2023 15:17:53] \"POST /predict HTTP/1.1\" 200 -\n"
     ]
    },
    {
     "name": "stdout",
     "output_type": "stream",
     "text": [
      "c8b7\n",
      "0.359034\n",
      "cache_hit 465\n",
      "cache_called 5070\n",
      "8/1bP5/3K2k1/8/8/8/8/8 b - - 2 66\n"
     ]
    },
    {
     "name": "stderr",
     "output_type": "stream",
     "text": [
      "192.168.170.77 - - [23/Aug/2023 15:17:58] \"POST /predict HTTP/1.1\" 200 -\n"
     ]
    },
    {
     "name": "stdout",
     "output_type": "stream",
     "text": [
      "b7c8\n",
      "0.347784\n",
      "cache_hit 465\n",
      "cache_called 5071\n",
      "2b5/2P5/2K3k1/8/8/8/8/8 b - - 4 67\n"
     ]
    },
    {
     "name": "stderr",
     "output_type": "stream",
     "text": [
      "192.168.170.77 - - [23/Aug/2023 15:18:10] \"POST /predict HTTP/1.1\" 200 -\n"
     ]
    },
    {
     "name": "stdout",
     "output_type": "stream",
     "text": [
      "c8b7\n",
      "0.344\n",
      "cache_hit 465\n",
      "cache_called 5072\n",
      "8/1KP5/6k1/8/8/8/8/8 b - - 0 68\n"
     ]
    },
    {
     "name": "stderr",
     "output_type": "stream",
     "text": [
      "192.168.170.77 - - [23/Aug/2023 15:18:13] \"POST /predict HTTP/1.1\" 200 -\n"
     ]
    },
    {
     "name": "stdout",
     "output_type": "stream",
     "text": [
      "g6f5\n",
      "0.223114\n",
      "cache_hit 465\n",
      "cache_called 5073\n",
      "2Q5/1K6/8/5k2/8/8/8/8 b - - 0 69\n"
     ]
    },
    {
     "name": "stderr",
     "output_type": "stream",
     "text": [
      "192.168.170.77 - - [23/Aug/2023 15:18:15] \"POST /predict HTTP/1.1\" 200 -\n"
     ]
    },
    {
     "name": "stdout",
     "output_type": "stream",
     "text": [
      "f5f4\n",
      "0.225395\n",
      "cache_hit 465\n",
      "cache_called 5074\n",
      "4Q3/1K6/8/8/5k2/8/8/8 b - - 2 70\n"
     ]
    },
    {
     "name": "stderr",
     "output_type": "stream",
     "text": [
      "192.168.170.77 - - [23/Aug/2023 15:18:28] \"POST /predict HTTP/1.1\" 200 -\n"
     ]
    },
    {
     "name": "stdout",
     "output_type": "stream",
     "text": [
      "f4g3\n",
      "0.213946\n",
      "cache_hit 465\n",
      "cache_called 5075\n",
      "5Q2/1K6/8/8/8/6k1/8/8 b - - 4 71\n"
     ]
    },
    {
     "name": "stderr",
     "output_type": "stream",
     "text": [
      "192.168.170.77 - - [23/Aug/2023 15:18:31] \"POST /predict HTTP/1.1\" 200 -\n"
     ]
    },
    {
     "name": "stdout",
     "output_type": "stream",
     "text": [
      "g3g4\n",
      "0.21173\n",
      "cache_hit 465\n",
      "cache_called 5076\n",
      "5Q2/8/2K5/8/6k1/8/8/8 b - - 6 72\n"
     ]
    },
    {
     "name": "stderr",
     "output_type": "stream",
     "text": [
      "192.168.170.77 - - [23/Aug/2023 15:18:34] \"POST /predict HTTP/1.1\" 200 -\n"
     ]
    },
    {
     "name": "stdout",
     "output_type": "stream",
     "text": [
      "g4g3\n",
      "0.213984\n",
      "cache_hit 465\n",
      "cache_called 5077\n"
     ]
    },
    {
     "name": "stderr",
     "output_type": "stream",
     "text": [
      "192.168.170.77 - - [23/Aug/2023 15:18:52] \"POST /predict HTTP/1.1\" 200 -\n"
     ]
    },
    {
     "name": "stdout",
     "output_type": "stream",
     "text": [
      "5Q2/8/3K4/8/8/6k1/8/8 b - - 8 73\n",
      "g3g4\n",
      "0.198924\n",
      "cache_hit 465\n",
      "cache_called 5078\n",
      "5Q2/8/8/4K3/6k1/8/8/8 b - - 10 74\n",
      "g4g5\n",
      "0.209579\n",
      "cache_hit 465\n",
      "cache_called 5079\n"
     ]
    },
    {
     "name": "stderr",
     "output_type": "stream",
     "text": [
      "192.168.170.77 - - [23/Aug/2023 15:18:55] \"POST /predict HTTP/1.1\" 200 -\n"
     ]
    },
    {
     "name": "stdout",
     "output_type": "stream",
     "text": [
      "8/8/8/4KQk1/8/8/8/8 b - - 12 75\n"
     ]
    },
    {
     "name": "stderr",
     "output_type": "stream",
     "text": [
      "192.168.170.77 - - [23/Aug/2023 15:19:03] \"POST /predict HTTP/1.1\" 200 -\n"
     ]
    },
    {
     "name": "stdout",
     "output_type": "stream",
     "text": [
      "g5h6\n",
      "0.219748\n",
      "cache_hit 465\n",
      "cache_called 5080\n",
      "8/8/7k/4K3/6Q1/8/8/8 b - - 14 76\n",
      "h6h7\n",
      "0.215902\n",
      "cache_hit 465\n",
      "cache_called 5081\n"
     ]
    },
    {
     "name": "stderr",
     "output_type": "stream",
     "text": [
      "192.168.170.77 - - [23/Aug/2023 15:19:09] \"POST /predict HTTP/1.1\" 200 -\n",
      "192.168.170.77 - - [23/Aug/2023 15:19:13] \"POST /predict HTTP/1.1\" 200 -\n"
     ]
    },
    {
     "name": "stdout",
     "output_type": "stream",
     "text": [
      "8/7k/8/5K2/6Q1/8/8/8 b - - 16 77\n",
      "h7h8\n",
      "0.214986\n",
      "cache_hit 465\n",
      "cache_called 5082\n",
      "7k/8/8/6K1/6Q1/8/8/8 b - - 18 78\n"
     ]
    },
    {
     "name": "stderr",
     "output_type": "stream",
     "text": [
      "192.168.170.77 - - [23/Aug/2023 15:19:15] \"POST /predict HTTP/1.1\" 200 -\n"
     ]
    },
    {
     "name": "stdout",
     "output_type": "stream",
     "text": [
      "h8h7\n",
      "0.223191\n",
      "cache_hit 465\n",
      "cache_called 5083\n",
      "8/7k/5K2/8/6Q1/8/8/8 b - - 20 79\n"
     ]
    },
    {
     "name": "stderr",
     "output_type": "stream",
     "text": [
      "192.168.170.77 - - [23/Aug/2023 15:19:21] \"POST /predict HTTP/1.1\" 200 -\n"
     ]
    },
    {
     "name": "stdout",
     "output_type": "stream",
     "text": [
      "h7h8\n",
      "0.218445\n",
      "cache_hit 465\n",
      "cache_called 5084\n"
     ]
    },
    {
     "name": "stderr",
     "output_type": "stream",
     "text": [
      "192.168.85.39 - - [23/Aug/2023 15:21:54] \"POST /predict HTTP/1.1\" 200 -\n"
     ]
    },
    {
     "name": "stdout",
     "output_type": "stream",
     "text": [
      "rnbqkbnr/pppppppp/8/8/4P3/8/PPPP1PPP/RNBQKBNR b KQkq e3 0 1\n",
      "c7c5\n",
      "0.0\n",
      "cache_hit 466\n",
      "cache_called 5085\n",
      "rnbqkbnr/pp1ppppp/8/2p4Q/4P3/8/PPPP1PPP/RNB1KBNR b KQkq - 1 2\n"
     ]
    },
    {
     "name": "stderr",
     "output_type": "stream",
     "text": [
      "192.168.85.39 - - [23/Aug/2023 15:22:10] \"POST /predict HTTP/1.1\" 200 -\n"
     ]
    },
    {
     "name": "stdout",
     "output_type": "stream",
     "text": [
      "b8c6\n",
      "0.902757\n",
      "cache_hit 466\n",
      "cache_called 5086\n",
      "r1bqkbnr/pp1ppppp/2n5/2p4Q/4P3/3B4/PPPP1PPP/RNB1K1NR b KQkq - 3 3\n"
     ]
    },
    {
     "name": "stderr",
     "output_type": "stream",
     "text": [
      "192.168.85.39 - - [23/Aug/2023 15:22:15] \"POST /predict HTTP/1.1\" 200 -\n"
     ]
    },
    {
     "name": "stdout",
     "output_type": "stream",
     "text": [
      "g7g6\n",
      "0.910193\n",
      "cache_hit 466\n",
      "cache_called 5087\n",
      "r1bqkbnr/pp1ppp1p/2n3p1/2p1Q3/4P3/3B4/PPPP1PPP/RNB1K1NR b KQkq - 1 4\n"
     ]
    },
    {
     "name": "stderr",
     "output_type": "stream",
     "text": [
      "192.168.85.39 - - [23/Aug/2023 15:22:31] \"POST /predict HTTP/1.1\" 200 -\n"
     ]
    },
    {
     "name": "stdout",
     "output_type": "stream",
     "text": [
      "f8g7\n",
      "0.896968\n",
      "cache_hit 466\n",
      "cache_called 5088\n",
      "r1bqk1nr/pp1pppbp/2n3p1/2p1Q3/4P3/3B1N2/PPPP1PPP/RNB1K2R b KQkq - 3 5\n"
     ]
    },
    {
     "name": "stderr",
     "output_type": "stream",
     "text": [
      "192.168.85.39 - - [23/Aug/2023 15:22:44] \"POST /predict HTTP/1.1\" 200 -\n"
     ]
    },
    {
     "name": "stdout",
     "output_type": "stream",
     "text": [
      "d7d6\n",
      "0.949863\n",
      "cache_hit 466\n",
      "cache_called 5089\n",
      "r1bqk1nr/pp2ppQp/2np2p1/2p5/4P3/3B1N2/PPPP1PPP/RNB1K2R b KQkq - 0 6\n"
     ]
    },
    {
     "name": "stderr",
     "output_type": "stream",
     "text": [
      "192.168.85.39 - - [23/Aug/2023 15:23:14] \"POST /predict HTTP/1.1\" 200 -\n"
     ]
    },
    {
     "name": "stdout",
     "output_type": "stream",
     "text": [
      "c8g4\n",
      "0.927551\n",
      "cache_hit 466\n",
      "cache_called 5090\n",
      "r2qk1nQ/pp2pp1p/2np2p1/2p5/4P1b1/3B1N2/PPPP1PPP/RNB1K2R b KQq - 0 7\n"
     ]
    },
    {
     "name": "stderr",
     "output_type": "stream",
     "text": [
      "192.168.85.39 - - [23/Aug/2023 15:23:20] \"POST /predict HTTP/1.1\" 200 -\n"
     ]
    },
    {
     "name": "stdout",
     "output_type": "stream",
     "text": [
      "g4f3\n",
      "0.893185\n",
      "cache_hit 466\n",
      "cache_called 5091\n",
      "r2qk1nQ/pp2pp1p/2np2p1/2p5/4P3/3B1P2/PPPP1P1P/RNB1K2R b KQq - 0 8\n"
     ]
    },
    {
     "name": "stderr",
     "output_type": "stream",
     "text": [
      "192.168.85.39 - - [23/Aug/2023 15:23:29] \"POST /predict HTTP/1.1\" 200 -\n"
     ]
    },
    {
     "name": "stdout",
     "output_type": "stream",
     "text": [
      "d8d7\n",
      "0.909079\n",
      "cache_hit 466\n",
      "cache_called 5092\n"
     ]
    },
    {
     "name": "stderr",
     "output_type": "stream",
     "text": [
      "192.168.85.140 - - [23/Aug/2023 16:02:34] \"POST /predict HTTP/1.1\" 200 -\n"
     ]
    },
    {
     "name": "stdout",
     "output_type": "stream",
     "text": [
      "rnbqkbnr/pppppppp/8/8/4P3/8/PPPP1PPP/RNBQKBNR b KQkq e3 0 1\n",
      "c7c5\n",
      "0.0\n",
      "cache_hit 467\n",
      "cache_called 5093\n"
     ]
    },
    {
     "name": "stderr",
     "output_type": "stream",
     "text": [
      "192.168.85.140 - - [23/Aug/2023 16:02:39] \"POST /predict HTTP/1.1\" 200 -\n"
     ]
    },
    {
     "name": "stdout",
     "output_type": "stream",
     "text": [
      "rnbqkbnr/pp1ppppp/8/2p5/4P3/5N2/PPPP1PPP/RNBQKB1R b KQkq - 1 2\n",
      "b8c6\n",
      "0.001\n",
      "cache_hit 468\n",
      "cache_called 5094\n",
      "r1bqkbnr/pp1ppppp/2n5/2p5/4P3/2N2N2/PPPP1PPP/R1BQKB1R b KQkq - 3 3\n"
     ]
    },
    {
     "name": "stderr",
     "output_type": "stream",
     "text": [
      "192.168.85.140 - - [23/Aug/2023 16:02:44] \"POST /predict HTTP/1.1\" 200 -\n"
     ]
    },
    {
     "name": "stdout",
     "output_type": "stream",
     "text": [
      "g7g6\n",
      "0.997463\n",
      "cache_hit 468\n",
      "cache_called 5095\n",
      "r1bqkbnr/pp1ppp1p/2n3p1/1Bp5/4P3/2N2N2/PPPP1PPP/R1BQK2R b KQkq - 1 4\n"
     ]
    },
    {
     "name": "stderr",
     "output_type": "stream",
     "text": [
      "192.168.85.140 - - [23/Aug/2023 16:02:54] \"POST /predict HTTP/1.1\" 200 -\n"
     ]
    },
    {
     "name": "stdout",
     "output_type": "stream",
     "text": [
      "f8g7\n",
      "0.955986\n",
      "cache_hit 468\n",
      "cache_called 5096\n",
      "r1bqk1nr/pp1pppbp/2n3p1/1Bp5/4P3/2NP1N2/PPP2PPP/R1BQK2R b KQkq - 0 5\n"
     ]
    },
    {
     "name": "stderr",
     "output_type": "stream",
     "text": [
      "192.168.85.140 - - [23/Aug/2023 16:02:58] \"POST /predict HTTP/1.1\" 200 -\n"
     ]
    },
    {
     "name": "stdout",
     "output_type": "stream",
     "text": [
      "c6d4\n",
      "0.922928\n",
      "cache_hit 468\n",
      "cache_called 5097\n",
      "r1bqk1nr/pp1pppbp/6p1/1Bp5/3NP3/2NP4/PPP2PPP/R1BQK2R b KQkq - 0 6\n"
     ]
    },
    {
     "name": "stderr",
     "output_type": "stream",
     "text": [
      "192.168.85.140 - - [23/Aug/2023 16:03:02] \"POST /predict HTTP/1.1\" 200 -\n"
     ]
    },
    {
     "name": "stdout",
     "output_type": "stream",
     "text": [
      "c5d4\n",
      "0.914231\n",
      "cache_hit 468\n",
      "cache_called 5098\n",
      "r1bqk1nr/pp1pppbp/6p1/1B6/3pP3/3P4/PPP1NPPP/R1BQK2R b KQkq - 1 7\n"
     ]
    },
    {
     "name": "stderr",
     "output_type": "stream",
     "text": [
      "192.168.85.140 - - [23/Aug/2023 16:03:14] \"POST /predict HTTP/1.1\" 200 -\n"
     ]
    },
    {
     "name": "stdout",
     "output_type": "stream",
     "text": [
      "d8a5\n",
      "0.937\n",
      "cache_hit 468\n",
      "cache_called 5099\n",
      "r1b1k1nr/pp1pppbp/6p1/qB6/3pP3/2PP4/PP2NPPP/R1BQK2R b KQkq - 0 8\n"
     ]
    },
    {
     "name": "stderr",
     "output_type": "stream",
     "text": [
      "192.168.85.140 - - [23/Aug/2023 16:03:58] \"POST /predict HTTP/1.1\" 200 -\n"
     ]
    },
    {
     "name": "stdout",
     "output_type": "stream",
     "text": [
      "d4c3\n",
      "0.921394\n",
      "cache_hit 468\n",
      "cache_called 5100\n",
      "r1b1k1nr/pp1pppbp/6p1/qB6/4P3/2NP4/PP3PPP/R1BQK2R b KQkq - 0 9\n"
     ]
    },
    {
     "name": "stderr",
     "output_type": "stream",
     "text": [
      "192.168.85.140 - - [23/Aug/2023 16:04:02] \"POST /predict HTTP/1.1\" 200 -\n"
     ]
    },
    {
     "name": "stdout",
     "output_type": "stream",
     "text": [
      "g8f6\n",
      "0.9124\n",
      "cache_hit 468\n",
      "cache_called 5101\n",
      "r1b1k2r/pp1pppbp/5np1/qB4B1/4P3/2NP4/PP3PPP/R2QK2R b KQkq - 2 10\n"
     ]
    },
    {
     "name": "stderr",
     "output_type": "stream",
     "text": [
      "192.168.85.140 - - [23/Aug/2023 16:04:14] \"POST /predict HTTP/1.1\" 200 -\n"
     ]
    },
    {
     "name": "stdout",
     "output_type": "stream",
     "text": [
      "e8g8\n",
      "0.929223\n",
      "cache_hit 468\n",
      "cache_called 5102\n",
      "r1b2rk1/pp1pppbp/5np1/qB4BQ/4P3/2NP4/PP3PPP/R3K2R b KQ - 4 11\n"
     ]
    },
    {
     "name": "stderr",
     "output_type": "stream",
     "text": [
      "192.168.85.140 - - [23/Aug/2023 16:04:24] \"POST /predict HTTP/1.1\" 200 -\n"
     ]
    },
    {
     "name": "stdout",
     "output_type": "stream",
     "text": [
      "f6h5\n",
      "0.902001\n",
      "cache_hit 468\n",
      "cache_called 5103\n",
      "r1b2rk1/pp1pBpbp/6p1/qB5n/4P3/2NP4/PP3PPP/R3K2R b KQ - 0 12\n"
     ]
    },
    {
     "name": "stderr",
     "output_type": "stream",
     "text": [
      "192.168.85.140 - - [23/Aug/2023 16:30:12] \"POST /predict HTTP/1.1\" 200 -\n"
     ]
    },
    {
     "name": "stdout",
     "output_type": "stream",
     "text": [
      "f8e8\n",
      "1.111145\n",
      "cache_hit 468\n",
      "cache_called 5104\n",
      "r1b1r1k1/pp1p1pbp/6p1/qB5n/1B2P3/2NP4/PP3PPP/R3K2R b KQ - 2 13\n"
     ]
    },
    {
     "name": "stderr",
     "output_type": "stream",
     "text": [
      "192.168.85.140 - - [23/Aug/2023 16:30:15] \"POST /predict HTTP/1.1\" 200 -\n"
     ]
    },
    {
     "name": "stdout",
     "output_type": "stream",
     "text": [
      "a5b4\n",
      "0.868491\n",
      "cache_hit 468\n",
      "cache_called 5105\n",
      "r1b1r1k1/pp1p1pbp/6p1/1B5n/1q2P3/P1NP4/1P3PPP/R3K2R b KQ - 0 14\n"
     ]
    },
    {
     "name": "stderr",
     "output_type": "stream",
     "text": [
      "192.168.85.140 - - [23/Aug/2023 16:30:19] \"POST /predict HTTP/1.1\" 200 -\n"
     ]
    },
    {
     "name": "stdout",
     "output_type": "stream",
     "text": [
      "b4a5\n",
      "0.905\n",
      "cache_hit 468\n",
      "cache_called 5106\n",
      "r1b1r1k1/pp1p1pbp/6p1/qB5n/1P2P3/P1NP4/5PPP/R3K2R b KQ b3 0 15\n"
     ]
    },
    {
     "name": "stderr",
     "output_type": "stream",
     "text": [
      "192.168.85.140 - - [23/Aug/2023 16:30:24] \"POST /predict HTTP/1.1\" 200 -\n"
     ]
    },
    {
     "name": "stdout",
     "output_type": "stream",
     "text": [
      "a5b6\n",
      "0.899962\n",
      "cache_hit 468\n",
      "cache_called 5107\n",
      "r1b1r1k1/pp1B1pbp/1q4p1/7n/1P2P3/P1NP4/5PPP/R3K2R b KQ - 0 16\n"
     ]
    },
    {
     "name": "stderr",
     "output_type": "stream",
     "text": [
      "192.168.85.140 - - [23/Aug/2023 16:30:27] \"POST /predict HTTP/1.1\" 200 -\n"
     ]
    },
    {
     "name": "stdout",
     "output_type": "stream",
     "text": [
      "c8d7\n",
      "0.916939\n",
      "cache_hit 468\n",
      "cache_called 5108\n",
      "r3r1k1/pp1b1pbp/1q4p1/7n/1P2P3/P1NP4/5PPP/R4RK1 b - - 1 17\n"
     ]
    },
    {
     "name": "stderr",
     "output_type": "stream",
     "text": [
      "192.168.85.140 - - [23/Aug/2023 16:30:35] \"POST /predict HTTP/1.1\" 200 -\n"
     ]
    },
    {
     "name": "stdout",
     "output_type": "stream",
     "text": [
      "d7e6\n",
      "0.862978\n",
      "cache_hit 468\n",
      "cache_called 5109\n",
      "r3r1k1/pp3pbp/1q2b1p1/7n/1P1PP3/P1N5/5PPP/R4RK1 b - - 0 18\n"
     ]
    },
    {
     "name": "stderr",
     "output_type": "stream",
     "text": [
      "192.168.85.140 - - [23/Aug/2023 16:30:40] \"POST /predict HTTP/1.1\" 200 -\n"
     ]
    },
    {
     "name": "stdout",
     "output_type": "stream",
     "text": [
      "e6c4\n",
      "0.903002\n",
      "cache_hit 468\n",
      "cache_called 5110\n",
      "r3r1k1/pp3pbp/1q4p1/7n/1PbPP3/P1N5/5PPP/R1R3K1 b - - 2 19\n"
     ]
    },
    {
     "name": "stderr",
     "output_type": "stream",
     "text": [
      "192.168.85.140 - - [23/Aug/2023 16:30:44] \"POST /predict HTTP/1.1\" 200 -\n"
     ]
    },
    {
     "name": "stdout",
     "output_type": "stream",
     "text": [
      "b6a6\n",
      "0.899208\n",
      "cache_hit 468\n",
      "cache_called 5111\n",
      "r3r1k1/pp3pbp/q5p1/1P5n/2bPP3/P1N5/5PPP/R1R3K1 b - - 0 20\n"
     ]
    },
    {
     "name": "stderr",
     "output_type": "stream",
     "text": [
      "192.168.85.140 - - [23/Aug/2023 16:30:47] \"POST /predict HTTP/1.1\" 200 -\n"
     ]
    },
    {
     "name": "stdout",
     "output_type": "stream",
     "text": [
      "a6a5\n",
      "0.898\n",
      "cache_hit 468\n",
      "cache_called 5112\n",
      "r3r1k1/pp3pbp/6p1/qP1N3n/2bPP3/P7/5PPP/R1R3K1 b - - 2 21\n"
     ]
    },
    {
     "name": "stderr",
     "output_type": "stream",
     "text": [
      "192.168.85.140 - - [23/Aug/2023 16:30:52] \"POST /predict HTTP/1.1\" 200 -\n"
     ]
    },
    {
     "name": "stdout",
     "output_type": "stream",
     "text": [
      "c4d5\n",
      "0.892751\n",
      "cache_hit 468\n",
      "cache_called 5113\n",
      "r3r1k1/pp3pbp/6p1/qP1P3n/3P4/P7/5PPP/R1R3K1 b - - 0 22\n"
     ]
    },
    {
     "name": "stderr",
     "output_type": "stream",
     "text": [
      "192.168.85.140 - - [23/Aug/2023 16:30:54] \"POST /predict HTTP/1.1\" 200 -\n"
     ]
    },
    {
     "name": "stdout",
     "output_type": "stream",
     "text": [
      "g7d4\n",
      "0.88396\n",
      "cache_hit 468\n",
      "cache_called 5114\n",
      "r3r1k1/pp3p1p/6p1/qP1P3n/2Rb4/P7/5PPP/R5K1 b - - 1 23\n"
     ]
    },
    {
     "name": "stderr",
     "output_type": "stream",
     "text": [
      "192.168.85.140 - - [23/Aug/2023 16:31:00] \"POST /predict HTTP/1.1\" 200 -\n"
     ]
    },
    {
     "name": "stdout",
     "output_type": "stream",
     "text": [
      "d4b6\n",
      "0.869998\n",
      "cache_hit 468\n",
      "cache_called 5115\n",
      "r3r1k1/pp3p1p/1b4p1/qP1P3n/2R5/P7/5PPP/2R3K1 b - - 3 24\n"
     ]
    },
    {
     "name": "stderr",
     "output_type": "stream",
     "text": [
      "192.168.85.140 - - [23/Aug/2023 16:31:04] \"POST /predict HTTP/1.1\" 200 -\n"
     ]
    },
    {
     "name": "stdout",
     "output_type": "stream",
     "text": [
      "a5b5\n",
      "0.897739\n",
      "cache_hit 468\n",
      "cache_called 5116\n",
      "r3r1k1/pp3p1p/1b4p1/1q1P3n/1R6/P7/5PPP/2R3K1 b - - 1 25\n"
     ]
    },
    {
     "name": "stderr",
     "output_type": "stream",
     "text": [
      "192.168.85.140 - - [23/Aug/2023 16:31:11] \"POST /predict HTTP/1.1\" 200 -\n"
     ]
    },
    {
     "name": "stdout",
     "output_type": "stream",
     "text": [
      "b5d5\n",
      "0.919117\n",
      "cache_hit 468\n",
      "cache_called 5117\n",
      "r3r1k1/pp3p1p/1R4p1/3q3n/8/P7/5PPP/2R3K1 b - - 0 26\n"
     ]
    },
    {
     "name": "stderr",
     "output_type": "stream",
     "text": [
      "192.168.85.140 - - [23/Aug/2023 16:31:18] \"POST /predict HTTP/1.1\" 200 -\n"
     ]
    },
    {
     "name": "stdout",
     "output_type": "stream",
     "text": [
      "a7b6\n",
      "0.889817\n",
      "cache_hit 468\n",
      "cache_called 5118\n"
     ]
    },
    {
     "name": "stderr",
     "output_type": "stream",
     "text": [
      "192.168.85.140 - - [23/Aug/2023 16:31:25] \"POST /predict HTTP/1.1\" 200 -\n"
     ]
    },
    {
     "name": "stdout",
     "output_type": "stream",
     "text": [
      "rnbqkbnr/pppppppp/8/8/3P4/8/PPP1PPPP/RNBQKBNR b KQkq d3 0 1\n",
      "g8f6\n",
      "0.0\n",
      "cache_hit 469\n",
      "cache_called 5119\n"
     ]
    },
    {
     "name": "stderr",
     "output_type": "stream",
     "text": [
      "192.168.85.140 - - [23/Aug/2023 16:31:27] \"POST /predict HTTP/1.1\" 200 -\n"
     ]
    },
    {
     "name": "stdout",
     "output_type": "stream",
     "text": [
      "rnbqkb1r/pppppppp/5n2/8/2PP4/8/PP2PPPP/RNBQKBNR b KQkq c3 0 2\n",
      "e7e6\n",
      "0.0\n",
      "cache_hit 470\n",
      "cache_called 5120\n"
     ]
    },
    {
     "name": "stderr",
     "output_type": "stream",
     "text": [
      "192.168.85.140 - - [23/Aug/2023 16:31:29] \"POST /predict HTTP/1.1\" 200 -\n"
     ]
    },
    {
     "name": "stdout",
     "output_type": "stream",
     "text": [
      "rnbqkb1r/pppp1ppp/4pn2/8/2PP4/2N5/PP2PPPP/R1BQKBNR b KQkq - 1 3\n",
      "f8b4\n",
      "0.0\n",
      "cache_hit 471\n",
      "cache_called 5121\n",
      "rnbqk2r/pppp1ppp/4pn2/8/1bPP4/2N5/PP1BPPPP/R2QKBNR b KQkq - 3 4\n"
     ]
    },
    {
     "name": "stderr",
     "output_type": "stream",
     "text": [
      "192.168.85.140 - - [23/Aug/2023 16:31:35] \"POST /predict HTTP/1.1\" 200 -\n"
     ]
    },
    {
     "name": "stdout",
     "output_type": "stream",
     "text": [
      "e8g8\n",
      "0.901278\n",
      "cache_hit 471\n",
      "cache_called 5122\n",
      "rnbq1rk1/pppp1ppp/4pn2/8/1bPP4/P1N5/1P1BPPPP/R2QKBNR b KQ - 0 5\n"
     ]
    },
    {
     "name": "stderr",
     "output_type": "stream",
     "text": [
      "192.168.85.140 - - [23/Aug/2023 16:31:38] \"POST /predict HTTP/1.1\" 200 -\n"
     ]
    },
    {
     "name": "stdout",
     "output_type": "stream",
     "text": [
      "b4c3\n",
      "0.879722\n",
      "cache_hit 471\n",
      "cache_called 5123\n",
      "rnbq1rk1/pppp1ppp/4pn2/8/2PP4/P1B5/1P2PPPP/R2QKBNR b KQ - 0 6\n"
     ]
    },
    {
     "name": "stderr",
     "output_type": "stream",
     "text": [
      "192.168.85.140 - - [23/Aug/2023 16:31:41] \"POST /predict HTTP/1.1\" 200 -\n"
     ]
    },
    {
     "name": "stdout",
     "output_type": "stream",
     "text": [
      "d7d5\n",
      "0.922867\n",
      "cache_hit 471\n",
      "cache_called 5124\n",
      "rnbq1rk1/ppp2ppp/4pn2/3P4/3P4/P1B5/1P2PPPP/R2QKBNR b KQ - 0 7\n"
     ]
    },
    {
     "name": "stderr",
     "output_type": "stream",
     "text": [
      "192.168.85.140 - - [23/Aug/2023 16:31:49] \"POST /predict HTTP/1.1\" 200 -\n"
     ]
    },
    {
     "name": "stdout",
     "output_type": "stream",
     "text": [
      "e6d5\n",
      "0.93965\n",
      "cache_hit 471\n",
      "cache_called 5125\n",
      "rnbq1rk1/ppp2ppp/5n2/3p4/3P4/P1B1P3/1P3PPP/R2QKBNR b KQ - 0 8\n"
     ]
    },
    {
     "name": "stderr",
     "output_type": "stream",
     "text": [
      "192.168.85.140 - - [23/Aug/2023 16:31:52] \"POST /predict HTTP/1.1\" 200 -\n"
     ]
    },
    {
     "name": "stdout",
     "output_type": "stream",
     "text": [
      "c7c5\n",
      "0.910999\n",
      "cache_hit 471\n",
      "cache_called 5126\n",
      "rnbq1rk1/pp3ppp/5n2/1Bpp4/3P4/P1B1P3/1P3PPP/R2QK1NR b KQ - 1 9\n"
     ]
    },
    {
     "name": "stderr",
     "output_type": "stream",
     "text": [
      "192.168.85.140 - - [23/Aug/2023 16:31:56] \"POST /predict HTTP/1.1\" 200 -\n"
     ]
    },
    {
     "name": "stdout",
     "output_type": "stream",
     "text": [
      "c8d7\n",
      "0.909413\n",
      "cache_hit 471\n",
      "cache_called 5127\n",
      "rn1q1rk1/pp1B1ppp/5n2/2pp4/3P4/P1B1P3/1P3PPP/R2QK1NR b KQ - 0 10\n"
     ]
    },
    {
     "name": "stderr",
     "output_type": "stream",
     "text": [
      "192.168.85.140 - - [23/Aug/2023 16:32:01] \"POST /predict HTTP/1.1\" 200 -\n"
     ]
    },
    {
     "name": "stdout",
     "output_type": "stream",
     "text": [
      "b8d7\n",
      "0.905943\n",
      "cache_hit 471\n",
      "cache_called 5128\n",
      "r2q1rk1/pp1n1ppp/5n2/2pp4/3P4/P1B1PN2/1P3PPP/R2QK2R b KQ - 1 11\n"
     ]
    },
    {
     "name": "stderr",
     "output_type": "stream",
     "text": [
      "192.168.85.140 - - [23/Aug/2023 16:32:04] \"POST /predict HTTP/1.1\" 200 -\n"
     ]
    },
    {
     "name": "stdout",
     "output_type": "stream",
     "text": [
      "f6e4\n",
      "0.928943\n",
      "cache_hit 471\n",
      "cache_called 5129\n",
      "r2q1rk1/pp1n1ppp/8/2ppN3/3Pn3/P1B1P3/1P3PPP/R2QK2R b KQ - 3 12\n"
     ]
    },
    {
     "name": "stderr",
     "output_type": "stream",
     "text": [
      "192.168.85.140 - - [23/Aug/2023 16:32:12] \"POST /predict HTTP/1.1\" 200 -\n"
     ]
    },
    {
     "name": "stdout",
     "output_type": "stream",
     "text": [
      "d7e5\n",
      "0.905001\n",
      "cache_hit 471\n",
      "cache_called 5130\n",
      "r2q1rk1/pp3ppp/8/2ppP3/4n3/P1B1P3/1P3PPP/R2QK2R b KQ - 0 13\n"
     ]
    },
    {
     "name": "stderr",
     "output_type": "stream",
     "text": [
      "192.168.85.140 - - [23/Aug/2023 16:32:14] \"POST /predict HTTP/1.1\" 200 -\n"
     ]
    },
    {
     "name": "stdout",
     "output_type": "stream",
     "text": [
      "e4c3\n",
      "0.88897\n",
      "cache_hit 471\n",
      "cache_called 5131\n",
      "r2q1rk1/pp3ppp/8/2ppP3/8/P1P1P3/5PPP/R2QK2R b KQ - 0 14\n"
     ]
    },
    {
     "name": "stderr",
     "output_type": "stream",
     "text": [
      "192.168.85.140 - - [23/Aug/2023 16:32:16] \"POST /predict HTTP/1.1\" 200 -\n"
     ]
    },
    {
     "name": "stdout",
     "output_type": "stream",
     "text": [
      "d8a5\n",
      "0.90435\n",
      "cache_hit 471\n",
      "cache_called 5132\n",
      "r4rk1/pp3ppp/8/q1ppP3/8/P1P1P3/2Q2PPP/R3K2R b KQ - 2 15\n"
     ]
    },
    {
     "name": "stderr",
     "output_type": "stream",
     "text": [
      "192.168.85.140 - - [23/Aug/2023 16:32:22] \"POST /predict HTTP/1.1\" 200 -\n"
     ]
    },
    {
     "name": "stdout",
     "output_type": "stream",
     "text": [
      "a8c8\n",
      "0.907999\n",
      "cache_hit 471\n",
      "cache_called 5133\n",
      "2r2rk1/pp3ppp/8/q1ppP3/8/P1P1P3/2Q2PPP/R4RK1 b - - 4 16\n"
     ]
    },
    {
     "name": "stderr",
     "output_type": "stream",
     "text": [
      "192.168.85.140 - - [23/Aug/2023 16:32:26] \"POST /predict HTTP/1.1\" 200 -\n"
     ]
    },
    {
     "name": "stdout",
     "output_type": "stream",
     "text": [
      "c5c4\n",
      "0.888001\n",
      "cache_hit 471\n",
      "cache_called 5134\n",
      "2r2rk1/pp3ppp/8/q2pP3/2p5/P1P1P3/2Q2PPP/1R3RK1 b - - 1 17\n"
     ]
    },
    {
     "name": "stderr",
     "output_type": "stream",
     "text": [
      "192.168.85.140 - - [23/Aug/2023 16:32:31] \"POST /predict HTTP/1.1\" 200 -\n"
     ]
    },
    {
     "name": "stdout",
     "output_type": "stream",
     "text": [
      "c8e8\n",
      "0.926814\n",
      "cache_hit 471\n",
      "cache_called 5135\n",
      "4rrk1/pR3ppp/8/q2pP3/2p5/P1P1P3/2Q2PPP/5RK1 b - - 0 18\n"
     ]
    },
    {
     "name": "stderr",
     "output_type": "stream",
     "text": [
      "192.168.85.140 - - [23/Aug/2023 16:32:35] \"POST /predict HTTP/1.1\" 200 -\n"
     ]
    },
    {
     "name": "stdout",
     "output_type": "stream",
     "text": [
      "e8e5\n",
      "0.915849\n",
      "cache_hit 471\n",
      "cache_called 5136\n",
      "5rk1/pR3ppp/8/q2pr3/2p5/P1P1P3/2Q2PPP/1R4K1 b - - 1 19\n"
     ]
    },
    {
     "name": "stderr",
     "output_type": "stream",
     "text": [
      "192.168.85.140 - - [23/Aug/2023 16:32:43] \"POST /predict HTTP/1.1\" 200 -\n"
     ]
    },
    {
     "name": "stdout",
     "output_type": "stream",
     "text": [
      "a5a3\n",
      "0.940999\n",
      "cache_hit 471\n",
      "cache_called 5137\n",
      "5rk1/pR3ppp/8/3pr3/2p5/q1P1P1P1/2Q2P1P/1R4K1 b - - 0 20\n"
     ]
    },
    {
     "name": "stderr",
     "output_type": "stream",
     "text": [
      "192.168.85.140 - - [23/Aug/2023 16:32:54] \"POST /predict HTTP/1.1\" 200 -\n"
     ]
    },
    {
     "name": "stdout",
     "output_type": "stream",
     "text": [
      "a3d6\n",
      "1.12948\n",
      "cache_hit 471\n",
      "cache_called 5138\n",
      "5rk1/R4ppp/3q4/3pr3/2p5/2P1P1P1/2Q2P1P/1R4K1 b - - 0 21\n"
     ]
    },
    {
     "name": "stderr",
     "output_type": "stream",
     "text": [
      "192.168.85.140 - - [23/Aug/2023 16:33:01] \"POST /predict HTTP/1.1\" 200 -\n"
     ]
    },
    {
     "name": "stdout",
     "output_type": "stream",
     "text": [
      "d6f6\n",
      "0.902738\n",
      "cache_hit 471\n",
      "cache_called 5139\n",
      "5rk1/R4ppp/5q2/3pr3/2p2P2/2P1P1P1/2Q4P/1R4K1 b - f3 0 22\n"
     ]
    },
    {
     "name": "stderr",
     "output_type": "stream",
     "text": [
      "192.168.85.140 - - [23/Aug/2023 16:33:07] \"POST /predict HTTP/1.1\" 200 -\n"
     ]
    },
    {
     "name": "stdout",
     "output_type": "stream",
     "text": [
      "e5e8\n",
      "0.908025\n",
      "cache_hit 471\n",
      "cache_called 5140\n",
      "4rrk1/RR3ppp/5q2/3p4/2p2P2/2P1P1P1/2Q4P/6K1 b - - 2 23\n"
     ]
    },
    {
     "name": "stderr",
     "output_type": "stream",
     "text": [
      "192.168.85.140 - - [23/Aug/2023 16:33:13] \"POST /predict HTTP/1.1\" 200 -\n"
     ]
    },
    {
     "name": "stdout",
     "output_type": "stream",
     "text": [
      "h7h5\n",
      "0.897376\n",
      "cache_hit 471\n",
      "cache_called 5141\n",
      "4rrk1/RR3pp1/5q2/3p3p/2p1PP2/2P3P1/2Q4P/6K1 b - - 0 24\n"
     ]
    },
    {
     "name": "stderr",
     "output_type": "stream",
     "text": [
      "192.168.85.140 - - [23/Aug/2023 16:33:27] \"POST /predict HTTP/1.1\" 200 -\n"
     ]
    },
    {
     "name": "stdout",
     "output_type": "stream",
     "text": [
      "d5e4\n",
      "0.886892\n",
      "cache_hit 471\n",
      "cache_called 5142\n",
      "4rrk1/RR3pp1/5q2/7p/2p1pP2/2P3P1/2Q3KP/8 b - - 1 25\n"
     ]
    },
    {
     "name": "stderr",
     "output_type": "stream",
     "text": [
      "192.168.85.140 - - [23/Aug/2023 16:33:33] \"POST /predict HTTP/1.1\" 200 -\n"
     ]
    },
    {
     "name": "stdout",
     "output_type": "stream",
     "text": [
      "e4e3\n",
      "0.900876\n",
      "cache_hit 471\n",
      "cache_called 5143\n",
      "4rrk1/RR3pp1/5q2/7p/2p2P2/2P1p1P1/4Q1KP/8 b - - 1 26\n"
     ]
    },
    {
     "name": "stderr",
     "output_type": "stream",
     "text": [
      "192.168.85.140 - - [23/Aug/2023 16:33:36] \"POST /predict HTTP/1.1\" 200 -\n"
     ]
    },
    {
     "name": "stdout",
     "output_type": "stream",
     "text": [
      "h5h4\n",
      "0.897195\n",
      "cache_hit 471\n",
      "cache_called 5144\n",
      "4rrk1/R4pp1/5q2/8/1Rp2P1p/2P1p1P1/4Q1KP/8 b - - 1 27\n"
     ]
    },
    {
     "name": "stderr",
     "output_type": "stream",
     "text": [
      "192.168.85.140 - - [23/Aug/2023 16:33:47] \"POST /predict HTTP/1.1\" 200 -\n"
     ]
    },
    {
     "name": "stdout",
     "output_type": "stream",
     "text": [
      "h4g3\n",
      "0.903999\n",
      "cache_hit 471\n",
      "cache_called 5145\n",
      "4rrk1/R4pp1/5q2/8/1Rp2P2/2P1p1P1/4Q1K1/8 b - - 0 28\n"
     ]
    },
    {
     "name": "stderr",
     "output_type": "stream",
     "text": [
      "192.168.85.140 - - [23/Aug/2023 16:33:50] \"POST /predict HTTP/1.1\" 200 -\n"
     ]
    },
    {
     "name": "stdout",
     "output_type": "stream",
     "text": [
      "f6g6\n",
      "0.903566\n",
      "cache_hit 471\n",
      "cache_called 5146\n",
      "4rrk1/5pp1/6q1/8/RRp2P2/2P1p1P1/4Q1K1/8 b - - 2 29\n"
     ]
    },
    {
     "name": "stderr",
     "output_type": "stream",
     "text": [
      "192.168.85.140 - - [23/Aug/2023 16:33:58] \"POST /predict HTTP/1.1\" 200 -\n"
     ]
    },
    {
     "name": "stdout",
     "output_type": "stream",
     "text": [
      "e8a8\n",
      "0.905023\n",
      "cache_hit 471\n",
      "cache_called 5147\n",
      "r4rk1/5pp1/6q1/8/R1R2P2/2P1p1P1/4Q1K1/8 b - - 0 30\n"
     ]
    },
    {
     "name": "stderr",
     "output_type": "stream",
     "text": [
      "192.168.85.140 - - [23/Aug/2023 16:34:05] \"POST /predict HTTP/1.1\" 200 -\n"
     ]
    },
    {
     "name": "stdout",
     "output_type": "stream",
     "text": [
      "a8d8\n",
      "0.906806\n",
      "cache_hit 471\n",
      "cache_called 5148\n",
      "3r1rk1/5pp1/6q1/8/R2R1P2/2P1p1P1/4Q1K1/8 b - - 2 31\n"
     ]
    },
    {
     "name": "stderr",
     "output_type": "stream",
     "text": [
      "192.168.85.140 - - [23/Aug/2023 16:34:12] \"POST /predict HTTP/1.1\" 200 -\n"
     ]
    },
    {
     "name": "stdout",
     "output_type": "stream",
     "text": [
      "d8e8\n",
      "0.91301\n",
      "cache_hit 471\n",
      "cache_called 5149\n",
      "4rrk1/5pp1/6q1/8/R1PR1P2/4p1P1/4Q1K1/8 b - - 0 32\n"
     ]
    },
    {
     "name": "stderr",
     "output_type": "stream",
     "text": [
      "192.168.85.140 - - [23/Aug/2023 16:34:19] \"POST /predict HTTP/1.1\" 200 -\n"
     ]
    },
    {
     "name": "stdout",
     "output_type": "stream",
     "text": [
      "e8a8\n",
      "0.865319\n",
      "cache_hit 471\n",
      "cache_called 5150\n",
      "r4rk1/5pp1/6q1/2P5/R2R1P2/4p1P1/4Q1K1/8 b - - 0 33\n"
     ]
    },
    {
     "name": "stderr",
     "output_type": "stream",
     "text": [
      "192.168.85.140 - - [23/Aug/2023 16:34:23] \"POST /predict HTTP/1.1\" 200 -\n"
     ]
    },
    {
     "name": "stdout",
     "output_type": "stream",
     "text": [
      "a8e8\n",
      "0.912973\n",
      "cache_hit 471\n",
      "cache_called 5151\n",
      "4rrk1/5pp1/2P3q1/8/R2R1P2/4p1P1/4Q1K1/8 b - - 0 34\n"
     ]
    },
    {
     "name": "stderr",
     "output_type": "stream",
     "text": [
      "192.168.85.140 - - [23/Aug/2023 16:34:25] \"POST /predict HTTP/1.1\" 200 -\n"
     ]
    },
    {
     "name": "stdout",
     "output_type": "stream",
     "text": [
      "g6c6\n",
      "0.90492\n",
      "cache_hit 471\n",
      "cache_called 5152\n",
      "4rrk1/5pp1/2q5/8/R2R1P2/4p1P1/4Q2K/8 b - - 1 35\n"
     ]
    },
    {
     "name": "stderr",
     "output_type": "stream",
     "text": [
      "192.168.85.140 - - [23/Aug/2023 16:34:39] \"POST /predict HTTP/1.1\" 200 -\n"
     ]
    },
    {
     "name": "stdout",
     "output_type": "stream",
     "text": [
      "c6b6\n",
      "0.905701\n",
      "cache_hit 471\n",
      "cache_called 5153\n",
      "4rrk1/5pp1/1q6/8/RR3P2/4p1P1/4Q2K/8 b - - 3 36\n"
     ]
    },
    {
     "name": "stderr",
     "output_type": "stream",
     "text": [
      "192.168.85.140 - - [23/Aug/2023 16:34:43] \"POST /predict HTTP/1.1\" 200 -\n"
     ]
    },
    {
     "name": "stdout",
     "output_type": "stream",
     "text": [
      "b6g6\n",
      "0.868007\n",
      "cache_hit 471\n",
      "cache_called 5154\n",
      "4rrk1/5pp1/6q1/8/R2R1P2/4p1P1/4Q2K/8 b - - 5 37\n"
     ]
    },
    {
     "name": "stderr",
     "output_type": "stream",
     "text": [
      "192.168.85.140 - - [23/Aug/2023 16:34:49] \"POST /predict HTTP/1.1\" 200 -\n"
     ]
    },
    {
     "name": "stdout",
     "output_type": "stream",
     "text": [
      "g6e6\n",
      "0.924936\n",
      "cache_hit 471\n",
      "cache_called 5155\n"
     ]
    }
   ],
   "source": [
    "app.run(port='3200', host='0.0.0.0', debug=False)"
   ]
  },
  {
   "cell_type": "code",
   "execution_count": null,
   "metadata": {},
   "outputs": [],
   "source": []
  }
 ],
 "metadata": {
  "accelerator": "GPU",
  "colab": {
   "collapsed_sections": [
    "AyRODdF9Iy8y",
    "YzHM8MiXH9No",
    "GMPamLxTIHMf",
    "3SeXgaiyJAzP",
    "95qfeKhT-vMY",
    "-de6JLby-z4Z",
    "jkf7O_n6Jn-u",
    "oTNMNTysJO-f",
    "2avKI_bFJW52",
    "5eW-xxRUJJMJ",
    "vE6-riAxIeto",
    "nW-8nEoXJ9Qw",
    "VV_4pn-DKG9v",
    "eqdpzwHLLSH_",
    "QifQak9VNMUe",
    "z1SMoK5QR-8H"
   ],
   "gpuType": "T4",
   "provenance": []
  },
  "kernelspec": {
   "display_name": "Python 3 (ipykernel)",
   "language": "python",
   "name": "python3"
  },
  "language_info": {
   "codemirror_mode": {
    "name": "ipython",
    "version": 3
   },
   "file_extension": ".py",
   "mimetype": "text/x-python",
   "name": "python",
   "nbconvert_exporter": "python",
   "pygments_lexer": "ipython3",
   "version": "3.10.9"
  }
 },
 "nbformat": 4,
 "nbformat_minor": 1
}
