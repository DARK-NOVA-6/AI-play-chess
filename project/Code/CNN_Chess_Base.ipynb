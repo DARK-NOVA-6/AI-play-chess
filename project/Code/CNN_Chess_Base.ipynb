{
  "cells": [
    {
      "cell_type": "markdown",
      "metadata": {
        "id": "AyRODdF9Iy8y"
      },
      "source": [
        "# Getting the Environment Ready"
      ]
    },
    {
      "cell_type": "markdown",
      "metadata": {
        "id": "YzHM8MiXH9No"
      },
      "source": [
        "## Installation\n",
        "Before we can begin working with the AI chess player code, we need to set up the required environment and install necessary dependencies. Here's how you can get started:\n",
        "\n",
        "\n",
        "> Note that the ! at the beginning indicates running a shell command within the notebook (assuming you are using Jupyter or Google Colab).\n",
        "\n"
      ]
    },
    {
      "cell_type": "code",
      "execution_count": null,
      "metadata": {
        "colab": {
          "base_uri": "https://localhost:8080/"
        },
        "id": "hbmJ7wSgzjRw",
        "outputId": "77a7154c-f8b2-4bb2-eba2-3bca4f92c54b"
      },
      "outputs": [
        {
          "output_type": "stream",
          "name": "stdout",
          "text": [
            "Collecting python-chess\n",
            "  Downloading python_chess-1.999-py3-none-any.whl (1.4 kB)\n",
            "Collecting chess<2,>=1 (from python-chess)\n",
            "  Downloading chess-1.10.0-py3-none-any.whl (154 kB)\n",
            "\u001b[2K     \u001b[90m━━━━━━━━━━━━━━━━━━━━━━━━━━━━━━━━━━━━━━━\u001b[0m \u001b[32m154.4/154.4 kB\u001b[0m \u001b[31m3.4 MB/s\u001b[0m eta \u001b[36m0:00:00\u001b[0m\n",
            "\u001b[?25hInstalling collected packages: chess, python-chess\n",
            "Successfully installed chess-1.10.0 python-chess-1.999\n",
            "Collecting stockfish\n",
            "  Downloading stockfish-3.28.0-py3-none-any.whl (13 kB)\n",
            "Installing collected packages: stockfish\n",
            "Successfully installed stockfish-3.28.0\n",
            "Collecting svglib\n",
            "  Downloading svglib-1.5.1.tar.gz (913 kB)\n",
            "\u001b[2K     \u001b[90m━━━━━━━━━━━━━━━━━━━━━━━━━━━━━━━━━━━━━━━\u001b[0m \u001b[32m913.9/913.9 kB\u001b[0m \u001b[31m4.2 MB/s\u001b[0m eta \u001b[36m0:00:00\u001b[0m\n",
            "\u001b[?25h  Preparing metadata (setup.py) ... \u001b[?25l\u001b[?25hdone\n",
            "Collecting reportlab (from svglib)\n",
            "  Downloading reportlab-4.0.4-py3-none-any.whl (1.9 MB)\n",
            "\u001b[2K     \u001b[90m━━━━━━━━━━━━━━━━━━━━━━━━━━━━━━━━━━━━━━━━\u001b[0m \u001b[32m1.9/1.9 MB\u001b[0m \u001b[31m14.0 MB/s\u001b[0m eta \u001b[36m0:00:00\u001b[0m\n",
            "\u001b[?25hRequirement already satisfied: lxml in /usr/local/lib/python3.10/dist-packages (from svglib) (4.9.3)\n",
            "Requirement already satisfied: tinycss2>=0.6.0 in /usr/local/lib/python3.10/dist-packages (from svglib) (1.2.1)\n",
            "Collecting cssselect2>=0.2.0 (from svglib)\n",
            "  Downloading cssselect2-0.7.0-py3-none-any.whl (15 kB)\n",
            "Requirement already satisfied: webencodings in /usr/local/lib/python3.10/dist-packages (from cssselect2>=0.2.0->svglib) (0.5.1)\n",
            "Requirement already satisfied: pillow>=9.0.0 in /usr/local/lib/python3.10/dist-packages (from reportlab->svglib) (9.4.0)\n",
            "Building wheels for collected packages: svglib\n",
            "  Building wheel for svglib (setup.py) ... \u001b[?25l\u001b[?25hdone\n",
            "  Created wheel for svglib: filename=svglib-1.5.1-py3-none-any.whl size=30902 sha256=b5305ceb41222b9c537384f66eb47c3c8fdaf318e38065bbeb667484e3f7123f\n",
            "  Stored in directory: /root/.cache/pip/wheels/56/9f/90/f37f4b9dbf82987a24ae14f15586e96715cb669a4710b3b85d\n",
            "Successfully built svglib\n",
            "Installing collected packages: reportlab, cssselect2, svglib\n",
            "Successfully installed cssselect2-0.7.0 reportlab-4.0.4 svglib-1.5.1\n",
            "Collecting cairosvg\n",
            "  Downloading CairoSVG-2.7.1-py3-none-any.whl (43 kB)\n",
            "\u001b[2K     \u001b[90m━━━━━━━━━━━━━━━━━━━━━━━━━━━━━━━━━━━━━━━━\u001b[0m \u001b[32m43.2/43.2 kB\u001b[0m \u001b[31m1.3 MB/s\u001b[0m eta \u001b[36m0:00:00\u001b[0m\n",
            "\u001b[?25hCollecting cairocffi (from cairosvg)\n",
            "  Downloading cairocffi-1.6.1-py3-none-any.whl (75 kB)\n",
            "\u001b[2K     \u001b[90m━━━━━━━━━━━━━━━━━━━━━━━━━━━━━━━━━━━━━━━━\u001b[0m \u001b[32m75.1/75.1 kB\u001b[0m \u001b[31m3.6 MB/s\u001b[0m eta \u001b[36m0:00:00\u001b[0m\n",
            "\u001b[?25hRequirement already satisfied: cssselect2 in /usr/local/lib/python3.10/dist-packages (from cairosvg) (0.7.0)\n",
            "Requirement already satisfied: defusedxml in /usr/local/lib/python3.10/dist-packages (from cairosvg) (0.7.1)\n",
            "Requirement already satisfied: pillow in /usr/local/lib/python3.10/dist-packages (from cairosvg) (9.4.0)\n",
            "Requirement already satisfied: tinycss2 in /usr/local/lib/python3.10/dist-packages (from cairosvg) (1.2.1)\n",
            "Requirement already satisfied: cffi>=1.1.0 in /usr/local/lib/python3.10/dist-packages (from cairocffi->cairosvg) (1.15.1)\n",
            "Requirement already satisfied: webencodings in /usr/local/lib/python3.10/dist-packages (from cssselect2->cairosvg) (0.5.1)\n",
            "Requirement already satisfied: pycparser in /usr/local/lib/python3.10/dist-packages (from cffi>=1.1.0->cairocffi->cairosvg) (2.21)\n",
            "Installing collected packages: cairocffi, cairosvg\n",
            "Successfully installed cairocffi-1.6.1 cairosvg-2.7.1\n",
            "Collecting pdf2image\n",
            "  Downloading pdf2image-1.16.3-py3-none-any.whl (11 kB)\n",
            "Requirement already satisfied: pillow in /usr/local/lib/python3.10/dist-packages (from pdf2image) (9.4.0)\n",
            "Installing collected packages: pdf2image\n",
            "Successfully installed pdf2image-1.16.3\n",
            "Reading package lists... Done\n",
            "Building dependency tree... Done\n",
            "Reading state information... Done\n",
            "The following NEW packages will be installed:\n",
            "  poppler-utils\n",
            "0 upgraded, 1 newly installed, 0 to remove and 16 not upgraded.\n",
            "Need to get 186 kB of archives.\n",
            "After this operation, 696 kB of additional disk space will be used.\n",
            "Get:1 http://archive.ubuntu.com/ubuntu jammy-updates/main amd64 poppler-utils amd64 22.02.0-2ubuntu0.2 [186 kB]\n",
            "Fetched 186 kB in 1s (124 kB/s)\n",
            "Selecting previously unselected package poppler-utils.\n",
            "(Reading database ... 120831 files and directories currently installed.)\n",
            "Preparing to unpack .../poppler-utils_22.02.0-2ubuntu0.2_amd64.deb ...\n",
            "Unpacking poppler-utils (22.02.0-2ubuntu0.2) ...\n",
            "Setting up poppler-utils (22.02.0-2ubuntu0.2) ...\n",
            "Processing triggers for man-db (2.10.2-1) ...\n"
          ]
        }
      ],
      "source": [
        "# Install required Python packages\n",
        "%pip install python-chess\n",
        "%pip install stockfish\n",
        "%pip install svglib\n",
        "%pip install cairosvg\n",
        "%pip install pdf2image\n",
        "# Install poppler-utils for PDF handling\n",
        "!apt-get install poppler-utils"
      ]
    },
    {
      "cell_type": "markdown",
      "metadata": {
        "id": "GMPamLxTIHMf"
      },
      "source": [
        "## importing Packages\n",
        "To ensure the AI chess player code functions properly, the following packages are imported. These packages enable various functionalities, including data manipulation, visualization, machine learning, and interfacing with chess engines."
      ]
    },
    {
      "cell_type": "code",
      "execution_count": null,
      "metadata": {
        "id": "c9GggA3JzEXF"
      },
      "outputs": [],
      "source": [
        "import re\n",
        "import os\n",
        "import chess\n",
        "import pickle\n",
        "import imageio\n",
        "import datetime\n",
        "import cairosvg\n",
        "import subprocess\n",
        "import chess.engine\n",
        "\n",
        "import numpy as np\n",
        "import pandas as pd\n",
        "import seaborn as sns\n",
        "import chess.pgn as pgn\n",
        "import matplotlib.pyplot as plt\n",
        "\n",
        "from time import sleep\n",
        "from sklearn import metrics\n",
        "from stockfish import Stockfish\n",
        "from svglib.svglib import svg2rlg\n",
        "from reportlab.graphics import renderPM\n",
        "from pdf2image import convert_from_path\n",
        "from IPython.display import display, HTML, clear_output\n",
        "\n",
        "import tensorflow as tf\n",
        "from tensorflow import keras\n",
        "from tensorflow.keras.models import load_model\n",
        "from tensorflow.keras.models import Sequential\n",
        "from tensorflow.keras.callbacks import EarlyStopping\n",
        "from tensorflow.keras.initializers import RandomNormal\n",
        "from tensorflow.keras.preprocessing.image import ImageDataGenerator\n",
        "from tensorflow.keras.layers import Conv2D, MaxPooling2D, Flatten, Dropout, Dense\n",
        "\n",
        "from sklearn.model_selection import train_test_split"
      ]
    },
    {
      "cell_type": "markdown",
      "metadata": {
        "id": "3SeXgaiyJAzP"
      },
      "source": [
        "## Define\n",
        "Define various constants and settings for the code\n"
      ]
    },
    {
      "cell_type": "code",
      "execution_count": null,
      "metadata": {
        "id": "mmE3Juwj-Yk2"
      },
      "outputs": [],
      "source": [
        "LOADING_DATA = True\n",
        "TRAINGING_MODELS = True\n",
        "RETRAINING_MODELS = True\n",
        "USE_CACHE = True\n",
        "BOARD_SIZE = (8, 8, 6)\n",
        "PIECE_TO_INDEX = {'P': 0, 'R': 1, 'N': 2, 'B': 3, 'Q': 4, 'K': 5}\n",
        "CHESSY_TO_Y = {'a': 0, 'b': 1, 'c': 2, 'd': 3, 'e': 4, 'f': 5, 'g': 6, 'h': 7}\n",
        "INDEX_TO_PIECE = {0: 'P', 1: 'R', 2: 'N', 3: 'B', 4: 'Q', 5: 'K'}\n",
        "Y_TO_CHESSY = {0: 'a', 1: 'b', 2: 'c', 3: 'd', 4: 'e', 5: 'f', 6: 'g', 7: 'h'}\n",
        "ARRAY_PIECE = ['P','R','Q','K','B','N']\n",
        "BOOLEAN_PIECE = {'P': False, 'R': False, 'Q': False,\n",
        "                 'K': False, 'B': False,'N': False}\n",
        "PIECE_TO_WORD = {'P': 'Pawn', 'Q': 'Queen', 'K': 'King',\n",
        "                 'N': 'Knight', 'R': 'Rook', 'B': 'Bishop'}"
      ]
    },
    {
      "cell_type": "code",
      "execution_count": null,
      "metadata": {
        "colab": {
          "base_uri": "https://localhost:8080/"
        },
        "id": "7NnFAl2F1gKi",
        "outputId": "f440a82d-95cd-467f-beb4-10548e8fe4a3"
      },
      "outputs": [
        {
          "output_type": "stream",
          "name": "stdout",
          "text": [
            "Mounted at /content/drive\n"
          ]
        }
      ],
      "source": [
        "# Mounting Google Drive\n",
        "from google.colab import drive\n",
        "drive.mount('/content/drive')"
      ]
    },
    {
      "cell_type": "code",
      "source": [
        "# Give execute permissions to Stockfish engine\n",
        "!chmod 777 \"/content/drive/MyDrive/Chess_data/models/stockfish-ubuntu-x86-64-avx2\""
      ],
      "metadata": {
        "id": "141UqQn6QE9o"
      },
      "execution_count": null,
      "outputs": []
    },
    {
      "cell_type": "code",
      "source": [
        "# Define paths for various directories and files\n",
        "PGN_FILE_PATH = \"/content/drive/MyDrive/Chess_data/pgn_files/\"\n",
        "GIF_FILE_PATH = \"/content/drive/MyDrive/Chess_data/games_gif/\"\n",
        "MODELS_PATH = \"/content/drive/MyDrive/Chess_data/models/\"\n",
        "TEMP_PATH = \"/content/output_images/\"\n",
        "DATASET_PATH = '/content/drive/MyDrive/Chess_data/'\n",
        "STOCKFISH_PATH = \"/content/drive/MyDrive/Chess_data/models/stockfish-ubuntu-x86-64-avx2\"\n",
        "PGN_FILE = '/content/drive/MyDrive/Chess_data/FICS_2000.pgn'\n",
        "DATASET_PUZZLES_PATH = '/content/drive/MyDrive/Chess_data/puzzles/'"
      ],
      "metadata": {
        "id": "LNcKfyvuQ8Jn"
      },
      "execution_count": null,
      "outputs": []
    },
    {
      "cell_type": "code",
      "source": [
        "# Initialize the chess engine\n",
        "engine = chess.engine.SimpleEngine.popen_uci(STOCKFISH_PATH)"
      ],
      "metadata": {
        "id": "XyIK7Ex9Q2f1"
      },
      "execution_count": null,
      "outputs": []
    },
    {
      "cell_type": "code",
      "source": [
        "# Create the temporary directory if it doesn't exist\n",
        "if not os.path.exists(TEMP_PATH):\n",
        "    os.makedirs(TEMP_PATH)"
      ],
      "metadata": {
        "id": "pXXe4EUnu7Gf"
      },
      "execution_count": null,
      "outputs": []
    },
    {
      "cell_type": "markdown",
      "metadata": {
        "id": "95qfeKhT-vMY"
      },
      "source": [
        "# Helper Functions\n"
      ]
    },
    {
      "cell_type": "markdown",
      "source": [
        "## Basic Functions"
      ],
      "metadata": {
        "id": "9fww9UpnPphQ"
      }
    },
    {
      "cell_type": "code",
      "execution_count": null,
      "metadata": {
        "id": "D3rXADh8-UnI"
      },
      "outputs": [],
      "source": [
        "# Initialize the chess board with the initial piece setup\n",
        "def initialize_board():\n",
        "    \"\"\"\n",
        "    Initializes the chess board with the initial piece setup.\n",
        "    Returns a 3D numpy array representing the initial piece setup.\n",
        "    \"\"\"\n",
        "    board = np.zeros(BOARD_SIZE)\n",
        "    pattern = ['R', 'N', 'B', 'Q', 'K', 'B', 'N', 'R']\n",
        "\n",
        "    # Putting the black non-pawn pieces\n",
        "    for index, piece in enumerate(pattern):\n",
        "        board[0, index, PIECE_TO_INDEX[piece]] = -1\n",
        "\n",
        "    # Putting the black pawns\n",
        "    board[1, :, PIECE_TO_INDEX['P']] = -1\n",
        "\n",
        "    # Putting the white non-pawn pieces\n",
        "    for index, piece in enumerate(pattern):\n",
        "        board[BOARD_SIZE[0] - 1, index, PIECE_TO_INDEX[piece]] = 1\n",
        "\n",
        "    # Putting the white pawns\n",
        "    board[BOARD_SIZE[0] - 2, :, PIECE_TO_INDEX['P']] = 1\n",
        "\n",
        "    return board"
      ]
    },
    {
      "cell_type": "code",
      "execution_count": null,
      "metadata": {
        "id": "0WJ-iZ4g_Z1g"
      },
      "outputs": [],
      "source": [
        "# Convert a bitboard representation to an image representation\n",
        "def convert_bitboard_to_image(board):\n",
        "    \"\"\"\n",
        "    Converts a chess board to its corresponding bitboard image.\n",
        "    Returns a 3D numpy array representing the bitboard image.\n",
        "    \"\"\"\n",
        "    im2d = np.array(list(str(board).replace('\\n', '').replace(' ', ''))).reshape((8, 8))\n",
        "    im = np.zeros(BOARD_SIZE)\n",
        "\n",
        "    for i in range(BOARD_SIZE[0]):\n",
        "        for j in range(BOARD_SIZE[1]):\n",
        "            piece = im2d[i, j]\n",
        "            if piece == '.': continue\n",
        "            if piece.isupper():\n",
        "                im[i, j, PIECE_TO_INDEX[piece.upper()]] = 1\n",
        "            else:\n",
        "                im[i, j, PIECE_TO_INDEX[piece.upper()]] = -1\n",
        "\n",
        "    return im\n",
        "\n",
        "# Convert an image representation back to a bitboard representation\n",
        "def convert_image_to_bitboard(im):\n",
        "    \"\"\"\n",
        "    Converts an image representation back to a bitboard representation.\n",
        "    Returns the corresponding chess.Board object.\n",
        "    \"\"\"\n",
        "    board = chess.Board()\n",
        "    board.clear()\n",
        "    for i in range(BOARD_SIZE[0]):\n",
        "        for j in range(BOARD_SIZE[1]):\n",
        "            index_piece = np.where(im[(i, j)] != 0)\n",
        "            index_piece = index_piece[0]\n",
        "            new_coords = flatten_coord2d((7 - i, j))\n",
        "            if index_piece.shape != (0,):\n",
        "                piece = INDEX_TO_PIECE[index_piece[0]]\n",
        "                if im[(i, j, index_piece[0])] == -1:\n",
        "                    piece = piece.lower()\n",
        "                board.set_piece_at(new_coords, chess.Piece.from_symbol(piece))\n",
        "\n",
        "    return board"
      ]
    },
    {
      "cell_type": "code",
      "execution_count": null,
      "metadata": {
        "id": "L6dRj_rq_mkn"
      },
      "outputs": [],
      "source": [
        "# Convert a 2D coordinate to a flattened index for bitboards\n",
        "def flatten_coord2d(coord2d):\n",
        "    \"\"\"\n",
        "    Converts a 2D coordinate to a flattened index for bitboards.\n",
        "    Returns the flattened index.\n",
        "    \"\"\"\n",
        "    return (8 * coord2d[0]) + coord2d[1]"
      ]
    },
    {
      "cell_type": "code",
      "execution_count": null,
      "metadata": {
        "id": "ICOpw2t3_eEe"
      },
      "outputs": [],
      "source": [
        "# Flip the rows of an image (for switching between black and white perspectives)\n",
        "def flip_image(im):\n",
        "    \"\"\"\n",
        "    Flips an image horizontally.\n",
        "    Returns the horizontally flipped image.\n",
        "    \"\"\"\n",
        "    return im[::-1, :, :]\n",
        "\n",
        "# Flip the colors of an image (invert piece colors)\n",
        "def flip_color(im):\n",
        "    \"\"\"\n",
        "    Flips the colors of an image (invert white and black).\n",
        "    Returns the image with inverted colors.\n",
        "    \"\"\"\n",
        "    indices_white = np.where(im == 1)\n",
        "    indices_black = np.where(im == -1)\n",
        "    im[indices_white] = -1\n",
        "    im[indices_black] = 1\n",
        "    return im\n",
        "\n",
        "# Convert a 2D coordinate to its flipped counterpart\n",
        "def flip_coord2d(coord2d):\n",
        "    \"\"\"\n",
        "    Converts a 2D coordinate to its flipped counterpart.\n",
        "    Returns the flipped 2D coordinate.\n",
        "    \"\"\"\n",
        "    return 8 - coord2d[0] - 1, coord2d[1]"
      ]
    },
    {
      "cell_type": "code",
      "execution_count": null,
      "metadata": {
        "id": "ZPFoJfM5_hpW"
      },
      "outputs": [],
      "source": [
        "# Convert a 2D coordinate to chess notation coordinate\n",
        "def coord2d_to_chess_coord(coord2d):\n",
        "    \"\"\"\n",
        "    Converts a 2D coordinate to chess notation coordinate.\n",
        "    Returns the chess notation coordinate as a string.\n",
        "    \"\"\"\n",
        "    chess_coord = Y_TO_CHESSY[coord2d[1]] + str(8 - coord2d[0])\n",
        "    return chess_coord\n",
        "\n",
        "# Convert a chess notation coordinate to a 2D coordinate\n",
        "def chess_coord_to_coord2d(chess_coord):\n",
        "    \"\"\"\n",
        "    Converts a chess notation coordinate to a 2D coordinate.\n",
        "    Returns the 2D coordinate as a tuple (row, column).\n",
        "    \"\"\"\n",
        "    return 8 - int(chess_coord[1]), CHESSY_TO_Y[chess_coord[0]]"
      ]
    },
    {
      "cell_type": "code",
      "execution_count": null,
      "metadata": {
        "id": "pGGp_3Tz_py-"
      },
      "outputs": [],
      "source": [
        "# Clip piece probabilities to zeros based on board state\n",
        "def clip_pieces(prob_dists, ims):\n",
        "    \"\"\"\n",
        "    Clips piece probabilities to zeros based on board state.\n",
        "    Returns the filtered probability distributions.\n",
        "    \"\"\"\n",
        "    mask = ims > 0\n",
        "    rotated_mask = np.rollaxis(mask, 3, 1)  # Convert to form (num_samples, C, H, W)\n",
        "\n",
        "    or_channels = np.any(rotated_mask, axis=1)\n",
        "    filter = or_channels.reshape(or_channels.shape[0], 64)\n",
        "\n",
        "    prob_dists_filtered = prob_dists * filter\n",
        "    return prob_dists_filtered\n",
        "\n",
        "# Clip move probabilities to zeros based on legal moves\n",
        "def clip_move(prob_dist, im, coord, piece_type=None, castle_rights={'Q':False,'K':False}):\n",
        "    \"\"\"\n",
        "    Clips move probabilities to zeros based on legal moves.\n",
        "    Returns the filtered move probabilities.\n",
        "    \"\"\"\n",
        "    board = convert_image_to_bitboard(im)\n",
        "\n",
        "    if castle_rights['K']:\n",
        "      board.castling_rights |= chess.BB_A1\n",
        "\n",
        "    if castle_rights['Q']:\n",
        "      board.castling_rights |= chess.BB_H1\n",
        "\n",
        "    piece_coord = coord2d_to_chess_coord(coord)\n",
        "    for i in range(BOARD_SIZE[0]):\n",
        "        for j in range(BOARD_SIZE[1]):\n",
        "            to_coord = coord2d_to_chess_coord((i, j))\n",
        "            if piece_coord == to_coord:\n",
        "                prob_dist[i * 8 + j] = 0\n",
        "                continue\n",
        "            uci_move = piece_coord + to_coord\n",
        "\n",
        "            if piece_type == 'P':\n",
        "                if uci_move[3:] == '8':\n",
        "                    uci_move += 'q'\n",
        "\n",
        "            if chess.Move.from_uci(uci_move) not in board.legal_moves:\n",
        "                prob_dist[i * 8 + j] = 0\n",
        "\n",
        "    return prob_dist"
      ]
    },
    {
      "cell_type": "markdown",
      "source": [
        "## Loading Functions\n"
      ],
      "metadata": {
        "id": "RUxS9JQjPuV5"
      }
    },
    {
      "cell_type": "code",
      "execution_count": null,
      "metadata": {
        "id": "IKXl3VXO_-0n"
      },
      "outputs": [],
      "source": [
        "# Get the winner of the game ('White', 'Black', or 'Draw')\n",
        "def get_winner(game):\n",
        "    \"\"\"\n",
        "    Gets the winner of a chess game from the game headers.\n",
        "    Returns 'White', 'Black', or 'Draw'.\n",
        "    \"\"\"\n",
        "    result = game.headers.get('Result')\n",
        "    if result == '1-0':\n",
        "        return 'White'\n",
        "    elif result == '0-1':\n",
        "        return 'Black'\n",
        "    else:\n",
        "        return 'Draw'\n",
        "\n",
        "# Get the rating of a player based on color\n",
        "def get_player_rating(game, color):\n",
        "    \"\"\"\n",
        "    Gets the rating of a player in a chess game from the game headers.\n",
        "    Returns the player's rating as an integer or None if not available.\n",
        "    \"\"\"\n",
        "    player_rating = None\n",
        "    if 'WhiteElo' in game.headers and color == 'White':\n",
        "        player_rating = int(game.headers['WhiteElo'].split(' ')[-1])\n",
        "    elif 'BlackElo' in game.headers and color == 'Black':\n",
        "        player_rating = int(game.headers['BlackElo'].split(' ')[-1])\n",
        "\n",
        "    return player_rating"
      ]
    },
    {
      "cell_type": "code",
      "execution_count": null,
      "metadata": {
        "id": "ExmGLUcGAAnV"
      },
      "outputs": [],
      "source": [
        "# Load PGN games from a file with filtering based on player ratings\n",
        "def load_pgn_games(file_name, num_games, flag):\n",
        "    \"\"\"\n",
        "    Loads PGN chess games from a file and filters them based on ratings.\n",
        "    Returns a list of tuples containing game objects and the winners.\n",
        "    \"\"\"\n",
        "    games = []\n",
        "    pgn_file = open(file_name)\n",
        "    counter = 0\n",
        "    while  counter < num_games * 2:\n",
        "        if flag and counter == num_games:\n",
        "            break\n",
        "        game = chess.pgn.read_game(pgn_file)\n",
        "        if game is None:\n",
        "            break\n",
        "\n",
        "        white_rating = get_player_rating(game, 'White')\n",
        "        black_rating = get_player_rating(game, 'Black')\n",
        "\n",
        "        if white_rating is not None and black_rating is not None and white_rating > 2000 and black_rating > 2000:\n",
        "            winner = get_winner(game)\n",
        "            counter += 1\n",
        "            if flag:\n",
        "                games.append((game, winner))\n",
        "            elif counter > num_games:\n",
        "                games.append((game, winner))\n",
        "\n",
        "    pgn_file.close()\n",
        "    return games"
      ]
    },
    {
      "cell_type": "code",
      "execution_count": null,
      "metadata": {
        "id": "cBSP2e1kDS4l"
      },
      "outputs": [],
      "source": [
        "# Check the phase of the game based on move index and piece counts\n",
        "def check_phase(board, move_index):\n",
        "    \"\"\"\n",
        "    Checks the phase of the game based on move index and piece counts.\n",
        "    Returns 'o' for opening, 'e' for endgame, or 'm' for middle game.\n",
        "    \"\"\"\n",
        "    if move_index <= 20:\n",
        "        return 'o'\n",
        "    count = 0\n",
        "    count_pawn = 0\n",
        "    for piece_type in [chess.KNIGHT, chess.BISHOP, chess.ROOK, chess.QUEEN, chess.PAWN]:\n",
        "        for color in [chess.WHITE, chess.BLACK]:\n",
        "            squares = board.pieces(piece_type, color)\n",
        "            count += len(squares)\n",
        "            count_pawn += len(squares) if piece_type == chess.PAWN else 0\n",
        "    if count <= 7:\n",
        "        return 'e'\n",
        "    if count - count_pawn <= 5:\n",
        "        return 'e'\n",
        "    if count_pawn <= 5:\n",
        "        return 'e'\n",
        "    return 'm'"
      ]
    },
    {
      "cell_type": "code",
      "source": [
        "# Save data using pickle\n",
        "def save_data(data, filename):\n",
        "   with open(DATASET_PATH + filename + '.pkl', 'wb') as f:\n",
        "      pickle.dump(data, f, protocol=4)"
      ],
      "metadata": {
        "id": "ZRAJkolOsVZt"
      },
      "execution_count": null,
      "outputs": []
    },
    {
      "cell_type": "code",
      "source": [
        "# Function to retrieve data from saved pickle files\n",
        "def get_data(filename):\n",
        "\n",
        "    # Load the X_train data from the corresponding pickle file\n",
        "    with open(DATASET_PATH + 'X' + filename + '.pkl', 'rb') as f:\n",
        "        X = pickle.load(f)\n",
        "\n",
        "\n",
        "    # Load the y_train data from the corresponding pickle file\n",
        "    with open(DATASET_PATH + 'y' + filename + '.pkl', 'rb') as f:\n",
        "        y = pickle.load(f)\n",
        "\n",
        "    return X, y"
      ],
      "metadata": {
        "id": "f30jGH-Ds3hV"
      },
      "execution_count": null,
      "outputs": []
    },
    {
      "cell_type": "code",
      "source": [
        "# Function to retrieve data from saved pickle files\n",
        "def get_puzzles_data(filename):\n",
        "\n",
        "    # Load the X_train data from the corresponding pickle file\n",
        "    with open(DATASET_PUZZLES_PATH + 'X_puzzle' + filename + '.pkl', 'rb') as f:\n",
        "        X = pickle.load(f)\n",
        "\n",
        "\n",
        "    # Load the y_train data from the corresponding pickle file\n",
        "    with open(DATASET_PUZZLES_PATH + 'y_puzzle' + filename + '.pkl', 'rb') as f:\n",
        "        y = pickle.load(f)\n",
        "\n",
        "    return X, y"
      ],
      "metadata": {
        "id": "Ldv-v3uVv-Y3"
      },
      "execution_count": null,
      "outputs": []
    },
    {
      "cell_type": "code",
      "source": [
        "# Function to load a trained piece model\n",
        "def load_my_model(piece_label):\n",
        "\n",
        "    # Define the path to the saved model file\n",
        "    PATH = MODELS_PATH + \"chess_model_CNN_\" + piece_label + \".h5\"\n",
        "\n",
        "    # Load the saved model using Keras' load_model function\n",
        "    loaded_model = load_model(PATH)\n",
        "\n",
        "    # Return the loaded model\n",
        "    return loaded_model"
      ],
      "metadata": {
        "id": "7QWMzOq8wdF1"
      },
      "execution_count": null,
      "outputs": []
    },
    {
      "cell_type": "markdown",
      "source": [
        "## Model Structure"
      ],
      "metadata": {
        "id": "BOaJ0V705siJ"
      }
    },
    {
      "cell_type": "code",
      "source": [
        "# Create the piece recognition neural network\n",
        "def create_piece_net():\n",
        "    \"\"\"\n",
        "    Creates a neural network model for predicting piece moves.\n",
        "    Returns the compiled Keras model.\n",
        "    \"\"\"\n",
        "    scale = 10**(-7)\n",
        "    stddev = scale / 2.0\n",
        "    scale2 = 10**(-6)\n",
        "    stddev2 = scale2 / 2.0\n",
        "\n",
        "    model = keras.Sequential()\n",
        "    model.add(Conv2D(96, kernel_size=3, padding='same', activation='relu',\n",
        "                     kernel_initializer=RandomNormal(mean=0.0, stddev=stddev),\n",
        "                     input_shape=(8, 8, 6)))\n",
        "\n",
        "    model.add(Conv2D(256, kernel_size=3, padding='same', activation='relu',\n",
        "                     kernel_initializer=RandomNormal(mean=0.0, stddev=stddev)))\n",
        "\n",
        "    model.add(Conv2D(384, kernel_size=3, padding='same', activation='relu',\n",
        "                     kernel_initializer=RandomNormal(mean=0.0, stddev=stddev)))\n",
        "\n",
        "    model.add(Flatten())\n",
        "\n",
        "    model.add(Dense(64, activation='softmax',\n",
        "                    kernel_initializer=RandomNormal(mean=0.0, stddev=stddev2)))\n",
        "    return model"
      ],
      "metadata": {
        "id": "tfNf4YRF5viW"
      },
      "execution_count": null,
      "outputs": []
    },
    {
      "cell_type": "code",
      "source": [
        "# Create the move prediction neural network\n",
        "def create_move_net():\n",
        "    \"\"\"\n",
        "    Creates a neural network model for predicting move outcomes.\n",
        "    Returns the compiled Keras model.\n",
        "    \"\"\"\n",
        "    scale = 10**(-7)\n",
        "    stddev = scale / 2.0\n",
        "    scale2 = 10**(-6)\n",
        "    stddev2 = scale2 / 2.0\n",
        "\n",
        "    model = keras.Sequential()\n",
        "    model.add(Conv2D(96, kernel_size=3, padding='same', activation='relu',\n",
        "                     kernel_initializer=RandomNormal(mean=0.0, stddev=stddev),\n",
        "                     input_shape=(8, 8, 6)))\n",
        "\n",
        "    model.add(Conv2D(256, kernel_size=3, padding='same', activation='relu',\n",
        "                     kernel_initializer=RandomNormal(mean=0.0, stddev=stddev)))\n",
        "\n",
        "    model.add(Conv2D(384, kernel_size=3, padding='same', activation='relu',\n",
        "                     kernel_initializer=RandomNormal(mean=0.0, stddev=stddev)))\n",
        "\n",
        "    model.add(Flatten())\n",
        "\n",
        "    model.add(Dense(64, activation='softmax',\n",
        "                    kernel_initializer=RandomNormal(mean=0.0, stddev=stddev2)))\n",
        "    return model"
      ],
      "metadata": {
        "id": "QL7yM_025w3h"
      },
      "execution_count": null,
      "outputs": []
    },
    {
      "cell_type": "markdown",
      "source": [
        "## Prediction Functions"
      ],
      "metadata": {
        "id": "R6YOlkE9P77_"
      }
    },
    {
      "cell_type": "markdown",
      "source": [
        "### Prediction From Functions"
      ],
      "metadata": {
        "id": "oMzUYX5nQKfg"
      }
    },
    {
      "cell_type": "code",
      "source": [
        "# Predict the best k possible cells that can have our pieces from a given board position\n",
        "def predict_from_k_move(board, k):\n",
        "    \"\"\"\n",
        "    Predicts the best k moves from the current board position using the trained model.\n",
        "    Returns a list of k best moves.\n",
        "    \"\"\"\n",
        "    # Convert the board to image format\n",
        "    if board.turn:\n",
        "      im = convert_bitboard_to_image(board)\n",
        "    else:\n",
        "      im = flip_image(convert_bitboard_to_image(board))\n",
        "      im = flip_color(im)\n",
        "\n",
        "    img = im.reshape(1, 8, 8, 6)\n",
        "\n",
        "    # Predict the best piece to move from the base model\n",
        "    from_move = model_cpu['base_model'].predict(img, verbose = 0)\n",
        "    from_move = clip_pieces(from_move, img)\n",
        "\n",
        "    best_moves = []\n",
        "\n",
        "    # Generate a list of best k pieces with their probabilities\n",
        "    for index, prob in enumerate(from_move[0]):\n",
        "      from_cell_index = index\n",
        "      from_cell_coord = [index // 8, index % 8]\n",
        "      if not board.turn:\n",
        "        from_cell_coord[0] = 7 - from_cell_coord[0]\n",
        "      best_moves.append([prob, coord2d_to_chess_coord(from_cell_coord)])\n",
        "\n",
        "    # Sort the list based on probabilities and select k best cells\n",
        "    sorted_best_moves = sorted(best_moves, key=lambda x: x[0], reverse=True)\n",
        "    best_k_moves_with_prob = sorted_best_moves[:k]\n",
        "    best_k_moves = [element[1] for element in best_k_moves_with_prob]\n",
        "\n",
        "    return best_k_moves"
      ],
      "metadata": {
        "id": "AZmfKhm5QOxY"
      },
      "execution_count": null,
      "outputs": []
    },
    {
      "cell_type": "code",
      "source": [
        "# Predict the best k possible cells that has our pieces from multiple FEN positions\n",
        "def predict_multi_from_k_move(fens, k):\n",
        "    \"\"\"\n",
        "    Predicts the best k moves for multiple board positions using the trained model.\n",
        "    Returns a list of k best moves for each board position.\n",
        "    \"\"\"\n",
        "    boards = []\n",
        "    for fen in fens:\n",
        "      boards.append(chess.Board(fen=fen))\n",
        "\n",
        "    # Determine the device for computation (GPU or CPU)\n",
        "    if len(tf.config.list_physical_devices('GPU')) > 0:\n",
        "        device = '/gpu:0'\n",
        "    else:\n",
        "        device = '/cpu:0'\n",
        "\n",
        "    images = []\n",
        "    for board in boards:\n",
        "      if board.turn:\n",
        "        im = convert_bitboard_to_image(board)\n",
        "      else:\n",
        "        im = flip_image(convert_bitboard_to_image(board))\n",
        "        im = flip_color(im)\n",
        "\n",
        "      img = im.reshape(1, 8, 8, 6)\n",
        "      images.append(img)\n",
        "\n",
        "    images_np = np.array(np.vstack(images)).astype(int)\n",
        "\n",
        "    # Predict the best pieces to move from the base model for all board positions\n",
        "    with tf.device(device):\n",
        "        images_tensor = tf.convert_to_tensor(images_np)\n",
        "\n",
        "    from_moves = model['base_model'].predict(images_tensor, verbose = 0)\n",
        "    moves = []\n",
        "\n",
        "    # Generate a list of k best pieces for each board position\n",
        "    for i, from_move in enumerate(from_moves):\n",
        "      from_move2 = clip_pieces(from_move, images[i])\n",
        "      best_moves = []\n",
        "      for index, prob in enumerate(from_move2[0]):\n",
        "        if prob > 0:\n",
        "          from_cell_coord = [index // 8, index % 8]\n",
        "          from_move_index = chess.square_mirror(index) if board.turn else index\n",
        "          move_from = chess.square_name(from_move_index)\n",
        "          best_moves.append([prob, move_from])\n",
        "\n",
        "      # Sort the list based on probabilities and select k best cells\n",
        "      sorted_best_moves = sorted(best_moves, key=lambda x: x[0], reverse=True)\n",
        "      best_k_moves_with_prob = sorted_best_moves[:k]\n",
        "      best_k_moves = [element[1] for element in best_k_moves_with_prob]\n",
        "\n",
        "      moves.append(best_k_moves)\n",
        "\n",
        "    return moves"
      ],
      "metadata": {
        "id": "9MJY7GZ3QQuv"
      },
      "execution_count": null,
      "outputs": []
    },
    {
      "cell_type": "markdown",
      "source": [
        "### Prediction Full Move Functions"
      ],
      "metadata": {
        "id": "un5uGBv-QSNn"
      }
    },
    {
      "cell_type": "code",
      "source": [
        "def predict_k_move_special(board, k, k_from):\n",
        "    if board.turn:\n",
        "      im = convert_bitboard_to_image(board)\n",
        "    else:\n",
        "      im = flip_image(convert_bitboard_to_image(board))\n",
        "      im = flip_color(im)\n",
        "\n",
        "    img = im.reshape(1, 8, 8, 6)\n",
        "    from_move = model_cpu['base_model'].predict(img, verbose = 0)\n",
        "    from_move = clip_pieces(from_move, img)\n",
        "    from_move_short = [[i, from_m] for i, from_m in enumerate(from_move[0])]\n",
        "    from_move_short = sorted(from_move_short, key=lambda x: x[1], reverse=True)\n",
        "    from_move_short = from_move_short[:k_from]\n",
        "\n",
        "    best_moves = []\n",
        "    for index, prob in from_move_short:\n",
        "      if prob > 0:\n",
        "        from_cell_coord = [index // 8, index % 8]\n",
        "        pieceType = INDEX_TO_PIECE[np.argmax(img[:, from_cell_coord[0], from_cell_coord[1]])]\n",
        "        to_move = model_cpu['move_models'][pieceType].predict(img, verbose = 0)\n",
        "\n",
        "        castling_rights = {'K':board.has_kingside_castling_rights(color=chess.WHITE),\n",
        "                            'Q':board.has_queenside_castling_rights(color=chess.WHITE)}\n",
        "\n",
        "        to_move = clip_move(to_move[0], im, from_cell_coord,\n",
        "                            pieceType, castling_rights)\n",
        "\n",
        "        for index2, prob2 in enumerate(to_move):\n",
        "          if prob2 > 0:\n",
        "            from_move_index = chess.square_mirror(index) if board.turn else index\n",
        "            to_move_index = chess.square_mirror(index2) if board.turn else index2\n",
        "            move_from_to = chess.square_name(from_move_index) + chess.square_name(to_move_index)\n",
        "\n",
        "            if pieceType == 'P':\n",
        "              if board.turn:\n",
        "                if move_from_to[3:] == '8':\n",
        "                  move_from_to += 'q'\n",
        "              else:\n",
        "                if move_from_to[3:] == '1':\n",
        "                  move_from_to += 'q'\n",
        "            best_moves.append([prob * prob2, move_from_to])\n",
        "\n",
        "    sorted_best_moves = sorted(best_moves, key=lambda x: x[0], reverse=True)\n",
        "\n",
        "    best_k_moves_with_prob = sorted_best_moves[:k]\n",
        "\n",
        "    best_k_moves = [element[1] for element in best_k_moves_with_prob]\n",
        "\n",
        "    return best_k_moves"
      ],
      "metadata": {
        "id": "dxlrKmyM2S_2"
      },
      "execution_count": null,
      "outputs": []
    },
    {
      "cell_type": "code",
      "source": [
        "# Predict the best k full moves from a given board position\n",
        "def predict_k_move(board, k):\n",
        "    \"\"\"\n",
        "    Predicts the best k full moves from a given board position using the trained model.\n",
        "    Returns a list of k best full moves.\n",
        "    \"\"\"\n",
        "    # Convert the board to image format\n",
        "    if board.turn:\n",
        "      im = convert_bitboard_to_image(board)\n",
        "    else:\n",
        "      im = flip_image(convert_bitboard_to_image(board))\n",
        "      im = flip_color(im)\n",
        "\n",
        "    img = im.reshape(1, 8, 8, 6)\n",
        "    from_move = model_cpu['base_model'].predict(img, verbose = 0)\n",
        "    from_move = clip_pieces(from_move, img)\n",
        "    best_moves = []\n",
        "\n",
        "    # Predict the 'to' move for each 'from' move candidate\n",
        "    for index, prob in enumerate(from_move[0]):\n",
        "      if prob > 0:\n",
        "        from_cell_coord = [index // 8, index % 8]\n",
        "        pieceType = INDEX_TO_PIECE[np.argmax(img[:, from_cell_coord[0], from_cell_coord[1]])]\n",
        "        to_move = model_cpu['move_models'][pieceType].predict(img, verbose = 0)\n",
        "\n",
        "        # Adding the castling rights to the board\n",
        "        castling_rights = {'K':board.has_kingside_castling_rights(color=chess.WHITE),\n",
        "                            'Q':board.has_queenside_castling_rights(color=chess.WHITE)}\n",
        "\n",
        "        to_move = clip_move(to_move[0], im, from_cell_coord,\n",
        "                            pieceType, castling_rights)\n",
        "\n",
        "        for index2, prob2 in enumerate(to_move):\n",
        "          if prob2 > 0:\n",
        "            from_move_index = chess.square_mirror(index) if board.turn else index\n",
        "            to_move_index = chess.square_mirror(index2) if board.turn else index2\n",
        "            move_from_to = chess.square_name(from_move_index) + chess.square_name(to_move_index)\n",
        "\n",
        "            # Adding promotion to the pawn movement if it reachs the last rank\n",
        "            if pieceType == 'P':\n",
        "              if board.turn:\n",
        "                if move_from_to[3:] == '8':\n",
        "                  move_from_to += 'q'\n",
        "              else:\n",
        "                if move_from_to[3:] == '1':\n",
        "                  move_from_to += 'q'\n",
        "            best_moves.append([prob * prob2, move_from_to])\n",
        "\n",
        "    # Sort the list based on probabilities and select k best moves\n",
        "    sorted_best_moves = sorted(best_moves, key=lambda x: x[0], reverse=True)\n",
        "    best_k_moves_with_prob = sorted_best_moves[:k]\n",
        "    best_k_moves = [element[1] for element in best_k_moves_with_prob]\n",
        "\n",
        "    return best_k_moves"
      ],
      "metadata": {
        "id": "A8IU8ahTQYx_"
      },
      "execution_count": null,
      "outputs": []
    },
    {
      "cell_type": "code",
      "source": [
        "# Predict the best k full moves from multiple FEN positions\n",
        "def predict_multi_k_move(fens, k):\n",
        "    \"\"\"\n",
        "    Predicts the best k full moves for multiple FEN positions using the trained model.\n",
        "    Returns a list of k best full moves for each FEN position.\n",
        "    \"\"\"\n",
        "    boards = []\n",
        "    for fen in fens:\n",
        "      boards.append(chess.Board(fen=fen))\n",
        "\n",
        "    # Determine the device for computation (GPU or CPU)\n",
        "    if len(tf.config.list_physical_devices('GPU')) > 0:\n",
        "        device = '/gpu:0'\n",
        "    else:\n",
        "        device = '/cpu:0'\n",
        "\n",
        "    images = []\n",
        "    for board in boards:\n",
        "      if board.turn:\n",
        "        im = convert_bitboard_to_image(board)\n",
        "      else:\n",
        "        im = flip_image(convert_bitboard_to_image(board))\n",
        "        im = flip_color(im)\n",
        "\n",
        "      img = im.reshape(1, 8, 8, 6)\n",
        "      images.append(img)\n",
        "\n",
        "    images_np = np.array(np.vstack(images)).astype(int)\n",
        "\n",
        "    # Perform prediction for 'from' moves on the specified device\n",
        "    with tf.device(device):\n",
        "        images_tensor = tf.convert_to_tensor(images_np)\n",
        "\n",
        "    from_moves = model['base_model'].predict(images_tensor, verbose = 0)\n",
        "    moves = []\n",
        "    pieceTypes = []\n",
        "    image_piece = {}\n",
        "\n",
        "    # Collect piece types and their corresponding images\n",
        "    for i, from_move in enumerate(from_moves):\n",
        "      from_move2 = clip_pieces(from_move, images[i])\n",
        "      for index, prob in enumerate(from_move2[0]):\n",
        "        if prob > 0:\n",
        "          from_cell_coord = [index // 8, index % 8]\n",
        "          pieceType = INDEX_TO_PIECE[np.argmax(images[i][:, from_cell_coord[0], from_cell_coord[1]])]\n",
        "          pieceTypes.append(pieceType)\n",
        "          if not pieceType in image_piece:\n",
        "            image_piece[pieceType] = []\n",
        "          image_piece[pieceType].append(images[i])\n",
        "\n",
        "    to_moves = {}\n",
        "    # Predict 'to' moves for each piece type using their corresponding images\n",
        "    for key, images_value in image_piece.items():\n",
        "      images_value = np.array(np.vstack(images_value)).astype(int)\n",
        "      with tf.device(device):\n",
        "        images_tensor_value = tf.convert_to_tensor(images_value)\n",
        "      to_moves[key] = []\n",
        "      res = model['move_models'][key].predict(images_tensor_value, verbose = 0)\n",
        "      to_moves[key] = res.tolist()\n",
        "\n",
        "    # Calculate the propablity distribution over all the moves\n",
        "    for i, from_move in enumerate(from_moves):\n",
        "      best_moves = []\n",
        "      from_move2 = clip_pieces(from_move, images[i])\n",
        "      for index, prob in enumerate(from_move2[0]):\n",
        "        if prob > 0:\n",
        "          from_cell_coord = [index // 8, index % 8]\n",
        "          pieceType = pieceTypes.pop(0)\n",
        "          to_move = to_moves[pieceType].pop(0)\n",
        "\n",
        "          # Adding the castling rights to the board\n",
        "          castling_rights = {'K':boards[i].has_kingside_castling_rights(color=chess.WHITE),\n",
        "                             'Q':boards[i].has_queenside_castling_rights(color=chess.WHITE)}\n",
        "\n",
        "          to_move = clip_move(to_move, images[i][0], from_cell_coord,\n",
        "                              pieceType, castling_rights)\n",
        "\n",
        "          for index2, prob2 in enumerate(to_move):\n",
        "            if prob2 > 0:\n",
        "              from_move_index = chess.square_mirror(index) if board.turn else index\n",
        "              to_move_index = chess.square_mirror(index2) if board.turn else index2\n",
        "              move_from_to = chess.square_name(from_move_index) + chess.square_name(to_move_index)\n",
        "\n",
        "              # Adding promotion to the pawn movement if it reachs the last rank\n",
        "              if pieceType == 'P':\n",
        "                if board.turn:\n",
        "                  if move_from_to[3:] == '8':\n",
        "                    move_from_to += 'q'\n",
        "                else:\n",
        "                  if move_from_to[3:] == '1':\n",
        "                    move_from_to += 'q'\n",
        "              best_moves.append([prob * prob2, move_from_to])\n",
        "\n",
        "      # Sort the list based on probabilities and select k best moves\n",
        "      sorted_best_moves = sorted(best_moves, key=lambda x: x[0], reverse=True)\n",
        "      best_k_moves_with_prob = sorted_best_moves[:k]\n",
        "      best_k_moves = [element[1] for element in best_k_moves_with_prob]\n",
        "\n",
        "      moves.append(best_k_moves)\n",
        "\n",
        "    return moves"
      ],
      "metadata": {
        "id": "0AkaFBdiQa7P"
      },
      "execution_count": null,
      "outputs": []
    },
    {
      "cell_type": "markdown",
      "source": [
        "### Cache Functions"
      ],
      "metadata": {
        "id": "UZcx84pcQcYz"
      }
    },
    {
      "cell_type": "code",
      "source": [
        "# Maximum number of cached entries\n",
        "MAX_CACHE_SIZE = 1000\n",
        "\n",
        "# Number of cached entries to evict when the cache is full\n",
        "EVICTION_BATCH_SIZE = 100\n",
        "\n",
        "# Initialize cache statistics\n",
        "cache_called = 0\n",
        "cache_hit = 0\n",
        "\n",
        "# Cache to store k-move predictions\n",
        "k_move_cache = {}\n",
        "\n",
        "# Queue to track cache usage (used for eviction)\n",
        "cache_usage_queue = []\n",
        "\n",
        "# Predict the best k full moves from a given board position using cache\n",
        "def predict_k_move_cached(board, k):\n",
        "    \"\"\"\n",
        "    Predicts the best k full moves from a given board position using cache or model.\n",
        "    Returns a list of k best full moves.\n",
        "    \"\"\"\n",
        "    # If caching is disabled, fall back to regular prediction\n",
        "    if not USE_CACHE:\n",
        "      return predict_k_move(board, k)\n",
        "    global cache_hit\n",
        "    global cache_called\n",
        "    global k_move_cache\n",
        "    global cache_usage_queue\n",
        "    fen_hash = hash(board.fen())\n",
        "    cache_called += 1\n",
        "\n",
        "    # If the FEN hash is in the cache, return the cached result\n",
        "    if fen_hash in k_move_cache:\n",
        "        cache_hit += 1\n",
        "        cache_usage_queue.remove(fen_hash)\n",
        "        cache_usage_queue.insert(0, fen_hash)\n",
        "        return k_move_cache[fen_hash]\n",
        "\n",
        "    # Predict k moves and update the cache\n",
        "    k_moves = predict_k_move(board, k)\n",
        "\n",
        "    # Evict entries from the cache if the cache is full\n",
        "    if len(k_move_cache) >= MAX_CACHE_SIZE:\n",
        "        evicted_hashes = cache_usage_queue[-EVICTION_BATCH_SIZE:]\n",
        "        for evicted_hash in evicted_hashes:\n",
        "            k_move_cache.pop(evicted_hash)\n",
        "            cache_usage_queue.remove(evicted_hash)\n",
        "\n",
        "    # Store the new entry in the cache and update the usage queue\n",
        "    k_move_cache[fen_hash] = k_moves\n",
        "    cache_usage_queue.insert(0, fen_hash)\n",
        "\n",
        "    return k_moves"
      ],
      "metadata": {
        "id": "6o2cg3KxQjxq"
      },
      "execution_count": null,
      "outputs": []
    },
    {
      "cell_type": "code",
      "source": [
        "def predict_k_move_cached_special(board, k, k_from):\n",
        "    if not USE_CACHE:\n",
        "      return predict_k_move_special(board, k, k_from)\n",
        "\n",
        "    global cache_hit\n",
        "    global cache_called\n",
        "    global k_move_cache\n",
        "    global cache_usage_queue\n",
        "\n",
        "    fen_hash = hash(board.fen())\n",
        "    cache_called += 1\n",
        "    if fen_hash in k_move_cache:\n",
        "        cache_hit += 1\n",
        "        cache_usage_queue.remove(fen_hash)\n",
        "        cache_usage_queue.insert(0, fen_hash)\n",
        "        return k_move_cache[fen_hash]\n",
        "\n",
        "    k_moves = predict_k_move_special(board, k, k_from)\n",
        "\n",
        "    if len(k_move_cache) >= MAX_CACHE_SIZE:\n",
        "        evicted_hashes = cache_usage_queue[-EVICTION_BATCH_SIZE:]\n",
        "        for evicted_hash in evicted_hashes:\n",
        "            k_move_cache.pop(evicted_hash)\n",
        "            cache_usage_queue.remove(evicted_hash)\n",
        "\n",
        "    k_move_cache[fen_hash] = k_moves\n",
        "    cache_usage_queue.insert(0, fen_hash)\n",
        "\n",
        "    return k_moves"
      ],
      "metadata": {
        "id": "kQ0GMO4P2H1W"
      },
      "execution_count": null,
      "outputs": []
    },
    {
      "cell_type": "code",
      "source": [
        "# Clear the cache\n",
        "def clear_cache():\n",
        "    \"\"\"\n",
        "    Clears the cache and resets cache statistics.\n",
        "    \"\"\"\n",
        "    global cache_called\n",
        "    global cache_hit\n",
        "    global k_move_cache\n",
        "    global cache_usage_queue\n",
        "    cache_called = 0\n",
        "    cache_hit = 0\n",
        "    k_move_cache = {}\n",
        "    cache_usage_queue = []"
      ],
      "metadata": {
        "id": "sz771kVrSf9I"
      },
      "execution_count": null,
      "outputs": []
    },
    {
      "cell_type": "code",
      "source": [
        "# Clear cache statistics\n",
        "def clear_cache_numbers():\n",
        "    \"\"\"\n",
        "    Resets cache usage statistics.\n",
        "    \"\"\"\n",
        "    global cache_called\n",
        "    global cache_hit\n",
        "    cache_called = 0\n",
        "    cache_hit = 0"
      ],
      "metadata": {
        "id": "Kx2l0j_uSStA"
      },
      "execution_count": null,
      "outputs": []
    },
    {
      "cell_type": "markdown",
      "source": [
        "## Stockfish Functions"
      ],
      "metadata": {
        "id": "khKec5RMP2vH"
      }
    },
    {
      "cell_type": "code",
      "source": [
        "# Calculate the Stockfish evaluation score for a given board position\n",
        "def stockfish_evaluation(board, time_limit = 2):\n",
        "    \"\"\"\n",
        "    Calculates the evaluation score and mate status of the current board position using Stockfish.\n",
        "    Returns the evaluation score (in centipawns) and mate status (1 if checkmate, -1 if stalemate, 0 otherwise).\n",
        "    \"\"\"\n",
        "    global engine\n",
        "    info = engine.analyse(board, chess.engine.Limit(time=time_limit,depth=15),game=object())\n",
        "    evaluation = info[\"score\"].relative\n",
        "    # If the evaluation is a mate score, extract the mate value and sign\n",
        "    if evaluation.is_mate():\n",
        "        mate_sign = str(info[\"score\"].relative)[1:][:1]\n",
        "        mate = int(str(info[\"score\"].relative)[2:])\n",
        "        return mate, (1 if mate_sign == '+' else -1)\n",
        "    else:\n",
        "        return int(evaluation.cp), 0"
      ],
      "metadata": {
        "id": "zzkutIwLQqkV"
      },
      "execution_count": null,
      "outputs": []
    },
    {
      "cell_type": "code",
      "source": [
        "# Let Stockfish play a move for a given board position\n",
        "def stockfish_play(board, time_limit = 0.1):\n",
        "    \"\"\"\n",
        "    Uses Stockfish to suggest the best move for the current board position within the specified time limit.\n",
        "    Returns the move recommended by Stockfish.\n",
        "    \"\"\"\n",
        "    global engine\n",
        "    result = engine.play(board, chess.engine.Limit(time=time_limit))\n",
        "    return result.move"
      ],
      "metadata": {
        "id": "PcJd5GMhS-yw"
      },
      "execution_count": null,
      "outputs": []
    },
    {
      "cell_type": "code",
      "source": [
        "def count_pieces(board):\n",
        "    piece_counts = {\n",
        "        chess.WHITE: 0,\n",
        "        chess.BLACK: 0\n",
        "    }\n",
        "\n",
        "    for square in chess.SQUARES:\n",
        "        piece = board.piece_at(square)\n",
        "        if piece is not None:\n",
        "            piece_counts[piece.color] += 1\n",
        "\n",
        "    return piece_counts"
      ],
      "metadata": {
        "id": "bBmfoaVq9DrJ"
      },
      "execution_count": null,
      "outputs": []
    },
    {
      "cell_type": "code",
      "source": [
        "DEPTH = 3\n",
        "K_BEST = 3\n",
        "K_FROM = 6\n",
        "EVAL_TIME_LIMIT = 0.1\n",
        "NOM_D_K = {0:(1,1), 5: (2,2), 10:(3,3)}\n",
        "NOM_ARR = [10, 5, 0]\n",
        "\n",
        "def decide(board, k_from, eval_time_limit, basic=False):\n",
        "    if count_pieces(board)[board.turn] < 7:\n",
        "        best_move = find_best_move_special(board, 4, 4, k_from, eval_time_limit)\n",
        "    else :\n",
        "        for nom in NOM_ARR:\n",
        "            if(board.fullmove_number >= nom):\n",
        "                best_move = find_best_move_special(board, NOM_D_K[nom][0], NOM_D_K[nom][1], k_from, eval_time_limit)\n",
        "                break\n",
        "    return best_move"
      ],
      "metadata": {
        "id": "5IkOHM8z9FOp"
      },
      "execution_count": null,
      "outputs": []
    },
    {
      "cell_type": "markdown",
      "source": [
        "## Testing Functions"
      ],
      "metadata": {
        "id": "MD-LvUv-PzY3"
      }
    },
    {
      "cell_type": "code",
      "source": [
        "# Display the board using SVG representation if specified\n",
        "def display_board(board, use_svg):\n",
        "    \"\"\"\n",
        "    Displays the chess board using SVG format or plain text format.\n",
        "    If 'use_svg' is True, returns the SVG representation. Otherwise, returns the plain text representation.\n",
        "    \"\"\"\n",
        "    if use_svg:\n",
        "        return board._repr_svg_()\n",
        "    else:\n",
        "        return \"<pre>\" + str(board) + \"</pre>\""
      ],
      "metadata": {
        "id": "TF0BalcwRJUg"
      },
      "execution_count": null,
      "outputs": []
    },
    {
      "cell_type": "code",
      "source": [
        "# Generate a PGN file from a list of moves and save it with the given filename\n",
        "def generate_pgn_file(moves, filename, start_fen = None):\n",
        "    \"\"\"\n",
        "    Generates a PGN file with the given moves and saves it with the specified filename.\n",
        "    The PGN file can be used to replay the game in chess software.\n",
        "    \"\"\"\n",
        "    game = chess.pgn.Game()\n",
        "    board = chess.Board()\n",
        "    if not start_fen == None:\n",
        "      board.set_fen(start_fen)\n",
        "    game.setup(board)\n",
        "\n",
        "    for move in moves:\n",
        "        board.push(move)\n",
        "\n",
        "    node = game\n",
        "    for move in board.move_stack:\n",
        "        node = node.add_variation(move)\n",
        "\n",
        "    with open(filename, \"w\") as pgn_file:\n",
        "        pgn_file.write(str(game))"
      ],
      "metadata": {
        "id": "2KmLbcwYROMw"
      },
      "execution_count": null,
      "outputs": []
    },
    {
      "cell_type": "code",
      "source": [
        "# Save an SVG string to a file with the given filepath\n",
        "def save_svg(svg, filepath):\n",
        "    \"\"\"\n",
        "    Saves the SVG representation of a chess board to a file.\n",
        "    This function is used to save the visual representation of the board for later reference.\n",
        "    \"\"\"\n",
        "    try:\n",
        "        file_handle = open(filepath, 'w')\n",
        "    except IOError as e:\n",
        "        print(str(e))\n",
        "        exit(1)\n",
        "\n",
        "    file_handle.write(svg)\n",
        "    file_handle.close()"
      ],
      "metadata": {
        "id": "7QYE4plWRRZo"
      },
      "execution_count": null,
      "outputs": []
    },
    {
      "cell_type": "code",
      "source": [
        "# Convert an SVG file to PDF format\n",
        "def convert_svg_to_pdf(input_file):\n",
        "    \"\"\"\n",
        "    Converts an SVG file to PDF format.\n",
        "    This step is used as part of the conversion process from SVG to PNG.\n",
        "    \"\"\"\n",
        "    cairosvg.svg2pdf(url=input_file, write_to=input_file[:-3]+\"pdf\")\n",
        "\n",
        "# Convert a PDF file to PNG format\n",
        "def convert_pdf_to_png(pdf_path):\n",
        "    \"\"\"\n",
        "    Converts a PDF file to PNG format.\n",
        "    This step is used as part of the conversion process from SVG to PNG.\n",
        "    \"\"\"\n",
        "    images = convert_from_path(pdf_path)\n",
        "    for index, image in enumerate(images):\n",
        "        image.save(pdf_path[:-3]+\"png\")"
      ],
      "metadata": {
        "id": "A6MLqxu0O8sL"
      },
      "execution_count": null,
      "outputs": []
    },
    {
      "cell_type": "code",
      "execution_count": null,
      "metadata": {
        "id": "OURJOiDeRJan"
      },
      "outputs": [],
      "source": [
        "# Convert all SVG files in a directory to PNG format\n",
        "def convert_all(PATH):\n",
        "    \"\"\"\n",
        "    Converts all SVG files in the specified directory to PDF format and then to PNG format.\n",
        "    The converted PNG files can be used for various purposes, including visualization.\n",
        "    \"\"\"\n",
        "    images = []\n",
        "    for file_name in sorted(os.listdir(PATH)):\n",
        "        if file_name.endswith('.svg'):\n",
        "            file_path = os.path.join(PATH, file_name)\n",
        "            convert_svg_to_pdf(file_path)\n",
        "            pdf_name = file_path[:-3]+\"pdf\"\n",
        "            convert_pdf_to_png(pdf_name)\n",
        "    print(\"Finished converting all files to png\")"
      ]
    },
    {
      "cell_type": "markdown",
      "source": [
        "## Tree Functions\n"
      ],
      "metadata": {
        "id": "b98GIOVtR1UY"
      }
    },
    {
      "cell_type": "code",
      "source": [
        "# Evaluate the current state of the board\n",
        "def evaluate(board, time_limit = 2):\n",
        "    \"\"\"\n",
        "    Evaluates the current state of the chess board using the stockfish engine.\n",
        "    If it's white's turn, it returns the evaluation. If it's black's turn, it returns the negative evaluation.\n",
        "    If the position is a checkmate, it returns positive infinity for white and negative infinity for black.\n",
        "    \"\"\"\n",
        "    eval, mate = stockfish_evaluation(board, time_limit)\n",
        "    if not board.turn:\n",
        "        eval = -eval\n",
        "        mate = -mate\n",
        "    if mate == 1:\n",
        "        return float('inf')\n",
        "    if mate == -1:\n",
        "        return float('-inf')\n",
        "    return eval"
      ],
      "metadata": {
        "id": "DSbie0dNR4Fv"
      },
      "execution_count": null,
      "outputs": []
    },
    {
      "cell_type": "markdown",
      "source": [
        "### Basic Alpha Beta"
      ],
      "metadata": {
        "id": "7AT7qm7h3DKu"
      }
    },
    {
      "cell_type": "code",
      "source": [
        "# Alpha-beta pruning algorithm with k-move prediction\n",
        "def alpha_beta(board, depth, alpha, beta, k):\n",
        "    \"\"\"\n",
        "    Performs alpha-beta pruning search with k-move prediction.\n",
        "    Returns the best evaluation for the current position using alpha-beta pruning.\n",
        "    \"\"\"\n",
        "    if depth == 0 or board.is_game_over():\n",
        "        return evaluate(board)\n",
        "\n",
        "    best_k_move = predict_k_move_cached(board, k)\n",
        "    eval_move = []\n",
        "    for move in best_k_move:\n",
        "        board.push(chess.Move.from_uci(move))\n",
        "        eval_move.append((evaluate(board) , move))\n",
        "        board.pop()\n",
        "    eval_move = sorted(eval_move , key=lambda x: x[0], reverse=board.turn)\n",
        "\n",
        "    if board.turn:\n",
        "        for _,move in eval_move:\n",
        "            board.push(chess.Move.from_uci(move))\n",
        "            alpha = max(alpha, alpha_beta(board, depth - 1, alpha, beta, k))\n",
        "            board.pop()\n",
        "            if beta <= alpha:\n",
        "                break  # Beta cut-off\n",
        "        return alpha\n",
        "    else:\n",
        "        for _,move in eval_move:\n",
        "            board.push(chess.Move.from_uci(move))\n",
        "            beta = min(beta, alpha_beta(board, depth - 1, alpha, beta, k))\n",
        "            board.pop()\n",
        "            if beta <= alpha:\n",
        "                break  # Alpha cut-off\n",
        "        return beta"
      ],
      "metadata": {
        "id": "9nqQBn45R8gn"
      },
      "execution_count": null,
      "outputs": []
    },
    {
      "cell_type": "code",
      "source": [
        "# Find the best move using alpha-beta pruning and k-move prediction\n",
        "def find_best_move(board, d, k):\n",
        "    \"\"\"\n",
        "    Finds the best move for the current position using alpha-beta pruning and k-move prediction.\n",
        "    Returns the best move based on the evaluations obtained through the alpha-beta search.\n",
        "    \"\"\"\n",
        "    moves = predict_k_move_cached(board, k)\n",
        "    eval_move = []\n",
        "\n",
        "    for move in moves:\n",
        "        board.push(chess.Move.from_uci(move))\n",
        "        eval_move.append((evaluate(board) , move))\n",
        "        board.pop()\n",
        "\n",
        "    eval_move = sorted(eval_move , key=lambda x: x[0], reverse=board.turn)\n",
        "    print(eval_move)\n",
        "    best_move = None\n",
        "    best_value = float('-inf')\n",
        "    best_value2 = float('inf')\n",
        "\n",
        "    for _, move in eval_move:\n",
        "        board.push(chess.Move.from_uci(move))\n",
        "        value = alpha_beta(board, d - 1, float('-inf'), float('inf'), k)\n",
        "        print(value, move)\n",
        "        board.pop()\n",
        "        if board.turn:\n",
        "            if value > best_value:\n",
        "                best_value = value\n",
        "                best_move = move\n",
        "        else:\n",
        "            if value < best_value2:\n",
        "                best_value2 = value\n",
        "                best_move = move\n",
        "\n",
        "    return best_move"
      ],
      "metadata": {
        "id": "w2VINM0BR-kv"
      },
      "execution_count": null,
      "outputs": []
    },
    {
      "cell_type": "markdown",
      "source": [
        "### Limited Time Alpha Beta"
      ],
      "metadata": {
        "id": "hzk5Cs7s2-4G"
      }
    },
    {
      "cell_type": "code",
      "source": [
        "# Alpha-beta pruning algorithm with k-move prediction and time limit\n",
        "def alpha_beta_limit(board, depth, alpha, beta, k, idx, time, start):\n",
        "    \"\"\"\n",
        "    Performs alpha-beta pruning search with k-move prediction and a time limit.\n",
        "    Returns the best evaluation for the current position using alpha-beta pruning within a time limit.\n",
        "    \"\"\"\n",
        "    now = datetime.datetime.now()\n",
        "    if (now - start).total_seconds() > time:\n",
        "        return None\n",
        "    if depth == 0 or board.is_game_over():\n",
        "        return evaluate(board)\n",
        "\n",
        "    best_k_move = predict_k_move_cached(board, k)[:idx]\n",
        "    eval_move = []\n",
        "    for move in best_k_move:\n",
        "        board.push(chess.Move.from_uci(move))\n",
        "        eval_move.append((evaluate(board) , move))\n",
        "        board.pop()\n",
        "    eval_move = sorted(eval_move , key=lambda x: x[0], reverse=board.turn)\n",
        "\n",
        "    if board.turn:\n",
        "        for _,move in eval_move:\n",
        "            board.push(chess.Move.from_uci(move))\n",
        "            value = alpha_beta_limit(board, depth - 1, alpha, beta, k, idx, time, start)\n",
        "            if value == None:\n",
        "              return None\n",
        "            alpha = max(alpha, value)\n",
        "            board.pop()\n",
        "            if beta <= alpha:\n",
        "                break  # Beta cut-off\n",
        "        return alpha\n",
        "    else:\n",
        "        for _,move in eval_move:\n",
        "            board.push(chess.Move.from_uci(move))\n",
        "            value = alpha_beta_limit(board, depth - 1, alpha, beta, k, idx, time, start)\n",
        "            if value == None:\n",
        "              return None\n",
        "            beta = min(beta, value)\n",
        "            board.pop()\n",
        "            if beta <= alpha:\n",
        "                break  # Alpha cut-off\n",
        "        return beta"
      ],
      "metadata": {
        "id": "nY-_9tf0SHZQ"
      },
      "execution_count": null,
      "outputs": []
    },
    {
      "cell_type": "code",
      "source": [
        "# Find the best move using alpha-beta pruning, k-move prediction, and time limit\n",
        "def find_best_move_limit(board, d, k, time):\n",
        "    \"\"\"\n",
        "    Finds the best move for the current position using alpha-beta pruning, k-move prediction, and a time limit.\n",
        "    Returns the best move based on the evaluations obtained through the alpha-beta search within a time limit.\n",
        "    \"\"\"\n",
        "    start = datetime.datetime.now()\n",
        "    boardcopy = board.copy()\n",
        "\n",
        "    best_move = None\n",
        "    for idx in range(1, k + 1):\n",
        "        best_move2 = None\n",
        "        best_value = float('-inf')\n",
        "        best_value2 = float('inf')\n",
        "        moves = predict_k_move_cached(boardcopy, k)[:idx]\n",
        "        eval_move = []\n",
        "\n",
        "        for move in moves:\n",
        "            boardcopy.push(chess.Move.from_uci(move))\n",
        "            eval_move.append((evaluate(boardcopy) , move))\n",
        "            boardcopy.pop()\n",
        "\n",
        "        eval_move = sorted(eval_move , key=lambda x: x[0], reverse=boardcopy.turn)\n",
        "        print(eval_move)\n",
        "\n",
        "        for _, move in eval_move:\n",
        "            boardcopy.push(chess.Move.from_uci(move))\n",
        "            value = alpha_beta_limit(boardcopy, d - 1, float('-inf'), float('inf'),k , idx, time, start)\n",
        "            print(value, move)\n",
        "            if value == None:\n",
        "              break\n",
        "            boardcopy.pop()\n",
        "            if boardcopy.turn:\n",
        "                if value >= best_value:\n",
        "                    best_value = value\n",
        "                    best_move2 = move\n",
        "            else:\n",
        "                if value <= best_value2:\n",
        "                    best_value2 = value\n",
        "                    best_move2 = move\n",
        "        if not best_move2 == None:\n",
        "            best_move = best_move2\n",
        "\n",
        "    return best_move"
      ],
      "metadata": {
        "id": "tHXisT06SM3I"
      },
      "execution_count": null,
      "outputs": []
    },
    {
      "cell_type": "markdown",
      "source": [
        "### Special Alpha Beta"
      ],
      "metadata": {
        "id": "Ts6qOMF727bB"
      }
    },
    {
      "cell_type": "code",
      "source": [
        "def alpha_beta_special(board, depth, alpha, beta, k, k_from, eval_time_limit):\n",
        "    if depth == 0 or board.is_game_over():\n",
        "        return evaluate(board, eval_time_limit)\n",
        "\n",
        "    best_k_move = predict_k_move_cached_special(board, k, k_from)\n",
        "    eval_move = []\n",
        "    for move in best_k_move:\n",
        "        board.push(chess.Move.from_uci(move))\n",
        "        eval_move.append((evaluate(board, eval_time_limit) , move))\n",
        "        board.pop()\n",
        "    eval_move = sorted(eval_move , key=lambda x: x[0], reverse=board.turn)\n",
        "\n",
        "    if board.turn:\n",
        "        for _,move in eval_move:\n",
        "            board.push(chess.Move.from_uci(move))\n",
        "            alpha = max(alpha, alpha_beta_special(board, depth - 1, alpha, beta, k, k_from, eval_time_limit))\n",
        "            board.pop()\n",
        "            if beta <= alpha:\n",
        "                break  # Beta cut-off\n",
        "        return alpha\n",
        "    else:\n",
        "        for _,move in eval_move:\n",
        "            board.push(chess.Move.from_uci(move))\n",
        "            beta = min(beta, alpha_beta_special(board, depth - 1, alpha, beta, k, k_from, eval_time_limit))\n",
        "            board.pop()\n",
        "            if beta <= alpha:\n",
        "                break  # Alpha cut-off\n",
        "        return beta"
      ],
      "metadata": {
        "id": "yYKI6v8J15j2"
      },
      "execution_count": null,
      "outputs": []
    },
    {
      "cell_type": "code",
      "source": [
        "def find_best_move_special(board, d, k, k_from, eval_time_limit):\n",
        "    copy_board = board.copy()\n",
        "    moves = predict_k_move_cached_special(copy_board, k, k_from)\n",
        "    eval_move = []\n",
        "\n",
        "    for move in moves:\n",
        "        copy_board.push(chess.Move.from_uci(move))\n",
        "        eval_move.append((evaluate(copy_board, eval_time_limit) , move))\n",
        "        copy_board.pop()\n",
        "\n",
        "    eval_move = sorted(eval_move , key=lambda x: x[0], reverse=copy_board.turn)\n",
        "    print(eval_move)\n",
        "    best_move = None\n",
        "    best_value = float('-inf')\n",
        "    best_value2 = float('inf')\n",
        "\n",
        "    for _, move in eval_move:\n",
        "        copy_board.push(chess.Move.from_uci(move))\n",
        "        value = alpha_beta_special(copy_board, d - 1, float('-inf'), float('inf'), k, k_from, eval_time_limit)\n",
        "        print(value, move)\n",
        "        copy_board.pop()\n",
        "        if copy_board.turn:\n",
        "            if value > best_value:\n",
        "                best_value = value\n",
        "                best_move = move\n",
        "            if best_move == None:\n",
        "                best_move = move\n",
        "        else:\n",
        "            if value < best_value2:\n",
        "                best_value2 = value\n",
        "                best_move = move\n",
        "            if best_move == None:\n",
        "                best_move = move\n",
        "\n",
        "    return best_move"
      ],
      "metadata": {
        "id": "tEqEmeg8203g"
      },
      "execution_count": null,
      "outputs": []
    },
    {
      "cell_type": "markdown",
      "source": [
        "## Accuracy Functions\n"
      ],
      "metadata": {
        "id": "D0-xN5GGz11e"
      }
    },
    {
      "cell_type": "code",
      "source": [
        "def calculate_accuracy(k):\n",
        "    count = 0\n",
        "    size = len(X)\n",
        "    stepsize = int(0.1 * size)\n",
        "    from_best = predict_multi_from_k_move(X, k)\n",
        "\n",
        "    for index in range(size):\n",
        "        if y_from[index] in from_best[index]:\n",
        "            count += 1\n",
        "    return count / size"
      ],
      "metadata": {
        "id": "jNPHADb3z5xj"
      },
      "execution_count": null,
      "outputs": []
    },
    {
      "cell_type": "code",
      "source": [
        "def calculate_accuracy_full_move(k):\n",
        "    count = 0\n",
        "    best_moves = predict_multi_k_move(X, k)\n",
        "\n",
        "    for index in range(len(X)):\n",
        "        if (y_from[index] + y_to[index]) in best_moves[index]:\n",
        "            count += 1\n",
        "\n",
        "    return count / len(X)"
      ],
      "metadata": {
        "id": "-ps5Xrcwz-6X"
      },
      "execution_count": null,
      "outputs": []
    },
    {
      "cell_type": "markdown",
      "metadata": {
        "id": "-de6JLby-z4Z"
      },
      "source": [
        "# Data Process"
      ]
    },
    {
      "cell_type": "markdown",
      "metadata": {
        "id": "jkf7O_n6Jn-u"
      },
      "source": [
        "## Define DataSet Size"
      ]
    },
    {
      "cell_type": "code",
      "execution_count": null,
      "metadata": {
        "id": "qFnJg_eEB-RH"
      },
      "outputs": [],
      "source": [
        "NUM_GAMES = 10"
      ]
    },
    {
      "cell_type": "markdown",
      "metadata": {
        "id": "oTNMNTysJO-f"
      },
      "source": [
        "## Load the Data from the PGN File"
      ]
    },
    {
      "cell_type": "code",
      "execution_count": null,
      "metadata": {
        "colab": {
          "base_uri": "https://localhost:8080/"
        },
        "id": "XeeJ9qucbmHC",
        "outputId": "d2fe6327-396c-4b24-bca1-55dd5d74e9b7"
      },
      "outputs": [
        {
          "output_type": "stream",
          "name": "stdout",
          "text": [
            "Finished loading the PGN file.\n",
            "Total number of games: 10\n"
          ]
        }
      ],
      "source": [
        "if LOADING_DATA:\n",
        "  # Determine if this is the first model being loaded\n",
        "  first_model = not any(BOOLEAN_PIECE.values())\n",
        "\n",
        "  # Load a specified number of chess games from the PGN file\n",
        "  games = load_pgn_games(PGN_FILE, NUM_GAMES, first_model)\n",
        "  games = games[:NUM_GAMES]\n",
        "\n",
        "  # Print loading completion and the total number of loaded games\n",
        "  print(\"Finished loading the PGN file.\")\n",
        "  print(\"Total number of games: %d\" % len(games))"
      ]
    },
    {
      "cell_type": "markdown",
      "metadata": {
        "id": "2avKI_bFJW52"
      },
      "source": [
        "## Build the DataSets"
      ]
    },
    {
      "cell_type": "code",
      "execution_count": null,
      "metadata": {
        "colab": {
          "base_uri": "https://localhost:8080/"
        },
        "id": "q2CDHTuTCRnX",
        "outputId": "234f493d-5ad4-4618-dad7-0acd52de5a8e"
      },
      "outputs": [
        {
          "output_type": "stream",
          "name": "stdout",
          "text": [
            "Processed 0 games out of 10\n",
            "Processed 10 games out of 10\n",
            "Finished preparing data for training.\n",
            "Total number of training samples in opening : 127\n",
            "Total number of training samples in middlegame: 268\n",
            "Total number of training samples in endgame: 379\n"
          ]
        }
      ],
      "source": [
        "if LOADING_DATA:\n",
        "  # Initialize dictionaries to store training data for each phase: opening, middlegame, endgame\n",
        "  X_train, y_train = {'o':[], 'm': [],'e':[]}, {'o':[], 'm': [],'e':[]}\n",
        "\n",
        "  # Determine if it's the first model data\n",
        "  first_model_data = not any(BOOLEAN_PIECE.values())\n",
        "\n",
        "  # Counter for tracking progress\n",
        "  cont = 0\n",
        "  # Loop through each game and its winner\n",
        "  for index, (game, winner) in enumerate(games):\n",
        "      # Print progress information every 1000 games\n",
        "      if index % 1000 == 0:\n",
        "          print(\"Processed %d games out of %d\" % (index, NUM_GAMES))\n",
        "\n",
        "      # Create a chess board for the game\n",
        "      board = chess.Board()\n",
        "      moves = game.mainline_moves()\n",
        "\n",
        "\n",
        "      # Loop through each move in the game\n",
        "      for move_index, move in enumerate(moves):\n",
        "\n",
        "          # Check if move is in Standard Algebraic Notation (SAN)\n",
        "          if str(move)[0].isalpha():\n",
        "\n",
        "              # Handle moves based on the winner's color\n",
        "              if winner == 'White' and move_index % 2 == 1:\n",
        "                  board.push_san(str(move))\n",
        "                  continue\n",
        "              if winner == 'Black' and move_index % 2 == 0:\n",
        "                  board.push_san(str(move))\n",
        "                  continue\n",
        "\n",
        "              # Determine the phase of the game (opening, middlegame, endgame)\n",
        "              phase = check_phase(board, move_index)\n",
        "\n",
        "              # Convert chess coordinates to 2D coordinates\n",
        "              from_to_chess_coords = board.parse_san(str(move))\n",
        "              from_to_chess_coords = str(from_to_chess_coords)\n",
        "\n",
        "              from_chess_coords = from_to_chess_coords[:2]\n",
        "\n",
        "              to_chess_coords = from_to_chess_coords[2:4]\n",
        "              from_coords = chess_coord_to_coord2d(from_chess_coords)\n",
        "              to_coords = chess_coord_to_coord2d(to_chess_coords)\n",
        "\n",
        "\n",
        "              # Handle board and coordinates based on the move index\n",
        "              if  move_index % 2 == 0:\n",
        "                  im = convert_bitboard_to_image(board)\n",
        "              else:\n",
        "                  im = flip_image(convert_bitboard_to_image(board))\n",
        "                  im = flip_color(im)\n",
        "                  from_coords = flip_coord2d(from_coords)\n",
        "                  to_coords = flip_coord2d(to_coords)\n",
        "\n",
        "              # Identify the piece's index in PIECE_TO_INDEX\n",
        "              index_piece = np.where(im[from_coords] != 0)\n",
        "\n",
        "              # index_piece denotes the index in PIECE_TO_INDEX\n",
        "              index_piece = index_piece[0][0]  # ranges from 0 to 5\n",
        "\n",
        "              from_coords2 = flatten_coord2d(from_coords)\n",
        "              to_coords2 = flatten_coord2d(to_coords)\n",
        "              #print(from_coords)\n",
        "\n",
        "              im = np.rollaxis(im, 2, 0)  # to get into form (C, H, W)\n",
        "              board.push_san(str(move))\n",
        "              # Filling the X_train and y_train array\n",
        "\n",
        "              # Add data to training arrays based on conditions\n",
        "              piece = INDEX_TO_PIECE[index_piece]\n",
        "              if first_model_data:\n",
        "\n",
        "                  X_train[phase].append(im)\n",
        "                  y_train[phase].append(from_coords2)\n",
        "\n",
        "              elif BOOLEAN_PIECE[piece]:\n",
        "                  X_train[phase].append(im)\n",
        "                  y_train[phase].append(to_coords2)\n",
        "\n",
        "  # Print final progress and statistics\n",
        "  print(\"Processed %d games out of %d\" % (NUM_GAMES, NUM_GAMES))\n",
        "  print(\"Finished preparing data for training.\")\n",
        "  print(\"Total number of training samples in opening : %d\" % len(X_train['o']))\n",
        "  print(\"Total number of training samples in middlegame: %d\" % len(X_train['m']))\n",
        "  print(\"Total number of training samples in endgame: %d\" % len(X_train['e']))\n",
        "  # X_train, y_train = np.array(X_train), np.array(y_train)"
      ]
    },
    {
      "cell_type": "code",
      "execution_count": null,
      "metadata": {
        "id": "36lO139iE1hV"
      },
      "outputs": [],
      "source": [
        "X_train = np.vstack((X_train['o'], X_train['m'], X_train['e']))\n",
        "y_train = np.concatenate((y_train['o'], y_train['m'], y_train['e']))\n",
        "X_train, y_train = np.array(X_train), np.array(y_train)"
      ]
    },
    {
      "cell_type": "markdown",
      "metadata": {
        "id": "5eW-xxRUJJMJ"
      },
      "source": [
        "## Save the Data to Drive"
      ]
    },
    {
      "cell_type": "code",
      "execution_count": null,
      "metadata": {
        "colab": {
          "base_uri": "https://localhost:8080/"
        },
        "id": "j6H6nL8GoaMA",
        "outputId": "9fd1d014-ae0d-4c95-e52b-485f3994fbfc"
      },
      "outputs": [
        {
          "output_type": "stream",
          "name": "stdout",
          "text": [
            "Finished generating training data\n",
            "Finished generating target labels\n"
          ]
        }
      ],
      "source": [
        "if LOADING_DATA:\n",
        "\n",
        "  # Find the first true piece based on BOOLEAN_PIECE values\n",
        "  # This piece will be used to create filenames for saved data\n",
        "  first_true_piece = next((key for key, value in BOOLEAN_PIECE.items() if value), '5')\n",
        "\n",
        "  # Save X_train data using pickle\n",
        "  save_data(X_train, 'X' + first_true_piece + '3')\n",
        "\n",
        "  # Print confirmation after saving X_train data\n",
        "  print(\"Finished generating training data\")\n",
        "\n",
        "\n",
        "  # Save y_train data using pickle\n",
        "  save_data(y_train, 'y' + first_true_piece + '3')\n",
        "\n",
        "  # Print confirmation after saving y_train data\n",
        "  print(\"Finished generating target labels\")"
      ]
    },
    {
      "cell_type": "markdown",
      "metadata": {
        "id": "q5fbbKnvIm3z"
      },
      "source": [
        "# Train the Models"
      ]
    },
    {
      "cell_type": "markdown",
      "metadata": {
        "id": "vE6-riAxIeto"
      },
      "source": [
        "## Data import"
      ]
    },
    {
      "cell_type": "code",
      "execution_count": null,
      "metadata": {
        "id": "4e-p20ixo0Cf"
      },
      "outputs": [],
      "source": [
        "if TRAINGING_MODELS:\n",
        "\n",
        "    # Find the first true piece based on BOOLEAN_PIECE values\n",
        "    # This piece will be used to construct filenames for loading data\n",
        "    first_true_piece = next((key + '2' for key, value in BOOLEAN_PIECE.items() if value), '53')\n",
        "    # Define path where the dataset is located\n",
        "\n",
        "    # Get the input data and true labels\n",
        "    X_train, y_train = get_data(first_true_piece)\n",
        "\n",
        "\n",
        "    # Split the data into training and testing sets\n",
        "    # The test size is set to 20% of the total data, and a random state is provided for reproducibility\n",
        "    train_data, test_data, train_labels, test_labels = train_test_split(X_train, y_train, test_size=0.2, random_state=31)"
      ]
    },
    {
      "cell_type": "code",
      "execution_count": null,
      "metadata": {
        "colab": {
          "base_uri": "https://localhost:8080/"
        },
        "id": "9xfr4qOLFR6t",
        "outputId": "f5e2c674-5801-42b2-b65b-8da8d7c1a85c"
      },
      "outputs": [
        {
          "output_type": "execute_result",
          "data": {
            "text/plain": [
              "(774, 6, 8, 8)"
            ]
          },
          "metadata": {},
          "execution_count": 59
        }
      ],
      "source": [
        "X_train.shape"
      ]
    },
    {
      "cell_type": "markdown",
      "metadata": {
        "id": "eqdpzwHLLSH_"
      },
      "source": [
        "## Define Parameters"
      ]
    },
    {
      "cell_type": "code",
      "execution_count": null,
      "metadata": {
        "id": "EwR2n0ZeDxC-"
      },
      "outputs": [],
      "source": [
        "# Set the batch size for mini-batch training\n",
        "batch_size = 500\n",
        "\n",
        "# Define the number of training epochs\n",
        "num_epochs = 50\n",
        "\n",
        "# Specify the learning rate for the optimization algorithm\n",
        "learning_rate = 0.0015"
      ]
    },
    {
      "cell_type": "code",
      "execution_count": null,
      "metadata": {
        "id": "O2Ch8RWbwRnx"
      },
      "outputs": [],
      "source": [
        "if TRAINGING_MODELS:\n",
        "\n",
        "    # Initialize a MirroredStrategy for distributed training\n",
        "    strategy = tf.distribute.MirroredStrategy()\n",
        "    # Create the distributed model\n",
        "    with strategy.scope():\n",
        "\n",
        "        # Check if it's the first model data\n",
        "        if not any(BOOLEAN_PIECE.values()):\n",
        "            # Create a neural network model for piece prediction\n",
        "            model = create_piece_net()\n",
        "        else:\n",
        "            # Create a neural network model for move prediction\n",
        "            model = create_move_net()"
      ]
    },
    {
      "cell_type": "code",
      "execution_count": null,
      "metadata": {
        "id": "Yneg27usmtR3"
      },
      "outputs": [],
      "source": [
        "# Create an EarlyStopping callback to monitor accuracy and stop training if it plateaus\n",
        "callback_stop = EarlyStopping(monitor='accuracy',patience=5)\n",
        "\n",
        "# Combine the EarlyStopping callback into a list of callbacks\n",
        "callbacks = [callback_stop]"
      ]
    },
    {
      "cell_type": "code",
      "execution_count": null,
      "metadata": {
        "id": "9GZV8FOpxixv"
      },
      "outputs": [],
      "source": [
        "# Create an RMSprop optimizer with the specified learning rate\n",
        "optimizer = keras.optimizers.RMSprop(learning_rate=learning_rate)\n",
        "\n",
        "# Define the binary cross-entropy loss function\n",
        "criterion = tf.keras.losses.BinaryCrossentropy()"
      ]
    },
    {
      "cell_type": "code",
      "execution_count": null,
      "metadata": {
        "id": "Dca9n6AumwHG"
      },
      "outputs": [],
      "source": [
        "if TRAINGING_MODELS:\n",
        "\n",
        "    # Compile the model with specified optimizer, loss function, and metrics\n",
        "    model.compile(optimizer = optimizer, loss = criterion, metrics = ['accuracy'])"
      ]
    },
    {
      "cell_type": "code",
      "execution_count": null,
      "metadata": {
        "id": "4MXTkBhIyeto"
      },
      "outputs": [],
      "source": [
        "if TRAINGING_MODELS:\n",
        "\n",
        "    # Transpose the dimensions of train_data and test_data arrays\n",
        "    # This reordering is often needed to match the expected input format of the model\n",
        "    train_data = np.transpose(train_data, (0, 2, 3, 1))\n",
        "    test_data = np.transpose(test_data, (0, 2, 3, 1))\n",
        "\n",
        "\n",
        "    # Convert train_labels and test_labels to one-hot encoded format\n",
        "    # This is typically necessary when dealing with categorical labels\n",
        "    train_labels = tf.one_hot(train_labels, depth=64)\n",
        "    test_labels = tf.one_hot(test_labels, depth=64)"
      ]
    },
    {
      "cell_type": "code",
      "execution_count": null,
      "metadata": {
        "colab": {
          "base_uri": "https://localhost:8080/"
        },
        "id": "5-GHHCY3OGEZ",
        "outputId": "0abbd812-60b8-4dcb-e996-b85dae48ed3b"
      },
      "outputs": [
        {
          "output_type": "stream",
          "name": "stdout",
          "text": [
            "X_train shape:  (619, 8, 8, 6)\n",
            "y_train shape:  (619, 64)\n",
            "X_test shape:  (155, 8, 8, 6)\n",
            "y_test shape:  (155, 64)\n"
          ]
        }
      ],
      "source": [
        "if TRAINGING_MODELS:\n",
        "    # Print Shapes of training and testing data\n",
        "    print(\"X_train shape: \", train_data.shape)\n",
        "    print(\"y_train shape: \", train_labels.shape)\n",
        "    print(\"X_test shape: \", test_data.shape)\n",
        "    print(\"y_test shape: \", test_labels.shape)"
      ]
    },
    {
      "cell_type": "code",
      "execution_count": null,
      "metadata": {
        "colab": {
          "base_uri": "https://localhost:8080/"
        },
        "id": "NdGq4L910Tag",
        "outputId": "52587a02-aff1-4753-afdc-8da2edeed273"
      },
      "outputs": [
        {
          "output_type": "stream",
          "name": "stderr",
          "text": [
            "WARNING:tensorflow:From <ipython-input-68-4bdd2a92b8d1>:4: is_gpu_available (from tensorflow.python.framework.test_util) is deprecated and will be removed in a future version.\n",
            "Instructions for updating:\n",
            "Use `tf.config.list_physical_devices('GPU')` instead.\n"
          ]
        }
      ],
      "source": [
        "if TRAINGING_MODELS:\n",
        "\n",
        "    # Check if GPU is available for training\n",
        "    if tf.test.is_gpu_available():\n",
        "        device = '/gpu:0' # Use GPU if available\n",
        "    else:\n",
        "        device = '/cpu:0'  # Use CPU if GPU is not available\n",
        "\n",
        "    # Set the device for TensorFlow operations within this scope\n",
        "    with tf.device(device):\n",
        "\n",
        "        # Convert training data and labels to TensorFlow tensors\n",
        "        train_data = tf.convert_to_tensor(train_data)\n",
        "        train_labels = tf.convert_to_tensor(train_labels)"
      ]
    },
    {
      "cell_type": "markdown",
      "metadata": {
        "id": "QifQak9VNMUe"
      },
      "source": [
        "## Run the fit (train) method"
      ]
    },
    {
      "cell_type": "code",
      "execution_count": null,
      "metadata": {
        "colab": {
          "base_uri": "https://localhost:8080/"
        },
        "id": "F6s7U2Opm8e-",
        "outputId": "855363d9-e342-4f68-c37e-1e678562c13d"
      },
      "outputs": [
        {
          "output_type": "stream",
          "name": "stdout",
          "text": [
            "Epoch 1/50\n",
            "2/2 [==============================] - 13s 962ms/step - loss: 0.6927 - accuracy: 0.0097 - val_loss: 0.6892 - val_accuracy: 0.0581\n",
            "Epoch 2/50\n",
            "2/2 [==============================] - 0s 110ms/step - loss: 0.6890 - accuracy: 0.0129 - val_loss: 0.6866 - val_accuracy: 0.0581\n",
            "Epoch 3/50\n",
            "2/2 [==============================] - 0s 129ms/step - loss: 0.6864 - accuracy: 0.0210 - val_loss: 0.6844 - val_accuracy: 0.0581\n",
            "Epoch 4/50\n",
            "2/2 [==============================] - 0s 121ms/step - loss: 0.6842 - accuracy: 0.0162 - val_loss: 0.6821 - val_accuracy: 0.0581\n",
            "Epoch 5/50\n",
            "2/2 [==============================] - 0s 102ms/step - loss: 0.6814 - accuracy: 0.0194 - val_loss: 0.6682 - val_accuracy: 0.0258\n",
            "Epoch 6/50\n",
            "2/2 [==============================] - 0s 103ms/step - loss: 0.6634 - accuracy: 0.0339 - val_loss: 0.5974 - val_accuracy: 0.0387\n",
            "Epoch 7/50\n",
            "2/2 [==============================] - 0s 111ms/step - loss: 0.5848 - accuracy: 0.0355 - val_loss: 0.4530 - val_accuracy: 0.0387\n",
            "Epoch 8/50\n",
            "2/2 [==============================] - 0s 105ms/step - loss: 0.4377 - accuracy: 0.0355 - val_loss: 0.3026 - val_accuracy: 0.0000e+00\n",
            "Epoch 9/50\n",
            "2/2 [==============================] - 0s 105ms/step - loss: 0.2902 - accuracy: 0.0323 - val_loss: 0.1551 - val_accuracy: 0.0000e+00\n",
            "Epoch 10/50\n",
            "2/2 [==============================] - 0s 178ms/step - loss: 0.1434 - accuracy: 0.0323 - val_loss: 0.0814 - val_accuracy: 0.0387\n",
            "Epoch 11/50\n",
            "2/2 [==============================] - 0s 160ms/step - loss: 0.0810 - accuracy: 0.0355 - val_loss: 0.0792 - val_accuracy: 0.0387\n",
            "Epoch 12/50\n",
            "2/2 [==============================] - 0s 152ms/step - loss: 0.0791 - accuracy: 0.0355 - val_loss: 0.0790 - val_accuracy: 0.0387\n"
          ]
        }
      ],
      "source": [
        "if TRAINGING_MODELS:\n",
        "    # Train the model using the specified data and labels\n",
        "    # 'output' will store training progress and metrics\n",
        "    output = model.fit(train_data, train_labels,\n",
        "                      epochs = num_epochs,\n",
        "                      batch_size = batch_size,\n",
        "                      validation_data = (test_data, test_labels),\n",
        "                      callbacks = callbacks)"
      ]
    },
    {
      "cell_type": "markdown",
      "metadata": {
        "id": "d3ytsFtaNKov"
      },
      "source": [
        "## Visualize the Models Accuracies"
      ]
    },
    {
      "cell_type": "code",
      "execution_count": null,
      "metadata": {
        "id": "7HpxfG0rOmRn",
        "colab": {
          "base_uri": "https://localhost:8080/"
        },
        "outputId": "1d0de3bc-2ddd-4bf0-c530-7129b0a2250f"
      },
      "outputs": [
        {
          "output_type": "stream",
          "name": "stdout",
          "text": [
            "5/5 [==============================] - 0s 40ms/step - loss: 0.0790 - accuracy: 0.0387\n"
          ]
        }
      ],
      "source": [
        "if TRAINGING_MODELS:\n",
        "    # Evaluate the trained model on the test dataset\n",
        "    # This provides insights into the model's performance on unseen data\n",
        "    model.evaluate(test_data, test_labels)"
      ]
    },
    {
      "cell_type": "code",
      "execution_count": null,
      "metadata": {
        "id": "It3vUvszMGF7"
      },
      "outputs": [],
      "source": [
        "if TRAINGING_MODELS:\n",
        "    # Clear training data and labels to free up memory\n",
        "    train_data = []\n",
        "    train_labels = []\n",
        "\n",
        "    # Clear additional data arrays if needed\n",
        "    y_train = []\n",
        "    X_train = []"
      ]
    },
    {
      "cell_type": "code",
      "execution_count": null,
      "metadata": {
        "id": "tpZ1W1ED3jsQ"
      },
      "outputs": [],
      "source": [
        "# train_dataset = []\n",
        "# test_dataset = []"
      ]
    },
    {
      "cell_type": "code",
      "execution_count": null,
      "metadata": {
        "id": "da6mPuAu2Nyl",
        "colab": {
          "base_uri": "https://localhost:8080/"
        },
        "outputId": "a4fd35fc-da22-47df-f01c-52e455b299fa"
      },
      "outputs": [
        {
          "output_type": "display_data",
          "data": {
            "text/plain": [
              "<Figure size 1000x500 with 2 Axes>"
            ],
            "image/png": "[encoded data removed]"
          },
          "metadata": {}
        }
      ],
      "source": [
        "if TRAINGING_MODELS:\n",
        "\n",
        "    # Create a pandas DataFrame from the training output history\n",
        "    result = pd.DataFrame(output.history)\n",
        "\n",
        "    # Create a figure to display accuracy and loss plots\n",
        "    plt.figure(figsize = (10,5))\n",
        "\n",
        "\n",
        "    # Determine the piece label based on BOOLEAN_PIECE values\n",
        "    piece_label = next((key for key, value in BOOLEAN_PIECE.items() if value), '4')\n",
        "\n",
        "    # Check if it's the first model data\n",
        "    first_model = not any(BOOLEAN_PIECE.values())\n",
        "\n",
        "    # Define label for the plot based on the model type\n",
        "    label = PIECE_TO_WORD[piece_label] if not first_model else \"Piece Select\"\n",
        "\n",
        "    # Plot the accuracy graph\n",
        "    plt.subplot(1,2,1)\n",
        "    plt.plot(result['accuracy'], label = 'traning')\n",
        "    plt.plot(result['val_accuracy'], label = 'testing')\n",
        "    plt.title('Model Accuracy ' + label)\n",
        "    plt.xlabel('epochs')\n",
        "    plt.ylabel('accuracy')\n",
        "    plt.legend()\n",
        "\n",
        "\n",
        "    # Plot the loss graph\n",
        "    plt.subplot(1,2,2)\n",
        "    plt.plot(result['loss'], label = 'traning')\n",
        "    plt.plot(result['val_loss'], label = 'testing')\n",
        "    plt.title('Model Loss ' + label)\n",
        "    plt.xlabel('epochs')\n",
        "    plt.ylabel('loss')\n",
        "    plt.legend()"
      ]
    },
    {
      "cell_type": "code",
      "execution_count": null,
      "metadata": {
        "id": "PqHADLSwyxdt",
        "colab": {
          "base_uri": "https://localhost:8080/"
        },
        "outputId": "cf5fd5cb-9321-4572-dde0-876b9346170b"
      },
      "outputs": [
        {
          "output_type": "stream",
          "name": "stdout",
          "text": [
            "5/5 [==============================] - 0s 5ms/step\n"
          ]
        }
      ],
      "source": [
        "if TRAINGING_MODELS:\n",
        "    predictions = model.predict(test_data)"
      ]
    },
    {
      "cell_type": "code",
      "execution_count": null,
      "metadata": {
        "id": "sLM2zRlkyneO",
        "colab": {
          "base_uri": "https://localhost:8080/"
        },
        "outputId": "4f7f2076-253e-435b-de2e-69f4728be67b"
      },
      "outputs": [
        {
          "output_type": "display_data",
          "data": {
            "text/plain": [
              "<Figure size 640x480 with 1 Axes>"
            ],
            "image/png": "[encoded data removed]"
          },
          "metadata": {}
        }
      ],
      "source": [
        "# Check if the model is the first model (piece select)\n",
        "first_model = not any(BOOLEAN_PIECE.values())\n",
        "\n",
        "# Check if training models is in progress\n",
        "if TRAINGING_MODELS:\n",
        "    if first_model:\n",
        "\n",
        "        # Create a subplot for plotting accuracy per piece\n",
        "        plt.subplot(1, 2, 2)\n",
        "\n",
        "        # List of piece names\n",
        "        pieces = ['Pawn', 'Rook', 'Knight', 'Bishop', 'Queen', 'King']\n",
        "\n",
        "        # Initialize arrays to store accuracy and total predictions per piece\n",
        "        accuracy_per_piece = np.zeros(6)\n",
        "        total_per_piece = np.zeros(6)\n",
        "\n",
        "        # Loop through predictions and calculate accuracy per piece\n",
        "        for i in range(len(predictions)):\n",
        "            if i % 16000 == 0 and i > 0:\n",
        "                print(\"Processed %d%% of total predictions\" % ((i / len(predictions)) * 100))\n",
        "\n",
        "            # Get predicted and true cell indices\n",
        "            predicted_cell = np.argmax(predictions[i])\n",
        "            predicted_cell = (7 - (predicted_cell // 8), predicted_cell % 8)\n",
        "            predicted_cell = predicted_cell[0] * 8 + predicted_cell[1]\n",
        "\n",
        "            true_cell = np.argmax(test_labels[i])\n",
        "            true_cell = (7 - (true_cell // 8), true_cell % 8)\n",
        "            true_cell = true_cell[0] * 8 + true_cell[1]\n",
        "\n",
        "            # Get pieces at predicted and true cell positions\n",
        "            board_test = convert_image_to_bitboard(test_data[i])\n",
        "            predicted_piece = board_test.piece_at(predicted_cell)\n",
        "            true_piece = board_test.piece_at(true_cell)\n",
        "\n",
        "            # Calculate index of true piece for indexing accuracy arrays\n",
        "            # print(predicted_piece, true_piece)\n",
        "            index_true_piece = PIECE_TO_INDEX[str(true_piece).upper()]\n",
        "\n",
        "            # Update accuracy and total counts for the piece\n",
        "            accuracy_per_piece[index_true_piece] += (predicted_piece == true_piece)\n",
        "            total_per_piece[index_true_piece] += 1\n",
        "\n",
        "        # Calculate accuracy per piece as a ratio\n",
        "        accuracy_per_piece /= total_per_piece\n",
        "\n",
        "        # Plot accuracy per piece using a bar chart\n",
        "        plt.bar(pieces, accuracy_per_piece)\n",
        "        plt.title('Accuracy per Piece')\n",
        "        plt.xlabel('Piece')\n",
        "        plt.ylabel('Accuracy')\n",
        "\n",
        "        # Adjust layout and display the plot\n",
        "        plt.tight_layout()\n",
        "        plt.show()"
      ]
    },
    {
      "cell_type": "markdown",
      "metadata": {
        "id": "z1SMoK5QR-8H"
      },
      "source": [
        "## Save the Model"
      ]
    },
    {
      "cell_type": "code",
      "execution_count": null,
      "metadata": {
        "id": "G5GY7z7SD7sO",
        "colab": {
          "base_uri": "https://localhost:8080/"
        },
        "outputId": "e99bd1fa-f41b-49d9-b20f-b3cf1a1b040f"
      },
      "outputs": [
        {
          "output_type": "stream",
          "name": "stdout",
          "text": [
            "BASE\n"
          ]
        }
      ],
      "source": [
        "if TRAINGING_MODELS:\n",
        "\n",
        "    # Determine the label for the saved model based on model type\n",
        "    label = PIECE_TO_WORD[piece_label] if not first_model else \"BASE\"\n",
        "\n",
        "    # Print the label to indicate which type of model is being saved\n",
        "    print(label)\n",
        "\n",
        "    # Define the path for saving the trained model\n",
        "    PATH = MODELS_PATH + \"chess_model_CNN_\" + label + \"4.h5\"\n",
        "\n",
        "    # Save the trained model to the specified path\n",
        "    model.save(PATH)"
      ]
    },
    {
      "cell_type": "markdown",
      "metadata": {
        "id": "_9FN3KdKnh93"
      },
      "source": [
        "# Retrian Model\n"
      ]
    },
    {
      "cell_type": "markdown",
      "metadata": {
        "id": "3VqZfBn1vWIm"
      },
      "source": [
        "## load the puzzles data"
      ]
    },
    {
      "cell_type": "code",
      "execution_count": null,
      "metadata": {
        "id": "k45z-qUUngNy"
      },
      "outputs": [],
      "source": [
        "if RETRAINING_MODELS:\n",
        "\n",
        "    # Determine the first true piece label for retraining\n",
        "    first_true_piece = next((key for key, value in BOOLEAN_PIECE.items() if value), '')\n",
        "    # Define the path for the retraining dataset\n",
        "\n",
        "    # Get retraining data and labels using the defined function\n",
        "    X_train, y_train = get_puzzles_data(first_true_piece)\n",
        "\n",
        "    # Reduce retraining data and labels to 60% of the original size\n",
        "    X_train = X_train[:len(X_train) * 60 // 100]\n",
        "    y_train = y_train[:len(y_train) * 60 // 100]"
      ]
    },
    {
      "cell_type": "code",
      "execution_count": null,
      "metadata": {
        "id": "c2AoV3_uLhPo"
      },
      "outputs": [],
      "source": [
        "if RETRAINING_MODELS:\n",
        "\n",
        "    # Determine the first true piece label for retraining\n",
        "    first_true_piece2 = next((key + '2' for key, value in BOOLEAN_PIECE.items() if value), '53')\n",
        "\n",
        "    # Get retraining data and labels using the defined function\n",
        "    X_train2, y_train2 = get_data(first_true_piece2)\n",
        "\n",
        "    # Reduce retraining data and labels to 40% of the original size\n",
        "    X_train2 = X_train2[:len(X_train2) * 40 // 100]\n",
        "    y_train2 = y_train2[:len(y_train2) * 40 // 100]"
      ]
    },
    {
      "cell_type": "code",
      "execution_count": null,
      "metadata": {
        "id": "G8BC_AFpLpkH"
      },
      "outputs": [],
      "source": [
        "if RETRAINING_MODELS:\n",
        "\n",
        "    # Concatenate retraining data and labels with the existing data and labels\n",
        "    X_train = np.vstack((X_train, X_train2))\n",
        "    y_train = np.concatenate((y_train, y_train2))\n",
        "\n",
        "    # Clear additional retraining data arrays to free up memory\n",
        "    X_train2 = []\n",
        "    y_train2 = []\n",
        "\n",
        "    # Split combined training data and labels into train and test sets\n",
        "    train_data, test_data, train_labels, test_labels = train_test_split(\n",
        "        X_train, y_train, test_size=0.2, random_state=31\n",
        "    )"
      ]
    },
    {
      "cell_type": "markdown",
      "metadata": {
        "id": "EEy0KUf7vand"
      },
      "source": [
        "## load the model"
      ]
    },
    {
      "cell_type": "code",
      "execution_count": null,
      "metadata": {
        "colab": {
          "base_uri": "https://localhost:8080/"
        },
        "id": "AR3p0sZSqQrR",
        "outputId": "465a5166-b96e-4165-b86a-0ecf7618a03f"
      },
      "outputs": [
        {
          "output_type": "display_data",
          "data": {
            "text/plain": [
              "[<keras.layers.convolutional.conv2d.Conv2D at 0x7d2c6072c910>,\n",
              " <keras.layers.convolutional.conv2d.Conv2D at 0x7d2c6072c790>,\n",
              " <keras.layers.convolutional.conv2d.Conv2D at 0x7d2c71bde440>,\n",
              " <keras.layers.reshaping.flatten.Flatten at 0x7d2c607cbd30>,\n",
              " <keras.layers.core.dense.Dense at 0x7d2c6072d090>]"
            ]
          },
          "metadata": {}
        }
      ],
      "source": [
        "if RETRAINING_MODELS:\n",
        "\n",
        "    # Create a MirroredStrategy for distributed training\n",
        "    strategy = tf.distribute.MirroredStrategy()\n",
        "\n",
        "    # Scope the operations within the strategy's context\n",
        "    with strategy.scope():\n",
        "\n",
        "        # Determine the model name based on the piece label\n",
        "        model_neme = PIECE_TO_WORD[first_true_piece] if not first_true_piece == '' else 'BASE'\n",
        "\n",
        "        # Load the pre-trained model for retraining\n",
        "        model = load_my_model(model_neme + '4')\n",
        "\n",
        "        # Load a duplicate of the pre-trained model\n",
        "        model2 = load_my_model(model_neme + '4')\n",
        "\n",
        "        # Freeze the first three layers of the model (transfer learning)\n",
        "        for layer in model.layers[:3]:\n",
        "            layer.trainable = False\n",
        "\n",
        "        # Remove the last layer from the model\n",
        "        model.pop()\n",
        "\n",
        "        # Define scale and standard deviation for kernel initialization\n",
        "        scale = 10**(-7)\n",
        "        stddev = scale / 2.0\n",
        "\n",
        "        # Add a new Dense (fully connected) layer to the model\n",
        "        model.add(Dense(64, activation='softmax',\n",
        "                            kernel_initializer=RandomNormal(mean=0.0, stddev=stddev)))\n",
        "\n",
        "        # Display the layers of the loaded model\n",
        "        display(model.layers)"
      ]
    },
    {
      "cell_type": "markdown",
      "metadata": {
        "id": "GZuRCXM4vdN7"
      },
      "source": [
        "## define parameters"
      ]
    },
    {
      "cell_type": "code",
      "execution_count": null,
      "metadata": {
        "id": "KsfpWVCOsUio"
      },
      "outputs": [],
      "source": [
        "batch_size = 500\n",
        "num_epochs = 5\n",
        "learning_rate = 0.0015"
      ]
    },
    {
      "cell_type": "code",
      "execution_count": null,
      "metadata": {
        "id": "7Os4SKA3ssmj"
      },
      "outputs": [],
      "source": [
        "# Define an EarlyStopping callback for the training process\n",
        "callback_stop = EarlyStopping(monitor='accuracy',patience=5)\n",
        "\n",
        "# Create a list of callbacks containing the EarlyStopping callback\n",
        "callbacks = [callback_stop]"
      ]
    },
    {
      "cell_type": "code",
      "execution_count": null,
      "metadata": {
        "id": "bcNJJ7J5tVjI"
      },
      "outputs": [],
      "source": [
        "# Scope the operations within the strategy's context\n",
        "with strategy.scope():\n",
        "    optimizer = keras.optimizers.legacy.Adam(learning_rate=learning_rate)\n",
        "    optimizer2 = keras.optimizers.Adam(learning_rate=learning_rate)\n",
        "    criterion = tf.keras.losses.BinaryCrossentropy()\n",
        "    criterion2 = tf.keras.losses.BinaryCrossentropy()"
      ]
    },
    {
      "cell_type": "code",
      "execution_count": null,
      "metadata": {
        "id": "nvjhm0fytYSn"
      },
      "outputs": [],
      "source": [
        "if RETRAINING_MODELS:\n",
        "    # Compile the first retraining model with specified optimizer, loss, and metrics\n",
        "    model.compile(optimizer = optimizer, loss = criterion, metrics = ['accuracy'])\n",
        "\n",
        "    # Compile the second retraining model (duplicate) with the second optimizer, loss, and metrics\n",
        "    model2.compile(optimizer = optimizer2, loss = criterion2, metrics = ['accuracy'])"
      ]
    },
    {
      "cell_type": "code",
      "execution_count": null,
      "metadata": {
        "id": "wV7xTpVQtdnl"
      },
      "outputs": [],
      "source": [
        "if RETRAINING_MODELS:\n",
        "    # Transpose the training data to match the required shape (N, H, W, C)\n",
        "    train_data = np.transpose(train_data, (0, 2, 3, 1))\n",
        "\n",
        "    # Transpose the testing data similarly\n",
        "    test_data = np.transpose(test_data, (0, 2, 3, 1))\n",
        "\n",
        "    # Convert training labels to one-hot encoding with depth of 64\n",
        "    train_labels = tf.one_hot(train_labels, depth=64)\n",
        "\n",
        "    # Convert testing labels to one-hot encoding with the same depth\n",
        "    test_labels = tf.one_hot(test_labels, depth=64)"
      ]
    },
    {
      "cell_type": "code",
      "execution_count": null,
      "metadata": {
        "colab": {
          "base_uri": "https://localhost:8080/"
        },
        "id": "YnoP3F2CtibE",
        "outputId": "4eb739a0-f7b5-4a91-c0eb-145460c38e28"
      },
      "outputs": [
        {
          "output_type": "stream",
          "name": "stdout",
          "text": [
            "X_train shape:  (238068, 8, 8, 6)\n",
            "y_train shape:  (238068, 64)\n",
            "X_test shape:  (59517, 8, 8, 6)\n",
            "y_test shape:  (59517, 64)\n"
          ]
        }
      ],
      "source": [
        "if RETRAINING_MODELS:\n",
        "\n",
        "    # Print the shapes of the training and testing data and labels\n",
        "    print(\"X_train shape: \", train_data.shape)\n",
        "    print(\"y_train shape: \", train_labels.shape)\n",
        "    print(\"X_test shape: \", test_data.shape)\n",
        "    print(\"y_test shape: \", test_labels.shape)"
      ]
    },
    {
      "cell_type": "code",
      "execution_count": null,
      "metadata": {
        "id": "P8q4rECMtksl"
      },
      "outputs": [],
      "source": [
        "# Check if retraining models is in progress\n",
        "if RETRAINING_MODELS:\n",
        "\n",
        "    # Check if GPU is available, otherwise use CPU\n",
        "    if tf.test.is_gpu_available():\n",
        "        device = '/gpu:0'\n",
        "    else:\n",
        "        device = '/cpu:0'\n",
        "\n",
        "    # Use TensorFlow's device context manager to manage device placement\n",
        "    with tf.device(device):\n",
        "        train_data = tf.convert_to_tensor(train_data)\n",
        "        train_labels = tf.convert_to_tensor(train_labels)"
      ]
    },
    {
      "cell_type": "markdown",
      "metadata": {
        "id": "BtbxwAERvRjE"
      },
      "source": [
        "## Run the fit (train) method\n",
        "\n"
      ]
    },
    {
      "cell_type": "code",
      "execution_count": null,
      "metadata": {
        "colab": {
          "base_uri": "https://localhost:8080/"
        },
        "id": "Iw0xw6DItuzm",
        "outputId": "34173f24-2bea-4e3d-9bae-d5480885494a"
      },
      "outputs": [
        {
          "output_type": "stream",
          "name": "stdout",
          "text": [
            "Epoch 1/5\n",
            "477/477 [==============================] - 11s 21ms/step - loss: 0.0841 - accuracy: 0.0250 - val_loss: 0.0800 - val_accuracy: 0.0272\n",
            "Epoch 2/5\n",
            "477/477 [==============================] - 8s 18ms/step - loss: 0.0800 - accuracy: 0.0242 - val_loss: 0.0804 - val_accuracy: 0.0269\n",
            "Epoch 3/5\n",
            "477/477 [==============================] - 10s 20ms/step - loss: 0.0802 - accuracy: 0.0237 - val_loss: 0.0805 - val_accuracy: 0.0243\n",
            "Epoch 4/5\n",
            "477/477 [==============================] - 7s 15ms/step - loss: 0.0804 - accuracy: 0.0240 - val_loss: 0.0808 - val_accuracy: 0.0238\n",
            "Epoch 5/5\n",
            "477/477 [==============================] - 9s 18ms/step - loss: 0.0805 - accuracy: 0.0228 - val_loss: 0.0808 - val_accuracy: 0.0238\n",
            "Epoch 1/5\n",
            "477/477 [==============================] - 18s 33ms/step - loss: 0.0799 - accuracy: 0.0243 - val_loss: 0.0798 - val_accuracy: 0.0253\n",
            "Epoch 2/5\n",
            "477/477 [==============================] - 15s 32ms/step - loss: 0.0797 - accuracy: 0.0256 - val_loss: 0.0796 - val_accuracy: 0.0272\n",
            "Epoch 3/5\n",
            "477/477 [==============================] - 16s 33ms/step - loss: 0.0796 - accuracy: 0.0261 - val_loss: 0.0796 - val_accuracy: 0.0238\n",
            "Epoch 4/5\n",
            "477/477 [==============================] - 15s 31ms/step - loss: 0.0796 - accuracy: 0.0255 - val_loss: 0.0796 - val_accuracy: 0.0272\n",
            "Epoch 5/5\n",
            "477/477 [==============================] - 15s 32ms/step - loss: 0.0796 - accuracy: 0.0260 - val_loss: 0.0796 - val_accuracy: 0.0272\n"
          ]
        }
      ],
      "source": [
        "if RETRAINING_MODELS:\n",
        "\n",
        "    # Train the first retraining model\n",
        "    output = model.fit(train_data, train_labels,\n",
        "                      epochs = num_epochs,\n",
        "                      batch_size = batch_size,\n",
        "                      validation_data = (test_data, test_labels),\n",
        "                      callbacks = callbacks)\n",
        "\n",
        "\n",
        "    # Train the second retraining model (duplicate)\n",
        "    output2 = model2.fit(train_data, train_labels,\n",
        "                      epochs = num_epochs,\n",
        "                      batch_size = batch_size,\n",
        "                      validation_data = (test_data, test_labels),\n",
        "                      callbacks = callbacks)"
      ]
    },
    {
      "cell_type": "markdown",
      "metadata": {
        "id": "vw6JDz_su7CF"
      },
      "source": [
        "## visualize\n"
      ]
    },
    {
      "cell_type": "code",
      "execution_count": null,
      "metadata": {
        "colab": {
          "base_uri": "https://localhost:8080/"
        },
        "id": "wshQde0Bt451",
        "outputId": "9800f81f-c641-4bd5-a48a-255ac0e6ea4b"
      },
      "outputs": [
        {
          "output_type": "stream",
          "name": "stdout",
          "text": [
            "3116/3116 [==============================] - 16s 5ms/step - loss: 0.0472 - accuracy: 0.3506\n",
            "3116/3116 [==============================] - 15s 5ms/step - loss: 0.0389 - accuracy: 0.4616\n"
          ]
        }
      ],
      "source": [
        "if RETRAINING_MODELS:\n",
        "\n",
        "    # Evaluate the performance of the first retraining model on the test data\n",
        "    model.evaluate(test_data, test_labels)\n",
        "\n",
        "    # Evaluate the performance of the second retraining model (duplicate) on the test data\n",
        "    model2.evaluate(test_data, test_labels)"
      ]
    },
    {
      "cell_type": "code",
      "execution_count": null,
      "metadata": {
        "id": "M_vGgKw6vDSc"
      },
      "outputs": [],
      "source": [
        "if RETRAINING_MODELS:\n",
        "    # Clear the data and labels arrays to save memory\n",
        "    train_data = []\n",
        "    train_labels = []\n",
        "    y_train = []\n",
        "    X_train = []"
      ]
    },
    {
      "cell_type": "code",
      "execution_count": null,
      "metadata": {
        "colab": {
          "base_uri": "https://localhost:8080/"
        },
        "id": "fjDB-wlkvGq-",
        "outputId": "c7b8cece-7d27-4dd8-ba1c-145f03c84218"
      },
      "outputs": [
        {
          "output_type": "display_data",
          "data": {
            "text/plain": [
              "<Figure size 1500x1000 with 4 Axes>"
            ],
            "image/png": "[encoded data removed]"
          },
          "metadata": {}
        }
      ],
      "source": [
        "if RETRAINING_MODELS:\n",
        "    result = pd.DataFrame(output.history)\n",
        "    plt.figure(figsize = (15,10))\n",
        "\n",
        "    piece_label = next((key for key, value in BOOLEAN_PIECE.items() if value), '4')\n",
        "    first_model = not any(BOOLEAN_PIECE.values())\n",
        "    label = PIECE_TO_WORD[piece_label] if not first_model else \"Piece Select\"\n",
        "\n",
        "\n",
        "    # Create the first subplot for accuracy of the first retraining model\n",
        "    plt.subplot(2,2,1)\n",
        "    plt.plot(result['accuracy'], label = 'traning')\n",
        "    plt.plot(result['val_accuracy'], label = 'testing')\n",
        "    plt.title('Model Accuracy ' + label + ' with Freeze')\n",
        "    plt.xlabel('epochs')\n",
        "    plt.ylabel('accuracy')\n",
        "    plt.legend()\n",
        "\n",
        "\n",
        "    # Create the second subplot for loss of the first retraining model\n",
        "    plt.subplot(2,2,2)\n",
        "    plt.plot(result['loss'], label = 'traning')\n",
        "    plt.plot(result['val_loss'], label = 'testing')\n",
        "    plt.title('Model Loss ' + label + ' with Freeze')\n",
        "    plt.xlabel('epochs')\n",
        "    plt.ylabel('loss')\n",
        "    plt.legend()\n",
        "\n",
        "    result2 = pd.DataFrame(output2.history)\n",
        "    piece_label = next((key for key, value in BOOLEAN_PIECE.items() if value), '4')\n",
        "    first_model = not any(BOOLEAN_PIECE.values())\n",
        "    label = PIECE_TO_WORD[piece_label] if not first_model else \"Piece Select\"\n",
        "\n",
        "\n",
        "    # Create the third subplot for accuracy of the second retraining model\n",
        "    plt.subplot(2,2,3)\n",
        "    plt.plot(result2['accuracy'], label = 'traning')\n",
        "    plt.plot(result2['val_accuracy'], label = 'testing')\n",
        "    plt.title('Model Accuracy ' + label)\n",
        "    plt.xlabel('epochs')\n",
        "    plt.ylabel('accuracy')\n",
        "    plt.legend()\n",
        "\n",
        "\n",
        "\n",
        "    # Create the fourth subplot for loss of the second retraining model\n",
        "    plt.subplot(2,2,4)\n",
        "    plt.plot(result2['loss'], label = 'traning')\n",
        "    plt.plot(result2['val_loss'], label = 'testing')\n",
        "    plt.title('Model Loss ' + label)\n",
        "    plt.xlabel('epochs')\n",
        "    plt.ylabel('loss')\n",
        "    plt.legend()"
      ]
    },
    {
      "cell_type": "code",
      "execution_count": null,
      "metadata": {
        "colab": {
          "base_uri": "https://localhost:8080/"
        },
        "id": "00mDfxXZvJzg",
        "outputId": "7a944b7e-16eb-41dc-cee8-78fd4577202f"
      },
      "outputs": [
        {
          "output_type": "stream",
          "name": "stdout",
          "text": [
            "3116/3116 [==============================] - 10s 3ms/step\n",
            "3116/3116 [==============================] - 10s 3ms/step\n"
          ]
        }
      ],
      "source": [
        "if RETRAINING_MODELS:\n",
        "    predictions = model.predict(test_data)\n",
        "    predictions2 = model2.predict(test_data)"
      ]
    },
    {
      "cell_type": "code",
      "execution_count": null,
      "metadata": {
        "id": "7NKBqjrUvP6t",
        "colab": {
          "base_uri": "https://localhost:8080/"
        },
        "outputId": "5069bbb3-7969-4904-fb2d-5c6759182493"
      },
      "outputs": [
        {
          "output_type": "stream",
          "name": "stdout",
          "text": [
            "Processed 16% of total predictions\n",
            "Processed 32% of total predictions\n",
            "Processed 48% of total predictions\n",
            "Processed 64% of total predictions\n",
            "Processed 80% of total predictions\n",
            "Processed 96% of total predictions\n"
          ]
        }
      ],
      "source": [
        "if RETRAINING_MODELS:\n",
        "    if first_model:\n",
        "\n",
        "        # List of chess piece names\n",
        "        pieces = ['Pawn', 'Rook', 'Knight', 'Bishop', 'Queen', 'King']\n",
        "\n",
        "\n",
        "        # Arrays to store accuracy per piece for both models and total occurrences per piece\n",
        "        accuracy_per_piece = np.zeros(6)\n",
        "        accuracy_per_piece2 = np.zeros(6)\n",
        "        total_per_piece = np.zeros(6)\n",
        "\n",
        "\n",
        "\n",
        "        # Loop through predictions and calculate accuracy per piece\n",
        "        for i in range(len(predictions)):\n",
        "            if i % 16000 == 0 and i > 0:\n",
        "                print(\"Processed %d%% of total predictions\" % ((i / len(predictions)) * 100))\n",
        "\n",
        "\n",
        "            # Convert predicted cell index to (row, col) coordinates\n",
        "            predicted_cell = np.argmax(predictions[i])\n",
        "            predicted_cell = (7 - (predicted_cell // 8), predicted_cell % 8)\n",
        "            predicted_cell = predicted_cell[0] * 8 + predicted_cell[1]\n",
        "\n",
        "            # Duplicate of the same conversion for second model (in case of typo)\n",
        "            predicted_cell2 = np.argmax(predictions[i])\n",
        "            predicted_cell2 = (7 - (predicted_cell2 // 8), predicted_cell2 % 8)\n",
        "            predicted_cell2 = predicted_cell2[0] * 8 + predicted_cell2[1]\n",
        "\n",
        "\n",
        "            # Convert true cell index to (row, col) coordinates\n",
        "            true_cell = np.argmax(test_labels[i])\n",
        "            true_cell = (7 - (true_cell // 8), true_cell % 8)\n",
        "            true_cell = true_cell[0] * 8 + true_cell[1]\n",
        "\n",
        "\n",
        "\n",
        "            # Create a bitboard from the test data image\n",
        "            board_test = convert_image_to_bitboard(test_data[i])\n",
        "\n",
        "\n",
        "\n",
        "            # Get predicted and true pieces at the specified cell\n",
        "            predicted_piece = board_test.piece_at(predicted_cell)\n",
        "            predicted_piece2 = board_test.piece_at(predicted_cell2)\n",
        "            true_piece = board_test.piece_at(true_cell)\n",
        "\n",
        "            # Get the index of the true piece for indexing accuracy arrays\n",
        "            # print(predicted_piece, true_piece)\n",
        "            index_true_piece = PIECE_TO_INDEX[str(true_piece).upper()]\n",
        "\n",
        "\n",
        "            # Update accuracy_per_piece arrays based on predicted and true pieces\n",
        "            accuracy_per_piece[index_true_piece] += (predicted_piece == true_piece)\n",
        "            accuracy_per_piece2[index_true_piece] += (predicted_piece2 == true_piece)\n",
        "            total_per_piece[index_true_piece] += 1\n",
        "\n",
        "\n",
        "        # Calculate accuracy per piece by dividing by total occurrences\n",
        "        accuracy_per_piece /= total_per_piece\n",
        "        accuracy_per_piece2 /= total_per_piece"
      ]
    },
    {
      "cell_type": "code",
      "execution_count": null,
      "metadata": {
        "id": "-D36uvnD4gWx",
        "colab": {
          "base_uri": "https://localhost:8080/"
        },
        "outputId": "4b189be4-b9ac-487c-dc23-25771ba7021a"
      },
      "outputs": [
        {
          "output_type": "display_data",
          "data": {
            "text/plain": [
              "<Figure size 1000x500 with 2 Axes>"
            ],
            "image/png": "[encoded data removed]"
          },
          "metadata": {}
        }
      ],
      "source": [
        "# Check if retraining models is in progress\n",
        "if RETRAINING_MODELS:\n",
        "    if first_model:\n",
        "\n",
        "        # Create a figure for plotting with a specified size\n",
        "        plt.figure(figsize = (10,5))\n",
        "\n",
        "\n",
        "        # Create the first subplot for accuracy per piece with freeze\n",
        "        plt.subplot(1, 2, 1)\n",
        "        plt.bar(pieces, accuracy_per_piece)\n",
        "        plt.title('Accuracy per Piece with Freeze')\n",
        "        plt.xlabel('Piece')\n",
        "        plt.ylabel('Accuracy')\n",
        "        plt.tight_layout()\n",
        "\n",
        "\n",
        "        # Create the second subplot for accuracy per piece without freeze\n",
        "        plt.subplot(1, 2, 2)\n",
        "        plt.bar(pieces, accuracy_per_piece2)\n",
        "        plt.title('Accuracy per Piece')\n",
        "        plt.xlabel('Piece')\n",
        "        plt.ylabel('Accuracy')\n",
        "        plt.tight_layout()\n",
        "\n",
        "        plt.show()"
      ]
    },
    {
      "cell_type": "markdown",
      "metadata": {
        "id": "f0SaXIswv071"
      },
      "source": [
        "## save the new model"
      ]
    },
    {
      "cell_type": "code",
      "execution_count": null,
      "metadata": {
        "colab": {
          "base_uri": "https://localhost:8080/"
        },
        "id": "I1zChTJdv3ti",
        "outputId": "db5e2471-ed1f-41e6-f206-a73f026b5933"
      },
      "outputs": [
        {
          "output_type": "stream",
          "name": "stdout",
          "text": [
            "BASE\n"
          ]
        }
      ],
      "source": [
        "if RETRAINING_MODELS:\n",
        "\n",
        "    # Determine the label based on the piece label and whether it's the first model being retrained\n",
        "    label = PIECE_TO_WORD[piece_label] if not first_model else \"BASE\"\n",
        "    print(label)\n",
        "\n",
        "    # Define the paths for saving the trained models with and without freeze\n",
        "    PATH = MODELS_PATH + \"chess_model_CNN_after_puzzles_freeze_\" + label + \"4.h5\"\n",
        "    PATH2 = MODELS_PATH + \"/chess_model_CNN_after_puzzles_\" + label + \"4.h5\"\n",
        "\n",
        "    # Save the first retraining model with freeze\n",
        "    model.save(PATH)\n",
        "\n",
        "    # Save the second retraining model without freeze\n",
        "    model2.save(PATH2)"
      ]
    },
    {
      "cell_type": "markdown",
      "metadata": {
        "id": "6f3eZV0E5IR9"
      },
      "source": [
        "# Test 1 to Calculate the Accuracy of the Models on the Old and the New Datasets"
      ]
    },
    {
      "cell_type": "code",
      "execution_count": null,
      "metadata": {
        "colab": {
          "base_uri": "https://localhost:8080/"
        },
        "id": "YucOQo5D5GkM",
        "outputId": "6202de44-bebb-46f4-907d-1ed95528d109"
      },
      "outputs": [
        {
          "output_type": "stream",
          "name": "stdout",
          "text": [
            "53\n"
          ]
        }
      ],
      "source": [
        "# Determine the first true piece label based on the piece dictionary and values\n",
        "first_true_piece = next((key + '2' for key, value in BOOLEAN_PIECE.items() if value), '53')\n",
        "\n",
        "# Retrieve the X and y data using the get_data function\n",
        "X_train, y_train = get_data(first_true_piece)\n",
        "\n",
        "# Split the data into training and testing sets\n",
        "train_data, test_data, train_labels, test_labels = train_test_split(\n",
        "    X_train, y_train, test_size=0.2, random_state=31\n",
        ")\n",
        "\n",
        "print(first_true_piece)"
      ]
    },
    {
      "cell_type": "code",
      "execution_count": null,
      "metadata": {
        "id": "qbbz9Zfi5XDr"
      },
      "outputs": [],
      "source": [
        "# Determine the first true piece label based on the piece dictionary and values\n",
        "first_true_piece = next((key for key, value in BOOLEAN_PIECE.items() if value), '')\n",
        "\n",
        "X_train_P, y_train_P = get_puzzles_data(first_true_piece)\n",
        "train_data_P, test_data_P, train_labels_P, test_labels_P = train_test_split(\n",
        "    X_train_P, y_train_P, test_size=0.2, random_state=31\n",
        ")"
      ]
    },
    {
      "cell_type": "code",
      "execution_count": null,
      "metadata": {
        "id": "osc9k0VD-KMI"
      },
      "outputs": [],
      "source": [
        "X_train, y_train, X_train_P, y_train_P = [], [], [], []\n",
        "train_data, train_labels = [], []"
      ]
    },
    {
      "cell_type": "code",
      "execution_count": null,
      "metadata": {
        "id": "aPJAZkI1CuC9"
      },
      "outputs": [],
      "source": [
        "# Set the test data and labels to the puzzle test data and labels\n",
        "test_data = test_data_P\n",
        "test_labels = test_labels_P\n",
        "\n",
        "# Clear the puzzle train and test data and labels to free up memory\n",
        "train_data_P = []\n",
        "train_labels_P = []\n",
        "test_data_P = []\n",
        "test_labels_P = []"
      ]
    },
    {
      "cell_type": "code",
      "execution_count": null,
      "metadata": {
        "id": "wZP8ObPn_B5L"
      },
      "outputs": [],
      "source": [
        "# test_data, test_labels = [], []"
      ]
    },
    {
      "cell_type": "code",
      "execution_count": null,
      "metadata": {
        "id": "qG2KLshEEk98"
      },
      "outputs": [],
      "source": [
        "# Transpose the test data to match the expected input shape for the model\n",
        "test_data = np.transpose(test_data, (0, 2, 3, 1))\n",
        "\n",
        "# Convert test labels to one-hot encoding with a depth of 64\n",
        "test_labels = tf.one_hot(test_labels, depth=64)\n",
        "\n",
        "# Check if a GPU is available for computation\n",
        "if tf.test.is_gpu_available():\n",
        "    device = '/gpu:0'\n",
        "else:\n",
        "    device = '/cpu:0'\n",
        "\n",
        "# Use the specified device (GPU or CPU) for TensorFlow operations\n",
        "with tf.device(device):\n",
        "    test_data = tf.convert_to_tensor(test_data)\n",
        "    test_labels = tf.convert_to_tensor(test_labels)"
      ]
    },
    {
      "cell_type": "code",
      "execution_count": null,
      "metadata": {
        "id": "KjgxSLd5DUUb"
      },
      "outputs": [],
      "source": [
        "# Determine the first true piece label based on the piece dictionary and values\n",
        "first_true_piece = next((key for key, value in BOOLEAN_PIECE.items() if value), '')\n",
        "\n",
        "strategy = tf.distribute.MirroredStrategy()\n",
        "\n",
        "# Use the strategy scope to define and load the model within the distributed strategy\n",
        "with strategy.scope():\n",
        "    model_neme = PIECE_TO_WORD[first_true_piece] if not first_true_piece == '' else 'BASE'\n",
        "    model = load_my_model('' + model_neme + '3')"
      ]
    },
    {
      "cell_type": "code",
      "execution_count": null,
      "metadata": {
        "colab": {
          "base_uri": "https://localhost:8080/"
        },
        "id": "s6sGrcdLELil",
        "outputId": "6252c51e-d4c5-49fc-961d-088b73f5c469"
      },
      "outputs": [
        {
          "output_type": "stream",
          "name": "stdout",
          "text": [
            "3097/3097 [==============================] - 19s 6ms/step - loss: 0.1205 - accuracy: 0.2490\n"
          ]
        },
        {
          "output_type": "execute_result",
          "data": {
            "text/plain": [
              "[0.12048040330410004, 0.24903878569602966]"
            ]
          },
          "metadata": {},
          "execution_count": 119
        }
      ],
      "source": [
        "model.evaluate(test_data, test_labels)"
      ]
    },
    {
      "cell_type": "markdown",
      "metadata": {
        "id": "sqHXC6HjH2GB"
      },
      "source": [
        "# Test 2 to Draw the Chart k vs Accuracy\n"
      ]
    },
    {
      "cell_type": "markdown",
      "metadata": {
        "id": "kyWKOU2xo_6P"
      },
      "source": [
        "## loading models"
      ]
    },
    {
      "cell_type": "code",
      "execution_count": null,
      "metadata": {
        "id": "OGROpHCKH8Wq"
      },
      "outputs": [],
      "source": [
        "# Create a MirroredStrategy for distributing the model across multiple GPUs\n",
        "strategy = tf.distribute.MirroredStrategy()\n",
        "\n",
        "# Use the strategy scope to define and load models within the distributed strategy\n",
        "with strategy.scope():\n",
        "\n",
        "    # Load the base model with the specified piece label ('BASE') using the load_piece_model function\n",
        "    base_model = load_my_model('after_puzzles_' + \"BASE\" + '2')\n",
        "\n",
        "    # Initialize an empty dictionary to store move models for different pieces\n",
        "    move_models = {}\n",
        "\n",
        "    # Iterate through the ARRAY_PIECE to load move models for each piece\n",
        "    for piece in ARRAY_PIECE:\n",
        "        move_models[piece] = load_my_model('after_puzzles_' + PIECE_TO_WORD[piece] + '2')\n",
        "\n",
        "# Create a dictionary containing the base model and move models\n",
        "model = {'base_model':base_model, 'move_models':move_models}"
      ]
    },
    {
      "cell_type": "code",
      "execution_count": null,
      "metadata": {
        "colab": {
          "base_uri": "https://localhost:8080/"
        },
        "id": "pjv17r7z1kzR",
        "outputId": "1e7d8840-78dd-422c-bcf6-14e99a851be9"
      },
      "outputs": [
        {
          "output_type": "stream",
          "name": "stdout",
          "text": [
            "Model: \"sequential_4\"\n",
            "_________________________________________________________________\n",
            " Layer (type)                Output Shape              Param #   \n",
            "=================================================================\n",
            " conv2d_12 (Conv2D)          (None, 8, 8, 96)          5280      \n",
            "                                                                 \n",
            " conv2d_13 (Conv2D)          (None, 8, 8, 256)         221440    \n",
            "                                                                 \n",
            " conv2d_14 (Conv2D)          (None, 8, 8, 384)         885120    \n",
            "                                                                 \n",
            " flatten_4 (Flatten)         (None, 24576)             0         \n",
            "                                                                 \n",
            " dense_4 (Dense)             (None, 64)                1572928   \n",
            "                                                                 \n",
            "=================================================================\n",
            "Total params: 2,684,768\n",
            "Trainable params: 2,684,768\n",
            "Non-trainable params: 0\n",
            "_________________________________________________________________\n"
          ]
        },
        {
          "output_type": "display_data",
          "data": {
            "text/plain": [
              "None"
            ]
          },
          "metadata": {}
        }
      ],
      "source": [
        "display(model['base_model'].summary())"
      ]
    },
    {
      "cell_type": "code",
      "execution_count": null,
      "metadata": {
        "id": "kLOzlAyQJaap"
      },
      "outputs": [],
      "source": [
        "# Load the base model and move models using the specified piece labels\n",
        "base_model2 = load_my_model('after_puzzles_' + \"BASE\" + '2')\n",
        "move_models2 = {}\n",
        "\n",
        "\n",
        "# Iterate through the ARRAY_PIECE to load move models for each piece\n",
        "for piece in ARRAY_PIECE:\n",
        "    move_models2[piece] = load_my_model('after_puzzles_' + PIECE_TO_WORD[piece] + '2')\n",
        "\n",
        "\n",
        "# Create a dictionary containing the base model and move models\n",
        "model_cpu = {'base_model':base_model2, 'move_models':move_models2}"
      ]
    },
    {
      "cell_type": "markdown",
      "metadata": {
        "id": "wXE0xg-_pDYt"
      },
      "source": [
        "## test before moving on"
      ]
    },
    {
      "cell_type": "code",
      "execution_count": null,
      "metadata": {
        "colab": {
          "base_uri": "https://localhost:8080/"
        },
        "id": "49201GUxcMQf",
        "outputId": "a83e1428-1934-4e1f-e02c-f8dd0f257e67"
      },
      "outputs": [
        {
          "output_type": "stream",
          "name": "stderr",
          "text": [
            "WARNING:tensorflow:5 out of the last 9 calls to <function Model.make_predict_function.<locals>.predict_function at 0x7d2d3fdd28c0> triggered tf.function retracing. Tracing is expensive and the excessive number of tracings could be due to (1) creating @tf.function repeatedly in a loop, (2) passing tensors with different shapes, (3) passing Python objects instead of tensors. For (1), please define your @tf.function outside of the loop. For (2), @tf.function has reduce_retracing=True option that can avoid unnecessary retracing. For (3), please refer to https://www.tensorflow.org/guide/function#controlling_retracing and https://www.tensorflow.org/api_docs/python/tf/function for  more details.\n"
          ]
        },
        {
          "output_type": "stream",
          "name": "stdout",
          "text": [
            "[['b6c5', 'b6e3', 'b6c7', 'g6f7', 'h7h8q', 'b6a5', 'b6d4', 'b6g1', 'g6h5', 'g6g7']]\n"
          ]
        }
      ],
      "source": [
        "board = chess.Board()\n",
        "board.push_san('e4')\n",
        "# print(predict_from_k_move(board, 10))\n",
        "# print(predict_k_move(board, 10))\n",
        "\n",
        "fen = 'rnbqk2r/pp1p1ppp/4pn2/2P5/1bP5/2N5/PPQ1PPPP/R1B1KBNR b KQkq - 0 5'\n",
        "fen = '8/7P/1B1k2K1/1p1p4/5P2/1r6/8/8 w - - 1 44'\n",
        "board.set_fen(fen)\n",
        "# board.push(chess.Move.from_uci('e8h8'))\n",
        "# display(board)\n",
        "# board.pop()\n",
        "# board.push(chess.Move.from_uci('e8g8'))\n",
        "# display(board)\n",
        "# board.pop()\n",
        "print(predict_multi_k_move([fen], 10))"
      ]
    },
    {
      "cell_type": "markdown",
      "metadata": {
        "id": "OoK7EzWIo6Vv"
      },
      "source": [
        "## preparing data"
      ]
    },
    {
      "cell_type": "code",
      "execution_count": null,
      "metadata": {
        "id": "4w141yPvkLS4"
      },
      "outputs": [],
      "source": [
        "# Function to load a specified number of PGN games from a file\n",
        "# Parameters:\n",
        "# - file_name: The path to the PGN file\n",
        "# - num_games: The number of games to load from the file\n",
        "# special load_pgn_games function\n",
        "\n",
        "def load_special_pgn_games(file_name, num_games):\n",
        "    games = []\n",
        "    pgn_file = open(file_name)\n",
        "\n",
        "\n",
        "    # Loop through each game index up to the specified number of games\n",
        "    for index in range(num_games):\n",
        "        game = chess.pgn.read_game(pgn_file)\n",
        "        if game is None:\n",
        "            break\n",
        "        games.append(game)\n",
        "\n",
        "    pgn_file.close() # Close the PGN file\n",
        "    return games"
      ]
    },
    {
      "cell_type": "code",
      "execution_count": null,
      "metadata": {
        "id": "SmhJUottj-fB"
      },
      "outputs": [],
      "source": [
        "NUM_GAMES = 10"
      ]
    },
    {
      "cell_type": "code",
      "execution_count": null,
      "metadata": {
        "colab": {
          "base_uri": "https://localhost:8080/"
        },
        "id": "fu2I3UMNj-fC",
        "outputId": "d325fbf7-09d4-44db-d64e-88f927bfda30"
      },
      "outputs": [
        {
          "output_type": "stream",
          "name": "stdout",
          "text": [
            "Finished loading the PGN file.\n",
            "Total number of games: 10\n"
          ]
        }
      ],
      "source": [
        "# Load a specified number of games from the PGN file\n",
        "games = load_special_pgn_games(PGN_FILE, NUM_GAMES)\n",
        "\n",
        "\n",
        "# Print status messages\n",
        "print(\"Finished loading the PGN file.\")\n",
        "print(\"Total number of games: %d\" % len(games))"
      ]
    },
    {
      "cell_type": "code",
      "execution_count": null,
      "metadata": {
        "id": "40G-4kKB1S0w",
        "colab": {
          "base_uri": "https://localhost:8080/"
        },
        "outputId": "ef9fd9ec-6390-44f9-c913-0221432225ae"
      },
      "outputs": [
        {
          "output_type": "stream",
          "name": "stdout",
          "text": [
            "Processed 0 games out of 10\n",
            "Processed 10 games out of 10\n",
            "Total number of samples in opening : 210\n",
            "Total number of samples in middlegame: 365\n",
            "Total number of samples in endgame: 119\n"
          ]
        }
      ],
      "source": [
        "# Initialize data containers to store training data\n",
        "\n",
        "X, y_piece = {'o':[], 'm': [],'e':[]}, {'o':[], 'm': [],'e':[]}\n",
        "y_from , y_to = {'o':[], 'm': [],'e':[]}, {'o':[], 'm': [],'e':[]}\n",
        "\n",
        "cont = 0\n",
        "\n",
        "\n",
        "# Loop through the games to process the moves and collect training data\n",
        "for index, game in enumerate(games):\n",
        "    if index % 500 == 0:\n",
        "        print(\"Processed %d games out of %d\" % (index, NUM_GAMES))\n",
        "\n",
        "\n",
        "    # Create an initial chess board\n",
        "    board = chess.Board()\n",
        "    moves = game.mainline_moves()\n",
        "\n",
        "    for move_index, move in enumerate(moves):\n",
        "        if str(move)[0].isalpha():\n",
        "            phase = check_phase(board, move_index)\n",
        "\n",
        "            fen = board.fen()\n",
        "            if move_index % 2 == 1:\n",
        "              fen = board.mirror().fen()\n",
        "\n",
        "            from_to_chess_coords = board.parse_san(str(move))\n",
        "            from_to_chess_coords = str(from_to_chess_coords)\n",
        "\n",
        "            from_chess_coords = from_to_chess_coords[:2]\n",
        "            to_chess_coords = from_to_chess_coords[2:4]\n",
        "\n",
        "            piece = board.piece_at(chess.parse_square(from_chess_coords))\n",
        "\n",
        "\n",
        "\n",
        "            # Handle mirrored positions for Black's moves\n",
        "            if move_index % 2 == 1:\n",
        "                from_chess_coords = chess.square_name(chess.square_mirror(chess.parse_square(from_chess_coords)))\n",
        "                to_chess_coords = chess.square_name(chess.square_mirror(chess.parse_square(to_chess_coords)))\n",
        "\n",
        "            board.push_san(str(move))\n",
        "\n",
        "\n",
        "            # Append data to corresponding data containers\n",
        "            y_piece[phase].append(str(piece))\n",
        "            X[phase].append(fen)\n",
        "            y_to[phase].append(from_chess_coords)\n",
        "            y_from[phase].append(to_chess_coords)\n",
        "\n",
        "# Print summary information\n",
        "print(\"Processed %d games out of %d\" % (NUM_GAMES, NUM_GAMES))\n",
        "print(\"Total number of samples in opening : %d\" % len(X['o']))\n",
        "print(\"Total number of samples in middlegame: %d\" % len(X['m']))\n",
        "print(\"Total number of samples in endgame: %d\" % len(X['e']))"
      ]
    },
    {
      "cell_type": "code",
      "execution_count": null,
      "metadata": {
        "id": "OPOGiSYpj-fC"
      },
      "outputs": [],
      "source": [
        "# Concatenate data from different phases into combined arrays\n",
        "X = np.concatenate((X['o'], X['m'], X['e']))\n",
        "y_piece = np.concatenate((y_piece['o'], y_piece['m'], y_piece['e']))\n",
        "y_from = np.concatenate((y_from['o'], y_from['m'], y_from['e']))\n",
        "y_to = np.concatenate((y_to['o'], y_to['m'], y_to['e']))\n",
        "\n",
        "\n",
        "# Convert concatenated data into NumPy arrays\n",
        "X, y_piece = np.array(X), np.array(y_piece)\n",
        "y_from, y_to = np.array(y_from), np.array(y_to)"
      ]
    },
    {
      "cell_type": "code",
      "execution_count": null,
      "metadata": {
        "colab": {
          "base_uri": "https://localhost:8080/"
        },
        "id": "ZClkDum6j-fD",
        "outputId": "4dc7d50d-941f-4070-abbe-b9a06b326bd7"
      },
      "outputs": [
        {
          "output_type": "stream",
          "name": "stdout",
          "text": [
            "Finished generating board data\n",
            "Finished generating piece labels data\n",
            "Finished generating from data\n",
            "Finished generating to data\n"
          ]
        }
      ],
      "source": [
        "# Save the generated board data to a pickle file\n",
        "save_data(X, 'X_test2')\n",
        "print(\"Finished generating board data\")\n",
        "\n",
        "# Save the generated piece labels data to a pickle file\n",
        "save_data(y_piece, 'y_piece_test2')\n",
        "print(\"Finished generating piece labels data\")\n",
        "\n",
        "# Save the generated 'from' move data to a pickle file\n",
        "save_data(y_from, 'y_from_test2')\n",
        "print(\"Finished generating from data\")\n",
        "\n",
        "# Save the generated 'to' move data to a pickle file\n",
        "save_data(y_to, 'y_to_test2')\n",
        "print(\"Finished generating to data\")"
      ]
    },
    {
      "cell_type": "markdown",
      "metadata": {
        "id": "xaE9HmRRpJ3g"
      },
      "source": [
        "## loading data"
      ]
    },
    {
      "cell_type": "code",
      "execution_count": null,
      "metadata": {
        "id": "ePm_CjH2o20k"
      },
      "outputs": [],
      "source": [
        "def get_special_test_data():\n",
        "    with open(DATASET_PATH + 'X_test2.pkl', 'rb') as f:\n",
        "        X = pickle.load(f)\n",
        "\n",
        "    with open(DATASET_PATH + 'y_piece_test2.pkl', 'rb') as f:\n",
        "        y_piece = pickle.load(f)\n",
        "\n",
        "    with open(DATASET_PATH + 'y_from_test2.pkl', 'rb') as f:\n",
        "        y_to = pickle.load(f)\n",
        "\n",
        "    with open(DATASET_PATH + 'y_to_test2.pkl', 'rb') as f:\n",
        "        y_from = pickle.load(f)\n",
        "\n",
        "    return X, y_piece, y_from, y_to\n",
        "\n",
        "X, y_piece, y_from, y_to = get_special_test_data()"
      ]
    },
    {
      "cell_type": "code",
      "execution_count": null,
      "metadata": {
        "id": "-EcExxDTSkn1"
      },
      "outputs": [],
      "source": [
        "seed_value = 42\n",
        "np.random.seed(seed_value)\n",
        "\n",
        "num_samples = len(X)\n",
        "shuffled_indices = np.random.permutation(num_samples)"
      ]
    },
    {
      "cell_type": "code",
      "execution_count": null,
      "metadata": {
        "id": "B0YFZG2-DCjO"
      },
      "outputs": [],
      "source": [
        "X = X[shuffled_indices]\n",
        "y_piece = y_piece[shuffled_indices]\n",
        "y_from = y_from[shuffled_indices]\n",
        "y_to = y_to[shuffled_indices]"
      ]
    },
    {
      "cell_type": "code",
      "execution_count": null,
      "metadata": {
        "id": "bRv2btEcdhzM"
      },
      "outputs": [],
      "source": [
        "X = X[:1000]\n",
        "y_piece = y_piece[:1000]\n",
        "y_from = y_from[:1000]\n",
        "y_to = y_to[:1000]"
      ]
    },
    {
      "cell_type": "markdown",
      "metadata": {
        "id": "AvXno2WIb89s"
      },
      "source": [
        "## Calculate the Accuracy vs K"
      ]
    },
    {
      "cell_type": "code",
      "execution_count": null,
      "metadata": {
        "colab": {
          "base_uri": "https://localhost:8080/"
        },
        "id": "7qH24L6qTvel",
        "outputId": "600365b2-ac60-4df7-a284-c5754eaf1d81"
      },
      "outputs": [
        {
          "output_type": "stream",
          "name": "stdout",
          "text": [
            "Accuracy for k = 1: 0.4452449567723343\n",
            "Accuracy for k = 2: 0.6412103746397695\n",
            "Accuracy for k = 3: 0.7420749279538905\n",
            "Accuracy for k = 4: 0.8198847262247838\n",
            "Accuracy for k = 5: 0.8789625360230547\n",
            "Accuracy for k = 6: 0.920749279538905\n",
            "Accuracy for k = 7: 0.9438040345821326\n",
            "Accuracy for k = 8: 0.9668587896253602\n",
            "Accuracy for k = 9: 0.9827089337175793\n",
            "Accuracy for k = 10: 0.9899135446685879\n"
          ]
        }
      ],
      "source": [
        "k_values = list(range(1, 11))\n",
        "accuracies = []\n",
        "\n",
        "for k in k_values:\n",
        "    acc = calculate_accuracy(k)\n",
        "    accuracies.append(acc)\n",
        "    print(f\"Accuracy for k = {k}: {acc}\")"
      ]
    },
    {
      "cell_type": "code",
      "execution_count": null,
      "metadata": {
        "colab": {
          "base_uri": "https://localhost:8080/"
        },
        "id": "n3FehO9_Qwn2",
        "outputId": "b6f61478-8997-46aa-a999-1693f441f5dc"
      },
      "outputs": [
        {
          "output_type": "display_data",
          "data": {
            "text/plain": [
              "<Figure size 640x480 with 1 Axes>"
            ],
            "image/png": "[encoded data removed]"
          },
          "metadata": {}
        }
      ],
      "source": [
        "plt.plot(k_values, accuracies, marker='o')\n",
        "plt.xlabel('k')\n",
        "plt.ylabel('Accuracy')\n",
        "plt.title('Accuracy vs. k')\n",
        "plt.grid(True)\n",
        "plt.show()"
      ]
    },
    {
      "cell_type": "code",
      "execution_count": null,
      "metadata": {
        "colab": {
          "base_uri": "https://localhost:8080/"
        },
        "id": "P-kHsEuuWwO7",
        "outputId": "911c3586-5f22-4e8b-858e-d2cd9d2a8afd"
      },
      "outputs": [
        {
          "output_type": "stream",
          "name": "stdout",
          "text": [
            "Accuracy for k = 1: 0.3112391930835735\n",
            "Accuracy for k = 2: 0.43948126801152737\n",
            "Accuracy for k = 3: 0.5115273775216138\n",
            "Accuracy for k = 4: 0.5634005763688761\n",
            "Accuracy for k = 5: 0.6167146974063401\n",
            "Accuracy for k = 6: 0.6613832853025937\n",
            "Accuracy for k = 7: 0.6902017291066282\n",
            "Accuracy for k = 8: 0.7219020172910663\n",
            "Accuracy for k = 9: 0.7449567723342939\n",
            "Accuracy for k = 10: 0.7694524495677233\n"
          ]
        }
      ],
      "source": [
        "k_values = list(range(1, 11))\n",
        "accuracies = []\n",
        "\n",
        "for k in k_values:\n",
        "    acc = calculate_accuracy_full_move(k)\n",
        "    accuracies.append(acc)\n",
        "    print(f\"Accuracy for k = {k}: {acc}\")"
      ]
    },
    {
      "cell_type": "code",
      "execution_count": null,
      "metadata": {
        "colab": {
          "base_uri": "https://localhost:8080/"
        },
        "id": "33fVMxgVW4UY",
        "outputId": "3b2d93dc-b3be-4ee2-b131-2c96f04164c9"
      },
      "outputs": [
        {
          "output_type": "display_data",
          "data": {
            "text/plain": [
              "<Figure size 640x480 with 1 Axes>"
            ],
            "image/png": "[encoded data removed]"
          },
          "metadata": {}
        }
      ],
      "source": [
        "plt.plot(k_values, accuracies, marker='o')\n",
        "plt.xlabel('k')\n",
        "plt.ylabel('Accuracy')\n",
        "plt.title('Accuracy vs. k')\n",
        "plt.grid(True)\n",
        "plt.show()"
      ]
    },
    {
      "cell_type": "markdown",
      "metadata": {
        "id": "2nhVZewMW8he"
      },
      "source": [
        "# Test 3 The Model vs Strong Stockfish"
      ]
    },
    {
      "cell_type": "code",
      "execution_count": null,
      "metadata": {
        "id": "ld2VgilqRAq0"
      },
      "outputs": [],
      "source": [
        "base_model = load_my_model(\"after_puzzles_\" + \"BASE\" + \"2\")\n",
        "move_models = {}\n",
        "for piece in ARRAY_PIECE:\n",
        "    move_models[piece] = load_my_model('after_puzzles_' + PIECE_TO_WORD[piece] + '2')"
      ]
    },
    {
      "cell_type": "code",
      "source": [
        "engine = chess.engine.SimpleEngine.popen_uci(STOCKFISH_PATH)"
      ],
      "metadata": {
        "id": "BeZXUaEw8rF6"
      },
      "execution_count": null,
      "outputs": []
    },
    {
      "cell_type": "code",
      "execution_count": null,
      "metadata": {
        "colab": {
          "base_uri": "https://localhost:8080/",
          "height": 446
        },
        "id": "PPKSEKjLRCcg",
        "outputId": "06f431c0-5044-4fb0-f7e4-f9b425dc2cd8"
      },
      "outputs": [
        {
          "output_type": "display_data",
          "data": {
            "text/plain": [
              "<IPython.core.display.HTML object>"
            ],
            "text/html": [
              "<svg xmlns=\"http://www.w3.org/2000/svg\" xmlns:xlink=\"http://www.w3.org/1999/xlink\" viewBox=\"0 0 390 390\" width=\"390\" height=\"390\"><desc><pre>. . . q k . . r\n",
              ". . . . . Q . p\n",
              ". n b p . b p .\n",
              ". . . . . . . .\n",
              ". . B . P . . .\n",
              ". . . . B N . .\n",
              ". P . N . P P P\n",
              ". . . . R . K .</pre></desc><defs><g id=\"white-pawn\" class=\"white pawn\"><path d=\"M22.5 9c-2.21 0-4 1.79-4 4 0 .89.29 1.71.78 2.38C17.33 16.5 16 18.59 16 21c0 2.03.94 3.84 2.41 5.03-3 1.06-7.41 5.55-7.41 13.47h23c0-7.92-4.41-12.41-7.41-13.47 1.47-1.19 2.41-3 2.41-5.03 0-2.41-1.33-4.5-3.28-5.62.49-.67.78-1.49.78-2.38 0-2.21-1.79-4-4-4z\" fill=\"#fff\" stroke=\"#000\" stroke-width=\"1.5\" stroke-linecap=\"round\" /></g><g id=\"white-knight\" class=\"white knight\" fill=\"none\" fill-rule=\"evenodd\" stroke=\"#000\" stroke-width=\"1.5\" stroke-linecap=\"round\" stroke-linejoin=\"round\"><path d=\"M 22,10 C 32.5,11 38.5,18 38,39 L 15,39 C 15,30 25,32.5 23,18\" style=\"fill:#ffffff; stroke:#000000;\" /><path d=\"M 24,18 C 24.38,20.91 18.45,25.37 16,27 C 13,29 13.18,31.34 11,31 C 9.958,30.06 12.41,27.96 11,28 C 10,28 11.19,29.23 10,30 C 9,30 5.997,31 6,26 C 6,24 12,14 12,14 C 12,14 13.89,12.1 14,10.5 C 13.27,9.506 13.5,8.5 13.5,7.5 C 14.5,6.5 16.5,10 16.5,10 L 18.5,10 C 18.5,10 19.28,8.008 21,7 C 22,7 22,10 22,10\" style=\"fill:#ffffff; stroke:#000000;\" /><path d=\"M 9.5 25.5 A 0.5 0.5 0 1 1 8.5,25.5 A 0.5 0.5 0 1 1 9.5 25.5 z\" style=\"fill:#000000; stroke:#000000;\" /><path d=\"M 15 15.5 A 0.5 1.5 0 1 1 14,15.5 A 0.5 1.5 0 1 1 15 15.5 z\" transform=\"matrix(0.866,0.5,-0.5,0.866,9.693,-5.173)\" style=\"fill:#000000; stroke:#000000;\" /></g><g id=\"white-bishop\" class=\"white bishop\" fill=\"none\" fill-rule=\"evenodd\" stroke=\"#000\" stroke-width=\"1.5\" stroke-linecap=\"round\" stroke-linejoin=\"round\"><g fill=\"#fff\" stroke-linecap=\"butt\"><path d=\"M9 36c3.39-.97 10.11.43 13.5-2 3.39 2.43 10.11 1.03 13.5 2 0 0 1.65.54 3 2-.68.97-1.65.99-3 .5-3.39-.97-10.11.46-13.5-1-3.39 1.46-10.11.03-13.5 1-1.354.49-2.323.47-3-.5 1.354-1.94 3-2 3-2zM15 32c2.5 2.5 12.5 2.5 15 0 .5-1.5 0-2 0-2 0-2.5-2.5-4-2.5-4 5.5-1.5 6-11.5-5-15.5-11 4-10.5 14-5 15.5 0 0-2.5 1.5-2.5 4 0 0-.5.5 0 2zM25 8a2.5 2.5 0 1 1-5 0 2.5 2.5 0 1 1 5 0z\" /></g><path d=\"M17.5 26h10M15 30h15m-7.5-14.5v5M20 18h5\" stroke-linejoin=\"miter\" /></g><g id=\"white-rook\" class=\"white rook\" fill=\"#fff\" fill-rule=\"evenodd\" stroke=\"#000\" stroke-width=\"1.5\" stroke-linecap=\"round\" stroke-linejoin=\"round\"><path d=\"M9 39h27v-3H9v3zM12 36v-4h21v4H12zM11 14V9h4v2h5V9h5v2h5V9h4v5\" stroke-linecap=\"butt\" /><path d=\"M34 14l-3 3H14l-3-3\" /><path d=\"M31 17v12.5H14V17\" stroke-linecap=\"butt\" stroke-linejoin=\"miter\" /><path d=\"M31 29.5l1.5 2.5h-20l1.5-2.5\" /><path d=\"M11 14h23\" fill=\"none\" stroke-linejoin=\"miter\" /></g><g id=\"white-queen\" class=\"white queen\" fill=\"#fff\" fill-rule=\"evenodd\" stroke=\"#000\" stroke-width=\"1.5\" stroke-linecap=\"round\" stroke-linejoin=\"round\"><path d=\"M8 12a2 2 0 1 1-4 0 2 2 0 1 1 4 0zM24.5 7.5a2 2 0 1 1-4 0 2 2 0 1 1 4 0zM41 12a2 2 0 1 1-4 0 2 2 0 1 1 4 0zM16 8.5a2 2 0 1 1-4 0 2 2 0 1 1 4 0zM33 9a2 2 0 1 1-4 0 2 2 0 1 1 4 0z\" /><path d=\"M9 26c8.5-1.5 21-1.5 27 0l2-12-7 11V11l-5.5 13.5-3-15-3 15-5.5-14V25L7 14l2 12zM9 26c0 2 1.5 2 2.5 4 1 1.5 1 1 .5 3.5-1.5 1-1.5 2.5-1.5 2.5-1.5 1.5.5 2.5.5 2.5 6.5 1 16.5 1 23 0 0 0 1.5-1 0-2.5 0 0 .5-1.5-1-2.5-.5-2.5-.5-2 .5-3.5 1-2 2.5-2 2.5-4-8.5-1.5-18.5-1.5-27 0z\" stroke-linecap=\"butt\" /><path d=\"M11.5 30c3.5-1 18.5-1 22 0M12 33.5c6-1 15-1 21 0\" fill=\"none\" /></g><g id=\"white-king\" class=\"white king\" fill=\"none\" fill-rule=\"evenodd\" stroke=\"#000\" stroke-width=\"1.5\" stroke-linecap=\"round\" stroke-linejoin=\"round\"><path d=\"M22.5 11.63V6M20 8h5\" stroke-linejoin=\"miter\" /><path d=\"M22.5 25s4.5-7.5 3-10.5c0 0-1-2.5-3-2.5s-3 2.5-3 2.5c-1.5 3 3 10.5 3 10.5\" fill=\"#fff\" stroke-linecap=\"butt\" stroke-linejoin=\"miter\" /><path d=\"M11.5 37c5.5 3.5 15.5 3.5 21 0v-7s9-4.5 6-10.5c-4-6.5-13.5-3.5-16 4V27v-3.5c-3.5-7.5-13-10.5-16-4-3 6 5 10 5 10V37z\" fill=\"#fff\" /><path d=\"M11.5 30c5.5-3 15.5-3 21 0m-21 3.5c5.5-3 15.5-3 21 0m-21 3.5c5.5-3 15.5-3 21 0\" /></g><g id=\"black-pawn\" class=\"black pawn\"><path d=\"M22.5 9c-2.21 0-4 1.79-4 4 0 .89.29 1.71.78 2.38C17.33 16.5 16 18.59 16 21c0 2.03.94 3.84 2.41 5.03-3 1.06-7.41 5.55-7.41 13.47h23c0-7.92-4.41-12.41-7.41-13.47 1.47-1.19 2.41-3 2.41-5.03 0-2.41-1.33-4.5-3.28-5.62.49-.67.78-1.49.78-2.38 0-2.21-1.79-4-4-4z\" fill=\"#000\" stroke=\"#000\" stroke-width=\"1.5\" stroke-linecap=\"round\" /></g><g id=\"black-knight\" class=\"black knight\" fill=\"none\" fill-rule=\"evenodd\" stroke=\"#000\" stroke-width=\"1.5\" stroke-linecap=\"round\" stroke-linejoin=\"round\"><path d=\"M 22,10 C 32.5,11 38.5,18 38,39 L 15,39 C 15,30 25,32.5 23,18\" style=\"fill:#000000; stroke:#000000;\" /><path d=\"M 24,18 C 24.38,20.91 18.45,25.37 16,27 C 13,29 13.18,31.34 11,31 C 9.958,30.06 12.41,27.96 11,28 C 10,28 11.19,29.23 10,30 C 9,30 5.997,31 6,26 C 6,24 12,14 12,14 C 12,14 13.89,12.1 14,10.5 C 13.27,9.506 13.5,8.5 13.5,7.5 C 14.5,6.5 16.5,10 16.5,10 L 18.5,10 C 18.5,10 19.28,8.008 21,7 C 22,7 22,10 22,10\" style=\"fill:#000000; stroke:#000000;\" /><path d=\"M 9.5 25.5 A 0.5 0.5 0 1 1 8.5,25.5 A 0.5 0.5 0 1 1 9.5 25.5 z\" style=\"fill:#ececec; stroke:#ececec;\" /><path d=\"M 15 15.5 A 0.5 1.5 0 1 1 14,15.5 A 0.5 1.5 0 1 1 15 15.5 z\" transform=\"matrix(0.866,0.5,-0.5,0.866,9.693,-5.173)\" style=\"fill:#ececec; stroke:#ececec;\" /><path d=\"M 24.55,10.4 L 24.1,11.85 L 24.6,12 C 27.75,13 30.25,14.49 32.5,18.75 C 34.75,23.01 35.75,29.06 35.25,39 L 35.2,39.5 L 37.45,39.5 L 37.5,39 C 38,28.94 36.62,22.15 34.25,17.66 C 31.88,13.17 28.46,11.02 25.06,10.5 L 24.55,10.4 z \" style=\"fill:#ececec; stroke:none;\" /></g><g id=\"black-bishop\" class=\"black bishop\" fill=\"none\" fill-rule=\"evenodd\" stroke=\"#000\" stroke-width=\"1.5\" stroke-linecap=\"round\" stroke-linejoin=\"round\"><path d=\"M9 36c3.39-.97 10.11.43 13.5-2 3.39 2.43 10.11 1.03 13.5 2 0 0 1.65.54 3 2-.68.97-1.65.99-3 .5-3.39-.97-10.11.46-13.5-1-3.39 1.46-10.11.03-13.5 1-1.354.49-2.323.47-3-.5 1.354-1.94 3-2 3-2zm6-4c2.5 2.5 12.5 2.5 15 0 .5-1.5 0-2 0-2 0-2.5-2.5-4-2.5-4 5.5-1.5 6-11.5-5-15.5-11 4-10.5 14-5 15.5 0 0-2.5 1.5-2.5 4 0 0-.5.5 0 2zM25 8a2.5 2.5 0 1 1-5 0 2.5 2.5 0 1 1 5 0z\" fill=\"#000\" stroke-linecap=\"butt\" /><path d=\"M17.5 26h10M15 30h15m-7.5-14.5v5M20 18h5\" stroke=\"#fff\" stroke-linejoin=\"miter\" /></g><g id=\"black-rook\" class=\"black rook\" fill=\"#000\" fill-rule=\"evenodd\" stroke=\"#000\" stroke-width=\"1.5\" stroke-linecap=\"round\" stroke-linejoin=\"round\"><path d=\"M9 39h27v-3H9v3zM12.5 32l1.5-2.5h17l1.5 2.5h-20zM12 36v-4h21v4H12z\" stroke-linecap=\"butt\" /><path d=\"M14 29.5v-13h17v13H14z\" stroke-linecap=\"butt\" stroke-linejoin=\"miter\" /><path d=\"M14 16.5L11 14h23l-3 2.5H14zM11 14V9h4v2h5V9h5v2h5V9h4v5H11z\" stroke-linecap=\"butt\" /><path d=\"M12 35.5h21M13 31.5h19M14 29.5h17M14 16.5h17M11 14h23\" fill=\"none\" stroke=\"#fff\" stroke-width=\"1\" stroke-linejoin=\"miter\" /></g><g id=\"black-queen\" class=\"black queen\" fill=\"#000\" fill-rule=\"evenodd\" stroke=\"#000\" stroke-width=\"1.5\" stroke-linecap=\"round\" stroke-linejoin=\"round\"><g fill=\"#000\" stroke=\"none\"><circle cx=\"6\" cy=\"12\" r=\"2.75\" /><circle cx=\"14\" cy=\"9\" r=\"2.75\" /><circle cx=\"22.5\" cy=\"8\" r=\"2.75\" /><circle cx=\"31\" cy=\"9\" r=\"2.75\" /><circle cx=\"39\" cy=\"12\" r=\"2.75\" /></g><path d=\"M9 26c8.5-1.5 21-1.5 27 0l2.5-12.5L31 25l-.3-14.1-5.2 13.6-3-14.5-3 14.5-5.2-13.6L14 25 6.5 13.5 9 26zM9 26c0 2 1.5 2 2.5 4 1 1.5 1 1 .5 3.5-1.5 1-1.5 2.5-1.5 2.5-1.5 1.5.5 2.5.5 2.5 6.5 1 16.5 1 23 0 0 0 1.5-1 0-2.5 0 0 .5-1.5-1-2.5-.5-2.5-.5-2 .5-3.5 1-2 2.5-2 2.5-4-8.5-1.5-18.5-1.5-27 0z\" stroke-linecap=\"butt\" /><path d=\"M11 38.5a35 35 1 0 0 23 0\" fill=\"none\" stroke-linecap=\"butt\" /><path d=\"M11 29a35 35 1 0 1 23 0M12.5 31.5h20M11.5 34.5a35 35 1 0 0 22 0M10.5 37.5a35 35 1 0 0 24 0\" fill=\"none\" stroke=\"#fff\" /></g><g id=\"black-king\" class=\"black king\" fill=\"none\" fill-rule=\"evenodd\" stroke=\"#000\" stroke-width=\"1.5\" stroke-linecap=\"round\" stroke-linejoin=\"round\"><path d=\"M22.5 11.63V6\" stroke-linejoin=\"miter\" /><path d=\"M22.5 25s4.5-7.5 3-10.5c0 0-1-2.5-3-2.5s-3 2.5-3 2.5c-1.5 3 3 10.5 3 10.5\" fill=\"#000\" stroke-linecap=\"butt\" stroke-linejoin=\"miter\" /><path d=\"M11.5 37c5.5 3.5 15.5 3.5 21 0v-7s9-4.5 6-10.5c-4-6.5-13.5-3.5-16 4V27v-3.5c-3.5-7.5-13-10.5-16-4-3 6 5 10 5 10V37z\" fill=\"#000\" /><path d=\"M20 8h5\" stroke-linejoin=\"miter\" /><path d=\"M32 29.5s8.5-4 6.03-9.65C34.15 14 25 18 22.5 24.5l.01 2.1-.01-2.1C20 18 9.906 14 6.997 19.85c-2.497 5.65 4.853 9 4.853 9M11.5 30c5.5-3 15.5-3 21 0m-21 3.5c5.5-3 15.5-3 21 0m-21 3.5c5.5-3 15.5-3 21 0\" stroke=\"#fff\" /></g><radialGradient id=\"check_gradient\" r=\"0.5\"><stop offset=\"0%\" stop-color=\"#ff0000\" stop-opacity=\"1.0\" /><stop offset=\"50%\" stop-color=\"#e70000\" stop-opacity=\"1.0\" /><stop offset=\"100%\" stop-color=\"#9e0000\" stop-opacity=\"0.0\" /></radialGradient></defs><rect x=\"7.5\" y=\"7.5\" width=\"375\" height=\"375\" fill=\"none\" stroke=\"#212121\" stroke-width=\"15\" /><g transform=\"translate(20, 1) scale(0.75, 0.75)\" fill=\"#e5e5e5\" stroke=\"#e5e5e5\"><path d=\"M23.328 10.016q-1.742 0-2.414.398-.672.398-.672 1.36 0 .765.5 1.218.508.445 1.375.445 1.196 0 1.914-.843.727-.852.727-2.258v-.32zm2.867-.594v4.992h-1.437v-1.328q-.492.797-1.227 1.18-.734.375-1.797.375-1.343 0-2.14-.75-.79-.758-.79-2.024 0-1.476.985-2.226.992-.75 2.953-.75h2.016V8.75q0-.992-.656-1.531-.649-.547-1.829-.547-.75 0-1.46.18-.711.18-1.368.539V6.062q.79-.304 1.532-.453.742-.156 1.445-.156 1.898 0 2.836.984.937.985.937 2.985z\" /></g><g transform=\"translate(20, 375) scale(0.75, 0.75)\" fill=\"#e5e5e5\" stroke=\"#e5e5e5\"><path d=\"M23.328 10.016q-1.742 0-2.414.398-.672.398-.672 1.36 0 .765.5 1.218.508.445 1.375.445 1.196 0 1.914-.843.727-.852.727-2.258v-.32zm2.867-.594v4.992h-1.437v-1.328q-.492.797-1.227 1.18-.734.375-1.797.375-1.343 0-2.14-.75-.79-.758-.79-2.024 0-1.476.985-2.226.992-.75 2.953-.75h2.016V8.75q0-.992-.656-1.531-.649-.547-1.829-.547-.75 0-1.46.18-.711.18-1.368.539V6.062q.79-.304 1.532-.453.742-.156 1.445-.156 1.898 0 2.836.984.937.985.937 2.985z\" /></g><g transform=\"translate(65, 1) scale(0.75, 0.75)\" fill=\"#e5e5e5\" stroke=\"#e5e5e5\"><path d=\"M24.922 10.047q0-1.586-.656-2.485-.649-.906-1.79-.906-1.14 0-1.796.906-.649.899-.649 2.485 0 1.586.649 2.492.656.898 1.797.898 1.14 0 1.789-.898.656-.906.656-2.492zm-4.89-3.055q.452-.781 1.14-1.156.695-.383 1.656-.383 1.594 0 2.586 1.266 1 1.265 1 3.328 0 2.062-1 3.328-.992 1.266-2.586 1.266-.96 0-1.656-.375-.688-.383-1.14-1.164v1.312h-1.446V2.258h1.445z\" /></g><g transform=\"translate(65, 375) scale(0.75, 0.75)\" fill=\"#e5e5e5\" stroke=\"#e5e5e5\"><path d=\"M24.922 10.047q0-1.586-.656-2.485-.649-.906-1.79-.906-1.14 0-1.796.906-.649.899-.649 2.485 0 1.586.649 2.492.656.898 1.797.898 1.14 0 1.789-.898.656-.906.656-2.492zm-4.89-3.055q.452-.781 1.14-1.156.695-.383 1.656-.383 1.594 0 2.586 1.266 1 1.265 1 3.328 0 2.062-1 3.328-.992 1.266-2.586 1.266-.96 0-1.656-.375-.688-.383-1.14-1.164v1.312h-1.446V2.258h1.445z\" /></g><g transform=\"translate(110, 1) scale(0.75, 0.75)\" fill=\"#e5e5e5\" stroke=\"#e5e5e5\"><path d=\"M25.96 6v1.344q-.608-.336-1.226-.5-.609-.172-1.234-.172-1.398 0-2.172.89-.773.883-.773 2.485 0 1.601.773 2.492.774.883 2.172.883.625 0 1.234-.164.618-.172 1.227-.508v1.328q-.602.281-1.25.422-.64.14-1.367.14-1.977 0-3.14-1.242-1.165-1.242-1.165-3.351 0-2.14 1.172-3.367 1.18-1.227 3.227-1.227.664 0 1.296.14.633.134 1.227.407z\" /></g><g transform=\"translate(110, 375) scale(0.75, 0.75)\" fill=\"#e5e5e5\" stroke=\"#e5e5e5\"><path d=\"M25.96 6v1.344q-.608-.336-1.226-.5-.609-.172-1.234-.172-1.398 0-2.172.89-.773.883-.773 2.485 0 1.601.773 2.492.774.883 2.172.883.625 0 1.234-.164.618-.172 1.227-.508v1.328q-.602.281-1.25.422-.64.14-1.367.14-1.977 0-3.14-1.242-1.165-1.242-1.165-3.351 0-2.14 1.172-3.367 1.18-1.227 3.227-1.227.664 0 1.296.14.633.134 1.227.407z\" /></g><g transform=\"translate(155, 1) scale(0.75, 0.75)\" fill=\"#e5e5e5\" stroke=\"#e5e5e5\"><path d=\"M24.973 6.992V2.258h1.437v12.156h-1.437v-1.312q-.453.78-1.149 1.164-.687.375-1.656.375-1.586 0-2.586-1.266-.992-1.266-.992-3.328 0-2.063.992-3.328 1-1.266 2.586-1.266.969 0 1.656.383.696.375 1.149 1.156zm-4.899 3.055q0 1.586.649 2.492.656.898 1.797.898 1.14 0 1.796-.898.657-.906.657-2.492 0-1.586-.657-2.485-.656-.906-1.796-.906-1.141 0-1.797.906-.649.899-.649 2.485z\" /></g><g transform=\"translate(155, 375) scale(0.75, 0.75)\" fill=\"#e5e5e5\" stroke=\"#e5e5e5\"><path d=\"M24.973 6.992V2.258h1.437v12.156h-1.437v-1.312q-.453.78-1.149 1.164-.687.375-1.656.375-1.586 0-2.586-1.266-.992-1.266-.992-3.328 0-2.063.992-3.328 1-1.266 2.586-1.266.969 0 1.656.383.696.375 1.149 1.156zm-4.899 3.055q0 1.586.649 2.492.656.898 1.797.898 1.14 0 1.796-.898.657-.906.657-2.492 0-1.586-.657-2.485-.656-.906-1.796-.906-1.141 0-1.797.906-.649.899-.649 2.485z\" /></g><g transform=\"translate(200, 1) scale(0.75, 0.75)\" fill=\"#e5e5e5\" stroke=\"#e5e5e5\"><path d=\"M26.555 9.68v.703h-6.61q.094 1.484.89 2.265.806.774 2.235.774.828 0 1.602-.203.781-.203 1.547-.61v1.36q-.774.328-1.586.5-.813.172-1.649.172-2.093 0-3.32-1.22-1.219-1.218-1.219-3.296 0-2.148 1.157-3.406 1.164-1.266 3.132-1.266 1.766 0 2.79 1.14 1.03 1.134 1.03 3.087zm-1.438-.422q-.015-1.18-.664-1.883-.64-.703-1.703-.703-1.203 0-1.93.68-.718.68-.828 1.914z\" /></g><g transform=\"translate(200, 375) scale(0.75, 0.75)\" fill=\"#e5e5e5\" stroke=\"#e5e5e5\"><path d=\"M26.555 9.68v.703h-6.61q.094 1.484.89 2.265.806.774 2.235.774.828 0 1.602-.203.781-.203 1.547-.61v1.36q-.774.328-1.586.5-.813.172-1.649.172-2.093 0-3.32-1.22-1.219-1.218-1.219-3.296 0-2.148 1.157-3.406 1.164-1.266 3.132-1.266 1.766 0 2.79 1.14 1.03 1.134 1.03 3.087zm-1.438-.422q-.015-1.18-.664-1.883-.64-.703-1.703-.703-1.203 0-1.93.68-.718.68-.828 1.914z\" /></g><g transform=\"translate(245, 1) scale(0.75, 0.75)\" fill=\"#e5e5e5\" stroke=\"#e5e5e5\"><path d=\"M25.285 2.258v1.195H23.91q-.773 0-1.078.313-.297.312-.297 1.125v.773h2.367v1.117h-2.367v7.633H21.09V6.781h-1.375V5.664h1.375v-.61q0-1.46.68-2.124.68-.672 2.156-.672z\" /></g><g transform=\"translate(245, 375) scale(0.75, 0.75)\" fill=\"#e5e5e5\" stroke=\"#e5e5e5\"><path d=\"M25.285 2.258v1.195H23.91q-.773 0-1.078.313-.297.312-.297 1.125v.773h2.367v1.117h-2.367v7.633H21.09V6.781h-1.375V5.664h1.375v-.61q0-1.46.68-2.124.68-.672 2.156-.672z\" /></g><g transform=\"translate(290, 1) scale(0.75, 0.75)\" fill=\"#e5e5e5\" stroke=\"#e5e5e5\"><path d=\"M24.973 9.937q0-1.562-.649-2.421-.64-.86-1.804-.86-1.157 0-1.805.86-.64.859-.64 2.421 0 1.555.64 2.415.648.859 1.805.859 1.164 0 1.804-.86.649-.859.649-2.414zm1.437 3.391q0 2.234-.992 3.32-.992 1.094-3.04 1.094-.757 0-1.429-.117-.672-.11-1.304-.344v-1.398q.632.344 1.25.508.617.164 1.257.164 1.414 0 2.118-.743.703-.734.703-2.226v-.711q-.446.773-1.141 1.156-.695.383-1.664.383-1.61 0-2.594-1.227-.984-1.226-.984-3.25 0-2.03.984-3.257.985-1.227 2.594-1.227.969 0 1.664.383t1.14 1.156V5.664h1.438z\" /></g><g transform=\"translate(290, 375) scale(0.75, 0.75)\" fill=\"#e5e5e5\" stroke=\"#e5e5e5\"><path d=\"M24.973 9.937q0-1.562-.649-2.421-.64-.86-1.804-.86-1.157 0-1.805.86-.64.859-.64 2.421 0 1.555.64 2.415.648.859 1.805.859 1.164 0 1.804-.86.649-.859.649-2.414zm1.437 3.391q0 2.234-.992 3.32-.992 1.094-3.04 1.094-.757 0-1.429-.117-.672-.11-1.304-.344v-1.398q.632.344 1.25.508.617.164 1.257.164 1.414 0 2.118-.743.703-.734.703-2.226v-.711q-.446.773-1.141 1.156-.695.383-1.664.383-1.61 0-2.594-1.227-.984-1.226-.984-3.25 0-2.03.984-3.257.985-1.227 2.594-1.227.969 0 1.664.383t1.14 1.156V5.664h1.438z\" /></g><g transform=\"translate(335, 1) scale(0.75, 0.75)\" fill=\"#e5e5e5\" stroke=\"#e5e5e5\"><path d=\"M26.164 9.133v5.281h-1.437V9.18q0-1.243-.485-1.86-.484-.617-1.453-.617-1.164 0-1.836.742-.672.742-.672 2.024v4.945h-1.445V2.258h1.445v4.765q.516-.789 1.211-1.18.703-.39 1.617-.39 1.508 0 2.282.938.773.93.773 2.742z\" /></g><g transform=\"translate(335, 375) scale(0.75, 0.75)\" fill=\"#e5e5e5\" stroke=\"#e5e5e5\"><path d=\"M26.164 9.133v5.281h-1.437V9.18q0-1.243-.485-1.86-.484-.617-1.453-.617-1.164 0-1.836.742-.672.742-.672 2.024v4.945h-1.445V2.258h1.445v4.765q.516-.789 1.211-1.18.703-.39 1.617-.39 1.508 0 2.282.938.773.93.773 2.742z\" /></g><g transform=\"translate(0, 335) scale(0.75, 0.75)\" fill=\"#e5e5e5\" stroke=\"#e5e5e5\"><path d=\"M6.754 26.996h2.578v-8.898l-2.805.562v-1.437l2.79-.563h1.578v10.336h2.578v1.328h-6.72z\" /></g><g transform=\"translate(375, 335) scale(0.75, 0.75)\" fill=\"#e5e5e5\" stroke=\"#e5e5e5\"><path d=\"M6.754 26.996h2.578v-8.898l-2.805.562v-1.437l2.79-.563h1.578v10.336h2.578v1.328h-6.72z\" /></g><g transform=\"translate(0, 290) scale(0.75, 0.75)\" fill=\"#e5e5e5\" stroke=\"#e5e5e5\"><path d=\"M8.195 26.996h5.508v1.328H6.297v-1.328q.898-.93 2.445-2.492 1.555-1.57 1.953-2.024.758-.851 1.055-1.437.305-.594.305-1.164 0-.93-.657-1.516-.648-.586-1.695-.586-.742 0-1.57.258-.82.258-1.758.781v-1.593q.953-.383 1.781-.578.828-.196 1.516-.196 1.812 0 2.89.906 1.079.907 1.079 2.422 0 .72-.274 1.368-.265.64-.976 1.515-.196.227-1.243 1.313-1.046 1.078-2.953 3.023z\" /></g><g transform=\"translate(375, 290) scale(0.75, 0.75)\" fill=\"#e5e5e5\" stroke=\"#e5e5e5\"><path d=\"M8.195 26.996h5.508v1.328H6.297v-1.328q.898-.93 2.445-2.492 1.555-1.57 1.953-2.024.758-.851 1.055-1.437.305-.594.305-1.164 0-.93-.657-1.516-.648-.586-1.695-.586-.742 0-1.57.258-.82.258-1.758.781v-1.593q.953-.383 1.781-.578.828-.196 1.516-.196 1.812 0 2.89.906 1.079.907 1.079 2.422 0 .72-.274 1.368-.265.64-.976 1.515-.196.227-1.243 1.313-1.046 1.078-2.953 3.023z\" /></g><g transform=\"translate(0, 245) scale(0.75, 0.75)\" fill=\"#e5e5e5\" stroke=\"#e5e5e5\"><path d=\"M11.434 22.035q1.132.242 1.765 1.008.64.766.64 1.89 0 1.727-1.187 2.672-1.187.946-3.375.946-.734 0-1.515-.149-.774-.14-1.602-.43V26.45q.656.383 1.438.578.78.196 1.632.196 1.485 0 2.258-.586.782-.586.782-1.703 0-1.032-.727-1.61-.719-.586-2.008-.586h-1.36v-1.297h1.423q1.164 0 1.78-.46.618-.47.618-1.344 0-.899-.64-1.375-.633-.485-1.82-.485-.65 0-1.391.141-.743.14-1.633.437V16.95q.898-.25 1.68-.375.788-.125 1.484-.125 1.797 0 2.844.82 1.046.813 1.046 2.204 0 .968-.554 1.64-.555.664-1.578.922z\" /></g><g transform=\"translate(375, 245) scale(0.75, 0.75)\" fill=\"#e5e5e5\" stroke=\"#e5e5e5\"><path d=\"M11.434 22.035q1.132.242 1.765 1.008.64.766.64 1.89 0 1.727-1.187 2.672-1.187.946-3.375.946-.734 0-1.515-.149-.774-.14-1.602-.43V26.45q.656.383 1.438.578.78.196 1.632.196 1.485 0 2.258-.586.782-.586.782-1.703 0-1.032-.727-1.61-.719-.586-2.008-.586h-1.36v-1.297h1.423q1.164 0 1.78-.46.618-.47.618-1.344 0-.899-.64-1.375-.633-.485-1.82-.485-.65 0-1.391.141-.743.14-1.633.437V16.95q.898-.25 1.68-.375.788-.125 1.484-.125 1.797 0 2.844.82 1.046.813 1.046 2.204 0 .968-.554 1.64-.555.664-1.578.922z\" /></g><g transform=\"translate(0, 200) scale(0.75, 0.75)\" fill=\"#e5e5e5\" stroke=\"#e5e5e5\"><path d=\"M11.016 18.035L7.03 24.262h3.985zm-.414-1.375h1.984v7.602h1.664v1.312h-1.664v2.75h-1.57v-2.75H5.75v-1.523z\" /></g><g transform=\"translate(375, 200) scale(0.75, 0.75)\" fill=\"#e5e5e5\" stroke=\"#e5e5e5\"><path d=\"M11.016 18.035L7.03 24.262h3.985zm-.414-1.375h1.984v7.602h1.664v1.312h-1.664v2.75h-1.57v-2.75H5.75v-1.523z\" /></g><g transform=\"translate(0, 155) scale(0.75, 0.75)\" fill=\"#e5e5e5\" stroke=\"#e5e5e5\"><path d=\"M6.719 16.66h6.195v1.328h-4.75v2.86q.344-.118.688-.172.343-.063.687-.063 1.953 0 3.094 1.07 1.14 1.07 1.14 2.899 0 1.883-1.171 2.93-1.172 1.039-3.305 1.039-.735 0-1.5-.125-.758-.125-1.57-.375v-1.586q.703.383 1.453.57.75.188 1.586.188 1.351 0 2.14-.711.79-.711.79-1.93 0-1.219-.79-1.93-.789-.71-2.14-.71-.633 0-1.266.14-.625.14-1.281.438z\" /></g><g transform=\"translate(375, 155) scale(0.75, 0.75)\" fill=\"#e5e5e5\" stroke=\"#e5e5e5\"><path d=\"M6.719 16.66h6.195v1.328h-4.75v2.86q.344-.118.688-.172.343-.063.687-.063 1.953 0 3.094 1.07 1.14 1.07 1.14 2.899 0 1.883-1.171 2.93-1.172 1.039-3.305 1.039-.735 0-1.5-.125-.758-.125-1.57-.375v-1.586q.703.383 1.453.57.75.188 1.586.188 1.351 0 2.14-.711.79-.711.79-1.93 0-1.219-.79-1.93-.789-.71-2.14-.71-.633 0-1.266.14-.625.14-1.281.438z\" /></g><g transform=\"translate(0, 110) scale(0.75, 0.75)\" fill=\"#e5e5e5\" stroke=\"#e5e5e5\"><path d=\"M10.137 21.863q-1.063 0-1.688.727-.617.726-.617 1.992 0 1.258.617 1.992.625.727 1.688.727 1.062 0 1.68-.727.624-.734.624-1.992 0-1.266-.625-1.992-.617-.727-1.68-.727zm3.133-4.945v1.437q-.594-.28-1.204-.43-.601-.148-1.195-.148-1.562 0-2.39 1.055-.82 1.055-.938 3.188.46-.68 1.156-1.04.696-.367 1.531-.367 1.758 0 2.774 1.07 1.023 1.063 1.023 2.899 0 1.797-1.062 2.883-1.063 1.086-2.828 1.086-2.024 0-3.094-1.547-1.07-1.555-1.07-4.5 0-2.766 1.312-4.406 1.313-1.649 3.524-1.649.593 0 1.195.117.61.118 1.266.352z\" /></g><g transform=\"translate(375, 110) scale(0.75, 0.75)\" fill=\"#e5e5e5\" stroke=\"#e5e5e5\"><path d=\"M10.137 21.863q-1.063 0-1.688.727-.617.726-.617 1.992 0 1.258.617 1.992.625.727 1.688.727 1.062 0 1.68-.727.624-.734.624-1.992 0-1.266-.625-1.992-.617-.727-1.68-.727zm3.133-4.945v1.437q-.594-.28-1.204-.43-.601-.148-1.195-.148-1.562 0-2.39 1.055-.82 1.055-.938 3.188.46-.68 1.156-1.04.696-.367 1.531-.367 1.758 0 2.774 1.07 1.023 1.063 1.023 2.899 0 1.797-1.062 2.883-1.063 1.086-2.828 1.086-2.024 0-3.094-1.547-1.07-1.555-1.07-4.5 0-2.766 1.312-4.406 1.313-1.649 3.524-1.649.593 0 1.195.117.61.118 1.266.352z\" /></g><g transform=\"translate(0, 65) scale(0.75, 0.75)\" fill=\"#e5e5e5\" stroke=\"#e5e5e5\"><path d=\"M6.25 16.66h7.5v.672L9.516 28.324H7.867l3.985-10.336H6.25z\" /></g><g transform=\"translate(375, 65) scale(0.75, 0.75)\" fill=\"#e5e5e5\" stroke=\"#e5e5e5\"><path d=\"M6.25 16.66h7.5v.672L9.516 28.324H7.867l3.985-10.336H6.25z\" /></g><g transform=\"translate(0, 20) scale(0.75, 0.75)\" fill=\"#e5e5e5\" stroke=\"#e5e5e5\"><path d=\"M10 22.785q-1.125 0-1.773.602-.641.601-.641 1.656t.64 1.656q.649.602 1.774.602t1.773-.602q.649-.61.649-1.656 0-1.055-.649-1.656-.64-.602-1.773-.602zm-1.578-.672q-1.016-.25-1.586-.945-.563-.695-.563-1.695 0-1.399.993-2.211 1-.813 2.734-.813 1.742 0 2.734.813.993.812.993 2.21 0 1-.57 1.696-.563.695-1.571.945 1.14.266 1.773 1.04.641.773.641 1.89 0 1.695-1.04 2.602-1.03.906-2.96.906t-2.969-.906Q6 26.738 6 25.043q0-1.117.64-1.89.641-.774 1.782-1.04zm-.578-2.492q0 .906.562 1.414.57.508 1.594.508 1.016 0 1.586-.508.578-.508.578-1.414 0-.906-.578-1.414-.57-.508-1.586-.508-1.023 0-1.594.508-.562.508-.562 1.414z\" /></g><g transform=\"translate(375, 20) scale(0.75, 0.75)\" fill=\"#e5e5e5\" stroke=\"#e5e5e5\"><path d=\"M10 22.785q-1.125 0-1.773.602-.641.601-.641 1.656t.64 1.656q.649.602 1.774.602t1.773-.602q.649-.61.649-1.656 0-1.055-.649-1.656-.64-.602-1.773-.602zm-1.578-.672q-1.016-.25-1.586-.945-.563-.695-.563-1.695 0-1.399.993-2.211 1-.813 2.734-.813 1.742 0 2.734.813.993.812.993 2.21 0 1-.57 1.696-.563.695-1.571.945 1.14.266 1.773 1.04.641.773.641 1.89 0 1.695-1.04 2.602-1.03.906-2.96.906t-2.969-.906Q6 26.738 6 25.043q0-1.117.64-1.89.641-.774 1.782-1.04zm-.578-2.492q0 .906.562 1.414.57.508 1.594.508 1.016 0 1.586-.508.578-.508.578-1.414 0-.906-.578-1.414-.57-.508-1.586-.508-1.023 0-1.594.508-.562.508-.562 1.414z\" /></g><rect x=\"15\" y=\"330\" width=\"45\" height=\"45\" class=\"square dark a1\" stroke=\"none\" fill=\"#d18b47\" /><rect x=\"60\" y=\"330\" width=\"45\" height=\"45\" class=\"square light b1\" stroke=\"none\" fill=\"#ffce9e\" /><rect x=\"105\" y=\"330\" width=\"45\" height=\"45\" class=\"square dark c1\" stroke=\"none\" fill=\"#d18b47\" /><rect x=\"150\" y=\"330\" width=\"45\" height=\"45\" class=\"square light d1\" stroke=\"none\" fill=\"#ffce9e\" /><rect x=\"195\" y=\"330\" width=\"45\" height=\"45\" class=\"square dark e1\" stroke=\"none\" fill=\"#d18b47\" /><rect x=\"240\" y=\"330\" width=\"45\" height=\"45\" class=\"square light f1\" stroke=\"none\" fill=\"#ffce9e\" /><rect x=\"285\" y=\"330\" width=\"45\" height=\"45\" class=\"square dark g1\" stroke=\"none\" fill=\"#d18b47\" /><rect x=\"330\" y=\"330\" width=\"45\" height=\"45\" class=\"square light h1\" stroke=\"none\" fill=\"#ffce9e\" /><rect x=\"15\" y=\"285\" width=\"45\" height=\"45\" class=\"square light a2\" stroke=\"none\" fill=\"#ffce9e\" /><rect x=\"60\" y=\"285\" width=\"45\" height=\"45\" class=\"square dark b2\" stroke=\"none\" fill=\"#d18b47\" /><rect x=\"105\" y=\"285\" width=\"45\" height=\"45\" class=\"square light c2\" stroke=\"none\" fill=\"#ffce9e\" /><rect x=\"150\" y=\"285\" width=\"45\" height=\"45\" class=\"square dark d2\" stroke=\"none\" fill=\"#d18b47\" /><rect x=\"195\" y=\"285\" width=\"45\" height=\"45\" class=\"square light e2\" stroke=\"none\" fill=\"#ffce9e\" /><rect x=\"240\" y=\"285\" width=\"45\" height=\"45\" class=\"square dark f2\" stroke=\"none\" fill=\"#d18b47\" /><rect x=\"285\" y=\"285\" width=\"45\" height=\"45\" class=\"square light g2\" stroke=\"none\" fill=\"#ffce9e\" /><rect x=\"330\" y=\"285\" width=\"45\" height=\"45\" class=\"square dark h2\" stroke=\"none\" fill=\"#d18b47\" /><rect x=\"15\" y=\"240\" width=\"45\" height=\"45\" class=\"square dark a3\" stroke=\"none\" fill=\"#d18b47\" /><rect x=\"60\" y=\"240\" width=\"45\" height=\"45\" class=\"square light b3\" stroke=\"none\" fill=\"#ffce9e\" /><rect x=\"105\" y=\"240\" width=\"45\" height=\"45\" class=\"square dark c3\" stroke=\"none\" fill=\"#d18b47\" /><rect x=\"150\" y=\"240\" width=\"45\" height=\"45\" class=\"square light d3\" stroke=\"none\" fill=\"#ffce9e\" /><rect x=\"195\" y=\"240\" width=\"45\" height=\"45\" class=\"square dark e3\" stroke=\"none\" fill=\"#d18b47\" /><rect x=\"240\" y=\"240\" width=\"45\" height=\"45\" class=\"square light f3\" stroke=\"none\" fill=\"#ffce9e\" /><rect x=\"285\" y=\"240\" width=\"45\" height=\"45\" class=\"square dark g3\" stroke=\"none\" fill=\"#d18b47\" /><rect x=\"330\" y=\"240\" width=\"45\" height=\"45\" class=\"square light h3\" stroke=\"none\" fill=\"#ffce9e\" /><rect x=\"15\" y=\"195\" width=\"45\" height=\"45\" class=\"square light a4\" stroke=\"none\" fill=\"#ffce9e\" /><rect x=\"60\" y=\"195\" width=\"45\" height=\"45\" class=\"square dark b4\" stroke=\"none\" fill=\"#d18b47\" /><rect x=\"105\" y=\"195\" width=\"45\" height=\"45\" class=\"square light c4\" stroke=\"none\" fill=\"#ffce9e\" /><rect x=\"150\" y=\"195\" width=\"45\" height=\"45\" class=\"square dark d4\" stroke=\"none\" fill=\"#d18b47\" /><rect x=\"195\" y=\"195\" width=\"45\" height=\"45\" class=\"square light e4\" stroke=\"none\" fill=\"#ffce9e\" /><rect x=\"240\" y=\"195\" width=\"45\" height=\"45\" class=\"square dark f4\" stroke=\"none\" fill=\"#d18b47\" /><rect x=\"285\" y=\"195\" width=\"45\" height=\"45\" class=\"square light g4\" stroke=\"none\" fill=\"#ffce9e\" /><rect x=\"330\" y=\"195\" width=\"45\" height=\"45\" class=\"square dark h4\" stroke=\"none\" fill=\"#d18b47\" /><rect x=\"15\" y=\"150\" width=\"45\" height=\"45\" class=\"square dark a5\" stroke=\"none\" fill=\"#d18b47\" /><rect x=\"60\" y=\"150\" width=\"45\" height=\"45\" class=\"square light b5\" stroke=\"none\" fill=\"#ffce9e\" /><rect x=\"105\" y=\"150\" width=\"45\" height=\"45\" class=\"square dark c5\" stroke=\"none\" fill=\"#d18b47\" /><rect x=\"150\" y=\"150\" width=\"45\" height=\"45\" class=\"square light d5\" stroke=\"none\" fill=\"#ffce9e\" /><rect x=\"195\" y=\"150\" width=\"45\" height=\"45\" class=\"square dark e5\" stroke=\"none\" fill=\"#d18b47\" /><rect x=\"240\" y=\"150\" width=\"45\" height=\"45\" class=\"square light f5\" stroke=\"none\" fill=\"#ffce9e\" /><rect x=\"285\" y=\"150\" width=\"45\" height=\"45\" class=\"square dark g5\" stroke=\"none\" fill=\"#d18b47\" /><rect x=\"330\" y=\"150\" width=\"45\" height=\"45\" class=\"square light h5\" stroke=\"none\" fill=\"#ffce9e\" /><rect x=\"15\" y=\"105\" width=\"45\" height=\"45\" class=\"square light a6\" stroke=\"none\" fill=\"#ffce9e\" /><rect x=\"60\" y=\"105\" width=\"45\" height=\"45\" class=\"square dark b6\" stroke=\"none\" fill=\"#d18b47\" /><rect x=\"105\" y=\"105\" width=\"45\" height=\"45\" class=\"square light c6\" stroke=\"none\" fill=\"#ffce9e\" /><rect x=\"150\" y=\"105\" width=\"45\" height=\"45\" class=\"square dark d6\" stroke=\"none\" fill=\"#d18b47\" /><rect x=\"195\" y=\"105\" width=\"45\" height=\"45\" class=\"square light e6\" stroke=\"none\" fill=\"#ffce9e\" /><rect x=\"240\" y=\"105\" width=\"45\" height=\"45\" class=\"square dark f6\" stroke=\"none\" fill=\"#d18b47\" /><rect x=\"285\" y=\"105\" width=\"45\" height=\"45\" class=\"square light g6\" stroke=\"none\" fill=\"#ffce9e\" /><rect x=\"330\" y=\"105\" width=\"45\" height=\"45\" class=\"square dark h6\" stroke=\"none\" fill=\"#d18b47\" /><rect x=\"15\" y=\"60\" width=\"45\" height=\"45\" class=\"square dark a7\" stroke=\"none\" fill=\"#d18b47\" /><rect x=\"60\" y=\"60\" width=\"45\" height=\"45\" class=\"square light b7\" stroke=\"none\" fill=\"#ffce9e\" /><rect x=\"105\" y=\"60\" width=\"45\" height=\"45\" class=\"square dark c7\" stroke=\"none\" fill=\"#d18b47\" /><rect x=\"150\" y=\"60\" width=\"45\" height=\"45\" class=\"square light d7\" stroke=\"none\" fill=\"#ffce9e\" /><rect x=\"195\" y=\"60\" width=\"45\" height=\"45\" class=\"square dark e7\" stroke=\"none\" fill=\"#d18b47\" /><rect x=\"240\" y=\"60\" width=\"45\" height=\"45\" class=\"square light lastmove f7\" stroke=\"none\" fill=\"#cdd16a\" /><rect x=\"285\" y=\"60\" width=\"45\" height=\"45\" class=\"square dark lastmove g7\" stroke=\"none\" fill=\"#aaa23b\" /><rect x=\"330\" y=\"60\" width=\"45\" height=\"45\" class=\"square light h7\" stroke=\"none\" fill=\"#ffce9e\" /><rect x=\"15\" y=\"15\" width=\"45\" height=\"45\" class=\"square light a8\" stroke=\"none\" fill=\"#ffce9e\" /><rect x=\"60\" y=\"15\" width=\"45\" height=\"45\" class=\"square dark b8\" stroke=\"none\" fill=\"#d18b47\" /><rect x=\"105\" y=\"15\" width=\"45\" height=\"45\" class=\"square light c8\" stroke=\"none\" fill=\"#ffce9e\" /><rect x=\"150\" y=\"15\" width=\"45\" height=\"45\" class=\"square dark d8\" stroke=\"none\" fill=\"#d18b47\" /><rect x=\"195\" y=\"15\" width=\"45\" height=\"45\" class=\"square light e8\" stroke=\"none\" fill=\"#ffce9e\" /><rect x=\"240\" y=\"15\" width=\"45\" height=\"45\" class=\"square dark f8\" stroke=\"none\" fill=\"#d18b47\" /><rect x=\"285\" y=\"15\" width=\"45\" height=\"45\" class=\"square light g8\" stroke=\"none\" fill=\"#ffce9e\" /><rect x=\"330\" y=\"15\" width=\"45\" height=\"45\" class=\"square dark h8\" stroke=\"none\" fill=\"#d18b47\" /><rect x=\"195\" y=\"15\" width=\"45\" height=\"45\" class=\"check\" fill=\"url(#check_gradient)\" /><use href=\"#white-rook\" xlink:href=\"#white-rook\" transform=\"translate(195, 330)\" /><use href=\"#white-king\" xlink:href=\"#white-king\" transform=\"translate(285, 330)\" /><use href=\"#white-pawn\" xlink:href=\"#white-pawn\" transform=\"translate(60, 285)\" /><use href=\"#white-knight\" xlink:href=\"#white-knight\" transform=\"translate(150, 285)\" /><use href=\"#white-pawn\" xlink:href=\"#white-pawn\" transform=\"translate(240, 285)\" /><use href=\"#white-pawn\" xlink:href=\"#white-pawn\" transform=\"translate(285, 285)\" /><use href=\"#white-pawn\" xlink:href=\"#white-pawn\" transform=\"translate(330, 285)\" /><use href=\"#white-bishop\" xlink:href=\"#white-bishop\" transform=\"translate(195, 240)\" /><use href=\"#white-knight\" xlink:href=\"#white-knight\" transform=\"translate(240, 240)\" /><use href=\"#white-bishop\" xlink:href=\"#white-bishop\" transform=\"translate(105, 195)\" /><use href=\"#white-pawn\" xlink:href=\"#white-pawn\" transform=\"translate(195, 195)\" /><use href=\"#black-knight\" xlink:href=\"#black-knight\" transform=\"translate(60, 105)\" /><use href=\"#black-bishop\" xlink:href=\"#black-bishop\" transform=\"translate(105, 105)\" /><use href=\"#black-pawn\" xlink:href=\"#black-pawn\" transform=\"translate(150, 105)\" /><use href=\"#black-bishop\" xlink:href=\"#black-bishop\" transform=\"translate(240, 105)\" /><use href=\"#black-pawn\" xlink:href=\"#black-pawn\" transform=\"translate(285, 105)\" /><use href=\"#white-queen\" xlink:href=\"#white-queen\" transform=\"translate(240, 60)\" /><use href=\"#black-pawn\" xlink:href=\"#black-pawn\" transform=\"translate(330, 60)\" /><use href=\"#black-queen\" xlink:href=\"#black-queen\" transform=\"translate(150, 15)\" /><use href=\"#black-king\" xlink:href=\"#black-king\" transform=\"translate(195, 15)\" /><use href=\"#black-rook\" xlink:href=\"#black-rook\" transform=\"translate(330, 15)\" /></svg>"
            ]
          },
          "metadata": {}
        },
        {
          "output_type": "stream",
          "name": "stdout",
          "text": [
            "cache_hit 76\n",
            "cache_called 338\n"
          ]
        }
      ],
      "source": [
        "board = chess.Board()\n",
        "game_length = 100\n",
        "counter = 1\n",
        "moves = []\n",
        "model_cpu = {'base_model':base_model, 'move_models':move_models}\n",
        "\n",
        "html = display_board(board, True)\n",
        "save_svg(html, TEMP_PATH + \"image-move-\" + str(0) + \".svg\")\n",
        "clear_output(wait = True)\n",
        "display(HTML(html))\n",
        "\n",
        "for i in range(game_length):\n",
        "    if i % 2 == 0:\n",
        "      move = stockfish_play(board)\n",
        "      print(move, 'stockfish')\n",
        "    else:\n",
        "      move = decide(board, K_FROM, EVAL_TIME_LIMIT)\n",
        "      move = chess.Move.from_uci(move)\n",
        "      print(move, 'my model')\n",
        "\n",
        "    moves.append(move)\n",
        "    display(board)\n",
        "    board.push(move)\n",
        "\n",
        "    html = display_board(board, True)\n",
        "    save_svg(html, TEMP_PATH + \"image-move-\" + str(i + 1) + \".svg\")\n",
        "    clear_output(wait = True)\n",
        "    display(HTML(html))\n",
        "    # sleep(0.2)\n",
        "    print('cache_hit', cache_hit)\n",
        "    print('cache_called', cache_called)\n",
        "\n",
        "    if board.is_game_over():\n",
        "        break"
      ]
    },
    {
      "cell_type": "code",
      "execution_count": null,
      "metadata": {
        "id": "vE51BHUcRGiz",
        "colab": {
          "base_uri": "https://localhost:8080/"
        },
        "outputId": "131bc3ad-2a67-4472-af11-6c980920093c"
      },
      "outputs": [
        {
          "output_type": "stream",
          "name": "stdout",
          "text": [
            "[Move.from_uci('e2e4'), Move.from_uci('e7e5'), Move.from_uci('g1f3'), Move.from_uci('b8c6'), Move.from_uci('f1b5'), Move.from_uci('a7a6'), Move.from_uci('b5a4'), Move.from_uci('g8f6'), Move.from_uci('e1g1'), Move.from_uci('f8e7'), Move.from_uci('f1e1'), Move.from_uci('b7b5'), Move.from_uci('a4b3'), Move.from_uci('d7d6'), Move.from_uci('c2c3'), Move.from_uci('c8b7'), Move.from_uci('a2a4'), Move.from_uci('c6a5'), Move.from_uci('b3c2'), Move.from_uci('c7c5'), Move.from_uci('d2d4'), Move.from_uci('f6d7'), Move.from_uci('d1e2'), Move.from_uci('c5d4'), Move.from_uci('a4b5'), Move.from_uci('a6b5'), Move.from_uci('c3d4'), Move.from_uci('e5d4'), Move.from_uci('e2b5'), Move.from_uci('b7c6'), Move.from_uci('b5h5'), Move.from_uci('g7g6'), Move.from_uci('h5h6'), Move.from_uci('d4d3'), Move.from_uci('c2d3'), Move.from_uci('a5b3'), Move.from_uci('a1a8'), Move.from_uci('c6a8'), Move.from_uci('c1e3'), Move.from_uci('a8c6'), Move.from_uci('d3c4'), Move.from_uci('b3d2'), Move.from_uci('b1d2'), Move.from_uci('d7b6'), Move.from_uci('h6g7'), Move.from_uci('e7f6'), Move.from_uci('g7f7')]\n"
          ]
        }
      ],
      "source": [
        "print(board.move_stack)"
      ]
    },
    {
      "cell_type": "code",
      "execution_count": null,
      "metadata": {
        "id": "G5Oh61i3RIci",
        "colab": {
          "base_uri": "https://localhost:8080/"
        },
        "outputId": "7ff89706-0bb6-4bf9-926d-ad5fc4d04a15"
      },
      "outputs": [
        {
          "output_type": "stream",
          "name": "stdout",
          "text": [
            "[Move.from_uci('e2e4'), Move.from_uci('e7e5'), Move.from_uci('g1f3'), Move.from_uci('b8c6'), Move.from_uci('f1b5'), Move.from_uci('a7a6'), Move.from_uci('b5a4'), Move.from_uci('g8f6'), Move.from_uci('e1g1'), Move.from_uci('f8e7'), Move.from_uci('f1e1'), Move.from_uci('b7b5'), Move.from_uci('a4b3'), Move.from_uci('d7d6'), Move.from_uci('c2c3'), Move.from_uci('c8b7'), Move.from_uci('a2a4'), Move.from_uci('c6a5'), Move.from_uci('b3c2'), Move.from_uci('c7c5'), Move.from_uci('d2d4'), Move.from_uci('f6d7'), Move.from_uci('d1e2'), Move.from_uci('c5d4'), Move.from_uci('a4b5'), Move.from_uci('a6b5'), Move.from_uci('c3d4'), Move.from_uci('e5d4'), Move.from_uci('e2b5'), Move.from_uci('b7c6'), Move.from_uci('b5h5'), Move.from_uci('g7g6'), Move.from_uci('h5h6'), Move.from_uci('d4d3'), Move.from_uci('c2d3'), Move.from_uci('a5b3'), Move.from_uci('a1a8'), Move.from_uci('c6a8'), Move.from_uci('c1e3'), Move.from_uci('a8c6'), Move.from_uci('d3c4'), Move.from_uci('b3d2'), Move.from_uci('b1d2'), Move.from_uci('d7b6'), Move.from_uci('h6g7'), Move.from_uci('e7f6'), Move.from_uci('g7f7')]\n"
          ]
        }
      ],
      "source": [
        "moves = []\n",
        "for move in board.move_stack:\n",
        "    moves.append(move)\n",
        "print(moves)"
      ]
    },
    {
      "cell_type": "code",
      "execution_count": null,
      "metadata": {
        "id": "7dpuyoqQRKhQ"
      },
      "outputs": [],
      "source": [
        "game_length = len(moves)\n",
        "now = datetime.datetime.now()\n",
        "now = now.strftime(\"%H:%M %B %d, %Y\")"
      ]
    },
    {
      "cell_type": "code",
      "execution_count": null,
      "metadata": {
        "id": "6ZehxRpcRRur"
      },
      "outputs": [],
      "source": [
        "generate_pgn_file(moves, PGN_FILE_PATH + 'game-' + now + '.pgn')"
      ]
    },
    {
      "cell_type": "code",
      "source": [
        "convert_all(TEMP_PATH)\n",
        "PATH = TEMP_PATH\n",
        "images_list = []\n",
        "for image_number in range(game_length):\n",
        "    file_path = os.path.join(PATH, \"image-move-\" + str(image_number) + \".png\")\n",
        "    images_list.append(imageio.imread(file_path))"
      ],
      "metadata": {
        "id": "g6hiq5Cw0cHG"
      },
      "execution_count": null,
      "outputs": []
    },
    {
      "cell_type": "code",
      "source": [
        "imageio.mimsave(GIF_FILE_PATH + 'game-' + now + '.gif', images_list, duration=0.4)"
      ],
      "metadata": {
        "id": "StJVyH1s_rvX"
      },
      "execution_count": null,
      "outputs": []
    },
    {
      "cell_type": "markdown",
      "source": [
        "# Test 4 Testing the Time Performance of the Tree"
      ],
      "metadata": {
        "id": "9qgk6L0qTZpC"
      }
    },
    {
      "cell_type": "code",
      "source": [
        "strategy = tf.distribute.MirroredStrategy()\n",
        "with strategy.scope():\n",
        "    base_model = load_my_model('after_puzzles_' + \"BASE\")\n",
        "    move_models = {}\n",
        "    for piece in ARRAY_PIECE:\n",
        "        move_models[piece] = load_my_model('after_puzzles_' + PIECE_TO_WORD[piece])\n",
        "\n",
        "model_cpu = {'base_model':base_model, 'move_models':move_models}"
      ],
      "metadata": {
        "id": "FGx1RanDTk2i"
      },
      "execution_count": null,
      "outputs": []
    },
    {
      "cell_type": "code",
      "source": [
        "engine = chess.engine.SimpleEngine.popen_uci(\"/content/drive/MyDrive/Chess_data/models/stockfish-ubuntu-x86-64-avx2\")"
      ],
      "metadata": {
        "id": "xoOUcyG5TnHY"
      },
      "execution_count": null,
      "outputs": []
    },
    {
      "cell_type": "code",
      "source": [
        "clear_cache()"
      ],
      "metadata": {
        "id": "ep__l3xSkaVb"
      },
      "execution_count": null,
      "outputs": []
    },
    {
      "cell_type": "code",
      "source": [
        "board = chess.Board()\n",
        "board.set_fen('NR5r/3P1rpk/2n2P1p/pnP1Qq2/P1RPbP1N/BP1B1pKP/p1pp3p/b7 w - - 0 1')\n",
        "\n",
        "start = datetime.datetime.now()\n",
        "print(find_best_move_special(board, 3, 3, 6, 0.1))\n",
        "end = datetime.datetime.now()\n",
        "\n",
        "print((end - start).total_seconds())"
      ],
      "metadata": {
        "colab": {
          "base_uri": "https://localhost:8080/"
        },
        "id": "wc8vwQHikbmu",
        "outputId": "6264b679-f607-45e6-99d3-51249a7d52f4"
      },
      "execution_count": null,
      "outputs": [
        {
          "output_type": "stream",
          "name": "stdout",
          "text": [
            "[(inf, 'e5f5'), (684, 'e5e4'), (-570, 'd3c2')]\n",
            "-903 e5f5\n",
            "inf e5e4\n",
            "-1021 d3c2\n",
            "e5e4\n",
            "17.561779\n"
          ]
        }
      ]
    },
    {
      "cell_type": "code",
      "source": [
        "clear_cache()"
      ],
      "metadata": {
        "id": "Acnyx3ZqkdJU"
      },
      "execution_count": null,
      "outputs": []
    },
    {
      "cell_type": "code",
      "source": [
        "board = chess.Board()\n",
        "board.set_fen('NR5r/3P1rpk/2n2P1p/pnP1Qq2/P1RPbP1N/BP1B1pKP/p1pp3p/b7 w - - 0 1')\n",
        "\n",
        "start = datetime.datetime.now()\n",
        "print(find_best_move_special(board, 4, 4, 6, 0.1))\n",
        "end = datetime.datetime.now()\n",
        "\n",
        "print((end - start).total_seconds())"
      ],
      "metadata": {
        "colab": {
          "base_uri": "https://localhost:8080/"
        },
        "id": "q3I6l0TZkdAD",
        "outputId": "f6b2f01f-7dc5-4454-d30f-01f7504057e2"
      },
      "execution_count": null,
      "outputs": [
        {
          "output_type": "stream",
          "name": "stdout",
          "text": [
            "[(inf, 'e5f5'), (882, 'd3e4'), (556, 'e5e4'), (-560, 'd3c2')]\n",
            "0 e5f5\n",
            "975 d3e4\n",
            "inf e5e4\n",
            "-697 d3c2\n",
            "e5e4\n",
            "52.40738\n"
          ]
        }
      ]
    },
    {
      "cell_type": "code",
      "source": [],
      "metadata": {
        "id": "RJ7YGhbKklbS"
      },
      "execution_count": null,
      "outputs": []
    },
    {
      "cell_type": "markdown",
      "source": [
        "# Test 5 The Model vs Stockfish with Multiple ELO"
      ],
      "metadata": {
        "id": "_xwrsrAQjrS4"
      }
    },
    {
      "cell_type": "code",
      "source": [
        "stockfish = Stockfish(path=STOCKFISH_PATH)\n",
        "stockfish.set_depth(15)"
      ],
      "metadata": {
        "id": "n5LdE1sukCbS"
      },
      "execution_count": null,
      "outputs": []
    },
    {
      "cell_type": "code",
      "source": [
        "base_model = load_my_model(\"after_puzzles_\" + \"BASE\" + \"2\")\n",
        "move_models = {}\n",
        "for piece in ARRAY_PIECE:\n",
        "    move_models[piece] = load_my_model('after_puzzles_' + PIECE_TO_WORD[piece] + '2')"
      ],
      "metadata": {
        "id": "3QXs_JNHlPaH"
      },
      "execution_count": null,
      "outputs": []
    },
    {
      "cell_type": "code",
      "source": [
        "stockfish.set_elo_rating(2000)"
      ],
      "metadata": {
        "id": "1oSYd1bwl7J3"
      },
      "execution_count": null,
      "outputs": []
    },
    {
      "cell_type": "code",
      "source": [
        "engine = chess.engine.SimpleEngine.popen_uci(STOCKFISH_PATH)"
      ],
      "metadata": {
        "id": "R9CIQtHvtzXv"
      },
      "execution_count": null,
      "outputs": []
    },
    {
      "cell_type": "code",
      "source": [
        "start_fen = 'r2qk2r/1bp1bppp/p1np1n2/1p2p3/4P3/1B1P1N2/PPP2PPP/RNBQR1K1 w kq - 0 9'"
      ],
      "metadata": {
        "id": "G8Ojt1j2s-P3"
      },
      "execution_count": null,
      "outputs": []
    },
    {
      "cell_type": "code",
      "source": [
        "board = chess.Board()\n",
        "board.set_fen(start_fen)\n",
        "game_length = 100\n",
        "counter = 1\n",
        "moves = []\n",
        "model_cpu = {'base_model':base_model, 'move_models':move_models}\n",
        "\n",
        "html = display_board(board, True)\n",
        "save_svg(html, TEMP_PATH + \"image-move-\" + str(0) + \".svg\")\n",
        "clear_output(wait = True)\n",
        "display(HTML(html))\n",
        "\n",
        "for i in range(game_length):\n",
        "    if i % 2 == 1:\n",
        "      stockfish.set_fen_position(board.fen())\n",
        "      move = stockfish.get_best_move(2000)\n",
        "      print(move, 'stockfish')\n",
        "    else:\n",
        "      move = decide(board, K_FROM, EVAL_TIME_LIMIT)\n",
        "      print(move, 'my model')\n",
        "\n",
        "    move = chess.Move.from_uci(move)\n",
        "    moves.append(move)\n",
        "    display(board)\n",
        "    board.push(move)\n",
        "\n",
        "    html = display_board(board, True)\n",
        "    save_svg(html, TEMP_PATH + \"image-move-\" + str(i + 1) + \".svg\")\n",
        "    clear_output(wait = True)\n",
        "    display(HTML(html))\n",
        "    sleep(0.2)\n",
        "    print('cache_hit', cache_hit)\n",
        "    print('cache_called', cache_called)\n",
        "\n",
        "    if board.is_game_over():\n",
        "        break"
      ],
      "metadata": {
        "colab": {
          "base_uri": "https://localhost:8080/",
          "height": 446
        },
        "id": "17vCbVBxlHoW",
        "outputId": "e54662a5-a6cf-4d78-9bd2-1665169de5f8"
      },
      "execution_count": null,
      "outputs": [
        {
          "output_type": "display_data",
          "data": {
            "text/plain": [
              "<IPython.core.display.HTML object>"
            ],
            "text/html": [
              "<svg xmlns=\"http://www.w3.org/2000/svg\" xmlns:xlink=\"http://www.w3.org/1999/xlink\" viewBox=\"0 0 390 390\" width=\"390\" height=\"390\"><desc><pre>. . . . . . . k\n",
              ". . . . . p . p\n",
              ". . . . . . . .\n",
              "p . . . . . . .\n",
              ". . . . . . p .\n",
              ". p . . . . P .\n",
              ". . . . . P K P\n",
              ". . q . . q . .</pre></desc><defs><g id=\"white-pawn\" class=\"white pawn\"><path d=\"M22.5 9c-2.21 0-4 1.79-4 4 0 .89.29 1.71.78 2.38C17.33 16.5 16 18.59 16 21c0 2.03.94 3.84 2.41 5.03-3 1.06-7.41 5.55-7.41 13.47h23c0-7.92-4.41-12.41-7.41-13.47 1.47-1.19 2.41-3 2.41-5.03 0-2.41-1.33-4.5-3.28-5.62.49-.67.78-1.49.78-2.38 0-2.21-1.79-4-4-4z\" fill=\"#fff\" stroke=\"#000\" stroke-width=\"1.5\" stroke-linecap=\"round\" /></g><g id=\"white-king\" class=\"white king\" fill=\"none\" fill-rule=\"evenodd\" stroke=\"#000\" stroke-width=\"1.5\" stroke-linecap=\"round\" stroke-linejoin=\"round\"><path d=\"M22.5 11.63V6M20 8h5\" stroke-linejoin=\"miter\" /><path d=\"M22.5 25s4.5-7.5 3-10.5c0 0-1-2.5-3-2.5s-3 2.5-3 2.5c-1.5 3 3 10.5 3 10.5\" fill=\"#fff\" stroke-linecap=\"butt\" stroke-linejoin=\"miter\" /><path d=\"M11.5 37c5.5 3.5 15.5 3.5 21 0v-7s9-4.5 6-10.5c-4-6.5-13.5-3.5-16 4V27v-3.5c-3.5-7.5-13-10.5-16-4-3 6 5 10 5 10V37z\" fill=\"#fff\" /><path d=\"M11.5 30c5.5-3 15.5-3 21 0m-21 3.5c5.5-3 15.5-3 21 0m-21 3.5c5.5-3 15.5-3 21 0\" /></g><g id=\"black-pawn\" class=\"black pawn\"><path d=\"M22.5 9c-2.21 0-4 1.79-4 4 0 .89.29 1.71.78 2.38C17.33 16.5 16 18.59 16 21c0 2.03.94 3.84 2.41 5.03-3 1.06-7.41 5.55-7.41 13.47h23c0-7.92-4.41-12.41-7.41-13.47 1.47-1.19 2.41-3 2.41-5.03 0-2.41-1.33-4.5-3.28-5.62.49-.67.78-1.49.78-2.38 0-2.21-1.79-4-4-4z\" fill=\"#000\" stroke=\"#000\" stroke-width=\"1.5\" stroke-linecap=\"round\" /></g><g id=\"black-queen\" class=\"black queen\" fill=\"#000\" fill-rule=\"evenodd\" stroke=\"#000\" stroke-width=\"1.5\" stroke-linecap=\"round\" stroke-linejoin=\"round\"><g fill=\"#000\" stroke=\"none\"><circle cx=\"6\" cy=\"12\" r=\"2.75\" /><circle cx=\"14\" cy=\"9\" r=\"2.75\" /><circle cx=\"22.5\" cy=\"8\" r=\"2.75\" /><circle cx=\"31\" cy=\"9\" r=\"2.75\" /><circle cx=\"39\" cy=\"12\" r=\"2.75\" /></g><path d=\"M9 26c8.5-1.5 21-1.5 27 0l2.5-12.5L31 25l-.3-14.1-5.2 13.6-3-14.5-3 14.5-5.2-13.6L14 25 6.5 13.5 9 26zM9 26c0 2 1.5 2 2.5 4 1 1.5 1 1 .5 3.5-1.5 1-1.5 2.5-1.5 2.5-1.5 1.5.5 2.5.5 2.5 6.5 1 16.5 1 23 0 0 0 1.5-1 0-2.5 0 0 .5-1.5-1-2.5-.5-2.5-.5-2 .5-3.5 1-2 2.5-2 2.5-4-8.5-1.5-18.5-1.5-27 0z\" stroke-linecap=\"butt\" /><path d=\"M11 38.5a35 35 1 0 0 23 0\" fill=\"none\" stroke-linecap=\"butt\" /><path d=\"M11 29a35 35 1 0 1 23 0M12.5 31.5h20M11.5 34.5a35 35 1 0 0 22 0M10.5 37.5a35 35 1 0 0 24 0\" fill=\"none\" stroke=\"#fff\" /></g><g id=\"black-king\" class=\"black king\" fill=\"none\" fill-rule=\"evenodd\" stroke=\"#000\" stroke-width=\"1.5\" stroke-linecap=\"round\" stroke-linejoin=\"round\"><path d=\"M22.5 11.63V6\" stroke-linejoin=\"miter\" /><path d=\"M22.5 25s4.5-7.5 3-10.5c0 0-1-2.5-3-2.5s-3 2.5-3 2.5c-1.5 3 3 10.5 3 10.5\" fill=\"#000\" stroke-linecap=\"butt\" stroke-linejoin=\"miter\" /><path d=\"M11.5 37c5.5 3.5 15.5 3.5 21 0v-7s9-4.5 6-10.5c-4-6.5-13.5-3.5-16 4V27v-3.5c-3.5-7.5-13-10.5-16-4-3 6 5 10 5 10V37z\" fill=\"#000\" /><path d=\"M20 8h5\" stroke-linejoin=\"miter\" /><path d=\"M32 29.5s8.5-4 6.03-9.65C34.15 14 25 18 22.5 24.5l.01 2.1-.01-2.1C20 18 9.906 14 6.997 19.85c-2.497 5.65 4.853 9 4.853 9M11.5 30c5.5-3 15.5-3 21 0m-21 3.5c5.5-3 15.5-3 21 0m-21 3.5c5.5-3 15.5-3 21 0\" stroke=\"#fff\" /></g><radialGradient id=\"check_gradient\" r=\"0.5\"><stop offset=\"0%\" stop-color=\"#ff0000\" stop-opacity=\"1.0\" /><stop offset=\"50%\" stop-color=\"#e70000\" stop-opacity=\"1.0\" /><stop offset=\"100%\" stop-color=\"#9e0000\" stop-opacity=\"0.0\" /></radialGradient></defs><rect x=\"7.5\" y=\"7.5\" width=\"375\" height=\"375\" fill=\"none\" stroke=\"#212121\" stroke-width=\"15\" /><g transform=\"translate(20, 1) scale(0.75, 0.75)\" fill=\"#e5e5e5\" stroke=\"#e5e5e5\"><path d=\"M23.328 10.016q-1.742 0-2.414.398-.672.398-.672 1.36 0 .765.5 1.218.508.445 1.375.445 1.196 0 1.914-.843.727-.852.727-2.258v-.32zm2.867-.594v4.992h-1.437v-1.328q-.492.797-1.227 1.18-.734.375-1.797.375-1.343 0-2.14-.75-.79-.758-.79-2.024 0-1.476.985-2.226.992-.75 2.953-.75h2.016V8.75q0-.992-.656-1.531-.649-.547-1.829-.547-.75 0-1.46.18-.711.18-1.368.539V6.062q.79-.304 1.532-.453.742-.156 1.445-.156 1.898 0 2.836.984.937.985.937 2.985z\" /></g><g transform=\"translate(20, 375) scale(0.75, 0.75)\" fill=\"#e5e5e5\" stroke=\"#e5e5e5\"><path d=\"M23.328 10.016q-1.742 0-2.414.398-.672.398-.672 1.36 0 .765.5 1.218.508.445 1.375.445 1.196 0 1.914-.843.727-.852.727-2.258v-.32zm2.867-.594v4.992h-1.437v-1.328q-.492.797-1.227 1.18-.734.375-1.797.375-1.343 0-2.14-.75-.79-.758-.79-2.024 0-1.476.985-2.226.992-.75 2.953-.75h2.016V8.75q0-.992-.656-1.531-.649-.547-1.829-.547-.75 0-1.46.18-.711.18-1.368.539V6.062q.79-.304 1.532-.453.742-.156 1.445-.156 1.898 0 2.836.984.937.985.937 2.985z\" /></g><g transform=\"translate(65, 1) scale(0.75, 0.75)\" fill=\"#e5e5e5\" stroke=\"#e5e5e5\"><path d=\"M24.922 10.047q0-1.586-.656-2.485-.649-.906-1.79-.906-1.14 0-1.796.906-.649.899-.649 2.485 0 1.586.649 2.492.656.898 1.797.898 1.14 0 1.789-.898.656-.906.656-2.492zm-4.89-3.055q.452-.781 1.14-1.156.695-.383 1.656-.383 1.594 0 2.586 1.266 1 1.265 1 3.328 0 2.062-1 3.328-.992 1.266-2.586 1.266-.96 0-1.656-.375-.688-.383-1.14-1.164v1.312h-1.446V2.258h1.445z\" /></g><g transform=\"translate(65, 375) scale(0.75, 0.75)\" fill=\"#e5e5e5\" stroke=\"#e5e5e5\"><path d=\"M24.922 10.047q0-1.586-.656-2.485-.649-.906-1.79-.906-1.14 0-1.796.906-.649.899-.649 2.485 0 1.586.649 2.492.656.898 1.797.898 1.14 0 1.789-.898.656-.906.656-2.492zm-4.89-3.055q.452-.781 1.14-1.156.695-.383 1.656-.383 1.594 0 2.586 1.266 1 1.265 1 3.328 0 2.062-1 3.328-.992 1.266-2.586 1.266-.96 0-1.656-.375-.688-.383-1.14-1.164v1.312h-1.446V2.258h1.445z\" /></g><g transform=\"translate(110, 1) scale(0.75, 0.75)\" fill=\"#e5e5e5\" stroke=\"#e5e5e5\"><path d=\"M25.96 6v1.344q-.608-.336-1.226-.5-.609-.172-1.234-.172-1.398 0-2.172.89-.773.883-.773 2.485 0 1.601.773 2.492.774.883 2.172.883.625 0 1.234-.164.618-.172 1.227-.508v1.328q-.602.281-1.25.422-.64.14-1.367.14-1.977 0-3.14-1.242-1.165-1.242-1.165-3.351 0-2.14 1.172-3.367 1.18-1.227 3.227-1.227.664 0 1.296.14.633.134 1.227.407z\" /></g><g transform=\"translate(110, 375) scale(0.75, 0.75)\" fill=\"#e5e5e5\" stroke=\"#e5e5e5\"><path d=\"M25.96 6v1.344q-.608-.336-1.226-.5-.609-.172-1.234-.172-1.398 0-2.172.89-.773.883-.773 2.485 0 1.601.773 2.492.774.883 2.172.883.625 0 1.234-.164.618-.172 1.227-.508v1.328q-.602.281-1.25.422-.64.14-1.367.14-1.977 0-3.14-1.242-1.165-1.242-1.165-3.351 0-2.14 1.172-3.367 1.18-1.227 3.227-1.227.664 0 1.296.14.633.134 1.227.407z\" /></g><g transform=\"translate(155, 1) scale(0.75, 0.75)\" fill=\"#e5e5e5\" stroke=\"#e5e5e5\"><path d=\"M24.973 6.992V2.258h1.437v12.156h-1.437v-1.312q-.453.78-1.149 1.164-.687.375-1.656.375-1.586 0-2.586-1.266-.992-1.266-.992-3.328 0-2.063.992-3.328 1-1.266 2.586-1.266.969 0 1.656.383.696.375 1.149 1.156zm-4.899 3.055q0 1.586.649 2.492.656.898 1.797.898 1.14 0 1.796-.898.657-.906.657-2.492 0-1.586-.657-2.485-.656-.906-1.796-.906-1.141 0-1.797.906-.649.899-.649 2.485z\" /></g><g transform=\"translate(155, 375) scale(0.75, 0.75)\" fill=\"#e5e5e5\" stroke=\"#e5e5e5\"><path d=\"M24.973 6.992V2.258h1.437v12.156h-1.437v-1.312q-.453.78-1.149 1.164-.687.375-1.656.375-1.586 0-2.586-1.266-.992-1.266-.992-3.328 0-2.063.992-3.328 1-1.266 2.586-1.266.969 0 1.656.383.696.375 1.149 1.156zm-4.899 3.055q0 1.586.649 2.492.656.898 1.797.898 1.14 0 1.796-.898.657-.906.657-2.492 0-1.586-.657-2.485-.656-.906-1.796-.906-1.141 0-1.797.906-.649.899-.649 2.485z\" /></g><g transform=\"translate(200, 1) scale(0.75, 0.75)\" fill=\"#e5e5e5\" stroke=\"#e5e5e5\"><path d=\"M26.555 9.68v.703h-6.61q.094 1.484.89 2.265.806.774 2.235.774.828 0 1.602-.203.781-.203 1.547-.61v1.36q-.774.328-1.586.5-.813.172-1.649.172-2.093 0-3.32-1.22-1.219-1.218-1.219-3.296 0-2.148 1.157-3.406 1.164-1.266 3.132-1.266 1.766 0 2.79 1.14 1.03 1.134 1.03 3.087zm-1.438-.422q-.015-1.18-.664-1.883-.64-.703-1.703-.703-1.203 0-1.93.68-.718.68-.828 1.914z\" /></g><g transform=\"translate(200, 375) scale(0.75, 0.75)\" fill=\"#e5e5e5\" stroke=\"#e5e5e5\"><path d=\"M26.555 9.68v.703h-6.61q.094 1.484.89 2.265.806.774 2.235.774.828 0 1.602-.203.781-.203 1.547-.61v1.36q-.774.328-1.586.5-.813.172-1.649.172-2.093 0-3.32-1.22-1.219-1.218-1.219-3.296 0-2.148 1.157-3.406 1.164-1.266 3.132-1.266 1.766 0 2.79 1.14 1.03 1.134 1.03 3.087zm-1.438-.422q-.015-1.18-.664-1.883-.64-.703-1.703-.703-1.203 0-1.93.68-.718.68-.828 1.914z\" /></g><g transform=\"translate(245, 1) scale(0.75, 0.75)\" fill=\"#e5e5e5\" stroke=\"#e5e5e5\"><path d=\"M25.285 2.258v1.195H23.91q-.773 0-1.078.313-.297.312-.297 1.125v.773h2.367v1.117h-2.367v7.633H21.09V6.781h-1.375V5.664h1.375v-.61q0-1.46.68-2.124.68-.672 2.156-.672z\" /></g><g transform=\"translate(245, 375) scale(0.75, 0.75)\" fill=\"#e5e5e5\" stroke=\"#e5e5e5\"><path d=\"M25.285 2.258v1.195H23.91q-.773 0-1.078.313-.297.312-.297 1.125v.773h2.367v1.117h-2.367v7.633H21.09V6.781h-1.375V5.664h1.375v-.61q0-1.46.68-2.124.68-.672 2.156-.672z\" /></g><g transform=\"translate(290, 1) scale(0.75, 0.75)\" fill=\"#e5e5e5\" stroke=\"#e5e5e5\"><path d=\"M24.973 9.937q0-1.562-.649-2.421-.64-.86-1.804-.86-1.157 0-1.805.86-.64.859-.64 2.421 0 1.555.64 2.415.648.859 1.805.859 1.164 0 1.804-.86.649-.859.649-2.414zm1.437 3.391q0 2.234-.992 3.32-.992 1.094-3.04 1.094-.757 0-1.429-.117-.672-.11-1.304-.344v-1.398q.632.344 1.25.508.617.164 1.257.164 1.414 0 2.118-.743.703-.734.703-2.226v-.711q-.446.773-1.141 1.156-.695.383-1.664.383-1.61 0-2.594-1.227-.984-1.226-.984-3.25 0-2.03.984-3.257.985-1.227 2.594-1.227.969 0 1.664.383t1.14 1.156V5.664h1.438z\" /></g><g transform=\"translate(290, 375) scale(0.75, 0.75)\" fill=\"#e5e5e5\" stroke=\"#e5e5e5\"><path d=\"M24.973 9.937q0-1.562-.649-2.421-.64-.86-1.804-.86-1.157 0-1.805.86-.64.859-.64 2.421 0 1.555.64 2.415.648.859 1.805.859 1.164 0 1.804-.86.649-.859.649-2.414zm1.437 3.391q0 2.234-.992 3.32-.992 1.094-3.04 1.094-.757 0-1.429-.117-.672-.11-1.304-.344v-1.398q.632.344 1.25.508.617.164 1.257.164 1.414 0 2.118-.743.703-.734.703-2.226v-.711q-.446.773-1.141 1.156-.695.383-1.664.383-1.61 0-2.594-1.227-.984-1.226-.984-3.25 0-2.03.984-3.257.985-1.227 2.594-1.227.969 0 1.664.383t1.14 1.156V5.664h1.438z\" /></g><g transform=\"translate(335, 1) scale(0.75, 0.75)\" fill=\"#e5e5e5\" stroke=\"#e5e5e5\"><path d=\"M26.164 9.133v5.281h-1.437V9.18q0-1.243-.485-1.86-.484-.617-1.453-.617-1.164 0-1.836.742-.672.742-.672 2.024v4.945h-1.445V2.258h1.445v4.765q.516-.789 1.211-1.18.703-.39 1.617-.39 1.508 0 2.282.938.773.93.773 2.742z\" /></g><g transform=\"translate(335, 375) scale(0.75, 0.75)\" fill=\"#e5e5e5\" stroke=\"#e5e5e5\"><path d=\"M26.164 9.133v5.281h-1.437V9.18q0-1.243-.485-1.86-.484-.617-1.453-.617-1.164 0-1.836.742-.672.742-.672 2.024v4.945h-1.445V2.258h1.445v4.765q.516-.789 1.211-1.18.703-.39 1.617-.39 1.508 0 2.282.938.773.93.773 2.742z\" /></g><g transform=\"translate(0, 335) scale(0.75, 0.75)\" fill=\"#e5e5e5\" stroke=\"#e5e5e5\"><path d=\"M6.754 26.996h2.578v-8.898l-2.805.562v-1.437l2.79-.563h1.578v10.336h2.578v1.328h-6.72z\" /></g><g transform=\"translate(375, 335) scale(0.75, 0.75)\" fill=\"#e5e5e5\" stroke=\"#e5e5e5\"><path d=\"M6.754 26.996h2.578v-8.898l-2.805.562v-1.437l2.79-.563h1.578v10.336h2.578v1.328h-6.72z\" /></g><g transform=\"translate(0, 290) scale(0.75, 0.75)\" fill=\"#e5e5e5\" stroke=\"#e5e5e5\"><path d=\"M8.195 26.996h5.508v1.328H6.297v-1.328q.898-.93 2.445-2.492 1.555-1.57 1.953-2.024.758-.851 1.055-1.437.305-.594.305-1.164 0-.93-.657-1.516-.648-.586-1.695-.586-.742 0-1.57.258-.82.258-1.758.781v-1.593q.953-.383 1.781-.578.828-.196 1.516-.196 1.812 0 2.89.906 1.079.907 1.079 2.422 0 .72-.274 1.368-.265.64-.976 1.515-.196.227-1.243 1.313-1.046 1.078-2.953 3.023z\" /></g><g transform=\"translate(375, 290) scale(0.75, 0.75)\" fill=\"#e5e5e5\" stroke=\"#e5e5e5\"><path d=\"M8.195 26.996h5.508v1.328H6.297v-1.328q.898-.93 2.445-2.492 1.555-1.57 1.953-2.024.758-.851 1.055-1.437.305-.594.305-1.164 0-.93-.657-1.516-.648-.586-1.695-.586-.742 0-1.57.258-.82.258-1.758.781v-1.593q.953-.383 1.781-.578.828-.196 1.516-.196 1.812 0 2.89.906 1.079.907 1.079 2.422 0 .72-.274 1.368-.265.64-.976 1.515-.196.227-1.243 1.313-1.046 1.078-2.953 3.023z\" /></g><g transform=\"translate(0, 245) scale(0.75, 0.75)\" fill=\"#e5e5e5\" stroke=\"#e5e5e5\"><path d=\"M11.434 22.035q1.132.242 1.765 1.008.64.766.64 1.89 0 1.727-1.187 2.672-1.187.946-3.375.946-.734 0-1.515-.149-.774-.14-1.602-.43V26.45q.656.383 1.438.578.78.196 1.632.196 1.485 0 2.258-.586.782-.586.782-1.703 0-1.032-.727-1.61-.719-.586-2.008-.586h-1.36v-1.297h1.423q1.164 0 1.78-.46.618-.47.618-1.344 0-.899-.64-1.375-.633-.485-1.82-.485-.65 0-1.391.141-.743.14-1.633.437V16.95q.898-.25 1.68-.375.788-.125 1.484-.125 1.797 0 2.844.82 1.046.813 1.046 2.204 0 .968-.554 1.64-.555.664-1.578.922z\" /></g><g transform=\"translate(375, 245) scale(0.75, 0.75)\" fill=\"#e5e5e5\" stroke=\"#e5e5e5\"><path d=\"M11.434 22.035q1.132.242 1.765 1.008.64.766.64 1.89 0 1.727-1.187 2.672-1.187.946-3.375.946-.734 0-1.515-.149-.774-.14-1.602-.43V26.45q.656.383 1.438.578.78.196 1.632.196 1.485 0 2.258-.586.782-.586.782-1.703 0-1.032-.727-1.61-.719-.586-2.008-.586h-1.36v-1.297h1.423q1.164 0 1.78-.46.618-.47.618-1.344 0-.899-.64-1.375-.633-.485-1.82-.485-.65 0-1.391.141-.743.14-1.633.437V16.95q.898-.25 1.68-.375.788-.125 1.484-.125 1.797 0 2.844.82 1.046.813 1.046 2.204 0 .968-.554 1.64-.555.664-1.578.922z\" /></g><g transform=\"translate(0, 200) scale(0.75, 0.75)\" fill=\"#e5e5e5\" stroke=\"#e5e5e5\"><path d=\"M11.016 18.035L7.03 24.262h3.985zm-.414-1.375h1.984v7.602h1.664v1.312h-1.664v2.75h-1.57v-2.75H5.75v-1.523z\" /></g><g transform=\"translate(375, 200) scale(0.75, 0.75)\" fill=\"#e5e5e5\" stroke=\"#e5e5e5\"><path d=\"M11.016 18.035L7.03 24.262h3.985zm-.414-1.375h1.984v7.602h1.664v1.312h-1.664v2.75h-1.57v-2.75H5.75v-1.523z\" /></g><g transform=\"translate(0, 155) scale(0.75, 0.75)\" fill=\"#e5e5e5\" stroke=\"#e5e5e5\"><path d=\"M6.719 16.66h6.195v1.328h-4.75v2.86q.344-.118.688-.172.343-.063.687-.063 1.953 0 3.094 1.07 1.14 1.07 1.14 2.899 0 1.883-1.171 2.93-1.172 1.039-3.305 1.039-.735 0-1.5-.125-.758-.125-1.57-.375v-1.586q.703.383 1.453.57.75.188 1.586.188 1.351 0 2.14-.711.79-.711.79-1.93 0-1.219-.79-1.93-.789-.71-2.14-.71-.633 0-1.266.14-.625.14-1.281.438z\" /></g><g transform=\"translate(375, 155) scale(0.75, 0.75)\" fill=\"#e5e5e5\" stroke=\"#e5e5e5\"><path d=\"M6.719 16.66h6.195v1.328h-4.75v2.86q.344-.118.688-.172.343-.063.687-.063 1.953 0 3.094 1.07 1.14 1.07 1.14 2.899 0 1.883-1.171 2.93-1.172 1.039-3.305 1.039-.735 0-1.5-.125-.758-.125-1.57-.375v-1.586q.703.383 1.453.57.75.188 1.586.188 1.351 0 2.14-.711.79-.711.79-1.93 0-1.219-.79-1.93-.789-.71-2.14-.71-.633 0-1.266.14-.625.14-1.281.438z\" /></g><g transform=\"translate(0, 110) scale(0.75, 0.75)\" fill=\"#e5e5e5\" stroke=\"#e5e5e5\"><path d=\"M10.137 21.863q-1.063 0-1.688.727-.617.726-.617 1.992 0 1.258.617 1.992.625.727 1.688.727 1.062 0 1.68-.727.624-.734.624-1.992 0-1.266-.625-1.992-.617-.727-1.68-.727zm3.133-4.945v1.437q-.594-.28-1.204-.43-.601-.148-1.195-.148-1.562 0-2.39 1.055-.82 1.055-.938 3.188.46-.68 1.156-1.04.696-.367 1.531-.367 1.758 0 2.774 1.07 1.023 1.063 1.023 2.899 0 1.797-1.062 2.883-1.063 1.086-2.828 1.086-2.024 0-3.094-1.547-1.07-1.555-1.07-4.5 0-2.766 1.312-4.406 1.313-1.649 3.524-1.649.593 0 1.195.117.61.118 1.266.352z\" /></g><g transform=\"translate(375, 110) scale(0.75, 0.75)\" fill=\"#e5e5e5\" stroke=\"#e5e5e5\"><path d=\"M10.137 21.863q-1.063 0-1.688.727-.617.726-.617 1.992 0 1.258.617 1.992.625.727 1.688.727 1.062 0 1.68-.727.624-.734.624-1.992 0-1.266-.625-1.992-.617-.727-1.68-.727zm3.133-4.945v1.437q-.594-.28-1.204-.43-.601-.148-1.195-.148-1.562 0-2.39 1.055-.82 1.055-.938 3.188.46-.68 1.156-1.04.696-.367 1.531-.367 1.758 0 2.774 1.07 1.023 1.063 1.023 2.899 0 1.797-1.062 2.883-1.063 1.086-2.828 1.086-2.024 0-3.094-1.547-1.07-1.555-1.07-4.5 0-2.766 1.312-4.406 1.313-1.649 3.524-1.649.593 0 1.195.117.61.118 1.266.352z\" /></g><g transform=\"translate(0, 65) scale(0.75, 0.75)\" fill=\"#e5e5e5\" stroke=\"#e5e5e5\"><path d=\"M6.25 16.66h7.5v.672L9.516 28.324H7.867l3.985-10.336H6.25z\" /></g><g transform=\"translate(375, 65) scale(0.75, 0.75)\" fill=\"#e5e5e5\" stroke=\"#e5e5e5\"><path d=\"M6.25 16.66h7.5v.672L9.516 28.324H7.867l3.985-10.336H6.25z\" /></g><g transform=\"translate(0, 20) scale(0.75, 0.75)\" fill=\"#e5e5e5\" stroke=\"#e5e5e5\"><path d=\"M10 22.785q-1.125 0-1.773.602-.641.601-.641 1.656t.64 1.656q.649.602 1.774.602t1.773-.602q.649-.61.649-1.656 0-1.055-.649-1.656-.64-.602-1.773-.602zm-1.578-.672q-1.016-.25-1.586-.945-.563-.695-.563-1.695 0-1.399.993-2.211 1-.813 2.734-.813 1.742 0 2.734.813.993.812.993 2.21 0 1-.57 1.696-.563.695-1.571.945 1.14.266 1.773 1.04.641.773.641 1.89 0 1.695-1.04 2.602-1.03.906-2.96.906t-2.969-.906Q6 26.738 6 25.043q0-1.117.64-1.89.641-.774 1.782-1.04zm-.578-2.492q0 .906.562 1.414.57.508 1.594.508 1.016 0 1.586-.508.578-.508.578-1.414 0-.906-.578-1.414-.57-.508-1.586-.508-1.023 0-1.594.508-.562.508-.562 1.414z\" /></g><g transform=\"translate(375, 20) scale(0.75, 0.75)\" fill=\"#e5e5e5\" stroke=\"#e5e5e5\"><path d=\"M10 22.785q-1.125 0-1.773.602-.641.601-.641 1.656t.64 1.656q.649.602 1.774.602t1.773-.602q.649-.61.649-1.656 0-1.055-.649-1.656-.64-.602-1.773-.602zm-1.578-.672q-1.016-.25-1.586-.945-.563-.695-.563-1.695 0-1.399.993-2.211 1-.813 2.734-.813 1.742 0 2.734.813.993.812.993 2.21 0 1-.57 1.696-.563.695-1.571.945 1.14.266 1.773 1.04.641.773.641 1.89 0 1.695-1.04 2.602-1.03.906-2.96.906t-2.969-.906Q6 26.738 6 25.043q0-1.117.64-1.89.641-.774 1.782-1.04zm-.578-2.492q0 .906.562 1.414.57.508 1.594.508 1.016 0 1.586-.508.578-.508.578-1.414 0-.906-.578-1.414-.57-.508-1.586-.508-1.023 0-1.594.508-.562.508-.562 1.414z\" /></g><rect x=\"15\" y=\"330\" width=\"45\" height=\"45\" class=\"square dark a1\" stroke=\"none\" fill=\"#d18b47\" /><rect x=\"60\" y=\"330\" width=\"45\" height=\"45\" class=\"square light b1\" stroke=\"none\" fill=\"#ffce9e\" /><rect x=\"105\" y=\"330\" width=\"45\" height=\"45\" class=\"square dark c1\" stroke=\"none\" fill=\"#d18b47\" /><rect x=\"150\" y=\"330\" width=\"45\" height=\"45\" class=\"square light d1\" stroke=\"none\" fill=\"#ffce9e\" /><rect x=\"195\" y=\"330\" width=\"45\" height=\"45\" class=\"square dark e1\" stroke=\"none\" fill=\"#d18b47\" /><rect x=\"240\" y=\"330\" width=\"45\" height=\"45\" class=\"square light lastmove f1\" stroke=\"none\" fill=\"#cdd16a\" /><rect x=\"285\" y=\"330\" width=\"45\" height=\"45\" class=\"square dark g1\" stroke=\"none\" fill=\"#d18b47\" /><rect x=\"330\" y=\"330\" width=\"45\" height=\"45\" class=\"square light h1\" stroke=\"none\" fill=\"#ffce9e\" /><rect x=\"15\" y=\"285\" width=\"45\" height=\"45\" class=\"square light a2\" stroke=\"none\" fill=\"#ffce9e\" /><rect x=\"60\" y=\"285\" width=\"45\" height=\"45\" class=\"square dark b2\" stroke=\"none\" fill=\"#d18b47\" /><rect x=\"105\" y=\"285\" width=\"45\" height=\"45\" class=\"square light c2\" stroke=\"none\" fill=\"#ffce9e\" /><rect x=\"150\" y=\"285\" width=\"45\" height=\"45\" class=\"square dark d2\" stroke=\"none\" fill=\"#d18b47\" /><rect x=\"195\" y=\"285\" width=\"45\" height=\"45\" class=\"square light e2\" stroke=\"none\" fill=\"#ffce9e\" /><rect x=\"240\" y=\"285\" width=\"45\" height=\"45\" class=\"square dark f2\" stroke=\"none\" fill=\"#d18b47\" /><rect x=\"285\" y=\"285\" width=\"45\" height=\"45\" class=\"square light g2\" stroke=\"none\" fill=\"#ffce9e\" /><rect x=\"330\" y=\"285\" width=\"45\" height=\"45\" class=\"square dark h2\" stroke=\"none\" fill=\"#d18b47\" /><rect x=\"15\" y=\"240\" width=\"45\" height=\"45\" class=\"square dark a3\" stroke=\"none\" fill=\"#d18b47\" /><rect x=\"60\" y=\"240\" width=\"45\" height=\"45\" class=\"square light b3\" stroke=\"none\" fill=\"#ffce9e\" /><rect x=\"105\" y=\"240\" width=\"45\" height=\"45\" class=\"square dark c3\" stroke=\"none\" fill=\"#d18b47\" /><rect x=\"150\" y=\"240\" width=\"45\" height=\"45\" class=\"square light d3\" stroke=\"none\" fill=\"#ffce9e\" /><rect x=\"195\" y=\"240\" width=\"45\" height=\"45\" class=\"square dark e3\" stroke=\"none\" fill=\"#d18b47\" /><rect x=\"240\" y=\"240\" width=\"45\" height=\"45\" class=\"square light f3\" stroke=\"none\" fill=\"#ffce9e\" /><rect x=\"285\" y=\"240\" width=\"45\" height=\"45\" class=\"square dark g3\" stroke=\"none\" fill=\"#d18b47\" /><rect x=\"330\" y=\"240\" width=\"45\" height=\"45\" class=\"square light h3\" stroke=\"none\" fill=\"#ffce9e\" /><rect x=\"15\" y=\"195\" width=\"45\" height=\"45\" class=\"square light a4\" stroke=\"none\" fill=\"#ffce9e\" /><rect x=\"60\" y=\"195\" width=\"45\" height=\"45\" class=\"square dark b4\" stroke=\"none\" fill=\"#d18b47\" /><rect x=\"105\" y=\"195\" width=\"45\" height=\"45\" class=\"square light c4\" stroke=\"none\" fill=\"#ffce9e\" /><rect x=\"150\" y=\"195\" width=\"45\" height=\"45\" class=\"square dark d4\" stroke=\"none\" fill=\"#d18b47\" /><rect x=\"195\" y=\"195\" width=\"45\" height=\"45\" class=\"square light e4\" stroke=\"none\" fill=\"#ffce9e\" /><rect x=\"240\" y=\"195\" width=\"45\" height=\"45\" class=\"square dark f4\" stroke=\"none\" fill=\"#d18b47\" /><rect x=\"285\" y=\"195\" width=\"45\" height=\"45\" class=\"square light g4\" stroke=\"none\" fill=\"#ffce9e\" /><rect x=\"330\" y=\"195\" width=\"45\" height=\"45\" class=\"square dark h4\" stroke=\"none\" fill=\"#d18b47\" /><rect x=\"15\" y=\"150\" width=\"45\" height=\"45\" class=\"square dark a5\" stroke=\"none\" fill=\"#d18b47\" /><rect x=\"60\" y=\"150\" width=\"45\" height=\"45\" class=\"square light lastmove b5\" stroke=\"none\" fill=\"#cdd16a\" /><rect x=\"105\" y=\"150\" width=\"45\" height=\"45\" class=\"square dark c5\" stroke=\"none\" fill=\"#d18b47\" /><rect x=\"150\" y=\"150\" width=\"45\" height=\"45\" class=\"square light d5\" stroke=\"none\" fill=\"#ffce9e\" /><rect x=\"195\" y=\"150\" width=\"45\" height=\"45\" class=\"square dark e5\" stroke=\"none\" fill=\"#d18b47\" /><rect x=\"240\" y=\"150\" width=\"45\" height=\"45\" class=\"square light f5\" stroke=\"none\" fill=\"#ffce9e\" /><rect x=\"285\" y=\"150\" width=\"45\" height=\"45\" class=\"square dark g5\" stroke=\"none\" fill=\"#d18b47\" /><rect x=\"330\" y=\"150\" width=\"45\" height=\"45\" class=\"square light h5\" stroke=\"none\" fill=\"#ffce9e\" /><rect x=\"15\" y=\"105\" width=\"45\" height=\"45\" class=\"square light a6\" stroke=\"none\" fill=\"#ffce9e\" /><rect x=\"60\" y=\"105\" width=\"45\" height=\"45\" class=\"square dark b6\" stroke=\"none\" fill=\"#d18b47\" /><rect x=\"105\" y=\"105\" width=\"45\" height=\"45\" class=\"square light c6\" stroke=\"none\" fill=\"#ffce9e\" /><rect x=\"150\" y=\"105\" width=\"45\" height=\"45\" class=\"square dark d6\" stroke=\"none\" fill=\"#d18b47\" /><rect x=\"195\" y=\"105\" width=\"45\" height=\"45\" class=\"square light e6\" stroke=\"none\" fill=\"#ffce9e\" /><rect x=\"240\" y=\"105\" width=\"45\" height=\"45\" class=\"square dark f6\" stroke=\"none\" fill=\"#d18b47\" /><rect x=\"285\" y=\"105\" width=\"45\" height=\"45\" class=\"square light g6\" stroke=\"none\" fill=\"#ffce9e\" /><rect x=\"330\" y=\"105\" width=\"45\" height=\"45\" class=\"square dark h6\" stroke=\"none\" fill=\"#d18b47\" /><rect x=\"15\" y=\"60\" width=\"45\" height=\"45\" class=\"square dark a7\" stroke=\"none\" fill=\"#d18b47\" /><rect x=\"60\" y=\"60\" width=\"45\" height=\"45\" class=\"square light b7\" stroke=\"none\" fill=\"#ffce9e\" /><rect x=\"105\" y=\"60\" width=\"45\" height=\"45\" class=\"square dark c7\" stroke=\"none\" fill=\"#d18b47\" /><rect x=\"150\" y=\"60\" width=\"45\" height=\"45\" class=\"square light d7\" stroke=\"none\" fill=\"#ffce9e\" /><rect x=\"195\" y=\"60\" width=\"45\" height=\"45\" class=\"square dark e7\" stroke=\"none\" fill=\"#d18b47\" /><rect x=\"240\" y=\"60\" width=\"45\" height=\"45\" class=\"square light f7\" stroke=\"none\" fill=\"#ffce9e\" /><rect x=\"285\" y=\"60\" width=\"45\" height=\"45\" class=\"square dark g7\" stroke=\"none\" fill=\"#d18b47\" /><rect x=\"330\" y=\"60\" width=\"45\" height=\"45\" class=\"square light h7\" stroke=\"none\" fill=\"#ffce9e\" /><rect x=\"15\" y=\"15\" width=\"45\" height=\"45\" class=\"square light a8\" stroke=\"none\" fill=\"#ffce9e\" /><rect x=\"60\" y=\"15\" width=\"45\" height=\"45\" class=\"square dark b8\" stroke=\"none\" fill=\"#d18b47\" /><rect x=\"105\" y=\"15\" width=\"45\" height=\"45\" class=\"square light c8\" stroke=\"none\" fill=\"#ffce9e\" /><rect x=\"150\" y=\"15\" width=\"45\" height=\"45\" class=\"square dark d8\" stroke=\"none\" fill=\"#d18b47\" /><rect x=\"195\" y=\"15\" width=\"45\" height=\"45\" class=\"square light e8\" stroke=\"none\" fill=\"#ffce9e\" /><rect x=\"240\" y=\"15\" width=\"45\" height=\"45\" class=\"square dark f8\" stroke=\"none\" fill=\"#d18b47\" /><rect x=\"285\" y=\"15\" width=\"45\" height=\"45\" class=\"square light g8\" stroke=\"none\" fill=\"#ffce9e\" /><rect x=\"330\" y=\"15\" width=\"45\" height=\"45\" class=\"square dark h8\" stroke=\"none\" fill=\"#d18b47\" /><rect x=\"285\" y=\"285\" width=\"45\" height=\"45\" class=\"check\" fill=\"url(#check_gradient)\" /><use href=\"#black-queen\" xlink:href=\"#black-queen\" transform=\"translate(105, 330)\" /><use href=\"#black-queen\" xlink:href=\"#black-queen\" transform=\"translate(240, 330)\" /><use href=\"#white-pawn\" xlink:href=\"#white-pawn\" transform=\"translate(240, 285)\" /><use href=\"#white-king\" xlink:href=\"#white-king\" transform=\"translate(285, 285)\" /><use href=\"#white-pawn\" xlink:href=\"#white-pawn\" transform=\"translate(330, 285)\" /><use href=\"#black-pawn\" xlink:href=\"#black-pawn\" transform=\"translate(60, 240)\" /><use href=\"#white-pawn\" xlink:href=\"#white-pawn\" transform=\"translate(285, 240)\" /><use href=\"#black-pawn\" xlink:href=\"#black-pawn\" transform=\"translate(285, 195)\" /><use href=\"#black-pawn\" xlink:href=\"#black-pawn\" transform=\"translate(15, 150)\" /><use href=\"#black-pawn\" xlink:href=\"#black-pawn\" transform=\"translate(240, 60)\" /><use href=\"#black-pawn\" xlink:href=\"#black-pawn\" transform=\"translate(330, 60)\" /><use href=\"#black-king\" xlink:href=\"#black-king\" transform=\"translate(330, 15)\" /></svg>"
            ]
          },
          "metadata": {}
        },
        {
          "output_type": "stream",
          "name": "stdout",
          "text": [
            "cache_hit 158\n",
            "cache_called 4130\n"
          ]
        }
      ]
    },
    {
      "cell_type": "code",
      "source": [
        "print(board.move_stack)"
      ],
      "metadata": {
        "colab": {
          "base_uri": "https://localhost:8080/"
        },
        "id": "nhMTk1dBljAY",
        "outputId": "f0fd0045-03d0-4cf3-a735-054fe32f27d9"
      },
      "execution_count": null,
      "outputs": [
        {
          "output_type": "stream",
          "name": "stdout",
          "text": [
            "[Move.from_uci('c2c3'), Move.from_uci('c6a5'), Move.from_uci('b3c2'), Move.from_uci('c7c5'), Move.from_uci('d3d4'), Move.from_uci('e5d4'), Move.from_uci('c3d4'), Move.from_uci('e8g8'), Move.from_uci('d4d5'), Move.from_uci('a5c4'), Move.from_uci('b2b3'), Move.from_uci('c4e5'), Move.from_uci('f3e5'), Move.from_uci('d6e5'), Move.from_uci('c1b2'), Move.from_uci('f6d7'), Move.from_uci('d5d6'), Move.from_uci('e7f6'), Move.from_uci('d1e2'), Move.from_uci('d8b6'), Move.from_uci('b1c3'), Move.from_uci('b6d6'), Move.from_uci('c3d5'), Move.from_uci('b7c6'), Move.from_uci('e1d1'), Move.from_uci('f6h4'), Move.from_uci('g2g3'), Move.from_uci('h4g5'), Move.from_uci('b2c1'), Move.from_uci('g5d8'), Move.from_uci('d5e3'), Move.from_uci('d6c7'), Move.from_uci('c1b2'), Move.from_uci('g8h8'), Move.from_uci('d1d2'), Move.from_uci('f8e8'), Move.from_uci('a1d1'), Move.from_uci('d7f8'), Move.from_uci('d2d6'), Move.from_uci('d8g5'), Move.from_uci('d6d2'), Move.from_uci('g5e3'), Move.from_uci('e2e3'), Move.from_uci('f8e6'), Move.from_uci('e3d3'), Move.from_uci('e8d8'), Move.from_uci('d3e3'), Move.from_uci('d8d2'), Move.from_uci('d1d2'), Move.from_uci('e6d4'), Move.from_uci('c2d1'), Move.from_uci('a6a5'), Move.from_uci('b2d4'), Move.from_uci('e5d4'), Move.from_uci('e3e2'), Move.from_uci('a8e8'), Move.from_uci('g1g2'), Move.from_uci('e8e4'), Move.from_uci('e2d3'), Move.from_uci('e4e3'), Move.from_uci('g2g1'), Move.from_uci('e3e1'), Move.from_uci('d3f1'), Move.from_uci('e1f1'), Move.from_uci('g1f1'), Move.from_uci('g7g6'), Move.from_uci('f1g1'), Move.from_uci('g6g5'), Move.from_uci('d1f3'), Move.from_uci('c6e8'), Move.from_uci('f3h5'), Move.from_uci('e8c6'), Move.from_uci('h5f3'), Move.from_uci('c6d7'), Move.from_uci('d2c2'), Move.from_uci('d7h3'), Move.from_uci('f3a8'), Move.from_uci('d4d3'), Move.from_uci('a8g2'), Move.from_uci('d3c2'), Move.from_uci('g2h3'), Move.from_uci('c2c1q'), Move.from_uci('h3f1'), Move.from_uci('g5g4'), Move.from_uci('a2a4'), Move.from_uci('c5c4'), Move.from_uci('a4b5'), Move.from_uci('c4b3'), Move.from_uci('b5b6'), Move.from_uci('c7b6'), Move.from_uci('g1g2'), Move.from_uci('b6c6'), Move.from_uci('g2g1'), Move.from_uci('c6b5'), Move.from_uci('g1g2'), Move.from_uci('b5f1')]\n"
          ]
        }
      ]
    },
    {
      "cell_type": "code",
      "source": [
        "moves = []\n",
        "for move in board.move_stack:\n",
        "    moves.append(move)\n",
        "print(moves)"
      ],
      "metadata": {
        "colab": {
          "base_uri": "https://localhost:8080/"
        },
        "id": "FLT23iI2o5MR",
        "outputId": "d44f2a6e-ec3a-469b-9957-6b0575112f1a"
      },
      "execution_count": null,
      "outputs": [
        {
          "output_type": "stream",
          "name": "stdout",
          "text": [
            "[Move.from_uci('c2c3'), Move.from_uci('c6a5'), Move.from_uci('b3c2'), Move.from_uci('c7c5'), Move.from_uci('d3d4'), Move.from_uci('e5d4'), Move.from_uci('c3d4'), Move.from_uci('e8g8'), Move.from_uci('d4d5'), Move.from_uci('a5c4'), Move.from_uci('b2b3'), Move.from_uci('c4e5'), Move.from_uci('f3e5'), Move.from_uci('d6e5'), Move.from_uci('c1b2'), Move.from_uci('f6d7'), Move.from_uci('d5d6'), Move.from_uci('e7f6'), Move.from_uci('d1e2'), Move.from_uci('d8b6'), Move.from_uci('b1c3'), Move.from_uci('b6d6'), Move.from_uci('c3d5'), Move.from_uci('b7c6'), Move.from_uci('e1d1'), Move.from_uci('f6h4'), Move.from_uci('g2g3'), Move.from_uci('h4g5'), Move.from_uci('b2c1'), Move.from_uci('g5d8'), Move.from_uci('d5e3'), Move.from_uci('d6c7'), Move.from_uci('c1b2'), Move.from_uci('g8h8'), Move.from_uci('d1d2'), Move.from_uci('f8e8'), Move.from_uci('a1d1'), Move.from_uci('d7f8'), Move.from_uci('d2d6'), Move.from_uci('d8g5'), Move.from_uci('d6d2'), Move.from_uci('g5e3'), Move.from_uci('e2e3'), Move.from_uci('f8e6'), Move.from_uci('e3d3'), Move.from_uci('e8d8'), Move.from_uci('d3e3'), Move.from_uci('d8d2'), Move.from_uci('d1d2'), Move.from_uci('e6d4'), Move.from_uci('c2d1'), Move.from_uci('a6a5'), Move.from_uci('b2d4'), Move.from_uci('e5d4'), Move.from_uci('e3e2'), Move.from_uci('a8e8'), Move.from_uci('g1g2'), Move.from_uci('e8e4'), Move.from_uci('e2d3'), Move.from_uci('e4e3'), Move.from_uci('g2g1'), Move.from_uci('e3e1'), Move.from_uci('d3f1'), Move.from_uci('e1f1'), Move.from_uci('g1f1'), Move.from_uci('g7g6'), Move.from_uci('f1g1'), Move.from_uci('g6g5'), Move.from_uci('d1f3'), Move.from_uci('c6e8'), Move.from_uci('f3h5'), Move.from_uci('e8c6'), Move.from_uci('h5f3'), Move.from_uci('c6d7'), Move.from_uci('d2c2'), Move.from_uci('d7h3'), Move.from_uci('f3a8'), Move.from_uci('d4d3'), Move.from_uci('a8g2'), Move.from_uci('d3c2'), Move.from_uci('g2h3'), Move.from_uci('c2c1q'), Move.from_uci('h3f1'), Move.from_uci('g5g4'), Move.from_uci('a2a4'), Move.from_uci('c5c4'), Move.from_uci('a4b5'), Move.from_uci('c4b3'), Move.from_uci('b5b6'), Move.from_uci('c7b6'), Move.from_uci('g1g2'), Move.from_uci('b6c6'), Move.from_uci('g2g1'), Move.from_uci('c6b5'), Move.from_uci('g1g2'), Move.from_uci('b5f1')]\n"
          ]
        }
      ]
    },
    {
      "cell_type": "code",
      "source": [
        "game_length = len(moves)\n",
        "now = datetime.datetime.now()\n",
        "now = now.strftime(\"%H:%M %B %d, %Y\")"
      ],
      "metadata": {
        "id": "hg9RQFGlo9oI"
      },
      "execution_count": null,
      "outputs": []
    },
    {
      "cell_type": "code",
      "source": [
        "generate_pgn_file(moves, PGN_FILE_PATH + 'game-stockfish-2000-black5' + now + '.pgn', start_fen)"
      ],
      "metadata": {
        "id": "emfBVY8XpAqx"
      },
      "execution_count": null,
      "outputs": []
    },
    {
      "cell_type": "code",
      "source": [],
      "metadata": {
        "id": "k4Dlrvt0sl97"
      },
      "execution_count": null,
      "outputs": []
    }
  ],
  "metadata": {
    "colab": {
      "collapsed_sections": [
        "AyRODdF9Iy8y",
        "YzHM8MiXH9No",
        "GMPamLxTIHMf",
        "3SeXgaiyJAzP",
        "95qfeKhT-vMY",
        "9fww9UpnPphQ",
        "RUxS9JQjPuV5",
        "BOaJ0V705siJ",
        "R6YOlkE9P77_",
        "oMzUYX5nQKfg",
        "un5uGBv-QSNn",
        "UZcx84pcQcYz",
        "khKec5RMP2vH",
        "MD-LvUv-PzY3",
        "b98GIOVtR1UY",
        "7AT7qm7h3DKu",
        "hzk5Cs7s2-4G",
        "Ts6qOMF727bB",
        "D0-xN5GGz11e",
        "-de6JLby-z4Z",
        "jkf7O_n6Jn-u",
        "oTNMNTysJO-f",
        "2avKI_bFJW52",
        "5eW-xxRUJJMJ",
        "q5fbbKnvIm3z",
        "vE6-riAxIeto",
        "eqdpzwHLLSH_",
        "QifQak9VNMUe",
        "d3ytsFtaNKov",
        "z1SMoK5QR-8H",
        "_9FN3KdKnh93",
        "3VqZfBn1vWIm",
        "EEy0KUf7vand",
        "GZuRCXM4vdN7",
        "BtbxwAERvRjE",
        "vw6JDz_su7CF",
        "f0SaXIswv071",
        "6f3eZV0E5IR9",
        "sqHXC6HjH2GB",
        "kyWKOU2xo_6P",
        "wXE0xg-_pDYt",
        "OoK7EzWIo6Vv",
        "xaE9HmRRpJ3g",
        "AvXno2WIb89s",
        "2nhVZewMW8he",
        "9qgk6L0qTZpC",
        "_xwrsrAQjrS4"
      ],
      "provenance": []
    },
    "kernelspec": {
      "display_name": "Python 3",
      "name": "python3"
    },
    "language_info": {
      "name": "python"
    }
  },
  "nbformat": 4,
  "nbformat_minor": 0
}